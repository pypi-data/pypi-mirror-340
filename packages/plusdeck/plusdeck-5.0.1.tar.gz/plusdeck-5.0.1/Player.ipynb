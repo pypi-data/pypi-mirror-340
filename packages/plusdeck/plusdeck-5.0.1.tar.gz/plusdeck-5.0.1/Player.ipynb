{
 "cells": [
  {
   "cell_type": "code",
   "execution_count": 1,
   "id": "16a10a84-861c-482b-ba64-7a3da015713c",
   "metadata": {},
   "outputs": [],
   "source": [
    "%autoawait asyncio\n",
    "\n",
    "from plusdeck.config import Config\n",
    "from plusdeck.client import create_connection\n",
    "from plusdeck.jupyter import ConfigEditor, player"
   ]
  },
  {
   "cell_type": "code",
   "execution_count": 2,
   "id": "a7f481af-6603-4186-b85d-b8331e1c2230",
   "metadata": {},
   "outputs": [],
   "source": [
    "config = Config.from_file(load_environment=True)"
   ]
  },
  {
   "cell_type": "code",
   "execution_count": 3,
   "id": "5903c42a-1af2-4437-9e2e-a350b853f0d8",
   "metadata": {},
   "outputs": [
    {
     "data": {
      "application/vnd.jupyter.widget-view+json": {
       "model_id": "74882dd801a24b1594f5740f79a3db9f",
       "version_major": 2,
       "version_minor": 0
      },
      "text/plain": [
       "ConfigEditor(children=(SelectMultiple(description='Serial Port', index=(0,), options=('/dev/ttyUSB0',), value=…"
      ]
     },
     "execution_count": 3,
     "metadata": {},
     "output_type": "execute_result"
    }
   ],
   "source": [
    "editor = ConfigEditor(config)\n",
    "editor"
   ]
  },
  {
   "cell_type": "code",
   "execution_count": 4,
   "id": "131cf289-eb40-47f8-ba89-e3186afacb76",
   "metadata": {},
   "outputs": [],
   "source": [
    "client = await create_connection(editor.value.port)"
   ]
  },
  {
   "cell_type": "code",
   "execution_count": 5,
   "id": "71e87ac1-e269-4ff1-8854-12a0733a676a",
   "metadata": {},
   "outputs": [
    {
     "data": {
      "application/vnd.jupyter.widget-view+json": {
       "model_id": "4e70cc1528534c7b835cf0cc72359eef",
       "version_major": 2,
       "version_minor": 0
      },
      "text/plain": [
       "HBox(children=(VBox(children=(Button(description='⏸️', layout=Layout(width='95%'), style=ButtonStyle(), toolti…"
      ]
     },
     "execution_count": 5,
     "metadata": {},
     "output_type": "execute_result"
    }
   ],
   "source": [
    "await player(client)"
   ]
  }
 ],
 "metadata": {
  "kernelspec": {
   "display_name": "Python 3 (ipykernel)",
   "language": "python",
   "name": "python3"
  },
  "language_info": {
   "codemirror_mode": {
    "name": "ipython",
    "version": 3
   },
   "file_extension": ".py",
   "mimetype": "text/x-python",
   "name": "python",
   "nbconvert_exporter": "python",
   "pygments_lexer": "ipython3",
   "version": "3.12.1"
  }
 },
 "nbformat": 4,
 "nbformat_minor": 5
}
