{
 "cells": [
  {
   "cell_type": "code",
   "execution_count": 1,
   "metadata": {},
   "outputs": [],
   "source": [
    "import os\n",
    "import sys\n",
    "\n",
    "# Add the project root to the Python path\n",
    "project_root = os.path.abspath(os.path.join(os.getcwd(), \"..\", \"..\", \"..\"))\n",
    "sys.path.insert(0, project_root)\n",
    "\n",
    "os.environ[\"MONGODB_URI\"] = \"\"\n",
    "os.environ[\"OPENAI_API_KEY\"] = \"\""
   ]
  },
  {
   "cell_type": "code",
   "execution_count": 2,
   "metadata": {},
   "outputs": [],
   "source": [
    "from src.memorizz.memory_provider.mongodb.provider import MongoDBConfig, MongoDBProvider\n",
    "\n",
    "# Create a memory provider\n",
    "mongodb_config = MongoDBConfig(uri=os.environ[\"MONGODB_URI\"])\n",
    "memory_provider = MongoDBProvider(mongodb_config)"
   ]
  },
  {
   "cell_type": "code",
   "execution_count": 3,
   "metadata": {},
   "outputs": [],
   "source": [
    "from src.memorizz.toolbox import Toolbox\n",
    "\n",
    "# Create a toolbox\n",
    "toolbox = Toolbox(memory_provider)"
   ]
  },
  {
   "cell_type": "code",
   "execution_count": 4,
   "metadata": {},
   "outputs": [
    {
     "name": "stderr",
     "output_type": "stream",
     "text": [
      "INFO:httpx:HTTP Request: POST https://api.openai.com/v1/embeddings \"HTTP/1.1 200 OK\"\n"
     ]
    }
   ],
   "source": [
    "@toolbox.register_tool\n",
    "def get_stock_price(ticker: str, currency: str = \"USD\") -> str:\n",
    "    \"\"\"\n",
    "    Get the current stock price for a specified ticker symbol.\n",
    "\n",
    "    Parameters:\n",
    "    -----------\n",
    "    ticker : str\n",
    "        The stock ticker symbol (e.g., \"AAPL\" for Apple).\n",
    "    currency : str, optional\n",
    "        The currency in which the price should be returned (default is USD).\n",
    "\n",
    "    Returns:\n",
    "    --------\n",
    "    str\n",
    "        A description of the current stock price.\n",
    "    \"\"\"\n",
    "    # Implementation here\n",
    "    pass"
   ]
  },
  {
   "cell_type": "code",
   "execution_count": 5,
   "metadata": {},
   "outputs": [
    {
     "data": {
      "text/plain": [
       "{'_id': ObjectId('67fc1260b0f9be100ffb6b2d'),\n",
       " 'tool_id': '8cd2c240-0423-4feb-a380-55f0af496fa9',\n",
       " 'type': 'function',\n",
       " 'name': 'get_stock_price',\n",
       " 'docstring': '\\n    Get the current stock price for a specified ticker symbol.\\n\\n    Parameters:\\n    -----------\\n    ticker : str\\n        The stock ticker symbol (e.g., \"AAPL\" for Apple).\\n    currency : str, optional\\n        The currency in which the price should be returned (default is USD).\\n\\n    Returns:\\n    --------\\n    str\\n        A description of the current stock price.\\n    ',\n",
       " 'signature': \"(ticker: str, currency: str = 'USD') -> str\"}"
      ]
     },
     "execution_count": 5,
     "metadata": {},
     "output_type": "execute_result"
    }
   ],
   "source": [
    "# Get a tool by name\n",
    "specific_tool = toolbox.get_tool_by_name(\"get_stock_price\")\n",
    "specific_tool\n"
   ]
  },
  {
   "cell_type": "code",
   "execution_count": 6,
   "metadata": {},
   "outputs": [
    {
     "name": "stderr",
     "output_type": "stream",
     "text": [
      "INFO:httpx:HTTP Request: POST https://api.openai.com/v1/embeddings \"HTTP/1.1 200 OK\"\n"
     ]
    },
    {
     "data": {
      "text/plain": [
       "[{'_id': ObjectId('67fc1260b0f9be100ffb6b2d'),\n",
       "  'tool_id': '8cd2c240-0423-4feb-a380-55f0af496fa9',\n",
       "  'type': 'function',\n",
       "  'name': 'get_stock_price',\n",
       "  'docstring': '\\n    Get the current stock price for a specified ticker symbol.\\n\\n    Parameters:\\n    -----------\\n    ticker : str\\n        The stock ticker symbol (e.g., \"AAPL\" for Apple).\\n    currency : str, optional\\n        The currency in which the price should be returned (default is USD).\\n\\n    Returns:\\n    --------\\n    str\\n        A description of the current stock price.\\n    ',\n",
       "  'signature': \"(ticker: str, currency: str = 'USD') -> str\",\n",
       "  'score': 0.8110098838806152,\n",
       "  'function': <function __main__.get_stock_price(ticker: str, currency: str = 'USD') -> str>}]"
      ]
     },
     "execution_count": 6,
     "metadata": {},
     "output_type": "execute_result"
    }
   ],
   "source": [
    "# Get similar tools\n",
    "similar_tools = toolbox.get_most_similar_tools(\"Get the stock price for Apple\", limit=3)\n",
    "similar_tools"
   ]
  },
  {
   "cell_type": "code",
   "execution_count": 7,
   "metadata": {},
   "outputs": [
    {
     "data": {
      "text/plain": [
       "[{'_id': ObjectId('67fc1260b0f9be100ffb6b2d'),\n",
       "  'tool_id': '8cd2c240-0423-4feb-a380-55f0af496fa9',\n",
       "  'type': 'function',\n",
       "  'name': 'get_stock_price',\n",
       "  'docstring': '\\n    Get the current stock price for a specified ticker symbol.\\n\\n    Parameters:\\n    -----------\\n    ticker : str\\n        The stock ticker symbol (e.g., \"AAPL\" for Apple).\\n    currency : str, optional\\n        The currency in which the price should be returned (default is USD).\\n\\n    Returns:\\n    --------\\n    str\\n        A description of the current stock price.\\n    ',\n",
       "  'signature': \"(ticker: str, currency: str = 'USD') -> str\",\n",
       "  'function': <function __main__.get_stock_price(ticker: str, currency: str = 'USD') -> str>}]"
      ]
     },
     "execution_count": 7,
     "metadata": {},
     "output_type": "execute_result"
    }
   ],
   "source": [
    "list_all_tools = toolbox.list_tools()\n",
    "list_all_tools"
   ]
  },
  {
   "cell_type": "code",
   "execution_count": 8,
   "metadata": {},
   "outputs": [
    {
     "data": {
      "text/plain": [
       "{'_id': ObjectId('67fc1260b0f9be100ffb6b2d'),\n",
       " 'tool_id': '8cd2c240-0423-4feb-a380-55f0af496fa9',\n",
       " 'type': 'function',\n",
       " 'name': 'get_stock_price',\n",
       " 'docstring': '\\n    Get the current stock price for a specified ticker symbol.\\n\\n    Parameters:\\n    -----------\\n    ticker : str\\n        The stock ticker symbol (e.g., \"AAPL\" for Apple).\\n    currency : str, optional\\n        The currency in which the price should be returned (default is USD).\\n\\n    Returns:\\n    --------\\n    str\\n        A description of the current stock price.\\n    ',\n",
       " 'signature': \"(ticker: str, currency: str = 'USD') -> str\"}"
      ]
     },
     "execution_count": 8,
     "metadata": {},
     "output_type": "execute_result"
    }
   ],
   "source": [
    "# Get a tool by id\n",
    "tool_id = similar_tools[0][\"tool_id\"]\n",
    "tool_retrieved_by_id = toolbox.get_tool_by_id(tool_id)\n",
    "tool_retrieved_by_id"
   ]
  },
  {
   "cell_type": "code",
   "execution_count": 9,
   "metadata": {},
   "outputs": [
    {
     "data": {
      "text/plain": [
       "True"
      ]
     },
     "execution_count": 9,
     "metadata": {},
     "output_type": "execute_result"
    }
   ],
   "source": [
    "updated_tool = toolbox.update_tool_by_id(tool_id, {\"name\": \"get_stock_price_for_american_companies\"})\n",
    "updated_tool"
   ]
  },
  {
   "cell_type": "code",
   "execution_count": 10,
   "metadata": {},
   "outputs": [
    {
     "data": {
      "text/plain": [
       "{'_id': ObjectId('67fc1260b0f9be100ffb6b2d'),\n",
       " 'tool_id': '8cd2c240-0423-4feb-a380-55f0af496fa9',\n",
       " 'type': 'function',\n",
       " 'name': 'get_stock_price_for_american_companies',\n",
       " 'docstring': '\\n    Get the current stock price for a specified ticker symbol.\\n\\n    Parameters:\\n    -----------\\n    ticker : str\\n        The stock ticker symbol (e.g., \"AAPL\" for Apple).\\n    currency : str, optional\\n        The currency in which the price should be returned (default is USD).\\n\\n    Returns:\\n    --------\\n    str\\n        A description of the current stock price.\\n    ',\n",
       " 'signature': \"(ticker: str, currency: str = 'USD') -> str\"}"
      ]
     },
     "execution_count": 10,
     "metadata": {},
     "output_type": "execute_result"
    }
   ],
   "source": [
    "retrieved_updated_tool = toolbox.get_tool_by_id(tool_id)\n",
    "retrieved_updated_tool\n"
   ]
  },
  {
   "cell_type": "code",
   "execution_count": 11,
   "metadata": {},
   "outputs": [],
   "source": [
    "# Delete a tool by name\n",
    "success = toolbox.delete_tool_by_name(\"get_stock_price\")\n",
    "success"
   ]
  },
  {
   "cell_type": "code",
   "execution_count": null,
   "metadata": {},
   "outputs": [
    {
     "data": {
      "text/plain": [
       "True"
      ]
     },
     "execution_count": 12,
     "metadata": {},
     "output_type": "execute_result"
    }
   ],
   "source": [
    "# Delete a tool by id\n",
    "success_deleting_tool_by_id = toolbox.delete_tool_by_id(tool_id)\n",
    "success_deleting_tool_by_id\n"
   ]
  },
  {
   "cell_type": "code",
   "execution_count": 13,
   "metadata": {},
   "outputs": [
    {
     "data": {
      "text/plain": [
       "False"
      ]
     },
     "execution_count": 13,
     "metadata": {},
     "output_type": "execute_result"
    }
   ],
   "source": [
    "# Delete all tools\n",
    "success_deleting_all_tools = toolbox.delete_all()\n",
    "success_deleting_all_tools"
   ]
  }
 ],
 "metadata": {
  "kernelspec": {
   "display_name": "memorizz",
   "language": "python",
   "name": "python3"
  },
  "language_info": {
   "codemirror_mode": {
    "name": "ipython",
    "version": 3
   },
   "file_extension": ".py",
   "mimetype": "text/x-python",
   "name": "python",
   "nbconvert_exporter": "python",
   "pygments_lexer": "ipython3",
   "version": "3.9.19"
  }
 },
 "nbformat": 4,
 "nbformat_minor": 2
}
