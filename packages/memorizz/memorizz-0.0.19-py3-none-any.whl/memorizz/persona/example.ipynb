{
 "cells": [
  {
   "cell_type": "code",
   "execution_count": 3,
   "metadata": {},
   "outputs": [],
   "source": [
    "import os\n",
    "import sys\n",
    "\n",
    "# Add the project root to the Python path\n",
    "project_root = os.path.abspath(os.path.join(os.getcwd(), \"..\", \"..\", \"..\"))\n",
    "sys.path.insert(0, project_root)\n",
    "\n",
    "os.environ[\"MONGODB_URI\"] = \"\"\n",
    "os.environ[\"OPENAI_API_KEY\"] = \"\""
   ]
  },
  {
   "cell_type": "code",
   "execution_count": 4,
   "metadata": {},
   "outputs": [],
   "source": [
    "from src.memorizz.memory_provider.mongodb.provider import MongoDBConfig, MongoDBProvider\n",
    "\n",
    "# Create a memory provider\n",
    "mongodb_config = MongoDBConfig(uri=os.environ[\"MONGODB_URI\"])\n",
    "memory_provider = MongoDBProvider(mongodb_config)"
   ]
  },
  {
   "cell_type": "code",
   "execution_count": 5,
   "metadata": {},
   "outputs": [
    {
     "name": "stderr",
     "output_type": "stream",
     "text": [
      "INFO:httpx:HTTP Request: POST https://api.openai.com/v1/embeddings \"HTTP/1.1 200 OK\"\n"
     ]
    }
   ],
   "source": [
    "from src.memorizz.persona.persona import Persona\n",
    "from src.memorizz.persona.role_type import RoleType\n",
    "\n",
    "generic_persona = Persona(name=\"John Doe\", role=RoleType.GENERAL, goals=\"\", background=\"\")"
   ]
  },
  {
   "cell_type": "code",
   "execution_count": 7,
   "metadata": {},
   "outputs": [
    {
     "name": "stderr",
     "output_type": "stream",
     "text": [
      "INFO:httpx:HTTP Request: POST https://api.openai.com/v1/embeddings \"HTTP/1.1 200 OK\"\n"
     ]
    }
   ],
   "source": [
    "researcher_persona = Persona(name=\"Miri\",\n",
    "                             role=RoleType.RESEARCHER,\n",
    "                             goals=\"\"\"\n",
    "                                1. You are a researcher who is interested in the latest trends in the field of AI.\n",
    "                                2. You aim to find the latest trends in the field of AI.\n",
    "                                3. You respond in a concise manner.\n",
    "                                4. You ask for more information if needed.\n",
    "                                5. Your goal is to assist the user in only research related questions.\n",
    "                            \"\"\",\n",
    "                             background=\"\"\"\n",
    "                                1. You are a researcher who is interested in the latest trends in the field of AI.\n",
    "                                2. You are a PhD student at MIT.\n",
    "                                3. You are currently working on a project about the latest trends in the field of AI.\n",
    "                                4. You aim to provide the best advice and technical guidance to the user.\n",
    "                                5. You aim to provide the best responses to query so that the user can understand the topic and use your responses for further research\n",
    "                            \"\"\")"
   ]
  }
 ],
 "metadata": {
  "kernelspec": {
   "display_name": "memorizz",
   "language": "python",
   "name": "python3"
  },
  "language_info": {
   "codemirror_mode": {
    "name": "ipython",
    "version": 3
   },
   "file_extension": ".py",
   "mimetype": "text/x-python",
   "name": "python",
   "nbconvert_exporter": "python",
   "pygments_lexer": "ipython3",
   "version": "3.9.19"
  }
 },
 "nbformat": 4,
 "nbformat_minor": 2
}
