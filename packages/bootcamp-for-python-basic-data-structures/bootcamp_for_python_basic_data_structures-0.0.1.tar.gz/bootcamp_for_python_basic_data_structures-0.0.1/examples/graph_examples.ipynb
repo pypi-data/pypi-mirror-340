{
 "cells": [
  {
   "cell_type": "code",
   "execution_count": 1,
   "metadata": {},
   "outputs": [],
   "source": [
    "import os\n",
    "import sys\n",
    "sys.path.append(os.path.abspath(\"../data_structures\"))\n",
    "from graph import *"
   ]
  },
  {
   "cell_type": "markdown",
   "metadata": {},
   "source": [
    "Initialization"
   ]
  },
  {
   "cell_type": "code",
   "execution_count": 7,
   "metadata": {},
   "outputs": [],
   "source": [
    "g = Graph()"
   ]
  },
  {
   "cell_type": "markdown",
   "metadata": {},
   "source": [
    "Add Edge"
   ]
  },
  {
   "cell_type": "code",
   "execution_count": 8,
   "metadata": {},
   "outputs": [],
   "source": [
    "\n",
    "    \n",
    "g.add_edge('A', 'B')\n",
    "g.add_edge('B', 'C')\n",
    "g.add_edge('C', 'D')\n",
    "g.add_edge('D', 'B')\n",
    "g.add_edge('A', 'E')\n",
    "g.add_edge('E', 'F')\n",
    "g.add_edge('F', 'E')"
   ]
  },
  {
   "cell_type": "markdown",
   "metadata": {},
   "source": [
    "Display"
   ]
  },
  {
   "cell_type": "code",
   "execution_count": 9,
   "metadata": {},
   "outputs": [
    {
     "name": "stdout",
     "output_type": "stream",
     "text": [
      "A -> ['B', 'E']\n",
      "B -> ['C']\n",
      "C -> ['D']\n",
      "D -> ['B']\n",
      "E -> ['F']\n",
      "F -> ['E']\n"
     ]
    }
   ],
   "source": [
    "g.print_graph()"
   ]
  }
 ],
 "metadata": {
  "kernelspec": {
   "display_name": "Python 3",
   "language": "python",
   "name": "python3"
  },
  "language_info": {
   "codemirror_mode": {
    "name": "ipython",
    "version": 3
   },
   "file_extension": ".py",
   "mimetype": "text/x-python",
   "name": "python",
   "nbconvert_exporter": "python",
   "pygments_lexer": "ipython3",
   "version": "3.8.10"
  }
 },
 "nbformat": 4,
 "nbformat_minor": 2
}
