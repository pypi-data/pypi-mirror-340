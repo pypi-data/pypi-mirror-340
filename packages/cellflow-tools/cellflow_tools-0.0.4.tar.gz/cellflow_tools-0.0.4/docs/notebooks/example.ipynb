{
 "cells": [
  {
   "cell_type": "markdown",
   "metadata": {},
   "source": [
    "# Quickstart\n",
    "\n",
    "Here's a minimal example of how to run CellFlow."
   ]
  },
  {
   "cell_type": "code",
   "execution_count": null,
   "metadata": {},
   "outputs": [],
   "source": [
    "import cellflow\n",
    "\n",
    "# Initialize CellFlow\n",
    "cf = cellflow.model.CellFlow(adata, solver=\"otfm\")\n",
    "\n",
    "# Prepare the training data and perturbation conditions\n",
    "cf.prepare_data(\n",
    "    sample_rep=\"X_pca\",\n",
    "    control_key=\"CTRL\",\n",
    "    perturbation_covariates={\n",
    "        \"drugs\": [\"Dabrafenib\", \"Trametinib\"],\n",
    "        \"times\": [\"Dabrafenib_time\", \"Trametinib_time\"],\n",
    "    },\n",
    "    perturbation_covariate_reps={\n",
    "        \"drugs\": \"drug_embeddings\",\n",
    "    },\n",
    "    sample_covariates=[\"cell_line\"],\n",
    "    sample_covariate_reps={\n",
    "        \"cell_line\": \"cell_line_embeddings\",\n",
    "    },\n",
    ")\n",
    "\n",
    "# Prepare the model\n",
    "cf.prepare_model(\n",
    "    encode_conditions=True,\n",
    "    condition_embedding_dim=32,\n",
    "    hidden_dims=(128, 128),\n",
    "    decoder_dims=(128, 128),\n",
    ")\n",
    "\n",
    "# Train the model\n",
    "cf.train(\n",
    "    num_iterations=1000,\n",
    "    batch_size=128,\n",
    ")\n",
    "\n",
    "# Make predictions\n",
    "X_pca_pred = cf.predict(\n",
    "    adata_ctrl,\n",
    "    condition_data=test_condition_df,\n",
    ")\n",
    "\n",
    "# Get condition embeddings\n",
    "condition_embeddings = cf.get_condition_embeddings(adata)"
   ]
  }
 ],
 "metadata": {
  "kernelspec": {
   "display_name": "Python 3.9.12 ('squidpy39')",
   "language": "python",
   "name": "python3"
  },
  "language_info": {
   "codemirror_mode": {
    "name": "ipython",
    "version": 3
   },
   "file_extension": ".py",
   "mimetype": "text/x-python",
   "name": "python",
   "nbconvert_exporter": "python",
   "pygments_lexer": "ipython3",
   "version": "3.11.3"
  },
  "vscode": {
   "interpreter": {
    "hash": "ae6466e8d4f517858789b5c9e8f0ed238fb8964458a36305fca7bddc149e9c64"
   }
  }
 },
 "nbformat": 4,
 "nbformat_minor": 4
}
