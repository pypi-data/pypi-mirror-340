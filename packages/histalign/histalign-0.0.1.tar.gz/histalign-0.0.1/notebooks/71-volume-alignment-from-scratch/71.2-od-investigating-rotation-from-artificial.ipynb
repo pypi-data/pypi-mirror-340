{
 "cells": [
  {
   "metadata": {
    "ExecuteTime": {
     "end_time": "2025-04-08T14:18:23.191582Z",
     "start_time": "2025-04-08T14:18:21.556950Z"
    }
   },
   "cell_type": "code",
   "source": [
    "from collections.abc import Sequence\n",
    "import json\n",
    "from pathlib import Path\n",
    "import re\n",
    "from typing import Any\n",
    "\n",
    "import h5py\n",
    "import matplotlib.pyplot as plt\n",
    "import nrrd\n",
    "import numpy as np\n",
    "from scipy.spatial.distance import euclidean\n",
    "import vedo\n",
    "\n",
    "from histalign.backend.models import AlignmentSettings, Orientation\n",
    "from histalign.backend.registration import Registrator\n",
    "from histalign.backend.registration.alignment import build_aligned_array\n",
    "from histalign.backend.workspace import VolumeSlicer\n",
    "\n",
    "vedo.settings.default_backend = \"vtk\""
   ],
   "id": "31334b4f14a837f7",
   "outputs": [],
   "execution_count": 1
  },
  {
   "metadata": {
    "ExecuteTime": {
     "end_time": "2025-04-08T14:18:23.199195Z",
     "start_time": "2025-04-08T14:18:23.195797Z"
    }
   },
   "cell_type": "code",
   "source": [
    "PathType = str | Path\n",
    "\n",
    "ALIGNMENT_FILE_NAME_PATTERN = re.compile(r\"[0-9a-f]{32}\\.json\")\n",
    "_SUPPORTED_TYPES = [\".h5\", \".hdf5\", \".nrrd\", \".json\"]\n",
    "\n",
    "\n",
    "def imshow(image: np.ndarray) -> None:\n",
    "    plt.imshow(image)\n",
    "    plt.axis(False)\n",
    "    plt.show()\n",
    "\n",
    "\n",
    "def show(objects: object | Sequence[object]) -> None:\n",
    "    try:\n",
    "        objects = [] + objects\n",
    "    except TypeError:\n",
    "        objects = [objects]\n",
    "\n",
    "    vedo.show(\n",
    "        objects,\n",
    "        interactive=False,\n",
    "    ).interactive().close()\n",
    "\n",
    "\n",
    "def load_file(path: PathType) -> Any:\n",
    "    path = Path(path)\n",
    "    if (suffix := path.suffix) not in _SUPPORTED_TYPES:\n",
    "        raise ValueError(\n",
    "            f\"File extension not supported. Received: {suffix}. Allowed: {' '.join(_SUPPORTED_TYPES)}\"\n",
    "        )\n",
    "\n",
    "    if suffix == \".json\":\n",
    "        data = json.load(path.open())\n",
    "    elif suffix == \".nrrd\":\n",
    "        data = nrrd.read(path)[0]\n",
    "    elif suffix in [\".h5\", \".hdf5\"]:\n",
    "        with h5py.File(path) as handle:\n",
    "            data = handle[list(handle.keys())[0]][:]\n",
    "\n",
    "    return data"
   ],
   "id": "26d42d87363e1535",
   "outputs": [],
   "execution_count": 2
  },
  {
   "metadata": {
    "ExecuteTime": {
     "end_time": "2025-04-08T14:18:24.556230Z",
     "start_time": "2025-04-08T14:18:23.317179Z"
    }
   },
   "cell_type": "code",
   "source": [
    "atlas_path = \"/home/ediun/.local/share/histalign/atlases/average_template_100.nrrd\"\n",
    "atlas_array = load_file(atlas_path)\n",
    "atlas_volume = vedo.Volume(atlas_array)\n",
    "\n",
    "alignment_directory = Path(\n",
    "    \"/home/ediun/histalign-projects/microns_100_coronal_2d_artificial/1a862cb4e4\"\n",
    ")\n",
    "alignment_paths = []\n",
    "for child_path in alignment_directory.iterdir():\n",
    "    if (\n",
    "        child_path.is_dir()\n",
    "        or re.fullmatch(ALIGNMENT_FILE_NAME_PATTERN, child_path.name) is None\n",
    "    ):\n",
    "        continue\n",
    "\n",
    "    alignment_paths.append(child_path)\n",
    "alignment_settings = [AlignmentSettings(**load_file(path)) for path in alignment_paths]\n",
    "build_aligned_array(alignment_directory, \"\", \"\", \"\")\n",
    "alignment_array = load_file(\n",
    "    \"/home/ediun/histalign-projects/microns_100_coronal_2d_artificial/1a862cb4e4/volumes/aligned/1a862cb4e4.h5\"\n",
    ")\n",
    "alignment_volume = vedo.Volume(alignment_array)"
   ],
   "id": "232e29cb78fbad93",
   "outputs": [],
   "execution_count": 3
  },
  {
   "metadata": {
    "ExecuteTime": {
     "end_time": "2025-04-08T14:18:56.475760Z",
     "start_time": "2025-04-08T14:18:56.435313Z"
    }
   },
   "cell_type": "code",
   "source": [
    "atlas_slicer = VolumeSlicer(volume=atlas_volume)\n",
    "target_image = atlas_slicer.slice(alignment_settings[0].volume_settings)\n",
    "\n",
    "alignment_slicer = VolumeSlicer(volume=alignment_volume)\n",
    "actual_image = alignment_slicer.slice(alignment_settings[0].volume_settings)\n",
    "\n",
    "# roi = (slice(None), slice(None))\n",
    "roi = (slice(75, 95), slice(90, 110))\n",
    "\n",
    "imshow(target_image[roi])\n",
    "imshow(actual_image[roi])"
   ],
   "id": "4d1d40764fd23edc",
   "outputs": [
    {
     "data": {
      "text/plain": [
       "<Figure size 640x480 with 1 Axes>"
      ],
      "image/png": "[encoded data removed]"
     },
     "metadata": {},
     "output_type": "display_data"
    },
    {
     "data": {
      "text/plain": [
       "<Figure size 640x480 with 1 Axes>"
      ],
      "image/png": "[encoded data removed]"
     },
     "metadata": {},
     "output_type": "display_data"
    }
   ],
   "execution_count": 7
  }
 ],
 "metadata": {
  "kernelspec": {
   "display_name": "Python 3",
   "language": "python",
   "name": "python3"
  },
  "language_info": {
   "codemirror_mode": {
    "name": "ipython",
    "version": 2
   },
   "file_extension": ".py",
   "mimetype": "text/x-python",
   "name": "python",
   "nbconvert_exporter": "python",
   "pygments_lexer": "ipython2",
   "version": "2.7.6"
  }
 },
 "nbformat": 4,
 "nbformat_minor": 5
}
