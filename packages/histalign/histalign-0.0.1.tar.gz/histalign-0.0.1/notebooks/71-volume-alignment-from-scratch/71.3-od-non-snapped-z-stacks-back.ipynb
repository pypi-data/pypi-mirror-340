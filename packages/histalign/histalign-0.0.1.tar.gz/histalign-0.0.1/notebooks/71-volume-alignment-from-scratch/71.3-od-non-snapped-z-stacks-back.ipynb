{
 "cells": [
  {
   "metadata": {
    "collapsed": true,
    "ExecuteTime": {
     "end_time": "2025-04-10T11:10:53.233416Z",
     "start_time": "2025-04-10T11:10:53.215023Z"
    }
   },
   "cell_type": "code",
   "source": [
    "from collections.abc import Sequence\n",
    "import json\n",
    "from pathlib import Path\n",
    "import re\n",
    "from typing import Any\n",
    "\n",
    "import h5py\n",
    "import matplotlib.pyplot as plt\n",
    "import nrrd\n",
    "import numpy as np\n",
    "from scipy.spatial.distance import euclidean\n",
    "import vedo\n",
    "\n",
    "from histalign.backend.maths import (\n",
    "    compute_centre,\n",
    "    compute_normal,\n",
    "    compute_normal_from_raw,\n",
    "    compute_origin,\n",
    ")\n",
    "from histalign.backend.models import AlignmentSettings, Orientation\n",
    "from histalign.backend.registration import Registrator\n",
    "from histalign.backend.registration.alignment import (\n",
    "    build_aligned_array,\n",
    "    build_aligned_array_new,\n",
    ")\n",
    "from histalign.backend.workspace import VolumeSlicer\n",
    "\n",
    "vedo.settings.default_backend = \"vtk\""
   ],
   "id": "12bf79b3cc0a3ff8",
   "outputs": [],
   "execution_count": 110
  },
  {
   "metadata": {
    "ExecuteTime": {
     "end_time": "2025-04-10T11:10:53.294976Z",
     "start_time": "2025-04-10T11:10:53.287460Z"
    }
   },
   "cell_type": "code",
   "source": [
    "PathType = str | Path\n",
    "\n",
    "ALIGNMENT_FILE_NAME_PATTERN = re.compile(r\"[0-9a-f]{32}\\.json\")\n",
    "_SUPPORTED_TYPES = [\".h5\", \".hdf5\", \".nrrd\", \".json\"]\n",
    "\n",
    "\n",
    "def imshow(image: np.ndarray) -> None:\n",
    "    plt.imshow(image)\n",
    "    plt.axis(False)\n",
    "    plt.show()\n",
    "\n",
    "\n",
    "def show(objects: object | Sequence[object], axes: int = 3) -> None:\n",
    "    try:\n",
    "        objects = [] + objects\n",
    "    except TypeError:\n",
    "        objects = [objects]\n",
    "\n",
    "    vedo.show(\n",
    "        objects,\n",
    "        axes=3,\n",
    "        interactive=False,\n",
    "    ).interactive().close()\n",
    "\n",
    "\n",
    "def load_file(path: PathType) -> Any:\n",
    "    path = Path(path)\n",
    "    if (suffix := path.suffix) not in _SUPPORTED_TYPES:\n",
    "        raise ValueError(\n",
    "            f\"File extension not supported. Received: {suffix}. Allowed: {' '.join(_SUPPORTED_TYPES)}\"\n",
    "        )\n",
    "\n",
    "    if suffix == \".json\":\n",
    "        data = json.load(path.open())\n",
    "    elif suffix == \".nrrd\":\n",
    "        data = nrrd.read(path)[0]\n",
    "    elif suffix in [\".h5\", \".hdf5\"]:\n",
    "        with h5py.File(path) as handle:\n",
    "            data = handle[list(handle.keys())[0]][:]\n",
    "\n",
    "    return data"
   ],
   "id": "6fa1c3f3a09e3894",
   "outputs": [],
   "execution_count": 111
  },
  {
   "metadata": {
    "ExecuteTime": {
     "end_time": "2025-04-10T11:10:53.397902Z",
     "start_time": "2025-04-10T11:10:53.343570Z"
    }
   },
   "cell_type": "code",
   "source": [
    "atlas_path = \"/home/ediun/.local/share/histalign/atlases/average_template_100.nrrd\"\n",
    "atlas_array = load_file(atlas_path)\n",
    "atlas_volume = vedo.Volume(atlas_array)"
   ],
   "id": "a624d0e805e943e4",
   "outputs": [],
   "execution_count": 112
  },
  {
   "metadata": {
    "ExecuteTime": {
     "end_time": "2025-04-10T11:10:53.451207Z",
     "start_time": "2025-04-10T11:10:53.419263Z"
    }
   },
   "cell_type": "code",
   "source": [
    "alignment_array = np.zeros_like(atlas_array)\n",
    "alignment_volume = vedo.Volume(alignment_array)"
   ],
   "id": "59356a227d32bdda",
   "outputs": [],
   "execution_count": 113
  },
  {
   "metadata": {},
   "cell_type": "markdown",
   "source": [
    "## Building an alignment volume\n",
    "\n",
    "To build the array, the following steps are taken:\n",
    "1. List all the alignment paths (settings file ending in .json)\n",
    "2. For each alignment path, load the settings.\n",
    "3. For each settings, load the image.\n",
    "4. For each image, generate a 3D set of points given the alignment settings.\n",
    "5. For each set of points, insert the image data.\n",
    "6. For each set of points, interpolate the data into the final volume (go from mesh to grid)."
   ],
   "id": "b0dd8f73d35645f"
  },
  {
   "metadata": {},
   "cell_type": "markdown",
   "source": "### 1. List all the alignment paths",
   "id": "354f9858c18eeef4"
  },
  {
   "metadata": {
    "ExecuteTime": {
     "end_time": "2025-04-10T11:10:53.493149Z",
     "start_time": "2025-04-10T11:10:53.489607Z"
    }
   },
   "cell_type": "code",
   "source": [
    "# dimension = \"2d\"\n",
    "dimension = \"3d\"\n",
    "\n",
    "# hash_ = \"1a862cb4e4\"  # Single Normal\n",
    "# hash_ = \"526dc53bcb\"  # Single Rotated\n",
    "# hash_ = \"8be574bb3c\"  # Stack Normal\n",
    "hash_ = \"bb6ec0f5c8\"  # Stack Rotated\n",
    "alignment_directory = Path(\n",
    "    f\"/home/ediun/histalign-projects/microns_100_coronal_{dimension}_artificial/{hash_}\"\n",
    ")\n",
    "alignment_paths = []\n",
    "for child_path in alignment_directory.iterdir():\n",
    "    if (\n",
    "        child_path.is_dir()\n",
    "        or re.fullmatch(ALIGNMENT_FILE_NAME_PATTERN, child_path.name) is None\n",
    "    ):\n",
    "        continue\n",
    "\n",
    "    alignment_paths.append(child_path)"
   ],
   "id": "94c6d1a52606d2b9",
   "outputs": [],
   "execution_count": 114
  },
  {
   "metadata": {},
   "cell_type": "markdown",
   "source": "### 2. Load the settings",
   "id": "e9bd3288d761b81"
  },
  {
   "metadata": {
    "ExecuteTime": {
     "end_time": "2025-04-10T11:10:53.543288Z",
     "start_time": "2025-04-10T11:10:53.538258Z"
    }
   },
   "cell_type": "code",
   "source": "settings = AlignmentSettings(**load_file(alignment_paths[0]))",
   "id": "b9f222f95a346f36",
   "outputs": [],
   "execution_count": 115
  },
  {
   "metadata": {
    "ExecuteTime": {
     "end_time": "2025-04-10T11:10:53.608095Z",
     "start_time": "2025-04-10T11:10:53.605592Z"
    }
   },
   "cell_type": "code",
   "source": [
    "settings.histology_path = settings.histology_path.with_stem(\n",
    "    settings.histology_path.stem.replace(\"_max\", \"\")\n",
    ")\n",
    "# settings.volume_settings.pitch = 50\n",
    "# settings.volume_settings.yaw = 50"
   ],
   "id": "43cf1cacb6fa07b3",
   "outputs": [],
   "execution_count": 116
  },
  {
   "metadata": {},
   "cell_type": "markdown",
   "source": "### 3. Load the image",
   "id": "35077224199f7ffb"
  },
  {
   "metadata": {
    "ExecuteTime": {
     "end_time": "2025-04-10T11:10:53.668356Z",
     "start_time": "2025-04-10T11:10:53.655919Z"
    }
   },
   "cell_type": "code",
   "source": "stack = load_file(settings.histology_path)",
   "id": "f51c9eaf4051d039",
   "outputs": [],
   "execution_count": 117
  },
  {
   "metadata": {},
   "cell_type": "markdown",
   "source": "### 4A. Find the origin of the alignment",
   "id": "9f535b9c1c6e0b32"
  },
  {
   "metadata": {
    "ExecuteTime": {
     "end_time": "2025-04-10T11:10:53.718468Z",
     "start_time": "2025-04-10T11:10:53.715936Z"
    }
   },
   "cell_type": "code",
   "source": [
    "origin = compute_origin(\n",
    "    compute_centre(settings.volume_settings.shape), settings.volume_settings\n",
    ")"
   ],
   "id": "471b9a34cf4f439a",
   "outputs": [],
   "execution_count": 118
  },
  {
   "metadata": {},
   "cell_type": "markdown",
   "source": "### 4B. Find the normal of the alignment",
   "id": "29f15bb0e9ea2897"
  },
  {
   "metadata": {
    "ExecuteTime": {
     "end_time": "2025-04-10T11:10:53.769331Z",
     "start_time": "2025-04-10T11:10:53.765555Z"
    }
   },
   "cell_type": "code",
   "source": "normal = compute_normal(settings.volume_settings)",
   "id": "9c9da49adc4fd3a5",
   "outputs": [],
   "execution_count": 119
  },
  {
   "metadata": {},
   "cell_type": "markdown",
   "source": "### 4C. List multiples of normal for each image of the stack",
   "id": "ee1185acc93997cf"
  },
  {
   "metadata": {
    "ExecuteTime": {
     "end_time": "2025-04-10T11:10:53.830236Z",
     "start_time": "2025-04-10T11:10:53.826139Z"
    }
   },
   "cell_type": "code",
   "source": [
    "# Assume the smallest dimension is the Z stack\n",
    "z_dimension_index = stack.shape.index(min(stack.shape))\n",
    "count = stack.shape[z_dimension_index]\n",
    "multiples = range(-int(count / 2) + (count % 2 == 0), count // 2 + 1)"
   ],
   "id": "5409bc3f7b7a5801",
   "outputs": [],
   "execution_count": 120
  },
  {
   "metadata": {
    "ExecuteTime": {
     "end_time": "2025-04-10T11:10:54.013906Z",
     "start_time": "2025-04-10T11:10:53.875841Z"
    }
   },
   "cell_type": "code",
   "source": [
    "registrator = Registrator()\n",
    "images = []\n",
    "slicing = [\n",
    "    slice(None),\n",
    "] * len(stack.shape)\n",
    "for index in range(count):\n",
    "    slicing[z_dimension_index] = index\n",
    "    image = stack[tuple(slicing)]\n",
    "\n",
    "    registered_image = registrator.get_forwarded_image(image, settings, origin.tolist())\n",
    "\n",
    "    images.append(image)"
   ],
   "id": "de62225979ae10",
   "outputs": [],
   "execution_count": 121
  },
  {
   "metadata": {},
   "cell_type": "markdown",
   "source": "### 4D. Create plane for each origin",
   "id": "e248f39dabee8154"
  },
  {
   "metadata": {
    "ExecuteTime": {
     "end_time": "2025-04-10T11:10:54.048440Z",
     "start_time": "2025-04-10T11:10:54.033074Z"
    }
   },
   "cell_type": "code",
   "source": [
    "origins = []\n",
    "for i in multiples:\n",
    "    # TODO: Scale by project Z-distance\n",
    "    origins.append(origin + i * normal)\n",
    "\n",
    "individual_shape = list(stack[0].shape)\n",
    "planes = []\n",
    "for origin in origins:\n",
    "    plane = vedo.Plane(pos=origin, normal=normal, s=individual_shape, c=\"blue\")\n",
    "    planes.append(plane)"
   ],
   "id": "facc5850501eeac3",
   "outputs": [],
   "execution_count": 122
  },
  {
   "metadata": {},
   "cell_type": "markdown",
   "source": "### 4E. Generate 3D points for each pixel of the images",
   "id": "d1bd3ca530daf07"
  },
  {
   "metadata": {
    "ExecuteTime": {
     "end_time": "2025-04-10T11:10:54.143943Z",
     "start_time": "2025-04-10T11:10:54.078532Z"
    }
   },
   "cell_type": "code",
   "source": [
    "point_clouds = []\n",
    "for plane in planes:\n",
    "    # Extract 3 corners of the plane. p1 is the closest to (0, 0, 0)\n",
    "    p0, p1, _, p3 = plane.points\n",
    "\n",
    "    # Compute the shape of the plane from two perpendicular edges. This is a fence/post\n",
    "    # problem where fences are  the Euclidean distances and  pixels (i.e., shape) are\n",
    "    # the posts. Hence, need to add one to each.\n",
    "    shape = list(map(round, (euclidean(p1, p0) + 1, euclidean(p1, p3) + 1)))\n",
    "    # print(shape)\n",
    "\n",
    "    # Compute the normals of those two edges and normalise them to be unit length\n",
    "    normal1 = (p0 - p1) / euclidean(p1, p0)\n",
    "    normal2 = (p3 - p1) / euclidean(p1, p3)\n",
    "\n",
    "    # Generate a grid of coordinates from (0, 0, 0) the same size at the plane\n",
    "    # and only technically 2D.\n",
    "    # xs, ys = np.meshgrid(\n",
    "    #     np.linspace(0, shape[0], shape[0]), np.linspace(0, shape[1], shape[1])\n",
    "    # )\n",
    "    xs, ys = np.meshgrid(\n",
    "        np.linspace(0, round(euclidean(p1, p0)), round(euclidean(p1, p0))),\n",
    "        np.linspace(0, round(euclidean(p1, p3)), round(euclidean(p1, p3))),\n",
    "    )\n",
    "    points = np.vstack([xs.ravel(), ys.ravel()])\n",
    "\n",
    "    # Convert the grid to 3D based on the plane orthogonal normals\n",
    "    points = np.dot(np.vstack((normal1, normal2)).T, points).T\n",
    "\n",
    "    # Translate grid origin to the plane's bottom-right\n",
    "    points = p1 + points\n",
    "\n",
    "    points = vedo.Points(points)\n",
    "    point_clouds.append(points)"
   ],
   "id": "50fd797070b1880f",
   "outputs": [],
   "execution_count": 123
  },
  {
   "metadata": {
    "ExecuteTime": {
     "end_time": "2025-04-10T11:10:54.168511Z",
     "start_time": "2025-04-10T11:10:54.166298Z"
    }
   },
   "cell_type": "code",
   "source": "# 1.5 * max(settings.volume_settings.shape)",
   "id": "34f17481740d0fd2",
   "outputs": [],
   "execution_count": 124
  },
  {
   "metadata": {
    "ExecuteTime": {
     "end_time": "2025-04-10T11:10:54.219872Z",
     "start_time": "2025-04-10T11:10:54.216023Z"
    }
   },
   "cell_type": "code",
   "source": "# np.linspace(0, int(euclidean(p1, p0)), int(euclidean(p1, p0)))",
   "id": "bda80b1b35b6d820",
   "outputs": [],
   "execution_count": 125
  },
  {
   "metadata": {
    "ExecuteTime": {
     "end_time": "2025-04-10T11:10:54.268328Z",
     "start_time": "2025-04-10T11:10:54.265542Z"
    }
   },
   "cell_type": "code",
   "source": [
    "# plane = vedo.Plane(pos=[0, 0, 0], normal=[1, 0, 0], s=(3, 3))\n",
    "#\n",
    "# # Extract 3 corners of the plane. p1 is the closest to (0, 0, 0)\n",
    "# p0, p1, _, p3 = plane.points\n",
    "#\n",
    "# # Compute the shape of the plane from two perpendicular edges. This is a fence/post\n",
    "# # problem where fences are  the Euclidean distances and  pixels (i.e., shape) are\n",
    "# # the posts. Hence, need to add one to each.\n",
    "# shape = list(map(round, (euclidean(p1, p0) + 1, euclidean(p1, p3) + 1)))\n",
    "#\n",
    "# # Compute the normals of those two edges and normalise them to be unit length\n",
    "# normal1 = (p0 - p1) / euclidean(p1, p0)\n",
    "# normal2 = (p3 - p1) / euclidean(p1, p3)\n",
    "#\n",
    "# # Generate a grid of coordinates from (0, 0, 0) the same size at the plane\n",
    "# # and only technically 2D.\n",
    "# # xs, ys = np.meshgrid(\n",
    "# #     np.linspace(0, shape[0], shape[0]),\n",
    "# #     np.linspace(0, shape[1], shape[1]),\n",
    "# # )\n",
    "# xs, ys = np.meshgrid(\n",
    "#     np.linspace(0, int(euclidean(p1, p0)), int(euclidean(p1, p0))),\n",
    "#     np.linspace(0, int(euclidean(p1, p3)), int(euclidean(p1, p3))),\n",
    "# )\n",
    "# points = np.vstack([xs.ravel(), ys.ravel()])\n",
    "#\n",
    "# # Convert the grid to 3D based on the plane orthogonal normals\n",
    "# points = np.dot(np.vstack((normal1, normal2)).T, points).T\n",
    "#\n",
    "# # Translate grid origin to the plane's bottom-right\n",
    "# points = p1 + points\n",
    "#\n",
    "# points = vedo.Points(points)"
   ],
   "id": "d3b1c50c91540baf",
   "outputs": [],
   "execution_count": 126
  },
  {
   "metadata": {},
   "cell_type": "markdown",
   "source": "### 5. Insert image data into points clouds",
   "id": "4858e3208752401d"
  },
  {
   "metadata": {
    "ExecuteTime": {
     "end_time": "2025-04-10T11:10:54.317483Z",
     "start_time": "2025-04-10T11:10:54.315372Z"
    }
   },
   "cell_type": "code",
   "source": [
    "# print(images[0].shape)\n",
    "# print(point_clouds[0].points.shape)"
   ],
   "id": "7ecd09b3fdbd1b3a",
   "outputs": [],
   "execution_count": 127
  },
  {
   "metadata": {
    "ExecuteTime": {
     "end_time": "2025-04-10T11:12:57.029808Z",
     "start_time": "2025-04-10T11:12:57.025870Z"
    }
   },
   "cell_type": "code",
   "source": [
    "for image, points, origin in zip(images, point_clouds, origins):\n",
    "    points.pointdata[\"ImageScalars\"] = image.flatten()"
   ],
   "id": "42dac3e51feb9d1b",
   "outputs": [],
   "execution_count": 137
  },
  {
   "metadata": {
    "ExecuteTime": {
     "end_time": "2025-04-10T11:13:03.143265Z",
     "start_time": "2025-04-10T11:12:58.610625Z"
    }
   },
   "cell_type": "code",
   "source": [
    "show(\n",
    "    [\n",
    "        *point_clouds,\n",
    "        atlas_volume,\n",
    "    ]\n",
    ")"
   ],
   "id": "5db3e52372097576",
   "outputs": [],
   "execution_count": 138
  },
  {
   "metadata": {},
   "cell_type": "markdown",
   "source": "### 6. Interpolate the point clouds into the final volume",
   "id": "b4c71ebe7c08d84a"
  },
  {
   "metadata": {
    "ExecuteTime": {
     "end_time": "2025-04-10T11:13:46.992435Z",
     "start_time": "2025-04-10T11:13:46.603753Z"
    }
   },
   "cell_type": "code",
   "source": [
    "# 6. Interpolate the point clouds into the final volume\n",
    "# Array where planes are inserted\n",
    "interpolation_array = np.zeros(settings.volume_settings.shape, dtype=np.uint16)\n",
    "# Placeholder volume used to query the grid coordinates when interpolating\n",
    "tmp_volume = vedo.Volume(interpolation_array)\n",
    "for points in point_clouds:\n",
    "    # Interpolate and store the result in a temporary array\n",
    "    tmp_array = tmp_volume.interpolate_data_from(points, radius=1).tonumpy()\n",
    "    tmp_array = np.round(tmp_array).astype(np.uint16)\n",
    "\n",
    "    # TODO: Might be worth thinking of another way to merge. Using the maximum works\n",
    "    #       fine when working with non-overlapping slices but a mean or something\n",
    "    #       similar might make more sense when tmp_array and aligned_array have\n",
    "    #       common, non-zero points.\n",
    "    # Merge the new plane into the master array\n",
    "    interpolation_array[:] = np.maximum(interpolation_array, tmp_array)\n",
    "\n",
    "alignment_volume = vedo.Volume(interpolation_array)"
   ],
   "id": "2e0a61b3e1befffd",
   "outputs": [],
   "execution_count": 141
  },
  {
   "metadata": {},
   "cell_type": "markdown",
   "source": "### 7. Checking the work",
   "id": "ca076818015bb469"
  },
  {
   "metadata": {
    "ExecuteTime": {
     "end_time": "2025-04-10T11:14:06.357441Z",
     "start_time": "2025-04-10T11:14:06.282583Z"
    }
   },
   "cell_type": "code",
   "source": [
    "atlas_slicer = VolumeSlicer(volume=atlas_volume)\n",
    "target_image = atlas_slicer.slice(settings.volume_settings)\n",
    "\n",
    "alignment_slicer = VolumeSlicer(volume=alignment_volume)\n",
    "actual_image = alignment_slicer.slice(settings.volume_settings)\n",
    "\n",
    "# roi = (slice(None), slice(None))\n",
    "# roi = (slice(66, 132), slice(66, 100))\n",
    "roi = (slice(66, 132), slice(66, 101))\n",
    "# roi = (slice(75, 85), slice(90, 100))\n",
    "# roi = (slice(95, 105), slice(95, 105))\n",
    "\n",
    "imshow(target_image[roi])\n",
    "imshow(actual_image[roi])"
   ],
   "id": "a1da2189934cb45b",
   "outputs": [
    {
     "data": {
      "text/plain": [
       "<Figure size 640x480 with 1 Axes>"
      ],
      "image/png": "[encoded data removed]"
     },
     "metadata": {},
     "output_type": "display_data"
    },
    {
     "data": {
      "text/plain": [
       "<Figure size 640x480 with 1 Axes>"
      ],
      "image/png": "[encoded data removed]"
     },
     "metadata": {},
     "output_type": "display_data"
    }
   ],
   "execution_count": 143
  },
  {
   "metadata": {
    "ExecuteTime": {
     "end_time": "2025-04-10T11:14:12.013639Z",
     "start_time": "2025-04-10T11:14:11.968848Z"
    }
   },
   "cell_type": "code",
   "source": [
    "atlas_slicer = VolumeSlicer(volume=atlas_volume)\n",
    "target_image = atlas_slicer.slice(settings.volume_settings)\n",
    "\n",
    "alignment_slicer = VolumeSlicer(volume=alignment_volume)\n",
    "actual_image = alignment_slicer.slice(settings.volume_settings)\n",
    "\n",
    "imshow(target_image[roi])\n",
    "imshow(actual_image[roi])"
   ],
   "id": "707c1cda2bd95ba0",
   "outputs": [
    {
     "data": {
      "text/plain": [
       "<Figure size 640x480 with 1 Axes>"
      ],
      "image/png": "[encoded data removed]"
     },
     "metadata": {},
     "output_type": "display_data"
    },
    {
     "data": {
      "text/plain": [
       "<Figure size 640x480 with 1 Axes>"
      ],
      "image/png": "[encoded data removed]"
     },
     "metadata": {},
     "output_type": "display_data"
    }
   ],
   "execution_count": 144
  },
  {
   "metadata": {},
   "cell_type": "markdown",
   "source": "### 8. Comparing with current implementation",
   "id": "769426bfd3b8da4e"
  },
  {
   "metadata": {
    "ExecuteTime": {
     "end_time": "2025-04-10T11:14:42.890691Z",
     "start_time": "2025-04-10T11:14:42.038560Z"
    }
   },
   "cell_type": "code",
   "source": [
    "build_aligned_array(alignment_directory, \"\", \"\", \"\", force=True)\n",
    "current_alignment_array = load_file(\n",
    "    f\"/home/ediun/histalign-projects/microns_100_coronal_{dimension}_artificial/{hash_}/volumes/aligned/{hash_}.h5\"\n",
    ")\n",
    "current_alignment_volume = vedo.Volume(current_alignment_array)\n",
    "\n",
    "atlas_slicer = VolumeSlicer(volume=atlas_volume)\n",
    "target_image = atlas_slicer.slice(settings.volume_settings)\n",
    "\n",
    "current_alignment_slicer = VolumeSlicer(volume=current_alignment_volume)\n",
    "actual_image = current_alignment_slicer.slice(settings.volume_settings)\n",
    "\n",
    "imshow(target_image[roi])\n",
    "imshow(actual_image[roi])"
   ],
   "id": "8d4f0e44c0d89061",
   "outputs": [
    {
     "data": {
      "text/plain": [
       "<Figure size 640x480 with 1 Axes>"
      ],
      "image/png": "[encoded data removed]"
     },
     "metadata": {},
     "output_type": "display_data"
    },
    {
     "data": {
      "text/plain": [
       "<Figure size 640x480 with 1 Axes>"
      ],
      "image/png": "[encoded data removed]"
     },
     "metadata": {},
     "output_type": "display_data"
    }
   ],
   "execution_count": 146
  },
  {
   "metadata": {},
   "cell_type": "markdown",
   "source": [
    "### Conclusion\n",
    "\n",
    "There is a sizable difference between the implementations. This needs to be fixed."
   ],
   "id": "d2340c4208735cdc"
  }
 ],
 "metadata": {
  "kernelspec": {
   "display_name": "Python 3",
   "language": "python",
   "name": "python3"
  },
  "language_info": {
   "codemirror_mode": {
    "name": "ipython",
    "version": 2
   },
   "file_extension": ".py",
   "mimetype": "text/x-python",
   "name": "python",
   "nbconvert_exporter": "python",
   "pygments_lexer": "ipython2",
   "version": "2.7.6"
  }
 },
 "nbformat": 4,
 "nbformat_minor": 5
}
