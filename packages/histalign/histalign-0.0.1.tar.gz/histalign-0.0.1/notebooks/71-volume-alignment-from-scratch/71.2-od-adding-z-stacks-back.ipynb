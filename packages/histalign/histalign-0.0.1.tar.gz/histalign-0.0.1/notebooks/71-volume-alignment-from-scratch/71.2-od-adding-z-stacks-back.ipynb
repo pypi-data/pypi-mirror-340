{
 "cells": [
  {
   "metadata": {
    "collapsed": true,
    "ExecuteTime": {
     "end_time": "2025-04-10T09:13:57.035573Z",
     "start_time": "2025-04-10T09:13:55.433718Z"
    }
   },
   "cell_type": "code",
   "source": [
    "from collections.abc import Sequence\n",
    "import json\n",
    "from pathlib import Path\n",
    "import re\n",
    "from typing import Any\n",
    "\n",
    "import h5py\n",
    "import matplotlib.pyplot as plt\n",
    "import nrrd\n",
    "import numpy as np\n",
    "from scipy.spatial.distance import euclidean\n",
    "import vedo\n",
    "\n",
    "from histalign.backend.maths import (\n",
    "    compute_centre,\n",
    "    compute_normal,\n",
    "    compute_normal_from_raw,\n",
    "    compute_origin,\n",
    ")\n",
    "from histalign.backend.models import AlignmentSettings, Orientation\n",
    "from histalign.backend.registration import Registrator\n",
    "from histalign.backend.registration.alignment import (\n",
    "    build_aligned_array,\n",
    "    build_aligned_array_new,\n",
    ")\n",
    "from histalign.backend.workspace import VolumeSlicer\n",
    "\n",
    "vedo.settings.default_backend = \"vtk\""
   ],
   "id": "12bf79b3cc0a3ff8",
   "outputs": [],
   "execution_count": 1
  },
  {
   "metadata": {
    "ExecuteTime": {
     "end_time": "2025-04-10T09:17:28.873246Z",
     "start_time": "2025-04-10T09:17:28.869064Z"
    }
   },
   "cell_type": "code",
   "source": [
    "PathType = str | Path\n",
    "\n",
    "ALIGNMENT_FILE_NAME_PATTERN = re.compile(r\"[0-9a-f]{32}\\.json\")\n",
    "_SUPPORTED_TYPES = [\".h5\", \".hdf5\", \".nrrd\", \".json\"]\n",
    "\n",
    "\n",
    "def imshow(image: np.ndarray) -> None:\n",
    "    plt.imshow(image)\n",
    "    plt.axis(False)\n",
    "    plt.show()\n",
    "\n",
    "\n",
    "def show(objects: object | Sequence[object], axes: int = 3) -> None:\n",
    "    try:\n",
    "        objects = [] + objects\n",
    "    except TypeError:\n",
    "        objects = [objects]\n",
    "\n",
    "    vedo.show(\n",
    "        objects,\n",
    "        axes=3,\n",
    "        interactive=False,\n",
    "    ).interactive().close()\n",
    "\n",
    "\n",
    "def load_file(path: PathType) -> Any:\n",
    "    path = Path(path)\n",
    "    if (suffix := path.suffix) not in _SUPPORTED_TYPES:\n",
    "        raise ValueError(\n",
    "            f\"File extension not supported. Received: {suffix}. Allowed: {' '.join(_SUPPORTED_TYPES)}\"\n",
    "        )\n",
    "\n",
    "    if suffix == \".json\":\n",
    "        data = json.load(path.open())\n",
    "    elif suffix == \".nrrd\":\n",
    "        data = nrrd.read(path)[0]\n",
    "    elif suffix in [\".h5\", \".hdf5\"]:\n",
    "        with h5py.File(path) as handle:\n",
    "            data = handle[list(handle.keys())[0]][:]\n",
    "\n",
    "    return data"
   ],
   "id": "6fa1c3f3a09e3894",
   "outputs": [],
   "execution_count": 27
  },
  {
   "metadata": {
    "ExecuteTime": {
     "end_time": "2025-04-10T09:13:57.200214Z",
     "start_time": "2025-04-10T09:13:57.164262Z"
    }
   },
   "cell_type": "code",
   "source": [
    "atlas_path = \"/home/ediun/.local/share/histalign/atlases/average_template_100.nrrd\"\n",
    "atlas_array = load_file(atlas_path)\n",
    "atlas_volume = vedo.Volume(atlas_array)"
   ],
   "id": "a624d0e805e943e4",
   "outputs": [],
   "execution_count": 3
  },
  {
   "metadata": {
    "ExecuteTime": {
     "end_time": "2025-04-10T09:13:57.224192Z",
     "start_time": "2025-04-10T09:13:57.205675Z"
    }
   },
   "cell_type": "code",
   "source": [
    "alignment_array = np.zeros_like(atlas_array)\n",
    "alignment_volume = vedo.Volume(alignment_array)"
   ],
   "id": "59356a227d32bdda",
   "outputs": [],
   "execution_count": 4
  },
  {
   "metadata": {},
   "cell_type": "markdown",
   "source": [
    "## Building an alignment volume\n",
    "\n",
    "To build the array, the following steps are taken:\n",
    "1. List all the alignment paths (settings file ending in .json)\n",
    "2. For each alignment path, load the settings.\n",
    "3. For each settings, load the image.\n",
    "4. For each image, generate a 3D set of points given the alignment settings.\n",
    "5. For each set of points, insert the image data.\n",
    "6. For each set of points, interpolate the data into the final volume (go from mesh to grid)."
   ],
   "id": "b0dd8f73d35645f"
  },
  {
   "metadata": {},
   "cell_type": "markdown",
   "source": "### 1. List all the alignment paths",
   "id": "354f9858c18eeef4"
  },
  {
   "metadata": {
    "ExecuteTime": {
     "end_time": "2025-04-10T09:13:57.271437Z",
     "start_time": "2025-04-10T09:13:57.267443Z"
    }
   },
   "cell_type": "code",
   "source": [
    "# hash_ = \"1a862cb4e4\"  # Normal\n",
    "hash_ = \"526dc53bcb\"  # Rotated\n",
    "alignment_directory = Path(\n",
    "    f\"/home/ediun/histalign-projects/microns_100_coronal_2d_artificial/{hash_}\"\n",
    ")\n",
    "alignment_paths = []\n",
    "for child_path in alignment_directory.iterdir():\n",
    "    if (\n",
    "        child_path.is_dir()\n",
    "        or re.fullmatch(ALIGNMENT_FILE_NAME_PATTERN, child_path.name) is None\n",
    "    ):\n",
    "        continue\n",
    "\n",
    "    alignment_paths.append(child_path)"
   ],
   "id": "94c6d1a52606d2b9",
   "outputs": [],
   "execution_count": 5
  },
  {
   "metadata": {},
   "cell_type": "markdown",
   "source": "### 2. Load the settings",
   "id": "e9bd3288d761b81"
  },
  {
   "metadata": {
    "ExecuteTime": {
     "end_time": "2025-04-10T09:13:57.323376Z",
     "start_time": "2025-04-10T09:13:57.318591Z"
    }
   },
   "cell_type": "code",
   "source": "settings = AlignmentSettings(**load_file(alignment_paths[0]))",
   "id": "b9f222f95a346f36",
   "outputs": [],
   "execution_count": 6
  },
  {
   "metadata": {},
   "cell_type": "markdown",
   "source": "### 3. Load the image",
   "id": "35077224199f7ffb"
  },
  {
   "metadata": {
    "ExecuteTime": {
     "end_time": "2025-04-10T09:13:57.370210Z",
     "start_time": "2025-04-10T09:13:57.366189Z"
    }
   },
   "cell_type": "code",
   "source": "image = load_file(settings.histology_path)",
   "id": "f51c9eaf4051d039",
   "outputs": [],
   "execution_count": 7
  },
  {
   "metadata": {},
   "cell_type": "markdown",
   "source": "### 4A. Find the origin of the alignment",
   "id": "9f535b9c1c6e0b32"
  },
  {
   "metadata": {
    "ExecuteTime": {
     "end_time": "2025-04-10T09:13:57.418237Z",
     "start_time": "2025-04-10T09:13:57.415645Z"
    }
   },
   "cell_type": "code",
   "source": [
    "origin = compute_origin(\n",
    "    compute_centre(settings.volume_settings.shape), settings.volume_settings\n",
    ")"
   ],
   "id": "471b9a34cf4f439a",
   "outputs": [],
   "execution_count": 8
  },
  {
   "metadata": {},
   "cell_type": "markdown",
   "source": "### 4B. Find the normals of the alignment",
   "id": "29f15bb0e9ea2897"
  },
  {
   "metadata": {
    "ExecuteTime": {
     "end_time": "2025-04-10T09:13:57.468128Z",
     "start_time": "2025-04-10T09:13:57.465490Z"
    }
   },
   "cell_type": "code",
   "source": [
    "flat_normal = compute_normal_from_raw(0, 0, settings.volume_settings.orientation)\n",
    "normal = compute_normal(settings.volume_settings)"
   ],
   "id": "9c9da49adc4fd3a5",
   "outputs": [],
   "execution_count": 9
  },
  {
   "metadata": {},
   "cell_type": "markdown",
   "source": "### 4C. List all the planes from every offset",
   "id": "ee1185acc93997cf"
  },
  {
   "metadata": {
    "ExecuteTime": {
     "end_time": "2025-04-10T09:18:01.913526Z",
     "start_time": "2025-04-10T09:18:01.466553Z"
    }
   },
   "cell_type": "code",
   "source": [
    "slicer = VolumeSlicer(volume=alignment_volume)\n",
    "offset_range = settings.volume_settings.get_offset_range()\n",
    "\n",
    "planes = []\n",
    "for offset in offset_range:\n",
    "    tmp_settings = settings.volume_settings.model_copy(update={\"offset\": offset})\n",
    "    plane = slicer.slice(tmp_settings, return_display_plane=True)\n",
    "    planes.append(plane)"
   ],
   "id": "3f78ca4359d871b",
   "outputs": [],
   "execution_count": 30
  },
  {
   "metadata": {},
   "cell_type": "code",
   "outputs": [],
   "execution_count": null,
   "source": [
    "source = [10, 10, 10]\n",
    "\n",
    "show(\n",
    "    [\n",
    "        vedo.Plane(pos=),\n",
    "    ]\n",
    ")"
   ],
   "id": "7cec5e494590851d"
  },
  {
   "metadata": {
    "ExecuteTime": {
     "end_time": "2025-04-10T09:18:42.190586Z",
     "start_time": "2025-04-10T09:18:33.931951Z"
    }
   },
   "cell_type": "code",
   "source": [
    "show(\n",
    "    [\n",
    "        vedo.Arrow(end_pt=flat_normal),\n",
    "        vedo.Arrow(end_pt=normal),\n",
    "        *planes,\n",
    "        atlas_volume,\n",
    "    ]\n",
    ")"
   ],
   "id": "f4a7c158b04a0b5b",
   "outputs": [],
   "execution_count": 33
  },
  {
   "metadata": {},
   "cell_type": "markdown",
   "source": [
    "### 4C. Generate planes for the images\n",
    "\n",
    "Each of the plane has an attribute called `points`.\n",
    "This attribute contains 4 sets of coordinates. Using the right-hand rule, the first set is for the top-right point (smallest Y, largest Z), the second set is for the bottom-right (smallest y, smallest Z), the third set is for the top-left (largest Y, largest Z), and the fourth set is for the bottom-left (largest Y, smallest Z).\n",
    "\n",
    "To visualise the positions, the following code can help:\n",
    "```python\n",
    "plane = planes[0]\n",
    "\n",
    "cam = dict(\n",
    "    position=(-250, 500, 250),\n",
    "    focal_point=(50, 50, 50),\n",
    "    viewup=(0, 0, 1),\n",
    ")\n",
    "\n",
    "vedo.show(\n",
    "    [\n",
    "        plane,\n",
    "        vedo.Point(plane.points[0], r=10, c=\"red\"),\n",
    "        vedo.Point(plane.points[1], r=10, c=\"cyan\"),\n",
    "        vedo.Point(plane.points[2], r=10, c=\"blue\"),\n",
    "        vedo.Point(plane.points[3], r=10, c=\"black\"),\n",
    "    ],\n",
    "    axes=3,\n",
    "    camera=cam,\n",
    "    interactive=False,\n",
    ").interactive().close();\n",
    "```"
   ],
   "id": "9b1b900fa64a2b88"
  },
  {
   "metadata": {
    "ExecuteTime": {
     "end_time": "2025-04-10T09:15:00.031212Z",
     "start_time": "2025-04-10T09:15:00.013287Z"
    }
   },
   "cell_type": "code",
   "source": [
    "planes = []\n",
    "for settings, origin, normal in zip(alignment_settings, origins, normals):\n",
    "    plane = vedo.Plane(\n",
    "        pos=origin, normal=normal, s=(1.5 * max(settings.volume_settings.shape),) * 2\n",
    "    )\n",
    "\n",
    "    planes.append(plane)"
   ],
   "id": "8e3095dceaa315d5",
   "outputs": [
    {
     "ename": "NameError",
     "evalue": "name 'alignment_settings' is not defined",
     "output_type": "error",
     "traceback": [
      "\u001B[0;31m---------------------------------------------------------------------------\u001B[0m",
      "\u001B[0;31mNameError\u001B[0m                                 Traceback (most recent call last)",
      "Cell \u001B[0;32mIn[21], line 2\u001B[0m\n\u001B[1;32m      1\u001B[0m planes \u001B[38;5;241m=\u001B[39m []\n\u001B[0;32m----> 2\u001B[0m \u001B[38;5;28;01mfor\u001B[39;00m settings, origin, normal \u001B[38;5;129;01min\u001B[39;00m \u001B[38;5;28mzip\u001B[39m(\u001B[43malignment_settings\u001B[49m, origins, normals):\n\u001B[1;32m      3\u001B[0m     plane \u001B[38;5;241m=\u001B[39m vedo\u001B[38;5;241m.\u001B[39mPlane(\n\u001B[1;32m      4\u001B[0m         pos\u001B[38;5;241m=\u001B[39morigin, normal\u001B[38;5;241m=\u001B[39mnormal, s\u001B[38;5;241m=\u001B[39m(\u001B[38;5;241m1.5\u001B[39m \u001B[38;5;241m*\u001B[39m \u001B[38;5;28mmax\u001B[39m(settings\u001B[38;5;241m.\u001B[39mvolume_settings\u001B[38;5;241m.\u001B[39mshape),) \u001B[38;5;241m*\u001B[39m \u001B[38;5;241m2\u001B[39m\n\u001B[1;32m      5\u001B[0m     )\n\u001B[1;32m      7\u001B[0m     planes\u001B[38;5;241m.\u001B[39mappend(plane)\n",
      "\u001B[0;31mNameError\u001B[0m: name 'alignment_settings' is not defined"
     ]
    }
   ],
   "execution_count": 21
  },
  {
   "metadata": {},
   "cell_type": "markdown",
   "source": "### 4D. Generate 3D points for each pixel of the images",
   "id": "82e2cfb93a4e661d"
  },
  {
   "metadata": {
    "ExecuteTime": {
     "end_time": "2025-04-10T09:15:00.135274800Z",
     "start_time": "2025-04-08T16:24:46.965288Z"
    }
   },
   "cell_type": "code",
   "source": [
    "point_clouds = []\n",
    "for plane in planes:\n",
    "    # Extract 3 corners of the plane. p1 is the closest to (0, 0, 0)\n",
    "    p0, p1, _, p3 = plane.points\n",
    "\n",
    "    # Compute the shape of the plane from two perpendicular edges. This is a fence/post\n",
    "    # problem where fences are  the Euclidean distances and  pixels (i.e., shape) are\n",
    "    # the posts. Hence, need to add one to each.\n",
    "    shape = list(map(round, (euclidean(p1, p0) + 1, euclidean(p1, p3) + 1)))\n",
    "\n",
    "    # Compute the normals of those two edges and normalise them to be unit length\n",
    "    normal1 = (p0 - p1) / euclidean(p1, p0)\n",
    "    normal2 = (p3 - p1) / euclidean(p1, p3)\n",
    "\n",
    "    # Generate a grid of coordinates from (0, 0, 0) the same size at the plane\n",
    "    # and only technically 2D.\n",
    "    xs, ys = np.meshgrid(\n",
    "        np.linspace(0, shape[0], shape[0]), np.linspace(0, shape[1], shape[1])\n",
    "    )\n",
    "    points = np.vstack([xs.ravel(), ys.ravel()])\n",
    "\n",
    "    # Convert the grid to 3D based on the plane orthogonal normals\n",
    "    points = np.dot(np.vstack((normal1, normal2)).T, points).T\n",
    "\n",
    "    # Translate grid origin to the plane's bottom-right\n",
    "    points = p1 + points\n",
    "\n",
    "    points = vedo.Points(points)\n",
    "    point_clouds.append(points)"
   ],
   "id": "1b2c64a30d45ce35",
   "outputs": [],
   "execution_count": 12
  },
  {
   "metadata": {},
   "cell_type": "markdown",
   "source": "### 5. Insert image data into point clouds",
   "id": "9e9ba9ac0197ca52"
  },
  {
   "metadata": {
    "ExecuteTime": {
     "end_time": "2025-04-10T09:15:00.137274700Z",
     "start_time": "2025-04-08T16:24:47.061521Z"
    }
   },
   "cell_type": "code",
   "source": [
    "registrator = Registrator()\n",
    "for points, image, settings, origin in zip(\n",
    "    point_clouds, images, alignment_settings, origins\n",
    "):\n",
    "    registered_image = registrator.get_forwarded_image(image, settings, origin.tolist())\n",
    "\n",
    "    points.pointdata[\"ImageScalars\"] = registered_image.flatten()"
   ],
   "id": "f03b9ae910250c56",
   "outputs": [],
   "execution_count": 13
  },
  {
   "metadata": {
    "ExecuteTime": {
     "end_time": "2025-04-10T09:15:00.138274700Z",
     "start_time": "2025-04-08T16:24:47.285151Z"
    }
   },
   "cell_type": "code",
   "source": [
    "slicer = VolumeSlicer(volume=atlas_volume)\n",
    "\n",
    "origin = origins[0].astype(int).tolist()\n",
    "print(slicer.slice(alignment_settings[0].volume_settings, origin=origin).shape)\n",
    "print(\n",
    "    slicer.slice(\n",
    "        alignment_settings[0].volume_settings.model_copy(\n",
    "            deep=True, update={\"pitch\": 22, \"yaw\": 6}\n",
    "        ),\n",
    "        origin=origin,\n",
    "    ).shape\n",
    ")"
   ],
   "id": "22f9b5415ec0213c",
   "outputs": [
    {
     "name": "stdout",
     "output_type": "stream",
     "text": [
      "(198, 198)\n",
      "(198, 198)\n"
     ]
    }
   ],
   "execution_count": 14
  },
  {
   "metadata": {},
   "cell_type": "markdown",
   "source": "### 6. Interpolate the point clouds into the final volume",
   "id": "b4c71ebe7c08d84a"
  },
  {
   "metadata": {
    "ExecuteTime": {
     "end_time": "2025-04-10T09:15:00.154308600Z",
     "start_time": "2025-04-08T16:24:47.385463Z"
    }
   },
   "cell_type": "code",
   "source": [
    "# 6. Interpolate the point clouds into the final volume\n",
    "# Array where planes are inserted\n",
    "interpolation_array = np.zeros(\n",
    "    alignment_settings[0].volume_settings.shape, dtype=np.uint16\n",
    ")\n",
    "# Placeholder volume used to query the grid coordinates when interpolating\n",
    "tmp_volume = vedo.Volume(interpolation_array)\n",
    "for points in point_clouds:\n",
    "    # Interpolate and store the result in a temporary array\n",
    "    tmp_array = tmp_volume.interpolate_data_from(points, radius=1).tonumpy()\n",
    "    tmp_array = np.round(tmp_array).astype(np.uint16)\n",
    "\n",
    "    # TODO: Might be worth thinking of another way to merge. Using the maximum works\n",
    "    #       fine when working with non-overlapping slices but a mean or something\n",
    "    #       similar might make more sense when tmp_array and aligned_array have\n",
    "    #       common, non-zero points.\n",
    "    # Merge the new plane into the master array\n",
    "    interpolation_array[:] = np.maximum(interpolation_array, tmp_array)\n",
    "\n",
    "alignment_volume = vedo.Volume(interpolation_array)"
   ],
   "id": "2e0a61b3e1befffd",
   "outputs": [],
   "execution_count": 16
  },
  {
   "metadata": {},
   "cell_type": "markdown",
   "source": "### 7. Checking the work",
   "id": "ca076818015bb469"
  },
  {
   "metadata": {
    "ExecuteTime": {
     "end_time": "2025-04-10T09:15:00.156838500Z",
     "start_time": "2025-04-08T16:24:47.937269Z"
    }
   },
   "cell_type": "code",
   "source": [
    "atlas_slicer = VolumeSlicer(volume=atlas_volume)\n",
    "target_image = atlas_slicer.slice(alignment_settings[0].volume_settings)\n",
    "\n",
    "alignment_slicer = VolumeSlicer(volume=alignment_volume)\n",
    "actual_image = alignment_slicer.slice(alignment_settings[0].volume_settings)\n",
    "\n",
    "# roi = (slice(None), slice(None))\n",
    "# roi = (slice(66, 132), slice(66, 100))\n",
    "roi = (slice(66, 132), slice(66, 101))\n",
    "# roi = (slice(75, 85), slice(90, 100))\n",
    "# roi = (slice(95, 105), slice(95, 105))\n",
    "\n",
    "imshow(target_image[roi])\n",
    "imshow(actual_image[roi])"
   ],
   "id": "a1da2189934cb45b",
   "outputs": [
    {
     "data": {
      "text/plain": [
       "<Figure size 640x480 with 1 Axes>"
      ],
      "image/png": "[encoded data removed]"
     },
     "metadata": {},
     "output_type": "display_data"
    },
    {
     "data": {
      "text/plain": [
       "<Figure size 640x480 with 1 Axes>"
      ],
      "image/png": "[encoded data removed]"
     },
     "metadata": {},
     "output_type": "display_data"
    }
   ],
   "execution_count": 17
  },
  {
   "metadata": {
    "ExecuteTime": {
     "end_time": "2025-04-10T09:15:00.166839Z",
     "start_time": "2025-04-08T16:24:48.039855Z"
    }
   },
   "cell_type": "code",
   "source": [
    "atlas_slicer = VolumeSlicer(volume=atlas_volume)\n",
    "target_image = atlas_slicer.slice(alignment_settings[0].volume_settings)\n",
    "\n",
    "alignment_slicer = VolumeSlicer(volume=alignment_volume)\n",
    "actual_image = alignment_slicer.slice(alignment_settings[0].volume_settings)\n",
    "\n",
    "imshow(target_image[roi])\n",
    "imshow(actual_image[roi])"
   ],
   "id": "707c1cda2bd95ba0",
   "outputs": [
    {
     "data": {
      "text/plain": [
       "<Figure size 640x480 with 1 Axes>"
      ],
      "image/png": "[encoded data removed]"
     },
     "metadata": {},
     "output_type": "display_data"
    },
    {
     "data": {
      "text/plain": [
       "<Figure size 640x480 with 1 Axes>"
      ],
      "image/png": "[encoded data removed]"
     },
     "metadata": {},
     "output_type": "display_data"
    }
   ],
   "execution_count": 18
  },
  {
   "metadata": {},
   "cell_type": "markdown",
   "source": "### 8. Comparing with current implementation",
   "id": "769426bfd3b8da4e"
  },
  {
   "metadata": {
    "ExecuteTime": {
     "end_time": "2025-04-10T09:15:00.166839Z",
     "start_time": "2025-04-08T16:24:48.101286Z"
    }
   },
   "cell_type": "code",
   "source": [
    "build_aligned_array_new(alignment_directory, force=True)\n",
    "current_alignment_array = load_file(\n",
    "    f\"/home/ediun/histalign-projects/microns_100_coronal_2d_artificial/{hash_}/volumes/aligned/{hash_}.h5\"\n",
    ")\n",
    "current_alignment_volume = vedo.Volume(current_alignment_array)\n",
    "\n",
    "atlas_slicer = VolumeSlicer(volume=atlas_volume)\n",
    "target_image = atlas_slicer.slice(alignment_settings[0].volume_settings)\n",
    "\n",
    "current_alignment_slicer = VolumeSlicer(volume=current_alignment_volume)\n",
    "actual_image = current_alignment_slicer.slice(alignment_settings[0].volume_settings)\n",
    "\n",
    "imshow(target_image[roi])\n",
    "imshow(actual_image[roi])"
   ],
   "id": "7cd1e5f71dc4a053",
   "outputs": [
    {
     "data": {
      "text/plain": [
       "<Figure size 640x480 with 1 Axes>"
      ],
      "image/png": "[encoded data removed]"
     },
     "metadata": {},
     "output_type": "display_data"
    },
    {
     "data": {
      "text/plain": [
       "<Figure size 640x480 with 1 Axes>"
      ],
      "image/png": "[encoded data removed]"
     },
     "metadata": {},
     "output_type": "display_data"
    }
   ],
   "execution_count": 19
  },
  {
   "metadata": {
    "ExecuteTime": {
     "end_time": "2025-04-10T09:15:00.167838500Z",
     "start_time": "2025-04-08T16:24:48.922328Z"
    }
   },
   "cell_type": "code",
   "source": [
    "build_aligned_array(alignment_directory, \"\", \"\", \"\", force=True)\n",
    "current_alignment_array = load_file(\n",
    "    f\"/home/ediun/histalign-projects/microns_100_coronal_2d_artificial/{hash_}/volumes/aligned/{hash_}.h5\"\n",
    ")\n",
    "current_alignment_volume = vedo.Volume(current_alignment_array)\n",
    "\n",
    "atlas_slicer = VolumeSlicer(volume=atlas_volume)\n",
    "target_image = atlas_slicer.slice(alignment_settings[0].volume_settings)\n",
    "\n",
    "current_alignment_slicer = VolumeSlicer(volume=current_alignment_volume)\n",
    "actual_image = current_alignment_slicer.slice(alignment_settings[0].volume_settings)\n",
    "\n",
    "imshow(target_image[roi])\n",
    "imshow(actual_image[roi])"
   ],
   "id": "8d4f0e44c0d89061",
   "outputs": [
    {
     "data": {
      "text/plain": [
       "<Figure size 640x480 with 1 Axes>"
      ],
      "image/png": "[encoded data removed]"
     },
     "metadata": {},
     "output_type": "display_data"
    },
    {
     "data": {
      "text/plain": [
       "<Figure size 640x480 with 1 Axes>"
      ],
      "image/png": "[encoded data removed]"
     },
     "metadata": {},
     "output_type": "display_data"
    }
   ],
   "execution_count": 20
  },
  {
   "metadata": {},
   "cell_type": "markdown",
   "source": [
    "### Conclusion\n",
    "\n",
    "There is a sizable difference between the implementations. This needs to be fixed."
   ],
   "id": "d2340c4208735cdc"
  }
 ],
 "metadata": {
  "kernelspec": {
   "display_name": "Python 3",
   "language": "python",
   "name": "python3"
  },
  "language_info": {
   "codemirror_mode": {
    "name": "ipython",
    "version": 2
   },
   "file_extension": ".py",
   "mimetype": "text/x-python",
   "name": "python",
   "nbconvert_exporter": "python",
   "pygments_lexer": "ipython2",
   "version": "2.7.6"
  }
 },
 "nbformat": 4,
 "nbformat_minor": 5
}
