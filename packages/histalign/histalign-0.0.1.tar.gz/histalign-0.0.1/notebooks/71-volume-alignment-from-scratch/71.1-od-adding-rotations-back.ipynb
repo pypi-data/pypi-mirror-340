{
 "cells": [
  {
   "metadata": {
    "collapsed": true,
    "ExecuteTime": {
     "end_time": "2025-04-08T14:19:33.646872Z",
     "start_time": "2025-04-08T14:19:31.410200Z"
    }
   },
   "cell_type": "code",
   "outputs": [],
   "execution_count": 1,
   "source": [
    "from collections.abc import Sequence\n",
    "import json\n",
    "from pathlib import Path\n",
    "import re\n",
    "from typing import Any\n",
    "\n",
    "import h5py\n",
    "import matplotlib.pyplot as plt\n",
    "import nrrd\n",
    "import numpy as np\n",
    "from scipy.spatial.distance import euclidean\n",
    "import vedo\n",
    "\n",
    "from histalign.backend.models import AlignmentSettings, Orientation\n",
    "from histalign.backend.registration import Registrator\n",
    "from histalign.backend.registration.alignment import build_aligned_array\n",
    "from histalign.backend.workspace import VolumeSlicer\n",
    "\n",
    "vedo.settings.default_backend = \"vtk\""
   ],
   "id": "92f90fd7e8dee843"
  },
  {
   "metadata": {
    "ExecuteTime": {
     "end_time": "2025-04-08T14:19:33.654471Z",
     "start_time": "2025-04-08T14:19:33.650961Z"
    }
   },
   "cell_type": "code",
   "outputs": [],
   "execution_count": 2,
   "source": [
    "PathType = str | Path\n",
    "\n",
    "ALIGNMENT_FILE_NAME_PATTERN = re.compile(r\"[0-9a-f]{32}\\.json\")\n",
    "_SUPPORTED_TYPES = [\".h5\", \".hdf5\", \".nrrd\", \".json\"]\n",
    "\n",
    "\n",
    "def imshow(image: np.ndarray) -> None:\n",
    "    plt.imshow(image)\n",
    "    plt.axis(False)\n",
    "    plt.show()\n",
    "\n",
    "\n",
    "def show(objects: object | Sequence[object]) -> None:\n",
    "    try:\n",
    "        objects = [] + objects\n",
    "    except TypeError:\n",
    "        objects = [objects]\n",
    "\n",
    "    vedo.show(\n",
    "        objects,\n",
    "        interactive=False,\n",
    "    ).interactive().close()\n",
    "\n",
    "\n",
    "def load_file(path: PathType) -> Any:\n",
    "    path = Path(path)\n",
    "    if (suffix := path.suffix) not in _SUPPORTED_TYPES:\n",
    "        raise ValueError(\n",
    "            f\"File extension not supported. Received: {suffix}. Allowed: {' '.join(_SUPPORTED_TYPES)}\"\n",
    "        )\n",
    "\n",
    "    if suffix == \".json\":\n",
    "        data = json.load(path.open())\n",
    "    elif suffix == \".nrrd\":\n",
    "        data = nrrd.read(path)[0]\n",
    "    elif suffix in [\".h5\", \".hdf5\"]:\n",
    "        with h5py.File(path) as handle:\n",
    "            data = handle[list(handle.keys())[0]][:]\n",
    "\n",
    "    return data"
   ],
   "id": "a69f3711cf6f3fd1"
  },
  {
   "metadata": {
    "ExecuteTime": {
     "end_time": "2025-04-08T14:19:33.802470Z",
     "start_time": "2025-04-08T14:19:33.766063Z"
    }
   },
   "cell_type": "code",
   "outputs": [],
   "execution_count": 3,
   "source": [
    "atlas_path = \"/home/ediun/.local/share/histalign/atlases/average_template_100.nrrd\"\n",
    "atlas_array = load_file(atlas_path)\n",
    "atlas_volume = vedo.Volume(atlas_array)"
   ],
   "id": "e09b2f091d28c6e4"
  },
  {
   "metadata": {
    "ExecuteTime": {
     "end_time": "2025-04-08T14:19:33.840932Z",
     "start_time": "2025-04-08T14:19:33.821139Z"
    }
   },
   "cell_type": "code",
   "outputs": [],
   "execution_count": 4,
   "source": [
    "alignment_array = np.zeros_like(atlas_array)\n",
    "alignment_volume = vedo.Volume(alignment_array)"
   ],
   "id": "e5d2f49d15a74bcc"
  },
  {
   "metadata": {},
   "cell_type": "markdown",
   "source": [
    "## Building an alignment volume\n",
    "\n",
    "To build the array, the following steps are taken:\n",
    "1. List all the alignment paths (settings file ending in .json)\n",
    "2. For each alignment path, load the settings.\n",
    "3. For each settings, load the image.\n",
    "4. For each image, generate a 3D set of points given the alignment settings.\n",
    "5. For each set of points, insert the image data.\n",
    "6. For each set of points, interpolate the data into the final volume (go from mesh to grid)."
   ],
   "id": "f38fd9d67e4165b8"
  },
  {
   "metadata": {},
   "cell_type": "markdown",
   "source": "### 1. List all the alignment paths",
   "id": "648cef01b15110de"
  },
  {
   "metadata": {
    "ExecuteTime": {
     "end_time": "2025-04-08T14:19:33.869142Z",
     "start_time": "2025-04-08T14:19:33.865852Z"
    }
   },
   "cell_type": "code",
   "outputs": [],
   "execution_count": 5,
   "source": [
    "alignment_directory = Path(\n",
    "    \"/home/ediun/histalign-projects/microns_100_coronal_2d_artificial/1a862cb4e4\"\n",
    ")\n",
    "alignment_paths = []\n",
    "for child_path in alignment_directory.iterdir():\n",
    "    if (\n",
    "        child_path.is_dir()\n",
    "        or re.fullmatch(ALIGNMENT_FILE_NAME_PATTERN, child_path.name) is None\n",
    "    ):\n",
    "        continue\n",
    "\n",
    "    alignment_paths.append(child_path)"
   ],
   "id": "f74349e59aeb5484"
  },
  {
   "metadata": {},
   "cell_type": "markdown",
   "source": "### 2. Load the settings",
   "id": "13e5073d046234e0"
  },
  {
   "metadata": {
    "ExecuteTime": {
     "end_time": "2025-04-08T14:19:33.923366Z",
     "start_time": "2025-04-08T14:19:33.916802Z"
    }
   },
   "cell_type": "code",
   "outputs": [],
   "execution_count": 6,
   "source": "alignment_settings = [AlignmentSettings(**load_file(path)) for path in alignment_paths]",
   "id": "2cf97381a7923e47"
  },
  {
   "metadata": {},
   "cell_type": "markdown",
   "source": "### 3. Load the images",
   "id": "bf5c2e3c5d2f4626"
  },
  {
   "metadata": {
    "ExecuteTime": {
     "end_time": "2025-04-08T14:19:33.990331Z",
     "start_time": "2025-04-08T14:19:33.977844Z"
    }
   },
   "cell_type": "code",
   "outputs": [],
   "execution_count": 7,
   "source": "images = [load_file(settings.histology_path) for settings in alignment_settings]",
   "id": "9ca7ff5d467b73a6"
  },
  {
   "metadata": {},
   "cell_type": "markdown",
   "source": "### 4A. Find the origin of the images",
   "id": "3c683fe699d84b19"
  },
  {
   "metadata": {
    "ExecuteTime": {
     "end_time": "2025-04-08T14:19:34.028148Z",
     "start_time": "2025-04-08T14:19:34.025200Z"
    }
   },
   "cell_type": "code",
   "outputs": [],
   "execution_count": 8,
   "source": [
    "centre = (np.array(atlas_array.shape) - 1) / 2\n",
    "\n",
    "origins = []\n",
    "for settings in alignment_settings:\n",
    "    if settings.volume_settings.orientation == Orientation.CORONAL:\n",
    "        origin = centre + [settings.volume_settings.offset, 0, 0]\n",
    "    elif settings.volume_settings.orientation == Orientation.HORIZONTAL:\n",
    "        origin = centre + [0, settings.volume_settings.offset, 0]\n",
    "    elif settings.volume_settings.orientation == Orientation.SAGITTAL:\n",
    "        origin = centre + [0, 0, settings.volume_settings.offset]\n",
    "    else:\n",
    "        raise Exception(\"ASSERT NOT REACHED\")\n",
    "\n",
    "    origins.append(origin)"
   ],
   "id": "4ea6d8b758f380aa"
  },
  {
   "metadata": {},
   "cell_type": "markdown",
   "source": "### 4B. Find the normals of the images",
   "id": "3bd8f55dd8accaf4"
  },
  {
   "metadata": {
    "ExecuteTime": {
     "end_time": "2025-04-08T14:19:34.079234Z",
     "start_time": "2025-04-08T14:19:34.076373Z"
    }
   },
   "cell_type": "code",
   "outputs": [],
   "execution_count": 9,
   "source": [
    "normals = []\n",
    "for settings in alignment_settings:\n",
    "    if settings.volume_settings.orientation == Orientation.CORONAL:\n",
    "        normal = [1, 0, 0]\n",
    "    elif settings.volume_settings.orientation == Orientation.HORIZONTAL:\n",
    "        normal = [0, 1, 0]\n",
    "    elif settings.volume_settings.orientation == Orientation.SAGITTAL:\n",
    "        normal = [0, 0, 1]\n",
    "    else:\n",
    "        raise Exception(\"ASSERT NOT REACHED\")\n",
    "\n",
    "    normals.append(normal)"
   ],
   "id": "aacb290e2e791326"
  },
  {
   "metadata": {},
   "cell_type": "markdown",
   "source": [
    "### 4C. Generate planes for the images\n",
    "\n",
    "Each of the plane has an attribute called `points`.\n",
    "This attribute contains 4 sets of coordinates. Using the right-hand rule, the first set is for the top-right point (smallest Y, largest Z), the second set is for the bottom-right (smallest y, smallest Z), the third set is for the top-left (largest Y, largest Z), and the fourth set is for the bottom-left (largest Y, smallest Z).\n",
    "\n",
    "To visualise the positions, the following code can help:\n",
    "```python\n",
    "plane = planes[0]\n",
    "\n",
    "cam = dict(\n",
    "    position=(-250, 500, 250),\n",
    "    focal_point=(50, 50, 50),\n",
    "    viewup=(0, 0, 1),\n",
    ")\n",
    "\n",
    "vedo.show(\n",
    "    [\n",
    "        plane,\n",
    "        vedo.Point(plane.points[0], r=10, c=\"red\"),\n",
    "        vedo.Point(plane.points[1], r=10, c=\"cyan\"),\n",
    "        vedo.Point(plane.points[2], r=10, c=\"blue\"),\n",
    "        vedo.Point(plane.points[3], r=10, c=\"black\"),\n",
    "    ],\n",
    "    axes=3,\n",
    "    camera=cam,\n",
    "    interactive=False,\n",
    ").interactive().close();\n",
    "```"
   ],
   "id": "ef4ca3da13de6f6c"
  },
  {
   "metadata": {
    "ExecuteTime": {
     "end_time": "2025-04-08T14:19:34.135752Z",
     "start_time": "2025-04-08T14:19:34.127721Z"
    }
   },
   "cell_type": "code",
   "outputs": [],
   "execution_count": 10,
   "source": [
    "planes = []\n",
    "for settings, origin, normal in zip(alignment_settings, origins, normals):\n",
    "    plane = vedo.Plane(\n",
    "        pos=origin, normal=normal, s=(1.5 * max(settings.volume_settings.shape),) * 2\n",
    "    )\n",
    "\n",
    "    planes.append(plane)"
   ],
   "id": "c34a755cd342bb20"
  },
  {
   "metadata": {},
   "cell_type": "markdown",
   "source": "### 4D. Generate 3D points for each pixel of the images",
   "id": "d02c664c3c749c8"
  },
  {
   "metadata": {
    "ExecuteTime": {
     "end_time": "2025-04-08T14:19:34.257181Z",
     "start_time": "2025-04-08T14:19:34.177152Z"
    }
   },
   "cell_type": "code",
   "outputs": [],
   "execution_count": 11,
   "source": [
    "point_clouds = []\n",
    "for plane in planes:\n",
    "    # Extract 3 corners of the plane. p1 is the closest to (0, 0, 0)\n",
    "    p0, p1, _, p3 = plane.points\n",
    "\n",
    "    # Compute the shape of the plane from two perpendicular edges. This is a fence/post\n",
    "    # problem where fences are  the Euclidean distances and  pixels (i.e., shape) are\n",
    "    # the posts. Hence, need to add one to each.\n",
    "    shape = list(map(round, (euclidean(p1, p0) + 1, euclidean(p1, p3) + 1)))\n",
    "\n",
    "    # Compute the normals of those two edges and normalise them to be unit length\n",
    "    normal1 = (plane.points[0] - plane.points[1]) / euclidean(p1, p0)\n",
    "    normal2 = (plane.points[3] - plane.points[1]) / euclidean(p1, p3)\n",
    "\n",
    "    # Generate a grid of coordinates from (0, 0, 0) the same size at the plane\n",
    "    # and only technically 2D.\n",
    "    xs, ys = np.meshgrid(\n",
    "        np.linspace(0, shape[0], shape[0]), np.linspace(0, shape[1], shape[1])\n",
    "    )\n",
    "    points = np.vstack([xs.ravel(), ys.ravel()])\n",
    "\n",
    "    # Convert the grid to 3D based on the plane orthogonal normals\n",
    "    points = np.dot(np.vstack((normal1, normal2)).T, points).T\n",
    "\n",
    "    # Translate grid origin to the plane's bottom-right\n",
    "    points = p1 + points\n",
    "\n",
    "    points = vedo.Points(points)\n",
    "    point_clouds.append(points)"
   ],
   "id": "38aec1a8decbbf94"
  },
  {
   "metadata": {},
   "cell_type": "markdown",
   "source": "### 5. Insert image data into point clouds",
   "id": "52fdc3e8773592a2"
  },
  {
   "metadata": {
    "ExecuteTime": {
     "end_time": "2025-04-08T14:19:34.498774Z",
     "start_time": "2025-04-08T14:19:34.278814Z"
    }
   },
   "cell_type": "code",
   "outputs": [],
   "execution_count": 12,
   "source": [
    "registrator = Registrator()\n",
    "for points, image, settings, origin in zip(\n",
    "    point_clouds, images, alignment_settings, origins\n",
    "):\n",
    "    registered_image = registrator.get_forwarded_image(image, settings, origin.tolist())\n",
    "    # TODO: Very ugly. Why need to shift by 1?\n",
    "    # registered_image = registered_image[1:]\n",
    "    # registered_image = np.pad(registered_image, [[0, 1], [0, 0]])\n",
    "\n",
    "    points.pointdata[\"ImageScalars\"] = registered_image.flatten()"
   ],
   "id": "e1078a24a8a86ae5"
  },
  {
   "metadata": {},
   "cell_type": "markdown",
   "source": "### 6. Interpolate the point clouds into the final volume",
   "id": "6198dd88b69c6164"
  },
  {
   "metadata": {
    "ExecuteTime": {
     "end_time": "2025-04-08T14:19:35.272862Z",
     "start_time": "2025-04-08T14:19:34.523021Z"
    }
   },
   "cell_type": "code",
   "outputs": [],
   "execution_count": 13,
   "source": [
    "interpolation_array = np.zeros_like(alignment_array)\n",
    "for points in point_clouds:\n",
    "    tmp_array = alignment_volume.interpolate_data_from(\n",
    "        points, radius=1, kernel=\"shepard\"\n",
    "    ).tonumpy()\n",
    "    tmp_array = np.round(tmp_array).astype(np.uint16)\n",
    "\n",
    "    interpolation_array[:] = np.maximum(interpolation_array, tmp_array)\n",
    "\n",
    "alignment_volume = vedo.Volume(interpolation_array)"
   ],
   "id": "93135cbc49f52691"
  },
  {
   "metadata": {},
   "cell_type": "markdown",
   "source": "### 7. Checking the work",
   "id": "4611cce81db5ef1"
  },
  {
   "metadata": {
    "ExecuteTime": {
     "end_time": "2025-04-08T14:23:14.442774Z",
     "start_time": "2025-04-08T14:23:14.402183Z"
    }
   },
   "cell_type": "code",
   "outputs": [
    {
     "data": {
      "text/plain": [
       "<Figure size 640x480 with 1 Axes>"
      ],
      "image/png": "[encoded data removed]"
     },
     "metadata": {},
     "output_type": "display_data"
    },
    {
     "data": {
      "text/plain": [
       "<Figure size 640x480 with 1 Axes>"
      ],
      "image/png": "[encoded data removed]"
     },
     "metadata": {},
     "output_type": "display_data"
    }
   ],
   "execution_count": 29,
   "source": [
    "atlas_slicer = VolumeSlicer(volume=atlas_volume)\n",
    "target_image = atlas_slicer.slice(alignment_settings[0].volume_settings)\n",
    "\n",
    "alignment_slicer = VolumeSlicer(volume=alignment_volume)\n",
    "actual_image = alignment_slicer.slice(alignment_settings[0].volume_settings)\n",
    "\n",
    "# roi = (slice(None), slice(None))\n",
    "roi = (slice(66, 132), slice(66, 100))\n",
    "# roi = (slice(75, 85), slice(90, 100))\n",
    "# roi = (slice(75, 95), slice(90, 110))\n",
    "\n",
    "imshow(target_image[roi])\n",
    "imshow(actual_image[roi])"
   ],
   "id": "ca6c3dcc2c8b7d39"
  },
  {
   "metadata": {},
   "cell_type": "markdown",
   "source": "### 8. Comparing with current implementation",
   "id": "1cde953596eaf81"
  },
  {
   "metadata": {
    "ExecuteTime": {
     "end_time": "2025-04-08T14:23:17.811478Z",
     "start_time": "2025-04-08T14:23:17.749171Z"
    }
   },
   "cell_type": "code",
   "outputs": [
    {
     "data": {
      "text/plain": [
       "<Figure size 640x480 with 1 Axes>"
      ],
      "image/png": "[encoded data removed]"
     },
     "metadata": {},
     "output_type": "display_data"
    },
    {
     "data": {
      "text/plain": [
       "<Figure size 640x480 with 1 Axes>"
      ],
      "image/png": "[encoded data removed]"
     },
     "metadata": {},
     "output_type": "display_data"
    }
   ],
   "execution_count": 30,
   "source": [
    "build_aligned_array(alignment_directory, \"\", \"\", \"\")\n",
    "current_alignment_array = load_file(\n",
    "    \"/home/ediun/histalign-projects/microns_100_coronal_2d_artificial/1a862cb4e4/volumes/aligned/1a862cb4e4.h5\"\n",
    ")\n",
    "current_alignment_volume = vedo.Volume(current_alignment_array)\n",
    "\n",
    "atlas_slicer = VolumeSlicer(volume=atlas_volume)\n",
    "target_image = atlas_slicer.slice(alignment_settings[0].volume_settings)\n",
    "\n",
    "current_alignment_slicer = VolumeSlicer(volume=current_alignment_volume)\n",
    "actual_image = current_alignment_slicer.slice(alignment_settings[0].volume_settings)\n",
    "\n",
    "imshow(target_image[roi])\n",
    "imshow(actual_image[roi])"
   ],
   "id": "bfcf96cb0fb87827"
  },
  {
   "metadata": {},
   "cell_type": "markdown",
   "source": [
    "### Conclusion\n",
    "\n",
    "There is a sizable difference between the implementations. This needs to be fixed."
   ],
   "id": "2252fe88af8c04dc"
  }
 ],
 "metadata": {
  "kernelspec": {
   "display_name": "Python 3",
   "language": "python",
   "name": "python3"
  },
  "language_info": {
   "codemirror_mode": {
    "name": "ipython",
    "version": 2
   },
   "file_extension": ".py",
   "mimetype": "text/x-python",
   "name": "python",
   "nbconvert_exporter": "python",
   "pygments_lexer": "ipython2",
   "version": "2.7.6"
  }
 },
 "nbformat": 4,
 "nbformat_minor": 5
}
