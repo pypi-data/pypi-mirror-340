{
 "cells": [
  {
   "cell_type": "code",
   "id": "initial_id",
   "metadata": {
    "collapsed": true,
    "ExecuteTime": {
     "end_time": "2025-04-10T10:11:17.835644Z",
     "start_time": "2025-04-10T10:11:17.831687Z"
    }
   },
   "source": [
    "from collections.abc import Sequence\n",
    "import json\n",
    "from pathlib import Path\n",
    "import re\n",
    "from typing import Any\n",
    "\n",
    "import h5py\n",
    "import matplotlib.pyplot as plt\n",
    "import nrrd\n",
    "import numpy as np\n",
    "from scipy.spatial.distance import euclidean\n",
    "import vedo\n",
    "\n",
    "from histalign.backend.maths import compute_centre, compute_normal, compute_origin\n",
    "from histalign.backend.models import AlignmentSettings, Orientation\n",
    "from histalign.backend.registration import Registrator\n",
    "from histalign.backend.registration.alignment import (\n",
    "    build_aligned_array,\n",
    "    build_aligned_array_new,\n",
    ")\n",
    "from histalign.backend.workspace import VolumeSlicer\n",
    "\n",
    "vedo.settings.default_backend = \"vtk\""
   ],
   "outputs": [],
   "execution_count": 2
  },
  {
   "metadata": {
    "ExecuteTime": {
     "end_time": "2025-04-10T10:11:17.844760Z",
     "start_time": "2025-04-10T10:11:17.840985Z"
    }
   },
   "cell_type": "code",
   "source": [
    "PathType = str | Path\n",
    "\n",
    "ALIGNMENT_FILE_NAME_PATTERN = re.compile(r\"[0-9a-f]{32}\\.json\")\n",
    "_SUPPORTED_TYPES = [\".h5\", \".hdf5\", \".nrrd\", \".json\"]\n",
    "\n",
    "\n",
    "def imshow(image: np.ndarray) -> None:\n",
    "    plt.imshow(image)\n",
    "    plt.axis(False)\n",
    "    plt.show()\n",
    "\n",
    "\n",
    "def show(objects: object | Sequence[object]) -> None:\n",
    "    try:\n",
    "        objects = [] + objects\n",
    "    except TypeError:\n",
    "        objects = [objects]\n",
    "\n",
    "    vedo.show(\n",
    "        objects,\n",
    "        interactive=False,\n",
    "    ).interactive().close()\n",
    "\n",
    "\n",
    "def load_file(path: PathType) -> Any:\n",
    "    path = Path(path)\n",
    "    if (suffix := path.suffix) not in _SUPPORTED_TYPES:\n",
    "        raise ValueError(\n",
    "            f\"File extension not supported. Received: {suffix}. Allowed: {' '.join(_SUPPORTED_TYPES)}\"\n",
    "        )\n",
    "\n",
    "    if suffix == \".json\":\n",
    "        data = json.load(path.open())\n",
    "    elif suffix == \".nrrd\":\n",
    "        data = nrrd.read(path)[0]\n",
    "    elif suffix in [\".h5\", \".hdf5\"]:\n",
    "        with h5py.File(path) as handle:\n",
    "            data = handle[list(handle.keys())[0]][:]\n",
    "\n",
    "    return data"
   ],
   "id": "69457d8a8ebe2616",
   "outputs": [],
   "execution_count": 3
  },
  {
   "metadata": {
    "ExecuteTime": {
     "end_time": "2025-04-10T10:11:17.937559Z",
     "start_time": "2025-04-10T10:11:17.897437Z"
    }
   },
   "cell_type": "code",
   "source": [
    "atlas_path = \"/home/ediun/.local/share/histalign/atlases/average_template_100.nrrd\"\n",
    "atlas_array = load_file(atlas_path)\n",
    "atlas_volume = vedo.Volume(atlas_array)"
   ],
   "id": "50bab264b565bc",
   "outputs": [],
   "execution_count": 4
  },
  {
   "metadata": {
    "ExecuteTime": {
     "end_time": "2025-04-10T10:11:17.972444Z",
     "start_time": "2025-04-10T10:11:17.955340Z"
    }
   },
   "cell_type": "code",
   "source": [
    "alignment_array = np.zeros_like(atlas_array)\n",
    "alignment_volume = vedo.Volume(alignment_array)"
   ],
   "id": "75758886683881c8",
   "outputs": [],
   "execution_count": 5
  },
  {
   "metadata": {},
   "cell_type": "markdown",
   "source": [
    "## Building an alignment volume\n",
    "\n",
    "To build the array, the following steps are taken:\n",
    "1. List all the alignment paths (settings file ending in .json)\n",
    "2. For each alignment path, load the settings.\n",
    "3. For each settings, load the image.\n",
    "4. For each image, generate a 3D set of points given the alignment settings.\n",
    "5. For each set of points, insert the image data.\n",
    "6. For each set of points, interpolate the data into the final volume (go from mesh to grid)."
   ],
   "id": "33d9d1e7b3ffed3a"
  },
  {
   "metadata": {},
   "cell_type": "markdown",
   "source": "### 1. List all the alignment paths",
   "id": "7d44c73d0211db97"
  },
  {
   "metadata": {
    "ExecuteTime": {
     "end_time": "2025-04-10T10:11:18.009260Z",
     "start_time": "2025-04-10T10:11:18.005698Z"
    }
   },
   "cell_type": "code",
   "source": [
    "# hash_ = \"1a862cb4e4\"  # Normal\n",
    "hash_ = \"526dc53bcb\"  # Rotated\n",
    "alignment_directory = Path(\n",
    "    f\"/home/ediun/histalign-projects/microns_100_coronal_2d_artificial/{hash_}\"\n",
    ")\n",
    "alignment_paths = []\n",
    "for child_path in alignment_directory.iterdir():\n",
    "    if (\n",
    "        child_path.is_dir()\n",
    "        or re.fullmatch(ALIGNMENT_FILE_NAME_PATTERN, child_path.name) is None\n",
    "    ):\n",
    "        continue\n",
    "\n",
    "    alignment_paths.append(child_path)"
   ],
   "id": "cbb2e7de7f6a211d",
   "outputs": [],
   "execution_count": 6
  },
  {
   "metadata": {},
   "cell_type": "markdown",
   "source": "### 2. Load the settings",
   "id": "bf2c652f1f0e11a"
  },
  {
   "metadata": {
    "ExecuteTime": {
     "end_time": "2025-04-10T10:11:18.061717Z",
     "start_time": "2025-04-10T10:11:18.055540Z"
    }
   },
   "cell_type": "code",
   "source": "alignment_settings = [AlignmentSettings(**load_file(path)) for path in alignment_paths]",
   "id": "172a250115c9dfd",
   "outputs": [],
   "execution_count": 7
  },
  {
   "metadata": {},
   "cell_type": "markdown",
   "source": "### 3. Load the images",
   "id": "e2d2512afe72cc8d"
  },
  {
   "metadata": {
    "ExecuteTime": {
     "end_time": "2025-04-10T10:11:18.118322Z",
     "start_time": "2025-04-10T10:11:18.107077Z"
    }
   },
   "cell_type": "code",
   "source": [
    "images = [load_file(settings.histology_path) for settings in alignment_settings]"
   ],
   "id": "85fbdeb2dc76e718",
   "outputs": [],
   "execution_count": 8
  },
  {
   "metadata": {},
   "cell_type": "markdown",
   "source": "### 4A. Find the origin of the images",
   "id": "4c0e06c86799286e"
  },
  {
   "metadata": {
    "ExecuteTime": {
     "end_time": "2025-04-10T10:11:18.243557Z",
     "start_time": "2025-04-10T10:11:18.241207Z"
    }
   },
   "cell_type": "code",
   "source": [
    "# centre = (np.array(atlas_array.shape) - 1) // 2\n",
    "#\n",
    "# origins = []\n",
    "# for settings in alignment_settings:\n",
    "#     if settings.volume_settings.orientation == Orientation.CORONAL:\n",
    "#         origin = centre + [settings.volume_settings.offset, 0, 0]\n",
    "#     elif settings.volume_settings.orientation == Orientation.HORIZONTAL:\n",
    "#         origin = centre + [0, settings.volume_settings.offset, 0]\n",
    "#     elif settings.volume_settings.orientation == Orientation.SAGITTAL:\n",
    "#         origin = centre + [0, 0, settings.volume_settings.offset]\n",
    "#     else:\n",
    "#         raise Exception(\"ASSERT NOT REACHED\")\n",
    "#\n",
    "#     origins.append(origin)"
   ],
   "id": "8344ae1a2d87024",
   "outputs": [],
   "execution_count": 9
  },
  {
   "metadata": {
    "ExecuteTime": {
     "end_time": "2025-04-10T10:11:18.295654Z",
     "start_time": "2025-04-10T10:11:18.292073Z"
    }
   },
   "cell_type": "code",
   "source": [
    "origins = [\n",
    "    compute_origin(compute_centre(atlas_array.shape), settings.volume_settings)\n",
    "    for settings in alignment_settings\n",
    "]"
   ],
   "id": "5a40a8eedb88f561",
   "outputs": [],
   "execution_count": 10
  },
  {
   "metadata": {},
   "cell_type": "markdown",
   "source": "### 4B. Find the normals of the images",
   "id": "c46d81fce593bd5e"
  },
  {
   "metadata": {
    "ExecuteTime": {
     "end_time": "2025-04-10T10:11:18.352168Z",
     "start_time": "2025-04-10T10:11:18.348Z"
    }
   },
   "cell_type": "code",
   "source": [
    "normals = []\n",
    "for settings in alignment_settings:\n",
    "    normals.append(compute_normal(settings.volume_settings))"
   ],
   "id": "11fb03758c847472",
   "outputs": [],
   "execution_count": 11
  },
  {
   "metadata": {},
   "cell_type": "markdown",
   "source": [
    "### 4C. Generate planes for the images\n",
    "\n",
    "Each of the plane has an attribute called `points`.\n",
    "This attribute contains 4 sets of coordinates. Using the right-hand rule, the first set is for the top-right point (smallest Y, largest Z), the second set is for the bottom-right (smallest y, smallest Z), the third set is for the top-left (largest Y, largest Z), and the fourth set is for the bottom-left (largest Y, smallest Z).\n",
    "\n",
    "To visualise the positions, the following code can help:\n",
    "```python\n",
    "plane = planes[0]\n",
    "\n",
    "cam = dict(\n",
    "    position=(-250, 500, 250),\n",
    "    focal_point=(50, 50, 50),\n",
    "    viewup=(0, 0, 1),\n",
    ")\n",
    "\n",
    "vedo.show(\n",
    "    [\n",
    "        plane,\n",
    "        vedo.Point(plane.points[0], r=10, c=\"red\"),\n",
    "        vedo.Point(plane.points[1], r=10, c=\"cyan\"),\n",
    "        vedo.Point(plane.points[2], r=10, c=\"blue\"),\n",
    "        vedo.Point(plane.points[3], r=10, c=\"black\"),\n",
    "    ],\n",
    "    axes=3,\n",
    "    camera=cam,\n",
    "    interactive=False,\n",
    ").interactive().close();\n",
    "```"
   ],
   "id": "df7357e51113c3ba"
  },
  {
   "metadata": {
    "ExecuteTime": {
     "end_time": "2025-04-10T10:11:18.415026Z",
     "start_time": "2025-04-10T10:11:18.406272Z"
    }
   },
   "cell_type": "code",
   "source": [
    "planes = []\n",
    "for settings, origin, normal in zip(alignment_settings, origins, normals):\n",
    "    plane = vedo.Plane(\n",
    "        pos=origin, normal=normal, s=(1.5 * max(settings.volume_settings.shape),) * 2\n",
    "    )\n",
    "\n",
    "    planes.append(plane)"
   ],
   "id": "3ff156ec3d616deb",
   "outputs": [],
   "execution_count": 12
  },
  {
   "metadata": {},
   "cell_type": "markdown",
   "source": "### 4D. Generate 3D points for each pixel of the images",
   "id": "c61efde5860a4d7a"
  },
  {
   "metadata": {
    "ExecuteTime": {
     "end_time": "2025-04-10T10:11:18.558653Z",
     "start_time": "2025-04-10T10:11:18.466386Z"
    }
   },
   "cell_type": "code",
   "source": [
    "point_clouds = []\n",
    "for plane in planes:\n",
    "    # Extract 3 corners of the plane. p1 is the closest to (0, 0, 0)\n",
    "    p0, p1, _, p3 = plane.points\n",
    "\n",
    "    # Compute the shape of the plane from two perpendicular edges. This is a fence/post\n",
    "    # problem where fences are  the Euclidean distances and  pixels (i.e., shape) are\n",
    "    # the posts. Hence, need to add one to each.\n",
    "    shape = list(map(round, (euclidean(p1, p0) + 1, euclidean(p1, p3) + 1)))\n",
    "\n",
    "    # Compute the normals of those two edges and normalise them to be unit length\n",
    "    normal1 = (p0 - p1) / euclidean(p1, p0)\n",
    "    normal2 = (p3 - p1) / euclidean(p1, p3)\n",
    "\n",
    "    # Generate a grid of coordinates from (0, 0, 0) the same size at the plane\n",
    "    # and only technically 2D.\n",
    "    xs, ys = np.meshgrid(\n",
    "        np.linspace(0, shape[0], shape[0]), np.linspace(0, shape[1], shape[1])\n",
    "    )\n",
    "    points = np.vstack([xs.ravel(), ys.ravel()])\n",
    "\n",
    "    # Convert the grid to 3D based on the plane orthogonal normals\n",
    "    points = np.dot(np.vstack((normal1, normal2)).T, points).T\n",
    "\n",
    "    # Translate grid origin to the plane's bottom-right\n",
    "    points = p1 + points\n",
    "\n",
    "    points = vedo.Points(points)\n",
    "    point_clouds.append(points)"
   ],
   "id": "2bbdd25ec3b30314",
   "outputs": [],
   "execution_count": 13
  },
  {
   "metadata": {},
   "cell_type": "markdown",
   "source": "### 5. Insert image data into point clouds",
   "id": "3b91696e68b24077"
  },
  {
   "metadata": {
    "ExecuteTime": {
     "end_time": "2025-04-10T10:11:18.794435Z",
     "start_time": "2025-04-10T10:11:18.589750Z"
    }
   },
   "cell_type": "code",
   "source": [
    "registrator = Registrator()\n",
    "for points, image, settings, origin in zip(\n",
    "    point_clouds, images, alignment_settings, origins\n",
    "):\n",
    "    registered_image = registrator.get_forwarded_image(image, settings, origin.tolist())\n",
    "\n",
    "    points.pointdata[\"ImageScalars\"] = registered_image.flatten()"
   ],
   "id": "c95953165160200f",
   "outputs": [],
   "execution_count": 14
  },
  {
   "metadata": {
    "ExecuteTime": {
     "end_time": "2025-04-10T10:11:18.835842Z",
     "start_time": "2025-04-10T10:11:18.820138Z"
    }
   },
   "cell_type": "code",
   "source": [
    "slicer = VolumeSlicer(volume=atlas_volume)\n",
    "\n",
    "origin = origins[0].astype(int).tolist()\n",
    "print(slicer.slice(alignment_settings[0].volume_settings, origin=origin).shape)\n",
    "print(\n",
    "    slicer.slice(\n",
    "        alignment_settings[0].volume_settings.model_copy(\n",
    "            deep=True, update={\"pitch\": 22, \"yaw\": 6}\n",
    "        ),\n",
    "        origin=origin,\n",
    "    ).shape\n",
    ")"
   ],
   "id": "155c4b715160de73",
   "outputs": [
    {
     "name": "stdout",
     "output_type": "stream",
     "text": [
      "(198, 198)\n",
      "(198, 198)\n"
     ]
    }
   ],
   "execution_count": 15
  },
  {
   "metadata": {},
   "cell_type": "markdown",
   "source": "### 6. Interpolate the point clouds into the final volume",
   "id": "f89635d97fde8874"
  },
  {
   "metadata": {
    "ExecuteTime": {
     "end_time": "2025-04-10T10:11:18.870193Z",
     "start_time": "2025-04-10T10:11:18.867992Z"
    }
   },
   "cell_type": "code",
   "source": [
    "# interpolation_array = np.zeros_like(alignment_array)\n",
    "# for points in point_clouds:\n",
    "#     tmp_array = alignment_volume.interpolate_data_from(\n",
    "#         points, radius=1, kernel=\"shepard\"\n",
    "#     ).tonumpy()\n",
    "#     tmp_array = np.round(tmp_array).astype(np.uint16)\n",
    "#\n",
    "#     interpolation_array[:] = np.maximum(interpolation_array, tmp_array)\n",
    "#\n",
    "# alignment_volume = vedo.Volume(interpolation_array)"
   ],
   "id": "544c838205c7c61a",
   "outputs": [],
   "execution_count": 16
  },
  {
   "metadata": {
    "ExecuteTime": {
     "end_time": "2025-04-10T10:11:19.400087Z",
     "start_time": "2025-04-10T10:11:18.915442Z"
    }
   },
   "cell_type": "code",
   "source": [
    "# 6. Interpolate the point clouds into the final volume\n",
    "# Array where planes are inserted\n",
    "interpolation_array = np.zeros(\n",
    "    alignment_settings[0].volume_settings.shape, dtype=np.uint16\n",
    ")\n",
    "# Placeholder volume used to query the grid coordinates when interpolating\n",
    "tmp_volume = vedo.Volume(interpolation_array)\n",
    "for points in point_clouds:\n",
    "    # Interpolate and store the result in a temporary array\n",
    "    tmp_array = tmp_volume.interpolate_data_from(points, radius=1).tonumpy()\n",
    "    tmp_array = np.round(tmp_array).astype(np.uint16)\n",
    "\n",
    "    # TODO: Might be worth thinking of another way to merge. Using the maximum works\n",
    "    #       fine when working with non-overlapping slices but a mean or something\n",
    "    #       similar might make more sense when tmp_array and aligned_array have\n",
    "    #       common, non-zero points.\n",
    "    # Merge the new plane into the master array\n",
    "    interpolation_array[:] = np.maximum(interpolation_array, tmp_array)\n",
    "\n",
    "alignment_volume = vedo.Volume(interpolation_array)"
   ],
   "id": "6f63733f90ef056f",
   "outputs": [],
   "execution_count": 17
  },
  {
   "metadata": {},
   "cell_type": "markdown",
   "source": "### 7. Checking the work",
   "id": "1054166651813790"
  },
  {
   "metadata": {
    "ExecuteTime": {
     "end_time": "2025-04-10T10:11:19.487239Z",
     "start_time": "2025-04-10T10:11:19.424959Z"
    }
   },
   "cell_type": "code",
   "source": [
    "atlas_slicer = VolumeSlicer(volume=atlas_volume)\n",
    "target_image = atlas_slicer.slice(alignment_settings[0].volume_settings)\n",
    "\n",
    "alignment_slicer = VolumeSlicer(volume=alignment_volume)\n",
    "actual_image = alignment_slicer.slice(alignment_settings[0].volume_settings)\n",
    "\n",
    "# roi = (slice(None), slice(None))\n",
    "# roi = (slice(66, 132), slice(66, 100))\n",
    "roi = (slice(66, 132), slice(66, 101))\n",
    "# roi = (slice(75, 85), slice(90, 100))\n",
    "# roi = (slice(95, 105), slice(95, 105))\n",
    "\n",
    "imshow(target_image[roi])\n",
    "imshow(actual_image[roi])"
   ],
   "id": "6f8f6e66c3db0cd7",
   "outputs": [
    {
     "data": {
      "text/plain": [
       "<Figure size 640x480 with 1 Axes>"
      ],
      "image/png": "[encoded data removed]"
     },
     "metadata": {},
     "output_type": "display_data"
    },
    {
     "data": {
      "text/plain": [
       "<Figure size 640x480 with 1 Axes>"
      ],
      "image/png": "[encoded data removed]"
     },
     "metadata": {},
     "output_type": "display_data"
    }
   ],
   "execution_count": 18
  },
  {
   "metadata": {
    "ExecuteTime": {
     "end_time": "2025-04-10T10:11:19.548094Z",
     "start_time": "2025-04-10T10:11:19.511770Z"
    }
   },
   "cell_type": "code",
   "source": [
    "atlas_slicer = VolumeSlicer(volume=atlas_volume)\n",
    "target_image = atlas_slicer.slice(alignment_settings[0].volume_settings)\n",
    "\n",
    "alignment_slicer = VolumeSlicer(volume=alignment_volume)\n",
    "actual_image = alignment_slicer.slice(alignment_settings[0].volume_settings)\n",
    "\n",
    "imshow(target_image[roi])\n",
    "imshow(actual_image[roi])"
   ],
   "id": "39a788289d91c0d4",
   "outputs": [
    {
     "data": {
      "text/plain": [
       "<Figure size 640x480 with 1 Axes>"
      ],
      "image/png": "[encoded data removed]"
     },
     "metadata": {},
     "output_type": "display_data"
    },
    {
     "data": {
      "text/plain": [
       "<Figure size 640x480 with 1 Axes>"
      ],
      "image/png": "[encoded data removed]"
     },
     "metadata": {},
     "output_type": "display_data"
    }
   ],
   "execution_count": 19
  },
  {
   "metadata": {},
   "cell_type": "markdown",
   "source": "### 8. Comparing with current implementation",
   "id": "abab10114fae32c6"
  },
  {
   "metadata": {
    "ExecuteTime": {
     "end_time": "2025-04-10T10:11:20.369551Z",
     "start_time": "2025-04-10T10:11:19.593138Z"
    }
   },
   "cell_type": "code",
   "source": [
    "build_aligned_array_new(alignment_directory, force=True)\n",
    "current_alignment_array = load_file(\n",
    "    f\"/home/ediun/histalign-projects/microns_100_coronal_2d_artificial/{hash_}/volumes/aligned/{hash_}.h5\"\n",
    ")\n",
    "current_alignment_volume = vedo.Volume(current_alignment_array)\n",
    "\n",
    "atlas_slicer = VolumeSlicer(volume=atlas_volume)\n",
    "target_image = atlas_slicer.slice(alignment_settings[0].volume_settings)\n",
    "\n",
    "current_alignment_slicer = VolumeSlicer(volume=current_alignment_volume)\n",
    "actual_image = current_alignment_slicer.slice(alignment_settings[0].volume_settings)\n",
    "\n",
    "imshow(target_image[roi])\n",
    "imshow(actual_image[roi])"
   ],
   "id": "549bf1a3fab3898b",
   "outputs": [
    {
     "data": {
      "text/plain": [
       "<Figure size 640x480 with 1 Axes>"
      ],
      "image/png": "[encoded data removed]"
     },
     "metadata": {},
     "output_type": "display_data"
    },
    {
     "data": {
      "text/plain": [
       "<Figure size 640x480 with 1 Axes>"
      ],
      "image/png": "[encoded data removed]"
     },
     "metadata": {},
     "output_type": "display_data"
    }
   ],
   "execution_count": 20
  },
  {
   "metadata": {
    "ExecuteTime": {
     "end_time": "2025-04-10T10:11:21.309429Z",
     "start_time": "2025-04-10T10:11:20.376769Z"
    }
   },
   "cell_type": "code",
   "source": [
    "build_aligned_array(alignment_directory, \"\", \"\", \"\", force=True)\n",
    "current_alignment_array = load_file(\n",
    "    f\"/home/ediun/histalign-projects/microns_100_coronal_2d_artificial/{hash_}/volumes/aligned/{hash_}.h5\"\n",
    ")\n",
    "current_alignment_volume = vedo.Volume(current_alignment_array)\n",
    "\n",
    "atlas_slicer = VolumeSlicer(volume=atlas_volume)\n",
    "target_image = atlas_slicer.slice(alignment_settings[0].volume_settings)\n",
    "\n",
    "current_alignment_slicer = VolumeSlicer(volume=current_alignment_volume)\n",
    "actual_image = current_alignment_slicer.slice(alignment_settings[0].volume_settings)\n",
    "\n",
    "imshow(target_image[roi])\n",
    "imshow(actual_image[roi])"
   ],
   "id": "2d825003a3b3e478",
   "outputs": [
    {
     "data": {
      "text/plain": [
       "<Figure size 640x480 with 1 Axes>"
      ],
      "image/png": "[encoded data removed]"
     },
     "metadata": {},
     "output_type": "display_data"
    },
    {
     "data": {
      "text/plain": [
       "<Figure size 640x480 with 1 Axes>"
      ],
      "image/png": "[encoded data removed]"
     },
     "metadata": {},
     "output_type": "display_data"
    }
   ],
   "execution_count": 21
  },
  {
   "metadata": {},
   "cell_type": "markdown",
   "source": [
    "### Conclusion\n",
    "\n",
    "There is a sizable difference between the implementations. This needs to be fixed."
   ],
   "id": "5c1862fecec3f8d6"
  }
 ],
 "metadata": {
  "kernelspec": {
   "display_name": "Python 3",
   "language": "python",
   "name": "python3"
  },
  "language_info": {
   "codemirror_mode": {
    "name": "ipython",
    "version": 2
   },
   "file_extension": ".py",
   "mimetype": "text/x-python",
   "name": "python",
   "nbconvert_exporter": "python",
   "pygments_lexer": "ipython2",
   "version": "2.7.6"
  }
 },
 "nbformat": 4,
 "nbformat_minor": 5
}
