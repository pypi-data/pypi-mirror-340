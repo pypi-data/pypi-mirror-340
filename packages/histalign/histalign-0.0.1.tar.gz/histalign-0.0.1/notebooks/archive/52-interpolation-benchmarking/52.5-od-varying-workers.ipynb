{
 "cells": [
  {
   "cell_type": "code",
   "id": "initial_id",
   "metadata": {
    "collapsed": true,
    "ExecuteTime": {
     "end_time": "2024-11-13T10:23:31.625824Z",
     "start_time": "2024-11-13T10:23:30.119128Z"
    }
   },
   "source": [
    "import time\n",
    "\n",
    "from helper_loader import *\n",
    "\n",
    "set_log_level(\"DEBUG\")"
   ],
   "outputs": [],
   "execution_count": 1
  },
  {
   "metadata": {
    "ExecuteTime": {
     "end_time": "2024-11-13T10:23:31.641026Z",
     "start_time": "2024-11-13T10:23:31.631826Z"
    }
   },
   "cell_type": "code",
   "source": [
    "from scipy.spatial import KDTree\n",
    "\n",
    "from histalign.backend.registration.alignment import interpolate_sparse_3d_array"
   ],
   "id": "96161ce8f0ee0c92",
   "outputs": [],
   "execution_count": 2
  },
  {
   "metadata": {
    "ExecuteTime": {
     "end_time": "2024-11-13T10:23:31.901057Z",
     "start_time": "2024-11-13T10:23:31.690705Z"
    }
   },
   "cell_type": "code",
   "source": [
    "def replace_workers_default(function: Callable, value: int) -> None:\n",
    "    defaults = list(function.__defaults__)\n",
    "    defaults[-1] = value\n",
    "    function.__defaults__ = tuple(defaults)"
   ],
   "id": "31b0aa8966cc7d26",
   "outputs": [],
   "execution_count": 3
  },
  {
   "metadata": {
    "ExecuteTime": {
     "end_time": "2024-11-13T10:29:04.456473Z",
     "start_time": "2024-11-13T10:29:03.992659Z"
    }
   },
   "cell_type": "code",
   "source": [
    "alignment_path = Path(\n",
    "    \"/home/ediun/git/histalign/projects/project_cortical_depth/93e6cae680\"\n",
    ")\n",
    "\n",
    "array = build_alignment_volume(alignment_path, return_raw_array=True)\n",
    "\n",
    "mask = load_structure_mask(\"Isocortex\", Resolution.MICRONS_25)"
   ],
   "id": "ddbb8a672ea9a168",
   "outputs": [
    {
     "name": "stderr",
     "output_type": "stream",
     "text": [
      "[2024-11-13 10:29:04] - [   DEBUG ] - Found cached volume. Loading from file. (histalign.backend.registration.alignment:55)\n"
     ]
    }
   ],
   "execution_count": 13
  },
  {
   "metadata": {
    "ExecuteTime": {
     "end_time": "2024-11-13T10:29:06.020624Z",
     "start_time": "2024-11-13T10:29:06.009623Z"
    }
   },
   "cell_type": "code",
   "source": "times = {}",
   "id": "3edd3d0d3542aac5",
   "outputs": [],
   "execution_count": 14
  },
  {
   "metadata": {
    "ExecuteTime": {
     "end_time": "2024-11-13T10:42:57.787816Z",
     "start_time": "2024-11-13T10:42:07.041706Z"
    }
   },
   "cell_type": "code",
   "source": [
    "for i in [-1]:  # [1, 2, 3, 4, 8]:\n",
    "    replace_workers_default(KDTree.query, i)\n",
    "\n",
    "    start_time = time.perf_counter()\n",
    "\n",
    "    interpolated_array = interpolate_sparse_3d_array(\n",
    "        array,\n",
    "        reference_mask=mask,\n",
    "        neighbours=16,\n",
    "        use_cache=False,\n",
    "    )\n",
    "\n",
    "    times[i] = time.perf_counter() - start_time"
   ],
   "id": "455b78ee6309e769",
   "outputs": [
    {
     "name": "stderr",
     "output_type": "stream",
     "text": [
      "[2024-11-13 10:42:07] - [    INFO ] - Starting interpolation with parameters {kernel: multiquadric, neighbours: 16, epsilon: 1, degree: None, chunk size: 1,000,000, recursive: False}. (histalign.backend.registration.alignment:204)\n",
      "[2024-11-13 10:42:08] - [    INFO ] - Interpolating chunk 1/8 (12%). (histalign.backend.registration.alignment:238)\n",
      "[2024-11-13 10:42:13] - [    INFO ] - Interpolating chunk 2/8 (25%). (histalign.backend.registration.alignment:238)\n",
      "[2024-11-13 10:42:21] - [    INFO ] - Interpolating chunk 3/8 (38%). (histalign.backend.registration.alignment:238)\n",
      "[2024-11-13 10:42:28] - [    INFO ] - Interpolating chunk 4/8 (50%). (histalign.backend.registration.alignment:238)\n",
      "[2024-11-13 10:42:35] - [    INFO ] - Interpolating chunk 5/8 (62%). (histalign.backend.registration.alignment:238)\n",
      "[2024-11-13 10:42:41] - [    INFO ] - Interpolating chunk 6/8 (75%). (histalign.backend.registration.alignment:238)\n",
      "[2024-11-13 10:42:46] - [    INFO ] - Interpolating chunk 7/8 (88%). (histalign.backend.registration.alignment:238)\n",
      "[2024-11-13 10:42:51] - [    INFO ] - Interpolating chunk 8/8 (100%). (histalign.backend.registration.alignment:238)\n",
      "[2024-11-13 10:42:57] - [    INFO ] - Finished interpolation in 51s. (histalign.backend.registration.alignment:294)\n"
     ]
    }
   ],
   "execution_count": 17
  },
  {
   "metadata": {
    "ExecuteTime": {
     "end_time": "2024-11-13T10:42:59.589218Z",
     "start_time": "2024-11-13T10:42:59.576769Z"
    }
   },
   "cell_type": "code",
   "source": [
    "for i, time_ in times.items():\n",
    "    print(f\"{i} workers: {time_:.2f}\")"
   ],
   "id": "b1bb6cc30543632",
   "outputs": [
    {
     "name": "stdout",
     "output_type": "stream",
     "text": [
      "1 workers: 268.92\n",
      "2 workers: 165.00\n",
      "3 workers: 121.75\n",
      "4 workers: 100.50\n",
      "8 workers: 77.66\n",
      "-1 workers: 50.73\n"
     ]
    }
   ],
   "execution_count": 18
  },
  {
   "metadata": {},
   "cell_type": "markdown",
   "source": [
    "Somatomotor areas (2 chunks):\n",
    "```text\n",
    "1 workers: 14.78\n",
    "2 workers: 11.35\n",
    "3 workers: 10.25\n",
    "4 workers: 9.69\n",
    "8 workers: 8.40\n",
    "```\n",
    "\n",
    "Olfactory areas (3 chunks):\n",
    "```text\n",
    "1 workers: 30.51\n",
    "2 workers: 21.20\n",
    "3 workers: 19.59\n",
    "4 workers: 16.10\n",
    "8 workers: 14.45\n",
    "```\n",
    "\n",
    "Isocortex (8 chunks):\n",
    "```text\n",
    "1 workers:  268.92\n",
    "2 workers:  165.00\n",
    "3 workers:  121.75\n",
    "4 workers:  100.50\n",
    "8 workers:  77.66\n",
    "-1 workers: 50.73\n",
    "```"
   ],
   "id": "84c0ef4fea3e0e2a"
  }
 ],
 "metadata": {
  "kernelspec": {
   "display_name": "Python 3",
   "language": "python",
   "name": "python3"
  },
  "language_info": {
   "codemirror_mode": {
    "name": "ipython",
    "version": 2
   },
   "file_extension": ".py",
   "mimetype": "text/x-python",
   "name": "python",
   "nbconvert_exporter": "python",
   "pygments_lexer": "ipython2",
   "version": "2.7.6"
  }
 },
 "nbformat": 4,
 "nbformat_minor": 5
}
