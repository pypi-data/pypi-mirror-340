{
 "cells": [
  {
   "cell_type": "code",
   "id": "initial_id",
   "metadata": {
    "collapsed": true,
    "ExecuteTime": {
     "end_time": "2024-11-06T15:51:46.838175Z",
     "start_time": "2024-11-06T15:51:46.826847Z"
    }
   },
   "source": [
    "import time\n",
    "\n",
    "from helper_loader import *\n",
    "from histalign.backend.registration.alignment import (\n",
    "    ALIGNMENT_VOLUMES_CACHE_DIRECTORY,\n",
    "    _module_logger,\n",
    "    generate_hash_from_targets,\n",
    ")\n",
    "\n",
    "set_log_level(500)"
   ],
   "outputs": [],
   "execution_count": 10
  },
  {
   "metadata": {
    "ExecuteTime": {
     "end_time": "2024-11-06T15:58:44.445873Z",
     "start_time": "2024-11-06T15:58:44.423357Z"
    }
   },
   "cell_type": "code",
   "source": [
    "def build_alignment_volume(\n",
    "    alignment_directory: str | Path,\n",
    "    use_cache: bool = True,\n",
    "    return_raw_array: bool = False,\n",
    "    kernel: str = \"shepard\",\n",
    "    radius: int = 1,\n",
    ") -> np.ndarray | vedo.Volume:\n",
    "    if isinstance(alignment_directory, str):\n",
    "        alignment_directory = Path(alignment_directory)\n",
    "\n",
    "    targets = gather_alignment_paths(alignment_directory)\n",
    "\n",
    "    targets_hash = generate_hash_from_targets(targets)\n",
    "    cache_path = ALIGNMENT_VOLUMES_CACHE_DIRECTORY / f\"{targets_hash}.npz\"\n",
    "    if cache_path.exists() and use_cache:\n",
    "        _module_logger.debug(\"Found cached volume. Loading from file.\")\n",
    "\n",
    "        volume = vedo.Volume(np.load(cache_path)[\"array\"])\n",
    "        if return_raw_array:\n",
    "            return volume.tonumpy()\n",
    "        return volume\n",
    "\n",
    "    with open(targets[0]) as handle:\n",
    "        temp_settings = AlignmentSettings(**json.load(handle))\n",
    "    reference_shape = temp_settings.volume_settings.shape\n",
    "\n",
    "    alignment_volume = vedo.Volume(np.zeros(shape=reference_shape, dtype=np.uint16))\n",
    "    alignment_array = alignment_volume.tonumpy()\n",
    "    slicer = VolumeSlicer(volume=alignment_volume)\n",
    "\n",
    "    _module_logger.debug(f\"Generating {len(targets)} meshes.\")\n",
    "    plane_meshes = []\n",
    "    for index, target in enumerate(targets):\n",
    "        if index > 0 and index % 5 == 0:\n",
    "            _module_logger.debug(f\"Generated {index} meshes.\")\n",
    "\n",
    "        alignment_settings = load_alignment_settings(target)\n",
    "\n",
    "        histology_slice = load_image(alignment_settings.histology_path)\n",
    "\n",
    "        registrator = Registrator(True, True)\n",
    "        registered_slice = registrator.get_forwarded_image(\n",
    "            histology_slice, alignment_settings\n",
    "        )\n",
    "\n",
    "        plane_mesh = slicer.slice(alignment_settings.volume_settings, return_mesh=True)\n",
    "\n",
    "        registered_slice = registered_slice[\n",
    "            plane_mesh.metadata[\"i_padding\"][0] : registered_slice.shape[0]\n",
    "            - plane_mesh.metadata[\"i_padding\"][1],\n",
    "            plane_mesh.metadata[\"j_padding\"][0] : registered_slice.shape[1]\n",
    "            - plane_mesh.metadata[\"j_padding\"][1],\n",
    "        ]\n",
    "\n",
    "        plane_mesh.pointdata[\"ImageScalars\"] = registered_slice.flatten()\n",
    "\n",
    "        plane_meshes.append(plane_mesh)\n",
    "    _module_logger.debug(f\"Generated all {len(targets)} meshes.\")\n",
    "\n",
    "    _module_logger.debug(f\"Gathering {len(targets)} meshes into alignment volume.\")\n",
    "    for index, mesh in enumerate(plane_meshes):\n",
    "        loop_start_time = time.perf_counter()\n",
    "        if index > 0 and index % 5 == 0:\n",
    "            _module_logger.debug(f\"Gathered {index} meshes.\")\n",
    "\n",
    "        temp_volume = vedo.Volume(np.zeros_like(alignment_array))\n",
    "\n",
    "        interpolate_start_time = time.perf_counter()\n",
    "        temp_volume.interpolate_data_from(mesh, kernel=kernel, radius=radius)\n",
    "        print(\n",
    "            f\"Interpolation ({kernel} - {radius}): {perf_counter() - interpolate_start_time:.2f} seconds.\"\n",
    "        )\n",
    "\n",
    "        temp_array = temp_volume.tonumpy()\n",
    "        temp_array = np.round(temp_array).astype(np.uint16)\n",
    "\n",
    "        alignment_array[:] = np.maximum(alignment_array, temp_array)\n",
    "    alignment_volume.modified()\n",
    "    _module_logger.debug(f\"Gathered all {len(plane_meshes)} meshes.\")\n",
    "\n",
    "    if use_cache:\n",
    "        _module_logger.debug(\"Caching volume to file.\")\n",
    "        os.makedirs(ALIGNMENT_VOLUMES_CACHE_DIRECTORY, exist_ok=True)\n",
    "        np.savez_compressed(cache_path, array=alignment_volume.tonumpy())\n",
    "\n",
    "    if return_raw_array:\n",
    "        return alignment_volume.tonumpy()\n",
    "\n",
    "    return alignment_volume"
   ],
   "id": "ad66a72c0fb8cb5",
   "outputs": [],
   "execution_count": 21
  },
  {
   "metadata": {
    "ExecuteTime": {
     "end_time": "2024-11-06T16:01:37.363647Z",
     "start_time": "2024-11-06T15:58:45.718282Z"
    }
   },
   "cell_type": "code",
   "source": [
    "alignment_path = Path(\n",
    "    \"/home/ediun/git/histalign/projects/project_cortical_depth/93e6cae680\"\n",
    ")\n",
    "\n",
    "radii = [1, 5, 10]\n",
    "shepards = [\n",
    "    build_alignment_volume(\n",
    "        alignment_path, use_cache=False, kernel=\"shepard\", radius=radius\n",
    "    )\n",
    "    for radius in radii\n",
    "]\n",
    "gaussians = [\n",
    "    build_alignment_volume(\n",
    "        alignment_path, use_cache=False, kernel=\"gaussian\", radius=radius\n",
    "    )\n",
    "    for radius in radii\n",
    "]\n",
    "linears = [\n",
    "    build_alignment_volume(\n",
    "        alignment_path, use_cache=False, kernel=\"linear\", radius=radius\n",
    "    )\n",
    "    for radius in radii\n",
    "]"
   ],
   "id": "2f2692170577ccc0",
   "outputs": [
    {
     "name": "stdout",
     "output_type": "stream",
     "text": [
      "Interpolation (shepard - 1): 3.76 seconds.\n",
      "Interpolation (shepard - 5): 12.06 seconds.\n",
      "Interpolation (shepard - 10): 35.69 seconds.\n",
      "Interpolation (gaussian - 1): 3.72 seconds.\n",
      "Interpolation (gaussian - 5): 12.23 seconds.\n",
      "Interpolation (gaussian - 10): 38.17 seconds.\n",
      "Interpolation (linear - 1): 3.71 seconds.\n",
      "Interpolation (linear - 5): 11.68 seconds.\n",
      "Interpolation (linear - 10): 33.59 seconds.\n"
     ]
    }
   ],
   "execution_count": 22
  },
  {
   "metadata": {
    "ExecuteTime": {
     "end_time": "2024-11-06T16:01:38.579225Z",
     "start_time": "2024-11-06T16:01:37.863644Z"
    }
   },
   "cell_type": "code",
   "source": [
    "for i in range(len(radii)):\n",
    "    shepards[i].cmap(**get_cmap(shepards[i]))\n",
    "    gaussians[i].cmap(**get_cmap(gausians[i]))\n",
    "    linears[i].cmap(**get_cmap(linears[i]))"
   ],
   "id": "65a6442e0a21f6ee",
   "outputs": [],
   "execution_count": 23
  },
  {
   "metadata": {
    "ExecuteTime": {
     "end_time": "2024-11-06T16:03:38.535875Z",
     "start_time": "2024-11-06T16:02:20.242486Z"
    }
   },
   "cell_type": "code",
   "source": [
    "show(\n",
    "    [\n",
    "        *shepards,\n",
    "        *gaussians,\n",
    "        *linears,\n",
    "    ],\n",
    "    n=9,\n",
    ")"
   ],
   "id": "ac2dad5c14402719",
   "outputs": [],
   "execution_count": 27
  },
  {
   "metadata": {
    "ExecuteTime": {
     "end_time": "2024-11-06T16:06:12.042759Z",
     "start_time": "2024-11-06T16:06:11.302869Z"
    }
   },
   "cell_type": "code",
   "source": [
    "print(\"Shepards vs gaussians\")\n",
    "print(np.mean(np.abs(shepards[0].tonumpy() - gaussians[0].tonumpy())))\n",
    "print(np.mean(np.abs(shepards[1].tonumpy() - gaussians[1].tonumpy())))\n",
    "print(np.mean(np.abs(shepards[2].tonumpy() - gaussians[2].tonumpy())))\n",
    "print(\"Shepards vs linears\")\n",
    "print(np.mean(np.abs(shepards[0].tonumpy() - linears[0].tonumpy())))\n",
    "print(np.mean(np.abs(shepards[1].tonumpy() - linears[1].tonumpy())))\n",
    "print(np.mean(np.abs(shepards[2].tonumpy() - linears[2].tonumpy())))\n",
    "print(\"Gaussians vs linears\")\n",
    "print(np.mean(np.abs(gaussians[0].tonumpy() - linears[0].tonumpy())))\n",
    "print(np.mean(np.abs(gaussians[1].tonumpy() - linears[1].tonumpy())))\n",
    "print(np.mean(np.abs(gaussians[2].tonumpy() - linears[2].tonumpy())))"
   ],
   "id": "d748cb06972732c1",
   "outputs": [
    {
     "name": "stdout",
     "output_type": "stream",
     "text": [
      "Shepards vs gaussians\n",
      "51.379307388232654\n",
      "477.7748197824254\n",
      "1007.2458990345477\n",
      "Shepards vs linears\n",
      "49.621995292148455\n",
      "512.5643296269645\n",
      "1042.4910397664971\n",
      "Gaussians vs linears\n",
      "50.07724399110347\n",
      "519.3232684835609\n",
      "1057.228341157255\n"
     ]
    }
   ],
   "execution_count": 35
  },
  {
   "metadata": {
    "ExecuteTime": {
     "end_time": "2024-11-06T16:10:52.408803Z",
     "start_time": "2024-11-06T16:10:52.379262Z"
    }
   },
   "cell_type": "code",
   "source": [
    "slice_ = (slice(305, 306), slice(200, 201), slice(100, 101))\n",
    "\n",
    "print(shepards[0].tonumpy()[slice_])\n",
    "print(gaussians[0].tonumpy()[slice_])\n",
    "print(linears[0].tonumpy()[slice_])"
   ],
   "id": "80deb8e59bf28727",
   "outputs": [
    {
     "name": "stdout",
     "output_type": "stream",
     "text": [
      "[[[10636]]]\n",
      "[[[10633]]]\n",
      "[[[10800]]]\n"
     ]
    }
   ],
   "execution_count": 61
  }
 ],
 "metadata": {
  "kernelspec": {
   "display_name": "Python 3",
   "language": "python",
   "name": "python3"
  },
  "language_info": {
   "codemirror_mode": {
    "name": "ipython",
    "version": 2
   },
   "file_extension": ".py",
   "mimetype": "text/x-python",
   "name": "python",
   "nbconvert_exporter": "python",
   "pygments_lexer": "ipython2",
   "version": "2.7.6"
  }
 },
 "nbformat": 4,
 "nbformat_minor": 5
}
