{
 "cells": [
  {
   "cell_type": "code",
   "id": "initial_id",
   "metadata": {
    "collapsed": true,
    "ExecuteTime": {
     "end_time": "2024-11-13T16:18:33.385581Z",
     "start_time": "2024-11-13T16:18:33.373641Z"
    }
   },
   "source": [
    "from itertools import repeat\n",
    "\n",
    "import numpy as np\n",
    "\n",
    "from helper_loader import *\n",
    "from histalign.backend.ccf.paths import get_atlas_path\n",
    "from histalign.backend.models import Orientation\n",
    "from histalign.backend.registration.alignment import interpolate_sparse_3d_array\n",
    "\n",
    "set_log_level(\"DEBUG\")"
   ],
   "outputs": [],
   "execution_count": 6
  },
  {
   "metadata": {
    "ExecuteTime": {
     "end_time": "2024-11-13T16:17:21.206320Z",
     "start_time": "2024-11-13T16:17:21.193529Z"
    }
   },
   "cell_type": "code",
   "source": [
    "def corrupt_random_noise(array: np.ndarray, corruption_rate: float = 0.9) -> np.ndarray:\n",
    "    array = array.copy()\n",
    "\n",
    "    array[\n",
    "        np.where(\n",
    "            np.random.choice(\n",
    "                [0, 1],\n",
    "                size=np.prod(array.shape),\n",
    "                p=[1 - corruption_rate, corruption_rate],\n",
    "            ).reshape(array.shape)\n",
    "            > 0\n",
    "        )\n",
    "    ] = 0\n",
    "\n",
    "    return array\n",
    "\n",
    "\n",
    "def corrupt_slice(\n",
    "    array: np.ndarray,\n",
    "    corruption_rate: float = 0.9,\n",
    "    regular: bool = False,\n",
    "    orientation: Orientation = Orientation.SAGITTAL,\n",
    ") -> np.ndarray:\n",
    "    array = array.copy()\n",
    "\n",
    "    match orientation:\n",
    "        case Orientation.CORONAL:\n",
    "            axis = 0\n",
    "        case Orientation.HORIZONTAL:\n",
    "            axis = 1\n",
    "        case Orientation.SAGITTAL:\n",
    "            axis = 2\n",
    "\n",
    "    if regular:\n",
    "        for i in range(array.shape[axis]):\n",
    "            corrupt = not (i % (10 * corruption_rate) == 0)\n",
    "            if corrupt:\n",
    "                np.put_along_axis(array, np.array([[[i]]]), 0, axis=axis)\n",
    "    else:\n",
    "        for index, corrupt in enumerate(\n",
    "            np.random.choice(\n",
    "                [False, True],\n",
    "                size=array.shape[axis],\n",
    "                p=[1 - corruption_rate, corruption_rate],\n",
    "            )\n",
    "        ):\n",
    "            if corrupt:\n",
    "                np.put_along_axis(array, np.array([[[index]]]), 0, axis=axis)\n",
    "\n",
    "    return array\n",
    "\n",
    "\n",
    "def replace_workers_default(function: Callable, value: int) -> None:\n",
    "    defaults = list(function.__defaults__)\n",
    "    defaults[-1] = value\n",
    "    function.__defaults__ = tuple(defaults)"
   ],
   "id": "56e5ffc5d88e9a87",
   "outputs": [],
   "execution_count": 2
  },
  {
   "metadata": {
    "ExecuteTime": {
     "end_time": "2024-11-13T16:18:07.574405Z",
     "start_time": "2024-11-13T16:18:06.426557Z"
    }
   },
   "cell_type": "code",
   "source": [
    "array_path = get_atlas_path(Resolution.MICRONS_25)\n",
    "array = load_volume(array_path, return_raw_array=True)\n",
    "\n",
    "mask = load_structure_mask(\"Isocortex\", Resolution.MICRONS_25)\n",
    "\n",
    "masked_array = np.where(mask, array, 0)\n",
    "\n",
    "corrupted_array = corrupt_slice(\n",
    "    array,\n",
    "    regular=True,\n",
    "    corruption_rate=0.5,\n",
    "    orientation=Orientation.SAGITTAL,\n",
    ")\n",
    "# imshow(corrupted_array[100], title=\"Corrupted array\")"
   ],
   "id": "a1e09c82d526e3d8",
   "outputs": [],
   "execution_count": 4
  },
  {
   "metadata": {
    "ExecuteTime": {
     "end_time": "2024-11-13T16:59:48.245562Z",
     "start_time": "2024-11-13T16:28:04.265198Z"
    }
   },
   "cell_type": "code",
   "source": [
    "maes = {}\n",
    "interpolated_arrays = []\n",
    "\n",
    "for neighbours_count in [2**3, 3**3, 4**3]:\n",
    "    interpolated_array = interpolate_sparse_3d_array(\n",
    "        corrupted_array,\n",
    "        reference_mask=mask,\n",
    "        pre_masked=True,\n",
    "        neighbours=neighbours_count,\n",
    "    )\n",
    "\n",
    "    maes[neighbours_count] = np.mean(\n",
    "        np.abs(\n",
    "            masked_array[masked_array.nonzero()]\n",
    "            - interpolated_array[masked_array.nonzero()]\n",
    "        )\n",
    "    )\n",
    "    interpolated_arrays.append(interpolated_array)"
   ],
   "id": "29c8549f0c3de2e4",
   "outputs": [
    {
     "name": "stderr",
     "output_type": "stream",
     "text": [
      "[2024-11-13 16:28:05] - [    INFO ] - Starting interpolation with parameters {kernel: multiquadric, neighbours: 8, epsilon: 1, degree: None, chunk size: 1,000,000, recursive: False}. (histalign.backend.registration.alignment:204)\n",
      "[2024-11-13 16:28:10] - [    INFO ] - Interpolating chunk 1/8 (12%). (histalign.backend.registration.alignment:238)\n",
      "[2024-11-13 16:28:15] - [    INFO ] - Interpolating chunk 2/8 (25%). (histalign.backend.registration.alignment:238)\n",
      "[2024-11-13 16:28:19] - [    INFO ] - Interpolating chunk 3/8 (38%). (histalign.backend.registration.alignment:238)\n",
      "[2024-11-13 16:28:24] - [    INFO ] - Interpolating chunk 4/8 (50%). (histalign.backend.registration.alignment:238)\n",
      "[2024-11-13 16:28:28] - [    INFO ] - Interpolating chunk 5/8 (62%). (histalign.backend.registration.alignment:238)\n",
      "[2024-11-13 16:28:32] - [    INFO ] - Interpolating chunk 6/8 (75%). (histalign.backend.registration.alignment:238)\n",
      "[2024-11-13 16:28:36] - [    INFO ] - Interpolating chunk 7/8 (88%). (histalign.backend.registration.alignment:238)\n",
      "[2024-11-13 16:28:40] - [    INFO ] - Interpolating chunk 8/8 (100%). (histalign.backend.registration.alignment:238)\n",
      "[2024-11-13 16:28:44] - [    INFO ] - Finished interpolation in 40s. (histalign.backend.registration.alignment:294)\n",
      "[2024-11-13 16:28:47] - [    INFO ] - Starting interpolation with parameters {kernel: multiquadric, neighbours: 27, epsilon: 1, degree: None, chunk size: 1,000,000, recursive: False}. (histalign.backend.registration.alignment:204)\n",
      "[2024-11-13 16:28:53] - [    INFO ] - Interpolating chunk 1/8 (12%). (histalign.backend.registration.alignment:238)\n",
      "[2024-11-13 16:29:22] - [    INFO ] - Interpolating chunk 2/8 (25%). (histalign.backend.registration.alignment:238)\n",
      "[2024-11-13 16:29:49] - [    INFO ] - Interpolating chunk 3/8 (38%). (histalign.backend.registration.alignment:238)\n",
      "[2024-11-13 16:30:17] - [    INFO ] - Interpolating chunk 4/8 (50%). (histalign.backend.registration.alignment:238)\n",
      "[2024-11-13 16:30:47] - [    INFO ] - Interpolating chunk 5/8 (62%). (histalign.backend.registration.alignment:238)\n",
      "[2024-11-13 16:31:16] - [    INFO ] - Interpolating chunk 6/8 (75%). (histalign.backend.registration.alignment:238)\n",
      "[2024-11-13 16:31:47] - [    INFO ] - Interpolating chunk 7/8 (88%). (histalign.backend.registration.alignment:238)\n",
      "[2024-11-13 16:32:17] - [    INFO ] - Interpolating chunk 8/8 (100%). (histalign.backend.registration.alignment:238)\n",
      "[2024-11-13 16:32:44] - [    INFO ] - Finished interpolation in  3m58s. (histalign.backend.registration.alignment:294)\n",
      "[2024-11-13 16:32:46] - [    INFO ] - Starting interpolation with parameters {kernel: multiquadric, neighbours: 64, epsilon: 1, degree: None, chunk size: 1,000,000, recursive: False}. (histalign.backend.registration.alignment:204)\n",
      "[2024-11-13 16:32:52] - [    INFO ] - Interpolating chunk 1/8 (12%). (histalign.backend.registration.alignment:238)\n",
      "[2024-11-13 16:36:02] - [    INFO ] - Interpolating chunk 2/8 (25%). (histalign.backend.registration.alignment:238)\n",
      "[2024-11-13 16:39:55] - [    INFO ] - Interpolating chunk 3/8 (38%). (histalign.backend.registration.alignment:238)\n",
      "[2024-11-13 16:43:42] - [    INFO ] - Interpolating chunk 4/8 (50%). (histalign.backend.registration.alignment:238)\n",
      "[2024-11-13 16:47:09] - [    INFO ] - Interpolating chunk 5/8 (62%). (histalign.backend.registration.alignment:238)\n",
      "[2024-11-13 16:51:04] - [    INFO ] - Interpolating chunk 6/8 (75%). (histalign.backend.registration.alignment:238)\n",
      "[2024-11-13 16:54:08] - [    INFO ] - Interpolating chunk 7/8 (88%). (histalign.backend.registration.alignment:238)\n",
      "[2024-11-13 16:56:59] - [    INFO ] - Interpolating chunk 8/8 (100%). (histalign.backend.registration.alignment:238)\n",
      "[2024-11-13 16:59:46] - [    INFO ] - Finished interpolation in 27m 1s. (histalign.backend.registration.alignment:294)\n"
     ]
    }
   ],
   "execution_count": 12
  },
  {
   "metadata": {},
   "cell_type": "markdown",
   "source": [
    "Output:\n",
    "```\n",
    "[2024-11-13 16:28:05] - [    INFO ] - Starting interpolation with parameters {kernel: multiquadric, neighbours: 8, epsilon: 1, degree: None, chunk size: 1,000,000, recursive: False}. (histalign.backend.registration.alignment:204)\n",
    "[2024-11-13 16:28:10] - [    INFO ] - Interpolating chunk 1/8 (12%). (histalign.backend.registration.alignment:238)\n",
    "[2024-11-13 16:28:15] - [    INFO ] - Interpolating chunk 2/8 (25%). (histalign.backend.registration.alignment:238)\n",
    "[2024-11-13 16:28:19] - [    INFO ] - Interpolating chunk 3/8 (38%). (histalign.backend.registration.alignment:238)\n",
    "[2024-11-13 16:28:24] - [    INFO ] - Interpolating chunk 4/8 (50%). (histalign.backend.registration.alignment:238)\n",
    "[2024-11-13 16:28:28] - [    INFO ] - Interpolating chunk 5/8 (62%). (histalign.backend.registration.alignment:238)\n",
    "[2024-11-13 16:28:32] - [    INFO ] - Interpolating chunk 6/8 (75%). (histalign.backend.registration.alignment:238)\n",
    "[2024-11-13 16:28:36] - [    INFO ] - Interpolating chunk 7/8 (88%). (histalign.backend.registration.alignment:238)\n",
    "[2024-11-13 16:28:40] - [    INFO ] - Interpolating chunk 8/8 (100%). (histalign.backend.registration.alignment:238)\n",
    "[2024-11-13 16:28:44] - [    INFO ] - Finished interpolation in 40s. (histalign.backend.registration.alignment:294)\n",
    "[2024-11-13 16:28:47] - [    INFO ] - Starting interpolation with parameters {kernel: multiquadric, neighbours: 27, epsilon: 1, degree: None, chunk size: 1,000,000, recursive: False}. (histalign.backend.registration.alignment:204)\n",
    "[2024-11-13 16:28:53] - [    INFO ] - Interpolating chunk 1/8 (12%). (histalign.backend.registration.alignment:238)\n",
    "[2024-11-13 16:29:22] - [    INFO ] - Interpolating chunk 2/8 (25%). (histalign.backend.registration.alignment:238)\n",
    "[2024-11-13 16:29:49] - [    INFO ] - Interpolating chunk 3/8 (38%). (histalign.backend.registration.alignment:238)\n",
    "[2024-11-13 16:30:17] - [    INFO ] - Interpolating chunk 4/8 (50%). (histalign.backend.registration.alignment:238)\n",
    "[2024-11-13 16:30:47] - [    INFO ] - Interpolating chunk 5/8 (62%). (histalign.backend.registration.alignment:238)\n",
    "[2024-11-13 16:31:16] - [    INFO ] - Interpolating chunk 6/8 (75%). (histalign.backend.registration.alignment:238)\n",
    "[2024-11-13 16:31:47] - [    INFO ] - Interpolating chunk 7/8 (88%). (histalign.backend.registration.alignment:238)\n",
    "[2024-11-13 16:32:17] - [    INFO ] - Interpolating chunk 8/8 (100%). (histalign.backend.registration.alignment:238)\n",
    "[2024-11-13 16:32:44] - [    INFO ] - Finished interpolation in  3m58s. (histalign.backend.registration.alignment:294)\n",
    "[2024-11-13 16:32:46] - [    INFO ] - Starting interpolation with parameters {kernel: multiquadric, neighbours: 64, epsilon: 1, degree: None, chunk size: 1,000,000, recursive: False}. (histalign.backend.registration.alignment:204)\n",
    "[2024-11-13 16:32:52] - [    INFO ] - Interpolating chunk 1/8 (12%). (histalign.backend.registration.alignment:238)\n",
    "[2024-11-13 16:36:02] - [    INFO ] - Interpolating chunk 2/8 (25%). (histalign.backend.registration.alignment:238)\n",
    "[2024-11-13 16:39:55] - [    INFO ] - Interpolating chunk 3/8 (38%). (histalign.backend.registration.alignment:238)\n",
    "[2024-11-13 16:43:42] - [    INFO ] - Interpolating chunk 4/8 (50%). (histalign.backend.registration.alignment:238)\n",
    "[2024-11-13 16:47:09] - [    INFO ] - Interpolating chunk 5/8 (62%). (histalign.backend.registration.alignment:238)\n",
    "[2024-11-13 16:51:04] - [    INFO ] - Interpolating chunk 6/8 (75%). (histalign.backend.registration.alignment:238)\n",
    "[2024-11-13 16:54:08] - [    INFO ] - Interpolating chunk 7/8 (88%). (histalign.backend.registration.alignment:238)\n",
    "[2024-11-13 16:56:59] - [    INFO ] - Interpolating chunk 8/8 (100%). (histalign.backend.registration.alignment:238)\n",
    "[2024-11-13 16:59:46] - [    INFO ] - Finished interpolation in 27m 1s. (histalign.backend.registration.alignment:294)\n",
    "```"
   ],
   "id": "bf1eeed4033426ad"
  },
  {
   "metadata": {
    "ExecuteTime": {
     "end_time": "2024-11-13T16:59:48.538706Z",
     "start_time": "2024-11-13T16:59:48.421408Z"
    }
   },
   "cell_type": "code",
   "source": "maes",
   "id": "73248aa7ff3f8823",
   "outputs": [
    {
     "data": {
      "text/plain": [
       "{8: 5.800753119125259, 27: 4.2247147727142185, 64: 3.6460130128908856}"
      ]
     },
     "execution_count": 13,
     "metadata": {},
     "output_type": "execute_result"
    }
   ],
   "execution_count": 13
  },
  {
   "metadata": {},
   "cell_type": "markdown",
   "source": [
    "Output:\n",
    "```\n",
    "{8: 5.800753119125259, 27: 4.2247147727142185, 64: 3.6460130128908856}\n",
    "```"
   ],
   "id": "378852b787e51eff"
  },
  {
   "metadata": {
    "ExecuteTime": {
     "end_time": "2024-11-13T17:01:40.400257Z",
     "start_time": "2024-11-13T17:01:40.370349Z"
    }
   },
   "cell_type": "code",
   "source": "masked_array.max()",
   "id": "e49c765da03f702e",
   "outputs": [
    {
     "data": {
      "text/plain": [
       "516"
      ]
     },
     "execution_count": 14,
     "metadata": {},
     "output_type": "execute_result"
    }
   ],
   "execution_count": 14
  },
  {
   "metadata": {
    "ExecuteTime": {
     "end_time": "2024-11-13T17:04:43.754713Z",
     "start_time": "2024-11-13T17:04:43.743526Z"
    }
   },
   "cell_type": "code",
   "source": [
    "print(f\"{(1 - maes[27] / maes[8]):.0%} reduction in error using 27 neighbours vs 8\")\n",
    "print(\n",
    "    f\"{(3 * 60 + 58) / 40:.0f} times increase in interpolation time using 27 neighbours vs 8\"\n",
    ")"
   ],
   "id": "ab190c445fdf531a",
   "outputs": [
    {
     "name": "stdout",
     "output_type": "stream",
     "text": [
      "27% reduction in error using 27 neighbours vs 8\n",
      "6 times increase in interpolation time using 27 neighbours vs 8\n"
     ]
    }
   ],
   "execution_count": 21
  },
  {
   "metadata": {},
   "cell_type": "markdown",
   "source": [
    "```\n",
    "27% reduction in error using 27 neighbours vs 8\n",
    "6 times increase in interpolation time using 27 neighbours vs 8\n",
    "```"
   ],
   "id": "4313f238f8bdc762"
  },
  {
   "metadata": {
    "ExecuteTime": {
     "end_time": "2024-11-13T17:04:44.283294Z",
     "start_time": "2024-11-13T17:04:44.272232Z"
    }
   },
   "cell_type": "code",
   "source": [
    "print(f\"{(1 - maes[64] / maes[8]):.0%} reduction in error using 64 neighbours vs 8\")\n",
    "print(\n",
    "    f\"{(27 * 60 + 1) / 40:.0f} times increase in interpolation time using 64 neighbours vs 8\"\n",
    ")"
   ],
   "id": "fdf09dd902cd8979",
   "outputs": [
    {
     "name": "stdout",
     "output_type": "stream",
     "text": [
      "37% reduction in error using 64 neighbours vs 8\n",
      "41 times increase in interpolation time using 64 neighbours vs 8\n"
     ]
    }
   ],
   "execution_count": 22
  },
  {
   "metadata": {},
   "cell_type": "markdown",
   "source": [
    "```\n",
    "37% reduction in error using 64 neighbours vs 8\n",
    "41 times increase in interpolation time using 64 neighbours vs 8\n",
    "```"
   ],
   "id": "9a564bf83b21afbf"
  }
 ],
 "metadata": {
  "kernelspec": {
   "display_name": "Python 3",
   "language": "python",
   "name": "python3"
  },
  "language_info": {
   "codemirror_mode": {
    "name": "ipython",
    "version": 2
   },
   "file_extension": ".py",
   "mimetype": "text/x-python",
   "name": "python",
   "nbconvert_exporter": "python",
   "pygments_lexer": "ipython2",
   "version": "2.7.6"
  }
 },
 "nbformat": 4,
 "nbformat_minor": 5
}
