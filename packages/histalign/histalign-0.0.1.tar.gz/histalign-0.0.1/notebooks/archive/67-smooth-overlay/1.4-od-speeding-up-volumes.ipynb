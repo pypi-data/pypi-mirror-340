{
 "cells": [
  {
   "cell_type": "code",
   "id": "initial_id",
   "metadata": {
    "collapsed": true,
    "ExecuteTime": {
     "end_time": "2025-03-13T11:41:23.463426Z",
     "start_time": "2025-03-13T11:41:23.451229Z"
    }
   },
   "source": [
    "from time import perf_counter\n",
    "\n",
    "import h5py\n",
    "import nrrd\n",
    "import numpy as np\n",
    "\n",
    "from histalign.backend.ccf.paths import get_annotation_path\n",
    "from histalign.backend.models import Resolution"
   ],
   "outputs": [],
   "execution_count": 13
  },
  {
   "metadata": {
    "ExecuteTime": {
     "end_time": "2025-03-13T11:38:47.550965Z",
     "start_time": "2025-03-13T11:38:16.621720Z"
    }
   },
   "cell_type": "code",
   "source": [
    "start_time = perf_counter()\n",
    "a, b = nrrd.read(get_annotation_path(Resolution.MICRONS_10))\n",
    "print(f\"Loading took: {perf_counter() - start_time:.2f} seconds.\")"
   ],
   "id": "3872d548b9e4a3d8",
   "outputs": [
    {
     "name": "stdout",
     "output_type": "stream",
     "text": [
      "Loading took: 30.91 seconds.\n"
     ]
    }
   ],
   "execution_count": 5
  },
  {
   "metadata": {
    "ExecuteTime": {
     "end_time": "2025-03-13T11:50:44.201677Z",
     "start_time": "2025-03-13T11:50:44.187473Z"
    }
   },
   "cell_type": "code",
   "source": [
    "import os\n",
    "\n",
    "os.stat(\"annotation_10.h5\").st_size / (1024**3)"
   ],
   "id": "a3ec165f07fc6c9b",
   "outputs": [
    {
     "data": {
      "text/plain": [
       "2.242328643798828"
      ]
     },
     "execution_count": 28,
     "metadata": {},
     "output_type": "execute_result"
    }
   ],
   "execution_count": 28
  },
  {
   "metadata": {
    "ExecuteTime": {
     "end_time": "2025-03-13T11:42:12.962545Z",
     "start_time": "2025-03-13T11:41:40.813259Z"
    }
   },
   "cell_type": "code",
   "source": [
    "start_time = perf_counter()\n",
    "with h5py.File(\"annotation_10.h5\", \"w\") as handle:\n",
    "    handle.create_dataset(\"data\", data=a.astype(np.int16))\n",
    "print(f\"Saving took: {perf_counter() - start_time:.2f} seconds.\")"
   ],
   "id": "ee54d90dfdcc30aa",
   "outputs": [
    {
     "name": "stdout",
     "output_type": "stream",
     "text": [
      "Saving took: 32.12 seconds.\n"
     ]
    }
   ],
   "execution_count": 15
  },
  {
   "metadata": {
    "ExecuteTime": {
     "end_time": "2025-03-13T11:42:17.890255Z",
     "start_time": "2025-03-13T11:42:13.124619Z"
    }
   },
   "cell_type": "code",
   "source": [
    "start_time = perf_counter()\n",
    "with h5py.File(\"annotation_10.h5\") as handle:\n",
    "    c = handle[\"data\"][:]\n",
    "print(f\"Loading took: {perf_counter() - start_time:.2f} seconds.\")"
   ],
   "id": "fdda53627e429bb8",
   "outputs": [
    {
     "name": "stdout",
     "output_type": "stream",
     "text": [
      "Loading took: 4.76 seconds.\n"
     ]
    }
   ],
   "execution_count": 16
  },
  {
   "metadata": {
    "ExecuteTime": {
     "end_time": "2025-03-13T11:43:28.735949Z",
     "start_time": "2025-03-13T11:42:38.153241Z"
    }
   },
   "cell_type": "code",
   "source": [
    "start_time = perf_counter()\n",
    "with h5py.File(\"annotation_10.comp.h5\", \"w\") as handle:\n",
    "    handle.create_dataset(\"data\", data=a.astype(np.int16), compression=\"gzip\")\n",
    "print(f\"Saving took: {perf_counter() - start_time:.2f} seconds.\")"
   ],
   "id": "86fcc8db8e4a2ce6",
   "outputs": [
    {
     "name": "stdout",
     "output_type": "stream",
     "text": [
      "Saving took: 50.57 seconds.\n"
     ]
    }
   ],
   "execution_count": 17
  },
  {
   "metadata": {
    "ExecuteTime": {
     "end_time": "2025-03-13T11:43:36.585330Z",
     "start_time": "2025-03-13T11:43:28.914222Z"
    }
   },
   "cell_type": "code",
   "source": [
    "start_time = perf_counter()\n",
    "with h5py.File(\"annotation_10.comp.h5\") as handle:\n",
    "    d = handle[\"data\"][:]\n",
    "print(f\"Loading took: {perf_counter() - start_time:.2f} seconds.\")"
   ],
   "id": "7c7db06a85c8250b",
   "outputs": [
    {
     "name": "stdout",
     "output_type": "stream",
     "text": [
      "Loading took: 7.66 seconds.\n"
     ]
    }
   ],
   "execution_count": 18
  },
  {
   "metadata": {
    "ExecuteTime": {
     "end_time": "2025-03-13T11:44:49.560979Z",
     "start_time": "2025-03-13T11:44:49.548030Z"
    }
   },
   "cell_type": "code",
   "source": [
    "start_time = perf_counter()\n",
    "handle = h5py.File(\"annotation_10.comp.h5\")[\"data\"]\n",
    "print(f\"Loading took: {perf_counter() - start_time:.2f} seconds.\")"
   ],
   "id": "f202f4c4b1dce4b9",
   "outputs": [
    {
     "name": "stdout",
     "output_type": "stream",
     "text": [
      "Loading took: 0.00 seconds.\n"
     ]
    }
   ],
   "execution_count": 21
  },
  {
   "metadata": {
    "ExecuteTime": {
     "end_time": "2025-03-13T11:45:37.108344Z",
     "start_time": "2025-03-13T11:45:36.877481Z"
    }
   },
   "cell_type": "code",
   "source": [
    "start_time = perf_counter()\n",
    "_ = handle[:, 100, :]\n",
    "print(f\"Slicing took: {perf_counter() - start_time:.2f} seconds.\")"
   ],
   "id": "7b36e0a540a4f0a7",
   "outputs": [
    {
     "name": "stdout",
     "output_type": "stream",
     "text": [
      "Slicing took: 0.22 seconds.\n"
     ]
    }
   ],
   "execution_count": 24
  }
 ],
 "metadata": {
  "kernelspec": {
   "display_name": "Python 3",
   "language": "python",
   "name": "python3"
  },
  "language_info": {
   "codemirror_mode": {
    "name": "ipython",
    "version": 2
   },
   "file_extension": ".py",
   "mimetype": "text/x-python",
   "name": "python",
   "nbconvert_exporter": "python",
   "pygments_lexer": "ipython2",
   "version": "2.7.6"
  }
 },
 "nbformat": 4,
 "nbformat_minor": 5
}
