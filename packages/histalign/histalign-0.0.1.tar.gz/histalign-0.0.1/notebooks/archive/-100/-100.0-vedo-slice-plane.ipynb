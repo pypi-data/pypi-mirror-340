{
 "cells": [
  {
   "cell_type": "code",
   "id": "initial_id",
   "metadata": {
    "collapsed": true,
    "ExecuteTime": {
     "end_time": "2024-10-21T11:24:40.303449Z",
     "start_time": "2024-10-21T11:24:17.390546Z"
    }
   },
   "source": [
    "\"\"\"Slice a Volume with an arbitrary plane\n",
    "hover the plane to get the scalar values\"\"\"\n",
    "\n",
    "from vedo import dataurl, precision, Sphere, Volume, Plotter, settings\n",
    "\n",
    "settings.default_backend = \"vtk\"\n",
    "\n",
    "\n",
    "def func(evt):\n",
    "    if not evt.object:\n",
    "        return\n",
    "    pid = evt.object.closest_point(evt.picked3d, return_point_id=True)\n",
    "    txt = f\"Probing:\\n{precision(evt.object.picked3d, 3)}\\nvalue = {arr[pid]}\"\n",
    "\n",
    "    pts = evt.object.vertices\n",
    "    sph = Sphere(pts[pid]).c(\"orange7\").pickable(False)\n",
    "    fp = sph.flagpole(txt, s=7, offset=(-150, 15), font=2).follow_camera()\n",
    "    # remove old and add the two new objects\n",
    "    plt.remove(\"Sphere\", \"FlagPole\").add(sph, fp).render()\n",
    "\n",
    "\n",
    "vol = Volume(dataurl + \"embryo.slc\")\n",
    "vol.cmap(\"white\").alpha([0, 0, 0.8]).pickable(False)\n",
    "\n",
    "vslice = vol.slice_plane(vol.center(), [1, 1, 0])\n",
    "vslice.cmap(\"Purples_r\").add_scalarbar(\"Slice\", c=\"w\")\n",
    "arr = vslice.pointdata[0]  # retrieve vertex array data\n",
    "print(\"slice shape :\", vslice.metadata[\"shape\"])\n",
    "print(\"slice bounds:\", vslice.metadata[\"original_bounds\"])\n",
    "\n",
    "plt = Plotter(axes=9, bg=\"k\", bg2=\"bb\")\n",
    "plt.add_callback(\"as my mouse moves please call\", func)  # be kind to vedo ;)\n",
    "plt.show(vol, vslice, __doc__)\n",
    "# plt.close()"
   ],
   "outputs": [
    {
     "name": "stdout",
     "output_type": "stream",
     "text": [
      "slice shape : [436 436]\n",
      "slice bounds: [-217.6561146  217.3438854 -217.6561146  217.3438854    0.\n",
      "    0.       ]\n"
     ]
    },
    {
     "data": {
      "text/plain": [
       "<vedo.plotter.Plotter at 0x7fe4285b7c70>"
      ]
     },
     "execution_count": 8,
     "metadata": {},
     "output_type": "execute_result"
    }
   ],
   "execution_count": 8
  }
 ],
 "metadata": {
  "kernelspec": {
   "display_name": "Python 3",
   "language": "python",
   "name": "python3"
  },
  "language_info": {
   "codemirror_mode": {
    "name": "ipython",
    "version": 2
   },
   "file_extension": ".py",
   "mimetype": "text/x-python",
   "name": "python",
   "nbconvert_exporter": "python",
   "pygments_lexer": "ipython2",
   "version": "2.7.6"
  }
 },
 "nbformat": 4,
 "nbformat_minor": 5
}
