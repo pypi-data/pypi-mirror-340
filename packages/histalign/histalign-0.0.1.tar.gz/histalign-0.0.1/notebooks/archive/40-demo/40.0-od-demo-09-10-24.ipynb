{
 "cells": [
  {
   "cell_type": "code",
   "id": "initial_id",
   "metadata": {
    "collapsed": true,
    "ExecuteTime": {
     "end_time": "2024-10-09T15:35:16.440274Z",
     "start_time": "2024-10-09T15:35:15.238558Z"
    }
   },
   "source": "from helper_loader import *",
   "outputs": [],
   "execution_count": 27
  },
  {
   "metadata": {
    "ExecuteTime": {
     "end_time": "2024-10-09T15:35:16.730150Z",
     "start_time": "2024-10-09T15:35:16.717445Z"
    }
   },
   "cell_type": "code",
   "source": [
    "alignment_directory = Path(\n",
    "    \"/home/ediun/git/histalign/projects/demo_project_09-10-2024/b0744ba7fd\"\n",
    ")"
   ],
   "id": "bf80d2ac99fe8a6e",
   "outputs": [],
   "execution_count": 28
  },
  {
   "metadata": {
    "ExecuteTime": {
     "end_time": "2024-10-09T15:35:18.155310Z",
     "start_time": "2024-10-09T15:35:18.010353Z"
    }
   },
   "cell_type": "code",
   "source": [
    "alignment_volume = build_alignment_volume(alignment_directory)\n",
    "alignment_volume.cmap(**get_cmap(alignment_volume));"
   ],
   "id": "ebfc21e397462778",
   "outputs": [],
   "execution_count": 29
  },
  {
   "metadata": {
    "ExecuteTime": {
     "end_time": "2024-10-09T15:35:33.131331Z",
     "start_time": "2024-10-09T15:35:19.265370Z"
    }
   },
   "cell_type": "code",
   "source": "show(alignment_volume)",
   "id": "d5f4903fe3fff99f",
   "outputs": [],
   "execution_count": 30
  },
  {
   "metadata": {},
   "cell_type": "markdown",
   "source": "## Root",
   "id": "a21783ba9e7846f5"
  },
  {
   "metadata": {
    "ExecuteTime": {
     "end_time": "2024-10-09T15:35:34.871034Z",
     "start_time": "2024-10-09T15:35:34.527265Z"
    }
   },
   "cell_type": "code",
   "source": [
    "mask_name = \"root\"\n",
    "root_mask = load_structure_mask(mask_name, Resolution.MICRONS_50)\n",
    "root_interpolated_array = interpolate_sparse_3d_array(\n",
    "    alignment_volume.tonumpy(),\n",
    "    root_mask,\n",
    "    use_cache=True,\n",
    "    alignment_directory=alignment_directory,\n",
    "    mask_name=mask_name,\n",
    ")"
   ],
   "id": "cee1aeac78b48d60",
   "outputs": [],
   "execution_count": 31
  },
  {
   "metadata": {
    "ExecuteTime": {
     "end_time": "2024-10-09T15:35:42.828764Z",
     "start_time": "2024-10-09T15:35:42.458782Z"
    }
   },
   "cell_type": "code",
   "source": [
    "root_interpolated_volume = vedo.Volume(root_interpolated_array)\n",
    "root_interpolated_volume.cmap(\n",
    "    **get_cmap(root_interpolated_volume, vmin=0, vmax=root_interpolated_array.max())\n",
    ");"
   ],
   "id": "b6a412866d0b96c0",
   "outputs": [],
   "execution_count": 32
  },
  {
   "metadata": {
    "ExecuteTime": {
     "end_time": "2024-10-09T15:46:56.113359Z",
     "start_time": "2024-10-09T15:35:44.993847Z"
    }
   },
   "cell_type": "code",
   "source": "show(root_interpolated_volume)",
   "id": "218366dec0a6452",
   "outputs": [],
   "execution_count": 33
  },
  {
   "metadata": {
    "ExecuteTime": {
     "end_time": "2024-10-09T15:46:59.311011Z",
     "start_time": "2024-10-09T15:46:59.062867Z"
    }
   },
   "cell_type": "code",
   "source": [
    "def update(index: int = 0) -> None:\n",
    "    imshow(alignment_volume.tonumpy()[..., index].T, title=\"Original\")\n",
    "    imshow(root_mask[..., index].T, title=\"Mask\")\n",
    "    imshow(\n",
    "        root_interpolated_array[..., index].T,\n",
    "        title=\"Interpolated\",\n",
    "        vmin=0,\n",
    "        vmax=root_interpolated_array.max(),\n",
    "    )\n",
    "\n",
    "\n",
    "interact(update, index=(41, 187));"
   ],
   "id": "b0983c16451f3cc",
   "outputs": [
    {
     "data": {
      "text/plain": [
       "interactive(children=(IntSlider(value=41, description='index', max=187, min=41), Output()), _dom_classes=('wid…"
      ],
      "application/vnd.jupyter.widget-view+json": {
       "version_major": 2,
       "version_minor": 0,
       "model_id": "77078d55e143440287cc9f853f64942e"
      }
     },
     "metadata": {},
     "output_type": "display_data"
    }
   ],
   "execution_count": 34
  },
  {
   "metadata": {},
   "cell_type": "markdown",
   "source": "## Somatomotor areas",
   "id": "835d76f0d932b61e"
  },
  {
   "metadata": {
    "ExecuteTime": {
     "end_time": "2024-10-09T15:55:56.491751Z",
     "start_time": "2024-10-09T15:55:55.551066Z"
    }
   },
   "cell_type": "code",
   "source": [
    "mask_name = \"Somatomotor areas\"\n",
    "mask = load_structure_mask(mask_name, Resolution.MICRONS_50)\n",
    "mask_interpolated_array = interpolate_sparse_3d_array(\n",
    "    alignment_volume.tonumpy(),\n",
    "    mask,\n",
    "    use_cache=True,\n",
    "    alignment_directory=alignment_directory,\n",
    "    mask_name=mask_name,\n",
    ")"
   ],
   "id": "6e4d8515c5860947",
   "outputs": [],
   "execution_count": 35
  },
  {
   "metadata": {
    "ExecuteTime": {
     "end_time": "2024-10-09T15:55:56.808370Z",
     "start_time": "2024-10-09T15:55:56.540753Z"
    }
   },
   "cell_type": "code",
   "source": [
    "mask_interpolated_volume = vedo.Volume(mask_interpolated_array)\n",
    "mask_interpolated_volume.cmap(\n",
    "    **get_cmap(mask_interpolated_volume, vmin=0, vmax=mask_interpolated_array.max())\n",
    ");"
   ],
   "id": "fa3d55e82a0d6ac1",
   "outputs": [],
   "execution_count": 36
  },
  {
   "metadata": {
    "ExecuteTime": {
     "end_time": "2024-10-09T15:56:06.499817Z",
     "start_time": "2024-10-09T15:55:57.626305Z"
    }
   },
   "cell_type": "code",
   "source": "show(mask_interpolated_volume)",
   "id": "6397ac833cba5b8e",
   "outputs": [],
   "execution_count": 37
  },
  {
   "metadata": {
    "ExecuteTime": {
     "end_time": "2024-10-09T15:56:18.609669Z",
     "start_time": "2024-10-09T15:56:18.444674Z"
    }
   },
   "cell_type": "code",
   "source": [
    "def update(index: int = 0) -> None:\n",
    "    imshow(alignment_volume.tonumpy()[..., index].T, title=\"Original\")\n",
    "    imshow(mask[..., index].T, title=\"Mask\")\n",
    "    imshow(\n",
    "        mask_interpolated_array[..., index].T,\n",
    "        title=\"Interpolated\",\n",
    "        vmin=0,\n",
    "        vmax=mask_interpolated_array.max(),\n",
    "    )\n",
    "\n",
    "\n",
    "interact(update, index=(41, 114));"
   ],
   "id": "673bce95c2592ad3",
   "outputs": [
    {
     "data": {
      "text/plain": [
       "interactive(children=(IntSlider(value=41, description='index', max=187, min=41), Output()), _dom_classes=('wid…"
      ],
      "application/vnd.jupyter.widget-view+json": {
       "version_major": 2,
       "version_minor": 0,
       "model_id": "7aeb2f416b1d469cadc0a7d5d9a4e73f"
      }
     },
     "metadata": {},
     "output_type": "display_data"
    }
   ],
   "execution_count": 38
  }
 ],
 "metadata": {
  "kernelspec": {
   "display_name": "Python 3",
   "language": "python",
   "name": "python3"
  },
  "language_info": {
   "codemirror_mode": {
    "name": "ipython",
    "version": 2
   },
   "file_extension": ".py",
   "mimetype": "text/x-python",
   "name": "python",
   "nbconvert_exporter": "python",
   "pygments_lexer": "ipython2",
   "version": "2.7.6"
  }
 },
 "nbformat": 4,
 "nbformat_minor": 5
}
