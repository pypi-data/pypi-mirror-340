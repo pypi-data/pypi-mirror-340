{
 "cells": [
  {
   "cell_type": "code",
   "id": "initial_id",
   "metadata": {
    "collapsed": true,
    "ExecuteTime": {
     "end_time": "2024-10-18T15:23:39.823130Z",
     "start_time": "2024-10-18T15:23:39.812737Z"
    }
   },
   "source": [
    "from helper_loader import *\n",
    "from histalign.backend.maths import apply_rotation, compute_normal\n",
    "\n",
    "from histalign.backend.models import VolumeSettings\n",
    "\n",
    "from math import sin, cos"
   ],
   "outputs": [],
   "execution_count": 234
  },
  {
   "metadata": {
    "ExecuteTime": {
     "end_time": "2024-10-18T15:23:39.840678Z",
     "start_time": "2024-10-18T15:23:39.830706Z"
    }
   },
   "cell_type": "code",
   "source": [
    "settings = VolumeSettings(\n",
    "    orientation=Orientation.CORONAL,\n",
    "    resolution=Resolution.MICRONS_50,\n",
    "    offset=100,\n",
    "    pitch=90,\n",
    "    yaw=0,\n",
    "    shape=(264, 160, 228),\n",
    ")"
   ],
   "id": "fb083c1882fbc0ca",
   "outputs": [],
   "execution_count": 235
  },
  {
   "metadata": {
    "ExecuteTime": {
     "end_time": "2024-10-18T15:23:39.894536Z",
     "start_time": "2024-10-18T15:23:39.884092Z"
    }
   },
   "cell_type": "code",
   "source": [
    "center = np.array(\n",
    "    [\n",
    "        (settings.shape[0] - 1) // 2 + 1,\n",
    "        (settings.shape[1] - 1) // 2,\n",
    "        (settings.shape[2] - 1) // 2,\n",
    "    ]\n",
    ")\n",
    "center"
   ],
   "id": "5352d1f5fee675d0",
   "outputs": [
    {
     "data": {
      "text/plain": [
       "array([132,  79, 113])"
      ]
     },
     "execution_count": 236,
     "metadata": {},
     "output_type": "execute_result"
    }
   ],
   "execution_count": 236
  },
  {
   "metadata": {
    "ExecuteTime": {
     "end_time": "2024-10-18T15:23:40.000559Z",
     "start_time": "2024-10-18T15:23:39.989927Z"
    }
   },
   "cell_type": "code",
   "source": [
    "image_center = center.copy()\n",
    "image_center[0] -= settings.offset\n",
    "image_center"
   ],
   "id": "f151c181e0994050",
   "outputs": [
    {
     "data": {
      "text/plain": [
       "array([ 32,  79, 113])"
      ]
     },
     "execution_count": 237,
     "metadata": {},
     "output_type": "execute_result"
    }
   ],
   "execution_count": 237
  },
  {
   "metadata": {
    "ExecuteTime": {
     "end_time": "2024-10-18T15:23:40.134664Z",
     "start_time": "2024-10-18T15:23:40.123423Z"
    }
   },
   "cell_type": "code",
   "source": [
    "first_half = (center[1] + 1) / cos(settings.pitch)\n",
    "first_half"
   ],
   "id": "e4fde905847213d",
   "outputs": [
    {
     "data": {
      "text/plain": [
       "-178.54209022862372"
      ]
     },
     "execution_count": 238,
     "metadata": {},
     "output_type": "execute_result"
    }
   ],
   "execution_count": 238
  },
  {
   "metadata": {},
   "cell_type": "markdown",
   "source": "",
   "id": "41b760a9d8a2b9b"
  },
  {
   "metadata": {
    "ExecuteTime": {
     "end_time": "2024-10-18T15:23:40.217677Z",
     "start_time": "2024-10-18T15:23:40.205036Z"
    }
   },
   "cell_type": "code",
   "source": [
    "x_axis = vedo.Arrow(end_pt=(300, 0, 0), c=\"red\", s=0.5)\n",
    "y_axis = vedo.Arrow(end_pt=(0, 200, 0), c=\"yellow\", s=0.5)\n",
    "z_axis = vedo.Arrow(end_pt=(0, 0, 250), c=\"blue\", s=0.5)\n",
    "\n",
    "axes = [x_axis, y_axis, z_axis]"
   ],
   "id": "60d526d1ecdd4ac1",
   "outputs": [],
   "execution_count": 239
  },
  {
   "metadata": {
    "ExecuteTime": {
     "end_time": "2024-10-18T15:23:40.262980Z",
     "start_time": "2024-10-18T15:23:40.253323Z"
    }
   },
   "cell_type": "code",
   "source": [
    "custom_coronal_camera = coronal_camera.copy()\n",
    "custom_coronal_camera[\"position\"] = center.copy()\n",
    "custom_coronal_camera[\"position\"][0] += 800\n",
    "custom_coronal_camera[\"focal_point\"] = center"
   ],
   "id": "a61100526daa4553",
   "outputs": [],
   "execution_count": 240
  },
  {
   "metadata": {
    "ExecuteTime": {
     "end_time": "2024-10-18T15:23:41.438387Z",
     "start_time": "2024-10-18T15:23:40.302963Z"
    }
   },
   "cell_type": "code",
   "source": [
    "box = vedo.Box(\n",
    "    pos=(0, settings.shape[0], 0, settings.shape[1], 0, settings.shape[2]),\n",
    ")\n",
    "\n",
    "horizontal_plane_normal = np.array([0, -1, 0])\n",
    "rotated_horizontal_plane_normal = apply_rotation(horizontal_plane_normal, settings)\n",
    "\n",
    "show(\n",
    "    [\n",
    "        box,\n",
    "        *axes,\n",
    "    ],\n",
    "    camera=custom_coronal_camera,\n",
    ")"
   ],
   "id": "8e27f3675e214b49",
   "outputs": [],
   "execution_count": 241
  },
  {
   "metadata": {
    "ExecuteTime": {
     "end_time": "2024-10-18T15:23:42.077638Z",
     "start_time": "2024-10-18T15:23:41.452185Z"
    }
   },
   "cell_type": "code",
   "source": [
    "show(\n",
    "    [\n",
    "        vedo.Arrow(end_pt=compute_normal(settings) * 200, s=1),\n",
    "        vedo.Arrow(end_pt=rotated_horizontal_plane_normal * 200, s=1),\n",
    "        *axes,\n",
    "    ],\n",
    "    camera=custom_coronal_camera,\n",
    ")"
   ],
   "id": "b9641fd97cc2c181",
   "outputs": [],
   "execution_count": 242
  },
  {
   "metadata": {
    "ExecuteTime": {
     "end_time": "2024-10-18T15:23:42.102767Z",
     "start_time": "2024-10-18T15:23:42.092464Z"
    }
   },
   "cell_type": "code",
   "source": [
    "point1 = image_center - rotated_horizontal_plane_normal * 1000\n",
    "point2 = image_center + rotated_horizontal_plane_normal * 1000\n",
    "\n",
    "intersections = box.intersect_with_line(point1, point2)"
   ],
   "id": "d8eb72b9c6e852f8",
   "outputs": [],
   "execution_count": 243
  },
  {
   "metadata": {
    "ExecuteTime": {
     "end_time": "2024-10-18T15:23:42.167657Z",
     "start_time": "2024-10-18T15:23:42.156096Z"
    }
   },
   "cell_type": "code",
   "source": "rotated_horizontal_plane_normal",
   "id": "a9ec784668f039d4",
   "outputs": [
    {
     "data": {
      "text/plain": [
       "array([ 1.000000e+00, -6.123234e-17,  0.000000e+00])"
      ]
     },
     "execution_count": 244,
     "metadata": {},
     "output_type": "execute_result"
    }
   ],
   "execution_count": 244
  },
  {
   "metadata": {
    "ExecuteTime": {
     "end_time": "2024-10-18T15:23:42.229498Z",
     "start_time": "2024-10-18T15:23:42.218772Z"
    }
   },
   "cell_type": "code",
   "source": "point1",
   "id": "dd1403a7bb567796",
   "outputs": [
    {
     "data": {
      "text/plain": [
       "array([-968.,   79.,  113.])"
      ]
     },
     "execution_count": 245,
     "metadata": {},
     "output_type": "execute_result"
    }
   ],
   "execution_count": 245
  },
  {
   "metadata": {
    "ExecuteTime": {
     "end_time": "2024-10-18T15:23:42.276874Z",
     "start_time": "2024-10-18T15:23:42.266311Z"
    }
   },
   "cell_type": "code",
   "source": "point2",
   "id": "e4639f3429d81b4e",
   "outputs": [
    {
     "data": {
      "text/plain": [
       "array([1032.,   79.,  113.])"
      ]
     },
     "execution_count": 246,
     "metadata": {},
     "output_type": "execute_result"
    }
   ],
   "execution_count": 246
  },
  {
   "metadata": {
    "ExecuteTime": {
     "end_time": "2024-10-18T15:23:53.294303Z",
     "start_time": "2024-10-18T15:23:42.382350Z"
    }
   },
   "cell_type": "code",
   "source": [
    "show(\n",
    "    [\n",
    "        box.alpha(0.2),\n",
    "        vedo.Point(center, r=20, c=\"red\"),\n",
    "        vedo.Point(image_center, r=20, c=\"green\"),\n",
    "        vedo.Line(point1, point2, c=\"purple\", lw=10),\n",
    "        vedo.Points(box.intersect_with_line(point1, point2), r=20, c=\"blue\"),\n",
    "    ],\n",
    "    camera=custom_coronal_camera,\n",
    ")"
   ],
   "id": "f822d68d6694efb8",
   "outputs": [],
   "execution_count": 247
  },
  {
   "metadata": {
    "ExecuteTime": {
     "end_time": "2024-10-18T15:23:53.332387Z",
     "start_time": "2024-10-18T15:23:53.321456Z"
    }
   },
   "cell_type": "code",
   "source": [
    "from scipy.spatial import distance\n",
    "\n",
    "point1_to_image_center = distance.euclidean(intersections[0], image_center)\n",
    "print(point1_to_image_center)\n",
    "point2_to_image_center = distance.euclidean(intersections[1], image_center)\n",
    "print(point2_to_image_center)"
   ],
   "id": "3856230cf43962b8",
   "outputs": [
    {
     "name": "stdout",
     "output_type": "stream",
     "text": [
      "32.0\n",
      "232.0\n"
     ]
    }
   ],
   "execution_count": 248
  }
 ],
 "metadata": {
  "kernelspec": {
   "display_name": "Python 3",
   "language": "python",
   "name": "python3"
  },
  "language_info": {
   "codemirror_mode": {
    "name": "ipython",
    "version": 2
   },
   "file_extension": ".py",
   "mimetype": "text/x-python",
   "name": "python",
   "nbconvert_exporter": "python",
   "pygments_lexer": "ipython2",
   "version": "2.7.6"
  }
 },
 "nbformat": 4,
 "nbformat_minor": 5
}
