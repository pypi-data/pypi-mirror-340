{
 "cells": [
  {
   "cell_type": "code",
   "id": "initial_id",
   "metadata": {
    "collapsed": true,
    "ExecuteTime": {
     "end_time": "2024-09-11T16:00:15.668443Z",
     "start_time": "2024-09-11T15:59:37.825452Z"
    }
   },
   "source": [
    "\"\"\"Map an array which is defined on\n",
    "the vertices of a mesh to its cells\"\"\"\n",
    "\n",
    "from vedo import *\n",
    "\n",
    "settings.default_backend = \"vtk\"\n",
    "\n",
    "doc = Text2D(__doc__, pos=\"top-center\")\n",
    "\n",
    "mesh1 = Mesh(dataurl + \"icosahedron.vtk\").linewidth(0.1).flat()\n",
    "\n",
    "# let the scalar be the z coordinate of the mesh vertices\n",
    "msg1 = Text2D(\"Scalars originally defined on points..\", pos=\"bottom-center\")\n",
    "mesh1.pointdata[\"myzscalars\"] = mesh1.vertices[:, 2]\n",
    "\n",
    "mesh1.cmap(\"jet\", \"myzscalars\", on=\"points\")\n",
    "\n",
    "msg2 = Text2D(\"..are interpolated to cells.\", pos=\"bottom-center\")\n",
    "mesh2 = mesh1.clone(deep=False).map_points_to_cells()\n",
    "\n",
    "plt = Plotter(N=2, axes=11)\n",
    "plt.at(0).show(mesh1, msg1, doc, viewup=\"z\")\n",
    "plt.at(1).show(mesh2, msg2)\n",
    "plt.interactive().close()"
   ],
   "outputs": [
    {
     "data": {
      "text/plain": [
       "<vedo.plotter.Plotter at 0x7fc242f832e0>"
      ]
     },
     "execution_count": 2,
     "metadata": {},
     "output_type": "execute_result"
    }
   ],
   "execution_count": 2
  }
 ],
 "metadata": {
  "kernelspec": {
   "display_name": "Python 3",
   "language": "python",
   "name": "python3"
  },
  "language_info": {
   "codemirror_mode": {
    "name": "ipython",
    "version": 2
   },
   "file_extension": ".py",
   "mimetype": "text/x-python",
   "name": "python",
   "nbconvert_exporter": "python",
   "pygments_lexer": "ipython2",
   "version": "2.7.6"
  }
 },
 "nbformat": 4,
 "nbformat_minor": 5
}
