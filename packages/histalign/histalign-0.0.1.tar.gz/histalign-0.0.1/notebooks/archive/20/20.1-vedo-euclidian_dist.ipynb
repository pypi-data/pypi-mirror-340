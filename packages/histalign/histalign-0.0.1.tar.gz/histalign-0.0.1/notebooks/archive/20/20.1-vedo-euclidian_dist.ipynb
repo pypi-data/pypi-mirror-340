{
 "cells": [
  {
   "cell_type": "code",
   "id": "initial_id",
   "metadata": {
    "collapsed": true,
    "ExecuteTime": {
     "end_time": "2024-08-27T15:09:34.973935Z",
     "start_time": "2024-08-27T15:09:08.021239Z"
    }
   },
   "source": [
    "\"\"\"Euclidean Distance Transform using Saito algorithm.\n",
    "The distance map produced contains the square\n",
    "of the Euclidean distance values\"\"\"\n",
    "\n",
    "from vedo import *\n",
    "\n",
    "settings.default_backend = \"vtk\"\n",
    "\n",
    "e = Volume(dataurl + \"embryo.tif\")\n",
    "\n",
    "edt = e.euclidean_distance()\n",
    "\n",
    "show([(e, __doc__), edt], N=2, viewup=\"z\", axes=1, zoom=1.5).close()"
   ],
   "outputs": [
    {
     "data": {
      "text/plain": [
       "<vedo.plotter.Plotter at 0x7f6faac323b0>"
      ]
     },
     "execution_count": 2,
     "metadata": {},
     "output_type": "execute_result"
    }
   ],
   "execution_count": 2
  }
 ],
 "metadata": {
  "kernelspec": {
   "display_name": "Python 3",
   "language": "python",
   "name": "python3"
  },
  "language_info": {
   "codemirror_mode": {
    "name": "ipython",
    "version": 2
   },
   "file_extension": ".py",
   "mimetype": "text/x-python",
   "name": "python",
   "nbconvert_exporter": "python",
   "pygments_lexer": "ipython2",
   "version": "2.7.6"
  }
 },
 "nbformat": 4,
 "nbformat_minor": 5
}
