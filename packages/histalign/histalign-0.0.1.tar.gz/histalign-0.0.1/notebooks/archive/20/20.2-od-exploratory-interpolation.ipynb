{
 "cells": [
  {
   "cell_type": "code",
   "id": "initial_id",
   "metadata": {
    "collapsed": true,
    "ExecuteTime": {
     "end_time": "2024-09-02T11:54:09.835042Z",
     "start_time": "2024-09-02T11:54:08.776764Z"
    }
   },
   "source": [
    "import json\n",
    "import os\n",
    "from pathlib import Path\n",
    "\n",
    "import histalign.backend.io as io\n",
    "import matplotlib.pyplot as plt\n",
    "import numpy as np\n",
    "import scipy.interpolate as interpolate\n",
    "import scipy.ndimage as ndimage\n",
    "import vedo\n",
    "\n",
    "from histalign.backend.ccf.allen_downloads import get_structure_path\n",
    "from histalign.backend.models import AlignmentParameterAggregator, VolumeSettings\n",
    "from histalign.backend.registration.ReverseRegistrator import ReverseRegistrator\n",
    "from histalign.backend.workspace import VolumeManager"
   ],
   "outputs": [
    {
     "ename": "ModuleNotFoundError",
     "evalue": "No module named 'histalign.backend.ccf.allen_downloads'",
     "output_type": "error",
     "traceback": [
      "\u001b[0;31m---------------------------------------------------------------------------\u001b[0m",
      "\u001b[0;31mModuleNotFoundError\u001b[0m                       Traceback (most recent call last)",
      "Cell \u001b[0;32mIn[1], line 12\u001b[0m\n\u001b[1;32m      9\u001b[0m \u001b[38;5;28;01mimport\u001b[39;00m \u001b[38;5;21;01mscipy\u001b[39;00m\u001b[38;5;21;01m.\u001b[39;00m\u001b[38;5;21;01mndimage\u001b[39;00m \u001b[38;5;28;01mas\u001b[39;00m \u001b[38;5;21;01mndimage\u001b[39;00m\n\u001b[1;32m     10\u001b[0m \u001b[38;5;28;01mimport\u001b[39;00m \u001b[38;5;21;01mvedo\u001b[39;00m\n\u001b[0;32m---> 12\u001b[0m \u001b[38;5;28;01mfrom\u001b[39;00m \u001b[38;5;21;01mhistalign\u001b[39;00m\u001b[38;5;21;01m.\u001b[39;00m\u001b[38;5;21;01mbackend\u001b[39;00m\u001b[38;5;21;01m.\u001b[39;00m\u001b[38;5;21;01mccf\u001b[39;00m\u001b[38;5;21;01m.\u001b[39;00m\u001b[38;5;21;01mallen_downloads\u001b[39;00m \u001b[38;5;28;01mimport\u001b[39;00m get_structure_path\n\u001b[1;32m     13\u001b[0m \u001b[38;5;28;01mfrom\u001b[39;00m \u001b[38;5;21;01mhistalign\u001b[39;00m\u001b[38;5;21;01m.\u001b[39;00m\u001b[38;5;21;01mbackend\u001b[39;00m\u001b[38;5;21;01m.\u001b[39;00m\u001b[38;5;21;01mmodels\u001b[39;00m \u001b[38;5;28;01mimport\u001b[39;00m AlignmentParameterAggregator, VolumeSettings\n\u001b[1;32m     14\u001b[0m \u001b[38;5;28;01mfrom\u001b[39;00m \u001b[38;5;21;01mhistalign\u001b[39;00m\u001b[38;5;21;01m.\u001b[39;00m\u001b[38;5;21;01mbackend\u001b[39;00m\u001b[38;5;21;01m.\u001b[39;00m\u001b[38;5;21;01mregistration\u001b[39;00m\u001b[38;5;21;01m.\u001b[39;00m\u001b[38;5;21;01mReverseRegistrator\u001b[39;00m \u001b[38;5;28;01mimport\u001b[39;00m ReverseRegistrator\n",
      "\u001b[0;31mModuleNotFoundError\u001b[0m: No module named 'histalign.backend.ccf.allen_downloads'"
     ]
    }
   ],
   "execution_count": 1
  },
  {
   "metadata": {},
   "cell_type": "code",
   "source": "vedo.settings.default_backend = \"vtk\"",
   "id": "b2d91c45ce0cdc3e",
   "outputs": [],
   "execution_count": null
  },
  {
   "metadata": {
    "ExecuteTime": {
     "end_time": "2024-08-28T08:32:41.694357Z",
     "start_time": "2024-08-28T08:32:41.686851Z"
    }
   },
   "cell_type": "code",
   "source": [
    "def get_parameters(alignment_path: str) -> AlignmentParameterAggregator:\n",
    "    with open(alignment_path) as handle:\n",
    "        return AlignmentParameterAggregator(**json.load(handle))\n",
    "\n",
    "\n",
    "def mask_off(\n",
    "    image_array: np.ndarray,\n",
    "    structure_name: str,\n",
    "    parameters: AlignmentParameterAggregator,\n",
    ") -> np.ndarray:\n",
    "    mask_volume = VolumeManager()\n",
    "    mask_volume.load_volume(get_structure_path(structure_name, parameters.resolution))\n",
    "\n",
    "    volume_settings = VolumeSettings()\n",
    "    volume_settings.offset = parameters.offset\n",
    "\n",
    "    mask_slice = mask_volume.slice_volume(volume_settings)\n",
    "\n",
    "    reverse_registrator = ReverseRegistrator(True, True)\n",
    "    registered_image_array = reverse_registrator.get_forwarded_image(\n",
    "        parameters, image_array\n",
    "    )\n",
    "\n",
    "    return np.where(mask_slice > 0, registered_image_array, 0)\n",
    "\n",
    "\n",
    "def insert_into_array(\n",
    "    minor_array: np.ndarray,\n",
    "    master_array: np.ndarray,\n",
    "    parameters: AlignmentParameterAggregator,\n",
    ") -> np.ndarray:\n",
    "    def convert_offset_to_index(offset: int, resolution: int) -> int:\n",
    "        anti_offset_map = {100: 57, 50: 114, 25: 228, 10: 270}\n",
    "        return offset + anti_offset_map[resolution]\n",
    "\n",
    "    index = convert_offset_to_index(parameters.offset, parameters.resolution)\n",
    "    master_array[..., index] = minor_array\n",
    "    return master_array\n",
    "\n",
    "\n",
    "def process_alignment(\n",
    "    alignment_path: str,\n",
    "    structure_name: str,\n",
    "    master_array: np.ndarray,\n",
    "    neun: bool = True,\n",
    ") -> np.ndarray:\n",
    "    print(\"Getting parameters\")\n",
    "    parameters = get_parameters(str(alignment_path))\n",
    "    print(\"Getting raw image\")\n",
    "    if neun:\n",
    "        raw_image = io.load_image(\n",
    "            parameters.histology_file_path, normalise_dtype=np.uint8\n",
    "        )\n",
    "    else:\n",
    "        path = parameters.histology_file_path.replace(\"channel1\", \"channel2\").replace(\n",
    "            \"470_New 1\", \"700_New 2\"\n",
    "        )\n",
    "        raw_image = io.load_image(path, normalise_dtype=np.uint8)\n",
    "    print(\"Getting masked image\")\n",
    "    masked_image = mask_off(raw_image, structure_name, parameters).T\n",
    "\n",
    "    return insert_into_array(masked_image, master_array, parameters)\n",
    "\n",
    "\n",
    "def imshow(image: np.ndarray) -> None:\n",
    "    _, axes = plt.subplots()\n",
    "\n",
    "    axes.imshow(image)\n",
    "    axes.axis(False)\n",
    "\n",
    "    plt.show()"
   ],
   "id": "1023987ed7b27013",
   "outputs": [],
   "execution_count": 3
  },
  {
   "metadata": {
    "ExecuteTime": {
     "end_time": "2024-08-28T08:32:42.362989Z",
     "start_time": "2024-08-28T08:32:41.695240Z"
    }
   },
   "cell_type": "code",
   "source": [
    "#\n",
    "results_directory = \"/home/ediun/git/histalign/projects/project_310724_full/7d9af388b0\"\n",
    "\n",
    "project_file = str(Path(results_directory).parent / \"project.json\")\n",
    "\n",
    "with open(project_file) as handle:\n",
    "    project_resolution = json.load(handle)[\"atlas_resolution\"]\n",
    "\n",
    "#\n",
    "alignment_paths = []\n",
    "for path in Path(results_directory).iterdir():\n",
    "    if path.is_dir() or path.stem == \"metadata\" or path.suffix != \".json\":\n",
    "        continue\n",
    "\n",
    "    alignment_paths.append(path)\n",
    "\n",
    "#\n",
    "neun = False\n",
    "volume_array_path = (\n",
    "    f\"notebooks/resources/volume_array_{'neun' if neun else 'mecp2'}.npy\"\n",
    ")\n",
    "\n",
    "if os.path.exists(volume_array_path):\n",
    "    volume_array = np.load(volume_array_path)\n",
    "else:\n",
    "    dimensions_map = {\n",
    "        100: (132, 80, 114),\n",
    "        50: (264, 160, 228),\n",
    "        25: (528, 320, 456),\n",
    "        10: (1320, 800, 1140),\n",
    "    }\n",
    "\n",
    "    dimensions = dimensions_map[project_resolution]\n",
    "\n",
    "    volume_array = np.zeros(dimensions)\n",
    "\n",
    "    i = 0\n",
    "    for alignment_path in alignment_paths:\n",
    "        i += 1\n",
    "        print(f\"Processing {i}\")\n",
    "\n",
    "        volume_array = process_alignment(\n",
    "            alignment_path, \"Isocortex\", volume_array, neun\n",
    "        )\n",
    "\n",
    "    # Ensuring we have only unique offsets\n",
    "    j = 0\n",
    "    for k in range(volume_array.shape[-1]):\n",
    "        if volume_array[..., k].max() > 0:\n",
    "            j += 1\n",
    "\n",
    "    assert i == j, \"Some offsets were the same, previous slices were overwritten\"\n",
    "\n",
    "    np.save(volume_array_path, volume_array)"
   ],
   "id": "5dce4d0ff11f30eb",
   "outputs": [],
   "execution_count": 4
  },
  {
   "metadata": {
    "ExecuteTime": {
     "end_time": "2024-08-28T08:32:43.544088Z",
     "start_time": "2024-08-28T08:32:42.364956Z"
    }
   },
   "cell_type": "code",
   "source": [
    "mask_manager = VolumeManager()\n",
    "mask_manager.load_volume(get_structure_path(\"Isocortex\", project_resolution))\n",
    "mask: vedo.Volume = mask_manager._volume"
   ],
   "id": "52242816fa13e2ea",
   "outputs": [],
   "execution_count": 5
  },
  {
   "metadata": {
    "ExecuteTime": {
     "end_time": "2024-08-28T08:32:43.547818Z",
     "start_time": "2024-08-28T08:32:43.545110Z"
    }
   },
   "cell_type": "code",
   "source": [
    "volume_array = volume_array\n",
    "mask_array = mask.tonumpy()"
   ],
   "id": "259a348536cd1562",
   "outputs": [],
   "execution_count": 6
  },
  {
   "metadata": {},
   "cell_type": "markdown",
   "source": "# Smoothing/interpolating",
   "id": "425bb63bdb02aa9d"
  },
  {
   "metadata": {
    "ExecuteTime": {
     "end_time": "2024-08-28T08:32:52.173343Z",
     "start_time": "2024-08-28T08:32:43.548741Z"
    }
   },
   "cell_type": "code",
   "source": "blurred = ndimage.gaussian_filter(volume_array, sigma=8, radius=64)",
   "id": "399f7e71b27d18f8",
   "outputs": [],
   "execution_count": 7
  },
  {
   "metadata": {
    "ExecuteTime": {
     "end_time": "2024-08-28T08:32:52.618400Z",
     "start_time": "2024-08-28T08:32:52.174526Z"
    }
   },
   "cell_type": "code",
   "source": "masked_blurred = np.where(mask_array > 0, blurred, 0)",
   "id": "d66ad65a5f7aba05",
   "outputs": [],
   "execution_count": 8
  },
  {
   "metadata": {
    "ExecuteTime": {
     "start_time": "2024-08-28T08:32:52.619280Z"
    }
   },
   "cell_type": "code",
   "source": [
    "volume = vedo.Volume(masked_blurred).tomesh()\n",
    "volume.opacity(0.5)\n",
    "\n",
    "volume.show()"
   ],
   "id": "1fd35e5fc076cc38",
   "outputs": [],
   "execution_count": null
  }
 ],
 "metadata": {
  "kernelspec": {
   "display_name": "Python 3",
   "language": "python",
   "name": "python3"
  },
  "language_info": {
   "codemirror_mode": {
    "name": "ipython",
    "version": 2
   },
   "file_extension": ".py",
   "mimetype": "text/x-python",
   "name": "python",
   "nbconvert_exporter": "python",
   "pygments_lexer": "ipython2",
   "version": "2.7.6"
  }
 },
 "nbformat": 4,
 "nbformat_minor": 5
}
