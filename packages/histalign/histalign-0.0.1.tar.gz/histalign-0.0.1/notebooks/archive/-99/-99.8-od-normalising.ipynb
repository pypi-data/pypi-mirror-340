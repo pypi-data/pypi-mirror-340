{
 "cells": [
  {
   "cell_type": "code",
   "id": "initial_id",
   "metadata": {
    "collapsed": true,
    "ExecuteTime": {
     "end_time": "2024-09-23T14:05:24.635153Z",
     "start_time": "2024-09-23T14:05:23.808890Z"
    }
   },
   "source": "from helper_loader import *",
   "outputs": [],
   "execution_count": 1
  },
  {
   "metadata": {
    "ExecuteTime": {
     "end_time": "2024-09-23T14:13:07.789396Z",
     "start_time": "2024-09-23T14:13:07.775410Z"
    }
   },
   "cell_type": "code",
   "source": [
    "a = np.array([1, 5, 10], np.uint8)\n",
    "min_max_scale(a)"
   ],
   "id": "df1086ac0df0c440",
   "outputs": [
    {
     "data": {
      "text/plain": [
       "array([  0, 113, 255], dtype=uint8)"
      ]
     },
     "execution_count": 27,
     "metadata": {},
     "output_type": "execute_result"
    }
   ],
   "execution_count": 27
  }
 ],
 "metadata": {
  "kernelspec": {
   "display_name": "Python 3",
   "language": "python",
   "name": "python3"
  },
  "language_info": {
   "codemirror_mode": {
    "name": "ipython",
    "version": 2
   },
   "file_extension": ".py",
   "mimetype": "text/x-python",
   "name": "python",
   "nbconvert_exporter": "python",
   "pygments_lexer": "ipython2",
   "version": "2.7.6"
  }
 },
 "nbformat": 4,
 "nbformat_minor": 5
}
