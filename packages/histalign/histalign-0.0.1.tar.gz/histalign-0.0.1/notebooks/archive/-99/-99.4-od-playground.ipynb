{
 "cells": [
  {
   "metadata": {},
   "cell_type": "markdown",
   "source": "# 18/09/2024",
   "id": "e92953ed74ec8c25"
  },
  {
   "metadata": {},
   "cell_type": "markdown",
   "source": "## 1",
   "id": "423777acf98fdb48"
  },
  {
   "cell_type": "code",
   "id": "initial_id",
   "metadata": {
    "collapsed": true,
    "ExecuteTime": {
     "end_time": "2024-09-18T10:58:59.541033Z",
     "start_time": "2024-09-18T10:58:59.424318Z"
    }
   },
   "source": "import numpy as np",
   "outputs": [],
   "execution_count": 2
  },
  {
   "metadata": {
    "ExecuteTime": {
     "end_time": "2024-09-18T10:59:57.810907Z",
     "start_time": "2024-09-18T10:59:57.807700Z"
    }
   },
   "cell_type": "code",
   "source": [
    "array = np.zeros(shape=(2, 4, 3), dtype=np.uint8)\n",
    "array[0, 0, 0] = 10\n",
    "array[1, 0, 2] = 10\n",
    "array"
   ],
   "id": "930e680996d219b5",
   "outputs": [
    {
     "data": {
      "text/plain": [
       "array([[[10,  0,  0],\n",
       "        [ 0,  0,  0],\n",
       "        [ 0,  0,  0],\n",
       "        [ 0,  0,  0]],\n",
       "\n",
       "       [[ 0,  0, 10],\n",
       "        [ 0,  0,  0],\n",
       "        [ 0,  0,  0],\n",
       "        [ 0,  0,  0]]], dtype=uint8)"
      ]
     },
     "execution_count": 11,
     "metadata": {},
     "output_type": "execute_result"
    }
   ],
   "execution_count": 11
  },
  {
   "metadata": {
    "ExecuteTime": {
     "end_time": "2024-09-18T10:59:00.645495Z",
     "start_time": "2024-09-18T10:59:00.641836Z"
    }
   },
   "cell_type": "code",
   "source": [
    "coordinates = np.array(\n",
    "    [\n",
    "        [0, 1],\n",
    "        [0, 1],\n",
    "        [0, 1],\n",
    "    ]\n",
    ")\n",
    "coordinates"
   ],
   "id": "c1f3bc6bd1e14963",
   "outputs": [
    {
     "data": {
      "text/plain": [
       "array([[0, 1],\n",
       "       [0, 1],\n",
       "       [0, 1]])"
      ]
     },
     "execution_count": 4,
     "metadata": {},
     "output_type": "execute_result"
    }
   ],
   "execution_count": 4
  },
  {
   "metadata": {
    "ExecuteTime": {
     "end_time": "2024-09-18T11:00:03.005951Z",
     "start_time": "2024-09-18T11:00:03.002753Z"
    }
   },
   "cell_type": "code",
   "source": "array[np.nonzero(array)]",
   "id": "6f8cc9c31cc3f667",
   "outputs": [
    {
     "data": {
      "text/plain": [
       "array([10, 10], dtype=uint8)"
      ]
     },
     "execution_count": 12,
     "metadata": {},
     "output_type": "execute_result"
    }
   ],
   "execution_count": 12
  },
  {
   "metadata": {
    "ExecuteTime": {
     "end_time": "2024-09-18T10:05:16.559618Z",
     "start_time": "2024-09-18T10:05:16.556165Z"
    }
   },
   "cell_type": "code",
   "source": [
    "array[tuple(map(tuple, coordinates.tolist()))] = np.array([100, 200])\n",
    "array"
   ],
   "id": "932a6c3bd0688cef",
   "outputs": [
    {
     "data": {
      "text/plain": [
       "array([[[100,   0,   0],\n",
       "        [  0,   0,   0],\n",
       "        [  0,   0,   0],\n",
       "        [  0,   0,   0]],\n",
       "\n",
       "       [[  0,   0,   0],\n",
       "        [  0, 200,   0],\n",
       "        [  0,   0,   0],\n",
       "        [  0,   0,   0]]], dtype=uint8)"
      ]
     },
     "execution_count": 34,
     "metadata": {},
     "output_type": "execute_result"
    }
   ],
   "execution_count": 34
  },
  {
   "metadata": {},
   "cell_type": "markdown",
   "source": "## 2",
   "id": "aceb3bdbc542819"
  },
  {
   "metadata": {
    "ExecuteTime": {
     "end_time": "2024-09-18T10:11:51.131840Z",
     "start_time": "2024-09-18T10:11:50.715481Z"
    }
   },
   "cell_type": "code",
   "source": [
    "import numpy as np\n",
    "from scipy import ndimage"
   ],
   "id": "a82e66f6300e7b0a",
   "outputs": [],
   "execution_count": 35
  },
  {
   "metadata": {
    "ExecuteTime": {
     "end_time": "2024-09-18T10:17:39.625738Z",
     "start_time": "2024-09-18T10:17:39.621445Z"
    }
   },
   "cell_type": "code",
   "source": [
    "array = np.arange(20).reshape(4, 5)\n",
    "array = np.insert(array, [1, 2, 3, 4], 0, axis=1)\n",
    "array"
   ],
   "id": "23ac99524ae8962f",
   "outputs": [
    {
     "data": {
      "text/plain": [
       "array([[ 0,  0,  1,  0,  2,  0,  3,  0,  4],\n",
       "       [ 5,  0,  6,  0,  7,  0,  8,  0,  9],\n",
       "       [10,  0, 11,  0, 12,  0, 13,  0, 14],\n",
       "       [15,  0, 16,  0, 17,  0, 18,  0, 19]])"
      ]
     },
     "execution_count": 60,
     "metadata": {},
     "output_type": "execute_result"
    }
   ],
   "execution_count": 60
  },
  {
   "metadata": {
    "ExecuteTime": {
     "end_time": "2024-09-18T10:14:16.460446Z",
     "start_time": "2024-09-18T10:14:16.457117Z"
    }
   },
   "cell_type": "code",
   "source": "ndimage.map_coordinates(array, [[0.5], [0]])",
   "id": "915f6d7ded0b1737",
   "outputs": [
    {
     "data": {
      "text/plain": [
       "array([2])"
      ]
     },
     "execution_count": 46,
     "metadata": {},
     "output_type": "execute_result"
    }
   ],
   "execution_count": 46
  },
  {
   "metadata": {},
   "cell_type": "markdown",
   "source": "## 3",
   "id": "b261c8906118b5c8"
  },
  {
   "metadata": {
    "ExecuteTime": {
     "end_time": "2024-09-18T10:23:00.996734Z",
     "start_time": "2024-09-18T10:22:59.754277Z"
    }
   },
   "cell_type": "code",
   "source": [
    "from notebook_helpers import *\n",
    "\n",
    "import numpy as np\n",
    "from scipy import ndimage"
   ],
   "id": "30c5d187787dc02a",
   "outputs": [],
   "execution_count": 67
  },
  {
   "metadata": {
    "ExecuteTime": {
     "end_time": "2024-09-18T10:28:06.244402Z",
     "start_time": "2024-09-18T10:28:06.224834Z"
    }
   },
   "cell_type": "code",
   "source": [
    "array = np.eye(21)\n",
    "array[10] = 1\n",
    "imshow(array, cmap=\"gray_r\")"
   ],
   "id": "2dc7754837ff92d8",
   "outputs": [
    {
     "data": {
      "text/plain": [
       "<Figure size 640x480 with 1 Axes>"
      ],
      "image/png": "[encoded data removed]"
     },
     "metadata": {},
     "output_type": "display_data"
    }
   ],
   "execution_count": 97
  },
  {
   "metadata": {
    "ExecuteTime": {
     "end_time": "2024-09-18T10:29:09.584522Z",
     "start_time": "2024-09-18T10:29:09.562220Z"
    }
   },
   "cell_type": "code",
   "source": [
    "filtered_array = ndimage.spline_filter(array, order=2)\n",
    "imshow(filtered_array, cmap=\"gray_r\")\n",
    "filtered_array"
   ],
   "id": "39a01246f082eaef",
   "outputs": [
    {
     "data": {
      "text/plain": [
       "<Figure size 640x480 with 1 Axes>"
      ],
      "image/png": "[encoded data removed]"
     },
     "metadata": {},
     "output_type": "display_data"
    },
    {
     "data": {
      "text/plain": [
       "array([[ 2.24264075e+00, -1.07106775e+00,  3.01515253e-01,\n",
       "        -7.19343011e-02,  1.58082552e-02, -3.30690166e-03,\n",
       "         6.69483411e-04, -1.32298055e-04,  2.57731282e-05,\n",
       "        -4.84934165e-06,  9.07867120e-07, -9.76868845e-08,\n",
       "         9.26120497e-08,  5.69125252e-08,  6.35607878e-08,\n",
       "         6.23303606e-08,  6.25568699e-08,  6.25153644e-08,\n",
       "         6.25229403e-08,  6.25215552e-08,  6.25218477e-08],\n",
       "       [-1.07106800e+00,  2.24264050e+00, -7.38023517e-01,\n",
       "         1.87232204e-01, -4.25228086e-02,  9.07966211e-03,\n",
       "        -1.86415009e-03,  3.72136173e-04, -7.30715849e-05,\n",
       "         1.38192177e-05, -2.59855781e-06,  2.71606573e-07,\n",
       "        -2.74155211e-07, -1.71369125e-07, -1.90574007e-07,\n",
       "        -1.87009673e-07, -1.87667420e-07, -1.87546640e-07,\n",
       "        -1.87568727e-07, -1.87564682e-07, -1.87565538e-07],\n",
       "       [ 3.01516253e-01, -7.38022266e-01,  2.12835895e+00,\n",
       "        -7.08610524e-01,  1.80505111e-01, -4.10785565e-02,\n",
       "         8.78381539e-03, -1.80342310e-03,  3.61682785e-04,\n",
       "        -6.93202785e-05,  1.31829572e-05, -1.27450358e-06,\n",
       "         1.50814796e-06,  9.78880814e-07,  1.07858297e-06,\n",
       "         1.05995077e-06,  1.06340937e-06,  1.06277105e-06,\n",
       "         1.06288829e-06,  1.06286674e-06,  1.06287131e-06],\n",
       "       [-7.19405533e-02,  1.87226202e-01, -7.08617776e-01,\n",
       "         2.12162336e+00, -7.07174774e-01,  1.80200761e-01,\n",
       "        -4.10263325e-02,  8.76485904e-03, -1.80817475e-03,\n",
       "         3.52543564e-04, -6.79962242e-05,  5.91653743e-06,\n",
       "        -8.52442871e-06, -5.74486110e-06, -6.27355557e-06,\n",
       "        -6.17395914e-06, -6.19257192e-06, -6.18911685e-06,\n",
       "        -6.18975465e-06, -6.18963687e-06, -6.18966196e-06],\n",
       "       [ 1.58442678e-02, -4.24865460e-02,  1.80540123e-01,\n",
       "        -7.07132510e-01,  2.12136852e+00, -7.07073033e-01,\n",
       "         1.80231322e-01, -4.09815669e-02,  8.80523707e-03,\n",
       "        -1.75733345e-03,  3.45277144e-04, -2.57289050e-05,\n",
       "         4.81807727e-05,  3.37403793e-05,  3.65198412e-05,\n",
       "         3.59911661e-05,  3.60907590e-05,  3.60721468e-05,\n",
       "         3.60756024e-05,  3.60749610e-05,  3.60750982e-05],\n",
       "       [-3.51722491e-03,  8.86958895e-03, -4.12898801e-02,\n",
       "         1.79996690e-01, -7.07319369e-01,  2.12111048e+00,\n",
       "        -7.07316868e-01,  1.79983100e-01, -4.12193261e-02,\n",
       "         8.50937014e-03, -1.71506613e-03,  9.89408740e-05,\n",
       "        -2.72064602e-04, -1.98155030e-04, -2.12595404e-04,\n",
       "        -2.09815946e-04, -2.10344620e-04, -2.10245027e-04,\n",
       "        -2.10263643e-04, -2.10260168e-04, -2.10260915e-04],\n",
       "       [ 1.89491017e-03, -6.38473247e-04,  1.00082418e-02,\n",
       "        -3.97946535e-02,  1.81420736e-01, -7.05881118e-01,\n",
       "         2.12254435e+00, -7.05872542e-01,  1.81369319e-01,\n",
       "        -3.94949730e-02,  8.26303387e-03, -2.79316044e-04,\n",
       "         1.53469086e-03,  1.16368540e-03,  1.23759497e-03,\n",
       "         1.22315460e-03,  1.22593405e-03,  1.22540538e-03,\n",
       "         1.22550499e-03,  1.22548627e-03,  1.22549032e-03],\n",
       "       [-7.27503551e-03, -6.77035120e-03, -8.94716090e-03,\n",
       "         1.62837376e-03, -4.81603169e-02,  1.73050686e-01,\n",
       "        -7.14240706e-01,  2.11412665e+00, -7.13952103e-01,\n",
       "         1.71319068e-01, -3.80592229e-02, -1.05130359e-04,\n",
       "        -8.64748025e-03, -6.83347336e-03, -7.20447881e-03,\n",
       "        -7.13056924e-03, -7.14500962e-03, -7.14223014e-03,\n",
       "        -7.14275893e-03, -7.14265874e-03, -7.14268055e-03],\n",
       "       [ 4.16562709e-02,  4.15576763e-02,  4.19911803e-02,\n",
       "         3.98285752e-02,  5.03997223e-02,  6.21494993e-04,\n",
       "         2.21774390e-01, -6.65178867e-01,  2.16121780e+00,\n",
       "        -6.55374953e-01,  1.62950904e-01,  1.07140124e-02,\n",
       "         4.86681049e-02,  4.01257550e-02,  4.19397619e-02,\n",
       "         4.15687565e-02,  4.16426661e-02,  4.16282256e-02,\n",
       "         4.16310056e-02,  4.16304738e-02,  4.16305904e-02],\n",
       "       [-2.42645599e-01, -2.42626680e-01, -2.42711070e-01,\n",
       "        -2.42281954e-01, -2.44434096e-01, -2.33921056e-01,\n",
       "        -2.83361149e-01, -6.41789441e-02, -9.39646201e-01,\n",
       "         1.81980515e+00, -6.06601718e-01, -1.21320344e-01,\n",
       "        -2.73557235e-01, -2.35603143e-01, -2.44145492e-01,\n",
       "        -2.42331486e-01, -2.42702491e-01, -2.42628581e-01,\n",
       "        -2.42643024e-01, -2.42640228e-01, -2.42640847e-01],\n",
       "       [ 1.41421441e+00,  1.41421115e+00,  1.41422568e+00,\n",
       "         1.41415176e+00,  1.41452276e+00,  1.41270876e+00,\n",
       "         1.42125111e+00,  1.38329701e+00,  1.53553391e+00,\n",
       "         1.05025253e+00,  1.53553391e+00,  1.05025253e+00,\n",
       "         1.53553391e+00,  1.38329701e+00,  1.42125111e+00,\n",
       "         1.41270876e+00,  1.41452276e+00,  1.41415176e+00,\n",
       "         1.41422568e+00,  1.41421115e+00,  1.41421441e+00],\n",
       "       [-2.42640847e-01, -2.42640228e-01, -2.42643024e-01,\n",
       "        -2.42628581e-01, -2.42702491e-01, -2.42331486e-01,\n",
       "        -2.44145492e-01, -2.35603143e-01, -2.73557235e-01,\n",
       "        -1.21320344e-01, -6.06601718e-01,  1.81980515e+00,\n",
       "        -9.39646201e-01, -6.41789441e-02, -2.83361149e-01,\n",
       "        -2.33921056e-01, -2.44434096e-01, -2.42281954e-01,\n",
       "        -2.42711070e-01, -2.42626680e-01, -2.42645599e-01],\n",
       "       [ 4.16305904e-02,  4.16304738e-02,  4.16310056e-02,\n",
       "         4.16282256e-02,  4.16426661e-02,  4.15687565e-02,\n",
       "         4.19397619e-02,  4.01257550e-02,  4.86681049e-02,\n",
       "         1.07140124e-02,  1.62950904e-01, -6.55374953e-01,\n",
       "         2.16121780e+00, -6.65178867e-01,  2.21774390e-01,\n",
       "         6.21494993e-04,  5.03997223e-02,  3.98285752e-02,\n",
       "         4.19911803e-02,  4.15576763e-02,  4.16562709e-02],\n",
       "       [-7.14268055e-03, -7.14265874e-03, -7.14275893e-03,\n",
       "        -7.14223014e-03, -7.14500962e-03, -7.13056924e-03,\n",
       "        -7.20447881e-03, -6.83347336e-03, -8.64748025e-03,\n",
       "        -1.05130359e-04, -3.80592229e-02,  1.71319068e-01,\n",
       "        -7.13952103e-01,  2.11412665e+00, -7.14240706e-01,\n",
       "         1.73050686e-01, -4.81603169e-02,  1.62837376e-03,\n",
       "        -8.94716090e-03, -6.77035120e-03, -7.27503551e-03],\n",
       "       [ 1.22549032e-03,  1.22548627e-03,  1.22550499e-03,\n",
       "         1.22540538e-03,  1.22593405e-03,  1.22315460e-03,\n",
       "         1.23759497e-03,  1.16368540e-03,  1.53469086e-03,\n",
       "        -2.79316044e-04,  8.26303387e-03, -3.94949730e-02,\n",
       "         1.81369319e-01, -7.05872542e-01,  2.12254435e+00,\n",
       "        -7.05881118e-01,  1.81420736e-01, -3.97946535e-02,\n",
       "         1.00082418e-02, -6.38473247e-04,  1.89491017e-03],\n",
       "       [-2.10260915e-04, -2.10260168e-04, -2.10263643e-04,\n",
       "        -2.10245027e-04, -2.10344620e-04, -2.09815946e-04,\n",
       "        -2.12595404e-04, -1.98155030e-04, -2.72064602e-04,\n",
       "         9.89408740e-05, -1.71506613e-03,  8.50937014e-03,\n",
       "        -4.12193261e-02,  1.79983100e-01, -7.07316868e-01,\n",
       "         2.12111048e+00, -7.07319369e-01,  1.79996690e-01,\n",
       "        -4.12898801e-02,  8.86958895e-03, -3.51722491e-03],\n",
       "       [ 3.60750982e-05,  3.60749610e-05,  3.60756024e-05,\n",
       "         3.60721468e-05,  3.60907590e-05,  3.59911661e-05,\n",
       "         3.65198412e-05,  3.37403793e-05,  4.81807727e-05,\n",
       "        -2.57289050e-05,  3.45277144e-04, -1.75733345e-03,\n",
       "         8.80523707e-03, -4.09815669e-02,  1.80231322e-01,\n",
       "        -7.07073033e-01,  2.12136852e+00, -7.07132510e-01,\n",
       "         1.80540123e-01, -4.24865460e-02,  1.58442678e-02],\n",
       "       [-6.18966196e-06, -6.18963687e-06, -6.18975465e-06,\n",
       "        -6.18911685e-06, -6.19257192e-06, -6.17395914e-06,\n",
       "        -6.27355557e-06, -5.74486110e-06, -8.52442871e-06,\n",
       "         5.91653743e-06, -6.79962242e-05,  3.52543564e-04,\n",
       "        -1.80817475e-03,  8.76485904e-03, -4.10263325e-02,\n",
       "         1.80200761e-01, -7.07174774e-01,  2.12162336e+00,\n",
       "        -7.08617776e-01,  1.87226202e-01, -7.19405533e-02],\n",
       "       [ 1.06287131e-06,  1.06286674e-06,  1.06288829e-06,\n",
       "         1.06277105e-06,  1.06340937e-06,  1.05995077e-06,\n",
       "         1.07858297e-06,  9.78880814e-07,  1.50814796e-06,\n",
       "        -1.27450358e-06,  1.31829572e-05, -6.93202785e-05,\n",
       "         3.61682785e-04, -1.80342310e-03,  8.78381539e-03,\n",
       "        -4.10785565e-02,  1.80505111e-01, -7.08610524e-01,\n",
       "         2.12835895e+00, -7.38022266e-01,  3.01516253e-01],\n",
       "       [-1.87565538e-07, -1.87564682e-07, -1.87568727e-07,\n",
       "        -1.87546640e-07, -1.87667420e-07, -1.87009673e-07,\n",
       "        -1.90574007e-07, -1.71369125e-07, -2.74155211e-07,\n",
       "         2.71606573e-07, -2.59855781e-06,  1.38192177e-05,\n",
       "        -7.30715849e-05,  3.72136173e-04, -1.86415009e-03,\n",
       "         9.07966211e-03, -4.25228086e-02,  1.87232204e-01,\n",
       "        -7.38023517e-01,  2.24264050e+00, -1.07106800e+00],\n",
       "       [ 6.25218477e-08,  6.25215552e-08,  6.25229403e-08,\n",
       "         6.25153644e-08,  6.25568699e-08,  6.23303606e-08,\n",
       "         6.35607878e-08,  5.69125252e-08,  9.26120497e-08,\n",
       "        -9.76868845e-08,  9.07867120e-07, -4.84934165e-06,\n",
       "         2.57731282e-05, -1.32298055e-04,  6.69483411e-04,\n",
       "        -3.30690166e-03,  1.58082552e-02, -7.19343011e-02,\n",
       "         3.01515253e-01, -1.07106775e+00,  2.24264075e+00]])"
      ]
     },
     "execution_count": 100,
     "metadata": {},
     "output_type": "execute_result"
    }
   ],
   "execution_count": 100
  },
  {
   "metadata": {},
   "cell_type": "markdown",
   "source": "## 4",
   "id": "ad0dbe0d6557e8c"
  },
  {
   "metadata": {
    "ExecuteTime": {
     "end_time": "2024-09-18T10:46:30.116159Z",
     "start_time": "2024-09-18T10:46:30.111520Z"
    }
   },
   "cell_type": "code",
   "source": [
    "from notebook_helpers import *\n",
    "\n",
    "import numpy as np\n",
    "from scipy.interpolate import RBFInterpolator"
   ],
   "id": "79bdf13daf5d5b1d",
   "outputs": [],
   "execution_count": 101
  },
  {
   "metadata": {
    "ExecuteTime": {
     "end_time": "2024-09-18T10:46:34.847249Z",
     "start_time": "2024-09-18T10:46:34.778502Z"
    }
   },
   "cell_type": "code",
   "source": [
    "array = np.eye(21)\n",
    "array[10] = 1\n",
    "imshow(array, cmap=\"gray_r\")"
   ],
   "id": "226ddca3cdc36709",
   "outputs": [
    {
     "data": {
      "text/plain": [
       "<Figure size 640x480 with 1 Axes>"
      ],
      "image/png": "[encoded data removed]"
     },
     "metadata": {},
     "output_type": "display_data"
    }
   ],
   "execution_count": 102
  },
  {
   "metadata": {},
   "cell_type": "code",
   "outputs": [],
   "execution_count": null,
   "source": "",
   "id": "4e3c0ecbd3db613c"
  },
  {
   "metadata": {},
   "cell_type": "markdown",
   "source": "## 5",
   "id": "be608c84bec98da5"
  },
  {
   "metadata": {
    "ExecuteTime": {
     "end_time": "2024-09-18T10:49:55.590302Z",
     "start_time": "2024-09-18T10:49:55.055877Z"
    }
   },
   "cell_type": "code",
   "source": [
    "import numpy as np\n",
    "import matplotlib.pyplot as plt\n",
    "from scipy.interpolate import RBFInterpolator\n",
    "from scipy.stats.qmc import Halton"
   ],
   "id": "6d161111a8b7c2f0",
   "outputs": [],
   "execution_count": 103
  },
  {
   "metadata": {
    "ExecuteTime": {
     "end_time": "2024-09-18T10:49:58.355296Z",
     "start_time": "2024-09-18T10:49:58.346762Z"
    }
   },
   "cell_type": "code",
   "source": [
    "rng = np.random.default_rng()\n",
    "\n",
    "xobs = 2 * Halton(2, seed=rng).random(100) - 1\n",
    "yobs = np.sum(xobs, axis=1) * np.exp(-6 * np.sum(xobs**2, axis=1))"
   ],
   "id": "9704a1de7d65a335",
   "outputs": [],
   "execution_count": 104
  },
  {
   "metadata": {
    "ExecuteTime": {
     "end_time": "2024-09-18T10:50:22.453613Z",
     "start_time": "2024-09-18T10:50:22.450446Z"
    }
   },
   "cell_type": "code",
   "source": [
    "print(xobs.shape)\n",
    "print(yobs.shape)"
   ],
   "id": "46885e18d47e3eb3",
   "outputs": [
    {
     "name": "stdout",
     "output_type": "stream",
     "text": [
      "(100, 2)\n",
      "(100,)\n"
     ]
    }
   ],
   "execution_count": 108
  },
  {
   "metadata": {},
   "cell_type": "markdown",
   "source": "## 6",
   "id": "4b767a816207e00f"
  },
  {
   "metadata": {
    "ExecuteTime": {
     "end_time": "2024-09-18T11:31:36.202409Z",
     "start_time": "2024-09-18T11:31:36.199450Z"
    }
   },
   "cell_type": "code",
   "source": "import numpy as np",
   "id": "100bad84f4c20ab",
   "outputs": [],
   "execution_count": 27
  },
  {
   "metadata": {
    "ExecuteTime": {
     "end_time": "2024-09-18T11:31:36.819346Z",
     "start_time": "2024-09-18T11:31:36.816087Z"
    }
   },
   "cell_type": "code",
   "source": [
    "array = np.random.randint(0, 10, (3, 3))\n",
    "array"
   ],
   "id": "c91836e222fc5bf2",
   "outputs": [
    {
     "data": {
      "text/plain": [
       "array([[1, 0, 2],\n",
       "       [3, 9, 6],\n",
       "       [9, 0, 6]])"
      ]
     },
     "execution_count": 28,
     "metadata": {},
     "output_type": "execute_result"
    }
   ],
   "execution_count": 28
  },
  {
   "metadata": {
    "ExecuteTime": {
     "end_time": "2024-09-18T11:31:37.300745Z",
     "start_time": "2024-09-18T11:31:37.296556Z"
    }
   },
   "cell_type": "code",
   "source": [
    "zero_indices = np.where(array < 5)\n",
    "zero_indices"
   ],
   "id": "99ae587e35fefbd",
   "outputs": [
    {
     "data": {
      "text/plain": [
       "(array([0, 0, 0, 1, 2]), array([0, 1, 2, 0, 1]))"
      ]
     },
     "execution_count": 29,
     "metadata": {},
     "output_type": "execute_result"
    }
   ],
   "execution_count": 29
  },
  {
   "metadata": {
    "ExecuteTime": {
     "end_time": "2024-09-18T11:33:09.538638Z",
     "start_time": "2024-09-18T11:33:09.535430Z"
    }
   },
   "cell_type": "code",
   "source": [
    "value_coordinates = np.nonzero(array)\n",
    "sparse_values = array[value_coordinates]"
   ],
   "id": "1ac4f83d7ee6f975",
   "outputs": [
    {
     "data": {
      "text/plain": [
       "array([9, 6, 9, 6])"
      ]
     },
     "execution_count": 33,
     "metadata": {},
     "output_type": "execute_result"
    }
   ],
   "execution_count": 33
  },
  {
   "metadata": {
    "ExecuteTime": {
     "end_time": "2024-09-18T11:31:38.249810Z",
     "start_time": "2024-09-18T11:31:38.246791Z"
    }
   },
   "cell_type": "code",
   "source": "np.array(np.nonzero(array >= 5))",
   "id": "2c51e9454b62cc6b",
   "outputs": [
    {
     "data": {
      "text/plain": [
       "array([[1, 1, 2, 2],\n",
       "       [1, 2, 0, 2]])"
      ]
     },
     "execution_count": 31,
     "metadata": {},
     "output_type": "execute_result"
    }
   ],
   "execution_count": 31
  },
  {
   "metadata": {},
   "cell_type": "markdown",
   "source": "## 7",
   "id": "30b4d025e9e8399f"
  },
  {
   "metadata": {
    "ExecuteTime": {
     "end_time": "2024-09-18T12:47:20.800009Z",
     "start_time": "2024-09-18T12:47:20.552334Z"
    }
   },
   "cell_type": "code",
   "source": [
    "import matplotlib.pyplot as plt\n",
    "import numpy as np\n",
    "\n",
    "x_shape, y_shape = (5, 3)\n",
    "\n",
    "x = np.linspace(0, 100 - 1, x_shape)\n",
    "y = np.linspace(10, 100 - 1, y_shape)\n",
    "\n",
    "xv, yv = np.meshgrid(x, y)"
   ],
   "id": "873d3559f1e76e92",
   "outputs": [],
   "execution_count": 3
  },
  {
   "metadata": {
    "ExecuteTime": {
     "end_time": "2024-09-18T12:47:21.428354Z",
     "start_time": "2024-09-18T12:47:21.352393Z"
    }
   },
   "cell_type": "code",
   "source": [
    "plt.scatter(x=x, y=np.zeros_like(x))\n",
    "plt.scatter(y=y, x=np.zeros_like(y))\n",
    "plt.show()"
   ],
   "id": "b075c9064b5e9791",
   "outputs": [
    {
     "data": {
      "text/plain": [
       "<Figure size 640x480 with 1 Axes>"
      ],
      "image/png": "[encoded data removed]"
     },
     "metadata": {},
     "output_type": "display_data"
    }
   ],
   "execution_count": 4
  },
  {
   "metadata": {
    "ExecuteTime": {
     "end_time": "2024-09-18T12:47:26.518562Z",
     "start_time": "2024-09-18T12:47:26.474260Z"
    }
   },
   "cell_type": "code",
   "source": [
    "plt.plot(xv, yv, marker=\"o\", color=\"k\", linestyle=\"none\")\n",
    "plt.show()"
   ],
   "id": "b3bbcbcb14401008",
   "outputs": [
    {
     "data": {
      "text/plain": [
       "<Figure size 640x480 with 1 Axes>"
      ],
      "image/png": "[encoded data removed]"
     },
     "metadata": {},
     "output_type": "display_data"
    }
   ],
   "execution_count": 6
  },
  {
   "metadata": {
    "ExecuteTime": {
     "end_time": "2024-09-18T12:57:25.460296Z",
     "start_time": "2024-09-18T12:57:25.457584Z"
    }
   },
   "cell_type": "code",
   "source": [
    "x_scattered = np.geomspace(1, 10, x_shape)\n",
    "y_scattered = np.geomspace(1, 10, y_shape)"
   ],
   "id": "c893f83df6cdcdae",
   "outputs": [],
   "execution_count": 23
  },
  {
   "metadata": {
    "ExecuteTime": {
     "end_time": "2024-09-18T12:57:25.788136Z",
     "start_time": "2024-09-18T12:57:25.784935Z"
    }
   },
   "cell_type": "code",
   "source": "xv_scattered, yv_scattered = np.meshgrid(x_scattered, y_scattered)",
   "id": "f383239da3cfce2c",
   "outputs": [],
   "execution_count": 24
  },
  {
   "metadata": {
    "ExecuteTime": {
     "end_time": "2024-09-18T12:57:26.128126Z",
     "start_time": "2024-09-18T12:57:26.091104Z"
    }
   },
   "cell_type": "code",
   "source": [
    "plt.plot(xv_scattered, yv_scattered, marker=\"o\", color=\"k\", linestyle=\"none\")\n",
    "plt.show()"
   ],
   "id": "4527f6650a7f8f6",
   "outputs": [
    {
     "data": {
      "text/plain": [
       "<Figure size 640x480 with 1 Axes>"
      ],
      "image/png": "[encoded data removed]"
     },
     "metadata": {},
     "output_type": "display_data"
    }
   ],
   "execution_count": 25
  }
 ],
 "metadata": {
  "kernelspec": {
   "display_name": "Python 3",
   "language": "python",
   "name": "python3"
  },
  "language_info": {
   "codemirror_mode": {
    "name": "ipython",
    "version": 2
   },
   "file_extension": ".py",
   "mimetype": "text/x-python",
   "name": "python",
   "nbconvert_exporter": "python",
   "pygments_lexer": "ipython2",
   "version": "2.7.6"
  }
 },
 "nbformat": 4,
 "nbformat_minor": 5
}
