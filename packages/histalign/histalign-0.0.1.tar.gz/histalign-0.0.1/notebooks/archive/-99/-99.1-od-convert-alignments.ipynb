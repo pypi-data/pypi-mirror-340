{
 "cells": [
  {
   "cell_type": "code",
   "id": "initial_id",
   "metadata": {
    "collapsed": true,
    "ExecuteTime": {
     "end_time": "2024-09-09T08:59:14.285107Z",
     "start_time": "2024-09-09T08:59:14.282707Z"
    }
   },
   "source": [
    "import json\n",
    "from pathlib import Path\n",
    "\n",
    "from histalign.backend.models import (\n",
    "    AlignmentSettings,\n",
    "    HistologySettings,\n",
    "    ProjectSettings,\n",
    "    VolumeSettings,\n",
    ")\n",
    "from histalign.backend.workspace import HistologySlice, Workspace"
   ],
   "outputs": [],
   "execution_count": 3
  },
  {
   "metadata": {
    "ExecuteTime": {
     "end_time": "2024-09-09T08:59:14.293592Z",
     "start_time": "2024-09-09T08:59:14.286216Z"
    }
   },
   "cell_type": "code",
   "source": [
    "old_directory = Path(\n",
    "    \"/home/ediun/git/histalign/projects/project_310724_full.bak/7d9af388b0\"\n",
    ")\n",
    "new_directory = Path(\n",
    "    \"/home/ediun/git/histalign/projects/project_310724_full/7d9af388b0\"\n",
    ")"
   ],
   "id": "eb2c08ef2c13297d",
   "outputs": [],
   "execution_count": 4
  },
  {
   "metadata": {},
   "cell_type": "markdown",
   "source": "## project.json",
   "id": "6f2eedf0b5da3eb5"
  },
  {
   "metadata": {
    "ExecuteTime": {
     "end_time": "2024-09-09T08:59:14.305606Z",
     "start_time": "2024-09-09T08:59:14.301437Z"
    }
   },
   "cell_type": "code",
   "source": [
    "with open(old_directory.parent / \"project.json\") as handle:\n",
    "    contents = json.load(handle)\n",
    "\n",
    "project_settings = ProjectSettings(\n",
    "    project_path=contents[\"project_directory_path\"],\n",
    "    orientation=\"sagittal\",\n",
    "    resolution=contents[\"atlas_resolution\"],\n",
    ")\n",
    "\n",
    "workspace = Workspace(project_settings)\n",
    "workspace.working_directory = \"/home/ediun/git/histalign/projects/project_310724_full\"\n",
    "workspace.last_parsed_directory = contents[\"last_parsed_directory\"]\n",
    "workspace.current_aligner_image_hash = contents[\"current_aligner_image_hash\"]\n",
    "workspace.current_aligner_image_index = contents[\"current_aligner_image_index\"]\n",
    "\n",
    "workspace.save()"
   ],
   "id": "2a152447cd8ffc74",
   "outputs": [],
   "execution_count": 5
  },
  {
   "metadata": {},
   "cell_type": "markdown",
   "source": "## alignment.json",
   "id": "6c5cd39a5cdc2432"
  },
  {
   "metadata": {
    "ExecuteTime": {
     "end_time": "2024-09-09T08:59:35.417358Z",
     "start_time": "2024-09-09T08:59:35.409530Z"
    }
   },
   "cell_type": "code",
   "source": [
    "for file in Path(old_directory).iterdir():\n",
    "    if file.suffix != \".json\" or file.stem == \"metadata\":\n",
    "        continue\n",
    "\n",
    "    with open(file) as handle:\n",
    "        contents = json.load(handle)\n",
    "\n",
    "    alignment_settings = AlignmentSettings(\n",
    "        volume_path=contents[\"volume_file_path\"],\n",
    "        volume_scaling=contents[\"volume_scaling_factor\"],\n",
    "        volume_settings=VolumeSettings(\n",
    "            orientation=\"sagittal\",\n",
    "            resolution=contents[\"resolution\"],\n",
    "            shape=[\n",
    "                528,\n",
    "                320,\n",
    "                456,\n",
    "            ],\n",
    "            pitch=contents[\"leaning_angle\"],\n",
    "            yaw=0,\n",
    "            offset=contents[\"offset\"],\n",
    "        ),\n",
    "        histology_path=contents[\"histology_file_path\"],\n",
    "        histology_scaling=contents[\"histology_scaling_factor\"],\n",
    "        histology_downsampling=contents[\"downsampling_factor\"],\n",
    "        histology_settings=HistologySettings(\n",
    "            rotation=contents[\"rotation_angle\"],\n",
    "            translation_x=contents[\"x_translation\"],\n",
    "            translation_y=contents[\"y_translation\"],\n",
    "            scale_x=contents[\"x_scale\"],\n",
    "            scale_y=contents[\"y_scale\"],\n",
    "            shear_x=contents[\"x_shear\"],\n",
    "            shear_y=contents[\"y_shear\"],\n",
    "        ),\n",
    "    )\n",
    "\n",
    "    histology_slice = HistologySlice(contents[\"histology_file_path\"])\n",
    "\n",
    "    workspace.alignment_settings = alignment_settings\n",
    "    workspace.current_aligner_image_hash = histology_slice.hash\n",
    "    workspace.save_alignment()"
   ],
   "id": "529c8fde087c9abd",
   "outputs": [],
   "execution_count": 7
  },
  {
   "metadata": {},
   "cell_type": "markdown",
   "source": "## metadata.json",
   "id": "21e31ce78efb1fcd"
  },
  {
   "metadata": {},
   "cell_type": "code",
   "outputs": [],
   "execution_count": 28,
   "source": [
    "with open(old_directory / \"metadata.json\") as handle:\n",
    "    metadata = json.load(handle)"
   ],
   "id": "4bd696f0f75b95c1"
  }
 ],
 "metadata": {
  "kernelspec": {
   "display_name": "Python 3",
   "language": "python",
   "name": "python3"
  },
  "language_info": {
   "codemirror_mode": {
    "name": "ipython",
    "version": 2
   },
   "file_extension": ".py",
   "mimetype": "text/x-python",
   "name": "python",
   "nbconvert_exporter": "python",
   "pygments_lexer": "ipython2",
   "version": "2.7.6"
  }
 },
 "nbformat": 4,
 "nbformat_minor": 5
}
