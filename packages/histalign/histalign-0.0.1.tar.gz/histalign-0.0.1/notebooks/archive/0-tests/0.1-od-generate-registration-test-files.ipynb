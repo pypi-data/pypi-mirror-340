{
 "cells": [
  {
   "metadata": {
    "ExecuteTime": {
     "end_time": "2025-02-13T13:45:40.624279Z",
     "start_time": "2025-02-13T13:45:37.879874Z"
    }
   },
   "cell_type": "code",
   "source": [
    "import json\n",
    "\n",
    "import matplotlib.pyplot as plt\n",
    "import numpy as np\n",
    "\n",
    "from histalign.backend.ccf.paths import get_atlas_path\n",
    "from histalign.backend.io import load_alignment_settings, load_image, load_volume\n",
    "from histalign.backend.models import (\n",
    "    AlignmentSettings,\n",
    "    HistologySettings,\n",
    "    VolumeSettings,\n",
    ")\n",
    "from histalign.backend.registration import Registrator\n",
    "from histalign.backend.workspace import VolumeSlicer"
   ],
   "id": "46d6dd6232ce1690",
   "outputs": [],
   "execution_count": 1
  },
  {
   "metadata": {
    "ExecuteTime": {
     "end_time": "2025-02-13T13:45:40.633503Z",
     "start_time": "2025-02-13T13:45:40.630557Z"
    }
   },
   "cell_type": "code",
   "source": [
    "def imshow(image: np.ndarray, title: str = \"\") -> None:\n",
    "    figure, axes = plt.subplots()\n",
    "\n",
    "    figure.suptitle(title)\n",
    "\n",
    "    axes.imshow(image)\n",
    "    axes.axis(False)\n",
    "\n",
    "    plt.tight_layout()\n",
    "    plt.show()"
   ],
   "id": "f6b7fd4d11c19230",
   "outputs": [],
   "execution_count": 2
  },
  {
   "metadata": {
    "ExecuteTime": {
     "end_time": "2025-02-13T13:45:41.056736Z",
     "start_time": "2025-02-13T13:45:40.773340Z"
    }
   },
   "cell_type": "code",
   "source": [
    "alignment_settings = load_alignment_settings(\n",
    "    \"/home/ediun/git/histalign/tests/registration/resources/complete_alignment_settings.json\"\n",
    ")\n",
    "\n",
    "image = np.load(\n",
    "    \"/home/ediun/git/histalign/tests/registration/resources/A2_mcherry555_mecp488_dapi_image0000_channel2_maximum_uint8.npz\"\n",
    ")[\"array\"]\n",
    "volume = load_volume(alignment_settings.volume_path)\n",
    "\n",
    "registrator = Registrator(True, True)"
   ],
   "id": "1b84b04e583e47ee",
   "outputs": [],
   "execution_count": 3
  },
  {
   "metadata": {
    "ExecuteTime": {
     "end_time": "2025-02-13T13:46:03.822680Z",
     "start_time": "2025-02-13T13:45:41.063248Z"
    }
   },
   "cell_type": "code",
   "source": [
    "for parameter in [\n",
    "    \"scale\",\n",
    "    \"shear\",\n",
    "    \"rotation\",\n",
    "    \"translation\",\n",
    "    \"offset\",\n",
    "    \"pitch\",\n",
    "    \"yaw\",\n",
    "    \"complete\",\n",
    "]:\n",
    "    current_settings = load_alignment_settings(\n",
    "        f\"/home/ediun/git/histalign/projects/project_registration_test/12c22ee785/\"\n",
    "        f\"{parameter}_alignment_settings.json\"\n",
    "    )\n",
    "\n",
    "    forwarded_image = registrator.get_forwarded_image(image, current_settings)\n",
    "    volume_image = VolumeSlicer(volume=volume).slice(current_settings.volume_settings)\n",
    "\n",
    "    forward_composite_image = np.where(\n",
    "        forwarded_image > 10, forwarded_image * 3, volume_image\n",
    "    )\n",
    "    np.savez_compressed(\n",
    "        f\"/home/ediun/git/histalign/tests/registration/resources/\"\n",
    "        f\"{parameter}_expected_output1.npz\",\n",
    "        array=forward_composite_image,\n",
    "    )\n",
    "\n",
    "    reversed_image = registrator.get_reversed_image(current_settings, \"atlas\", image)\n",
    "\n",
    "    reverse_composite_image = np.where(image > 10, reversed_image, 0)\n",
    "\n",
    "    np.savez_compressed(\n",
    "        f\"/home/ediun/git/histalign/tests/registration/resources/\"\n",
    "        f\"{parameter}_expected_output2.npz\",\n",
    "        array=np.where(reversed_image, reversed_image, image * 3),\n",
    "    )\n",
    "\n",
    "    with open(\n",
    "        f\"/home/ediun/git/histalign/tests/registration/resources/\"\n",
    "        f\"{parameter}_alignment_settings.json\",\n",
    "        \"w\",\n",
    "    ) as handle:\n",
    "        dump = current_settings.model_dump()\n",
    "\n",
    "        dump[\"volume_path\"] = \"\"\n",
    "        dump[\"histology_path\"] = (\n",
    "            \"tests/registration/resources/\"\n",
    "            \"A2_mcherry555_mecp488_dapi_image0000_channel2_maximum_uint8.npz\"\n",
    "        )\n",
    "\n",
    "        json.dump(dump, handle)"
   ],
   "id": "d0f37f37279640cc",
   "outputs": [],
   "execution_count": 4
  }
 ],
 "metadata": {
  "kernelspec": {
   "name": "python3",
   "language": "python",
   "display_name": "Python 3 (ipykernel)"
  }
 },
 "nbformat": 5,
 "nbformat_minor": 9
}
