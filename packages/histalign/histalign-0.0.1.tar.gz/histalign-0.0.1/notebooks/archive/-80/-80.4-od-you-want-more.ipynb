{
 "cells": [
  {
   "cell_type": "code",
   "id": "initial_id",
   "metadata": {
    "collapsed": true,
    "ExecuteTime": {
     "end_time": "2024-10-18T13:34:48.946212Z",
     "start_time": "2024-10-18T13:34:48.935215Z"
    }
   },
   "source": [
    "from helper_loader import *\n",
    "from histalign.backend.maths import apply_rotation\n",
    "from histalign.backend.models import VolumeSettings"
   ],
   "outputs": [],
   "execution_count": 4
  },
  {
   "metadata": {
    "ExecuteTime": {
     "end_time": "2024-10-18T13:34:49.782716Z",
     "start_time": "2024-10-18T13:34:49.766915Z"
    }
   },
   "cell_type": "code",
   "source": [
    "vector = np.array([0, -65, -60])\n",
    "pitch = 20\n",
    "yaw = 0\n",
    "\n",
    "current_result = np.array([22.2313, -61.08, -60.0])\n",
    "\n",
    "settings = VolumeSettings(\n",
    "    orientation=Orientation.CORONAL,\n",
    "    resolution=Resolution.MICRONS_50,\n",
    "    pitch=pitch,\n",
    "    yaw=yaw,\n",
    ")\n",
    "apply_rotation(vector, settings)"
   ],
   "id": "aec962658134bc11",
   "outputs": [
    {
     "data": {
      "text/plain": [
       "array([ 22.23130932, -61.08002035, -60.        ])"
      ]
     },
     "execution_count": 5,
     "metadata": {},
     "output_type": "execute_result"
    }
   ],
   "execution_count": 5
  },
  {
   "metadata": {
    "ExecuteTime": {
     "end_time": "2024-10-18T13:36:20.934975Z",
     "start_time": "2024-10-18T13:36:20.922397Z"
    }
   },
   "cell_type": "code",
   "source": [
    "vector = np.array([0, -45, 0])\n",
    "pitch = 90\n",
    "yaw = 0\n",
    "\n",
    "current_result = np.array([45.0, -2.7555, 0.0])\n",
    "\n",
    "settings = VolumeSettings(\n",
    "    orientation=Orientation.CORONAL,\n",
    "    resolution=Resolution.MICRONS_50,\n",
    "    pitch=pitch,\n",
    "    yaw=yaw,\n",
    ")\n",
    "apply_rotation(vector, settings)"
   ],
   "id": "6eb8c8ae20f7d01e",
   "outputs": [
    {
     "data": {
      "text/plain": [
       "array([ 4.5000000e+01, -2.7554553e-15,  0.0000000e+00])"
      ]
     },
     "execution_count": 6,
     "metadata": {},
     "output_type": "execute_result"
    }
   ],
   "execution_count": 6
  }
 ],
 "metadata": {
  "kernelspec": {
   "display_name": "Python 3",
   "language": "python",
   "name": "python3"
  },
  "language_info": {
   "codemirror_mode": {
    "name": "ipython",
    "version": 2
   },
   "file_extension": ".py",
   "mimetype": "text/x-python",
   "name": "python",
   "nbconvert_exporter": "python",
   "pygments_lexer": "ipython2",
   "version": "2.7.6"
  }
 },
 "nbformat": 4,
 "nbformat_minor": 5
}
