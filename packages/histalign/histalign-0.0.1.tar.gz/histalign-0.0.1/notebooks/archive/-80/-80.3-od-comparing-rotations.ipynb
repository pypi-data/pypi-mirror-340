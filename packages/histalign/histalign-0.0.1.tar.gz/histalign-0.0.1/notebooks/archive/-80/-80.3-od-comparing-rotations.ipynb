{
 "cells": [
  {
   "cell_type": "code",
   "id": "initial_id",
   "metadata": {
    "collapsed": true,
    "ExecuteTime": {
     "end_time": "2024-10-18T11:32:56.930454Z",
     "start_time": "2024-10-18T11:32:54.492938Z"
    }
   },
   "source": "from helper_loader import *",
   "outputs": [],
   "execution_count": 1
  },
  {
   "metadata": {
    "ExecuteTime": {
     "end_time": "2024-10-18T11:32:59.445302Z",
     "start_time": "2024-10-18T11:32:56.937087Z"
    }
   },
   "cell_type": "code",
   "source": [
    "original_normal = np.array([-1, 0, 0])\n",
    "original_arrow = vedo.Arrow(end_pt=original_normal, c=\"blue\", s=0.002)\n",
    "\n",
    "pitch = 40\n",
    "yaw = 60\n",
    "\n",
    "vedo_rotated_normal = compute_normal(\n",
    "    Orientation.HORIZONTAL, pitch, yaw, pitch_first=True\n",
    ")\n",
    "vedo_rotated_arrow = vedo.Arrow(end_pt=vedo_rotated_normal, c=\"black\", s=0.002)\n",
    "\n",
    "rotation = scipy.spatial.transform.Rotation.from_rotvec([0, yaw, pitch], degrees=True)\n",
    "scipy_rotated_normal = rotation.apply(original_normal)\n",
    "scipy_rotated_arrow = vedo.Arrow(end_pt=scipy_rotated_normal, c=\"white\", s=0.002)\n",
    "\n",
    "custom_rotated_normal = (\n",
    "    np.array(\n",
    "        [\n",
    "            [math.cos(math.radians(yaw)), 0, math.sin(math.radians(yaw))],\n",
    "            [0, 1, 0],\n",
    "            [-math.sin(math.radians(yaw)), 0, math.cos(math.radians(yaw))],\n",
    "        ]\n",
    "    )\n",
    "    @ np.array(\n",
    "        [\n",
    "            [math.cos(math.radians(pitch)), -math.sin(math.radians(pitch)), 0],\n",
    "            [math.sin(math.radians(pitch)), math.cos(math.radians(pitch)), 0],\n",
    "            [0, 0, 1],\n",
    "        ]\n",
    "    )\n",
    "    @ original_normal\n",
    ")\n",
    "# custom_rotated_normal[1] *= -1\n",
    "custom_rotated_arrow = vedo.Arrow(end_pt=custom_rotated_normal, c=\"purple\", s=0.002)\n",
    "\n",
    "print(f\"Vedo rotated normal:   {format_list(vedo_rotated_normal)}\")\n",
    "print(f\"Scipy rotated normal:  {format_list(scipy_rotated_normal)}\")\n",
    "print(\n",
    "    f\"Custom rotated normal: {format_list(custom_rotated_normal)}\",\n",
    "    flush=True,\n",
    ")\n",
    "\n",
    "show(\n",
    "    [\n",
    "        original_arrow,\n",
    "        vedo_rotated_arrow,\n",
    "        scipy_rotated_arrow,\n",
    "        custom_rotated_arrow,\n",
    "        *axes,\n",
    "    ],\n",
    "    camera=coronal_camera,\n",
    ")"
   ],
   "id": "2fcc1c25787c2ea9",
   "outputs": [
    {
     "name": "stdout",
     "output_type": "stream",
     "text": [
      "Vedo rotated normal:   -0.643 |  0.383 |  0.663\n",
      "Scipy rotated normal:  -0.307 | -0.528 |  0.792\n",
      "Custom rotated normal: -0.383 | -0.643 |  0.663\n"
     ]
    }
   ],
   "execution_count": 2
  },
  {
   "metadata": {
    "ExecuteTime": {
     "end_time": "2024-10-18T11:32:59.639080Z",
     "start_time": "2024-10-18T11:32:59.624771Z"
    }
   },
   "cell_type": "code",
   "source": [
    "\n",
    "            pitch_rotation = np.array(\n",
    "                [\n",
    "                    [-math.cos(pitch), math.sin(pitch), 0],\n",
    "                    [math.sin(pitch), math.cos(pitch), 0],\n",
    "                    [0, 0, 1],\n",
    "                ]\n",
    "            )\n",
    "            yaw_rotation = np.array(\n",
    "                [\n",
    "                    [math.cos(yaw), 0, math.sin(yaw)],\n",
    "                    [0, 1, 0],\n",
    "                    [-math.sin(yaw), 0, math.cos(yaw)],\n",
    "                ]\n",
    "            )"
   ],
   "id": "9644d3593c33753f",
   "outputs": [],
   "execution_count": 3
  },
  {
   "metadata": {
    "ExecuteTime": {
     "end_time": "2024-10-18T11:32:59.690368Z",
     "start_time": "2024-10-18T11:32:59.677766Z"
    }
   },
   "cell_type": "code",
   "source": [
    "from itertools import permutations\n",
    "\n",
    "list(permutations([\"A\", \"B\", \"C\"]))"
   ],
   "id": "913782364a7bfc3",
   "outputs": [
    {
     "data": {
      "text/plain": [
       "[('A', 'B', 'C'),\n",
       " ('A', 'C', 'B'),\n",
       " ('B', 'A', 'C'),\n",
       " ('B', 'C', 'A'),\n",
       " ('C', 'A', 'B'),\n",
       " ('C', 'B', 'A')]"
      ]
     },
     "execution_count": 4,
     "metadata": {},
     "output_type": "execute_result"
    }
   ],
   "execution_count": 4
  },
  {
   "metadata": {
    "ExecuteTime": {
     "end_time": "2024-10-18T11:32:59.736181Z",
     "start_time": "2024-10-18T11:32:59.724225Z"
    }
   },
   "cell_type": "code",
   "source": [
    "from itertools import permutations\n",
    "\n",
    "\n",
    "def apply_rotation(\n",
    "    vector: np.ndarray,\n",
    "    orientation: Orientation,\n",
    "    pitch: int = 0,\n",
    "    yaw: int = 0,\n",
    "    pitch_first: bool = True,\n",
    ") -> np.ndarray:\n",
    "    pitch = math.radians(pitch)\n",
    "    yaw = math.radians(yaw)\n",
    "\n",
    "    match orientation:\n",
    "        case Orientation.CORONAL:\n",
    "            pitch_rotation = np.array(\n",
    "                [\n",
    "                    [math.cos(pitch), -math.sin(pitch), 0],\n",
    "                    [math.sin(pitch), math.cos(pitch), 0],\n",
    "                    [0, 0, 1],\n",
    "                ]\n",
    "            )\n",
    "            yaw_rotation = np.array(\n",
    "                [\n",
    "                    [math.cos(yaw), 0, math.sin(yaw)],\n",
    "                    [0, 1, 0],\n",
    "                    [-math.sin(yaw), 0, math.cos(yaw)],\n",
    "                ]\n",
    "            )\n",
    "        case Orientation.HORIZONTAL:\n",
    "            pitch_rotation = np.array(\n",
    "                [\n",
    "                    [math.cos(pitch), -math.sin(pitch), 0],\n",
    "                    [math.sin(pitch), math.cos(pitch), 0],\n",
    "                    [0, 0, 1],\n",
    "                ]\n",
    "            )\n",
    "            yaw_rotation = np.array(\n",
    "                [\n",
    "                    [1, 0, 0],\n",
    "                    [0, math.cos(yaw), -math.sin(yaw)],\n",
    "                    [0, math.sin(yaw), math.cos(yaw)],\n",
    "                ]\n",
    "            )\n",
    "        case Orientation.SAGITTAL:\n",
    "            pitch_rotation = np.array(\n",
    "                [\n",
    "                    [1, 0, 0],\n",
    "                    [0, math.cos(pitch), -math.sin(pitch)],\n",
    "                    [0, math.sin(pitch), math.cos(pitch)],\n",
    "                ]\n",
    "            )\n",
    "            yaw_rotation = np.array(\n",
    "                [\n",
    "                    [math.cos(yaw), 0, math.sin(yaw)],\n",
    "                    [0, 1, 0],\n",
    "                    [-math.sin(yaw), 0, math.cos(yaw)],\n",
    "                ]\n",
    "            )\n",
    "\n",
    "    if pitch_first:\n",
    "        rotated_vector = yaw_rotation @ pitch_rotation @ vector\n",
    "    else:\n",
    "        rotated_vector = pitch_rotation @ yaw_rotation @ vector\n",
    "\n",
    "    return rotated_vector"
   ],
   "id": "7429ddbbe5d3d6d4",
   "outputs": [],
   "execution_count": 5
  },
  {
   "metadata": {
    "ExecuteTime": {
     "end_time": "2024-10-18T11:33:00.554545Z",
     "start_time": "2024-10-18T11:32:59.774430Z"
    }
   },
   "cell_type": "code",
   "source": [
    "def permutations_checker(vector, orientation, pitch, yaw):\n",
    "    pitch = math.radians(pitch)\n",
    "    yaw = math.radians(yaw)\n",
    "\n",
    "    if orientation == Orientation.CORONAL:\n",
    "        a = [math.cos(pitch), -math.sin(pitch), 0]\n",
    "        b = [math.sin(pitch), math.cos(pitch), 0]\n",
    "        c = [0, 0, 1]\n",
    "\n",
    "        A = \"[math.cos(pitch), -math.sin(pitch), 0]\"\n",
    "        B = \"[math.sin(pitch), math.cos(pitch), 0]\"\n",
    "        C = \"[0, 0, 1]\"\n",
    "\n",
    "        d = [math.cos(yaw), 0, math.sin(yaw)]\n",
    "        e = [0, 1, 0]\n",
    "        f = [-math.sin(yaw), 0, math.cos(yaw)]\n",
    "\n",
    "        D = \"[math.cos(yaw), 0, math.sin(yaw)]\"\n",
    "        E = \"[0, 1, 0]\"\n",
    "        F = \"[-math.sin(yaw), 0, math.cos(yaw)]\"\n",
    "    elif orientation == Orientation.HORIZONTAL:\n",
    "        a = [math.cos(pitch), -math.sin(pitch), 0]\n",
    "        b = [math.sin(pitch), math.cos(pitch), 0]\n",
    "        c = [0, 0, 1]\n",
    "\n",
    "        A = \"[math.cos(pitch), -math.sin(pitch), 0]\"\n",
    "        B = \"[math.sin(pitch), math.cos(pitch), 0]\"\n",
    "        C = \"[0, 0, 1]\"\n",
    "\n",
    "        d = [1, 0, 0]\n",
    "        e = [0, math.cos(yaw), -math.sin(yaw)]\n",
    "        f = [0, math.sin(yaw), math.cos(yaw)]\n",
    "\n",
    "        D = \"[1, 0, 0]\"\n",
    "        E = \"[0, math.cos(yaw), -math.sin(yaw)]\"\n",
    "        F = \"[0, math.sin(yaw), math.cos(yaw)]\"\n",
    "    elif orientation == Orientation.SAGITTAL:\n",
    "        a = [1, 0, 0]\n",
    "        b = [0, math.cos(pitch), -math.sin(pitch)]\n",
    "        c = [0, math.sin(pitch), math.cos(pitch)]\n",
    "\n",
    "        A = \"[1, 0, 0]\"\n",
    "        B = \"[0, math.cos(pitch), -math.sin(pitch)]\"\n",
    "        C = \"[0, math.sin(pitch), math.cos(pitch)]\"\n",
    "\n",
    "        d = [math.cos(yaw), 0, math.sin(yaw)]\n",
    "        e = [0, 1, 0]\n",
    "        f = [-math.sin(yaw), 0, math.cos(yaw)]\n",
    "\n",
    "        D = \"[math.cos(yaw), 0, math.sin(yaw)]\"\n",
    "        E = \"[0, 1, 0]\"\n",
    "        F = \"[-math.sin(yaw), 0, math.cos(yaw)]\"\n",
    "\n",
    "    combinations = []\n",
    "\n",
    "    pitch_permutations = list(permutations([a, b, c]))\n",
    "    pitch_strings = list(permutations([A, B, C]))\n",
    "    yaw_permutations = list(permutations([d, e, f]))\n",
    "    yaw_strings = list(permutations([D, E, F]))\n",
    "\n",
    "    for i in range(len(pitch_permutations)):\n",
    "        pitch_permutation = pitch_permutations[i]\n",
    "        pitch_string = pitch_strings[i]\n",
    "\n",
    "        pitch_rotation = np.array([*pitch_permutation])\n",
    "\n",
    "        for i in range(len(yaw_permutations)):\n",
    "            yaw_permutation = yaw_permutations[i]\n",
    "            yaw_string = yaw_strings[i]\n",
    "\n",
    "            yaw_rotation = np.array([*yaw_permutation])\n",
    "\n",
    "            combinations.append(\n",
    "                [\n",
    "                    yaw_rotation @ pitch_rotation @ vector,\n",
    "                    pitch_string,\n",
    "                    yaw_string,\n",
    "                ]\n",
    "            )\n",
    "\n",
    "    return combinations\n",
    "\n",
    "\n",
    "orientation = Orientation.CORONAL\n",
    "original_normal = np.array([-1, 0, 0])\n",
    "pitch = 56\n",
    "yaw = 32\n",
    "\n",
    "combinations = permutations_checker(\n",
    "    original_normal,\n",
    "    orientation,\n",
    "    pitch,\n",
    "    yaw,\n",
    ")\n",
    "\n",
    "vedo_rotated_normal = compute_normal(\n",
    "    orientation,\n",
    "    pitch,\n",
    "    yaw,\n",
    "    pitch_first=True,\n",
    ")\n",
    "print(\"Expected: \", format_list(vedo_rotated_normal))\n",
    "\n",
    "for result, pitch_string, yaw_string in combinations:\n",
    "    # print(result)\n",
    "    if not np.allclose(np.array(result), vedo_rotated_normal):\n",
    "        continue\n",
    "\n",
    "    print(result)\n",
    "    print(pitch_string)\n",
    "    print(yaw_string)\n",
    "\n",
    "show(\n",
    "    [\n",
    "        vedo.Arrow(end_pt=vedo_rotated_normal, c=\"black\", s=0.002),\n",
    "        *[\n",
    "            vedo.Arrow(end_pt=combination[0] * 2, c=\"white\", s=0.002)\n",
    "            for combination in combinations\n",
    "        ],\n",
    "        *axes,\n",
    "    ],\n",
    "    camera=sagittal_camera,\n",
    ")"
   ],
   "id": "9fd007606165b701",
   "outputs": [
    {
     "name": "stdout",
     "output_type": "stream",
     "text": [
      "Expected:  -0.474 | -0.829 |  0.296\n",
      "[-0.47422248 -0.82903757  0.29632709]\n",
      "('[math.cos(pitch), -math.sin(pitch), 0]', '[math.sin(pitch), math.cos(pitch), 0]', '[0, 0, 1]')\n",
      "('[math.cos(yaw), 0, math.sin(yaw)]', '[0, 1, 0]', '[-math.sin(yaw), 0, math.cos(yaw)]')\n"
     ]
    }
   ],
   "execution_count": 6
  },
  {
   "metadata": {
    "ExecuteTime": {
     "end_time": "2024-10-18T11:33:00.653044Z",
     "start_time": "2024-10-18T11:33:00.641242Z"
    }
   },
   "cell_type": "code",
   "source": [
    "orientation = Orientation.SAGITTAL\n",
    "normal = np.array([0, 0, 1])\n",
    "pitch = 70\n",
    "yaw = 20\n",
    "\n",
    "vedo_normal = compute_normal(orientation, pitch, yaw)\n",
    "custom_normal = apply_rotation(normal, orientation, pitch, yaw)\n",
    "\n",
    "pitch_rotation = scipy.spatial.transform.Rotation.from_rotvec(\n",
    "    [pitch, 0, 0], degrees=True\n",
    ")\n",
    "yaw_rotation = scipy.spatial.transform.Rotation.from_rotvec([0, yaw, 0], degrees=True)\n",
    "scipy_normal = yaw_rotation.apply(pitch_rotation.apply(normal))\n",
    "\n",
    "print(f\"Baseline normal: {format_list(vedo_normal)}\")\n",
    "print(f\"Custom normal:   {format_list(custom_normal)}\")\n",
    "print(f\"Scipy normal:    {format_list(scipy_normal)}\")"
   ],
   "id": "f955920412fe3ed8",
   "outputs": [
    {
     "name": "stdout",
     "output_type": "stream",
     "text": [
      "Baseline normal:  0.117 | -0.940 |  0.321\n",
      "Custom normal:    0.117 | -0.940 |  0.321\n",
      "Scipy normal:     0.117 | -0.940 |  0.321\n"
     ]
    }
   ],
   "execution_count": 7
  }
 ],
 "metadata": {
  "kernelspec": {
   "display_name": "Python 3",
   "language": "python",
   "name": "python3"
  },
  "language_info": {
   "codemirror_mode": {
    "name": "ipython",
    "version": 2
   },
   "file_extension": ".py",
   "mimetype": "text/x-python",
   "name": "python",
   "nbconvert_exporter": "python",
   "pygments_lexer": "ipython2",
   "version": "2.7.6"
  }
 },
 "nbformat": 4,
 "nbformat_minor": 5
}
