{
 "cells": [
  {
   "cell_type": "code",
   "id": "initial_id",
   "metadata": {
    "collapsed": true,
    "ExecuteTime": {
     "end_time": "2024-10-17T14:54:02.304398Z",
     "start_time": "2024-10-17T14:54:00.837262Z"
    }
   },
   "source": [
    "import numpy as np\n",
    "\n",
    "from helper_loader import *"
   ],
   "outputs": [],
   "execution_count": 1
  },
  {
   "metadata": {
    "ExecuteTime": {
     "end_time": "2024-10-17T14:58:37.610722Z",
     "start_time": "2024-10-17T14:58:28.576520Z"
    }
   },
   "cell_type": "code",
   "source": [
    "from math import cos, sin, radians\n",
    "\n",
    "\n",
    "def compute_normal(pitch: int = 0, yaw: int = 0) -> np.ndarray:\n",
    "    # Pitch = around_y clockwise = theta\n",
    "    # Yaw   = around_z clockwise = phi\n",
    "    yaw = radians(yaw)\n",
    "    pitch = radians(pitch)\n",
    "\n",
    "    normal = [\n",
    "        cos(yaw) * cos(pitch),\n",
    "        sin(yaw) * cos(pitch),\n",
    "        sin(pitch),\n",
    "    ]\n",
    "\n",
    "    # y_radians = math.radians(around_z)\n",
    "    # z_radians = math.radians(around_y)\n",
    "\n",
    "    # normal = [\n",
    "    #     cos(z_radians) * cos(y_radians),\n",
    "    #     sin(y_radians),\n",
    "    #     sin(z_radians) * cos(y_radians),\n",
    "    # ]\n",
    "\n",
    "    return np.array(normal)\n",
    "\n",
    "\n",
    "pitch = 45\n",
    "yaw = 45\n",
    "\n",
    "x_axis = vedo.Arrow(end_pt=(1, 0, 0), c=\"red\", s=0.001)\n",
    "y_axis = vedo.Arrow(end_pt=(0, 1, 0), c=\"yellow\", s=0.001)\n",
    "z_axis = vedo.Arrow(end_pt=(0, 0, 1), c=\"blue\", s=0.001)\n",
    "\n",
    "\n",
    "original_normal = compute_normal(0, 0)\n",
    "original_arrow = vedo.Arrow(end_pt=original_normal, c=\"black\", s=0.002)\n",
    "original_plane = vedo.Plane(normal=original_normal)\n",
    "\n",
    "rotated_arrows = []\n",
    "for i in range(0, 91, 5):\n",
    "    rotated_normal = compute_normal(45, i)\n",
    "    rotated_arrow = vedo.Arrow(end_pt=rotated_normal, c=\"white\", s=0.002)\n",
    "    rotated_plane = vedo.Plane(normal=rotated_normal)\n",
    "\n",
    "    rotated_arrows.append(rotated_arrow)\n",
    "\n",
    "equidistant_normal = np.array((1, 1, 1))\n",
    "equidistant_arrow = vedo.Arrow(end_pt=equidistant_normal, c=\"purple\", s=0.002)\n",
    "\n",
    "rotated_normal = compute_normal(pitch, yaw)\n",
    "rotated_arrow = vedo.Arrow(end_pt=rotated_normal, c=\"white\", s=0.002)\n",
    "\n",
    "pitch_normal = compute_normal(pitch, 0)\n",
    "pitch_arrow = vedo.Arrow(end_pt=pitch_normal, c=\"cyan\", s=0.002)\n",
    "\n",
    "yaw_normal = compute_normal(0, yaw)\n",
    "yaw_arrow = vedo.Arrow(end_pt=yaw_normal, c=\"magenta\", s=0.002)\n",
    "\n",
    "sum_normal = pitch_normal + yaw_normal\n",
    "sum_arrow = vedo.Arrow(end_pt=sum_normal, c=\"pink\", s=0.002)\n",
    "\n",
    "show(\n",
    "    [\n",
    "        x_axis,\n",
    "        y_axis,\n",
    "        z_axis,\n",
    "        # original_arrow,\n",
    "        # original_plane,\n",
    "        pitch_arrow,\n",
    "        # yaw_arrow,\n",
    "        # rotated_arrow,\n",
    "        # equidistant_arrow,\n",
    "        # sum_arrow,\n",
    "        # *rotated_arrows,\n",
    "    ],\n",
    "    camera=sagittal_camera,\n",
    ")"
   ],
   "id": "e2e421bc1d208b4f",
   "outputs": [],
   "execution_count": 7
  },
  {
   "metadata": {
    "ExecuteTime": {
     "end_time": "2024-10-17T14:50:09.388647Z",
     "start_time": "2024-10-17T14:50:09.377854Z"
    }
   },
   "cell_type": "code",
   "source": "print(f\"Pitch = {pitch} and yaw = {yaw}\")",
   "id": "dcb86f032da2d508",
   "outputs": [
    {
     "name": "stdout",
     "output_type": "stream",
     "text": [
      "Pitch = 45 and yaw = 45\n"
     ]
    }
   ],
   "execution_count": 4
  },
  {
   "metadata": {
    "ExecuteTime": {
     "end_time": "2024-10-17T14:50:09.494687Z",
     "start_time": "2024-10-17T14:50:09.482964Z"
    }
   },
   "cell_type": "code",
   "source": "pitch_normal",
   "id": "d0037bf5edc61027",
   "outputs": [
    {
     "data": {
      "text/plain": [
       "array([0.70710678, 0.        , 0.70710678])"
      ]
     },
     "execution_count": 5,
     "metadata": {},
     "output_type": "execute_result"
    }
   ],
   "execution_count": 5
  },
  {
   "metadata": {
    "ExecuteTime": {
     "end_time": "2024-10-17T14:50:09.606645Z",
     "start_time": "2024-10-17T14:50:09.595017Z"
    }
   },
   "cell_type": "code",
   "source": "yaw_normal",
   "id": "cd2b2766ed4ac5af",
   "outputs": [
    {
     "data": {
      "text/plain": [
       "array([0.70710678, 0.70710678, 0.        ])"
      ]
     },
     "execution_count": 6,
     "metadata": {},
     "output_type": "execute_result"
    }
   ],
   "execution_count": 6
  },
  {
   "metadata": {
    "ExecuteTime": {
     "end_time": "2024-10-17T14:50:09.685172Z",
     "start_time": "2024-10-17T14:50:09.674440Z"
    }
   },
   "cell_type": "code",
   "source": "rotated_normal",
   "id": "e93c9f4fca7263a6",
   "outputs": [
    {
     "data": {
      "text/plain": [
       "array([0.5       , 0.5       , 0.70710678])"
      ]
     },
     "execution_count": 7,
     "metadata": {},
     "output_type": "execute_result"
    }
   ],
   "execution_count": 7
  },
  {
   "metadata": {
    "ExecuteTime": {
     "end_time": "2024-10-17T14:50:09.749427Z",
     "start_time": "2024-10-17T14:50:09.747379Z"
    }
   },
   "cell_type": "code",
   "source": "",
   "id": "53d0e2df893f687d",
   "outputs": [],
   "execution_count": null
  }
 ],
 "metadata": {
  "kernelspec": {
   "display_name": "Python 3",
   "language": "python",
   "name": "python3"
  },
  "language_info": {
   "codemirror_mode": {
    "name": "ipython",
    "version": 2
   },
   "file_extension": ".py",
   "mimetype": "text/x-python",
   "name": "python",
   "nbconvert_exporter": "python",
   "pygments_lexer": "ipython2",
   "version": "2.7.6"
  }
 },
 "nbformat": 4,
 "nbformat_minor": 5
}
