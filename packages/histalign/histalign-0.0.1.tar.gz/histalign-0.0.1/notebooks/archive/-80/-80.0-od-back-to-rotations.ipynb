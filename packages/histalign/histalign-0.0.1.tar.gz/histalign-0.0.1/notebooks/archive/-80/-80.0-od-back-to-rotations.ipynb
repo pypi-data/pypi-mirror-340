{
 "cells": [
  {
   "metadata": {
    "collapsed": true,
    "ExecuteTime": {
     "end_time": "2024-10-17T12:07:04.026675Z",
     "start_time": "2024-10-17T12:07:02.367295Z"
    }
   },
   "cell_type": "code",
   "source": [
    "from scipy.spatial.transform import Rotation\n",
    "import vedo\n",
    "\n",
    "from helper_loader import *"
   ],
   "id": "initial_id",
   "outputs": [],
   "execution_count": 1
  },
  {
   "metadata": {
    "ExecuteTime": {
     "end_time": "2024-10-17T12:07:04.074546Z",
     "start_time": "2024-10-17T12:07:04.032227Z"
    }
   },
   "cell_type": "code",
   "source": [
    "array = np.zeros((20, 20, 20), dtype=np.uint8)\n",
    "volume = vedo.Volume(array)"
   ],
   "id": "abe4f20d16c00105",
   "outputs": [],
   "execution_count": 2
  },
  {
   "metadata": {
    "ExecuteTime": {
     "end_time": "2024-10-17T12:07:05.063264Z",
     "start_time": "2024-10-17T12:07:04.255719Z"
    }
   },
   "cell_type": "code",
   "source": [
    "center = (np.array(array.shape) - 1) // 2\n",
    "\n",
    "vector = np.array([0, 5, 0])\n",
    "vector = vector + center\n",
    "\n",
    "array[vector] = 255\n",
    "volume.cmap(**get_cmap(volume))\n",
    "\n",
    "arrow1 = vedo.Arrow(center, vector, s=0.01)\n",
    "\n",
    "rotation = Rotation.from_rotvec([45, 0, 45], degrees=True)\n",
    "rotated_vector = rotation.apply(vector - center) + center\n",
    "\n",
    "arrow2 = vedo.Arrow(center, rotated_vector.tolist(), s=0.01)\n",
    "show([volume, arrow1, arrow2])"
   ],
   "id": "ece95b033a266b49",
   "outputs": [],
   "execution_count": 3
  },
  {
   "metadata": {
    "ExecuteTime": {
     "end_time": "2024-10-17T12:32:14.401149Z",
     "start_time": "2024-10-17T12:32:09.281017Z"
    }
   },
   "cell_type": "code",
   "source": [
    "def compute_normal_old(along_axis: str, pitch: int, yaw: int) -> list[float]:\n",
    "    pitch_radians = math.radians(pitch)\n",
    "    yaw_radians = math.radians(yaw)\n",
    "\n",
    "    match along_axis:\n",
    "        case \"x\":\n",
    "\n",
    "            normal = [\n",
    "                math.cos(yaw_radians) * math.cos(pitch_radians),\n",
    "                math.sin(pitch_radians),\n",
    "                -math.sin(yaw_radians) * math.cos(pitch_radians),\n",
    "            ]\n",
    "        case \"y\":\n",
    "            normal = [\n",
    "                math.sin(pitch_radians),\n",
    "                math.cos(yaw_radians) * math.cos(pitch_radians),\n",
    "                math.sin(yaw_radians) * math.cos(pitch_radians),\n",
    "            ]\n",
    "        case \"z\":\n",
    "            normal = [\n",
    "                math.sin(yaw_radians) * math.cos(pitch_radians),\n",
    "                math.sin(pitch_radians),\n",
    "                math.cos(yaw_radians) * math.cos(pitch_radians),\n",
    "            ]\n",
    "        case other:\n",
    "            # Should be impossible thanks to pydantic\n",
    "            raise InvalidOrientationError(other)\n",
    "\n",
    "    return np.array(normal)\n",
    "\n",
    "\n",
    "def compute_normal(along_axis: str, pitch: int, yaw: int) -> list[float]:\n",
    "    pitch_radians = math.radians(pitch)\n",
    "    yaw_radians = math.radians(yaw)\n",
    "\n",
    "    match along_axis:\n",
    "        case \"x\":\n",
    "            normal = [\n",
    "                math.sin(pitch_radians),\n",
    "                math.cos(yaw_radians) * math.cos(pitch_radians),\n",
    "                -math.sin(yaw_radians) * math.cos(pitch_radians),\n",
    "            ]\n",
    "        case \"y\":\n",
    "            normal = [\n",
    "                math.sin(pitch_radians),\n",
    "                math.cos(yaw_radians) * math.cos(pitch_radians),\n",
    "                math.sin(yaw_radians) * math.cos(pitch_radians),\n",
    "            ]\n",
    "        case \"z\":\n",
    "            normal = [\n",
    "                math.sin(yaw_radians) * math.cos(pitch_radians),\n",
    "                math.sin(pitch_radians),\n",
    "                math.cos(yaw_radians) * math.cos(pitch_radians),\n",
    "            ]\n",
    "        case other:\n",
    "            # Should be impossible thanks to pydantic\n",
    "            raise InvalidOrientationError(other)\n",
    "\n",
    "    return np.array(normal)\n",
    "\n",
    "\n",
    "original_normal = np.array([1, 0, 0])\n",
    "original_plane = vedo.Plane(normal=original_normal)\n",
    "original_arrow = vedo.Arrow(end_pt=original_normal, s=0.001, c=\"white\")\n",
    "\n",
    "pitch_normal = compute_normal(\"x\", 45, 0)\n",
    "pitch_plane = vedo.Plane(normal=pitch_normal)\n",
    "pitch_arrow = vedo.Arrow(end_pt=pitch_normal, s=0.001, c=\"blue\")\n",
    "\n",
    "yaw_normal = compute_normal(\"x\", 0, 45)\n",
    "yaw_plane = vedo.Plane(normal=yaw_normal)\n",
    "yaw_arrow = vedo.Arrow(end_pt=yaw_normal, s=0.001, c=\"yellow\")\n",
    "\n",
    "rotated_normal = compute_normal(\"x\", 45, 45)\n",
    "rotated_plane = vedo.Plane(normal=rotated_normal)\n",
    "rotated_arrow = vedo.Arrow(end_pt=rotated_normal, s=0.001, c=\"black\")\n",
    "\n",
    "old_normal = compute_normal_old(\"x\", 45, 45)\n",
    "old_plane = vedo.Plane(normal=old_normal)\n",
    "old_arrow = vedo.Arrow(end_pt=old_normal, s=0.001, c=\"pink\")\n",
    "\n",
    "sphere = vedo.Sphere(r=1, alpha=0.1)\n",
    "\n",
    "show(\n",
    "    [\n",
    "        original_plane,\n",
    "        original_arrow,\n",
    "        # pitch_arrow,\n",
    "        # yaw_arrow,\n",
    "        old_arrow,\n",
    "        # rotated_arrow,\n",
    "        # sphere,\n",
    "    ]\n",
    ")"
   ],
   "id": "89848e4086e4bea7",
   "outputs": [],
   "execution_count": 27
  },
  {
   "metadata": {
    "ExecuteTime": {
     "end_time": "2024-10-17T12:08:52.856108Z",
     "start_time": "2024-10-17T12:08:52.854024Z"
    }
   },
   "cell_type": "code",
   "source": "",
   "id": "4f6aff16beed2afc",
   "outputs": [],
   "execution_count": null
  }
 ],
 "metadata": {
  "kernelspec": {
   "display_name": "Python 3",
   "language": "python",
   "name": "python3"
  },
  "language_info": {
   "codemirror_mode": {
    "name": "ipython",
    "version": 2
   },
   "file_extension": ".py",
   "mimetype": "text/x-python",
   "name": "python",
   "nbconvert_exporter": "python",
   "pygments_lexer": "ipython2",
   "version": "2.7.6"
  }
 },
 "nbformat": 4,
 "nbformat_minor": 5
}
