{
 "cells": [
  {
   "cell_type": "code",
   "id": "initial_id",
   "metadata": {
    "collapsed": true,
    "ExecuteTime": {
     "end_time": "2025-03-20T11:25:17.108375Z",
     "start_time": "2025-03-20T11:25:16.966122Z"
    }
   },
   "source": "import numpy as np",
   "outputs": [],
   "execution_count": 1
  },
  {
   "metadata": {
    "ExecuteTime": {
     "end_time": "2025-03-20T11:37:39.513974Z",
     "start_time": "2025-03-20T11:37:39.510175Z"
    }
   },
   "cell_type": "code",
   "source": [
    "xy_vector = np.array([1, 2, 1])\n",
    "\n",
    "matrix = np.array(\n",
    "    [\n",
    "        [2, 0, 10],\n",
    "        [0, 2, 10],\n",
    "        [0, 0, 1],\n",
    "    ]\n",
    ")\n",
    "\n",
    "print(f\"Left to right multiplication: {xy_vector @ matrix}\")\n",
    "print(f\"Right to left multiplication: {matrix @ xy_vector}\")"
   ],
   "id": "31bb926d2363f7a5",
   "outputs": [
    {
     "name": "stdout",
     "output_type": "stream",
     "text": [
      "Left to right multiplication: [ 2  4 31]\n",
      "Right to left multiplication: [12 14  1]\n"
     ]
    }
   ],
   "execution_count": 17
  },
  {
   "metadata": {},
   "cell_type": "code",
   "outputs": [],
   "execution_count": null,
   "source": "",
   "id": "674e5d7c1d0a130d"
  },
  {
   "metadata": {
    "ExecuteTime": {
     "end_time": "2025-03-20T11:27:57.437367Z",
     "start_time": "2025-03-20T11:27:57.434262Z"
    }
   },
   "cell_type": "code",
   "source": "xy_vector.shape",
   "id": "4e4a528391e2fab1",
   "outputs": [
    {
     "data": {
      "text/plain": [
       "(2,)"
      ]
     },
     "execution_count": 7,
     "metadata": {},
     "output_type": "execute_result"
    }
   ],
   "execution_count": 7
  }
 ],
 "metadata": {
  "kernelspec": {
   "display_name": "Python 3",
   "language": "python",
   "name": "python3"
  },
  "language_info": {
   "codemirror_mode": {
    "name": "ipython",
    "version": 2
   },
   "file_extension": ".py",
   "mimetype": "text/x-python",
   "name": "python",
   "nbconvert_exporter": "python",
   "pygments_lexer": "ipython2",
   "version": "2.7.6"
  }
 },
 "nbformat": 4,
 "nbformat_minor": 5
}
