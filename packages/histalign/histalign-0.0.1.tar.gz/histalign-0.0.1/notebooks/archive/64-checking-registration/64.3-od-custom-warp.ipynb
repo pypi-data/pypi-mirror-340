{
 "cells": [
  {
   "cell_type": "code",
   "id": "initial_id",
   "metadata": {
    "collapsed": true,
    "ExecuteTime": {
     "end_time": "2025-03-20T12:47:30.176165Z",
     "start_time": "2025-03-20T12:47:29.494341Z"
    }
   },
   "source": [
    "import itertools\n",
    "import math\n",
    "from time import perf_counter\n",
    "\n",
    "import cv2\n",
    "import matplotlib.pyplot as plt\n",
    "import numpy as np\n",
    "from PIL import Image, ImageTransform\n",
    "from vtkmodules.numpy_interface.algorithms import condition"
   ],
   "outputs": [],
   "execution_count": 1
  },
  {
   "metadata": {
    "ExecuteTime": {
     "end_time": "2025-03-20T12:47:30.594571Z",
     "start_time": "2025-03-20T12:47:30.590541Z"
    }
   },
   "cell_type": "code",
   "source": [
    "def transformation(\n",
    "    translation: tuple[int, int] = (0, 0),\n",
    "    scaling: tuple[float, float] = (1.0, 1.0),\n",
    "    rotation: float = 0.0,\n",
    "    shearing: tuple[float, float] = (0.0, 0.0),\n",
    "    transformation_origin: tuple[int, int] = (0, 0),\n",
    ") -> np.ndarray:\n",
    "    matrix = np.eye(3, 3)\n",
    "\n",
    "    # Change origin\n",
    "    matrix = (\n",
    "        np.array(\n",
    "            [\n",
    "                [1, 0, -transformation_origin[0]],\n",
    "                [0, 1, -transformation_origin[1]],\n",
    "                [0, 0, 1],\n",
    "            ]\n",
    "        )\n",
    "        @ matrix\n",
    "    )\n",
    "\n",
    "    # Rotate\n",
    "    matrix = (\n",
    "        np.array(\n",
    "            [\n",
    "                [math.cos(rotation), -math.sin(rotation), 0],\n",
    "                [math.sin(rotation), math.cos(rotation), 0],\n",
    "                [0, 0, 1],\n",
    "            ]\n",
    "        )\n",
    "        @ matrix\n",
    "    )\n",
    "\n",
    "    # Scale\n",
    "    matrix = (\n",
    "        np.array(\n",
    "            [\n",
    "                [scaling[0], 0, 0],\n",
    "                [0, scaling[1], 0],\n",
    "                [0, 0, 1],\n",
    "            ]\n",
    "        )\n",
    "        @ matrix\n",
    "    )\n",
    "\n",
    "    # Change origin back\n",
    "    matrix = (\n",
    "        np.array(\n",
    "            [\n",
    "                [1, 0, transformation_origin[0]],\n",
    "                [0, 1, transformation_origin[1]],\n",
    "                [0, 0, 1],\n",
    "            ]\n",
    "        )\n",
    "        @ matrix\n",
    "    )\n",
    "\n",
    "    # Shear\n",
    "    matrix = (\n",
    "        np.array(\n",
    "            [\n",
    "                [1, shearing[0], 0],\n",
    "                [shearing[1], 1, 0],\n",
    "                [0, 0, 1],\n",
    "            ]\n",
    "        )\n",
    "        @ matrix\n",
    "    )\n",
    "\n",
    "    # Translate\n",
    "    matrix = (\n",
    "        np.array(\n",
    "            [\n",
    "                [1, 0, translation[0]],\n",
    "                [0, 1, translation[1]],\n",
    "                [0, 0, 1],\n",
    "            ]\n",
    "        )\n",
    "        @ matrix\n",
    "    )\n",
    "\n",
    "    return matrix"
   ],
   "id": "2afb8a167d4bd291",
   "outputs": [],
   "execution_count": 2
  },
  {
   "metadata": {
    "ExecuteTime": {
     "end_time": "2025-03-20T12:49:30.677739Z",
     "start_time": "2025-03-20T12:49:30.660675Z"
    }
   },
   "cell_type": "code",
   "source": [
    "shape = (10_000, 4_000)\n",
    "\n",
    "# image = np.random.randint(0, 2**16 - 1, np.prod(shape), dtype=np.uint16).reshape(shape)\n",
    "image = np.zeros(shape, dtype=np.uint16)\n",
    "\n",
    "image[0 : round(image.shape[0] * 0.8), 0] = 255\n",
    "image[0, 0 : image.shape[1]] = 255\n",
    "image[0 : round(image.shape[0] * 0.5), image.shape[1] - 1] = 255\n",
    "image[round(image.shape[0] * 0.5) - 1, 0 : image.shape[1]] = 255\n",
    "for i in range(round(image.shape[0] * 0.5) - 1, round(image.shape[1] * 0.8)):\n",
    "    image[i, i] = 255"
   ],
   "id": "edaa94655934023e",
   "outputs": [],
   "execution_count": 13
  },
  {
   "metadata": {
    "ExecuteTime": {
     "end_time": "2025-03-20T12:47:35.207602Z",
     "start_time": "2025-03-20T12:47:35.203020Z"
    }
   },
   "cell_type": "code",
   "source": [
    "matrix = transformation(\n",
    "    rotation=math.pi / 2,\n",
    "    transformation_origin=(image.shape[0] // 2, image.shape[1] // 2),\n",
    ")"
   ],
   "id": "c1259d19adbf1dd1",
   "outputs": [],
   "execution_count": 4
  },
  {
   "metadata": {
    "ExecuteTime": {
     "end_time": "2025-03-20T12:46:02.046450Z",
     "start_time": "2025-03-20T12:45:58.694832Z"
    }
   },
   "cell_type": "code",
   "source": [
    "transformed_image_a = np.zeros_like(image)\n",
    "\n",
    "start_time = perf_counter()\n",
    "\n",
    "for i, j in itertools.product(range(image.shape[0]), range(image.shape[1])):\n",
    "    coordinates = np.array([i, j, 1])\n",
    "    i_out, j_out, _ = np.round(matrix @ coordinates).astype(int)\n",
    "\n",
    "    if 0 <= i_out < image.shape[0] and 0 <= j_out < image.shape[1]:\n",
    "        transformed_image_a[i_out, j_out] = image[i, j]\n",
    "\n",
    "print(f\"Elapsed time: {perf_counter() - start_time:.2f} seconds.\")"
   ],
   "id": "c51f4dc8817fdbfd",
   "outputs": [
    {
     "name": "stdout",
     "output_type": "stream",
     "text": [
      "Elapsed time: 3.35 seconds.\n"
     ]
    }
   ],
   "execution_count": 104
  },
  {
   "metadata": {
    "ExecuteTime": {
     "end_time": "2025-03-20T12:50:28.475509Z",
     "start_time": "2025-03-20T12:50:21.646320Z"
    }
   },
   "cell_type": "code",
   "source": [
    "transformed_image_b = np.zeros_like(image)\n",
    "\n",
    "initial_time = perf_counter()\n",
    "\n",
    "start_time = perf_counter()\n",
    "x, y, z = np.meshgrid(\n",
    "    list(range(image.shape[0])), list(range(image.shape[1])), [1], indexing=\"ij\"\n",
    ")\n",
    "print(f\"Meshgrid: {perf_counter() - start_time:.2f} seconds.\")\n",
    "\n",
    "start_time = perf_counter()\n",
    "coordinates = np.vstack([x.ravel(), y.ravel(), z.ravel()])\n",
    "print(f\"Stacking: {perf_counter() - start_time:.2f} seconds.\")\n",
    "\n",
    "start_time = perf_counter()\n",
    "transformed_coordinates = matrix @ coordinates\n",
    "print(f\"Transforming 1: {perf_counter() - start_time:.2f} seconds.\")\n",
    "start_time = perf_counter()\n",
    "transformed_coordinates = np.round(transformed_coordinates).astype(int)\n",
    "print(f\"Transforming 2: {perf_counter() - start_time:.2f} seconds.\")\n",
    "\n",
    "start_time = perf_counter()\n",
    "condition = transformed_coordinates[:2] < np.array(transformed_image_b.shape).reshape(\n",
    "    2, 1\n",
    ")\n",
    "print(f\"Condition 1: {perf_counter() - start_time:.2f} seconds.\")\n",
    "start_time = perf_counter()\n",
    "condition = np.all(condition, axis=0)\n",
    "print(f\"Condition 2: {perf_counter() - start_time:.2f} seconds.\")\n",
    "\n",
    "start_time = perf_counter()\n",
    "coordinates = coordinates[:2][..., condition]\n",
    "transformed_coordinates = transformed_coordinates[:2][..., condition]\n",
    "print(f\"Filtering: {perf_counter() - start_time:.2f} seconds.\")\n",
    "\n",
    "i, j = coordinates\n",
    "i_out, j_out = transformed_coordinates\n",
    "\n",
    "start_time = perf_counter()\n",
    "transformed_image_b[i_out, j_out] = image[i, j]\n",
    "print(f\"Insertion: {perf_counter() - start_time:.2f} seconds.\")\n",
    "\n",
    "print(f\"Total time: {perf_counter() - initial_time:.2f} seconds.\")"
   ],
   "id": "b6bfad0752a794ed",
   "outputs": [
    {
     "name": "stdout",
     "output_type": "stream",
     "text": [
      "Meshgrid: 0.36 seconds.\n",
      "Stacking: 1.67 seconds.\n",
      "Transforming 1: 1.59 seconds.\n",
      "Transforming 2: 1.38 seconds.\n",
      "Condition 1: 0.07 seconds.\n",
      "Condition 2: 0.11 seconds.\n",
      "Filtering: 1.32 seconds.\n",
      "Insertion: 0.28 seconds.\n",
      "Total time: 6.79 seconds.\n"
     ]
    }
   ],
   "execution_count": 15
  },
  {
   "metadata": {
    "ExecuteTime": {
     "end_time": "2025-03-20T12:46:02.395223Z",
     "start_time": "2025-03-20T12:46:02.242381Z"
    }
   },
   "cell_type": "code",
   "source": "plt.imshow(transformed_image_a)",
   "id": "73945339a15559ab",
   "outputs": [
    {
     "data": {
      "text/plain": [
       "<matplotlib.image.AxesImage at 0x7fa6fd577b50>"
      ]
     },
     "execution_count": 106,
     "metadata": {},
     "output_type": "execute_result"
    },
    {
     "data": {
      "text/plain": [
       "<Figure size 640x480 with 1 Axes>"
      ],
      "image/png": "[encoded data removed]"
     },
     "metadata": {},
     "output_type": "display_data"
    }
   ],
   "execution_count": 106
  },
  {
   "metadata": {
    "ExecuteTime": {
     "end_time": "2025-03-20T12:46:04.552375Z",
     "start_time": "2025-03-20T12:46:04.387761Z"
    }
   },
   "cell_type": "code",
   "source": "plt.imshow(transformed_image_b)",
   "id": "fe755cd1d43c7ebd",
   "outputs": [
    {
     "data": {
      "text/plain": [
       "<matplotlib.image.AxesImage at 0x7fa6fd5b2fe0>"
      ]
     },
     "execution_count": 107,
     "metadata": {},
     "output_type": "execute_result"
    },
    {
     "data": {
      "text/plain": [
       "<Figure size 640x480 with 1 Axes>"
      ],
      "image/png": "[encoded data removed]"
     },
     "metadata": {},
     "output_type": "display_data"
    }
   ],
   "execution_count": 107
  }
 ],
 "metadata": {
  "kernelspec": {
   "display_name": "Python 3",
   "language": "python",
   "name": "python3"
  },
  "language_info": {
   "codemirror_mode": {
    "name": "ipython",
    "version": 2
   },
   "file_extension": ".py",
   "mimetype": "text/x-python",
   "name": "python",
   "nbconvert_exporter": "python",
   "pygments_lexer": "ipython2",
   "version": "2.7.6"
  }
 },
 "nbformat": 4,
 "nbformat_minor": 5
}
