{
 "cells": [
  {
   "cell_type": "code",
   "id": "initial_id",
   "metadata": {
    "collapsed": true
   },
   "source": [
    "import matplotlib.pyplot as plt\n",
    "import numpy as np\n",
    "\n",
    "from histalign.backend.ccf.paths import get_atlas_path\n",
    "from histalign.backend.io import load_alignment_settings, load_image, load_volume\n",
    "from histalign.backend.registration import Registrator\n",
    "from histalign.backend.workspace import Volume, VolumeSlicer"
   ],
   "outputs": [],
   "execution_count": null
  },
  {
   "metadata": {},
   "cell_type": "code",
   "source": [
    "alignment_path = \"/home/ediun/git/histalign/projects/conversion100/12c22ee785/c1e4a6b68b289dfce5bbd2d54cf24550.json\"\n",
    "alignment_settings = load_alignment_settings(alignment_path)\n",
    "\n",
    "image = load_image(alignment_settings.histology_path)\n",
    "image = np.where(image > 3000, image, 0)\n",
    "\n",
    "atlas: Volume = load_volume(\n",
    "    get_atlas_path(alignment_settings.volume_settings.resolution)\n",
    ")\n",
    "slicer = VolumeSlicer(volume=atlas)\n",
    "atlas_image = slicer.slice(alignment_settings.volume_settings)\n",
    "\n",
    "registrator = Registrator(True, True)\n",
    "registered_image = registrator.get_forwarded_image(image, alignment_settings)"
   ],
   "id": "f46b37f3b75b5df0",
   "outputs": [],
   "execution_count": null
  },
  {
   "metadata": {},
   "cell_type": "code",
   "source": [
    "plt.imshow(atlas_image)\n",
    "plt.show()\n",
    "\n",
    "plt.imshow(registered_image)\n",
    "plt.show()\n",
    "\n",
    "plt.imshow(np.where(registered_image > 0, registered_image, atlas_image * 100))\n",
    "plt.show()"
   ],
   "id": "273b17cf74e3f033",
   "outputs": [],
   "execution_count": null
  }
 ],
 "metadata": {
  "kernelspec": {
   "display_name": "Python 3",
   "language": "python",
   "name": "python3"
  },
  "language_info": {
   "codemirror_mode": {
    "name": "ipython",
    "version": 2
   },
   "file_extension": ".py",
   "mimetype": "text/x-python",
   "name": "python",
   "nbconvert_exporter": "python",
   "pygments_lexer": "ipython2",
   "version": "2.7.6"
  }
 },
 "nbformat": 4,
 "nbformat_minor": 5
}
