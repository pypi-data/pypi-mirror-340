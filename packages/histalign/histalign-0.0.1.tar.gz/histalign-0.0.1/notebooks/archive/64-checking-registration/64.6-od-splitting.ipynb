{
 "cells": [
  {
   "cell_type": "code",
   "id": "initial_id",
   "metadata": {
    "collapsed": true,
    "ExecuteTime": {
     "end_time": "2025-03-20T13:43:42.607561Z",
     "start_time": "2025-03-20T13:43:42.603681Z"
    }
   },
   "source": [
    "import math\n",
    "\n",
    "import cv2\n",
    "import kwimage\n",
    "import matplotlib.pyplot as plt\n",
    "import numpy as np"
   ],
   "outputs": [],
   "execution_count": 5
  },
  {
   "metadata": {
    "ExecuteTime": {
     "end_time": "2025-03-20T13:43:43.679747Z",
     "start_time": "2025-03-20T13:43:43.675390Z"
    }
   },
   "cell_type": "code",
   "source": [
    "def imshow(image: np.ndarray, figsize: tuple[int, int] = (2, 2)) -> None:\n",
    "    _ = plt.figure(figsize=figsize)\n",
    "\n",
    "    plt.axis(False)\n",
    "    plt.imshow(image)\n",
    "\n",
    "    plt.show()\n",
    "\n",
    "\n",
    "def get_transform_matrix(\n",
    "    translation: tuple[int, int] = (0, 0),\n",
    "    scaling: tuple[float, float] = (1.0, 1.0),\n",
    "    rotation: float = 0.0,\n",
    "    shearing: tuple[float, float] = (0.0, 0.0),\n",
    "    transformation_origin: tuple[int, int] = (0, 0),\n",
    ") -> np.ndarray:\n",
    "    matrix = np.eye(3, 3)\n",
    "\n",
    "    # Change origin\n",
    "    matrix = (\n",
    "        np.array(\n",
    "            [\n",
    "                [1, 0, -transformation_origin[0]],\n",
    "                [0, 1, -transformation_origin[1]],\n",
    "                [0, 0, 1],\n",
    "            ]\n",
    "        )\n",
    "        @ matrix\n",
    "    )\n",
    "\n",
    "    # Rotate\n",
    "    matrix = (\n",
    "        np.array(\n",
    "            [\n",
    "                [math.cos(rotation), -math.sin(rotation), 0],\n",
    "                [math.sin(rotation), math.cos(rotation), 0],\n",
    "                [0, 0, 1],\n",
    "            ]\n",
    "        )\n",
    "        @ matrix\n",
    "    )\n",
    "\n",
    "    # Scale\n",
    "    matrix = (\n",
    "        np.array(\n",
    "            [\n",
    "                [scaling[0], 0, 0],\n",
    "                [0, scaling[1], 0],\n",
    "                [0, 0, 1],\n",
    "            ]\n",
    "        )\n",
    "        @ matrix\n",
    "    )\n",
    "\n",
    "    # Change origin back\n",
    "    matrix = (\n",
    "        np.array(\n",
    "            [\n",
    "                [1, 0, transformation_origin[0]],\n",
    "                [0, 1, transformation_origin[1]],\n",
    "                [0, 0, 1],\n",
    "            ]\n",
    "        )\n",
    "        @ matrix\n",
    "    )\n",
    "\n",
    "    # Shear\n",
    "    matrix = (\n",
    "        np.array(\n",
    "            [\n",
    "                [1, shearing[0], 0],\n",
    "                [shearing[1], 1, 0],\n",
    "                [0, 0, 1],\n",
    "            ]\n",
    "        )\n",
    "        @ matrix\n",
    "    )\n",
    "\n",
    "    # Translate\n",
    "    matrix = (\n",
    "        np.array(\n",
    "            [\n",
    "                [1, 0, translation[0]],\n",
    "                [0, 1, translation[1]],\n",
    "                [0, 0, 1],\n",
    "            ]\n",
    "        )\n",
    "        @ matrix\n",
    "    )\n",
    "\n",
    "    return matrix"
   ],
   "id": "62b6a38f1babe8ae",
   "outputs": [],
   "execution_count": 6
  },
  {
   "metadata": {
    "ExecuteTime": {
     "end_time": "2025-03-20T13:53:10.757557Z",
     "start_time": "2025-03-20T13:53:10.754255Z"
    }
   },
   "cell_type": "code",
   "source": [
    "shape = (100, 100)\n",
    "\n",
    "image = np.zeros(shape, dtype=np.uint16)\n",
    "\n",
    "image[0 : round(image.shape[0] * 0.8), 0] = 255\n",
    "image[0, 0 : image.shape[1]] = 255\n",
    "image[0 : round(image.shape[0] * 0.5), image.shape[1] - 1] = 255\n",
    "image[round(image.shape[0] * 0.5) - 1, 0 : image.shape[1]] = 255\n",
    "for i in range(round(image.shape[0] * 0.5) - 1, round(image.shape[1] * 0.8)):\n",
    "    image[i, i] = 255\n",
    "\n",
    "# imshow(image)\n",
    "\n",
    "matrix = get_transform_matrix(\n",
    "    rotation=math.pi / 2,\n",
    "    # scaling=(0.7, 0.7),\n",
    "    transformation_origin=(image.shape[0] // 2, image.shape[1] // 2),\n",
    ")"
   ],
   "id": "ca5c60f29775900c",
   "outputs": [],
   "execution_count": 45
  },
  {
   "metadata": {
    "ExecuteTime": {
     "end_time": "2025-03-20T13:54:22.123964Z",
     "start_time": "2025-03-20T13:54:22.120538Z"
    }
   },
   "cell_type": "code",
   "source": "",
   "id": "664ef01d689688a9",
   "outputs": [
    {
     "data": {
      "text/plain": [
       "array([[ 6.123234e-17,  1.000000e+00, -6.123234e-15],\n",
       "       [-1.000000e+00,  6.123234e-17,  1.000000e+02],\n",
       "       [ 0.000000e+00,  0.000000e+00,  1.000000e+00]])"
      ]
     },
     "execution_count": 51,
     "metadata": {},
     "output_type": "execute_result"
    }
   ],
   "execution_count": 51
  },
  {
   "metadata": {
    "ExecuteTime": {
     "end_time": "2025-03-20T13:54:27.607295Z",
     "start_time": "2025-03-20T13:54:27.593862Z"
    }
   },
   "cell_type": "code",
   "source": [
    "transformed = kwimage.warp_affine(\n",
    "    image,\n",
    "    np.vstack([cv2.invertAffineTransform(matrix[:2]), [0, 0, 1]]),\n",
    "    image.shape[::-1],\n",
    "    interpolation=cv2.INTER_LINEAR,\n",
    "    large_warp_dim=\"auto\",\n",
    ")\n",
    "\n",
    "imshow(transformed)"
   ],
   "id": "f78d0c377d6f6d57",
   "outputs": [
    {
     "data": {
      "text/plain": [
       "<Figure size 200x200 with 1 Axes>"
      ],
      "image/png": "[encoded data removed]"
     },
     "metadata": {},
     "output_type": "display_data"
    }
   ],
   "execution_count": 52
  },
  {
   "metadata": {
    "ExecuteTime": {
     "end_time": "2025-03-20T13:54:45.405094Z",
     "start_time": "2025-03-20T13:54:45.389519Z"
    }
   },
   "cell_type": "code",
   "source": [
    "imshow(\n",
    "    cv2.warpAffine(\n",
    "        image,\n",
    "        matrix[:2],\n",
    "        image.shape[::-1],\n",
    "        flags=cv2.INTER_LINEAR | cv2.WARP_INVERSE_MAP,\n",
    "    )\n",
    ")"
   ],
   "id": "d0aa91c134aaa214",
   "outputs": [
    {
     "data": {
      "text/plain": [
       "<Figure size 200x200 with 1 Axes>"
      ],
      "image/png": "[encoded data removed]"
     },
     "metadata": {},
     "output_type": "display_data"
    }
   ],
   "execution_count": 54
  },
  {
   "metadata": {
    "ExecuteTime": {
     "end_time": "2025-03-20T13:41:50.586720Z",
     "start_time": "2025-03-20T13:41:50.572163Z"
    }
   },
   "cell_type": "code",
   "source": [
    "import kwimage\n",
    "\n",
    "imshow(\n",
    "    kwimage.warp_affine(\n",
    "        image,\n",
    "        matrix,\n",
    "        image.shape[::-1],\n",
    "    )\n",
    ")"
   ],
   "id": "a06ff930ef95e4ca",
   "outputs": [
    {
     "data": {
      "text/plain": [
       "<Figure size 200x200 with 1 Axes>"
      ],
      "image/png": "[encoded data removed]"
     },
     "metadata": {},
     "output_type": "display_data"
    }
   ],
   "execution_count": 84
  },
  {
   "metadata": {},
   "cell_type": "markdown",
   "source": "### Splitting",
   "id": "7744679550ada41e"
  },
  {
   "metadata": {
    "ExecuteTime": {
     "end_time": "2025-03-20T13:21:05.396463Z",
     "start_time": "2025-03-20T13:21:05.317327Z"
    }
   },
   "cell_type": "code",
   "source": [
    "tile1 = image[: image.shape[0] // 2, : image.shape[1] // 2]\n",
    "tile2 = image[: image.shape[0] // 2, image.shape[1] // 2 :]\n",
    "tile3 = image[image.shape[0] // 2 :, : image.shape[1] // 2]\n",
    "tile4 = image[image.shape[0] // 2 :, image.shape[1] // 2 :]\n",
    "\n",
    "tile1_warped = cv2.warpAffine(\n",
    "    tile1,\n",
    "    matrix[:2],\n",
    "    tile1.shape[::-1],\n",
    "    flags=cv2.INTER_LINEAR | cv2.WARP_INVERSE_MAP,\n",
    ")\n",
    "tile2_warped = cv2.warpAffine(\n",
    "    tile2,\n",
    "    matrix[:2],\n",
    "    tile2.shape[::-1],\n",
    "    flags=cv2.INTER_LINEAR | cv2.WARP_INVERSE_MAP,\n",
    ")\n",
    "tile3_warped = cv2.warpAffine(\n",
    "    tile3,\n",
    "    matrix[:2],\n",
    "    tile3.shape[::-1],\n",
    "    flags=cv2.INTER_LINEAR | cv2.WARP_INVERSE_MAP,\n",
    ")\n",
    "tile4_warped = cv2.warpAffine(\n",
    "    tile4,\n",
    "    matrix[:2],\n",
    "    tile4.shape[::-1],\n",
    "    flags=cv2.INTER_LINEAR | cv2.WARP_INVERSE_MAP,\n",
    ")\n",
    "\n",
    "imshow(tile1)\n",
    "imshow(tile1_warped)\n",
    "imshow(tile2)\n",
    "imshow(tile2_warped)\n",
    "imshow(tile3)\n",
    "imshow(tile3_warped)\n",
    "imshow(tile4)\n",
    "imshow(tile4_warped)"
   ],
   "id": "3e8cfc222e5b3125",
   "outputs": [
    {
     "data": {
      "text/plain": [
       "<Figure size 200x200 with 1 Axes>"
      ],
      "image/png": "[encoded data removed]"
     },
     "metadata": {},
     "output_type": "display_data"
    },
    {
     "data": {
      "text/plain": [
       "<Figure size 200x200 with 1 Axes>"
      ],
      "image/png": "[encoded data removed]"
     },
     "metadata": {},
     "output_type": "display_data"
    },
    {
     "data": {
      "text/plain": [
       "<Figure size 200x200 with 1 Axes>"
      ],
      "image/png": "[encoded data removed]"
     },
     "metadata": {},
     "output_type": "display_data"
    },
    {
     "data": {
      "text/plain": [
       "<Figure size 200x200 with 1 Axes>"
      ],
      "image/png": "[encoded data removed]"
     },
     "metadata": {},
     "output_type": "display_data"
    },
    {
     "data": {
      "text/plain": [
       "<Figure size 200x200 with 1 Axes>"
      ],
      "image/png": "[encoded data removed]"
     },
     "metadata": {},
     "output_type": "display_data"
    },
    {
     "data": {
      "text/plain": [
       "<Figure size 200x200 with 1 Axes>"
      ],
      "image/png": "[encoded data removed]"
     },
     "metadata": {},
     "output_type": "display_data"
    },
    {
     "data": {
      "text/plain": [
       "<Figure size 200x200 with 1 Axes>"
      ],
      "image/png": "[encoded data removed]"
     },
     "metadata": {},
     "output_type": "display_data"
    },
    {
     "data": {
      "text/plain": [
       "<Figure size 200x200 with 1 Axes>"
      ],
      "image/png": "[encoded data removed]"
     },
     "metadata": {},
     "output_type": "display_data"
    }
   ],
   "execution_count": 71
  }
 ],
 "metadata": {
  "kernelspec": {
   "display_name": "Python 3",
   "language": "python",
   "name": "python3"
  },
  "language_info": {
   "codemirror_mode": {
    "name": "ipython",
    "version": 2
   },
   "file_extension": ".py",
   "mimetype": "text/x-python",
   "name": "python",
   "nbconvert_exporter": "python",
   "pygments_lexer": "ipython2",
   "version": "2.7.6"
  }
 },
 "nbformat": 4,
 "nbformat_minor": 5
}
