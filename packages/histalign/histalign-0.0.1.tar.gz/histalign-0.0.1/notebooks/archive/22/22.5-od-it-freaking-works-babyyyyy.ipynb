{
 "cells": [
  {
   "cell_type": "code",
   "id": "initial_id",
   "metadata": {
    "collapsed": true,
    "ExecuteTime": {
     "end_time": "2024-09-12T11:17:08.658767Z",
     "start_time": "2024-09-12T11:17:06.613540Z"
    }
   },
   "source": "from notebook_helpers import *",
   "outputs": [],
   "execution_count": 1
  },
  {
   "metadata": {
    "ExecuteTime": {
     "end_time": "2024-09-12T11:17:08.663350Z",
     "start_time": "2024-09-12T11:17:08.661279Z"
    }
   },
   "cell_type": "code",
   "source": [
    "project_path = Path(\n",
    "    \"/home/ediun/git/histalign/projects/project_310724_full/project.json\"\n",
    ")\n",
    "alignment_directory = Path(\n",
    "    \"/home/ediun/git/histalign/projects/project_310724_full/7d9af388b0\"\n",
    ")"
   ],
   "id": "d82912c071effd88",
   "outputs": [],
   "execution_count": 2
  },
  {
   "metadata": {
    "ExecuteTime": {
     "end_time": "2024-09-12T11:17:11.328272Z",
     "start_time": "2024-09-12T11:17:08.664664Z"
    }
   },
   "cell_type": "code",
   "source": [
    "project_settings = load_project_settings(project_path)\n",
    "\n",
    "atlas_slicer = VolumeSlicer(\n",
    "    path=get_atlas_path(project_settings.resolution),\n",
    "    resolution=project_settings.resolution,\n",
    "    lazy=False,\n",
    ")\n",
    "atlas_volume_array = atlas_slicer.volume._volume.tonumpy()"
   ],
   "id": "2d5d1071274116a",
   "outputs": [],
   "execution_count": 3
  },
  {
   "metadata": {
    "ExecuteTime": {
     "end_time": "2024-09-12T11:17:52.822555Z",
     "start_time": "2024-09-12T11:17:11.333403Z"
    }
   },
   "cell_type": "code",
   "source": [
    "plane_meshes = []\n",
    "\n",
    "index = 0\n",
    "for file in alignment_directory.iterdir():\n",
    "    if re.fullmatch(ALIGNMENT_FILE_NAME_PATTERN, file.name) is None:\n",
    "        continue\n",
    "\n",
    "    index += 1\n",
    "    print(f\"\\rComputing plane {index}\", end=\"\")\n",
    "\n",
    "    alignment_settings = load_alignment_settings(file)\n",
    "\n",
    "    histology_slice = load_image(alignment_settings.histology_path)\n",
    "\n",
    "    registrator = Registrator(True, True)\n",
    "    registered_slice = registrator.get_forwarded_image(\n",
    "        histology_slice, alignment_settings\n",
    "    )\n",
    "    flattened_registered_slice = registered_slice.flatten()\n",
    "\n",
    "    plane_mesh = atlas_slicer.slice(\n",
    "        alignment_settings.volume_settings, return_mesh=True\n",
    "    )\n",
    "    plane_mesh.pointdata[\"ImageScalars\"] = flattened_registered_slice\n",
    "\n",
    "    plane_meshes.append(plane_mesh)"
   ],
   "id": "d9189a6eb203807f",
   "outputs": [
    {
     "name": "stdout",
     "output_type": "stream",
     "text": [
      "Computing plane 20"
     ]
    }
   ],
   "execution_count": 4
  },
  {
   "metadata": {
    "ExecuteTime": {
     "end_time": "2024-09-12T11:21:13.356652Z",
     "start_time": "2024-09-12T11:19:30.074245Z"
    }
   },
   "cell_type": "code",
   "source": [
    "planes_volume = vedo.Volume(np.zeros_like(atlas_volume_array, dtype=np.uint16))\n",
    "planes_volume.cmap(\n",
    "    \"Blues\", alpha=[0, 1], vmin=0, vmax=np.iinfo(planes_volume.tonumpy().dtype).max\n",
    ")\n",
    "\n",
    "planes_volume_array = planes_volume.tonumpy()\n",
    "\n",
    "for index, mesh in enumerate(plane_meshes):\n",
    "    print(f\"Computing plane {index + 1}\")\n",
    "\n",
    "    start_time = time.perf_counter()\n",
    "    temp_volume = vedo.Volume(np.zeros_like(atlas_volume_array))\n",
    "    print(f\"Created temp_volume in {time.perf_counter() - start_time:.2f}\")\n",
    "    start_time = time.perf_counter()\n",
    "    temp_volume.interpolate_data_from(mesh, radius=1)\n",
    "    print(f\"Interpolated data in {time.perf_counter() - start_time:.2f}\")\n",
    "\n",
    "    start_time = time.perf_counter()\n",
    "    temp_array = temp_volume.tonumpy()\n",
    "    print(f\"Extracted temp_array in {time.perf_counter() - start_time:.2f}\")\n",
    "    start_time = time.perf_counter()\n",
    "    temp_array = np.round(temp_array).astype(np.uint16)\n",
    "    print(f\"Rounded data in {time.perf_counter() - start_time:.2f}\")\n",
    "\n",
    "    start_time = time.perf_counter()\n",
    "    planes_volume_array[:] = np.maximum(planes_volume_array, temp_array)\n",
    "    print(f\"Took maximum of data in {time.perf_counter() - start_time:.2f}\")\n",
    "\n",
    "    print()\n",
    "\n",
    "planes_volume.modified()"
   ],
   "id": "49c16bf9389e2b5f",
   "outputs": [
    {
     "name": "stdout",
     "output_type": "stream",
     "text": [
      "Computing plane 1\n",
      "Created temp_volume in 0.06\n",
      "Interpolated data in 3.53\n",
      "Extracted temp_array in 0.00\n",
      "Rounded data in 1.88\n",
      "Took maximum of data in 0.06\n",
      "\n",
      "Computing plane 2\n",
      "Created temp_volume in 0.06\n",
      "Interpolated data in 3.49\n",
      "Extracted temp_array in 0.00\n",
      "Rounded data in 0.69\n",
      "Took maximum of data in 0.03\n",
      "\n",
      "Computing plane 3\n",
      "Created temp_volume in 0.06\n",
      "Interpolated data in 3.55\n",
      "Extracted temp_array in 0.00\n",
      "Rounded data in 0.20\n",
      "Took maximum of data in 0.06\n",
      "\n",
      "Computing plane 4\n",
      "Created temp_volume in 0.06\n",
      "Interpolated data in 5.44\n",
      "Extracted temp_array in 0.00\n",
      "Rounded data in 0.26\n",
      "Took maximum of data in 0.04\n",
      "\n",
      "Computing plane 5\n",
      "Created temp_volume in 0.06\n",
      "Interpolated data in 5.45\n",
      "Extracted temp_array in 0.00\n",
      "Rounded data in 0.36\n",
      "Took maximum of data in 0.06\n",
      "\n",
      "Computing plane 6\n",
      "Created temp_volume in 0.06\n",
      "Interpolated data in 5.44\n",
      "Extracted temp_array in 0.00\n",
      "Rounded data in 0.18\n",
      "Took maximum of data in 0.06\n",
      "\n",
      "Computing plane 7\n",
      "Created temp_volume in 0.06\n",
      "Interpolated data in 5.39\n",
      "Extracted temp_array in 0.00\n",
      "Rounded data in 0.14\n",
      "Took maximum of data in 0.06\n",
      "\n",
      "Computing plane 8\n",
      "Created temp_volume in 0.06\n",
      "Interpolated data in 3.52\n",
      "Extracted temp_array in 0.00\n",
      "Rounded data in 0.14\n",
      "Took maximum of data in 0.06\n",
      "\n",
      "Computing plane 9\n",
      "Created temp_volume in 0.06\n",
      "Interpolated data in 5.40\n",
      "Extracted temp_array in 0.00\n",
      "Rounded data in 0.12\n",
      "Took maximum of data in 0.04\n",
      "\n",
      "Computing plane 10\n",
      "Created temp_volume in 0.07\n",
      "Interpolated data in 3.54\n",
      "Extracted temp_array in 0.00\n",
      "Rounded data in 0.10\n",
      "Took maximum of data in 0.04\n",
      "\n",
      "Computing plane 11\n",
      "Created temp_volume in 0.07\n",
      "Interpolated data in 5.39\n",
      "Extracted temp_array in 0.00\n",
      "Rounded data in 0.15\n",
      "Took maximum of data in 0.05\n",
      "\n",
      "Computing plane 12\n",
      "Created temp_volume in 0.06\n",
      "Interpolated data in 3.57\n",
      "Extracted temp_array in 0.00\n",
      "Rounded data in 0.11\n",
      "Took maximum of data in 0.06\n",
      "\n",
      "Computing plane 13\n",
      "Created temp_volume in 0.06\n",
      "Interpolated data in 5.38\n",
      "Extracted temp_array in 0.00\n",
      "Rounded data in 0.13\n",
      "Took maximum of data in 0.04\n",
      "\n",
      "Computing plane 14\n",
      "Created temp_volume in 0.08\n",
      "Interpolated data in 3.52\n",
      "Extracted temp_array in 0.00\n",
      "Rounded data in 0.12\n",
      "Took maximum of data in 0.05\n",
      "\n",
      "Computing plane 15\n",
      "Created temp_volume in 0.07\n",
      "Interpolated data in 5.44\n",
      "Extracted temp_array in 0.00\n",
      "Rounded data in 0.12\n",
      "Took maximum of data in 0.04\n",
      "\n",
      "Computing plane 16\n",
      "Created temp_volume in 0.07\n",
      "Interpolated data in 5.43\n",
      "Extracted temp_array in 0.00\n",
      "Rounded data in 0.12\n",
      "Took maximum of data in 0.06\n",
      "\n",
      "Computing plane 17\n",
      "Created temp_volume in 0.06\n",
      "Interpolated data in 3.56\n",
      "Extracted temp_array in 0.00\n",
      "Rounded data in 0.13\n",
      "Took maximum of data in 0.05\n",
      "\n",
      "Computing plane 18\n",
      "Created temp_volume in 0.06\n",
      "Interpolated data in 5.42\n",
      "Extracted temp_array in 0.00\n",
      "Rounded data in 0.13\n",
      "Took maximum of data in 0.06\n",
      "\n",
      "Computing plane 19\n",
      "Created temp_volume in 0.06\n",
      "Interpolated data in 5.42\n",
      "Extracted temp_array in 0.00\n",
      "Rounded data in 0.12\n",
      "Took maximum of data in 0.05\n",
      "\n",
      "Computing plane 20\n",
      "Created temp_volume in 0.06\n",
      "Interpolated data in 5.41\n",
      "Extracted temp_array in 0.00\n",
      "Rounded data in 0.13\n",
      "Took maximum of data in 0.06\n",
      "\n"
     ]
    },
    {
     "data": {
      "text/plain": [
       "<vedo.volume.Volume at 0x7fa53657b010>"
      ],
      "text/html": [
       "<table>\n",
       "<tr>\n",
       "<td>\n",
       "<img src='data:image/png;base64,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'></img>\n",
       "</td>\n",
       "<td style='text-align: center; vertical-align: center;'><br/>\n",
       "<b> Volume: &nbsp&nbsp</b><b><a href=\"https://vedo.embl.es/docs/vedo/volume.html\" target=\"_blank\">vedo.volume.Volume</a></b>\n",
       "<table>\n",
       "<tr><td><b> bounds </b> <br/> (x/y/z) </td><td>0 ... 527.0<br/>0 ... 319.0<br/>0 ... 455.0</td></tr>\n",
       "<tr><td><b> dimensions </b></td><td>(528, 320, 456)</td></tr>\n",
       "<tr><td><b> voxel spacing </b></td><td>(1.00, 1.00, 1.00)</td></tr>\n",
       "<tr><td><b> in memory size </b></td><td>146MB</td></tr>\n",
       "<tr><td><b> point data array </b></td><td>input_scalars</td></tr>\n",
       "\n",
       "<tr><td><b> scalar range </b></td><td>(0, 6.554e+4)</td></tr>\n",
       "</table>\n",
       "</table>"
      ]
     },
     "execution_count": 6,
     "metadata": {},
     "output_type": "execute_result"
    }
   ],
   "execution_count": 6
  },
  {
   "metadata": {
    "ExecuteTime": {
     "end_time": "2024-09-12T11:22:12.906367Z",
     "start_time": "2024-09-12T11:21:33.505176Z"
    }
   },
   "cell_type": "code",
   "source": "show(planes_volume)",
   "id": "ec029be3a74fdaef",
   "outputs": [],
   "execution_count": 7
  }
 ],
 "metadata": {
  "kernelspec": {
   "display_name": "Python 3",
   "language": "python",
   "name": "python3"
  },
  "language_info": {
   "codemirror_mode": {
    "name": "ipython",
    "version": 2
   },
   "file_extension": ".py",
   "mimetype": "text/x-python",
   "name": "python",
   "nbconvert_exporter": "python",
   "pygments_lexer": "ipython2",
   "version": "2.7.6"
  }
 },
 "nbformat": 4,
 "nbformat_minor": 5
}
