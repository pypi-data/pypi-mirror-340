{
 "cells": [
  {
   "metadata": {
    "ExecuteTime": {
     "end_time": "2024-09-12T09:21:40.404676Z",
     "start_time": "2024-09-12T09:21:38.823130Z"
    }
   },
   "cell_type": "code",
   "source": "from notebook_helpers import *",
   "id": "3a61f4fad17cfb77",
   "outputs": [],
   "execution_count": 1
  },
  {
   "cell_type": "code",
   "id": "initial_id",
   "metadata": {
    "collapsed": true,
    "ExecuteTime": {
     "end_time": "2024-09-12T09:21:40.409134Z",
     "start_time": "2024-09-12T09:21:40.406919Z"
    }
   },
   "source": [
    "project_directory = Path(\"/home/ediun/git/histalign/projects/project_310724_full\")\n",
    "project_path = Path(\n",
    "    \"/home/ediun/git/histalign/projects/project_310724_full/project.json\"\n",
    ")\n",
    "alignment_path = Path(\n",
    "    \"/home/ediun/git/histalign/projects/project_310724_full/7d9af388b0/afd5b2648a01ba566e345a2acb10b4fb.json\"\n",
    ")\n",
    "atlas_path = Path(\"/home/ediun/.local/share/histalign/atlases/average_template_25.nrrd\")"
   ],
   "outputs": [],
   "execution_count": 2
  },
  {
   "metadata": {
    "ExecuteTime": {
     "end_time": "2024-09-12T09:21:40.418402Z",
     "start_time": "2024-09-12T09:21:40.410024Z"
    }
   },
   "cell_type": "code",
   "source": "alignment_settings = load_alignment_settings(alignment_path)",
   "id": "3866627302392c5a",
   "outputs": [],
   "execution_count": 3
  },
  {
   "metadata": {
    "ExecuteTime": {
     "end_time": "2024-09-12T09:21:42.201444Z",
     "start_time": "2024-09-12T09:21:40.419547Z"
    }
   },
   "cell_type": "code",
   "source": [
    "atlas_slicer = VolumeSlicer(\n",
    "    path=atlas_path,\n",
    "    resolution=alignment_settings.volume_settings.resolution,\n",
    "    lazy=False,\n",
    ")\n",
    "atlas_volume_array = atlas_slicer.volume._volume.tonumpy()\n",
    "plane_mesh = atlas_slicer.slice(alignment_settings.volume_settings, return_mesh=True)"
   ],
   "id": "105d80e5cfe03551",
   "outputs": [],
   "execution_count": 4
  },
  {
   "metadata": {
    "ExecuteTime": {
     "end_time": "2024-09-12T09:21:46.265122Z",
     "start_time": "2024-09-12T09:21:42.202905Z"
    }
   },
   "cell_type": "code",
   "source": [
    "histology_slice = load_image(alignment_settings.histology_path)\n",
    "\n",
    "registrator = Registrator(True, True)\n",
    "registered_histology_slice = registrator.get_forwarded_image(\n",
    "    histology_slice, alignment_settings\n",
    ")\n",
    "\n",
    "flattened_registered_histology_slice = registered_histology_slice.flatten()"
   ],
   "id": "3d9981d282fe2460",
   "outputs": [],
   "execution_count": 5
  },
  {
   "metadata": {
    "ExecuteTime": {
     "end_time": "2024-09-12T09:21:46.271522Z",
     "start_time": "2024-09-12T09:21:46.266260Z"
    }
   },
   "cell_type": "code",
   "source": "plane_mesh.pointdata[\"ImageScalars\"] = flattened_registered_histology_slice",
   "id": "cad7d957c1c2e7c",
   "outputs": [],
   "execution_count": 6
  },
  {
   "metadata": {
    "ExecuteTime": {
     "end_time": "2024-09-12T09:22:20.456499Z",
     "start_time": "2024-09-12T09:22:16.627740Z"
    }
   },
   "cell_type": "code",
   "source": [
    "plane_volume = vedo.Volume(np.zeros_like(atlas_volume_array))\n",
    "plane_volume.cmap(\n",
    "    \"blue\", alpha=[0, 1], vmin=0, vmax=np.iinfo(histology_slice.dtype).max\n",
    ")\n",
    "_ = plane_volume.interpolate_data_from(plane_mesh, radius=1)"
   ],
   "id": "d69478b5373d348a",
   "outputs": [],
   "execution_count": 10
  },
  {
   "metadata": {
    "ExecuteTime": {
     "end_time": "2024-09-12T09:22:49.978304Z",
     "start_time": "2024-09-12T09:22:47.817720Z"
    }
   },
   "cell_type": "code",
   "source": [
    "temp_array = plane_volume.tonumpy()\n",
    "draw_array_skeleton(temp_array, value=temp_array.max())\n",
    "plane_volume.modified()"
   ],
   "id": "7b5b931b7f5a7f7d",
   "outputs": [
    {
     "data": {
      "text/plain": [
       "<vedo.volume.Volume at 0x7f7d333b5210>"
      ],
      "text/html": [
       "<table>\n",
       "<tr>\n",
       "<td>\n",
       "<img src='data:image/png;base64,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'></img>\n",
       "</td>\n",
       "<td style='text-align: center; vertical-align: center;'><br/>\n",
       "<b> Volume: &nbsp&nbsp</b><b><a href=\"https://vedo.embl.es/docs/vedo/volume.html\" target=\"_blank\">vedo.volume.Volume</a></b>\n",
       "<table>\n",
       "<tr><td><b> bounds </b> <br/> (x/y/z) </td><td>0 ... 527.0<br/>0 ... 319.0<br/>0 ... 455.0</td></tr>\n",
       "<tr><td><b> dimensions </b></td><td>(528, 320, 456)</td></tr>\n",
       "<tr><td><b> voxel spacing </b></td><td>(1.00, 1.00, 1.00)</td></tr>\n",
       "<tr><td><b> in memory size </b></td><td>293MB</td></tr>\n",
       "<tr><td><b> point data array </b></td><td>ImageScalars</td></tr>\n",
       "\n",
       "<tr><td><b> scalar range </b></td><td>(0, 6.551e+4)</td></tr>\n",
       "</table>\n",
       "</table>"
      ]
     },
     "execution_count": 12,
     "metadata": {},
     "output_type": "execute_result"
    }
   ],
   "execution_count": 12
  },
  {
   "metadata": {
    "ExecuteTime": {
     "end_time": "2024-09-12T09:23:10.160135Z",
     "start_time": "2024-09-12T09:22:53.320066Z"
    }
   },
   "cell_type": "code",
   "source": "show([plane_volume])",
   "id": "be5551a1d1a1f42b",
   "outputs": [],
   "execution_count": 13
  }
 ],
 "metadata": {
  "kernelspec": {
   "display_name": "Python 3",
   "language": "python",
   "name": "python3"
  },
  "language_info": {
   "codemirror_mode": {
    "name": "ipython",
    "version": 2
   },
   "file_extension": ".py",
   "mimetype": "text/x-python",
   "name": "python",
   "nbconvert_exporter": "python",
   "pygments_lexer": "ipython2",
   "version": "2.7.6"
  }
 },
 "nbformat": 4,
 "nbformat_minor": 5
}
