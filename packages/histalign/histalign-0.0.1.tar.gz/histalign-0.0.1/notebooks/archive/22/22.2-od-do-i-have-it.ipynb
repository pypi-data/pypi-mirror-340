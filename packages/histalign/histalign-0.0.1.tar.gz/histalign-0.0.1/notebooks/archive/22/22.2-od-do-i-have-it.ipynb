{
 "cells": [
  {
   "cell_type": "code",
   "id": "initial_id",
   "metadata": {
    "collapsed": true,
    "ExecuteTime": {
     "end_time": "2024-09-11T14:23:04.732353Z",
     "start_time": "2024-09-11T14:23:04.730263Z"
    }
   },
   "source": [
    "import numpy as np\n",
    "import vedo\n",
    "\n",
    "from notebook_helpers import *"
   ],
   "outputs": [],
   "execution_count": 143
  },
  {
   "metadata": {
    "ExecuteTime": {
     "end_time": "2024-09-11T14:23:05.195783Z",
     "start_time": "2024-09-11T14:23:04.733362Z"
    }
   },
   "cell_type": "code",
   "source": [
    "array1 = construct_array_skeleton(shape=(500, 300, 400))\n",
    "\n",
    "volume1 = vedo.Volume(array1)\n",
    "volume1.cmap(\"red\", alpha=[0, 1], vmin=0, vmax=255)"
   ],
   "id": "692a34c335dccbaf",
   "outputs": [
    {
     "data": {
      "text/plain": [
       "<vedo.volume.Volume at 0x7f685ea841f0>"
      ],
      "text/html": [
       "<table>\n",
       "<tr>\n",
       "<td>\n",
       "<img src='data:image/png;base64,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'></img>\n",
       "</td>\n",
       "<td style='text-align: center; vertical-align: center;'><br/>\n",
       "<b> Volume: &nbsp&nbsp</b><b><a href=\"https://vedo.embl.es/docs/vedo/volume.html\" target=\"_blank\">vedo.volume.Volume</a></b>\n",
       "<table>\n",
       "<tr><td><b> bounds </b> <br/> (x/y/z) </td><td>0 ... 499.0<br/>0 ... 299.0<br/>0 ... 399.0</td></tr>\n",
       "<tr><td><b> dimensions </b></td><td>(500, 300, 400)</td></tr>\n",
       "<tr><td><b> voxel spacing </b></td><td>(1.00, 1.00, 1.00)</td></tr>\n",
       "<tr><td><b> in memory size </b></td><td>57MB</td></tr>\n",
       "<tr><td><b> point data array </b></td><td>input_scalars</td></tr>\n",
       "\n",
       "<tr><td><b> scalar range </b></td><td>(0, 255.0)</td></tr>\n",
       "</table>\n",
       "</table>"
      ]
     },
     "execution_count": 144,
     "metadata": {},
     "output_type": "execute_result"
    }
   ],
   "execution_count": 144
  },
  {
   "metadata": {
    "ExecuteTime": {
     "end_time": "2024-09-11T14:23:06.503548Z",
     "start_time": "2024-09-11T14:23:05.197041Z"
    }
   },
   "cell_type": "code",
   "source": [
    "volume2 = volume1.clone()\n",
    "volume2.cmap(\"blue\", alpha=[0, 1], vmin=0, vmax=255)\n",
    "\n",
    "pivot = volume2.center()\n",
    "pivot[2] = 0\n",
    "volume2.rotate_x(45, around=pivot, interpolation=\"spline\")"
   ],
   "id": "88415048192be48",
   "outputs": [
    {
     "data": {
      "text/plain": [
       "<vedo.volume.Volume at 0x7f684c1b6b90>"
      ],
      "text/html": [
       "<table>\n",
       "<tr>\n",
       "<td>\n",
       "<img src='data:image/png;base64,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'></img>\n",
       "</td>\n",
       "<td style='text-align: center; vertical-align: center;'><br/>\n",
       "<b> Volume: &nbsp&nbsp</b><b><a href=\"https://vedo.embl.es/docs/vedo/volume.html\" target=\"_blank\">vedo.volume.Volume</a></b>\n",
       "<table>\n",
       "<tr><td><b> bounds </b> <br/> (x/y/z) </td><td>0 ... 499.0<br/>-238.3 ... 255.7<br/>-105.7 ... 388.3</td></tr>\n",
       "<tr><td><b> dimensions </b></td><td>(500, 495, 495)</td></tr>\n",
       "<tr><td><b> voxel spacing </b></td><td>(1.00, 1.00, 1.00)</td></tr>\n",
       "<tr><td><b> in memory size </b></td><td>116MB</td></tr>\n",
       "<tr><td><b> point data array </b></td><td>ImageScalars</td></tr>\n",
       "\n",
       "<tr><td><b> scalar range </b></td><td>(0, 236.0)</td></tr>\n",
       "</table>\n",
       "</table>"
      ]
     },
     "execution_count": 145,
     "metadata": {},
     "output_type": "execute_result"
    }
   ],
   "execution_count": 145
  },
  {
   "metadata": {
    "ExecuteTime": {
     "end_time": "2024-09-11T14:23:07.104267Z",
     "start_time": "2024-09-11T14:23:06.505421Z"
    }
   },
   "cell_type": "code",
   "source": [
    "volume3 = volume2.clone().shift(-volume2.origin())\n",
    "\n",
    "voi = volume1.bounds()\n",
    "voi[2:] += np.linalg.norm(volume3.center() - volume1.center())\n",
    "volume3.crop(VOI=tuple(map(round, voi.tolist())))"
   ],
   "id": "520cb788993fc6be",
   "outputs": [
    {
     "data": {
      "text/plain": [
       "<vedo.volume.Volume at 0x7f684c1b6c20>"
      ],
      "text/html": [
       "<table>\n",
       "<tr>\n",
       "<td>\n",
       "<img src='data:image/png;base64,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'></img>\n",
       "</td>\n",
       "<td style='text-align: center; vertical-align: center;'><br/>\n",
       "<b> Volume: &nbsp&nbsp</b><b><a href=\"https://vedo.embl.es/docs/vedo/volume.html\" target=\"_blank\">vedo.volume.Volume</a></b>\n",
       "<table>\n",
       "<tr><td><b> bounds </b> <br/> (x/y/z) </td><td>0 ... 499.0<br/>108.0 ... 407.0<br/>108.0 ... 494.0</td></tr>\n",
       "<tr><td><b> dimensions </b></td><td>(500, 300, 387)</td></tr>\n",
       "<tr><td><b> voxel spacing </b></td><td>(1.00, 1.00, 1.00)</td></tr>\n",
       "<tr><td><b> in memory size </b></td><td>55MB</td></tr>\n",
       "<tr><td><b> point data array </b></td><td>ImageScalars</td></tr>\n",
       "\n",
       "<tr><td><b> scalar range </b></td><td>(0, 198.0)</td></tr>\n",
       "</table>\n",
       "</table>"
      ]
     },
     "execution_count": 146,
     "metadata": {},
     "output_type": "execute_result"
    }
   ],
   "execution_count": 146
  },
  {
   "metadata": {
    "ExecuteTime": {
     "end_time": "2024-09-11T14:23:07.354001Z",
     "start_time": "2024-09-11T14:23:07.105653Z"
    }
   },
   "cell_type": "code",
   "source": "volume3.shift(-volume3.bounds()[::2])",
   "id": "f8dea24f50ba281c",
   "outputs": [
    {
     "data": {
      "text/plain": [
       "<vedo.volume.Volume at 0x7f684c1b6c20>"
      ],
      "text/html": [
       "<table>\n",
       "<tr>\n",
       "<td>\n",
       "<img src='data:image/png;base64,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'></img>\n",
       "</td>\n",
       "<td style='text-align: center; vertical-align: center;'><br/>\n",
       "<b> Volume: &nbsp&nbsp</b><b><a href=\"https://vedo.embl.es/docs/vedo/volume.html\" target=\"_blank\">vedo.volume.Volume</a></b>\n",
       "<table>\n",
       "<tr><td><b> bounds </b> <br/> (x/y/z) </td><td>0 ... 499.0<br/>0 ... 299.0<br/>0 ... 386.0</td></tr>\n",
       "<tr><td><b> dimensions </b></td><td>(500, 300, 387)</td></tr>\n",
       "<tr><td><b> voxel spacing </b></td><td>(1.00, 1.00, 1.00)</td></tr>\n",
       "<tr><td><b> in memory size </b></td><td>55MB</td></tr>\n",
       "<tr><td><b> point data array </b></td><td>ImageScalars</td></tr>\n",
       "\n",
       "<tr><td><b> scalar range </b></td><td>(0, 198.0)</td></tr>\n",
       "</table>\n",
       "</table>"
      ]
     },
     "execution_count": 147,
     "metadata": {},
     "output_type": "execute_result"
    }
   ],
   "execution_count": 147
  },
  {
   "metadata": {
    "ExecuteTime": {
     "end_time": "2024-09-11T14:23:07.357068Z",
     "start_time": "2024-09-11T14:23:07.355224Z"
    }
   },
   "cell_type": "code",
   "source": [
    "# pivot = volume3.center()\n",
    "# pivot[2] = 0\n",
    "# volume3.rotate_x(-45, around=pivot, interpolation=\"spline\")"
   ],
   "id": "ec3a17770d4ba1b0",
   "outputs": [],
   "execution_count": 148
  },
  {
   "metadata": {
    "ExecuteTime": {
     "end_time": "2024-09-11T14:23:07.594379Z",
     "start_time": "2024-09-11T14:23:07.358039Z"
    }
   },
   "cell_type": "code",
   "source": [
    "draw_array_skeleton(volume3.tonumpy())\n",
    "volume3"
   ],
   "id": "914b749d1b0eb3c5",
   "outputs": [
    {
     "data": {
      "text/plain": [
       "<vedo.volume.Volume at 0x7f684c1b6c20>"
      ],
      "text/html": [
       "<table>\n",
       "<tr>\n",
       "<td>\n",
       "<img src='data:image/png;base64,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'></img>\n",
       "</td>\n",
       "<td style='text-align: center; vertical-align: center;'><br/>\n",
       "<b> Volume: &nbsp&nbsp</b><b><a href=\"https://vedo.embl.es/docs/vedo/volume.html\" target=\"_blank\">vedo.volume.Volume</a></b>\n",
       "<table>\n",
       "<tr><td><b> bounds </b> <br/> (x/y/z) </td><td>0 ... 499.0<br/>0 ... 299.0<br/>0 ... 386.0</td></tr>\n",
       "<tr><td><b> dimensions </b></td><td>(500, 300, 387)</td></tr>\n",
       "<tr><td><b> voxel spacing </b></td><td>(1.00, 1.00, 1.00)</td></tr>\n",
       "<tr><td><b> in memory size </b></td><td>55MB</td></tr>\n",
       "<tr><td><b> point data array </b></td><td>ImageScalars</td></tr>\n",
       "\n",
       "<tr><td><b> scalar range </b></td><td>(0, 198.0)</td></tr>\n",
       "</table>\n",
       "</table>"
      ]
     },
     "execution_count": 149,
     "metadata": {},
     "output_type": "execute_result"
    }
   ],
   "execution_count": 149
  },
  {
   "metadata": {
    "jupyter": {
     "is_executing": true
    },
    "ExecuteTime": {
     "start_time": "2024-09-11T14:23:07.595510Z"
    }
   },
   "cell_type": "code",
   "source": "show([volume1, volume3])",
   "id": "e01e22efdb69d7bf",
   "outputs": [],
   "execution_count": null
  }
 ],
 "metadata": {
  "kernelspec": {
   "display_name": "Python 3",
   "language": "python",
   "name": "python3"
  },
  "language_info": {
   "codemirror_mode": {
    "name": "ipython",
    "version": 2
   },
   "file_extension": ".py",
   "mimetype": "text/x-python",
   "name": "python",
   "nbconvert_exporter": "python",
   "pygments_lexer": "ipython2",
   "version": "2.7.6"
  }
 },
 "nbformat": 4,
 "nbformat_minor": 5
}
