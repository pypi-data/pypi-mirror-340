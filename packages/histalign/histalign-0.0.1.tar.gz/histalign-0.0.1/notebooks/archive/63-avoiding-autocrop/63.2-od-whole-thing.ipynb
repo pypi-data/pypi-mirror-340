{
 "cells": [
  {
   "cell_type": "code",
   "id": "initial_id",
   "metadata": {
    "collapsed": true,
    "ExecuteTime": {
     "end_time": "2025-02-20T19:59:18.343019Z",
     "start_time": "2025-02-20T19:59:17.286806Z"
    }
   },
   "source": [
    "from collections.abc import Sequence\n",
    "\n",
    "import matplotlib.pyplot as plt\n",
    "import numpy as np\n",
    "from scipy.ndimage import rotate\n",
    "from scipy.spatial.transform import Rotation\n",
    "import vedo\n",
    "\n",
    "from histalign.backend.ccf.paths import get_atlas_path\n",
    "from histalign.backend.io import load_volume\n",
    "from histalign.backend.maths import compute_centre, compute_normal_from_raw\n",
    "from histalign.backend.models import (\n",
    "    Orientation,\n",
    "    Resolution,\n",
    ")\n",
    "from histalign.backend.models.errors import InvalidOrientationError\n",
    "\n",
    "vedo.settings.default_backend = \"vtk\""
   ],
   "outputs": [],
   "execution_count": 1
  },
  {
   "metadata": {
    "ExecuteTime": {
     "end_time": "2025-02-20T19:59:18.350285Z",
     "start_time": "2025-02-20T19:59:18.346552Z"
    }
   },
   "cell_type": "code",
   "source": [
    "def imshow(image: np.ndarray) -> None:\n",
    "    _ = plt.figure()\n",
    "\n",
    "    plt.imshow(image)\n",
    "    plt.axis(False)\n",
    "\n",
    "    plt.show()\n",
    "\n",
    "\n",
    "def compute_origin_from_raw(\n",
    "    centre: Sequence[int], offset: int, orientation: Orientation\n",
    ") -> np.ndarray:\n",
    "    if len(centre) != 3:\n",
    "        raise ValueError(f\"Centre should be 3 coordinates. Got {len(centre)}.\")\n",
    "\n",
    "    match orientation:\n",
    "        case Orientation.CORONAL:\n",
    "            origin = [centre[0] + offset, centre[1], centre[2]]\n",
    "        case Orientation.HORIZONTAL:\n",
    "            origin = [centre[0], centre[1] + offset, centre[2]]\n",
    "        case Orientation.SAGITTAL:\n",
    "            origin = [centre[0], centre[1], centre[2] + offset]\n",
    "        case other:\n",
    "            raise InvalidOrientationError(other)\n",
    "\n",
    "    return np.array(origin)\n",
    "\n",
    "\n",
    "def cut_with_plane(plane, origin, normal, height: bool):\n",
    "    shape = plane.metadata[\"shape\"]\n",
    "\n",
    "    plane.cut_with_plane(origin=origin, normal=normal, invert=True)\n",
    "\n",
    "    after = len(plane.points)\n",
    "    if height:\n",
    "        after /= shape[1]\n",
    "    else:\n",
    "        after /= shape[0]\n",
    "\n",
    "    if height:\n",
    "        shape[0] = after\n",
    "    else:\n",
    "        shape[1] = after\n",
    "\n",
    "    print(f\"Updating shape to: {shape}\")\n",
    "    plane.metadata[\"shape\"] = shape"
   ],
   "id": "63fa1a10745270dc",
   "outputs": [],
   "execution_count": 2
  },
  {
   "metadata": {
    "ExecuteTime": {
     "end_time": "2025-02-20T19:59:18.500129Z",
     "start_time": "2025-02-20T19:59:18.399407Z"
    }
   },
   "cell_type": "code",
   "source": [
    "volume = load_volume(get_atlas_path(Resolution.MICRONS_100))\n",
    "\n",
    "orientation = Orientation.CORONAL\n",
    "offset = 66\n",
    "pitch = 25\n",
    "yaw = 25\n",
    "\n",
    "origin = compute_origin_from_raw(\n",
    "    compute_centre(volume.tonumpy().shape), offset, orientation\n",
    ")\n",
    "normal = compute_normal_from_raw(pitch, yaw, orientation).tolist()\n",
    "\n",
    "slice_plane_mesh = volume.slice_plane(origin=origin, normal=normal, autocrop=False)\n",
    "print(slice_plane_mesh.metadata[\"shape\"])\n",
    "\n",
    "display_plane = vedo.Plane(\n",
    "    origin,\n",
    "    compute_normal_from_raw(0, 0, orientation),\n",
    "    s=(max(volume.tonumpy().shape),) * 2,\n",
    ")\n",
    "\n",
    "print(display_plane.bounds())\n",
    "\n",
    "display_plane.rotate(pitch, axis=[0, 0, 1], point=origin)\n",
    "display_plane.rotate(\n",
    "    yaw,\n",
    "    axis=Rotation.from_euler(\"z\", pitch, degrees=True).apply([0, 1, 0]),\n",
    "    point=origin,\n",
    ")\n",
    "display_plane.rotate(\n",
    "    -pitch,\n",
    "    axis=Rotation.from_euler(\"ZY\", [pitch, yaw], degrees=True).apply([1, 0, 0]),\n",
    "    point=origin,\n",
    ")\n",
    "\n",
    "print(display_plane.bounds())\n",
    "\n",
    "normal1 = display_plane.points[0] - display_plane.points[1]\n",
    "normal2 = display_plane.points[1] - display_plane.points[3]\n",
    "normal3 = display_plane.points[3] - display_plane.points[2]\n",
    "normal4 = display_plane.points[2] - display_plane.points[0]\n",
    "\n",
    "print(normal1)\n",
    "print(normal2)\n",
    "print(normal3)\n",
    "print(normal4)\n",
    "\n",
    "new_plane = slice_plane_mesh.copy()\n",
    "\n",
    "cut_with_plane(new_plane, origin + normal1 * 0.5, normal1, height=False)\n",
    "cut_with_plane(new_plane, origin + normal2 * 0.5, normal2, height=True)\n",
    "cut_with_plane(new_plane, origin + normal3 * 0.5, normal3, height=False)\n",
    "cut_with_plane(new_plane, origin + normal4 * 0.5, normal4, height=True)\n",
    "\n",
    "new_plane_array = new_plane.pointdata[\"ImageScalars\"].reshape(\n",
    "    new_plane.metadata[\"shape\"]\n",
    ")\n",
    "new_plane_array = rotate(new_plane_array, pitch, reshape=False)\n",
    "imshow(new_plane_array)"
   ],
   "id": "5ad40e5bc3870775",
   "outputs": [
    {
     "name": "stdout",
     "output_type": "stream",
     "text": [
      "[175 159]\n",
      "[131. 131. -27. 105. -10. 122.]\n",
      "[ 83.914    178.086    -46.193195 124.19319  -23.491457 135.49146 ]\n",
      "[ 22.245926  71.92606  108.42398 ]\n",
      "[ 71.92607  -98.46033   50.558933]\n",
      "[ -22.245934  -71.926056 -108.42398 ]\n",
      "[-71.92606  98.46033 -50.55893]\n",
      "Updating shape to: [175 157]\n",
      "Updating shape to: [175 157]\n",
      "Updating shape to: [175 134]\n",
      "Updating shape to: [118 134]\n"
     ]
    },
    {
     "data": {
      "text/plain": [
       "<Figure size 640x480 with 1 Axes>"
      ],
      "image/png": "[encoded data removed]"
     },
     "metadata": {},
     "output_type": "display_data"
    }
   ],
   "execution_count": 3
  }
 ],
 "metadata": {
  "kernelspec": {
   "display_name": "Python 3",
   "language": "python",
   "name": "python3"
  },
  "language_info": {
   "codemirror_mode": {
    "name": "ipython",
    "version": 2
   },
   "file_extension": ".py",
   "mimetype": "text/x-python",
   "name": "python",
   "nbconvert_exporter": "python",
   "pygments_lexer": "ipython2",
   "version": "2.7.6"
  }
 },
 "nbformat": 4,
 "nbformat_minor": 5
}
