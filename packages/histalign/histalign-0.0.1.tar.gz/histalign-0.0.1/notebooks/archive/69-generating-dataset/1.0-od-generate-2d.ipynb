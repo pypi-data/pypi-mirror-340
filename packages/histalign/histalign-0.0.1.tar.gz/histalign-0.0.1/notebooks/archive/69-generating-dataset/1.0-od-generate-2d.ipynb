{
 "cells": [
  {
   "cell_type": "code",
   "id": "4eae73caa05b7412",
   "metadata": {
    "ExecuteTime": {
     "end_time": "2025-04-04T16:41:36.265789Z",
     "start_time": "2025-04-04T16:41:36.263092Z"
    }
   },
   "source": [
    "from pathlib import Path\n",
    "\n",
    "import h5py\n",
    "import matplotlib.pyplot as plt\n",
    "\n",
    "from histalign.backend.ccf.downloads import download_atlas\n",
    "from histalign.backend.ccf.paths import get_atlas_path\n",
    "from histalign.backend.io import load_volume\n",
    "from histalign.backend.models import (\n",
    "    AlignmentSettings,\n",
    "    HistologySettings,\n",
    "    Orientation,\n",
    "    Resolution,\n",
    "    VolumeSettings,\n",
    ")\n",
    "from histalign.backend.workspace import VolumeSlicer"
   ],
   "outputs": [],
   "execution_count": 34
  },
  {
   "metadata": {
    "ExecuteTime": {
     "end_time": "2025-04-04T16:41:36.330038Z",
     "start_time": "2025-04-04T16:41:36.326862Z"
    }
   },
   "cell_type": "code",
   "source": [
    "orientation = Orientation.CORONAL\n",
    "resolution = Resolution.MICRONS_100\n",
    "\n",
    "match resolution:\n",
    "    case Resolution.MICRONS_100:\n",
    "        shape = [132, 80, 114]\n",
    "    case Resolution.MICRONS_50:\n",
    "        shape = [264, 160, 228]\n",
    "    case Resolution.MICRONS_25:\n",
    "        shape = [528, 320, 456]\n",
    "    case Resolution.MICRONS_10:\n",
    "        shape = [130, 800, 1140]\n",
    "    case _:\n",
    "        raise Exception(\"ASSERT NOT REACHED\")"
   ],
   "id": "f4b8a61785ca7890",
   "outputs": [],
   "execution_count": 35
  },
  {
   "metadata": {
    "collapsed": true,
    "ExecuteTime": {
     "end_time": "2025-04-04T16:41:36.404964Z",
     "start_time": "2025-04-04T16:41:36.379137Z"
    }
   },
   "cell_type": "code",
   "source": [
    "atlas_path = Path(get_atlas_path(resolution))\n",
    "if not atlas_path.exists():\n",
    "    download_atlas(resolution)\n",
    "atlas = load_volume(atlas_path)"
   ],
   "id": "initial_id",
   "outputs": [],
   "execution_count": 36
  },
  {
   "metadata": {
    "ExecuteTime": {
     "end_time": "2025-04-04T16:41:36.428099Z",
     "start_time": "2025-04-04T16:41:36.425632Z"
    }
   },
   "cell_type": "code",
   "source": "slicer = VolumeSlicer(volume=atlas)",
   "id": "65b226964760a17f",
   "outputs": [],
   "execution_count": 37
  },
  {
   "metadata": {
    "ExecuteTime": {
     "end_time": "2025-04-04T16:41:36.543781Z",
     "start_time": "2025-04-04T16:41:36.482421Z"
    }
   },
   "cell_type": "code",
   "source": [
    "match orientation:\n",
    "    case Orientation.CORONAL:\n",
    "        offset = (shape[0] - 1) // 2\n",
    "        indices = list(range(0, shape[0]))\n",
    "    case Orientation.HORIZONTAL:\n",
    "        offset = (shape[1] - 1) // 2\n",
    "        indices = list(range(0, shape[1]))\n",
    "    case Orientation.SAGITTAL:\n",
    "        offset = (shape[2] - 1) // 2\n",
    "        indices = list(range(0, shape[2]))\n",
    "    case _:\n",
    "        raise Exception(\"ASSERT NOT REACHED\")\n",
    "\n",
    "for i in range(1, 11):\n",
    "    index = -offset + indices[::10][i]\n",
    "\n",
    "    settings = AlignmentSettings(\n",
    "        volume_path=atlas_path,\n",
    "        volume_scaling=1,\n",
    "        volume_settings=VolumeSettings(\n",
    "            orientation=orientation,\n",
    "            resolution=resolution,\n",
    "            shape=shape,\n",
    "            pitch=0,\n",
    "            yaw=0,\n",
    "            offset=index,\n",
    "        ),\n",
    "        histology_path=Path(\"/home/ediun/tmp/local/image.h5\"),\n",
    "        histology_scaling=1,\n",
    "        histology_downsampling=1,\n",
    "        histology_settings=HistologySettings(\n",
    "            rotation=0.0,\n",
    "            translation_x=0,\n",
    "            translation_y=0,\n",
    "            scale_x=1.0,\n",
    "            scale_y=1.0,\n",
    "            shear_x=0.0,\n",
    "            shear_y=0.0,\n",
    "        ),\n",
    "    )\n",
    "\n",
    "    image = slicer.slice(settings.volume_settings)\n",
    "\n",
    "    with h5py.File(\n",
    "        f\"/home/ediun/tmp/local/artificial_2d/image{index}.h5\", \"w\"\n",
    "    ) as handle:\n",
    "        handle.create_dataset(data=image, name=\"array\")"
   ],
   "id": "db95496211b17925",
   "outputs": [],
   "execution_count": 38
  },
  {
   "metadata": {
    "ExecuteTime": {
     "end_time": "2025-04-04T16:50:09.110824Z",
     "start_time": "2025-04-04T16:50:09.036039Z"
    }
   },
   "cell_type": "code",
   "source": [
    "match orientation:\n",
    "    case Orientation.CORONAL:\n",
    "        offset = (shape[0] - 1) // 2\n",
    "        indices = list(range(0, shape[0]))\n",
    "    case Orientation.HORIZONTAL:\n",
    "        offset = (shape[1] - 1) // 2\n",
    "        indices = list(range(0, shape[1]))\n",
    "    case Orientation.SAGITTAL:\n",
    "        offset = (shape[2] - 1) // 2\n",
    "        indices = list(range(0, shape[2]))\n",
    "    case _:\n",
    "        raise Exception(\"ASSERT NOT REACHED\")\n",
    "\n",
    "for i in range(1, 11):\n",
    "    index = -offset + indices[::10][i]\n",
    "\n",
    "    settings = AlignmentSettings(\n",
    "        volume_path=atlas_path,\n",
    "        volume_scaling=1,\n",
    "        volume_settings=VolumeSettings(\n",
    "            orientation=orientation,\n",
    "            resolution=resolution,\n",
    "            shape=shape,\n",
    "            pitch=4,\n",
    "            yaw=8,\n",
    "            offset=index,\n",
    "        ),\n",
    "        histology_path=Path(\"/home/ediun/tmp/local/image.h5\"),\n",
    "        histology_scaling=1,\n",
    "        histology_downsampling=1,\n",
    "        histology_settings=HistologySettings(\n",
    "            rotation=0.0,\n",
    "            translation_x=0,\n",
    "            translation_y=0,\n",
    "            scale_x=1.0,\n",
    "            scale_y=1.0,\n",
    "            shear_x=0.0,\n",
    "            shear_y=0.0,\n",
    "        ),\n",
    "    )\n",
    "\n",
    "    image = slicer.slice(settings.volume_settings)\n",
    "\n",
    "    with h5py.File(\n",
    "        f\"/home/ediun/tmp/local/artificial_2d_angled/image{index}.h5\", \"w\"\n",
    "    ) as handle:\n",
    "        handle.create_dataset(data=image, name=\"array\")"
   ],
   "id": "5814adb729c75fd8",
   "outputs": [],
   "execution_count": 39
  }
 ],
 "metadata": {
  "kernelspec": {
   "display_name": "Python 3",
   "language": "python",
   "name": "python3"
  },
  "language_info": {
   "codemirror_mode": {
    "name": "ipython",
    "version": 2
   },
   "file_extension": ".py",
   "mimetype": "text/x-python",
   "name": "python",
   "nbconvert_exporter": "python",
   "pygments_lexer": "ipython2",
   "version": "2.7.6"
  }
 },
 "nbformat": 4,
 "nbformat_minor": 5
}
