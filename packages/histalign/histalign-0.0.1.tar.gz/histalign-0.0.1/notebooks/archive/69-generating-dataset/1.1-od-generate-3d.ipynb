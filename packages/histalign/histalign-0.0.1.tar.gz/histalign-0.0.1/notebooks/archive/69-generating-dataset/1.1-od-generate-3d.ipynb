{
 "cells": [
  {
   "cell_type": "code",
   "id": "initial_id",
   "metadata": {
    "collapsed": true,
    "ExecuteTime": {
     "end_time": "2025-04-04T16:56:00.431418Z",
     "start_time": "2025-04-04T16:55:59.401156Z"
    }
   },
   "source": [
    "from pathlib import Path\n",
    "\n",
    "import h5py\n",
    "import matplotlib.pyplot as plt\n",
    "import numpy as np\n",
    "\n",
    "from histalign.backend.ccf.downloads import download_atlas\n",
    "from histalign.backend.ccf.paths import get_atlas_path\n",
    "from histalign.backend.io import load_volume\n",
    "from histalign.backend.models import (\n",
    "    AlignmentSettings,\n",
    "    HistologySettings,\n",
    "    Orientation,\n",
    "    Resolution,\n",
    "    VolumeSettings,\n",
    ")\n",
    "from histalign.backend.workspace import VolumeSlicer"
   ],
   "outputs": [],
   "execution_count": 1
  },
  {
   "metadata": {
    "ExecuteTime": {
     "end_time": "2025-04-04T16:56:00.437921Z",
     "start_time": "2025-04-04T16:56:00.435670Z"
    }
   },
   "cell_type": "code",
   "source": [
    "orientation = Orientation.CORONAL\n",
    "resolution = Resolution.MICRONS_100\n",
    "\n",
    "match resolution:\n",
    "    case Resolution.MICRONS_100:\n",
    "        shape = [132, 80, 114]\n",
    "    case Resolution.MICRONS_50:\n",
    "        shape = [264, 160, 228]\n",
    "    case Resolution.MICRONS_25:\n",
    "        shape = [528, 320, 456]\n",
    "    case Resolution.MICRONS_10:\n",
    "        shape = [130, 800, 1140]\n",
    "    case _:\n",
    "        raise Exception(\"ASSERT NOT REACHED\")"
   ],
   "id": "11618985afd78848",
   "outputs": [],
   "execution_count": 2
  },
  {
   "metadata": {
    "ExecuteTime": {
     "end_time": "2025-04-04T16:56:00.591735Z",
     "start_time": "2025-04-04T16:56:00.555123Z"
    }
   },
   "cell_type": "code",
   "source": [
    "atlas_path = Path(get_atlas_path(resolution))\n",
    "if not atlas_path.exists():\n",
    "    download_atlas(resolution)\n",
    "atlas = load_volume(atlas_path)"
   ],
   "id": "94298f0850c444d2",
   "outputs": [],
   "execution_count": 3
  },
  {
   "metadata": {
    "ExecuteTime": {
     "end_time": "2025-04-04T16:56:00.608179Z",
     "start_time": "2025-04-04T16:56:00.605845Z"
    }
   },
   "cell_type": "code",
   "source": "slicer = VolumeSlicer(volume=atlas)",
   "id": "e50cb21f1cce444b",
   "outputs": [],
   "execution_count": 4
  },
  {
   "metadata": {
    "ExecuteTime": {
     "end_time": "2025-04-04T16:56:00.722488Z",
     "start_time": "2025-04-04T16:56:00.657490Z"
    }
   },
   "cell_type": "code",
   "source": [
    "match orientation:\n",
    "    case Orientation.CORONAL:\n",
    "        offset = (shape[0] - 1) // 2\n",
    "        indices = list(range(0, shape[0]))\n",
    "    case Orientation.HORIZONTAL:\n",
    "        offset = (shape[1] - 1) // 2\n",
    "        indices = list(range(0, shape[1]))\n",
    "    case Orientation.SAGITTAL:\n",
    "        offset = (shape[2] - 1) // 2\n",
    "        indices = list(range(0, shape[2]))\n",
    "    case _:\n",
    "        raise Exception(\"ASSERT NOT REACHED\")\n",
    "\n",
    "for i in range(1, 11):\n",
    "    index = -offset + indices[::10][i]\n",
    "\n",
    "    settings = AlignmentSettings(\n",
    "        volume_path=atlas_path,\n",
    "        volume_scaling=1,\n",
    "        volume_settings=VolumeSettings(\n",
    "            orientation=orientation,\n",
    "            resolution=resolution,\n",
    "            shape=shape,\n",
    "            pitch=0,\n",
    "            yaw=0,\n",
    "            offset=index,\n",
    "        ),\n",
    "        histology_path=Path(\"/home/ediun/tmp/local/image.h5\"),\n",
    "        histology_scaling=1,\n",
    "        histology_downsampling=1,\n",
    "        histology_settings=HistologySettings(\n",
    "            rotation=0.0,\n",
    "            translation_x=0,\n",
    "            translation_y=0,\n",
    "            scale_x=1.0,\n",
    "            scale_y=1.0,\n",
    "            shear_x=0.0,\n",
    "            shear_y=0.0,\n",
    "        ),\n",
    "    )\n",
    "\n",
    "    image = slicer.slice(settings.volume_settings)\n",
    "\n",
    "    with h5py.File(\n",
    "        f\"/home/ediun/tmp/local/artificial_2d/image{index}.h5\", \"w\"\n",
    "    ) as handle:\n",
    "        handle.create_dataset(data=image, name=\"array\")"
   ],
   "id": "5feeac06465af9e6",
   "outputs": [],
   "execution_count": 5
  },
  {
   "metadata": {
    "ExecuteTime": {
     "end_time": "2025-04-04T16:56:00.986407Z",
     "start_time": "2025-04-04T16:56:00.728370Z"
    }
   },
   "cell_type": "code",
   "source": [
    "match orientation:\n",
    "    case Orientation.CORONAL:\n",
    "        offset = (shape[0] - 1) // 2\n",
    "        indices = list(range(0, shape[0]))\n",
    "    case Orientation.HORIZONTAL:\n",
    "        offset = (shape[1] - 1) // 2\n",
    "        indices = list(range(0, shape[1]))\n",
    "    case Orientation.SAGITTAL:\n",
    "        offset = (shape[2] - 1) // 2\n",
    "        indices = list(range(0, shape[2]))\n",
    "    case _:\n",
    "        raise Exception(\"ASSERT NOT REACHED\")\n",
    "\n",
    "for i in range(1, 11):\n",
    "    index = -offset + indices[::10][i]\n",
    "\n",
    "    images = []\n",
    "    for j in range(-2, 3):\n",
    "        settings = AlignmentSettings(\n",
    "            volume_path=atlas_path,\n",
    "            volume_scaling=1,\n",
    "            volume_settings=VolumeSettings(\n",
    "                orientation=orientation,\n",
    "                resolution=resolution,\n",
    "                shape=shape,\n",
    "                pitch=0,\n",
    "                yaw=0,\n",
    "                offset=index + j,\n",
    "            ),\n",
    "            histology_path=Path(\"/home/ediun/tmp/local/image.h5\"),\n",
    "            histology_scaling=1,\n",
    "            histology_downsampling=1,\n",
    "            histology_settings=HistologySettings(\n",
    "                rotation=0.0,\n",
    "                translation_x=0,\n",
    "                translation_y=0,\n",
    "                scale_x=1.0,\n",
    "                scale_y=1.0,\n",
    "                shear_x=0.0,\n",
    "                shear_y=0.0,\n",
    "            ),\n",
    "        )\n",
    "\n",
    "        images.append(slicer.slice(settings.volume_settings))\n",
    "\n",
    "    stack = np.stack(images)\n",
    "\n",
    "    with h5py.File(\n",
    "        f\"/home/ediun/tmp/local/artificial_3d/image{index}.h5\", \"w\"\n",
    "    ) as handle:\n",
    "        handle.create_dataset(data=stack, name=\"array\")"
   ],
   "id": "87217ec3c47971e5",
   "outputs": [],
   "execution_count": 6
  },
  {
   "metadata": {
    "ExecuteTime": {
     "end_time": "2025-04-04T16:56:15.766872Z",
     "start_time": "2025-04-04T16:56:15.492871Z"
    }
   },
   "cell_type": "code",
   "source": [
    "match orientation:\n",
    "    case Orientation.CORONAL:\n",
    "        offset = (shape[0] - 1) // 2\n",
    "        indices = list(range(0, shape[0]))\n",
    "    case Orientation.HORIZONTAL:\n",
    "        offset = (shape[1] - 1) // 2\n",
    "        indices = list(range(0, shape[1]))\n",
    "    case Orientation.SAGITTAL:\n",
    "        offset = (shape[2] - 1) // 2\n",
    "        indices = list(range(0, shape[2]))\n",
    "    case _:\n",
    "        raise Exception(\"ASSERT NOT REACHED\")\n",
    "\n",
    "for i in range(1, 11):\n",
    "    index = -offset + indices[::10][i]\n",
    "\n",
    "    images = []\n",
    "    for j in range(-2, 3):\n",
    "        settings = AlignmentSettings(\n",
    "            volume_path=atlas_path,\n",
    "            volume_scaling=1,\n",
    "            volume_settings=VolumeSettings(\n",
    "                orientation=orientation,\n",
    "                resolution=resolution,\n",
    "                shape=shape,\n",
    "                pitch=4,\n",
    "                yaw=8,\n",
    "                offset=index + j,\n",
    "            ),\n",
    "            histology_path=Path(\"/home/ediun/tmp/local/image.h5\"),\n",
    "            histology_scaling=1,\n",
    "            histology_downsampling=1,\n",
    "            histology_settings=HistologySettings(\n",
    "                rotation=0.0,\n",
    "                translation_x=0,\n",
    "                translation_y=0,\n",
    "                scale_x=1.0,\n",
    "                scale_y=1.0,\n",
    "                shear_x=0.0,\n",
    "                shear_y=0.0,\n",
    "            ),\n",
    "        )\n",
    "\n",
    "        images.append(slicer.slice(settings.volume_settings))\n",
    "\n",
    "    stack = np.stack(images)\n",
    "\n",
    "    with h5py.File(\n",
    "        f\"/home/ediun/tmp/local/artificial_3d_angled/image{index}.h5\", \"w\"\n",
    "    ) as handle:\n",
    "        handle.create_dataset(data=stack, name=\"array\")"
   ],
   "id": "f4b37a32f5f335ed",
   "outputs": [],
   "execution_count": 7
  }
 ],
 "metadata": {
  "kernelspec": {
   "display_name": "Python 3",
   "language": "python",
   "name": "python3"
  },
  "language_info": {
   "codemirror_mode": {
    "name": "ipython",
    "version": 2
   },
   "file_extension": ".py",
   "mimetype": "text/x-python",
   "name": "python",
   "nbconvert_exporter": "python",
   "pygments_lexer": "ipython2",
   "version": "2.7.6"
  }
 },
 "nbformat": 4,
 "nbformat_minor": 5
}
