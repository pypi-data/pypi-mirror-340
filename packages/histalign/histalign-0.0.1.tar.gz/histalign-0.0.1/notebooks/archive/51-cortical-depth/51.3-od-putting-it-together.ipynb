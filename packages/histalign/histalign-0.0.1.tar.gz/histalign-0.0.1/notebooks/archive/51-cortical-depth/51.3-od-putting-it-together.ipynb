{
 "cells": [
  {
   "metadata": {},
   "cell_type": "markdown",
   "source": [
    "# Measuring cortical depth\n",
    "\n",
    "The idea here is:\n",
    "1. Take the contour of the structure of interest,\n",
    "2. Find the depth of all the points of the contour,\n",
    "3. Apply the registration on the contour so that it ends up on the slice,\n",
    "4. Either (a) look again for the closest points and get those distances or (b) use the same points as in 2 to get an idea of how the depths have changed."
   ],
   "id": "27c1f48f8976116b"
  },
  {
   "metadata": {},
   "cell_type": "markdown",
   "source": "## 0. Preparations",
   "id": "b96eca3c66d4a864"
  },
  {
   "metadata": {},
   "cell_type": "markdown",
   "source": "### Usual suspects",
   "id": "e478704b372b77a0"
  },
  {
   "cell_type": "code",
   "id": "initial_id",
   "metadata": {
    "collapsed": true,
    "ExecuteTime": {
     "end_time": "2024-10-30T15:25:17.440843Z",
     "start_time": "2024-10-30T15:25:13.622162Z"
    }
   },
   "source": [
    "import numpy as np\n",
    "\n",
    "from helper_loader import *"
   ],
   "outputs": [],
   "execution_count": 1
  },
  {
   "metadata": {},
   "cell_type": "markdown",
   "source": "### Load the alignment",
   "id": "dd234b88fdf73603"
  },
  {
   "metadata": {
    "ExecuteTime": {
     "end_time": "2024-10-30T15:25:17.464506Z",
     "start_time": "2024-10-30T15:25:17.452495Z"
    }
   },
   "cell_type": "code",
   "source": [
    "alignment_path = Path(\n",
    "    \"/home/ediun/git/histalign/projects/project_cortical_depth/9f5d5f117d/7b067a31b027506e3b39b5679a5151f9.json\"\n",
    ")\n",
    "alignment_settings = load_alignment_settings(alignment_path)"
   ],
   "id": "97b704b16fb38d9d",
   "outputs": [],
   "execution_count": 2
  },
  {
   "metadata": {},
   "cell_type": "markdown",
   "source": "### Load the image",
   "id": "f891665483c7c59c"
  },
  {
   "metadata": {
    "ExecuteTime": {
     "end_time": "2024-10-30T15:25:18.314994Z",
     "start_time": "2024-10-30T15:25:17.661019Z"
    }
   },
   "cell_type": "code",
   "source": "image = load_image(alignment_settings.histology_path)",
   "id": "dfb5234582f3d1d7",
   "outputs": [],
   "execution_count": 3
  },
  {
   "metadata": {},
   "cell_type": "markdown",
   "source": "## 1. Load the contours",
   "id": "2d1b14da69ec6cda"
  },
  {
   "metadata": {
    "ExecuteTime": {
     "end_time": "2024-10-30T15:25:19.364166Z",
     "start_time": "2024-10-30T15:25:18.334830Z"
    }
   },
   "cell_type": "code",
   "source": [
    "isocortex_volume = load_structure_mask(\n",
    "    \"Isocortex\",\n",
    "    alignment_settings.volume_settings.resolution,\n",
    "    return_raw_array=False,\n",
    ")\n",
    "cortical_structure_volume = load_structure_mask(\n",
    "    \"Primary motor area, Layer 1\",\n",
    "    alignment_settings.volume_settings.resolution,\n",
    "    return_raw_array=False,\n",
    ")"
   ],
   "id": "be1f150a83583741",
   "outputs": [],
   "execution_count": 4
  },
  {
   "metadata": {
    "ExecuteTime": {
     "end_time": "2024-10-30T15:25:19.434765Z",
     "start_time": "2024-10-30T15:25:19.388994Z"
    }
   },
   "cell_type": "code",
   "source": [
    "isocortex_slice = VolumeSlicer(volume=isocortex_volume).slice(\n",
    "    alignment_settings.volume_settings\n",
    ")\n",
    "cortical_structure_slice = VolumeSlicer(volume=cortical_structure_volume).slice(\n",
    "    alignment_settings.volume_settings\n",
    ")"
   ],
   "id": "f944823942cd5749",
   "outputs": [],
   "execution_count": 5
  },
  {
   "metadata": {
    "ExecuteTime": {
     "end_time": "2024-10-30T15:25:19.476259Z",
     "start_time": "2024-10-30T15:25:19.455336Z"
    }
   },
   "cell_type": "code",
   "source": [
    "isocortex_contour = compute_largest_contour(isocortex_slice)\n",
    "cortical_structure_contour = compute_largest_contour(cortical_structure_slice)"
   ],
   "id": "20092bf5ebd70ce6",
   "outputs": [],
   "execution_count": 6
  },
  {
   "metadata": {},
   "cell_type": "markdown",
   "source": "## 2. Find the depths of the cortical structure",
   "id": "8634cb49caa187ae"
  },
  {
   "metadata": {
    "ExecuteTime": {
     "end_time": "2024-10-30T15:25:19.515381Z",
     "start_time": "2024-10-30T15:25:19.503749Z"
    }
   },
   "cell_type": "code",
   "source": [
    "isocortex_points = np.flipud(np.squeeze(isocortex_contour))\n",
    "cortical_structure_points = np.flipud(np.squeeze(cortical_structure_contour))"
   ],
   "id": "86d57fe86be11284",
   "outputs": [],
   "execution_count": 7
  },
  {
   "metadata": {
    "ExecuteTime": {
     "end_time": "2024-10-30T15:25:19.569665Z",
     "start_time": "2024-10-30T15:25:19.554244Z"
    }
   },
   "cell_type": "code",
   "source": [
    "closest_isocortex_points = compute_closest_contour_point(\n",
    "    cortical_structure_points, isocortex_points\n",
    ")"
   ],
   "id": "227b771915b901db",
   "outputs": [],
   "execution_count": 8
  },
  {
   "metadata": {
    "ExecuteTime": {
     "end_time": "2024-10-30T15:25:19.619363Z",
     "start_time": "2024-10-30T15:25:19.606867Z"
    }
   },
   "cell_type": "code",
   "source": [
    "normal_depths = compute_distances_nonisometric_grid(\n",
    "    cortical_structure_points,\n",
    "    closest_isocortex_points,\n",
    "    alignment_settings.volume_settings.resolution,\n",
    "    alignment_settings.volume_settings.resolution,\n",
    ")"
   ],
   "id": "de50def5d7c7f08d",
   "outputs": [],
   "execution_count": 9
  },
  {
   "metadata": {},
   "cell_type": "markdown",
   "source": "## 3. Apply reverse registration on contour(s)",
   "id": "6b8e4b5284947b56"
  },
  {
   "metadata": {
    "ExecuteTime": {
     "end_time": "2024-10-30T15:25:19.673084Z",
     "start_time": "2024-10-30T15:25:19.657969Z"
    }
   },
   "cell_type": "code",
   "source": "np.concatenate([np.array([1, 2]), [3]])",
   "id": "8eb134e50771d24b",
   "outputs": [
    {
     "data": {
      "text/plain": [
       "array([1, 2, 3])"
      ]
     },
     "execution_count": 10,
     "metadata": {},
     "output_type": "execute_result"
    }
   ],
   "execution_count": 10
  },
  {
   "metadata": {
    "ExecuteTime": {
     "end_time": "2024-10-30T15:25:19.760966Z",
     "start_time": "2024-10-30T15:25:19.749631Z"
    }
   },
   "cell_type": "code",
   "source": [
    "def apply_transformation_matrix_to_contour(\n",
    "    transformation_matrix: np.ndarray,\n",
    "    contour: np.ndarray,\n",
    ") -> np.ndarray:\n",
    "    return np.array(\n",
    "        [\n",
    "            np.matmul(transformation_matrix, np.concatenate([point, [1]]))[:2]\n",
    "            for point in contour\n",
    "        ]\n",
    "    )"
   ],
   "id": "e372af62b3792ec6",
   "outputs": [],
   "execution_count": 11
  },
  {
   "metadata": {
    "ExecuteTime": {
     "end_time": "2024-10-30T15:25:19.827291Z",
     "start_time": "2024-10-30T15:25:19.813189Z"
    }
   },
   "cell_type": "code",
   "source": [
    "transformation_matrix = get_transformation_matrix_from_q_transform(\n",
    "    recreate_q_transform_from_alignment(\n",
    "        isocortex_slice.shape,\n",
    "        alignment_settings,\n",
    "        True,\n",
    "    ),\n",
    "    True,\n",
    ")\n",
    "\n",
    "registered_cortical_structure_points = apply_transformation_matrix_to_contour(\n",
    "    transformation_matrix,\n",
    "    cortical_structure_points,\n",
    ")\n",
    "registered_closest_isocortex_points = apply_transformation_matrix_to_contour(\n",
    "    transformation_matrix,\n",
    "    closest_isocortex_points,\n",
    ")"
   ],
   "id": "712ce977959c65b3",
   "outputs": [],
   "execution_count": 12
  },
  {
   "metadata": {
    "ExecuteTime": {
     "end_time": "2024-10-30T15:25:40.712529Z",
     "start_time": "2024-10-30T15:25:40.645737Z"
    }
   },
   "cell_type": "code",
   "source": [
    "tmp_image1 = np.zeros_like(isocortex_slice).astype(np.uint16)\n",
    "for point in registered_cortical_structure_points:\n",
    "    i = round(point[1])\n",
    "    j = round(point[0])\n",
    "    i_slice = slice(i - 1, i + 1)\n",
    "    j_slice = slice(j - 1, j + 1)\n",
    "    tmp_image1[\n",
    "        i_slice,\n",
    "        j_slice,\n",
    "    ] = (\n",
    "        2**16 - 1\n",
    "    )\n",
    "\n",
    "imshow(\n",
    "    tmp_image1,\n",
    "    vmin=0,\n",
    "    vmax=2**16 - 1,\n",
    ")"
   ],
   "id": "2ce74c2f9944f775",
   "outputs": [
    {
     "data": {
      "text/plain": [
       "<Figure size 640x480 with 1 Axes>"
      ],
      "image/png": "[encoded data removed]"
     },
     "metadata": {},
     "output_type": "display_data"
    }
   ],
   "execution_count": 14
  },
  {
   "metadata": {
    "ExecuteTime": {
     "end_time": "2024-10-30T15:25:47.450617Z",
     "start_time": "2024-10-30T15:25:47.436419Z"
    }
   },
   "cell_type": "code",
   "source": "isocortex_points[0]",
   "id": "6b3a6318d653c709",
   "outputs": [
    {
     "data": {
      "text/plain": [
       "array([301,  36], dtype=int32)"
      ]
     },
     "execution_count": 15,
     "metadata": {},
     "output_type": "execute_result"
    }
   ],
   "execution_count": 15
  },
  {
   "metadata": {
    "ExecuteTime": {
     "end_time": "2024-10-30T15:25:47.589618Z",
     "start_time": "2024-10-30T15:25:47.578034Z"
    }
   },
   "cell_type": "code",
   "source": "closest_isocortex_points[0]",
   "id": "744e345e9b6dea5a",
   "outputs": [
    {
     "data": {
      "text/plain": [
       "array([168,  84], dtype=int32)"
      ]
     },
     "execution_count": 16,
     "metadata": {},
     "output_type": "execute_result"
    }
   ],
   "execution_count": 16
  },
  {
   "metadata": {
    "ExecuteTime": {
     "end_time": "2024-10-30T15:25:55.986261Z",
     "start_time": "2024-10-30T15:25:55.973357Z"
    }
   },
   "cell_type": "code",
   "source": "registered_cortical_structure_points[10]",
   "id": "3dab5654cdfa8ba4",
   "outputs": [
    {
     "data": {
      "text/plain": [
       "array([120.253123,  47.533809])"
      ]
     },
     "execution_count": 18,
     "metadata": {},
     "output_type": "execute_result"
    }
   ],
   "execution_count": 18
  },
  {
   "metadata": {
    "ExecuteTime": {
     "end_time": "2024-10-30T15:25:56.100728Z",
     "start_time": "2024-10-30T15:25:56.087077Z"
    }
   },
   "cell_type": "code",
   "source": "registered_closest_isocortex_points[10]",
   "id": "a4d8aa62a8db5f3f",
   "outputs": [
    {
     "data": {
      "text/plain": [
       "array([116.743687,  43.029184])"
      ]
     },
     "execution_count": 19,
     "metadata": {},
     "output_type": "execute_result"
    }
   ],
   "execution_count": 19
  },
  {
   "metadata": {
    "ExecuteTime": {
     "end_time": "2024-10-30T15:28:42.012622Z",
     "start_time": "2024-10-30T15:28:41.964287Z"
    }
   },
   "cell_type": "code",
   "source": [
    "registered_depths = compute_distances_nonisometric_grid(\n",
    "    registered_cortical_structure_points,\n",
    "    registered_closest_isocortex_points,\n",
    "    alignment_settings.volume_settings.resolution\n",
    "    / alignment_settings.histology_settings.scale_x,\n",
    "    alignment_settings.volume_settings.resolution\n",
    "    / alignment_settings.histology_settings.scale_y,\n",
    ")\n",
    "plt.boxplot([normal_depths, registered_depths]);"
   ],
   "id": "f32da27c0b34ca1b",
   "outputs": [
    {
     "data": {
      "text/plain": [
       "<Figure size 640x480 with 1 Axes>"
      ],
      "image/png": "[encoded data removed]"
     },
     "metadata": {},
     "output_type": "display_data"
    }
   ],
   "execution_count": 35
  },
  {
   "metadata": {
    "ExecuteTime": {
     "end_time": "2024-10-30T15:26:55.161987Z",
     "start_time": "2024-10-30T15:26:53.206364Z"
    }
   },
   "cell_type": "code",
   "source": [
    "tmp_image1 = np.zeros(\n",
    "    shape=np.round(\n",
    "        np.array(isocortex_slice.shape)\n",
    "        * Registrator._get_volume_scaling_factor(alignment_settings)\n",
    "    )\n",
    "    .astype(np.uint16)\n",
    "    .tolist()\n",
    ").astype(np.uint16)\n",
    "# tmp_image1 = image.copy()\n",
    "for point in registered_cortical_structure_points:\n",
    "    i = round(point[1] * Registrator._get_volume_scaling_factor(alignment_settings))\n",
    "    j = round(point[0] * Registrator._get_volume_scaling_factor(alignment_settings))\n",
    "    i_slice = slice(i - 10, i + 10)\n",
    "    j_slice = slice(j - 10, j + 10)\n",
    "    tmp_image1[\n",
    "        i_slice,\n",
    "        j_slice,\n",
    "    ] = (\n",
    "        2**16 - 1\n",
    "    )\n",
    "\n",
    "imshow(\n",
    "    tmp_image1,\n",
    "    vmin=0,\n",
    "    vmax=2**16 - 1,\n",
    ")"
   ],
   "id": "8d93a5fee14848b6",
   "outputs": [
    {
     "data": {
      "text/plain": [
       "<Figure size 640x480 with 1 Axes>"
      ],
      "image/png": "[encoded data removed]"
     },
     "metadata": {},
     "output_type": "display_data"
    }
   ],
   "execution_count": 24
  },
  {
   "metadata": {
    "ExecuteTime": {
     "end_time": "2024-10-30T15:26:57.172953Z",
     "start_time": "2024-10-30T15:26:57.119994Z"
    }
   },
   "cell_type": "code",
   "source": [
    "tmp_image1 = np.zeros_like(isocortex_slice).astype(np.uint16)\n",
    "for point in isocortex_points:\n",
    "    i = round(point[1])\n",
    "    j = round(point[0])\n",
    "    i_slice = slice(i - 1, i + 1)\n",
    "    j_slice = slice(j - 1, j + 1)\n",
    "    tmp_image1[\n",
    "        i_slice,\n",
    "        j_slice,\n",
    "    ] = (\n",
    "        2**16 - 1\n",
    "    )\n",
    "\n",
    "imshow(tmp_image1, vmin=0, vmax=2**16 - 1)"
   ],
   "id": "2f337e5ec7fde65c",
   "outputs": [
    {
     "data": {
      "text/plain": [
       "<Figure size 640x480 with 1 Axes>"
      ],
      "image/png": "[encoded data removed]"
     },
     "metadata": {},
     "output_type": "display_data"
    }
   ],
   "execution_count": 25
  }
 ],
 "metadata": {
  "kernelspec": {
   "display_name": "Python 3",
   "language": "python",
   "name": "python3"
  },
  "language_info": {
   "codemirror_mode": {
    "name": "ipython",
    "version": 2
   },
   "file_extension": ".py",
   "mimetype": "text/x-python",
   "name": "python",
   "nbconvert_exporter": "python",
   "pygments_lexer": "ipython2",
   "version": "2.7.6"
  }
 },
 "nbformat": 4,
 "nbformat_minor": 5
}
