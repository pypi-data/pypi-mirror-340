{
 "cells": [
  {
   "metadata": {},
   "cell_type": "markdown",
   "source": "### Usual suspects",
   "id": "fef30e2b5eb2b302"
  },
  {
   "cell_type": "code",
   "id": "initial_id",
   "metadata": {
    "collapsed": true,
    "ExecuteTime": {
     "end_time": "2024-11-06T13:27:20.262143Z",
     "start_time": "2024-11-06T13:27:19.772744Z"
    }
   },
   "source": [
    "from helper_loader import *\n",
    "\n",
    "set_logging_level(logging.WARNING)"
   ],
   "outputs": [],
   "execution_count": 2
  },
  {
   "metadata": {},
   "cell_type": "markdown",
   "source": "### Load image and alignment settings",
   "id": "f30fe9c34e4dc769"
  },
  {
   "metadata": {
    "ExecuteTime": {
     "end_time": "2024-11-06T13:27:21.939994Z",
     "start_time": "2024-11-06T13:27:21.915548Z"
    }
   },
   "cell_type": "code",
   "source": [
    "alignment_path = Path(\n",
    "    \"/home/ediun/git/histalign/projects/project_cortical_depth/9f5d5f117d/7b067a31b027506e3b39b5679a5151f9.json\"\n",
    ")\n",
    "alignment_settings = load_alignment_settings(alignment_path)"
   ],
   "id": "2f079fc28f719521",
   "outputs": [],
   "execution_count": 3
  },
  {
   "metadata": {
    "ExecuteTime": {
     "end_time": "2024-11-06T13:27:23.562505Z",
     "start_time": "2024-11-06T13:27:23.363735Z"
    }
   },
   "cell_type": "code",
   "source": "image = load_image(alignment_settings.histology_path)",
   "id": "4dbe56d27cf3df69",
   "outputs": [],
   "execution_count": 4
  },
  {
   "metadata": {},
   "cell_type": "markdown",
   "source": "### Load masks and contours",
   "id": "682683f19816961b"
  },
  {
   "metadata": {
    "ExecuteTime": {
     "end_time": "2024-11-06T13:27:26.150172Z",
     "start_time": "2024-11-06T13:27:25.230247Z"
    }
   },
   "cell_type": "code",
   "source": [
    "isocortex_volume = load_structure_mask(\n",
    "    \"Isocortex\",\n",
    "    alignment_settings.volume_settings.resolution,\n",
    "    return_raw_array=False,\n",
    ")\n",
    "cortical_structure_volume = load_structure_mask(\n",
    "    \"Primary motor area, Layer 1\",\n",
    "    alignment_settings.volume_settings.resolution,\n",
    "    return_raw_array=False,\n",
    ")\n",
    "\n",
    "isocortex_slice = VolumeSlicer(volume=isocortex_volume).slice(\n",
    "    alignment_settings.volume_settings\n",
    ")\n",
    "cortical_structure_slice = VolumeSlicer(volume=cortical_structure_volume).slice(\n",
    "    alignment_settings.volume_settings\n",
    ")\n",
    "\n",
    "isocortex_contour = compute_largest_contour(isocortex_slice)\n",
    "cortical_structure_contour = compute_largest_contour(cortical_structure_slice)"
   ],
   "id": "5c16f857bc98143",
   "outputs": [],
   "execution_count": 5
  },
  {
   "metadata": {},
   "cell_type": "markdown",
   "source": "### Compute baseline depths of target structure",
   "id": "c5bfe583124e594e"
  },
  {
   "metadata": {
    "ExecuteTime": {
     "end_time": "2024-11-06T13:27:27.850376Z",
     "start_time": "2024-11-06T13:27:27.823368Z"
    }
   },
   "cell_type": "code",
   "source": [
    "isocortex_points = np.flipud(np.squeeze(isocortex_contour))\n",
    "cortical_structure_points = np.flipud(np.squeeze(cortical_structure_contour))\n",
    "\n",
    "closest_isocortex_points = compute_closest_contour_point(\n",
    "    cortical_structure_points, isocortex_points\n",
    ")\n",
    "\n",
    "baseline_depths = compute_distances_nonisometric_grid(\n",
    "    cortical_structure_points,\n",
    "    closest_isocortex_points,\n",
    "    alignment_settings.volume_settings.resolution,\n",
    "    alignment_settings.volume_settings.resolution,\n",
    ")"
   ],
   "id": "2ffccea2a41dbcb2",
   "outputs": [],
   "execution_count": 6
  },
  {
   "metadata": {},
   "cell_type": "markdown",
   "source": "### Apply reverse registration on contour points",
   "id": "9498ffd9e6f19e83"
  },
  {
   "metadata": {
    "ExecuteTime": {
     "end_time": "2024-11-06T13:27:30.162898Z",
     "start_time": "2024-11-06T13:27:30.133490Z"
    }
   },
   "cell_type": "code",
   "source": [
    "transformation_matrix = get_transformation_matrix_from_q_transform(\n",
    "    recreate_q_transform_from_alignment(\n",
    "        isocortex_slice.shape,\n",
    "        alignment_settings,\n",
    "        True,\n",
    "    ),\n",
    "    True,\n",
    ")\n",
    "\n",
    "registered_cortical_structure_points = apply_transformation_matrix_to_contour(\n",
    "    transformation_matrix,\n",
    "    cortical_structure_points,\n",
    ")\n",
    "registered_closest_isocortex_points = apply_transformation_matrix_to_contour(\n",
    "    transformation_matrix,\n",
    "    closest_isocortex_points,\n",
    ")"
   ],
   "id": "778e8c9ea5329555",
   "outputs": [],
   "execution_count": 7
  },
  {
   "metadata": {},
   "cell_type": "markdown",
   "source": "### Compute registered depths of target structure",
   "id": "4614e506f11169fb"
  },
  {
   "metadata": {
    "ExecuteTime": {
     "end_time": "2024-11-06T13:27:33.181745Z",
     "start_time": "2024-11-06T13:27:33.167090Z"
    }
   },
   "cell_type": "code",
   "source": [
    "registered_depths = compute_distances_nonisometric_grid(\n",
    "    registered_cortical_structure_points,\n",
    "    registered_closest_isocortex_points,\n",
    "    alignment_settings.volume_settings.resolution\n",
    "    / alignment_settings.histology_settings.scale_x,\n",
    "    alignment_settings.volume_settings.resolution\n",
    "    / alignment_settings.histology_settings.scale_y,\n",
    ")"
   ],
   "id": "55c5f0cfe140f909",
   "outputs": [],
   "execution_count": 8
  },
  {
   "metadata": {},
   "cell_type": "markdown",
   "source": "### Visualise results",
   "id": "6e947bfa853d664"
  },
  {
   "metadata": {
    "ExecuteTime": {
     "end_time": "2024-11-06T13:27:37.842032Z",
     "start_time": "2024-11-06T13:27:37.667661Z"
    }
   },
   "cell_type": "code",
   "source": [
    "plt.suptitle(\"Baseline vs registered cortical depths\")\n",
    "sns.boxplot([baseline_depths, registered_depths])\n",
    "plt.xticks([0, 1], [\"Baseline\", \"Registered\"])\n",
    "plt.show();"
   ],
   "id": "e21d1ba245fc4e56",
   "outputs": [
    {
     "data": {
      "text/plain": [
       "<Figure size 640x480 with 1 Axes>"
      ],
      "image/png": "[encoded data removed]"
     },
     "metadata": {},
     "output_type": "display_data"
    }
   ],
   "execution_count": 9
  },
  {
   "metadata": {
    "ExecuteTime": {
     "end_time": "2024-11-06T13:27:39.903517Z",
     "start_time": "2024-11-06T13:27:39.890486Z"
    }
   },
   "cell_type": "code",
   "source": [
    "nonzero_indices = baseline_depths.nonzero()\n",
    "\n",
    "clipped_baseline_depths = baseline_depths[nonzero_indices]\n",
    "clipped_registered_depths = registered_depths[nonzero_indices]"
   ],
   "id": "6722e113a9ba986",
   "outputs": [],
   "execution_count": 10
  },
  {
   "metadata": {
    "ExecuteTime": {
     "end_time": "2024-11-06T13:27:41.068202Z",
     "start_time": "2024-11-06T13:27:40.985358Z"
    }
   },
   "cell_type": "code",
   "source": [
    "plt.suptitle(\"Baseline vs registered cortical depths (ignoring 0-depth in baseline)\")\n",
    "plot = sns.boxplot([clipped_baseline_depths, clipped_registered_depths])\n",
    "plt.xticks([0, 1], [\"Baseline\", \"Registered\"])\n",
    "plot.set_ylabel(\"Cortical depth (μm)\")\n",
    "plt.show();"
   ],
   "id": "fabbc8105a348dee",
   "outputs": [
    {
     "data": {
      "text/plain": [
       "<Figure size 640x480 with 1 Axes>"
      ],
      "image/png": "[encoded data removed]"
     },
     "metadata": {},
     "output_type": "display_data"
    }
   ],
   "execution_count": 11
  }
 ],
 "metadata": {
  "kernelspec": {
   "display_name": "Python 3",
   "language": "python",
   "name": "python3"
  },
  "language_info": {
   "codemirror_mode": {
    "name": "ipython",
    "version": 2
   },
   "file_extension": ".py",
   "mimetype": "text/x-python",
   "name": "python",
   "nbconvert_exporter": "python",
   "pygments_lexer": "ipython2",
   "version": "2.7.6"
  }
 },
 "nbformat": 4,
 "nbformat_minor": 5
}
