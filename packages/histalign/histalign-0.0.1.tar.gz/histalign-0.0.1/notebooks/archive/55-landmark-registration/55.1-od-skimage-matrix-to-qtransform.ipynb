{
 "cells": [
  {
   "cell_type": "code",
   "id": "initial_id",
   "metadata": {
    "collapsed": true,
    "ExecuteTime": {
     "end_time": "2024-12-10T14:57:01.902212Z",
     "start_time": "2024-12-10T14:57:01.852822Z"
    }
   },
   "source": [
    "import math\n",
    "\n",
    "import numpy as np\n",
    "from skimage import transform\n",
    "from PySide6 import QtGui"
   ],
   "outputs": [],
   "execution_count": 24
  },
  {
   "metadata": {
    "ExecuteTime": {
     "end_time": "2024-12-10T15:24:07.620349Z",
     "start_time": "2024-12-10T15:24:07.616235Z"
    }
   },
   "cell_type": "code",
   "source": [
    "def q_transform_to_matrix(q_transform: QtGui.QTransform) -> np.ndarray:\n",
    "    return np.array(\n",
    "        [\n",
    "            [q_transform.m11(), q_transform.m21(), q_transform.m31()],\n",
    "            [q_transform.m12(), q_transform.m22(), q_transform.m32()],\n",
    "            [q_transform.m13(), q_transform.m23(), q_transform.m33()],\n",
    "        ]\n",
    "    )\n",
    "\n",
    "\n",
    "def get_transforms_from_parameters(\n",
    "    scale: tuple[float, float] = (1.0, 1.0),\n",
    "    rotation: float = 0.0,\n",
    "    shear: tuple[float, float] = (0.0, 0.0),\n",
    "    translation: tuple[float, float] = (0.0, 0.0),\n",
    ") -> tuple[transform.AffineTransform, QtGui.QTransform]:\n",
    "    # `transform.AffineTransform` uses shearing angles instead of coordinate shift.\n",
    "    # The angles are also clockwise, hence the `* -1`.\n",
    "    shear_angles = tuple(\n",
    "        (\n",
    "            math.acos(100 / math.sqrt(100**2 + (shear[0] * 100) ** 2) * -1),\n",
    "            math.acos(100 / math.sqrt(100**2 + (shear[1] * 100) ** 2) * -1),\n",
    "        )\n",
    "    )\n",
    "    sk_transform = transform.AffineTransform(\n",
    "        scale=scale, rotation=rotation, shear=shear_angles, translation=translation\n",
    "    )\n",
    "\n",
    "    q_transform = (\n",
    "        QtGui.QTransform()\n",
    "        .scale(*scale)\n",
    "        .rotate(rotation)\n",
    "        .shear(*shear)\n",
    "        .translate(*translation)\n",
    "    )\n",
    "\n",
    "    return sk_transform, q_transform\n",
    "\n",
    "\n",
    "def convert_skimage_transform_to_q_transform(\n",
    "    transformation: transform.AffineTransform,\n",
    ") -> QtGui.QTransform:\n",
    "    q_transform = QtGui.QTransform()\n",
    "    q_transform.setMatrix(*transformation.params.T.flatten().tolist())\n",
    "\n",
    "    return q_transform"
   ],
   "id": "e6fab49ae2d739da",
   "outputs": [],
   "execution_count": 87
  },
  {
   "metadata": {
    "ExecuteTime": {
     "end_time": "2024-12-10T15:35:07.193541Z",
     "start_time": "2024-12-10T15:35:07.190771Z"
    }
   },
   "cell_type": "code",
   "source": "a, b = get_transforms_from_parameters(shear=(1, 1))",
   "id": "30523e7dabbb8375",
   "outputs": [],
   "execution_count": 95
  },
  {
   "metadata": {
    "ExecuteTime": {
     "end_time": "2024-12-10T15:35:08.295992Z",
     "start_time": "2024-12-10T15:35:08.292647Z"
    }
   },
   "cell_type": "code",
   "source": "a.params",
   "id": "b7e05bbf6b3b5c5c",
   "outputs": [
    {
     "data": {
      "text/plain": [
       "array([[1., 1., 0.],\n",
       "       [1., 1., 0.],\n",
       "       [0., 0., 1.]])"
      ]
     },
     "execution_count": 97,
     "metadata": {},
     "output_type": "execute_result"
    }
   ],
   "execution_count": 97
  },
  {
   "metadata": {
    "ExecuteTime": {
     "end_time": "2024-12-10T15:35:09.522107Z",
     "start_time": "2024-12-10T15:35:09.518672Z"
    }
   },
   "cell_type": "code",
   "source": "q_transform_to_matrix(b)",
   "id": "394b0b6dc78828d2",
   "outputs": [
    {
     "data": {
      "text/plain": [
       "array([[1., 1., 0.],\n",
       "       [1., 1., 0.],\n",
       "       [0., 0., 1.]])"
      ]
     },
     "execution_count": 98,
     "metadata": {},
     "output_type": "execute_result"
    }
   ],
   "execution_count": 98
  }
 ],
 "metadata": {
  "kernelspec": {
   "display_name": "Python 3",
   "language": "python",
   "name": "python3"
  },
  "language_info": {
   "codemirror_mode": {
    "name": "ipython",
    "version": 2
   },
   "file_extension": ".py",
   "mimetype": "text/x-python",
   "name": "python",
   "nbconvert_exporter": "python",
   "pygments_lexer": "ipython2",
   "version": "2.7.6"
  }
 },
 "nbformat": 4,
 "nbformat_minor": 5
}
