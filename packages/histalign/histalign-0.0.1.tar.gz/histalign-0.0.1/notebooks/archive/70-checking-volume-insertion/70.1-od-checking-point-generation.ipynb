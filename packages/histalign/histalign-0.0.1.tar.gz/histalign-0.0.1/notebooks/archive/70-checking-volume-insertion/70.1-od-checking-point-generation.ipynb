{
 "cells": [
  {
   "cell_type": "code",
   "id": "initial_id",
   "metadata": {
    "collapsed": true,
    "ExecuteTime": {
     "end_time": "2025-04-07T13:54:17.825619Z",
     "start_time": "2025-04-07T13:54:17.822633Z"
    }
   },
   "source": [
    "import matplotlib.pyplot as plt\n",
    "import numpy as np\n",
    "from scipy.spatial.distance import euclidean\n",
    "import vedo\n",
    "\n",
    "from histalign.backend.ccf.paths import get_atlas_path\n",
    "from histalign.backend.io import load_volume\n",
    "from histalign.backend.maths import compute_centre\n",
    "from histalign.backend.models import Resolution\n",
    "\n",
    "vedo.settings.default_backend = \"vtk\""
   ],
   "outputs": [],
   "execution_count": 271
  },
  {
   "metadata": {
    "ExecuteTime": {
     "end_time": "2025-04-07T13:54:17.880126Z",
     "start_time": "2025-04-07T13:54:17.876566Z"
    }
   },
   "cell_type": "code",
   "source": [
    "def imshow(image):\n",
    "    plt.imshow(image)\n",
    "    plt.axis(False)\n",
    "    plt.show()\n",
    "\n",
    "\n",
    "def show(data):\n",
    "    vedo.show(data, axes=2, interactive=False).interactive().close()\n",
    "\n",
    "\n",
    "def generate_points(plane, shape):\n",
    "    origin = plane.points[0]\n",
    "\n",
    "    normal1 = (plane.points[0] - plane.points[1]) / shape[0]\n",
    "    normal2 = (plane.points[3] - plane.points[1]) / shape[1]\n",
    "\n",
    "    xi, yi = np.meshgrid(\n",
    "        np.linspace(0, shape[0], shape[0], endpoint=False),\n",
    "        np.linspace(0, shape[1], shape[1], endpoint=False),\n",
    "    )\n",
    "\n",
    "    points = np.vstack([xi.ravel(), yi.ravel()])\n",
    "    points = np.dot(np.vstack((normal1, normal2)).T, points).T\n",
    "\n",
    "    points = origin + points\n",
    "\n",
    "    return vedo.Points(points)\n",
    "\n",
    "\n",
    "def magnitude(v):\n",
    "    return np.sqrt(np.sum(np.array(v) ** 2))"
   ],
   "id": "4760546882a74868",
   "outputs": [],
   "execution_count": 272
  },
  {
   "metadata": {
    "ExecuteTime": {
     "end_time": "2025-04-07T13:54:17.957154Z",
     "start_time": "2025-04-07T13:54:17.926938Z"
    }
   },
   "cell_type": "code",
   "source": [
    "atlas = get_atlas_path(Resolution.MICRONS_100)\n",
    "atlas = load_volume(atlas)"
   ],
   "id": "94c0e7c2604f22c2",
   "outputs": [],
   "execution_count": 273
  },
  {
   "metadata": {
    "ExecuteTime": {
     "end_time": "2025-04-07T13:54:17.997814Z",
     "start_time": "2025-04-07T13:54:17.976601Z"
    }
   },
   "cell_type": "code",
   "source": [
    "shape = (6, 6, 6)\n",
    "centre = (np.array(shape) - 1) / 2\n",
    "image_centre = np.hstack(\n",
    "    (((np.array(shape) - 1) // 2)[0], ((np.array(shape) - 1) // 2)[1:])\n",
    ")\n",
    "\n",
    "# array = np.arange(np.prod(shape), dtype=np.uint16).reshape(shape)\n",
    "array = np.random.randint(0, 255, np.prod(shape), dtype=np.uint8).reshape(shape)\n",
    "# array = np.stack([np.ones(shape[1:]) + i for i in range(shape[0])])\n",
    "volume = vedo.Volume(array)"
   ],
   "id": "308a4166233c749f",
   "outputs": [],
   "execution_count": 274
  },
  {
   "metadata": {
    "ExecuteTime": {
     "end_time": "2025-04-07T13:54:18.039551Z",
     "start_time": "2025-04-07T13:54:18.035142Z"
    }
   },
   "cell_type": "code",
   "source": "mesh = volume.slice_plane(centre, (-1, 0, 0), mode=\"nearest\")",
   "id": "8aa1e9949922435e",
   "outputs": [],
   "execution_count": 275
  },
  {
   "metadata": {
    "ExecuteTime": {
     "end_time": "2025-04-07T13:54:18.092503Z",
     "start_time": "2025-04-07T13:54:18.087486Z"
    }
   },
   "cell_type": "code",
   "source": [
    "plane = vedo.Plane(centre, (-1, 0, 0), s=np.array(shape[1:]) - 1, c=\"blue\")\n",
    "\n",
    "points = generate_points(plane, shape[1:])"
   ],
   "id": "7204df393d64c6c8",
   "outputs": [],
   "execution_count": 276
  },
  {
   "metadata": {
    "ExecuteTime": {
     "end_time": "2025-04-07T13:54:18.141595Z",
     "start_time": "2025-04-07T13:54:18.137519Z"
    }
   },
   "cell_type": "code",
   "source": "points.points",
   "id": "a153bcb357e7a4dd",
   "outputs": [
    {
     "data": {
      "text/plain": [
       "array([[2.5       , 5.        , 5.        ],\n",
       "       [2.5       , 5.        , 5.8333335 ],\n",
       "       [2.5       , 5.        , 6.6666665 ],\n",
       "       [2.5       , 5.        , 7.5       ],\n",
       "       [2.5       , 5.        , 8.333333  ],\n",
       "       [2.5       , 5.        , 9.166667  ],\n",
       "       [2.5       , 4.1666665 , 5.        ],\n",
       "       [2.5       , 4.1666665 , 5.8333335 ],\n",
       "       [2.5       , 4.1666665 , 6.6666665 ],\n",
       "       [2.5       , 4.1666665 , 7.5       ],\n",
       "       [2.5       , 4.1666665 , 8.333333  ],\n",
       "       [2.5       , 4.1666665 , 9.166667  ],\n",
       "       [2.5       , 3.3333335 , 5.        ],\n",
       "       [2.5       , 3.3333335 , 5.8333335 ],\n",
       "       [2.5       , 3.3333335 , 6.6666665 ],\n",
       "       [2.5       , 3.3333335 , 7.5       ],\n",
       "       [2.5       , 3.3333335 , 8.333333  ],\n",
       "       [2.5       , 3.3333335 , 9.166667  ],\n",
       "       [2.5       , 2.5       , 5.        ],\n",
       "       [2.5       , 2.5       , 5.8333335 ],\n",
       "       [2.5       , 2.5       , 6.6666665 ],\n",
       "       [2.5       , 2.5       , 7.5       ],\n",
       "       [2.5       , 2.5       , 8.333333  ],\n",
       "       [2.5       , 2.5       , 9.166667  ],\n",
       "       [2.5       , 1.6666667 , 5.        ],\n",
       "       [2.5       , 1.6666667 , 5.8333335 ],\n",
       "       [2.5       , 1.6666667 , 6.6666665 ],\n",
       "       [2.5       , 1.6666667 , 7.5       ],\n",
       "       [2.5       , 1.6666667 , 8.333333  ],\n",
       "       [2.5       , 1.6666667 , 9.166667  ],\n",
       "       [2.5       , 0.83333343, 5.        ],\n",
       "       [2.5       , 0.83333343, 5.8333335 ],\n",
       "       [2.5       , 0.83333343, 6.6666665 ],\n",
       "       [2.5       , 0.83333343, 7.5       ],\n",
       "       [2.5       , 0.83333343, 8.333333  ],\n",
       "       [2.5       , 0.83333343, 9.166667  ]], dtype=float32)"
      ]
     },
     "execution_count": 277,
     "metadata": {},
     "output_type": "execute_result"
    }
   ],
   "execution_count": 277
  },
  {
   "metadata": {
    "ExecuteTime": {
     "end_time": "2025-04-07T13:54:18.219568Z",
     "start_time": "2025-04-07T13:54:18.216462Z"
    }
   },
   "cell_type": "code",
   "source": "plane.points[1]",
   "id": "38c890bc3fd2fd76",
   "outputs": [
    {
     "data": {
      "text/plain": [
       "array([2.5, 5. , 0. ], dtype=float32)"
      ]
     },
     "execution_count": 278,
     "metadata": {},
     "output_type": "execute_result"
    }
   ],
   "execution_count": 278
  },
  {
   "metadata": {
    "ExecuteTime": {
     "end_time": "2025-04-07T13:54:22.018243Z",
     "start_time": "2025-04-07T13:54:18.327305Z"
    }
   },
   "cell_type": "code",
   "source": [
    "show(\n",
    "    [\n",
    "        volume,\n",
    "        # mesh,\n",
    "        # points,\n",
    "        plane,\n",
    "        # vedo.Points([[2, 2, i] for i in range(6)], r=10),\n",
    "        # vedo.Point(image_centre, c=\"blue\", r=10),\n",
    "        # vedo.Point(plane.points[0], r=10),\n",
    "        # vedo.Point(plane.points[1], r=10),\n",
    "        # vedo.Point(plane.points[2], r=10),\n",
    "        # vedo.Point(plane.points[3], r=10),\n",
    "    ]\n",
    ")"
   ],
   "id": "2bad6c9eea8aaf17",
   "outputs": [],
   "execution_count": 279
  },
  {
   "metadata": {
    "ExecuteTime": {
     "end_time": "2025-04-07T13:54:22.074842Z",
     "start_time": "2025-04-07T13:54:22.041488Z"
    }
   },
   "cell_type": "code",
   "source": [
    "imshow(mesh.pointdata[\"ImageScalars\"].reshape(mesh.metadata[\"shape\"]))\n",
    "\n",
    "imshow(array[(shape[0] - 1) // 2])"
   ],
   "id": "8226f4be2b583fda",
   "outputs": [
    {
     "data": {
      "text/plain": [
       "<Figure size 640x480 with 1 Axes>"
      ],
      "image/png": "[encoded data removed]"
     },
     "metadata": {},
     "output_type": "display_data"
    },
    {
     "data": {
      "text/plain": [
       "<Figure size 640x480 with 1 Axes>"
      ],
      "image/png": "[encoded data removed]"
     },
     "metadata": {},
     "output_type": "display_data"
    }
   ],
   "execution_count": 280
  }
 ],
 "metadata": {
  "kernelspec": {
   "display_name": "Python 3",
   "language": "python",
   "name": "python3"
  },
  "language_info": {
   "codemirror_mode": {
    "name": "ipython",
    "version": 2
   },
   "file_extension": ".py",
   "mimetype": "text/x-python",
   "name": "python",
   "nbconvert_exporter": "python",
   "pygments_lexer": "ipython2",
   "version": "2.7.6"
  }
 },
 "nbformat": 4,
 "nbformat_minor": 5
}
