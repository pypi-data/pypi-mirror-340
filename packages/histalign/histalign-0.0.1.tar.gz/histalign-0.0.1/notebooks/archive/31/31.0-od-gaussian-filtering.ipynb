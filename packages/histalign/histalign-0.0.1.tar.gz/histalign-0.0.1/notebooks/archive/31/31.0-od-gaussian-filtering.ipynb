{
 "cells": [
  {
   "metadata": {},
   "cell_type": "markdown",
   "source": "# Gaussian filtering interpolated data",
   "id": "211a1b55eefc717f"
  },
  {
   "cell_type": "code",
   "id": "initial_id",
   "metadata": {
    "collapsed": true,
    "ExecuteTime": {
     "end_time": "2024-09-24T09:25:26.693863Z",
     "start_time": "2024-09-24T09:25:25.007087Z"
    }
   },
   "source": "from helper_loader import *",
   "outputs": [],
   "execution_count": 1
  },
  {
   "metadata": {
    "ExecuteTime": {
     "end_time": "2024-09-24T09:25:26.706859Z",
     "start_time": "2024-09-24T09:25:26.697738Z"
    }
   },
   "cell_type": "code",
   "source": "array_path = Path(\"resources/30_17-interpolation.27.inverse-multiquadric.npz\")",
   "id": "b5112f196e35201e",
   "outputs": [],
   "execution_count": 2
  },
  {
   "metadata": {
    "ExecuteTime": {
     "end_time": "2024-09-24T09:25:29.014187Z",
     "start_time": "2024-09-24T09:25:26.982081Z"
    }
   },
   "cell_type": "code",
   "source": [
    "interpolated_array = np.load(array_path)[\"array\"]\n",
    "interpolated_array = np.clip(interpolated_array, 0, 2**18 - 1).astype(np.uint16)"
   ],
   "id": "ee7b116512ab53be",
   "outputs": [],
   "execution_count": 3
  },
  {
   "metadata": {},
   "cell_type": "markdown",
   "source": "`radius=1` means the kernel will be a 3x3x3 cube around each point.",
   "id": "a03836ae7a8df5b6"
  },
  {
   "metadata": {
    "ExecuteTime": {
     "end_time": "2024-09-24T09:30:19.149574Z",
     "start_time": "2024-09-24T09:30:18.536451Z"
    }
   },
   "cell_type": "code",
   "source": "gaussian_array = gaussian_filter(interpolated_array, sigma=2, radius=1)",
   "id": "501b04eba6f2183f",
   "outputs": [],
   "execution_count": 10
  },
  {
   "metadata": {
    "ExecuteTime": {
     "end_time": "2024-09-24T09:30:19.805357Z",
     "start_time": "2024-09-24T09:30:19.745720Z"
    }
   },
   "cell_type": "code",
   "source": [
    "def update(index: int = 0) -> None:\n",
    "    imshow(interpolated_array[..., index].T, vmin=0, vmax=2**16 - 1)\n",
    "    imshow(gaussian_array[..., index].T, vmin=0, vmax=2**16 - 1)\n",
    "\n",
    "\n",
    "interact(update, index=(20, 435));"
   ],
   "id": "4510638da596c880",
   "outputs": [
    {
     "data": {
      "text/plain": [
       "interactive(children=(IntSlider(value=20, description='index', max=435, min=20), Output()), _dom_classes=('wid…"
      ],
      "application/vnd.jupyter.widget-view+json": {
       "version_major": 2,
       "version_minor": 0,
       "model_id": "1d16fb7c045c43c785b207fceed478e6"
      }
     },
     "metadata": {},
     "output_type": "display_data"
    }
   ],
   "execution_count": 11
  }
 ],
 "metadata": {
  "kernelspec": {
   "display_name": "Python 3",
   "language": "python",
   "name": "python3"
  },
  "language_info": {
   "codemirror_mode": {
    "name": "ipython",
    "version": 2
   },
   "file_extension": ".py",
   "mimetype": "text/x-python",
   "name": "python",
   "nbconvert_exporter": "python",
   "pygments_lexer": "ipython2",
   "version": "2.7.6"
  }
 },
 "nbformat": 4,
 "nbformat_minor": 5
}
