{
 "cells": [
  {
   "cell_type": "code",
   "id": "initial_id",
   "metadata": {
    "collapsed": true,
    "ExecuteTime": {
     "end_time": "2024-09-09T15:06:17.635957Z",
     "start_time": "2024-09-09T15:06:17.156494Z"
    }
   },
   "source": [
    "import matplotlib.pyplot as plt\n",
    "import numpy as np\n",
    "import vedo\n",
    "\n",
    "vedo.settings.default_backend = \"vtk\""
   ],
   "outputs": [],
   "execution_count": 1
  },
  {
   "metadata": {
    "ExecuteTime": {
     "end_time": "2024-09-09T15:06:17.639731Z",
     "start_time": "2024-09-09T15:06:17.637076Z"
    }
   },
   "cell_type": "code",
   "source": [
    "def show(volumes: list[vedo.CommonVisual], interactive: bool = True) -> None:\n",
    "    camera = dict(\n",
    "        pos=(60, 5, 10),\n",
    "        focal_point=(9.28146, 4.37087, 7.59946),\n",
    "        viewup=(-1.26495e-3, 0.985896, -0.167357),\n",
    "        roll=9.63360,\n",
    "        distance=52.2753,\n",
    "        clipping_range=(31.7913, 78.1866),\n",
    "    )\n",
    "\n",
    "    vedo.Plotter().show(volumes, axes=3, interactive=interactive)\n",
    "\n",
    "\n",
    "def imshow(image: np.ndarray) -> None:\n",
    "    _, axes = plt.subplots()\n",
    "\n",
    "    axes.imshow(image)\n",
    "    axes.axis(False)\n",
    "\n",
    "    plt.show()"
   ],
   "id": "65b5f52ebe1ffa3c",
   "outputs": [],
   "execution_count": 2
  },
  {
   "metadata": {
    "ExecuteTime": {
     "end_time": "2024-09-09T15:06:18.251354Z",
     "start_time": "2024-09-09T15:06:17.640577Z"
    }
   },
   "cell_type": "code",
   "source": [
    "shape = (\n",
    "    1,\n",
    "    320,\n",
    "    456,\n",
    ")\n",
    "\n",
    "a = np.zeros(shape=shape)\n",
    "\n",
    "a[\n",
    "    :,\n",
    "    slice(shape[1] // 2, shape[1] // 2 + 2, 1),\n",
    "    slice(shape[2] // 2, shape[2] // 2 + 2, 1),\n",
    "] = 1\n",
    "\n",
    "a[0, :, :] = 1\n",
    "a[a.shape[0] - 1, :, :] = 1\n",
    "a[:, 0, :] = 1\n",
    "a[:, a.shape[1] - 1, :] = 1\n",
    "a[:, :, 0] = 1\n",
    "a[:, :, a.shape[2] - 1] = 1\n",
    "\n",
    "volume = vedo.Volume(a)\n",
    "volume"
   ],
   "id": "543914eaeb3adc94",
   "outputs": [
    {
     "data": {
      "text/plain": [
       "<vedo.volume.Volume at 0x7f97441e7910>"
      ],
      "text/html": [
       "<table>\n",
       "<tr>\n",
       "<td>\n",
       "<img src='data:image/png;base64,iVBORw0KGgoAAAANSUhEUgAAAMgAAADICAIAAAAiOjnJAAAEpElEQVR4nO3dQWrjVhzHcU2cGeii0ANYi7aHGKyD+CIp7bqULn0Rb0rpZhaFthTsU7R1RmZOUSddqJgwkZwgzY+nwOez0vLP48tzLD05r+7v7ytG+f6HH3//48/ffn1XepA5uio9wMt2uH1feoSZEhYRwiJCWJMcbm9LjzBTwiJCWEQIiwhhESGsqfz93ktYRAiLCGERIaypDgePC3sIiwhhESGsqdxu6CUsIoRFhLCIENZUt/7G6iMsIoQ1njcpLhAWEcKaqm2PpUeYI2FNsri6+uXnn3a7XelBZkdYk7x5fb1YXG2329KDzI6wJjnd3VVVVdd16UFmR1iTnE53VVWtVqvSg8yOsIgQFhHCIkJYRAiLCGERISwihEWEsIgQFhHCIkJYkywWFrCfdSFCWEQIiwhhjXc4/P9GoYN+jwmLCGERISwihEWEsIgQFhHCIkJYRAiLCGERISwihPUJtG1beoTZEdYkb14vSo8wU8Ka5HS6r5xu6CMsIoT1CdixHhMWEcIiQlhECIsIYREhLCKENZ5/0nSBsIgQFhHCIkJYRAiLCGFNsli8Kj3CTAmLCGERIaypHMbqJSwihEWEsIgQFhHCIkJYRAiLCGERISwihEWEsIgQFhHCmuT6ygL2sy7jHW5vS48wX8IiQlhTLZfL0iPMkbCIEBYRwiJCWEQIiwhhESEsIoRFhLCIEBYRwiJCWEQIa5LFwgL2sy5ECIsIYREhLCKENcnXX33pF/16CWuSv/7+p/QIMyWskbyic5mwiBAWEcIiQlgjnf49lR5h1oQ10uJ6UXqEWRPWSHasy4Q1kh3rMmERISwihDXJwg+vDbAuRAiLCGFN5dhML2ERISwihEWEsIgQFhHCmuR0d1d6hJkS1iTuvA+xLkQIiwhhESGskQ6H96VHmDVhESGsSfzw2hDrQoSwiBDWVM5j9RIWEcIiQlhECIsIYY303bfflB5h1oRFhLAGtW1bVdVutys9yIskrEGbzWa32+33+7Ztu8jOFzxJWIOaptlut+eYNptNd7HdbkuP9gIIa1CX0c3NzfF4bNv2fLFarUqP9gJclx5gvm5ubrqL80Ob9XpdbpwXxo5FhLDG84rOBZaGCGFN5QZEL2GNtFwuu3PJviT2EtZ4p5P36wcJiwhhEeEG6aDuYU7TNN1z6PNtUofcn8OOdclHVTnv8HzCGtS27Xa7reu6aZouqbqu27a1Yz2Hj8JBTdM8vlbVM9mxRnr79m3pEWZNWCN9+PCh9AizJiwihEWEsMbzG0YXWJrxnMe6wNIQISwihEWEO+/9uifQDx8Rds8Nj8fjR+/quBffy47Vr67rczFN09R1vdlsqqpar9deWH0OYQ3a7/fn6+6F1bqud7tddxbZRnWZj8JBDz/yuofQD7cxLrNjjffF55+VHmG+hEWEsIgQFhHCIkJYRAhrJPcdLhMWEcIiQlhEeKTzhO5Ew3K5rKrqeDyuVqvuvfvSc82dHeuShz+qtt/vV6tVXdfH47Hye2tPEdYlD7/6rdfr/X7/+HSDr4e9fBQ+4eGnnoaez45FhLCIENZI3fdEhgiLCGERISwihEWEsIj4DzYN8z6HLtwZAAAAAElFTkSuQmCC'></img>\n",
       "</td>\n",
       "<td style='text-align: center; vertical-align: center;'><br/>\n",
       "<b> Volume: &nbsp&nbsp</b><b><a href=\"https://vedo.embl.es/docs/vedo/volume.html\" target=\"_blank\">vedo.volume.Volume</a></b>\n",
       "<table>\n",
       "<tr><td><b> bounds </b> <br/> (x/y/z) </td><td>0 ... 0<br/>0 ... 319.0<br/>0 ... 455.0</td></tr>\n",
       "<tr><td><b> dimensions </b></td><td>(1, 320, 456)</td></tr>\n",
       "<tr><td><b> voxel spacing </b></td><td>(1.00, 1.00, 1.00)</td></tr>\n",
       "<tr><td><b> in memory size </b></td><td>1MB</td></tr>\n",
       "<tr><td><b> point data array </b></td><td>input_scalars</td></tr>\n",
       "\n",
       "<tr><td><b> scalar range </b></td><td>(1.000, 1.000)</td></tr>\n",
       "</table>\n",
       "</table>"
      ]
     },
     "execution_count": 3,
     "metadata": {},
     "output_type": "execute_result"
    }
   ],
   "execution_count": 3
  },
  {
   "metadata": {
    "ExecuteTime": {
     "end_time": "2024-09-09T15:06:18.869268Z",
     "start_time": "2024-09-09T15:06:18.252274Z"
    }
   },
   "cell_type": "code",
   "source": [
    "new_volume = volume.clone().rotate_y(10, interpolation=\"nearest\")\n",
    "imshow(new_volume.tonumpy()[:10, 10, 90:120])\n",
    "new_volume"
   ],
   "id": "498d5eeef44e438f",
   "outputs": [
    {
     "data": {
      "text/plain": [
       "<Figure size 640x480 with 1 Axes>"
      ],
      "image/png": "[encoded data removed]"
     },
     "metadata": {},
     "output_type": "display_data"
    },
    {
     "data": {
      "text/plain": [
       "<vedo.volume.Volume at 0x7f97441e6f20>"
      ],
      "text/html": [
       "<table>\n",
       "<tr>\n",
       "<td>\n",
       "<img src='data:image/png;base64,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'></img>\n",
       "</td>\n",
       "<td style='text-align: center; vertical-align: center;'><br/>\n",
       "<b> Volume: &nbsp&nbsp</b><b><a href=\"https://vedo.embl.es/docs/vedo/volume.html\" target=\"_blank\">vedo.volume.Volume</a></b>\n",
       "<table>\n",
       "<tr><td><b> bounds </b> <br/> (x/y/z) </td><td>0 ... 79.00<br/>0 ... 319.0<br/>0 ... 448.0</td></tr>\n",
       "<tr><td><b> dimensions </b></td><td>(80, 320, 449)</td></tr>\n",
       "<tr><td><b> voxel spacing </b></td><td>(1.00, 1.00, 1.00)</td></tr>\n",
       "<tr><td><b> in memory size </b></td><td>87MB</td></tr>\n",
       "<tr><td><b> point data array </b></td><td>input_scalars</td></tr>\n",
       "\n",
       "<tr><td><b> scalar range </b></td><td>(0, 1.000)</td></tr>\n",
       "</table>\n",
       "</table>"
      ]
     },
     "execution_count": 4,
     "metadata": {},
     "output_type": "execute_result"
    }
   ],
   "execution_count": 4
  },
  {
   "metadata": {
    "ExecuteTime": {
     "end_time": "2024-09-09T15:06:19.351791Z",
     "start_time": "2024-09-09T15:06:18.870496Z"
    }
   },
   "cell_type": "code",
   "source": [
    "new_volume.tonumpy()[:] += np.where(new_volume.tonumpy() > 0, 255, 0)\n",
    "new_volume.modified()\n",
    "new_volume"
   ],
   "id": "15071507647aed65",
   "outputs": [
    {
     "data": {
      "text/plain": [
       "<vedo.volume.Volume at 0x7f97441e6f20>"
      ],
      "text/html": [
       "<table>\n",
       "<tr>\n",
       "<td>\n",
       "<img src='data:image/png;base64,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'></img>\n",
       "</td>\n",
       "<td style='text-align: center; vertical-align: center;'><br/>\n",
       "<b> Volume: &nbsp&nbsp</b><b><a href=\"https://vedo.embl.es/docs/vedo/volume.html\" target=\"_blank\">vedo.volume.Volume</a></b>\n",
       "<table>\n",
       "<tr><td><b> bounds </b> <br/> (x/y/z) </td><td>0 ... 79.00<br/>0 ... 319.0<br/>0 ... 448.0</td></tr>\n",
       "<tr><td><b> dimensions </b></td><td>(80, 320, 449)</td></tr>\n",
       "<tr><td><b> voxel spacing </b></td><td>(1.00, 1.00, 1.00)</td></tr>\n",
       "<tr><td><b> in memory size </b></td><td>87MB</td></tr>\n",
       "<tr><td><b> point data array </b></td><td>input_scalars</td></tr>\n",
       "\n",
       "<tr><td><b> scalar range </b></td><td>(0, 256.0)</td></tr>\n",
       "</table>\n",
       "</table>"
      ]
     },
     "execution_count": 5,
     "metadata": {},
     "output_type": "execute_result"
    }
   ],
   "execution_count": 5
  },
  {
   "metadata": {
    "ExecuteTime": {
     "end_time": "2024-09-09T15:06:29.155724Z",
     "start_time": "2024-09-09T15:06:22.496598Z"
    }
   },
   "cell_type": "code",
   "source": "show(new_volume)",
   "id": "73574580eb16f665",
   "outputs": [],
   "execution_count": 6
  },
  {
   "metadata": {
    "ExecuteTime": {
     "end_time": "2024-09-09T15:02:39.636662Z",
     "start_time": "2024-09-09T15:02:39.122767Z"
    }
   },
   "cell_type": "code",
   "source": [
    "new_volume = volume.clone().rotate_y(10, interpolation=\"spline\")\n",
    "imshow(new_volume.tonumpy()[:10, 10, 90:120])\n",
    "new_volume"
   ],
   "id": "3bc281250d102eab",
   "outputs": [
    {
     "name": "stdout",
     "output_type": "stream",
     "text": [
      "Spline\n"
     ]
    },
    {
     "data": {
      "text/plain": [
       "<Figure size 640x480 with 1 Axes>"
      ],
      "image/png": "[encoded data removed]"
     },
     "metadata": {},
     "output_type": "display_data"
    },
    {
     "data": {
      "text/plain": [
       "<vedo.volume.Volume at 0x7f1f7985c5e0>"
      ],
      "text/html": [
       "<table>\n",
       "<tr>\n",
       "<td>\n",
       "<img src='data:image/png;base64,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'></img>\n",
       "</td>\n",
       "<td style='text-align: center; vertical-align: center;'><br/>\n",
       "<b> Volume: &nbsp&nbsp</b><b><a href=\"https://vedo.embl.es/docs/vedo/volume.html\" target=\"_blank\">vedo.volume.Volume</a></b>\n",
       "<table>\n",
       "<tr><td><b> bounds </b> <br/> (x/y/z) </td><td>0 ... 79.00<br/>0 ... 319.0<br/>0 ... 448.0</td></tr>\n",
       "<tr><td><b> dimensions </b></td><td>(80, 320, 449)</td></tr>\n",
       "<tr><td><b> voxel spacing </b></td><td>(1.00, 1.00, 1.00)</td></tr>\n",
       "<tr><td><b> in memory size </b></td><td>87MB</td></tr>\n",
       "<tr><td><b> point data array </b></td><td>input_scalars</td></tr>\n",
       "\n",
       "<tr><td><b> scalar range </b></td><td>(0, 1.000)</td></tr>\n",
       "</table>\n",
       "</table>"
      ]
     },
     "execution_count": 13,
     "metadata": {},
     "output_type": "execute_result"
    }
   ],
   "execution_count": 13
  },
  {
   "metadata": {
    "ExecuteTime": {
     "end_time": "2024-09-09T15:02:39.887849Z",
     "start_time": "2024-09-09T15:02:39.637656Z"
    }
   },
   "cell_type": "code",
   "source": [
    "many_rotations_volume = volume.clone()\n",
    "\n",
    "for i in range(5):\n",
    "    print(i)\n",
    "    many_rotations_volume.rotate_y(10 * -1 if i % 2 else 1, interpolation=\"spline\")"
   ],
   "id": "bbe4361212f79094",
   "outputs": [
    {
     "name": "stdout",
     "output_type": "stream",
     "text": [
      "0\n",
      "Spline\n",
      "1\n",
      "Spline\n",
      "2\n",
      "Spline\n",
      "3\n",
      "Spline\n",
      "4\n",
      "Spline\n"
     ]
    }
   ],
   "execution_count": 14
  },
  {
   "metadata": {
    "ExecuteTime": {
     "end_time": "2024-09-09T15:02:40.791970Z",
     "start_time": "2024-09-09T15:02:39.889020Z"
    }
   },
   "cell_type": "code",
   "source": [
    "imshow(many_rotations_volume.tonumpy()[:10, 10, 90:120])\n",
    "many_rotations_volume"
   ],
   "id": "21fe6ed79ffc8ded",
   "outputs": [
    {
     "data": {
      "text/plain": [
       "<Figure size 640x480 with 1 Axes>"
      ],
      "image/png": "[encoded data removed]"
     },
     "metadata": {},
     "output_type": "display_data"
    },
    {
     "data": {
      "text/plain": [
       "<vedo.volume.Volume at 0x7f1f799b2ec0>"
      ],
      "text/html": [
       "<table>\n",
       "<tr>\n",
       "<td>\n",
       "<img src='data:image/png;base64,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'></img>\n",
       "</td>\n",
       "<td style='text-align: center; vertical-align: center;'><br/>\n",
       "<b> Volume: &nbsp&nbsp</b><b><a href=\"https://vedo.embl.es/docs/vedo/volume.html\" target=\"_blank\">vedo.volume.Volume</a></b>\n",
       "<table>\n",
       "<tr><td><b> bounds </b> <br/> (x/y/z) </td><td>-156.1 ... 23.87<br/>0 ... 319.0<br/>-14.13 ... 448.9</td></tr>\n",
       "<tr><td><b> dimensions </b></td><td>(181, 320, 464)</td></tr>\n",
       "<tr><td><b> voxel spacing </b></td><td>(1.00, 1.00, 1.00)</td></tr>\n",
       "<tr><td><b> in memory size </b></td><td>205MB</td></tr>\n",
       "<tr><td><b> point data array </b></td><td>ImageScalars</td></tr>\n",
       "\n",
       "<tr><td><b> scalar range </b></td><td>(0, 0.4394)</td></tr>\n",
       "</table>\n",
       "</table>"
      ]
     },
     "execution_count": 15,
     "metadata": {},
     "output_type": "execute_result"
    }
   ],
   "execution_count": 15
  }
 ],
 "metadata": {
  "kernelspec": {
   "display_name": "Python 3",
   "language": "python",
   "name": "python3"
  },
  "language_info": {
   "codemirror_mode": {
    "name": "ipython",
    "version": 2
   },
   "file_extension": ".py",
   "mimetype": "text/x-python",
   "name": "python",
   "nbconvert_exporter": "python",
   "pygments_lexer": "ipython2",
   "version": "2.7.6"
  }
 },
 "nbformat": 4,
 "nbformat_minor": 5
}
