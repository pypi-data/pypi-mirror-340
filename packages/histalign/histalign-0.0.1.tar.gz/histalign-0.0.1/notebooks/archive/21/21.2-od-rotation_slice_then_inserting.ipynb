{
 "cells": [
  {
   "metadata": {
    "ExecuteTime": {
     "end_time": "2024-09-11T09:30:38.314235Z",
     "start_time": "2024-09-11T09:30:36.479178Z"
    }
   },
   "cell_type": "code",
   "source": [
    "import json\n",
    "\n",
    "import matplotlib.pyplot as plt\n",
    "import numpy as np\n",
    "import vedo\n",
    "\n",
    "from histalign.backend.io import load_image\n",
    "from histalign.backend.models import AlignmentSettings\n",
    "from histalign.backend.registration import Registrator\n",
    "\n",
    "vedo.settings.default_backend = \"vtk\""
   ],
   "id": "4433ebdd4afba595",
   "outputs": [],
   "execution_count": 1
  },
  {
   "metadata": {
    "ExecuteTime": {
     "end_time": "2024-09-11T09:30:38.318958Z",
     "start_time": "2024-09-11T09:30:38.316066Z"
    }
   },
   "cell_type": "code",
   "source": [
    "def show(volumes: list[vedo.CommonVisual], interactive: bool = True) -> None:\n",
    "    vedo.Plotter().show(volumes, axes=3, interactive=interactive)\n",
    "\n",
    "\n",
    "def imshow(image: np.ndarray) -> None:\n",
    "    _, axes = plt.subplots()\n",
    "\n",
    "    axes.imshow(image)\n",
    "    axes.axis(False)\n",
    "\n",
    "    plt.show()\n",
    "\n",
    "\n",
    "def forward_register(\n",
    "    image: np.ndarray,\n",
    "    alignment_settings: AlignmentSettings,\n",
    ") -> np.ndarray:\n",
    "    registrator = Registrator(True, True)\n",
    "    return registrator.get_forwarded_image(image, alignment_settings)"
   ],
   "id": "7912249d1cb86b43",
   "outputs": [],
   "execution_count": 2
  },
  {
   "metadata": {
    "ExecuteTime": {
     "end_time": "2024-09-11T09:30:38.330597Z",
     "start_time": "2024-09-11T09:30:38.319748Z"
    }
   },
   "cell_type": "code",
   "source": [
    "# alignment_path = \"/home/ediun/git/histalign/projects/project_310724_full/7d9af388b0/7dff67f4735a5c6e74e99dfb959a38ed.json\"\n",
    "alignment_path = \"/home/ediun/git/histalign/projects/project_temp4/12d4fcac65/7dff67f4735a5c6e74e99dfb959a38ed.json\"\n",
    "\n",
    "with open(alignment_path) as handle:\n",
    "    alignment_settings = AlignmentSettings(**json.load(handle))"
   ],
   "id": "19aafb1354546ea8",
   "outputs": [],
   "execution_count": 3
  },
  {
   "metadata": {
    "ExecuteTime": {
     "end_time": "2024-09-11T09:30:38.340090Z",
     "start_time": "2024-09-11T09:30:38.331505Z"
    }
   },
   "cell_type": "code",
   "source": "alignment_settings.histology_settings.rotation = 0",
   "id": "330dd66516a87d4a",
   "outputs": [],
   "execution_count": 4
  },
  {
   "metadata": {
    "ExecuteTime": {
     "end_time": "2024-09-11T09:30:38.743241Z",
     "start_time": "2024-09-11T09:30:38.341573Z"
    }
   },
   "cell_type": "code",
   "source": "slice_ = load_image(alignment_settings.histology_path)",
   "id": "2729842257672647",
   "outputs": [],
   "execution_count": 5
  },
  {
   "metadata": {
    "ExecuteTime": {
     "end_time": "2024-09-11T09:30:42.602957Z",
     "start_time": "2024-09-11T09:30:38.744320Z"
    }
   },
   "cell_type": "code",
   "source": "slice_ = forward_register(slice_, alignment_settings).T",
   "id": "2a242af608a3cfa7",
   "outputs": [
    {
     "name": "stdout",
     "output_type": "stream",
     "text": [
      "image.shape=(316, 489), target_shape=(320, 528)\n",
      "vertical_padding=4, horizontal_padding=39\n"
     ]
    }
   ],
   "execution_count": 6
  },
  {
   "metadata": {
    "ExecuteTime": {
     "end_time": "2024-09-11T09:30:42.629445Z",
     "start_time": "2024-09-11T09:30:42.612677Z"
    }
   },
   "cell_type": "code",
   "source": [
    "slice_array = np.zeros(shape=alignment_settings.volume_settings.shape)\n",
    "\n",
    "# match alignment_settings.volume_settings.orientation:\n",
    "#     case \"coronal\":\n",
    "#         raise ValueError(\"Panic\")\n",
    "#     case \"horizontal\":\n",
    "#         raise ValueError(\"Panic\")\n",
    "#     case \"sagittal\":\n",
    "#         slice_array[..., slice_array.shape[2] // 2 + alignment_settings.volume_settings.offset] = slice_"
   ],
   "id": "e8675fdb58ca6388",
   "outputs": [],
   "execution_count": 7
  },
  {
   "metadata": {
    "ExecuteTime": {
     "end_time": "2024-09-11T09:30:43.581743Z",
     "start_time": "2024-09-11T09:30:42.631092Z"
    }
   },
   "cell_type": "code",
   "source": [
    "# slice_volume = vedo.Volume(np.zeros_like(slice_array))\n",
    "slice_volume = vedo.Volume(slice_array)"
   ],
   "id": "77189105c2ed076f",
   "outputs": [],
   "execution_count": 8
  },
  {
   "metadata": {
    "ExecuteTime": {
     "end_time": "2024-09-11T09:30:43.585699Z",
     "start_time": "2024-09-11T09:30:43.582878Z"
    }
   },
   "cell_type": "code",
   "source": [
    "pivot = slice_volume.center()\n",
    "pivot[2] += alignment_settings.volume_settings.offset\n",
    "\n",
    "# slice_volume.tonumpy()[..., int(pivot[2])] = slice_\n",
    "\n",
    "# slice_volume.rotate_y(-alignment_settings.volume_settings.pitch, around=pivot)\n",
    "# slice_volume.rotate_z(alignment_settings.volume_settings.yaw, around=pivot)"
   ],
   "id": "36906a28d507c425",
   "outputs": [],
   "execution_count": 9
  },
  {
   "metadata": {
    "ExecuteTime": {
     "end_time": "2024-09-11T09:30:43.598305Z",
     "start_time": "2024-09-11T09:30:43.586570Z"
    }
   },
   "cell_type": "code",
   "source": "# show(slice_volume)",
   "id": "df1e9db4b0780b02",
   "outputs": [],
   "execution_count": 10
  },
  {
   "metadata": {
    "ExecuteTime": {
     "end_time": "2024-09-11T09:30:43.979526Z",
     "start_time": "2024-09-11T09:30:43.599560Z"
    }
   },
   "cell_type": "code",
   "source": [
    "match alignment_settings.volume_settings.orientation:\n",
    "    case \"coronal\":\n",
    "        raise ValueError(\"Panic\")\n",
    "    case \"horizontal\":\n",
    "        raise ValueError(\"Panic\")\n",
    "    case \"sagittal\":\n",
    "        pivot = slice_volume.center()\n",
    "        pivot[2] += alignment_settings.volume_settings.offset\n",
    "\n",
    "        slice_volume.rotate_x(-alignment_settings.volume_settings.pitch)\n",
    "\n",
    "        print(slice_volume.tonumpy().shape)\n",
    "\n",
    "        slice_volume.tonumpy()[..., int(pivot[2])] = slice_\n",
    "\n",
    "        slice_volume.rotate_y(alignment_settings.volume_settings.pitch)\n",
    "        slice_volume.rotate_z(-alignment_settings.volume_settings.yaw)"
   ],
   "id": "d6755bd241dcf383",
   "outputs": [
    {
     "name": "stdout",
     "output_type": "stream",
     "text": [
      "(528, 328, 461)\n"
     ]
    },
    {
     "ename": "ValueError",
     "evalue": "could not broadcast input array from shape (528,320) into shape (528,328)",
     "output_type": "error",
     "traceback": [
      "\u001B[0;31m---------------------------------------------------------------------------\u001B[0m",
      "\u001B[0;31mValueError\u001B[0m                                Traceback (most recent call last)",
      "Cell \u001B[0;32mIn[11], line 14\u001B[0m\n\u001B[1;32m     10\u001B[0m slice_volume\u001B[38;5;241m.\u001B[39mrotate_x(\u001B[38;5;241m-\u001B[39malignment_settings\u001B[38;5;241m.\u001B[39mvolume_settings\u001B[38;5;241m.\u001B[39mpitch)\n\u001B[1;32m     12\u001B[0m \u001B[38;5;28mprint\u001B[39m(slice_volume\u001B[38;5;241m.\u001B[39mtonumpy()\u001B[38;5;241m.\u001B[39mshape)\n\u001B[0;32m---> 14\u001B[0m \u001B[43mslice_volume\u001B[49m\u001B[38;5;241;43m.\u001B[39;49m\u001B[43mtonumpy\u001B[49m\u001B[43m(\u001B[49m\u001B[43m)\u001B[49m\u001B[43m[\u001B[49m\u001B[38;5;241;43m.\u001B[39;49m\u001B[38;5;241;43m.\u001B[39;49m\u001B[38;5;241;43m.\u001B[39;49m\u001B[43m,\u001B[49m\u001B[43m \u001B[49m\u001B[38;5;28;43mint\u001B[39;49m\u001B[43m(\u001B[49m\u001B[43mpivot\u001B[49m\u001B[43m[\u001B[49m\u001B[38;5;241;43m2\u001B[39;49m\u001B[43m]\u001B[49m\u001B[43m)\u001B[49m\u001B[43m]\u001B[49m \u001B[38;5;241m=\u001B[39m slice_\n\u001B[1;32m     16\u001B[0m slice_volume\u001B[38;5;241m.\u001B[39mrotate_y(alignment_settings\u001B[38;5;241m.\u001B[39mvolume_settings\u001B[38;5;241m.\u001B[39mpitch)\n\u001B[1;32m     17\u001B[0m slice_volume\u001B[38;5;241m.\u001B[39mrotate_z(\u001B[38;5;241m-\u001B[39malignment_settings\u001B[38;5;241m.\u001B[39mvolume_settings\u001B[38;5;241m.\u001B[39myaw)\n",
      "\u001B[0;31mValueError\u001B[0m: could not broadcast input array from shape (528,320) into shape (528,328)"
     ]
    }
   ],
   "execution_count": 11
  },
  {
   "metadata": {},
   "cell_type": "code",
   "source": "show(slice_volume)",
   "id": "33645ec50cea80b1",
   "outputs": [],
   "execution_count": null
  }
 ],
 "metadata": {
  "kernelspec": {
   "display_name": "Python 3",
   "language": "python",
   "name": "python3"
  },
  "language_info": {
   "codemirror_mode": {
    "name": "ipython",
    "version": 2
   },
   "file_extension": ".py",
   "mimetype": "text/x-python",
   "name": "python",
   "nbconvert_exporter": "python",
   "pygments_lexer": "ipython2",
   "version": "2.7.6"
  }
 },
 "nbformat": 4,
 "nbformat_minor": 5
}
