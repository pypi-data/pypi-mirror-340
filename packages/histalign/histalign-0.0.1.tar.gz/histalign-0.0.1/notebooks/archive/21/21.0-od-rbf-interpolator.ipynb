{
 "cells": [
  {
   "metadata": {
    "ExecuteTime": {
     "end_time": "2024-09-09T13:01:33.617854Z",
     "start_time": "2024-09-09T13:01:33.614344Z"
    }
   },
   "cell_type": "code",
   "source": [
    "import json\n",
    "from pathlib import Path\n",
    "\n",
    "from scipy.interpolate import RBFInterpolator\n",
    "from scipy.ndimage import rotate\n",
    "from scipy.spatial.transform import Rotation\n",
    "import matplotlib.pyplot as plt\n",
    "import numpy as np\n",
    "import vedo\n",
    "\n",
    "from histalign.backend.ccf.paths import get_structure_mask_path\n",
    "from histalign.backend.io import load_image\n",
    "from histalign.backend.models import AlignmentSettings, Resolution\n",
    "from histalign.backend.registration import Registrator\n",
    "from histalign.backend.workspace import VolumeSlicer\n",
    "\n",
    "vedo.settings.default_backend = \"vtk\""
   ],
   "id": "b532463b7d7e37a3",
   "outputs": [],
   "execution_count": 6
  },
  {
   "metadata": {
    "ExecuteTime": {
     "end_time": "2024-09-09T13:05:20.977904Z",
     "start_time": "2024-09-09T13:05:20.972837Z"
    }
   },
   "cell_type": "code",
   "source": [
    "def process_alignment(path: str, structure_name: str, master_array: np.ndarray) -> None:\n",
    "    settings = get_settings(path)\n",
    "\n",
    "    image = load_image(settings.histology_path)\n",
    "    masked_image = mask_off(image, structure_name, settings)\n",
    "\n",
    "    insert_into_array(image, master_array, settings)\n",
    "\n",
    "\n",
    "def get_settings(path: str) -> AlignmentSettings:\n",
    "    with open(path) as handle:\n",
    "        return AlignmentSettings(**json.load(handle))\n",
    "\n",
    "\n",
    "def mask_off(\n",
    "    image: np.ndarray, structure_name: str, alignment_settings: AlignmentSettings\n",
    ") -> np.ndarray:\n",
    "    mask_volume = VolumeSlicer(\n",
    "        path=get_structure_mask_path(\n",
    "            structure_name, alignment_settings.volume_settings.resolution\n",
    "        ),\n",
    "        resolution=alignment_settings.volume_settings.resolution,\n",
    "    )\n",
    "\n",
    "    mask_slice = mask_volume.slice(alignment_settings.volume_settings)\n",
    "\n",
    "    registrator = Registrator(False, True)\n",
    "    registered_image = registrator.get_forwarded_image(alignment_settings, image)\n",
    "\n",
    "    return np.where(mask_slice > 0, registered_image, 0)\n",
    "\n",
    "\n",
    "def insert_into_array(\n",
    "    image: np.ndarray, target_array: np.ndarray, settings: AlignmentSettings\n",
    ") -> np.ndarray:\n",
    "    slicer = VolumeSlicer(\n",
    "        path=get_structure_mask_path(\"root\", Resolution.MICRONS_100),\n",
    "        resolution=Resolution.MICRONS_100,\n",
    "        lazy=False,\n",
    "    )\n",
    "    volume = slicer.volume._volume\n",
    "    array = volume.tonumpy()\n",
    "\n",
    "    # array = rotate(array, 45)\n",
    "    # volume2 = vedo.Volume(array)\n",
    "\n",
    "    if settings.volume_settings.orientation != \"sagittal\":\n",
    "        raise ValueError(\"Panic: not implemented\")\n",
    "\n",
    "    volume2 = volume.clone()\n",
    "\n",
    "    settings.volume_settings.pitch = 20\n",
    "    settings.volume_settings.yaw = 20\n",
    "\n",
    "    print(f\"{settings.volume_settings.pitch=}\")\n",
    "    print(f\"{settings.volume_settings.yaw=}\")\n",
    "\n",
    "    volume2 = volume2.rotate_x(-settings.volume_settings.pitch, around=volume2.center())\n",
    "    volume2 = volume2.rotate_y(settings.volume_settings.yaw, around=volume2.center())\n",
    "\n",
    "    volume3 = vedo.Volume(volume2.tonumpy()[..., : volume2.shape[2] // 2])\n",
    "\n",
    "    vedo.Plotter().show([volume2, volume3], axes=3)\n",
    "\n",
    "\n",
    "def imshow(image: np.ndarray) -> None:\n",
    "    _, axes = plt.subplots()\n",
    "\n",
    "    axes.imshow(image)\n",
    "    axes.axis(False)\n",
    "\n",
    "    plt.show()"
   ],
   "id": "d143795a99bc44ff",
   "outputs": [],
   "execution_count": 23
  },
  {
   "cell_type": "code",
   "id": "initial_id",
   "metadata": {
    "collapsed": true,
    "ExecuteTime": {
     "end_time": "2024-09-09T13:01:33.636052Z",
     "start_time": "2024-09-09T13:01:33.626978Z"
    }
   },
   "source": [
    "# alignment_directory = Path(\"/home/ediun/git/histalign/projects/project_310724_full/7d9af388b0\")\n",
    "alignment_directory = Path(\n",
    "    \"/home/ediun/git/histalign/projects/project_temp4/12d4fcac65\"\n",
    ")\n",
    "# alignment_directory = Path(\"/home/ediun/git/histalign/projects/project_temp4/ed8140f0dd\")"
   ],
   "outputs": [],
   "execution_count": 8
  },
  {
   "metadata": {
    "ExecuteTime": {
     "end_time": "2024-09-09T13:01:33.646702Z",
     "start_time": "2024-09-09T13:01:33.637469Z"
    }
   },
   "cell_type": "code",
   "source": "master_array = np.zeros(shape=(528, 320, 456))",
   "id": "608711dd82c8d326",
   "outputs": [],
   "execution_count": 9
  },
  {
   "metadata": {
    "ExecuteTime": {
     "end_time": "2024-09-09T13:36:58.844101Z",
     "start_time": "2024-09-09T13:05:22.527607Z"
    }
   },
   "cell_type": "code",
   "source": [
    "i = 0\n",
    "target = 0\n",
    "\n",
    "for file in alignment_directory.iterdir():\n",
    "    if i < target:\n",
    "        i += 1\n",
    "        continue\n",
    "\n",
    "    if file.suffix != \".json\" or file.stem == \"metadata\":\n",
    "        continue\n",
    "\n",
    "    process_alignment(str(file), \"root\", master_array)\n",
    "\n",
    "    break"
   ],
   "id": "fbb23a9f561ffb53",
   "outputs": [
    {
     "name": "stdout",
     "output_type": "stream",
     "text": [
      "settings.volume_settings.pitch=20\n",
      "settings.volume_settings.yaw=20\n"
     ]
    }
   ],
   "execution_count": 24
  }
 ],
 "metadata": {
  "kernelspec": {
   "display_name": "Python 3",
   "language": "python",
   "name": "python3"
  },
  "language_info": {
   "codemirror_mode": {
    "name": "ipython",
    "version": 2
   },
   "file_extension": ".py",
   "mimetype": "text/x-python",
   "name": "python",
   "nbconvert_exporter": "python",
   "pygments_lexer": "ipython2",
   "version": "2.7.6"
  }
 },
 "nbformat": 4,
 "nbformat_minor": 5
}
