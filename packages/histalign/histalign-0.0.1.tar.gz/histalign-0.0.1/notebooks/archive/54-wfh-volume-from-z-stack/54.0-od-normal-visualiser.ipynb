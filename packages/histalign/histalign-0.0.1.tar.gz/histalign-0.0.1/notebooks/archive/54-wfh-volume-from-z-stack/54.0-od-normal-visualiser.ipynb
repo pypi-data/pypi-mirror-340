{
 "cells": [
  {
   "cell_type": "code",
   "id": "initial_id",
   "metadata": {
    "collapsed": true,
    "ExecuteTime": {
     "end_time": "2024-12-05T15:41:16.654778Z",
     "start_time": "2024-12-05T15:41:13.558504Z"
    }
   },
   "source": [
    "from functools import partial\n",
    "from typing import Any, Literal\n",
    "\n",
    "import numpy as np\n",
    "from scipy.spatial.transform import Rotation\n",
    "import vedo\n",
    "\n",
    "from histalign.backend.models import Orientation\n",
    "\n",
    "vedo.settings.default_backend = \"vtk\""
   ],
   "outputs": [],
   "execution_count": 1
  },
  {
   "metadata": {
    "ExecuteTime": {
     "end_time": "2024-12-05T15:41:16.668749Z",
     "start_time": "2024-12-05T15:41:16.661989Z"
    }
   },
   "cell_type": "code",
   "source": [
    "def compute_normal(\n",
    "    pitch: int,\n",
    "    yaw: int,\n",
    "    orientation: Orientation,\n",
    ") -> np.ndarray:\n",
    "    match orientation:\n",
    "        case Orientation.CORONAL:\n",
    "            normal = [-1, 0, 0]\n",
    "            rotation = Rotation.from_euler(\"ZY\", [pitch, yaw], degrees=True)\n",
    "        case Orientation.HORIZONTAL:\n",
    "            normal = [0, 1, 0]\n",
    "            rotation = Rotation.from_euler(\"ZX\", [pitch, yaw], degrees=True)\n",
    "        case Orientation.SAGITTAL:\n",
    "            normal = [0, 0, 1]\n",
    "            rotation = Rotation.from_euler(\"XY\", [pitch, yaw], degrees=True)\n",
    "        case _:\n",
    "            raise Exception(\"ASSERT NOT REACHED\")\n",
    "\n",
    "    return rotation.apply(normal)\n",
    "\n",
    "\n",
    "def generate_grid_points(\n",
    "    grid_size: int,\n",
    "    spread: int = 1,\n",
    "    radius: int = 5,\n",
    ") -> vedo.Points:\n",
    "    x = np.linspace(0, (grid_size - 1) * spread, grid_size, dtype=int)\n",
    "    y = np.linspace(0, (grid_size - 1) * spread, grid_size, dtype=int)\n",
    "    z = np.linspace(0, (grid_size - 1) * spread, grid_size, dtype=int)\n",
    "\n",
    "    mesh_grid = np.meshgrid(x, y, z, indexing=\"ij\")\n",
    "    mesh_grid = np.vstack(mesh_grid)\n",
    "    mesh_grid = mesh_grid.reshape(3, -1).T\n",
    "\n",
    "    return vedo.Points(mesh_grid, r=radius)\n",
    "\n",
    "\n",
    "def snap_to_grid(point: np.ndarray, spread: int) -> np.ndarray:\n",
    "    base, remainder = np.divmod(np.array(point), spread)\n",
    "    return (base + np.round(remainder / spread)) * spread\n",
    "\n",
    "\n",
    "def adjust_angle(value: int, angle: Literal[\"pitch\", \"yaw\"]) -> None:\n",
    "    match angle:\n",
    "        case \"pitch\":\n",
    "            global pitch\n",
    "            pitch = value\n",
    "        case \"yaw\":\n",
    "            global yaw\n",
    "            yaw = value\n",
    "        case _:\n",
    "            raise Exception(\"ASSERT NOT REACHED\")\n",
    "\n",
    "\n",
    "def get_camera(\n",
    "    orientation: Orientation,\n",
    "    grid_size: int,\n",
    "    spread: int,\n",
    ") -> dict[str, Any]:\n",
    "    camera = dict(\n",
    "        position=np.array((grid_size,) * 3) // 2 * spread,\n",
    "        focal_point=np.array((grid_size,) * 3) // 2 * spread,\n",
    "    )\n",
    "    match orientation:\n",
    "        case Orientation.CORONAL:\n",
    "            camera[\"viewup\"] = (0, -1, 0)\n",
    "            camera[\"position\"][0] += grid_size * 3 * spread\n",
    "        case Orientation.HORIZONTAL:\n",
    "            camera[\"viewup\"] = (-1, 0, 0)\n",
    "            camera[\"position\"][1] += grid_size * 3 * spread\n",
    "        case Orientation.SAGITTAL:\n",
    "            camera[\"viewup\"] = (0, -1, 0)\n",
    "            camera[\"position\"][2] -= grid_size * 3 * spread\n",
    "        case _:\n",
    "            raise Exception(\"ASSERT NOT REACHED\")\n",
    "\n",
    "    return camera\n",
    "\n",
    "\n",
    "def show(\n",
    "    volumes: vedo.CommonVisual | list[vedo.CommonVisual],\n",
    "    camera: dict[str, Any] | None = None,\n",
    ") -> None:\n",
    "    if isinstance(volumes, vedo.CommonVisual):\n",
    "        volumes = [volumes]\n",
    "\n",
    "    plotter = vedo.Plotter(axes=3, interactive=True)\n",
    "    for volume in volumes:\n",
    "        plotter.add(volume)\n",
    "\n",
    "    plotter.show(camera=camera)"
   ],
   "id": "f4777ec730a0e85f",
   "outputs": [],
   "execution_count": 2
  },
  {
   "metadata": {
    "ExecuteTime": {
     "end_time": "2024-12-05T15:46:14.613919Z",
     "start_time": "2024-12-05T15:46:14.611270Z"
    }
   },
   "cell_type": "code",
   "source": [
    "grid_size = 1000\n",
    "spread = 1\n",
    "\n",
    "stack_size = 5\n",
    "stack_spacing = 1\n",
    "\n",
    "pitch = 6\n",
    "yaw = 4\n",
    "orientation = Orientation.CORONAL\n",
    "camera_orientation = Orientation.SAGITTAL\n",
    "\n",
    "flat_normal = compute_normal(0, 0, orientation)"
   ],
   "id": "b22059a8b58f2d36",
   "outputs": [],
   "execution_count": 34
  },
  {
   "metadata": {
    "ExecuteTime": {
     "end_time": "2024-12-05T15:46:15.931003Z",
     "start_time": "2024-12-05T15:46:15.559179Z"
    }
   },
   "cell_type": "code",
   "source": [
    "plane_origin = np.array([grid_size // 2 * spread] * 3)\n",
    "plane_normal = compute_normal(pitch, yaw, orientation)\n",
    "plane_normal_mesh = vedo.Arrow(\n",
    "    start_pt=plane_origin, end_pt=plane_origin + plane_normal * spread\n",
    ")\n",
    "plane_mesh = vedo.Plane(pos=plane_origin, normal=plane_normal, s=(5 * spread,) * 2)\n",
    "\n",
    "plane_normal_line_point0 = vedo.Plane(\n",
    "    pos=(flat_normal * spread * 2),\n",
    "    normal=flat_normal,\n",
    "    s=(1_000_000,) * 2,\n",
    ").intersect_with_line(\n",
    "    plane_origin - 100000 * plane_normal, plane_origin + 100000 * plane_normal\n",
    ")\n",
    "plane_normal_line_point1 = vedo.Plane(\n",
    "    pos=(grid_size * spread,) * 3 + (-flat_normal * spread * 2),\n",
    "    normal=flat_normal,\n",
    "    s=((spread * grid_size * 2) ** 2,) * 2,\n",
    ").intersect_with_line(\n",
    "    plane_origin - 100000 * plane_normal, plane_origin + 100000 * plane_normal\n",
    ")\n",
    "plane_normal_line = vedo.Line(\n",
    "    p0=plane_normal_line_point0.tolist()[0],\n",
    "    p1=plane_normal_line_point1.tolist()[0],\n",
    "    lw=spread // 2,\n",
    ")\n",
    "\n",
    "stack_meshes = [\n",
    "    vedo.Plane(\n",
    "        pos=plane_origin + i * plane_normal * (stack_spacing * spread),\n",
    "        normal=plane_normal,\n",
    "        s=(5 * spread,) * 2,\n",
    "    )\n",
    "    for i in range(-stack_size // 2 + 1, stack_size // 2 + 1)\n",
    "]\n",
    "\n",
    "intersections = [\n",
    "    vedo.Plane(\n",
    "        pos=i * spread * np.abs(flat_normal),\n",
    "        normal=flat_normal,\n",
    "        s=(1_000_000,) * 2,\n",
    "    ).intersect_with_line(\n",
    "        np.squeeze(plane_normal_line_point0),\n",
    "        np.squeeze(plane_normal_line_point1),\n",
    "    )\n",
    "    for i in range(grid_size)\n",
    "]\n",
    "\n",
    "grid_snap_points = [snap_to_grid(point, spread) for point in intersections]"
   ],
   "id": "2d0f12a61bded8f8",
   "outputs": [],
   "execution_count": 35
  },
  {
   "metadata": {
    "ExecuteTime": {
     "end_time": "2024-12-05T15:45:58.664097Z",
     "start_time": "2024-12-05T15:45:58.660205Z"
    }
   },
   "cell_type": "code",
   "source": "intersections[:10]",
   "id": "414415361224407c",
   "outputs": [
    {
     "data": {
      "text/plain": [
       "[array([[1.73727699e-12, 4.47447900e+03, 5.35156006e+03]]),\n",
       " array([[  10.        , 4475.53027344, 5350.85693359]]),\n",
       " array([[  20.        , 4476.58105469, 5350.15380859]]),\n",
       " array([[  30.        , 4477.63232422, 5349.45068359]]),\n",
       " array([[  40.        , 4478.68310547, 5348.74755859]]),\n",
       " array([[  50.        , 4479.734375  , 5348.04443359]]),\n",
       " array([[  60.        , 4480.78515625, 5347.34130859]]),\n",
       " array([[  70.        , 4481.83642578, 5346.63818359]]),\n",
       " array([[  80.        , 4482.88720703, 5345.93505859]]),\n",
       " array([[  90.        , 4483.93847656, 5345.23193359]])]"
      ]
     },
     "execution_count": 33,
     "metadata": {},
     "output_type": "execute_result"
    }
   ],
   "execution_count": 33
  },
  {
   "metadata": {
    "ExecuteTime": {
     "end_time": "2024-12-05T15:45:53.854738Z",
     "start_time": "2024-12-05T15:45:45.838137Z"
    }
   },
   "cell_type": "code",
   "source": [
    "show(\n",
    "    [\n",
    "        # generate_grid_points(grid_size, spread=spread, radius=spread // 2),\n",
    "        plane_mesh,\n",
    "        stack_meshes,\n",
    "        plane_normal_mesh,\n",
    "        plane_normal_line,\n",
    "        [vedo.Point(point.tolist()[0]) for point in intersections],\n",
    "        [vedo.Point(point.tolist()[0], c=\"blue\") for point in grid_snap_points],\n",
    "    ],\n",
    "    camera=get_camera(camera_orientation, grid_size, spread),\n",
    ")"
   ],
   "id": "3482b754d9f13836",
   "outputs": [],
   "execution_count": 32
  }
 ],
 "metadata": {
  "kernelspec": {
   "display_name": "Python 3",
   "language": "python",
   "name": "python3"
  },
  "language_info": {
   "codemirror_mode": {
    "name": "ipython",
    "version": 2
   },
   "file_extension": ".py",
   "mimetype": "text/x-python",
   "name": "python",
   "nbconvert_exporter": "python",
   "pygments_lexer": "ipython2",
   "version": "2.7.6"
  }
 },
 "nbformat": 4,
 "nbformat_minor": 5
}
