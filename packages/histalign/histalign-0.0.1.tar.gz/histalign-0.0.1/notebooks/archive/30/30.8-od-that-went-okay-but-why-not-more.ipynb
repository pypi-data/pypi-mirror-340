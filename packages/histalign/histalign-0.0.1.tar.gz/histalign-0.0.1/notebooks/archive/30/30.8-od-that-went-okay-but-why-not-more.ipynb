{
 "cells": [
  {
   "metadata": {},
   "cell_type": "markdown",
   "source": [
    "# Improving the interpolated area\n",
    "\n",
    "The previous notebook went well, however only a small region of the target area seems to be interpolated. Let's try and find out why."
   ],
   "id": "9c861cf1562a34ff"
  },
  {
   "cell_type": "code",
   "id": "initial_id",
   "metadata": {
    "collapsed": true,
    "ExecuteTime": {
     "end_time": "2024-09-19T14:48:14.849509Z",
     "start_time": "2024-09-19T14:48:11.876433Z"
    }
   },
   "source": "from notebook_helpers import *",
   "outputs": [],
   "execution_count": 1
  },
  {
   "metadata": {},
   "cell_type": "markdown",
   "source": [
    "## Getting set up\n",
    "\n",
    "You know the drill."
   ],
   "id": "cb4a3f099646cc1f"
  },
  {
   "metadata": {
    "ExecuteTime": {
     "end_time": "2024-09-19T14:48:19.549544Z",
     "start_time": "2024-09-19T14:48:14.864267Z"
    }
   },
   "cell_type": "code",
   "source": [
    "volume_path = Path(\"resources/d2783eb27223868f57e159f01ce7a1b2.npz\")\n",
    "\n",
    "#\n",
    "# download_structure_mask(\"root\", Resolution.MICRONS_25)\n",
    "atlas_array = load_volume(\n",
    "    get_structure_mask_path(\"root\", Resolution.MICRONS_25), return_raw_array=True\n",
    ")\n",
    "\n",
    "aligned_array = np.load(volume_path)[\"array\"]\n",
    "\n",
    "masked_aligned_array = np.where(atlas_array > 0, aligned_array, 0)\n",
    "\n",
    "#\n",
    "# Front-upper-left eighth\n",
    "focused_area = (\n",
    "    (0, aligned_array.shape[0] // 2),\n",
    "    (0, aligned_array.shape[1] // 2),\n",
    "    (0, aligned_array.shape[2] // 2),\n",
    ")\n",
    "\n",
    "#\n",
    "atlas_array = atlas_array[\n",
    "    focused_area[0][0] : focused_area[0][1],\n",
    "    focused_area[1][0] : focused_area[1][1],\n",
    "    focused_area[2][0] : focused_area[2][1],\n",
    "]\n",
    "aligned_array = aligned_array[\n",
    "    focused_area[0][0] : focused_area[0][1],\n",
    "    focused_area[1][0] : focused_area[1][1],\n",
    "    focused_area[2][0] : focused_area[2][1],\n",
    "]\n",
    "masked_aligned_array = masked_aligned_array[\n",
    "    focused_area[0][0] : focused_area[0][1],\n",
    "    focused_area[1][0] : focused_area[1][1],\n",
    "    focused_area[2][0] : focused_area[2][1],\n",
    "]\n",
    "\n",
    "#\n",
    "atlas_volume = vedo.Volume(atlas_array)\n",
    "_ = atlas_volume.cmap(**get_cmap(atlas_volume, vmax=1))\n",
    "aligned_volume = vedo.Volume(aligned_array)\n",
    "_ = aligned_volume.cmap(**get_cmap(aligned_volume))\n",
    "masked_aligned_volume = vedo.Volume(masked_aligned_array)\n",
    "_ = masked_aligned_volume.cmap(**get_cmap(masked_aligned_volume))"
   ],
   "id": "e4dbc0640be6ad40",
   "outputs": [],
   "execution_count": 2
  },
  {
   "metadata": {
    "ExecuteTime": {
     "end_time": "2024-09-19T14:48:20.607517Z",
     "start_time": "2024-09-19T14:48:19.869550Z"
    }
   },
   "cell_type": "code",
   "source": [
    "known_coordinates = np.nonzero(masked_aligned_array)\n",
    "known_points = np.array(known_coordinates).T\n",
    "\n",
    "known_values = masked_aligned_array[known_coordinates]\n",
    "\n",
    "target_coordinates = np.nonzero(atlas_array)\n",
    "target_points = np.array(target_coordinates).T"
   ],
   "id": "a1a3074b22c74cf6",
   "outputs": [],
   "execution_count": 3
  },
  {
   "metadata": {},
   "cell_type": "markdown",
   "source": "Quick overview of the problem.",
   "id": "613bae0eaf918cf1"
  },
  {
   "metadata": {
    "ExecuteTime": {
     "end_time": "2024-09-19T14:48:23.685211Z",
     "start_time": "2024-09-19T14:48:20.650163Z"
    }
   },
   "cell_type": "code",
   "source": [
    "show(\n",
    "    {\n",
    "        \"Atlas\": atlas_volume,\n",
    "        \"Aligned\": aligned_volume,\n",
    "        \"Masked\": masked_aligned_volume,\n",
    "    },\n",
    "    n=3,\n",
    ")"
   ],
   "id": "538f5812380ad258",
   "outputs": [],
   "execution_count": 4
  },
  {
   "metadata": {},
   "cell_type": "markdown",
   "source": "Quick sanity check",
   "id": "928d1e5c4fe2d6e6"
  },
  {
   "metadata": {
    "ExecuteTime": {
     "end_time": "2024-09-19T14:48:24.074318Z",
     "start_time": "2024-09-19T14:48:23.782385Z"
    }
   },
   "cell_type": "code",
   "source": [
    "target_array = np.zeros_like(atlas_array)\n",
    "target_array[target_coordinates] = 1\n",
    "\n",
    "target_volume = vedo.Volume(target_array)\n",
    "_ = target_volume.cmap(**get_cmap(target_volume, vmax=1))"
   ],
   "id": "f97d444c16c81b0",
   "outputs": [],
   "execution_count": 5
  },
  {
   "metadata": {
    "ExecuteTime": {
     "end_time": "2024-09-19T14:48:26.524575Z",
     "start_time": "2024-09-19T14:48:24.138973Z"
    }
   },
   "cell_type": "code",
   "source": [
    "show(\n",
    "    {\n",
    "        \"Atlas\": atlas_volume,\n",
    "        \"Target\": target_volume,\n",
    "    },\n",
    "    n=2,\n",
    ")"
   ],
   "id": "1e0f1460fbccb423",
   "outputs": [],
   "execution_count": 6
  },
  {
   "metadata": {},
   "cell_type": "markdown",
   "source": "Right, seems the bug was right there. I was halving twice, once when getting the focused area and again when getting the target coordinates.",
   "id": "ff60ca61cad0a05a"
  },
  {
   "metadata": {},
   "cell_type": "markdown",
   "source": "## For good this time?",
   "id": "d6629a7ae680170e"
  },
  {
   "metadata": {
    "ExecuteTime": {
     "end_time": "2024-09-19T14:48:27.204195Z",
     "start_time": "2024-09-19T14:48:26.622103Z"
    }
   },
   "cell_type": "code",
   "source": [
    "neighbours = 3**3\n",
    "\n",
    "interpolator = RBFInterpolator(\n",
    "    known_points, known_values, kernel=\"linear\", neighbors=neighbours\n",
    ")\n",
    "\n",
    "da_target_points = da.from_array(target_points, chunks=(1_000, 3))\n",
    "target_values = da.map_blocks(\n",
    "    partial(interpolation_function, interpolator=interpolator),\n",
    "    da_target_points,\n",
    "    drop_axis=1,\n",
    "    dtype=np.float64,\n",
    ")"
   ],
   "id": "cfe05eda907e37ac",
   "outputs": [],
   "execution_count": 7
  },
  {
   "metadata": {
    "ExecuteTime": {
     "end_time": "2024-09-19T15:05:50.824133Z",
     "start_time": "2024-09-19T14:48:27.250839Z"
    }
   },
   "cell_type": "code",
   "source": "targets_values = target_values.compute()",
   "id": "c2be265e77931951",
   "outputs": [],
   "execution_count": 8
  },
  {
   "metadata": {
    "ExecuteTime": {
     "end_time": "2024-09-19T15:08:35.158006Z",
     "start_time": "2024-09-19T15:08:35.136593Z"
    }
   },
   "cell_type": "code",
   "source": "targets_values.shape",
   "id": "cd4a19f5d5c1d450",
   "outputs": [
    {
     "data": {
      "text/plain": [
       "(3135662,)"
      ]
     },
     "execution_count": 10,
     "metadata": {},
     "output_type": "execute_result"
    }
   ],
   "execution_count": 10
  },
  {
   "metadata": {
    "ExecuteTime": {
     "end_time": "2024-09-19T15:10:20.338758Z",
     "start_time": "2024-09-19T15:10:17.915236Z"
    }
   },
   "cell_type": "code",
   "source": [
    "os.makedirs(\"resources\", exist_ok=True)\n",
    "np.savez_compressed(\n",
    "    f\"resources/{volume_path.stem}.{neighbours}.interp.npz\", array=targets_values\n",
    ")"
   ],
   "id": "49b236c213c240f",
   "outputs": [],
   "execution_count": 13
  },
  {
   "metadata": {},
   "cell_type": "markdown",
   "source": "## Let's see",
   "id": "774aa8ec55c2317"
  },
  {
   "metadata": {
    "ExecuteTime": {
     "end_time": "2024-09-19T15:28:57.819954Z",
     "start_time": "2024-09-19T15:11:23.176808Z"
    }
   },
   "cell_type": "code",
   "source": [
    "interpolated_array = np.zeros_like(masked_aligned_array)\n",
    "interpolated_array[target_coordinates] = target_values\n",
    "\n",
    "interpolated_volume = vedo.Volume(interpolated_array)\n",
    "_ = interpolated_volume.cmap(**get_cmap(interpolated_volume))"
   ],
   "id": "6d861ea1ca98ad05",
   "outputs": [],
   "execution_count": 14
  },
  {
   "metadata": {
    "ExecuteTime": {
     "end_time": "2024-09-19T15:34:20.675465Z",
     "start_time": "2024-09-19T15:34:20.141198Z"
    }
   },
   "cell_type": "code",
   "source": [
    "np.savez_compressed(\n",
    "    f\"resources/{volume_path.stem}.{neighbours}.interp.array.npz\",\n",
    "    array=interpolated_array,\n",
    ")"
   ],
   "id": "ffecce050cce6c2",
   "outputs": [],
   "execution_count": 16
  },
  {
   "metadata": {
    "ExecuteTime": {
     "end_time": "2024-09-19T15:33:21.006092Z",
     "start_time": "2024-09-19T15:28:57.875951Z"
    }
   },
   "cell_type": "code",
   "source": [
    "show(\n",
    "    {\n",
    "        \"Atlas\": atlas_volume,\n",
    "        \"Masked\": masked_aligned_volume,\n",
    "        \"Interpolated\": interpolated_volume,\n",
    "    },\n",
    "    n=3,\n",
    ")"
   ],
   "id": "ffbe61c3c4a8852a",
   "outputs": [],
   "execution_count": 15
  }
 ],
 "metadata": {
  "kernelspec": {
   "display_name": "Python 3",
   "language": "python",
   "name": "python3"
  },
  "language_info": {
   "codemirror_mode": {
    "name": "ipython",
    "version": 2
   },
   "file_extension": ".py",
   "mimetype": "text/x-python",
   "name": "python",
   "nbconvert_exporter": "python",
   "pygments_lexer": "ipython2",
   "version": "2.7.6"
  }
 },
 "nbformat": 4,
 "nbformat_minor": 5
}
