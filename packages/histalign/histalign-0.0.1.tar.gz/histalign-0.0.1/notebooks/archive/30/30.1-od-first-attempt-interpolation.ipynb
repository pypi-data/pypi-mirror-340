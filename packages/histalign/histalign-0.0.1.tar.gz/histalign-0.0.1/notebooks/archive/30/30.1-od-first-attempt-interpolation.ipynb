{
 "cells": [
  {
   "cell_type": "code",
   "id": "initial_id",
   "metadata": {
    "collapsed": true
   },
   "source": [
    "import numpy as np\n",
    "\n",
    "from notebook_helpers import *"
   ],
   "outputs": [],
   "execution_count": null
  },
  {
   "metadata": {},
   "cell_type": "code",
   "source": [
    "from scipy.interpolate import (\n",
    "    RBFInterpolator,\n",
    "    RegularGridInterpolator,\n",
    "    griddata,\n",
    "    CloughTocher2DInterpolator,\n",
    "    LinearNDInterpolator,\n",
    ")\n",
    "from scipy import ndimage"
   ],
   "id": "66a9f77e5c0fc936",
   "outputs": [],
   "execution_count": null
  },
  {
   "metadata": {},
   "cell_type": "code",
   "source": [
    "alignment_volume_path = Path(\n",
    "    \"/home/ediun/.local/share/histalign/alignment_volumes/d2783eb27223868f57e159f01ce7a1b2.npz\"\n",
    ")"
   ],
   "id": "a4d4954971293f53",
   "outputs": [],
   "execution_count": null
  },
  {
   "metadata": {},
   "cell_type": "code",
   "source": [
    "alignment_volume = np.load(alignment_volume_path)[\"array\"][::5, ::5, :256]\n",
    "alignment_volume = convert_to_dtype(alignment_volume, np.uint8)\n",
    "print_array_size(alignment_volume)\n",
    "alignment_volume.shape"
   ],
   "id": "e5d8ddf3c53ed2a8",
   "outputs": [],
   "execution_count": null
  },
  {
   "metadata": {},
   "cell_type": "code",
   "source": "vedo.Volume(alignment_volume).show()",
   "id": "e0f22b36aa4b2e24",
   "outputs": [],
   "execution_count": null
  },
  {
   "metadata": {},
   "cell_type": "code",
   "source": [
    "x_old = np.linspace(0, alignment_volume.shape[0] - 1, alignment_volume.shape[0])\n",
    "y_old = np.linspace(0, alignment_volume.shape[1] - 1, alignment_volume.shape[1])\n",
    "z_old = np.linspace(0, alignment_volume.shape[2] - 1, alignment_volume.shape[2])"
   ],
   "id": "4570972d9684e461",
   "outputs": [],
   "execution_count": null
  },
  {
   "metadata": {},
   "cell_type": "code",
   "source": [
    "interpolator = RegularGridInterpolator(\n",
    "    (x_old, y_old, z_old), alignment_volume, method=\"linear\"\n",
    ")"
   ],
   "id": "c3527b1ee318daba",
   "outputs": [],
   "execution_count": null
  },
  {
   "metadata": {},
   "cell_type": "code",
   "source": [
    "x_new = np.linspace(\n",
    "    0, alignment_volume.shape[0] // 2 - 1, alignment_volume.shape[0] // 2\n",
    ")\n",
    "y_new = np.linspace(\n",
    "    0, alignment_volume.shape[1] // 2 - 1, alignment_volume.shape[1] // 2\n",
    ")\n",
    "z_new = np.linspace(\n",
    "    0, alignment_volume.shape[2] // 2 - 1, alignment_volume.shape[2] // 2\n",
    ")"
   ],
   "id": "ac93537c10fafd66",
   "outputs": [],
   "execution_count": null
  },
  {
   "metadata": {},
   "cell_type": "code",
   "source": [
    "points = np.indices((len(x_new), len(y_new), len(z_new)), dtype=np.uint8)\n",
    "points = points.reshape(len(x_new) * len(y_new) * len(z_new), 3)\n",
    "print_array_size(points)"
   ],
   "id": "70e32cb7f16b9c2b",
   "outputs": [],
   "execution_count": null
  },
  {
   "metadata": {},
   "cell_type": "code",
   "source": "points.shape",
   "id": "29928ac972d6273",
   "outputs": [],
   "execution_count": null
  },
  {
   "metadata": {},
   "cell_type": "code",
   "source": [
    "interpolated_data = interpolator(points)\n",
    "interpolated_data = interpolated_data.reshape(len(x_new), len(y_new), len(z_new))"
   ],
   "id": "7de710c60a21880c",
   "outputs": [],
   "execution_count": null
  },
  {
   "metadata": {},
   "cell_type": "code",
   "source": "vedo.Volume(interpolated_data).show()",
   "id": "a5aad5bab8310ca6",
   "outputs": [],
   "execution_count": null
  },
  {
   "metadata": {},
   "cell_type": "markdown",
   "source": "# Testing",
   "id": "aa2d3c57aef42793"
  },
  {
   "metadata": {},
   "cell_type": "code",
   "source": "target_coordinates = np.array(np.nonzero(alignment_volume == 0))",
   "id": "6d9027515cc65956",
   "outputs": [],
   "execution_count": null
  },
  {
   "metadata": {},
   "cell_type": "code",
   "source": [
    "interpolated_data = ndimage.map_coordinates(\n",
    "    alignment_volume, target_coordinates\n",
    ").astype(alignment_volume.dtype)"
   ],
   "id": "71906b52c3f6410",
   "outputs": [],
   "execution_count": null
  },
  {
   "metadata": {},
   "cell_type": "code",
   "source": "interpolated_volume = np.zeros_like(alignment_volume)",
   "id": "236cfbd3114b3259",
   "outputs": [],
   "execution_count": null
  },
  {
   "metadata": {},
   "cell_type": "code",
   "source": [
    "for i in range(target_coordinates.shape[1]):\n",
    "    interpolated_volume[target_coordinates[:, i]] = interpolated_data[i]"
   ],
   "id": "a3e6af1114f9872f",
   "outputs": [],
   "execution_count": null
  },
  {
   "metadata": {},
   "cell_type": "code",
   "source": "vedo.Volume(interpolated_data)",
   "id": "3aec656ba84a6f2e",
   "outputs": [],
   "execution_count": null
  },
  {
   "metadata": {},
   "cell_type": "markdown",
   "source": "",
   "id": "73e5021474ea1fef"
  },
  {
   "metadata": {},
   "cell_type": "code",
   "source": [
    "target_coordinates = np.array(np.nonzero(alignment_volume == 0))\n",
    "interpolated_data = ndimage.map_coordinates(alignment_volume, target_coordinates)"
   ],
   "id": "bebc936a48fff65",
   "outputs": [],
   "execution_count": null
  },
  {
   "metadata": {},
   "cell_type": "code",
   "source": "interpolated_data.max()",
   "id": "cb83bfc3250c9c6a",
   "outputs": [],
   "execution_count": null
  },
  {
   "metadata": {},
   "cell_type": "code",
   "source": [
    "interpolated_volume = np.zeros_like(alignment_volume)\n",
    "\n",
    "fancy_indices = tuple(map(tuple, target_coordinates.tolist()))\n",
    "interpolated_volume[fancy_indices] = interpolated_data"
   ],
   "id": "599bd782d643b328",
   "outputs": [],
   "execution_count": null
  },
  {
   "metadata": {},
   "cell_type": "markdown",
   "source": "",
   "id": "7c733b5c06d2eb9c"
  },
  {
   "metadata": {},
   "cell_type": "code",
   "source": "filtered_volume = ndimage.spline_filter(alignment_volume, order=2)",
   "id": "5249e8783d5cb82c",
   "outputs": [],
   "execution_count": null
  },
  {
   "metadata": {},
   "cell_type": "code",
   "source": [
    "volume = vedo.Volume(filtered_volume)\n",
    "volume.cmap(**get_cmap(volume))\n",
    "volume.show()"
   ],
   "id": "3f370c02cb32d9be",
   "outputs": [],
   "execution_count": null
  },
  {
   "metadata": {},
   "cell_type": "markdown",
   "source": "",
   "id": "50edc5147e378c6d"
  },
  {
   "metadata": {},
   "cell_type": "code",
   "source": [
    "value_coordinates = np.array(np.nonzero(alignment_volume > 0), dtype=np.uint16).T\n",
    "value_coordinates.shape"
   ],
   "id": "c711f0eae358de87",
   "outputs": [],
   "execution_count": null
  },
  {
   "metadata": {},
   "cell_type": "code",
   "source": [
    "target_coordinates = np.array(np.nonzero(alignment_volume == 0), dtype=np.uint16).T\n",
    "target_coordinates.shape"
   ],
   "id": "3fcf73bd511f340d",
   "outputs": [],
   "execution_count": null
  },
  {
   "metadata": {},
   "cell_type": "code",
   "source": [
    "values = alignment_volume[np.nonzero(alignment_volume)]\n",
    "values.shape"
   ],
   "id": "cf8267203c1e59c4",
   "outputs": [],
   "execution_count": null
  },
  {
   "metadata": {},
   "cell_type": "code",
   "source": [
    "y = value_coordinates\n",
    "d = values\n",
    "\n",
    "interpolator = RBFInterpolator(y, d, kernel=\"linear\")\n",
    "interpolator"
   ],
   "id": "f22152a6f9465ec4",
   "outputs": [],
   "execution_count": null
  },
  {
   "metadata": {},
   "cell_type": "code",
   "source": "print_size_from_bytes(12879873033316)",
   "id": "d1ce401599938219",
   "outputs": [],
   "execution_count": null
  },
  {
   "metadata": {},
   "cell_type": "markdown",
   "source": "",
   "id": "c3b3b2d1c72b603c"
  },
  {
   "metadata": {},
   "cell_type": "code",
   "source": [
    "value_coordinates = np.array(np.nonzero(alignment_volume > 0), dtype=np.uint16).T\n",
    "values = alignment_volume[np.nonzero(alignment_volume)]"
   ],
   "id": "a059b106528c65f4",
   "outputs": [],
   "execution_count": null
  },
  {
   "metadata": {},
   "cell_type": "code",
   "source": "target_coordinates = np.array(np.nonzero(alignment_volume == 0), dtype=np.uint16).T",
   "id": "ccadecdd48b3c702",
   "outputs": [],
   "execution_count": null
  },
  {
   "metadata": {},
   "cell_type": "code",
   "source": [
    "linear_interpolated = griddata(\n",
    "    value_coordinates, values, target_coordinates, method=\"linear\"\n",
    ")"
   ],
   "id": "699ad9f20bd0d6f1",
   "outputs": [],
   "execution_count": null
  },
  {
   "metadata": {},
   "cell_type": "markdown",
   "source": "",
   "id": "5fabba3c5a1e555"
  },
  {
   "metadata": {},
   "cell_type": "code",
   "source": [
    "known_values_coordinates = np.nonzero(alignment_volume)\n",
    "known_values = alignment_volume[known_values_coordinates]"
   ],
   "id": "719ead53d1c2f776",
   "outputs": [],
   "execution_count": null
  },
  {
   "metadata": {},
   "cell_type": "code",
   "source": [
    "points = np.array(known_values_coordinates).T\n",
    "values = known_values\n",
    "\n",
    "interpolator = LinearNDInterpolator(points, values)"
   ],
   "id": "89d2b92b5e051325",
   "outputs": [],
   "execution_count": null
  },
  {
   "metadata": {
    "jupyter": {
     "is_executing": true
    }
   },
   "cell_type": "code",
   "source": [
    "target_values_coordinates = np.nonzero(alignment_volume == 0)\n",
    "target_values = interpolator(target_values_coordinates)"
   ],
   "id": "1cecc43f814a92ee",
   "outputs": [],
   "execution_count": null
  },
  {
   "metadata": {
    "jupyter": {
     "is_executing": true
    }
   },
   "cell_type": "code",
   "source": "target_values.max()",
   "id": "6a918b768b205daf",
   "outputs": [],
   "execution_count": null
  }
 ],
 "metadata": {
  "kernelspec": {
   "display_name": "Python 3",
   "language": "python",
   "name": "python3"
  },
  "language_info": {
   "codemirror_mode": {
    "name": "ipython",
    "version": 2
   },
   "file_extension": ".py",
   "mimetype": "text/x-python",
   "name": "python",
   "nbconvert_exporter": "python",
   "pygments_lexer": "ipython2",
   "version": "2.7.6"
  }
 },
 "nbformat": 4,
 "nbformat_minor": 5
}
