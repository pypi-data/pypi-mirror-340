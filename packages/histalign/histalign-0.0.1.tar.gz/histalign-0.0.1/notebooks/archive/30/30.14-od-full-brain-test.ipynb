{
 "cells": [
  {
   "metadata": {},
   "cell_type": "markdown",
   "source": [
    "# Full test\n",
    "\n",
    "Now that hyperparameters have been tuned for the best approximation of the problem, let's put it into practice on a brain (or an hemisphere)."
   ],
   "id": "feccaa35971e16de"
  },
  {
   "cell_type": "code",
   "id": "initial_id",
   "metadata": {
    "collapsed": true,
    "ExecuteTime": {
     "end_time": "2024-09-23T09:23:46.613719Z",
     "start_time": "2024-09-23T09:23:45.439814Z"
    }
   },
   "source": "from helper_loader import *",
   "outputs": [],
   "execution_count": 1
  },
  {
   "metadata": {
    "ExecuteTime": {
     "end_time": "2024-09-23T09:23:46.832419Z",
     "start_time": "2024-09-23T09:23:46.822826Z"
    }
   },
   "cell_type": "code",
   "source": "volume_path = Path(\"resources/d2783eb27223868f57e159f01ce7a1b2.npz\")",
   "id": "2f07b8e05eb5d213",
   "outputs": [],
   "execution_count": 2
  },
  {
   "metadata": {
    "ExecuteTime": {
     "end_time": "2024-09-23T09:23:49.889887Z",
     "start_time": "2024-09-23T09:23:48.451860Z"
    }
   },
   "cell_type": "code",
   "source": [
    "atlas_array = load_volume(\n",
    "    get_structure_mask_path(\"root\", Resolution.MICRONS_25),\n",
    "    return_raw_array=True,\n",
    ")\n",
    "masked_array = np.where(atlas_array, np.load(volume_path)[\"array\"], 0)"
   ],
   "id": "20706766b89ba49",
   "outputs": [],
   "execution_count": 3
  },
  {
   "metadata": {
    "ExecuteTime": {
     "end_time": "2024-09-23T09:23:55.388750Z",
     "start_time": "2024-09-23T09:23:54.185493Z"
    }
   },
   "cell_type": "code",
   "source": [
    "known_coordinates = np.nonzero(masked_array)\n",
    "known_points = np.array(known_coordinates).T\n",
    "\n",
    "known_values = masked_array[known_coordinates]\n",
    "\n",
    "target_coordinates = np.nonzero(atlas_array)\n",
    "target_points = np.array(target_coordinates).T"
   ],
   "id": "4b1c192f54e0ce94",
   "outputs": [],
   "execution_count": 4
  },
  {
   "metadata": {
    "ExecuteTime": {
     "end_time": "2024-09-23T09:24:19.018097Z",
     "start_time": "2024-09-23T09:24:18.466326Z"
    }
   },
   "cell_type": "code",
   "source": [
    "interpolator = RBFInterpolator(\n",
    "    known_points,\n",
    "    known_values,\n",
    "    kernel=\"multiquadric\",\n",
    "    neighbors=27,\n",
    "    epsilon=1,\n",
    ")"
   ],
   "id": "fd6dc3713d19a8e0",
   "outputs": [],
   "execution_count": 5
  },
  {
   "metadata": {
    "ExecuteTime": {
     "end_time": "2024-09-23T09:52:34.462903Z",
     "start_time": "2024-09-23T09:52:34.334641Z"
    }
   },
   "cell_type": "code",
   "source": [
    "chunk_size = 1_000_000\n",
    "chunk_count = math.ceil(np.prod(target_points.shape[0]) / chunk_size)\n",
    "chunk_index = 1\n",
    "\n",
    "failed_chunks = []\n",
    "\n",
    "interpolated_array = np.zeros_like(atlas_array, dtype=np.float64)"
   ],
   "id": "be7c1f9b7974858c",
   "outputs": [],
   "execution_count": 20
  },
  {
   "metadata": {
    "ExecuteTime": {
     "end_time": "2024-09-23T10:10:52.333300Z",
     "start_time": "2024-09-23T09:52:34.989154Z"
    }
   },
   "cell_type": "code",
   "source": [
    "chunk_start = 0\n",
    "chunk_end = chunk_start + chunk_size\n",
    "while True:\n",
    "    if chunk_start >= target_points.shape[0]:\n",
    "        break\n",
    "\n",
    "    logging.info(f\"Computing chunk {chunk_index}/{chunk_count}.\")\n",
    "\n",
    "    chunk = target_points[chunk_start:chunk_end]\n",
    "    coordinates = tuple(\n",
    "        coordinates[chunk_start:chunk_end] for coordinates in target_coordinates\n",
    "    )\n",
    "\n",
    "    try:\n",
    "        interpolated_array[coordinates] = interpolator(chunk)\n",
    "    except np.linalg.LinAlgError:\n",
    "        failed_chunks.append([chunk_start, chunk_end])\n",
    "        logging.info(\"Failed to interpolate chunk.\")\n",
    "\n",
    "    chunk_start += chunk_size\n",
    "    chunk_end += chunk_size\n",
    "\n",
    "    chunk_index += 1"
   ],
   "id": "70660ccd3d11d583",
   "outputs": [
    {
     "name": "stderr",
     "output_type": "stream",
     "text": [
      "[2024-09-23 10:52:35] - [    INFO ] - Computing chunk 1/33. (root:7)\n",
      "[2024-09-23 10:52:54] - [    INFO ] - Computing chunk 2/33. (root:7)\n",
      "[2024-09-23 10:53:18] - [    INFO ] - Computing chunk 3/33. (root:7)\n",
      "[2024-09-23 10:53:46] - [    INFO ] - Computing chunk 4/33. (root:7)\n",
      "[2024-09-23 10:54:17] - [    INFO ] - Computing chunk 5/33. (root:7)\n",
      "[2024-09-23 10:54:49] - [    INFO ] - Computing chunk 6/33. (root:7)\n",
      "[2024-09-23 10:55:23] - [    INFO ] - Computing chunk 7/33. (root:7)\n",
      "[2024-09-23 10:55:58] - [    INFO ] - Computing chunk 8/33. (root:7)\n",
      "[2024-09-23 10:56:33] - [    INFO ] - Computing chunk 9/33. (root:7)\n",
      "[2024-09-23 10:57:09] - [    INFO ] - Computing chunk 10/33. (root:7)\n",
      "[2024-09-23 10:57:45] - [    INFO ] - Computing chunk 11/33. (root:7)\n",
      "[2024-09-23 10:58:20] - [    INFO ] - Computing chunk 12/33. (root:7)\n",
      "[2024-09-23 10:58:56] - [    INFO ] - Computing chunk 13/33. (root:7)\n",
      "[2024-09-23 10:59:33] - [    INFO ] - Computing chunk 14/33. (root:7)\n",
      "[2024-09-23 11:00:09] - [    INFO ] - Computing chunk 15/33. (root:7)\n",
      "[2024-09-23 11:00:47] - [    INFO ] - Computing chunk 16/33. (root:7)\n",
      "[2024-09-23 11:01:24] - [    INFO ] - Computing chunk 17/33. (root:7)\n",
      "[2024-09-23 11:02:02] - [    INFO ] - Computing chunk 18/33. (root:7)\n",
      "[2024-09-23 11:02:40] - [    INFO ] - Computing chunk 19/33. (root:7)\n",
      "[2024-09-23 11:03:17] - [    INFO ] - Computing chunk 20/33. (root:7)\n",
      "[2024-09-23 11:03:55] - [    INFO ] - Computing chunk 21/33. (root:7)\n",
      "[2024-09-23 11:04:31] - [    INFO ] - Computing chunk 22/33. (root:7)\n",
      "[2024-09-23 11:05:08] - [    INFO ] - Computing chunk 23/33. (root:7)\n",
      "[2024-09-23 11:05:46] - [    INFO ] - Computing chunk 24/33. (root:7)\n",
      "[2024-09-23 11:06:23] - [    INFO ] - Computing chunk 25/33. (root:7)\n",
      "[2024-09-23 11:06:57] - [    INFO ] - Computing chunk 26/33. (root:7)\n",
      "[2024-09-23 11:07:30] - [    INFO ] - Computing chunk 27/33. (root:7)\n",
      "[2024-09-23 11:08:04] - [    INFO ] - Computing chunk 28/33. (root:7)\n",
      "[2024-09-23 11:08:39] - [    INFO ] - Computing chunk 29/33. (root:7)\n",
      "[2024-09-23 11:09:13] - [    INFO ] - Computing chunk 30/33. (root:7)\n",
      "[2024-09-23 11:09:46] - [    INFO ] - Computing chunk 31/33. (root:7)\n",
      "[2024-09-23 11:10:17] - [    INFO ] - Computing chunk 32/33. (root:7)\n",
      "[2024-09-23 11:10:44] - [    INFO ] - Computing chunk 33/33. (root:7)\n"
     ]
    }
   ],
   "execution_count": 21
  },
  {
   "metadata": {},
   "cell_type": "code",
   "source": [
    "volume = vedo.Volume(interpolated_array[..., : interpolated_array.shape[2] // 2])\n",
    "volume.cmap(**get_cmap(volume, vmin=0, vmax=interpolated_array.max()))\n",
    "show(volume)"
   ],
   "id": "88e55970cfd7967f",
   "outputs": [],
   "execution_count": 34
  },
  {
   "metadata": {
    "ExecuteTime": {
     "end_time": "2024-09-23T10:26:06.746572Z",
     "start_time": "2024-09-23T10:26:06.704756Z"
    }
   },
   "cell_type": "code",
   "source": [
    "from ipywidgets import interact\n",
    "\n",
    "\n",
    "def update(index: int = 0):\n",
    "    imshow(interpolated_array[..., index].T)\n",
    "\n",
    "\n",
    "interact(update, index=(0, interpolated_array.shape[2] // 2));"
   ],
   "id": "65c36b8b6f06b7a8",
   "outputs": [
    {
     "data": {
      "text/plain": [
       "interactive(children=(IntSlider(value=0, description='index', max=228), Output()), _dom_classes=('widget-inter…"
      ],
      "application/vnd.jupyter.widget-view+json": {
       "version_major": 2,
       "version_minor": 0,
       "model_id": "92cf66d05ed9466ba6099074291ad659"
      }
     },
     "metadata": {},
     "output_type": "display_data"
    }
   ],
   "execution_count": 67
  },
  {
   "metadata": {
    "ExecuteTime": {
     "end_time": "2024-09-23T11:19:42.391599Z",
     "start_time": "2024-09-23T11:19:42.374798Z"
    }
   },
   "cell_type": "code",
   "source": [
    "def interpolate_3d_array(\n",
    "    array: np.ndarray,\n",
    "    reference_mask: Optional[np.ndarray] = None,\n",
    "    pre_masked: bool = False,\n",
    "    kernel: str = \"multiquadric\",\n",
    "    neighbours: int = 27,\n",
    "    epsilon: int = 1,\n",
    "    chunk_size: Optional[int] = 100_000,\n",
    "    recursive: bool = False,\n",
    ") -> np.ndarray:\n",
    "    if reference_mask is not None and (array_shape := array.shape) != (\n",
    "        reference_shape := reference_mask.shape\n",
    "    ):\n",
    "        raise ValueError(\n",
    "            f\"Array and reference mask have different shapes \"\n",
    "            f\"({array_shape} vs {reference_shape}).\"\n",
    "        )\n",
    "\n",
    "    # Mask the array\n",
    "    if reference_mask is not None and not pre_masked:\n",
    "        array = np.where(reference_mask, array, 0)\n",
    "\n",
    "    interpolated_array = array.copy()\n",
    "\n",
    "    if reference_mask is None:\n",
    "        # Interpolate the whole grid\n",
    "        target_coordinates = tuple(\n",
    "            array.flatten().astype(int)\n",
    "            for array in np.meshgrid(\n",
    "                np.linspace(\n",
    "                    0, interpolated_array.shape[0] - 1, interpolated_array.shape[0]\n",
    "                ),\n",
    "                np.linspace(\n",
    "                    0, interpolated_array.shape[1] - 1, interpolated_array.shape[1]\n",
    "                ),\n",
    "                np.linspace(\n",
    "                    0, interpolated_array.shape[2] - 1, interpolated_array.shape[2]\n",
    "                ),\n",
    "                indexing=\"ij\",\n",
    "            )\n",
    "        )\n",
    "    else:\n",
    "        # Interpolate only non-zero coordinates of mask\n",
    "        target_coordinates = np.nonzero(reference_mask)\n",
    "    target_points = np.array(target_coordinates).T\n",
    "\n",
    "    if chunk_size is None:\n",
    "        chunk_size = target_points.shape[0]\n",
    "\n",
    "    logging.info(\"Starting interpolation.\")\n",
    "\n",
    "    failed_chunks = []\n",
    "    previous_target_size = target_points.shape[0]\n",
    "    while True:\n",
    "        known_coordinates = np.nonzero(interpolated_array)\n",
    "        known_points = np.array(known_coordinates).T\n",
    "\n",
    "        known_values = array[known_coordinates]\n",
    "\n",
    "        interpolator = RBFInterpolator(\n",
    "            known_points,\n",
    "            known_values,\n",
    "            kernel=kernel,\n",
    "            neighbors=neighbours,\n",
    "            epsilon=epsilon,\n",
    "        )\n",
    "\n",
    "        chunk_start = 0\n",
    "        chunk_end = chunk_size\n",
    "        chunk_index = 1\n",
    "        chunk_count = math.ceil(target_points.shape[0] / chunk_size)\n",
    "        while chunk_start < target_points.shape[0]:\n",
    "            logging.info(f\"Interpolating chunk {chunk_index}/{chunk_count}.\")\n",
    "\n",
    "            chunk = target_points[chunk_start:chunk_end]\n",
    "            coordinates = tuple(\n",
    "                coordinate[chunk_start:chunk_end] for coordinate in target_coordinates\n",
    "            )\n",
    "\n",
    "            try:\n",
    "                interpolated_array[coordinates] = interpolator(chunk)\n",
    "            except np.linalg.LinAlgError:\n",
    "                failed_chunks.append([chunk_start, chunk_end])\n",
    "                logging.info(f\"Failed to interpolate chunk {chunk_index}.\")\n",
    "\n",
    "            chunk_start += chunk_size\n",
    "            chunk_end += chunk_size\n",
    "            chunk_index += 1\n",
    "\n",
    "        if not recursive or len(failed_chunks) == 0:\n",
    "            break\n",
    "\n",
    "        # Prepare the next loop\n",
    "        target_coordinates = tuple(\n",
    "            np.concatenate(\n",
    "                [target_coordinate[start:end] for start, end in failed_chunks]\n",
    "            )\n",
    "            for target_coordinate in target_coordinates\n",
    "        )\n",
    "        target_points = np.array(target_coordinates).T\n",
    "        failed_chunks = []\n",
    "\n",
    "        # Avoid infinitely looping\n",
    "        if previous_target_size == target_coordinates.shape[0]:\n",
    "            logging.error(\n",
    "                f\"Interpolation is not fully solvable with current combination of\"\n",
    "                f\"neighbours parameter and chunk size.\"\n",
    "            )\n",
    "            break\n",
    "        previous_target_size = target_coordinates.shape[0]\n",
    "\n",
    "        logging.info(\n",
    "            f\"There were {len(failed_chunks)} failed chunks. \"\n",
    "            f\"Recursing with newly interpolated data.\"\n",
    "        )\n",
    "\n",
    "    return interpolated_array"
   ],
   "id": "f58907b8f449bd20",
   "outputs": [],
   "execution_count": 73
  },
  {
   "metadata": {
    "ExecuteTime": {
     "end_time": "2024-09-23T11:20:16.310404Z",
     "start_time": "2024-09-23T11:19:50.432917Z"
    }
   },
   "cell_type": "code",
   "source": [
    "custom_interpolated_array = interpolate_3d_array(\n",
    "    masked_array,\n",
    "    reference_mask=atlas_array,\n",
    "    pre_masked=True,\n",
    "    recursive=True,\n",
    ")"
   ],
   "id": "79984ddd1915df9b",
   "outputs": [
    {
     "name": "stderr",
     "output_type": "stream",
     "text": [
      "[2024-09-23 12:19:53] - [    INFO ] - Starting interpolation. (root:50)\n",
      "[2024-09-23 12:19:55] - [    INFO ] - Interpolating chunk 1/324. (root:73)\n",
      "[2024-09-23 12:19:58] - [    INFO ] - Interpolating chunk 2/324. (root:73)\n",
      "[2024-09-23 12:20:00] - [    INFO ] - Interpolating chunk 3/324. (root:73)\n",
      "[2024-09-23 12:20:02] - [    INFO ] - Interpolating chunk 4/324. (root:73)\n",
      "[2024-09-23 12:20:04] - [    INFO ] - Interpolating chunk 5/324. (root:73)\n",
      "[2024-09-23 12:20:06] - [    INFO ] - Interpolating chunk 6/324. (root:73)\n",
      "[2024-09-23 12:20:08] - [    INFO ] - Interpolating chunk 7/324. (root:73)\n",
      "[2024-09-23 12:20:10] - [    INFO ] - Interpolating chunk 8/324. (root:73)\n",
      "[2024-09-23 12:20:12] - [    INFO ] - Interpolating chunk 9/324. (root:73)\n",
      "[2024-09-23 12:20:14] - [    INFO ] - Interpolating chunk 10/324. (root:73)\n"
     ]
    },
    {
     "ename": "KeyboardInterrupt",
     "evalue": "",
     "output_type": "error",
     "traceback": [
      "\u001B[0;31m---------------------------------------------------------------------------\u001B[0m",
      "\u001B[0;31mKeyboardInterrupt\u001B[0m                         Traceback (most recent call last)",
      "Cell \u001B[0;32mIn[74], line 1\u001B[0m\n\u001B[0;32m----> 1\u001B[0m custom_interpolated_array \u001B[38;5;241m=\u001B[39m \u001B[43minterpolate_3d_array\u001B[49m\u001B[43m(\u001B[49m\n\u001B[1;32m      2\u001B[0m \u001B[43m    \u001B[49m\u001B[43mmasked_array\u001B[49m\u001B[43m,\u001B[49m\n\u001B[1;32m      3\u001B[0m \u001B[43m    \u001B[49m\u001B[43mreference_mask\u001B[49m\u001B[38;5;241;43m=\u001B[39;49m\u001B[43matlas_array\u001B[49m\u001B[43m,\u001B[49m\n\u001B[1;32m      4\u001B[0m \u001B[43m    \u001B[49m\u001B[43mpre_masked\u001B[49m\u001B[38;5;241;43m=\u001B[39;49m\u001B[38;5;28;43;01mTrue\u001B[39;49;00m\u001B[43m,\u001B[49m\n\u001B[1;32m      5\u001B[0m \u001B[43m    \u001B[49m\u001B[43mrecursive\u001B[49m\u001B[38;5;241;43m=\u001B[39;49m\u001B[38;5;28;43;01mTrue\u001B[39;49;00m\u001B[43m,\u001B[49m\n\u001B[1;32m      6\u001B[0m \u001B[43m)\u001B[49m\n",
      "Cell \u001B[0;32mIn[73], line 81\u001B[0m, in \u001B[0;36minterpolate_3d_array\u001B[0;34m(array, reference_mask, pre_masked, kernel, neighbours, epsilon, chunk_size, recursive)\u001B[0m\n\u001B[1;32m     76\u001B[0m coordinates \u001B[38;5;241m=\u001B[39m \u001B[38;5;28mtuple\u001B[39m(\n\u001B[1;32m     77\u001B[0m     coordinate[chunk_start:chunk_end] \u001B[38;5;28;01mfor\u001B[39;00m coordinate \u001B[38;5;129;01min\u001B[39;00m target_coordinates\n\u001B[1;32m     78\u001B[0m )\n\u001B[1;32m     80\u001B[0m \u001B[38;5;28;01mtry\u001B[39;00m:\n\u001B[0;32m---> 81\u001B[0m     interpolated_array[coordinates] \u001B[38;5;241m=\u001B[39m \u001B[43minterpolator\u001B[49m\u001B[43m(\u001B[49m\u001B[43mchunk\u001B[49m\u001B[43m)\u001B[49m\n\u001B[1;32m     82\u001B[0m \u001B[38;5;28;01mexcept\u001B[39;00m np\u001B[38;5;241m.\u001B[39mlinalg\u001B[38;5;241m.\u001B[39mLinAlgError:\n\u001B[1;32m     83\u001B[0m     failed_chunks\u001B[38;5;241m.\u001B[39mappend([chunk_start, chunk_end])\n",
      "File \u001B[0;32m~/.local/share/hatch/env/virtual/histalign/oFfvMJyE/histalign/lib/python3.10/site-packages/scipy/interpolate/_rbfinterp.py:501\u001B[0m, in \u001B[0;36mRBFInterpolator.__call__\u001B[0;34m(self, x)\u001B[0m\n\u001B[1;32m    491\u001B[0m     out \u001B[38;5;241m=\u001B[39m \u001B[38;5;28mself\u001B[39m\u001B[38;5;241m.\u001B[39m_chunk_evaluator(\n\u001B[1;32m    492\u001B[0m         x,\n\u001B[1;32m    493\u001B[0m         \u001B[38;5;28mself\u001B[39m\u001B[38;5;241m.\u001B[39my,\n\u001B[0;32m   (...)\u001B[0m\n\u001B[1;32m    496\u001B[0m         \u001B[38;5;28mself\u001B[39m\u001B[38;5;241m.\u001B[39m_coeffs,\n\u001B[1;32m    497\u001B[0m         memory_budget\u001B[38;5;241m=\u001B[39mmemory_budget)\n\u001B[1;32m    498\u001B[0m \u001B[38;5;28;01melse\u001B[39;00m:\n\u001B[1;32m    499\u001B[0m     \u001B[38;5;66;03m# Get the indices of the k nearest observation points to each\u001B[39;00m\n\u001B[1;32m    500\u001B[0m     \u001B[38;5;66;03m# evaluation point.\u001B[39;00m\n\u001B[0;32m--> 501\u001B[0m     _, yindices \u001B[38;5;241m=\u001B[39m \u001B[38;5;28;43mself\u001B[39;49m\u001B[38;5;241;43m.\u001B[39;49m\u001B[43m_tree\u001B[49m\u001B[38;5;241;43m.\u001B[39;49m\u001B[43mquery\u001B[49m\u001B[43m(\u001B[49m\u001B[43mx\u001B[49m\u001B[43m,\u001B[49m\u001B[43m \u001B[49m\u001B[38;5;28;43mself\u001B[39;49m\u001B[38;5;241;43m.\u001B[39;49m\u001B[43mneighbors\u001B[49m\u001B[43m)\u001B[49m\n\u001B[1;32m    502\u001B[0m     \u001B[38;5;28;01mif\u001B[39;00m \u001B[38;5;28mself\u001B[39m\u001B[38;5;241m.\u001B[39mneighbors \u001B[38;5;241m==\u001B[39m \u001B[38;5;241m1\u001B[39m:\n\u001B[1;32m    503\u001B[0m         \u001B[38;5;66;03m# `KDTree` squeezes the output when neighbors=1.\u001B[39;00m\n\u001B[1;32m    504\u001B[0m         yindices \u001B[38;5;241m=\u001B[39m yindices[:, \u001B[38;5;28;01mNone\u001B[39;00m]\n",
      "File \u001B[0;32m~/.local/share/hatch/env/virtual/histalign/oFfvMJyE/histalign/lib/python3.10/site-packages/scipy/spatial/_kdtree.py:475\u001B[0m, in \u001B[0;36mKDTree.query\u001B[0;34m(self, x, k, eps, p, distance_upper_bound, workers)\u001B[0m\n\u001B[1;32m    472\u001B[0m \u001B[38;5;28;01mif\u001B[39;00m k \u001B[38;5;129;01mis\u001B[39;00m \u001B[38;5;28;01mNone\u001B[39;00m:\n\u001B[1;32m    473\u001B[0m     \u001B[38;5;28;01mraise\u001B[39;00m \u001B[38;5;167;01mValueError\u001B[39;00m(\u001B[38;5;124m\"\u001B[39m\u001B[38;5;124mk must be an integer or a sequence of integers\u001B[39m\u001B[38;5;124m\"\u001B[39m)\n\u001B[0;32m--> 475\u001B[0m d, i \u001B[38;5;241m=\u001B[39m \u001B[38;5;28;43msuper\u001B[39;49m\u001B[43m(\u001B[49m\u001B[43m)\u001B[49m\u001B[38;5;241;43m.\u001B[39;49m\u001B[43mquery\u001B[49m\u001B[43m(\u001B[49m\u001B[43mx\u001B[49m\u001B[43m,\u001B[49m\u001B[43m \u001B[49m\u001B[43mk\u001B[49m\u001B[43m,\u001B[49m\u001B[43m \u001B[49m\u001B[43meps\u001B[49m\u001B[43m,\u001B[49m\u001B[43m \u001B[49m\u001B[43mp\u001B[49m\u001B[43m,\u001B[49m\u001B[43m \u001B[49m\u001B[43mdistance_upper_bound\u001B[49m\u001B[43m,\u001B[49m\u001B[43m \u001B[49m\u001B[43mworkers\u001B[49m\u001B[43m)\u001B[49m\n\u001B[1;32m    476\u001B[0m \u001B[38;5;28;01mif\u001B[39;00m \u001B[38;5;28misinstance\u001B[39m(i, \u001B[38;5;28mint\u001B[39m):\n\u001B[1;32m    477\u001B[0m     i \u001B[38;5;241m=\u001B[39m np\u001B[38;5;241m.\u001B[39mintp(i)\n",
      "File \u001B[0;32m_ckdtree.pyx:824\u001B[0m, in \u001B[0;36mscipy.spatial._ckdtree.cKDTree.query\u001B[0;34m()\u001B[0m\n",
      "File \u001B[0;32m~/.local/share/hatch/env/virtual/histalign/oFfvMJyE/histalign/lib/python3.10/site-packages/numpy/core/fromnumeric.py:195\u001B[0m, in \u001B[0;36m_reshape_dispatcher\u001B[0;34m(a, newshape, order)\u001B[0m\n\u001B[1;32m     97\u001B[0m \u001B[38;5;250m    \u001B[39m\u001B[38;5;124;03m\"\"\"\u001B[39;00m\n\u001B[1;32m     98\u001B[0m \u001B[38;5;124;03m    Take elements from an array along an axis.\u001B[39;00m\n\u001B[1;32m     99\u001B[0m \n\u001B[0;32m   (...)\u001B[0m\n\u001B[1;32m    190\u001B[0m \u001B[38;5;124;03m           [5, 7]])\u001B[39;00m\n\u001B[1;32m    191\u001B[0m \u001B[38;5;124;03m    \"\"\"\u001B[39;00m\n\u001B[1;32m    192\u001B[0m     \u001B[38;5;28;01mreturn\u001B[39;00m _wrapfunc(a, \u001B[38;5;124m'\u001B[39m\u001B[38;5;124mtake\u001B[39m\u001B[38;5;124m'\u001B[39m, indices, axis\u001B[38;5;241m=\u001B[39maxis, out\u001B[38;5;241m=\u001B[39mout, mode\u001B[38;5;241m=\u001B[39mmode)\n\u001B[0;32m--> 195\u001B[0m \u001B[38;5;28;01mdef\u001B[39;00m \u001B[38;5;21m_reshape_dispatcher\u001B[39m(a, newshape, order\u001B[38;5;241m=\u001B[39m\u001B[38;5;28;01mNone\u001B[39;00m):\n\u001B[1;32m    196\u001B[0m     \u001B[38;5;28;01mreturn\u001B[39;00m (a,)\n\u001B[1;32m    199\u001B[0m \u001B[38;5;66;03m# not deprecated --- copy if necessary, view otherwise\u001B[39;00m\n",
      "\u001B[0;31mKeyboardInterrupt\u001B[0m: "
     ]
    }
   ],
   "execution_count": 74
  }
 ],
 "metadata": {
  "kernelspec": {
   "display_name": "Python 3",
   "language": "python",
   "name": "python3"
  },
  "language_info": {
   "codemirror_mode": {
    "name": "ipython",
    "version": 2
   },
   "file_extension": ".py",
   "mimetype": "text/x-python",
   "name": "python",
   "nbconvert_exporter": "python",
   "pygments_lexer": "ipython2",
   "version": "2.7.6"
  }
 },
 "nbformat": 4,
 "nbformat_minor": 5
}
