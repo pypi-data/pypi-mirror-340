{
 "cells": [
  {
   "cell_type": "markdown",
   "id": "157dbe6d32f01a12",
   "metadata": {},
   "source": [
    "# Summary\n",
    "\n",
    "In summary, it seems inverse multiquadric interpolation, with degree 0, and a reasonable number of neighbours (e.g., 3 ** 3 = 27) performs best for the kind of sparse data we get from the alignment.  "
   ]
  },
  {
   "cell_type": "code",
   "id": "initial_id",
   "metadata": {
    "ExecuteTime": {
     "end_time": "2024-09-26T10:20:36.727378Z",
     "start_time": "2024-09-26T10:20:34.717416Z"
    }
   },
   "source": [
    "from helper_loader import *"
   ],
   "outputs": [],
   "execution_count": 1
  },
  {
   "cell_type": "code",
   "id": "db6620759378b4ba",
   "metadata": {
    "ExecuteTime": {
     "end_time": "2024-09-26T10:20:36.745387Z",
     "start_time": "2024-09-26T10:20:36.733144Z"
    }
   },
   "source": [
    "volume_path = Path(\"resources/d2783eb27223868f57e159f01ce7a1b2.npz\")"
   ],
   "outputs": [],
   "execution_count": 2
  },
  {
   "cell_type": "code",
   "id": "7b9dd71b05c5d127",
   "metadata": {
    "ExecuteTime": {
     "end_time": "2024-09-26T10:20:38.555943Z",
     "start_time": "2024-09-26T10:20:36.962079Z"
    }
   },
   "source": [
    "aligned_array = np.load(volume_path)[\"array\"]\n",
    "root_mask_array = load_volume(\n",
    "    get_structure_mask_path(\"root\", Resolution.MICRONS_25),\n",
    "    return_raw_array=True,\n",
    ")"
   ],
   "outputs": [],
   "execution_count": 3
  },
  {
   "cell_type": "code",
   "id": "3c90d446e31adefa",
   "metadata": {
    "ExecuteTime": {
     "end_time": "2024-09-26T10:20:38.588468Z",
     "start_time": "2024-09-26T10:20:38.578995Z"
    }
   },
   "source": [
    "# interpolated_data = interpolate_sparse_3d_array(\n",
    "#     aligned_array,\n",
    "#     reference_mask=root_mask_array,\n",
    "#     kernel=\"inverse_multiquadric\",\n",
    "#     neighbours=27,\n",
    "# )"
   ],
   "outputs": [],
   "execution_count": 4
  },
  {
   "cell_type": "code",
   "id": "91682e2347304fd5",
   "metadata": {
    "ExecuteTime": {
     "end_time": "2024-09-26T10:20:38.618283Z",
     "start_time": "2024-09-26T10:20:38.608358Z"
    }
   },
   "source": [
    "# np.savez_compressed(\n",
    "#     \"resources/30_17-interpolation.27.inverse-multiquadric.npz\", array=interpolated_data\n",
    "# )"
   ],
   "outputs": [],
   "execution_count": 5
  },
  {
   "cell_type": "code",
   "id": "e04376a9bfed617f",
   "metadata": {
    "ExecuteTime": {
     "end_time": "2024-09-26T10:20:40.659691Z",
     "start_time": "2024-09-26T10:20:38.658606Z"
    }
   },
   "source": [
    "interpolated_data = np.load(\n",
    "    \"resources/30_17-interpolation.27.inverse-multiquadric.npz\"\n",
    ")[\"array\"]"
   ],
   "outputs": [],
   "execution_count": 6
  },
  {
   "cell_type": "code",
   "id": "c1f969c3d6a573b7",
   "metadata": {
    "ExecuteTime": {
     "end_time": "2024-09-26T10:20:41.635358Z",
     "start_time": "2024-09-26T10:20:40.673360Z"
    }
   },
   "source": [
    "hist(aligned_array.flatten(), log=True, bins=100)"
   ],
   "outputs": [
    {
     "data": {
      "text/plain": [
       "<Figure size 640x480 with 1 Axes>"
      ],
      "image/png": "[encoded data removed]"
     },
     "metadata": {},
     "output_type": "display_data"
    }
   ],
   "execution_count": 7
  },
  {
   "cell_type": "code",
   "id": "2b5bfb3103d61c5c",
   "metadata": {
    "ExecuteTime": {
     "end_time": "2024-09-26T10:20:42.803949Z",
     "start_time": "2024-09-26T10:20:41.651221Z"
    }
   },
   "source": [
    "hist(interpolated_data.flatten(), log=True, bins=100)"
   ],
   "outputs": [
    {
     "data": {
      "text/plain": [
       "<Figure size 640x480 with 1 Axes>"
      ],
      "image/png": "[encoded data removed]"
     },
     "metadata": {},
     "output_type": "display_data"
    }
   ],
   "execution_count": 8
  },
  {
   "cell_type": "markdown",
   "id": "64fbaa682cc967a5",
   "metadata": {},
   "source": [
    "## Visualising the raw volume\n",
    "\n",
    "Because there are negative values and the background is 0, we just get a nice rectangular parallelepiped."
   ]
  },
  {
   "cell_type": "code",
   "id": "53c08aea087de3cc",
   "metadata": {
    "ExecuteTime": {
     "end_time": "2024-09-26T10:20:45.869431Z",
     "start_time": "2024-09-26T10:20:42.837607Z"
    }
   },
   "source": [
    "raw_volume = vedo.Volume(interpolated_data)\n",
    "raw_volume.cmap(**get_cmap(raw_volume, vmax=interpolated_data.max()));"
   ],
   "outputs": [],
   "execution_count": 9
  },
  {
   "cell_type": "code",
   "id": "16124f3fc7e47465",
   "metadata": {
    "ExecuteTime": {
     "end_time": "2024-09-26T10:20:54.820377Z",
     "start_time": "2024-09-26T10:20:45.884247Z"
    }
   },
   "source": [
    "show(raw_volume)"
   ],
   "outputs": [],
   "execution_count": 10
  },
  {
   "cell_type": "markdown",
   "id": "fe821a77f8d58aa1",
   "metadata": {},
   "source": [
    "## Visualising the clipped volume"
   ]
  },
  {
   "cell_type": "code",
   "id": "1aab4f0c483f2a8d",
   "metadata": {
    "ExecuteTime": {
     "end_time": "2024-09-26T10:20:56.731059Z",
     "start_time": "2024-09-26T10:20:54.872208Z"
    }
   },
   "source": [
    "clipped_interpolated_data = np.clip(interpolated_data, 0, 2**16 - 1).astype(np.uint16)\n",
    "\n",
    "clipped_volume = vedo.Volume(clipped_interpolated_data)\n",
    "clipped_volume.cmap(**get_cmap(clipped_volume));"
   ],
   "outputs": [],
   "execution_count": 11
  },
  {
   "cell_type": "code",
   "id": "8233c0dc19043ed3",
   "metadata": {
    "ExecuteTime": {
     "end_time": "2024-09-26T10:20:58.905667Z",
     "start_time": "2024-09-26T10:20:56.748327Z"
    }
   },
   "source": [
    "show(clipped_volume)"
   ],
   "outputs": [],
   "execution_count": 12
  },
  {
   "cell_type": "markdown",
   "id": "99e490352268b31a",
   "metadata": {},
   "source": [
    "## Visualising the bright spots"
   ]
  },
  {
   "cell_type": "code",
   "id": "35d1582a06bf49fe",
   "metadata": {
    "ExecuteTime": {
     "end_time": "2024-09-26T10:20:59.550073Z",
     "start_time": "2024-09-26T10:20:58.923425Z"
    }
   },
   "source": [
    "bright_spots_volume = vedo.Volume(clipped_interpolated_data > 2**16 / 3)\n",
    "bright_spots_volume.cmap(**get_cmap(bright_spots_volume, vmax=1));"
   ],
   "outputs": [],
   "execution_count": 13
  },
  {
   "cell_type": "code",
   "id": "581d0d9be0407176",
   "metadata": {
    "ExecuteTime": {
     "end_time": "2024-09-26T10:21:27.293437Z",
     "start_time": "2024-09-26T10:20:59.572279Z"
    }
   },
   "source": [
    "show(bright_spots_volume)"
   ],
   "outputs": [],
   "execution_count": 14
  },
  {
   "cell_type": "markdown",
   "id": "78f4ebecf1493dd0",
   "metadata": {},
   "source": [
    "## Visualising slices"
   ]
  },
  {
   "cell_type": "code",
   "id": "70fd7da7316e5aca",
   "metadata": {
    "ExecuteTime": {
     "end_time": "2024-09-26T10:21:27.509164Z",
     "start_time": "2024-09-26T10:21:27.311348Z"
    }
   },
   "source": [
    "def update(index: int = 0) -> None:\n",
    "    imshow(aligned_array[..., index].T, title=\"Original\", vmin=0, vmax=2**16 - 1)\n",
    "    imshow(\n",
    "        clipped_interpolated_data[..., index].T,\n",
    "        title=\"Clipped interpolated\",\n",
    "        vmin=0,\n",
    "        vmax=2**16 - 1,\n",
    "    )\n",
    "\n",
    "\n",
    "interact(update, index=(20, 228));"
   ],
   "outputs": [
    {
     "data": {
      "text/plain": [
       "interactive(children=(IntSlider(value=20, description='index', max=228, min=20), Output()), _dom_classes=('wid…"
      ],
      "application/vnd.jupyter.widget-view+json": {
       "version_major": 2,
       "version_minor": 0,
       "model_id": "7207995852df4816843fff97a650a8c5"
      }
     },
     "metadata": {},
     "output_type": "display_data"
    }
   ],
   "execution_count": 15
  }
 ],
 "metadata": {
  "kernelspec": {
   "display_name": "Python 3 (ipykernel)",
   "language": "python",
   "name": "python3"
  },
  "language_info": {
   "codemirror_mode": {
    "name": "ipython",
    "version": 3
   },
   "file_extension": ".py",
   "mimetype": "text/x-python",
   "name": "python",
   "nbconvert_exporter": "python",
   "pygments_lexer": "ipython3",
   "version": "3.10.12"
  }
 },
 "nbformat": 4,
 "nbformat_minor": 5
}
