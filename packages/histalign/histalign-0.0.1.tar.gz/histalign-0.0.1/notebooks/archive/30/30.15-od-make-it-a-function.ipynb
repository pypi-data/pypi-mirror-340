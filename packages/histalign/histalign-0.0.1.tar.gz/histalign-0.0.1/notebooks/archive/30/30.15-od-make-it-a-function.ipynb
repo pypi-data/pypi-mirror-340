{
 "cells": [
  {
   "cell_type": "code",
   "id": "initial_id",
   "metadata": {
    "collapsed": true,
    "ExecuteTime": {
     "end_time": "2024-09-23T14:43:23.298236Z",
     "start_time": "2024-09-23T14:43:21.294752Z"
    }
   },
   "source": "from helper_loader import *",
   "outputs": [],
   "execution_count": 1
  },
  {
   "metadata": {
    "ExecuteTime": {
     "end_time": "2024-09-23T14:43:23.329784Z",
     "start_time": "2024-09-23T14:43:23.309812Z"
    }
   },
   "cell_type": "code",
   "source": [
    "def interpolate_sparse_3d_array(\n",
    "    array: np.ndarray,\n",
    "    reference_mask: Optional[np.ndarray] = None,\n",
    "    pre_masked: bool = False,\n",
    "    kernel: str = \"multiquadric\",\n",
    "    neighbours: int = 27,\n",
    "    epsilon: int = 1,\n",
    "    degree: Optional[int] = None,\n",
    "    chunk_size: Optional[int] = 1_000_000,\n",
    "    recursive: bool = False,\n",
    ") -> np.ndarray:\n",
    "    if reference_mask is not None and (array_shape := array.shape) != (\n",
    "        reference_shape := reference_mask.shape\n",
    "    ):\n",
    "        raise ValueError(\n",
    "            f\"Array and reference mask have different shapes \"\n",
    "            f\"({array_shape} vs {reference_shape}).\"\n",
    "        )\n",
    "\n",
    "    # Mask the array if necessary\n",
    "    if reference_mask is not None and not pre_masked:\n",
    "        array = np.where(reference_mask, array, 0)\n",
    "\n",
    "    interpolated_array = array.copy()\n",
    "    interpolated_array = interpolated_array.astype(np.float64)\n",
    "\n",
    "    if reference_mask is None:\n",
    "        # Interpolate the whole grid\n",
    "        target_coordinates = tuple(\n",
    "            array.flatten().astype(int)\n",
    "            for array in np.meshgrid(\n",
    "                np.linspace(\n",
    "                    0, interpolated_array.shape[0] - 1, interpolated_array.shape[0]\n",
    "                ),\n",
    "                np.linspace(\n",
    "                    0, interpolated_array.shape[1] - 1, interpolated_array.shape[1]\n",
    "                ),\n",
    "                np.linspace(\n",
    "                    0, interpolated_array.shape[2] - 1, interpolated_array.shape[2]\n",
    "                ),\n",
    "                indexing=\"ij\",\n",
    "            )\n",
    "        )\n",
    "    else:\n",
    "        # Interpolate only non-zero coordinates of mask\n",
    "        target_coordinates = np.nonzero(reference_mask)\n",
    "    target_points = np.array(target_coordinates).T\n",
    "\n",
    "    if chunk_size is None:\n",
    "        chunk_size = target_points.shape[0]\n",
    "\n",
    "    logging.info(\"Starting interpolation.\")\n",
    "\n",
    "    failed_chunks = []\n",
    "    previous_target_size = target_points.shape[0]\n",
    "    while True:\n",
    "        known_coordinates = np.nonzero(interpolated_array)\n",
    "        known_points = np.array(known_coordinates).T\n",
    "\n",
    "        known_values = array[known_coordinates]\n",
    "\n",
    "        interpolator = RBFInterpolator(\n",
    "            known_points,\n",
    "            known_values,\n",
    "            kernel=kernel,\n",
    "            neighbors=neighbours,\n",
    "            epsilon=epsilon,\n",
    "            degree=degree,\n",
    "        )\n",
    "\n",
    "        chunk_start = 0\n",
    "        chunk_end = chunk_size\n",
    "        chunk_index = 1\n",
    "        chunk_count = math.ceil(target_points.shape[0] / chunk_size)\n",
    "        while chunk_start < target_points.shape[0]:\n",
    "            logging.info(\n",
    "                f\"Interpolating chunk {chunk_index}/{chunk_count} \"\n",
    "                f\"({chunk_index / chunk_count:.0%}).\"\n",
    "            )\n",
    "\n",
    "            chunk_coordinates = tuple(\n",
    "                coordinate[chunk_start:chunk_end] for coordinate in target_coordinates\n",
    "            )\n",
    "            chunk_points = target_points[chunk_start:chunk_end]\n",
    "\n",
    "            try:\n",
    "                interpolated_array[chunk_coordinates] = interpolator(chunk_points)\n",
    "            except np.linalg.LinAlgError:\n",
    "                failed_chunks.append([chunk_start, chunk_end])\n",
    "                logging.info(f\"Failed to interpolate chunk {chunk_index}.\")\n",
    "\n",
    "            chunk_start += chunk_size\n",
    "            chunk_end += chunk_size\n",
    "            chunk_index += 1\n",
    "\n",
    "        if not recursive or len(failed_chunks) == 0:\n",
    "            break\n",
    "\n",
    "        # Prepare the next loop\n",
    "        target_coordinates = tuple(\n",
    "            np.concatenate(\n",
    "                [target_coordinate[start:end] for start, end in failed_chunks]\n",
    "            )\n",
    "            for target_coordinate in target_coordinates\n",
    "        )\n",
    "        target_points = np.array(target_coordinates).T\n",
    "        failed_chunks = []\n",
    "\n",
    "        # Avoid infinitely looping\n",
    "        if previous_target_size == target_points.shape[0]:\n",
    "            logging.error(\n",
    "                f\"Interpolation is not fully solvable with current combination of \"\n",
    "                f\"kernel, neighbours parameter and chunk size. \"\n",
    "                f\"Returning current result.\"\n",
    "            )\n",
    "            break\n",
    "        previous_target_size = target_points.shape[0]\n",
    "\n",
    "        logging.info(\n",
    "            f\"There were {len(failed_chunks)} failed chunks of size {chunk_size}. \"\n",
    "            f\"Recursing with newly interpolated data.\"\n",
    "        )\n",
    "\n",
    "    return interpolated_array"
   ],
   "id": "6cabc9eed71e8157",
   "outputs": [],
   "execution_count": 2
  },
  {
   "metadata": {
    "ExecuteTime": {
     "end_time": "2024-09-23T14:43:23.538662Z",
     "start_time": "2024-09-23T14:43:23.529842Z"
    }
   },
   "cell_type": "code",
   "source": "volume_path = Path(\"resources/d2783eb27223868f57e159f01ce7a1b2.npz\")",
   "id": "614e282084648959",
   "outputs": [],
   "execution_count": 3
  },
  {
   "metadata": {
    "ExecuteTime": {
     "end_time": "2024-09-23T14:43:24.968928Z",
     "start_time": "2024-09-23T14:43:23.589809Z"
    }
   },
   "cell_type": "code",
   "source": [
    "aligned_array = np.load(volume_path)[\"array\"]\n",
    "atlas_array = load_volume(\n",
    "    get_structure_mask_path(\"root\", Resolution.MICRONS_25),\n",
    "    return_raw_array=True,\n",
    ")"
   ],
   "id": "c544d22edd6d041f",
   "outputs": [],
   "execution_count": 4
  },
  {
   "metadata": {
    "ExecuteTime": {
     "end_time": "2024-09-23T14:43:25.030761Z",
     "start_time": "2024-09-23T14:43:25.013329Z"
    }
   },
   "cell_type": "code",
   "source": [
    "focused_area = (\n",
    "    (atlas_array.shape[0] // 5 * 2, atlas_array.shape[0] // 5 * 3),\n",
    "    (atlas_array.shape[1] // 5 * 2, atlas_array.shape[1] // 5 * 3),\n",
    "    (atlas_array.shape[2] // 8, atlas_array.shape[2] // 3),\n",
    ")\n",
    "focused_shape = (area_array := np.array(focused_area).T)[1] - area_array[0]\n",
    "focused_slice = tuple(slice(focus[0], focus[1]) for focus in focused_area)\n",
    "\n",
    "focused_array = np.zeros_like(atlas_array)\n",
    "focused_array[focused_slice] = np.ones(shape=focused_shape)"
   ],
   "id": "c77d25dc008c1f1e",
   "outputs": [],
   "execution_count": 5
  },
  {
   "metadata": {
    "ExecuteTime": {
     "end_time": "2024-09-23T14:43:25.179912Z",
     "start_time": "2024-09-23T14:43:25.060407Z"
    }
   },
   "cell_type": "code",
   "source": [
    "aligned_array_cropped = np.where(focused_array, aligned_array, 0)\n",
    "atlas_array_cropped = np.where(focused_array, atlas_array, 0)"
   ],
   "id": "51d6bdec69559f55",
   "outputs": [],
   "execution_count": 6
  },
  {
   "metadata": {
    "ExecuteTime": {
     "end_time": "2024-09-23T15:01:31.771804Z",
     "start_time": "2024-09-23T15:01:30.742678Z"
    }
   },
   "cell_type": "code",
   "source": "hist(aligned_array_cropped.flatten(), bins=50, log=True)",
   "id": "c083797258dacf6a",
   "outputs": [
    {
     "data": {
      "text/plain": [
       "<Figure size 640x480 with 1 Axes>"
      ],
      "image/png": "[encoded data removed]"
     },
     "metadata": {},
     "output_type": "display_data"
    }
   ],
   "execution_count": 63
  },
  {
   "metadata": {
    "ExecuteTime": {
     "end_time": "2024-09-23T15:01:47.190468Z",
     "start_time": "2024-09-23T15:01:46.317372Z"
    }
   },
   "cell_type": "code",
   "source": [
    "linear_interpolated_array = interpolate_sparse_3d_array(\n",
    "    aligned_array_cropped,\n",
    "    reference_mask=atlas_array_cropped,\n",
    "    kernel=\"linear\",\n",
    ")\n",
    "\n",
    "hist(linear_interpolated_array.flatten(), bins=50, log=True)"
   ],
   "id": "e7eada80e0aef3ff",
   "outputs": [
    {
     "data": {
      "text/plain": [
       "<Figure size 640x480 with 1 Axes>"
      ],
      "image/png": "[encoded data removed]"
     },
     "metadata": {},
     "output_type": "display_data"
    }
   ],
   "execution_count": 64
  },
  {
   "metadata": {},
   "cell_type": "code",
   "source": [
    "multiquadric_interpolated_array = interpolate_sparse_3d_array(\n",
    "    aligned_array_cropped,\n",
    "    reference_mask=atlas_array_cropped,\n",
    "    kernel=\"multiquadric\",\n",
    ")\n",
    "\n",
    "hist(multiquadric_interpolated_array.flatten(), bins=50, log=True)"
   ],
   "id": "e586ce20e85db675",
   "outputs": [
    {
     "data": {
      "text/plain": [
       "<Figure size 640x480 with 1 Axes>"
      ],
      "image/png": "[encoded data removed]"
     },
     "metadata": {},
     "output_type": "display_data"
    }
   ],
   "execution_count": 65
  },
  {
   "metadata": {
    "ExecuteTime": {
     "end_time": "2024-09-23T14:52:00.643630Z",
     "start_time": "2024-09-23T14:52:00.283539Z"
    }
   },
   "cell_type": "code",
   "source": [
    "known_coordinates = np.nonzero(np.where(focused_array, aligned_array, 0))\n",
    "known_values = aligned_array[known_coordinates]\n",
    "\n",
    "interpolated_values = linear_interpolated_array[known_coordinates]\n",
    "\n",
    "np.mean(np.abs(known_values - interpolated_values))"
   ],
   "id": "83148d05e8b5a88c",
   "outputs": [
    {
     "data": {
      "text/plain": [
       "2.696736813405382e-12"
      ]
     },
     "execution_count": 42,
     "metadata": {},
     "output_type": "execute_result"
    }
   ],
   "execution_count": 42
  },
  {
   "metadata": {
    "ExecuteTime": {
     "end_time": "2024-09-23T14:52:57.968061Z",
     "start_time": "2024-09-23T14:52:57.617349Z"
    }
   },
   "cell_type": "code",
   "source": [
    "known_coordinates = np.nonzero(np.where(focused_array, aligned_array, 0))\n",
    "known_values = aligned_array[known_coordinates]\n",
    "\n",
    "interpolated_values = linear_interpolated_array[known_coordinates]\n",
    "\n",
    "np.mean(np.abs(known_values - interpolated_values))"
   ],
   "id": "80a37ef1e45411af",
   "outputs": [
    {
     "data": {
      "text/plain": [
       "0.0"
      ]
     },
     "execution_count": 45,
     "metadata": {},
     "output_type": "execute_result"
    }
   ],
   "execution_count": 45
  },
  {
   "metadata": {
    "ExecuteTime": {
     "end_time": "2024-09-23T14:56:18.691509Z",
     "start_time": "2024-09-23T14:56:18.626406Z"
    }
   },
   "cell_type": "code",
   "source": [
    "def update(index: int = 0) -> None:\n",
    "    imshow(aligned_array_cropped[..., index].T, title=\"Aligned\")\n",
    "    imshow(linear_interpolated_array[..., index].T, title=\"Linear\")\n",
    "\n",
    "\n",
    "interact(update, index=(0, 94));"
   ],
   "id": "760a0cfbbb3957e0",
   "outputs": [
    {
     "data": {
      "text/plain": [
       "interactive(children=(IntSlider(value=0, description='index', max=94), Output()), _dom_classes=('widget-intera…"
      ],
      "application/vnd.jupyter.widget-view+json": {
       "version_major": 2,
       "version_minor": 0,
       "model_id": "84ba5fca5aad4bce9ac2c9f0d9b5e48c"
      }
     },
     "metadata": {},
     "output_type": "display_data"
    }
   ],
   "execution_count": 50
  }
 ],
 "metadata": {
  "kernelspec": {
   "display_name": "Python 3",
   "language": "python",
   "name": "python3"
  },
  "language_info": {
   "codemirror_mode": {
    "name": "ipython",
    "version": 2
   },
   "file_extension": ".py",
   "mimetype": "text/x-python",
   "name": "python",
   "nbconvert_exporter": "python",
   "pygments_lexer": "ipython2",
   "version": "2.7.6"
  }
 },
 "nbformat": 4,
 "nbformat_minor": 5
}
