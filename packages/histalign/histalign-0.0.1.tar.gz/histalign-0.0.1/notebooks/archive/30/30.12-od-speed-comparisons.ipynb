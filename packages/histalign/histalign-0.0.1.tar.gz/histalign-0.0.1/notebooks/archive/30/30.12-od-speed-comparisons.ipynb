{
 "cells": [
  {
   "metadata": {},
   "cell_type": "markdown",
   "source": "# Comparing interpolation speeds between valid kernels",
   "id": "96c7e2eeef58c3d2"
  },
  {
   "metadata": {},
   "cell_type": "markdown",
   "source": "## Usual setup",
   "id": "43f00656e3fb628"
  },
  {
   "cell_type": "code",
   "id": "initial_id",
   "metadata": {
    "collapsed": true,
    "ExecuteTime": {
     "end_time": "2024-09-20T14:51:25.546209Z",
     "start_time": "2024-09-20T14:51:24.185681Z"
    }
   },
   "source": "from helper_loader import *",
   "outputs": [],
   "execution_count": 1
  },
  {
   "metadata": {
    "ExecuteTime": {
     "end_time": "2024-09-20T14:51:25.558789Z",
     "start_time": "2024-09-20T14:51:25.550557Z"
    }
   },
   "cell_type": "code",
   "source": "volume_path = Path(\"resources/d2783eb27223868f57e159f01ce7a1b2.npz\")",
   "id": "81cbf6a70dd90634",
   "outputs": [],
   "execution_count": 2
  },
  {
   "metadata": {
    "ExecuteTime": {
     "end_time": "2024-09-20T14:51:27.419711Z",
     "start_time": "2024-09-20T14:51:25.689712Z"
    }
   },
   "cell_type": "code",
   "source": [
    "atlas_array = load_volume(\n",
    "    get_structure_mask_path(\"root\", Resolution.MICRONS_25), return_raw_array=True\n",
    ")\n",
    "atlas_volume = vedo.Volume(atlas_array)\n",
    "atlas_volume.cmap(**get_cmap(atlas_volume))\n",
    "\n",
    "aligned_array = np.load(volume_path)[\"array\"]\n",
    "aligned_volume = vedo.Volume(aligned_array)\n",
    "aligned_volume.cmap(**get_cmap(aligned_volume))\n",
    "\n",
    "masked_array = np.where(atlas_array, aligned_array, 0)\n",
    "masked_volume = vedo.Volume(masked_array)\n",
    "masked_volume.cmap(**get_cmap(masked_volume));"
   ],
   "id": "e85bfd3d755a7558",
   "outputs": [],
   "execution_count": 3
  },
  {
   "metadata": {
    "ExecuteTime": {
     "end_time": "2024-09-20T14:51:27.560219Z",
     "start_time": "2024-09-20T14:51:27.442766Z"
    }
   },
   "cell_type": "code",
   "source": [
    "focused_area = (\n",
    "    (aligned_array.shape[0] // 3, aligned_array.shape[0] // 3 * 2),\n",
    "    (aligned_array.shape[1] // 3, aligned_array.shape[1] // 3 * 2),\n",
    "    (60, aligned_array.shape[2] // 3),\n",
    ")\n",
    "focused_shape = (tmp := np.array(focused_area).T)[1] - tmp[0]\n",
    "focused_slice = tuple(slice(focus[0], focus[1]) for focus in focused_area)\n",
    "\n",
    "focused_array = np.zeros_like(atlas_array)\n",
    "tmp = np.ones(shape=focused_shape, dtype=np.uint16)\n",
    "draw_array_skeleton(tmp)\n",
    "focused_array[focused_slice] = tmp\n",
    "\n",
    "focused_volume = vedo.Volume(focused_array)\n",
    "focused_volume.cmap(**get_cmap(focused_volume, alpha=[0, 0.5]));"
   ],
   "id": "697bc6522558efd4",
   "outputs": [],
   "execution_count": 4
  },
  {
   "metadata": {
    "ExecuteTime": {
     "end_time": "2024-09-20T14:51:27.973844Z",
     "start_time": "2024-09-20T14:51:27.572861Z"
    }
   },
   "cell_type": "code",
   "source": [
    "atlas_volume_cropped = vedo.Volume(np.where(focused_array, atlas_array, 0))\n",
    "atlas_volume_cropped.cmap(**get_cmap(atlas_volume_cropped))\n",
    "\n",
    "aligned_volume_cropped = vedo.Volume(np.where(focused_array, aligned_array, 0))\n",
    "aligned_volume_cropped.cmap(**get_cmap(aligned_volume_cropped))\n",
    "\n",
    "masked_volume_cropped = vedo.Volume(np.where(focused_array, masked_array, 0))\n",
    "masked_volume_cropped.cmap(**get_cmap(masked_volume_cropped));"
   ],
   "id": "d3634f38e1f85854",
   "outputs": [],
   "execution_count": 5
  },
  {
   "metadata": {
    "ExecuteTime": {
     "end_time": "2024-09-20T14:51:29.109611Z",
     "start_time": "2024-09-20T14:51:27.986287Z"
    }
   },
   "cell_type": "code",
   "source": [
    "known_coordinates = np.nonzero(masked_array)\n",
    "known_points = np.array(known_coordinates).T\n",
    "\n",
    "known_values = masked_array[known_coordinates]\n",
    "\n",
    "target_coordinates = np.nonzero(atlas_array)\n",
    "target_points = np.array(target_coordinates).T"
   ],
   "id": "28296a6310cef0c6",
   "outputs": [],
   "execution_count": 6
  },
  {
   "metadata": {},
   "cell_type": "markdown",
   "source": "## Comparisons",
   "id": "de564e03a51f26a5"
  },
  {
   "metadata": {
    "ExecuteTime": {
     "end_time": "2024-09-20T15:25:09.395500Z",
     "start_time": "2024-09-20T15:11:43.978411Z"
    }
   },
   "cell_type": "code",
   "source": [
    "neighbours = 5**3\n",
    "epsilon = 1\n",
    "point_count = 100_000\n",
    "iteration_count = 5\n",
    "\n",
    "times = {}\n",
    "\n",
    "for kernel in [\n",
    "    \"linear\",\n",
    "    \"gaussian\",\n",
    "    \"multiquadric\",\n",
    "    \"inverse_multiquadric\",\n",
    "    \"inverse_quadratic\",\n",
    "]:\n",
    "    logging.info(f\"Computing interpolation for {kernel} kernel.\")\n",
    "    for _ in range(iteration_count):\n",
    "        interpolator = RBFInterpolator(\n",
    "            known_points,\n",
    "            known_values,\n",
    "            kernel=kernel,\n",
    "            neighbors=neighbours,\n",
    "            epsilon=epsilon,\n",
    "        )\n",
    "        start_time = perf_counter()\n",
    "        interpolated_values = interpolator(target_points[:point_count])\n",
    "\n",
    "        timing = perf_counter() - start_time\n",
    "        if (timings := times.get(kernel)) is not None:\n",
    "            timings.append(timing)\n",
    "        else:\n",
    "            times[kernel] = [timing]"
   ],
   "id": "e0e107291029f4f9",
   "outputs": [
    {
     "name": "stderr",
     "output_type": "stream",
     "text": [
      "[2024-09-20 16:11:43] - [    INFO ] - Computing interpolation for linear kernel. (root:15)\n",
      "[2024-09-20 16:13:55] - [    INFO ] - Computing interpolation for gaussian kernel. (root:15)\n",
      "[2024-09-20 16:16:51] - [    INFO ] - Computing interpolation for multiquadric kernel. (root:15)\n",
      "[2024-09-20 16:19:33] - [    INFO ] - Computing interpolation for inverse_multiquadric kernel. (root:15)\n",
      "[2024-09-20 16:22:39] - [    INFO ] - Computing interpolation for inverse_quadratic kernel. (root:15)\n"
     ]
    }
   ],
   "execution_count": 63
  },
  {
   "metadata": {
    "ExecuteTime": {
     "end_time": "2024-09-20T15:25:09.692433Z",
     "start_time": "2024-09-20T15:25:09.680427Z"
    }
   },
   "cell_type": "code",
   "source": [
    "indentation = \" \" * 4\n",
    "\n",
    "print(f\"Parameters:\")\n",
    "print(f\"{indentation}Neighbours = {neighbours}\")\n",
    "print(f\"{indentation}Epsilon = {epsilon}\")\n",
    "print(f\"{indentation}Point count = {point_count:_}\")\n",
    "print(f\"{indentation}Iteration count = {iteration_count}\")\n",
    "\n",
    "print()\n",
    "\n",
    "mean_times = np.mean(np.array(list(times.values())), axis=1)\n",
    "std_times = np.std(np.array(list(times.values())), axis=1)\n",
    "print(f\"Results:\")\n",
    "print(f\"{indentation}{'Kernel':^20}   {'Time (+/- std)':^18}\")\n",
    "for index, kernel in enumerate(times.keys()):\n",
    "    print(\n",
    "        f\"{indentation}{kernel.replace('_', ' ').capitalize():<20}: \"\n",
    "        f\"{mean_times[index]:>6.2f}s \"\n",
    "        f\"(+/- {std_times[index]:>5.2f})\"\n",
    "    )"
   ],
   "id": "ead54aa4fd18d138",
   "outputs": [
    {
     "name": "stdout",
     "output_type": "stream",
     "text": [
      "Parameters:\n",
      "    Neighbours = 125\n",
      "    Epsilon = 1\n",
      "    Point count = 100_000\n",
      "    Iteration count = 5\n",
      "\n",
      "Results:\n",
      "           Kernel            Time (+/- std)  \n",
      "    Linear              :  25.86s (+/-  1.41)\n",
      "    Gaussian            :  34.62s (+/-  3.56)\n",
      "    Multiquadric        :  31.82s (+/-  5.61)\n",
      "    Inverse multiquadric:  36.69s (+/-  5.98)\n",
      "    Inverse quadratic   :  29.38s (+/-  2.04)\n"
     ]
    }
   ],
   "execution_count": 66
  }
 ],
 "metadata": {
  "kernelspec": {
   "display_name": "Python 3",
   "language": "python",
   "name": "python3"
  },
  "language_info": {
   "codemirror_mode": {
    "name": "ipython",
    "version": 2
   },
   "file_extension": ".py",
   "mimetype": "text/x-python",
   "name": "python",
   "nbconvert_exporter": "python",
   "pygments_lexer": "ipython2",
   "version": "2.7.6"
  }
 },
 "nbformat": 4,
 "nbformat_minor": 5
}
