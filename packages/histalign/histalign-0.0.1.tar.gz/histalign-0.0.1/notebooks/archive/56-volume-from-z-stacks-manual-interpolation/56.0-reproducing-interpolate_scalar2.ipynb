{
 "cells": [
  {
   "cell_type": "code",
   "id": "initial_id",
   "metadata": {
    "collapsed": true
   },
   "source": [
    "import numpy as np\n",
    "from vedo import *\n",
    "from scipy.interpolate import Rbf\n",
    "\n",
    "settings.default_backend = \"k3d\""
   ],
   "outputs": [],
   "execution_count": null
  },
  {
   "metadata": {},
   "cell_type": "code",
   "source": "show(Plane((0, 0, 0), s=(100, 100), normal=(0, 0, 1)).tovolume(radius=1))",
   "id": "73da9e0cba393f2d",
   "outputs": [],
   "execution_count": null
  },
  {
   "metadata": {},
   "cell_type": "code",
   "source": [
    "mesh = Mesh(dataurl + \"bunny.obj\").normalize()\n",
    "points = mesh.vertices"
   ],
   "id": "9c3c28527f573109",
   "outputs": [],
   "execution_count": null
  },
  {
   "metadata": {},
   "cell_type": "code",
   "source": [
    "# Pick a subset of 100 points where a scalr descriptor is known\n",
    "points_subset = points[:100]"
   ],
   "id": "41283a541172592a",
   "outputs": [],
   "execution_count": null
  },
  {
   "metadata": {},
   "cell_type": "code",
   "source": [
    "# Assume the descriptor value is some function of the point coordinate y\n",
    "x, y, z = np.split(points_subset, 3, axis=1)\n",
    "descriptor = 3 * sin(4 * y)"
   ],
   "id": "573f913bc65116a3",
   "outputs": [],
   "execution_count": null
  },
  {
   "metadata": {},
   "cell_type": "code",
   "source": [
    "# Build the interpolator to determine the scalar value for the rest of the mesh vertices\n",
    "interpolator = Rbf(x, y, z, descriptor)"
   ],
   "id": "82a3d0fb0428ca89",
   "outputs": [],
   "execution_count": null
  },
  {
   "metadata": {},
   "cell_type": "code",
   "source": [
    "# Interpolate the descriptor on the full set of mesh vertices\n",
    "x_to_interpolate, y_to_interpolate, z_to_interpolate = np.split(points, 3, axis=1)\n",
    "interpolated_descriptor = interpolator(\n",
    "    x_to_interpolate, y_to_interpolate, z_to_interpolate\n",
    ")"
   ],
   "id": "9f22a720514b9efb",
   "outputs": [],
   "execution_count": null
  },
  {
   "metadata": {},
   "cell_type": "code",
   "source": [
    "mesh.cmap(\"rainbow\", interpolated_descriptor).add_scalarbar(title=\"3*sin(4y)\")\n",
    "known_points = Points(points_subset).point_size(8).c(\"white\")"
   ],
   "id": "a03c3aa2c9787a97",
   "outputs": [],
   "execution_count": null
  },
  {
   "metadata": {},
   "cell_type": "code",
   "source": "show(mesh)",
   "id": "ee454865beb4e3b9",
   "outputs": [],
   "execution_count": null
  }
 ],
 "metadata": {
  "kernelspec": {
   "display_name": "Python 3",
   "language": "python",
   "name": "python3"
  },
  "language_info": {
   "codemirror_mode": {
    "name": "ipython",
    "version": 2
   },
   "file_extension": ".py",
   "mimetype": "text/x-python",
   "name": "python",
   "nbconvert_exporter": "python",
   "pygments_lexer": "ipython2",
   "version": "2.7.6"
  }
 },
 "nbformat": 4,
 "nbformat_minor": 5
}
