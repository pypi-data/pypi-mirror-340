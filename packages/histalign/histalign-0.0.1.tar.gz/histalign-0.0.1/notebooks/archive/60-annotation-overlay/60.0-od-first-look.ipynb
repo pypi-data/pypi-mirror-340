{
 "cells": [
  {
   "metadata": {
    "ExecuteTime": {
     "end_time": "2025-02-20T11:43:03.245441Z",
     "start_time": "2025-02-20T11:43:03.543471Z"
    }
   },
   "cell_type": "code",
   "source": [
    "import cv2\n",
    "import matplotlib.pyplot as plt\n",
    "import numpy as np\n",
    "from skimage.transform import AffineTransform\n",
    "import vedo\n",
    "\n",
    "from histalign.backend.ccf.paths import get_annotation_path\n",
    "from histalign.backend.io import load_alignment_settings, load_image, load_volume\n",
    "from histalign.backend.maths import get_transformation_matrix_from_q_transform\n",
    "from histalign.backend.models import (\n",
    "    AlignmentSettings,\n",
    "    Resolution,\n",
    "    upscale_alignment_settings,\n",
    ")\n",
    "from histalign.backend.registration import recreate_q_transform_from_alignment\n",
    "from histalign.backend.workspace import AnnotationVolume, VolumeSlicer\n",
    "from PIL import Image\n",
    "\n",
    "vedo.settings.default_backend = \"vtk\""
   ],
   "id": "9a3b26c86300cfa4",
   "outputs": [],
   "execution_count": 1
  },
  {
   "metadata": {
    "ExecuteTime": {
     "end_time": "2025-02-20T11:43:03.257001Z",
     "start_time": "2025-02-20T11:43:03.250651Z"
    }
   },
   "cell_type": "code",
   "source": [
    "def imshow(image: np.ndarray) -> None:\n",
    "    _ = plt.figure()\n",
    "\n",
    "    plt.imshow(image)\n",
    "    plt.axis(False)\n",
    "\n",
    "    plt.show()\n",
    "\n",
    "\n",
    "def show(volume: vedo.Volume) -> None:\n",
    "    vedo.show(volume, interactive=False).interactive().close()\n",
    "\n",
    "\n",
    "def get_volume_scaling_factor(settings: AlignmentSettings) -> float:\n",
    "    return (\n",
    "        settings.volume_scaling / settings.histology_scaling\n",
    "    ) * settings.histology_downsampling\n",
    "\n",
    "\n",
    "def rescale(\n",
    "    image: np.ndarray, scaling: float, fast: bool, interpolation: str\n",
    ") -> np.ndarray:\n",
    "    # NOTE: PIL's resize is much faster but less accurate.\n",
    "    #       However, it is appropriate for masks.\n",
    "    match interpolation:\n",
    "        case \"nearest\":\n",
    "            resample = Image.Resampling.NEAREST\n",
    "            order = 0\n",
    "        case \"bilinear\":\n",
    "            resample = Image.Resampling.BILINEAR\n",
    "            order = 1\n",
    "        case _:\n",
    "            raise ValueError(f\"Unknown interpolation '{interpolation}'\")\n",
    "\n",
    "    if fast:\n",
    "        return np.array(\n",
    "            Image.fromarray(image.T).resize(\n",
    "                np.round(np.array(image.shape) * scaling).astype(int).tolist(),\n",
    "                resample=resample,\n",
    "            )\n",
    "        ).T\n",
    "    else:\n",
    "        return sk_rescale(\n",
    "            image,\n",
    "            scaling,\n",
    "            preserve_range=True,\n",
    "            clip=True,\n",
    "            order=order,\n",
    "        ).astype(image.dtype)\n",
    "\n",
    "\n",
    "def transform_image(\n",
    "    image: np.ndarray,\n",
    "    alignment_settings: AlignmentSettings,\n",
    "    fast: bool,\n",
    "    interpolation: str,\n",
    "    forward: bool = True,\n",
    ") -> np.ndarray:\n",
    "    q_transform = recreate_q_transform_from_alignment(\n",
    "        image.shape, alignment_settings, forward\n",
    "    )\n",
    "    matrix = get_transformation_matrix_from_q_transform(q_transform, forward)\n",
    "\n",
    "    match interpolation:\n",
    "        case \"nearest\":\n",
    "            flag = cv2.INTER_NEAREST\n",
    "            order = 0\n",
    "        case \"bilinear\":\n",
    "            flag = cv2.INTER_LINEAR\n",
    "            order = 1\n",
    "        case _:\n",
    "            raise ValueError(f\"Unknown interpolation '{interpolation}'\")\n",
    "\n",
    "    # NOTE: OpenCV's warp is much faster but seemingly less accurate\n",
    "    if fast:\n",
    "        return cv2.warpPerspective(\n",
    "            image,\n",
    "            matrix,\n",
    "            image.shape[::-1],\n",
    "            flags=flag | cv2.WARP_INVERSE_MAP,\n",
    "        )\n",
    "    else:\n",
    "        sk_transform = AffineTransform(matrix=matrix)\n",
    "        return warp(\n",
    "            image, sk_transform, order=order, preserve_range=True, clip=True\n",
    "        ).astype(image.dtype)"
   ],
   "id": "bea24a0d8b9938c8",
   "outputs": [],
   "execution_count": 2
  },
  {
   "metadata": {
    "ExecuteTime": {
     "end_time": "2025-02-20T11:43:03.691367Z",
     "start_time": "2025-02-20T11:43:03.363615Z"
    }
   },
   "cell_type": "code",
   "source": [
    "# alignment_path = \"/home/ediun/git/histalign/projects/unix/3cc119b7ec/2801232004be0a9958c7a5a6b0b2de83.json\"\n",
    "alignment_path = \"/home/ediun/git/histalign/projects/conversion100/12c22ee785/c1e4a6b68b289dfce5bbd2d54cf24550.json\"\n",
    "alignment_settings = load_alignment_settings(alignment_path)\n",
    "\n",
    "image = load_image(alignment_settings.histology_path)"
   ],
   "id": "6457db22f0f056ae",
   "outputs": [],
   "execution_count": 3
  },
  {
   "metadata": {},
   "cell_type": "markdown",
   "source": "### Get the normal registration",
   "id": "5a1b5963a4685042"
  },
  {
   "metadata": {
    "ExecuteTime": {
     "end_time": "2025-02-20T11:43:03.699564Z",
     "start_time": "2025-02-20T11:43:03.697133Z"
    }
   },
   "cell_type": "code",
   "source": "alignment_settings = load_alignment_settings(alignment_path)",
   "id": "3e4d4bccee44f32f",
   "outputs": [],
   "execution_count": 4
  },
  {
   "metadata": {
    "ExecuteTime": {
     "end_time": "2025-02-20T11:43:03.987353Z",
     "start_time": "2025-02-20T11:43:03.741054Z"
    }
   },
   "cell_type": "code",
   "source": [
    "annotation_volume = AnnotationVolume(\n",
    "    get_annotation_path(alignment_settings.volume_settings.resolution),\n",
    "    alignment_settings.volume_settings.resolution,\n",
    ")"
   ],
   "id": "b1c4ad56de8e505c",
   "outputs": [],
   "execution_count": 5
  },
  {
   "metadata": {
    "ExecuteTime": {
     "end_time": "2025-02-20T11:43:03.997927Z",
     "start_time": "2025-02-20T11:43:03.995354Z"
    }
   },
   "cell_type": "code",
   "source": "annotation_slicer = VolumeSlicer(volume=annotation_volume)",
   "id": "88378293bedeaea4",
   "outputs": [],
   "execution_count": 6
  },
  {
   "metadata": {
    "ExecuteTime": {
     "end_time": "2025-02-20T11:43:04.051474Z",
     "start_time": "2025-02-20T11:43:04.040016Z"
    }
   },
   "cell_type": "code",
   "source": "annotation_slice = annotation_slicer.slice(alignment_settings.volume_settings)",
   "id": "d8c17c7a534af6b2",
   "outputs": [],
   "execution_count": 7
  },
  {
   "metadata": {
    "ExecuteTime": {
     "end_time": "2025-02-20T11:43:04.652489Z",
     "start_time": "2025-02-20T11:43:04.089970Z"
    }
   },
   "cell_type": "code",
   "source": [
    "volume_final_scaling = get_volume_scaling_factor(alignment_settings)\n",
    "\n",
    "annotation_slice = rescale(\n",
    "    annotation_slice,\n",
    "    volume_final_scaling,\n",
    "    fast=True,\n",
    "    interpolation=\"nearest\",\n",
    ")"
   ],
   "id": "17e39299d508db2a",
   "outputs": [],
   "execution_count": 8
  },
  {
   "metadata": {
    "ExecuteTime": {
     "end_time": "2025-02-20T11:43:05.206701Z",
     "start_time": "2025-02-20T11:43:04.660704Z"
    }
   },
   "cell_type": "code",
   "source": [
    "annotation_slice = transform_image(\n",
    "    annotation_slice,\n",
    "    alignment_settings,\n",
    "    fast=True,\n",
    "    interpolation=\"nearest\",\n",
    "    forward=False,\n",
    ")"
   ],
   "id": "e686b49b08414ce2",
   "outputs": [],
   "execution_count": 9
  },
  {
   "metadata": {},
   "cell_type": "markdown",
   "source": "### Get the upscaled registration",
   "id": "4bc4674b43b4433"
  },
  {
   "metadata": {
    "ExecuteTime": {
     "end_time": "2025-02-20T11:43:05.215693Z",
     "start_time": "2025-02-20T11:43:05.213349Z"
    }
   },
   "cell_type": "code",
   "source": [
    "upscaled_settings = upscale_alignment_settings(\n",
    "    alignment_settings, Resolution.MICRONS_25\n",
    ")\n",
    "# upscaled_settings.volume_scaling = 2.1431870066974596\n",
    "# upscaled_settings.histology_scaling = 0.25662744046954114"
   ],
   "id": "5e418eecbf429510",
   "outputs": [],
   "execution_count": 10
  },
  {
   "metadata": {
    "ExecuteTime": {
     "end_time": "2025-02-20T11:43:06.953507Z",
     "start_time": "2025-02-20T11:43:05.260413Z"
    }
   },
   "cell_type": "code",
   "source": [
    "upscaled_volume = AnnotationVolume(\n",
    "    get_annotation_path(upscaled_settings.volume_settings.resolution),\n",
    "    upscaled_settings.volume_settings.resolution,\n",
    ")"
   ],
   "id": "69a734f83aadf84e",
   "outputs": [],
   "execution_count": 11
  },
  {
   "metadata": {
    "ExecuteTime": {
     "end_time": "2025-02-20T11:43:06.962843Z",
     "start_time": "2025-02-20T11:43:06.960299Z"
    }
   },
   "cell_type": "code",
   "source": "upscaled_slicer = VolumeSlicer(volume=upscaled_volume)",
   "id": "7bb7f5c46838d383",
   "outputs": [],
   "execution_count": 12
  },
  {
   "metadata": {
    "ExecuteTime": {
     "end_time": "2025-02-20T11:43:07.047238Z",
     "start_time": "2025-02-20T11:43:07.023574Z"
    }
   },
   "cell_type": "code",
   "source": "upscaled_slice = upscaled_slicer.slice(upscaled_settings.volume_settings)",
   "id": "d9f6bc3f68a2983c",
   "outputs": [],
   "execution_count": 13
  },
  {
   "metadata": {
    "ExecuteTime": {
     "end_time": "2025-02-20T11:43:07.533044Z",
     "start_time": "2025-02-20T11:43:07.090285Z"
    }
   },
   "cell_type": "code",
   "source": [
    "volume_final_scaling = get_volume_scaling_factor(upscaled_settings)\n",
    "\n",
    "upscaled_slice = rescale(\n",
    "    upscaled_slice,\n",
    "    volume_final_scaling,\n",
    "    fast=True,\n",
    "    interpolation=\"nearest\",\n",
    ")"
   ],
   "id": "449c79cbc43238a",
   "outputs": [],
   "execution_count": 14
  },
  {
   "metadata": {
    "ExecuteTime": {
     "end_time": "2025-02-20T11:43:08.080346Z",
     "start_time": "2025-02-20T11:43:07.539833Z"
    }
   },
   "cell_type": "code",
   "source": [
    "upscaled_slice = transform_image(\n",
    "    upscaled_slice,\n",
    "    upscaled_settings,\n",
    "    fast=True,\n",
    "    interpolation=\"nearest\",\n",
    "    forward=False,\n",
    ")"
   ],
   "id": "37027caa55d57496",
   "outputs": [],
   "execution_count": 15
  },
  {
   "metadata": {},
   "cell_type": "markdown",
   "source": "### Visualise",
   "id": "93232122affd45a7"
  },
  {
   "metadata": {
    "ExecuteTime": {
     "end_time": "2025-02-20T11:43:08.090119Z",
     "start_time": "2025-02-20T11:43:08.087358Z"
    }
   },
   "cell_type": "code",
   "source": [
    "print(image.shape)\n",
    "print(annotation_slice.shape)\n",
    "print(upscaled_slice.shape)"
   ],
   "id": "9ac806eddb594946",
   "outputs": [
    {
     "name": "stdout",
     "output_type": "stream",
     "text": [
      "(7619, 9413)\n",
      "(12484, 9414)\n",
      "(12509, 9388)\n"
     ]
    }
   ],
   "execution_count": 16
  },
  {
   "metadata": {
    "ExecuteTime": {
     "end_time": "2025-02-20T11:43:08.286201Z",
     "start_time": "2025-02-20T11:43:08.152540Z"
    }
   },
   "cell_type": "code",
   "source": [
    "imshow(annotation_slice[::10, ::10] == 0)\n",
    "imshow(upscaled_slice[::40, ::40] == 0)"
   ],
   "id": "f5bd6ae40edc6a17",
   "outputs": [
    {
     "data": {
      "text/plain": [
       "<Figure size 640x480 with 1 Axes>"
      ],
      "image/png": "[encoded data removed]"
     },
     "metadata": {},
     "output_type": "display_data"
    },
    {
     "data": {
      "text/plain": [
       "<Figure size 640x480 with 1 Axes>"
      ],
      "image/png": "[encoded data removed]"
     },
     "metadata": {},
     "output_type": "display_data"
    }
   ],
   "execution_count": 17
  },
  {
   "metadata": {
    "ExecuteTime": {
     "end_time": "2025-02-20T11:43:14.511524Z",
     "start_time": "2025-02-20T11:43:08.293375Z"
    }
   },
   "cell_type": "code",
   "source": [
    "plt.imsave(\"annotation.png\", annotation_slice)\n",
    "plt.imsave(\"upscaled.png\", upscaled_slice)"
   ],
   "id": "e8a86c657299f33f",
   "outputs": [],
   "execution_count": 18
  },
  {
   "metadata": {
    "ExecuteTime": {
     "end_time": "2025-02-20T11:43:14.534467Z",
     "start_time": "2025-02-20T11:43:14.525378Z"
    }
   },
   "cell_type": "code",
   "source": [
    "plt.imsave(\"100.png\", annotation_volume.tonumpy()[..., 40])\n",
    "plt.imsave(\"25.png\", upscaled_volume.tonumpy()[::4, ::4, 160])"
   ],
   "id": "d0637302bb5a0f87",
   "outputs": [],
   "execution_count": 19
  },
  {
   "metadata": {
    "ExecuteTime": {
     "end_time": "2025-02-20T11:43:14.642471Z",
     "start_time": "2025-02-20T11:43:14.571022Z"
    }
   },
   "cell_type": "code",
   "source": [
    "imshow(annotation_volume.tonumpy()[..., annotation_volume.shape[2] // 2].T > 0)\n",
    "imshow(upscaled_volume.tonumpy()[..., upscaled_volume.shape[2] // 2].T > 0)"
   ],
   "id": "508c00579810afaf",
   "outputs": [
    {
     "data": {
      "text/plain": [
       "<Figure size 640x480 with 1 Axes>"
      ],
      "image/png": "[encoded data removed]"
     },
     "metadata": {},
     "output_type": "display_data"
    },
    {
     "data": {
      "text/plain": [
       "<Figure size 640x480 with 1 Axes>"
      ],
      "image/png": "[encoded data removed]"
     },
     "metadata": {},
     "output_type": "display_data"
    }
   ],
   "execution_count": 20
  }
 ],
 "metadata": {
  "kernelspec": {
   "display_name": "Python 3",
   "language": "python",
   "name": "python3"
  },
  "language_info": {
   "codemirror_mode": {
    "name": "ipython",
    "version": 2
   },
   "file_extension": ".py",
   "mimetype": "text/x-python",
   "name": "python",
   "nbconvert_exporter": "python",
   "pygments_lexer": "ipython2",
   "version": "2.7.6"
  }
 },
 "nbformat": 4,
 "nbformat_minor": 5
}
