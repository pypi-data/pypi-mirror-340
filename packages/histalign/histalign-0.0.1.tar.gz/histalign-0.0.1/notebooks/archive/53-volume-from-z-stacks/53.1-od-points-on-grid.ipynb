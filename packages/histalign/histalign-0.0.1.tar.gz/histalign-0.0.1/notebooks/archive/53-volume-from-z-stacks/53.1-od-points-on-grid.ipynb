{
 "cells": [
  {
   "cell_type": "code",
   "id": "initial_id",
   "metadata": {
    "collapsed": true,
    "ExecuteTime": {
     "end_time": "2024-11-25T11:08:36.859715Z",
     "start_time": "2024-11-25T11:08:35.150710Z"
    }
   },
   "source": [
    "import numpy as np\n",
    "import vedo\n",
    "\n",
    "from histalign.backend.ccf.paths import get_atlas_path\n",
    "from histalign.backend.io import load_volume\n",
    "from histalign.backend.maths import compute_normal\n",
    "from histalign.backend.models import (\n",
    "    AlignmentSettings,\n",
    "    HistologySettings,\n",
    "    Orientation,\n",
    "    Resolution,\n",
    "    VolumeSettings,\n",
    ")\n",
    "from histalign.backend.workspace import VolumeSlicer\n",
    "from notebook_helpers import show, update_axes, update_cameras, coronal_camera"
   ],
   "outputs": [],
   "execution_count": 1
  },
  {
   "metadata": {
    "ExecuteTime": {
     "end_time": "2024-11-25T11:08:36.866675Z",
     "start_time": "2024-11-25T11:08:36.863845Z"
    }
   },
   "cell_type": "code",
   "source": [
    "def euclidean_distance(point1: np.ndarray, point2: np.ndarray) -> float:\n",
    "    return np.sqrt(np.sum((point1 - point2) ** 2))\n",
    "\n",
    "\n",
    "def find_nearest_grid_point(point: np.ndarray) -> np.ndarray:\n",
    "    return np.round(point)\n",
    "\n",
    "\n",
    "def compute_stack_points(starting_point, normal, z_size, z_spacing, snap: bool = False):\n",
    "    middle_index = (z_size - 1) // 2\n",
    "\n",
    "    points = []\n",
    "    for i in range(z_size):\n",
    "        distance = (i - middle_index) * z_spacing\n",
    "        point = starting_point + distance * normal\n",
    "        if snap:\n",
    "            point = find_nearest_grid_point(free_point)\n",
    "        points.append(point)\n",
    "\n",
    "    return points"
   ],
   "id": "10289b0b7b29400b",
   "outputs": [],
   "execution_count": 2
  },
  {
   "metadata": {
    "ExecuteTime": {
     "end_time": "2024-11-25T11:08:37.386876Z",
     "start_time": "2024-11-25T11:08:36.918927Z"
    }
   },
   "cell_type": "code",
   "source": [
    "orientation = Orientation.CORONAL\n",
    "resolution = Resolution.MICRONS_25\n",
    "\n",
    "atlas_volume = load_volume(get_atlas_path(resolution))\n",
    "update_cameras(atlas_volume.tonumpy().shape)\n",
    "update_axes(atlas_volume.tonumpy().shape)"
   ],
   "id": "e81e7cbc24ac85cc",
   "outputs": [],
   "execution_count": 3
  },
  {
   "metadata": {
    "ExecuteTime": {
     "end_time": "2024-11-25T11:08:37.394607Z",
     "start_time": "2024-11-25T11:08:37.392313Z"
    }
   },
   "cell_type": "code",
   "source": [
    "shape = atlas_volume.tonumpy().shape\n",
    "z_stack_count = 21\n",
    "z_stack_distance = 10\n",
    "\n",
    "alignment_coordinates = np.array(shape) // 2\n",
    "pitch = 10\n",
    "yaw = 4\n",
    "\n",
    "settings = AlignmentSettings(\n",
    "    volume_path=get_atlas_path(resolution),\n",
    "    volume_settings=VolumeSettings(\n",
    "        orientation=orientation,\n",
    "        resolution=resolution,\n",
    "        pitch=pitch,\n",
    "        yaw=yaw,\n",
    "    ),\n",
    "    histology_settings=HistologySettings(),\n",
    ")"
   ],
   "id": "cc089dc9621fa253",
   "outputs": [],
   "execution_count": 4
  },
  {
   "metadata": {
    "ExecuteTime": {
     "end_time": "2024-11-25T11:08:37.453572Z",
     "start_time": "2024-11-25T11:08:37.440150Z"
    }
   },
   "cell_type": "code",
   "source": [
    "alignment_normal = compute_normal(settings.volume_settings)\n",
    "alignment_plane = VolumeSlicer(volume=atlas_volume).slice(\n",
    "    settings.volume_settings, return_mesh=True\n",
    ")\n",
    "\n",
    "normal_line_point1 = alignment_coordinates - 1000 * alignment_normal\n",
    "normal_line_point2 = alignment_coordinates + 1000 * alignment_normal"
   ],
   "id": "eb613545d060ce9a",
   "outputs": [],
   "execution_count": 5
  },
  {
   "metadata": {
    "ExecuteTime": {
     "end_time": "2024-11-25T11:10:32.205891Z",
     "start_time": "2024-11-25T11:10:12.116449Z"
    }
   },
   "cell_type": "code",
   "source": [
    "point_coordinates = compute_stack_points(\n",
    "    alignment_coordinates, alignment_normal, z_stack_count, z_stack_distance\n",
    ")\n",
    "points = [vedo.Point(point) for point in point_coordinates]\n",
    "show(\n",
    "    [\n",
    "        alignment_plane,\n",
    "        # points,\n",
    "        *[\n",
    "            VolumeSlicer(volume=atlas_volume).slice(\n",
    "                settings.volume_settings, origin=point, return_mesh=True\n",
    "            )\n",
    "            for point in point_coordinates\n",
    "        ],\n",
    "    ],\n",
    "    camera=coronal_camera,\n",
    ")"
   ],
   "id": "59871c0539a77c16",
   "outputs": [],
   "execution_count": 10
  }
 ],
 "metadata": {
  "kernelspec": {
   "display_name": "Python 3",
   "language": "python",
   "name": "python3"
  },
  "language_info": {
   "codemirror_mode": {
    "name": "ipython",
    "version": 2
   },
   "file_extension": ".py",
   "mimetype": "text/x-python",
   "name": "python",
   "nbconvert_exporter": "python",
   "pygments_lexer": "ipython2",
   "version": "2.7.6"
  }
 },
 "nbformat": 4,
 "nbformat_minor": 5
}
