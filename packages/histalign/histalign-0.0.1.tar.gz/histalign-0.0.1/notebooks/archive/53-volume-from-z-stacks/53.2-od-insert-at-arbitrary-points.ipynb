{
 "cells": [
  {
   "cell_type": "code",
   "id": "initial_id",
   "metadata": {
    "collapsed": true,
    "ExecuteTime": {
     "end_time": "2024-11-25T15:23:26.020507Z",
     "start_time": "2024-11-25T15:23:25.901699Z"
    }
   },
   "source": [
    "from pathlib import Path\n",
    "\n",
    "import numpy as np\n",
    "import vedo\n",
    "\n",
    "from histalign.backend.ccf.paths import get_atlas_path\n",
    "from histalign.backend.io import load_volume\n",
    "from histalign.backend.maths import compute_normal\n",
    "from histalign.backend.models import (\n",
    "    AlignmentSettings,\n",
    "    HistologySettings,\n",
    "    Orientation,\n",
    "    Resolution,\n",
    "    VolumeSettings,\n",
    ")\n",
    "from histalign.backend.workspace import VolumeSlicer, Volume\n",
    "from notebook_helpers import show, update_axes, update_cameras, coronal_camera"
   ],
   "outputs": [],
   "execution_count": 14
  },
  {
   "metadata": {
    "ExecuteTime": {
     "end_time": "2024-11-25T15:23:27.161692Z",
     "start_time": "2024-11-25T15:23:27.103690Z"
    }
   },
   "cell_type": "code",
   "source": [
    "def find_nearest_grid_point(point: np.ndarray) -> np.ndarray:\n",
    "    return np.round(point)\n",
    "\n",
    "\n",
    "def compute_stack_points(starting_point, normal, z_size, z_spacing, snap: bool = False):\n",
    "    middle_index = (z_size - 1) // 2\n",
    "\n",
    "    points = []\n",
    "    for i in range(z_size):\n",
    "        distance = (i - middle_index) * z_spacing\n",
    "        point = starting_point + distance * normal\n",
    "        if snap:\n",
    "            point = find_nearest_grid_point(free_point)\n",
    "        points.append(point)\n",
    "\n",
    "    return points\n",
    "\n",
    "\n",
    "def generate_aligned_planes(\n",
    "    alignment_volume: Volume | vedo.Volume,\n",
    "    alignment_paths: list[Path],\n",
    ") -> list[vedo.Plane]:\n",
    "    _module_logger.debug(\n",
    "        f\"Starting generation of {len(alignment_paths)} aligned planes.\"\n",
    "    )\n",
    "\n",
    "    planes = []\n",
    "    slicer = VolumeSlicer(volume=alignment_volume)\n",
    "\n",
    "    for index, alignment_path in enumerate(alignment_paths):\n",
    "        if index > 0 and index % 5 == 0:\n",
    "            _module_logger.debug(f\"Generated {index} aligned planes...\")\n",
    "\n",
    "        alignment_settings = load_alignment_settings(alignment_path)\n",
    "        histology_slice = load_image(alignment_settings.histology_path)\n",
    "\n",
    "        registrator = Registrator(True, True)\n",
    "        registered_slice = registrator.get_forwarded_image(\n",
    "            histology_slice, alignment_settings\n",
    "        )\n",
    "\n",
    "        plane_mesh = slicer.slice(alignment_settings.volume_settings, return_mesh=True)\n",
    "\n",
    "        # Undo padding. See `VolumeSlicer.slice` for more details.\n",
    "        registered_slice = registered_slice[\n",
    "            plane_mesh.metadata[\"i_padding\"][0] : registered_slice.shape[0]\n",
    "            - plane_mesh.metadata[\"i_padding\"][1],\n",
    "            plane_mesh.metadata[\"j_padding\"][0] : registered_slice.shape[1]\n",
    "            - plane_mesh.metadata[\"j_padding\"][1],\n",
    "        ]\n",
    "\n",
    "        plane_mesh.pointdata[\"ImageScalars\"] = registered_slice.flatten()\n",
    "\n",
    "        planes.append(plane_mesh)\n",
    "\n",
    "    _module_logger.debug(\n",
    "        f\"Finished generating all {len(alignment_paths)} aligned planes.\"\n",
    "    )\n",
    "    return planes\n",
    "\n",
    "\n",
    "def insert_aligned_planes_into_array(\n",
    "    array: np.ndarray,\n",
    "    planes: list[vedo.Plane],\n",
    "    inplace: bool = True,\n",
    ") -> np.ndarray:\n",
    "    _module_logger.debug(f\"Starting insertion of {len(planes)} into alignment array.\")\n",
    "\n",
    "    if not inplace:\n",
    "        array = array.copy()\n",
    "\n",
    "    for index, plane in enumerate(planes):\n",
    "        if index > 0 and index % 5 == 0:\n",
    "            _module_logger.debug(f\"Inserted {index} into alignment array...\")\n",
    "\n",
    "        temporary_volume = vedo.Volume(np.zeros_like(array))\n",
    "        temporary_volume.interpolate_data_from(plane, radius=1)\n",
    "\n",
    "        temporary_array = temporary_volume.tonumpy()\n",
    "        temporary_array = np.round(temporary_array).astype(np.uint16)\n",
    "\n",
    "        array[:] = np.maximum(array, temporary_array)\n",
    "\n",
    "    return array\n",
    "\n",
    "\n",
    "def build_aligned_volume(\n",
    "    alignment_directory: str | Path,\n",
    "    use_cache: bool = True,\n",
    "    return_raw_array: bool = False,\n",
    ") -> np.ndarray | vedo.Volume:\n",
    "    if isinstance(alignment_directory, str):\n",
    "        alignment_directory = Path(alignment_directory)\n",
    "\n",
    "    alignment_paths = gather_alignment_paths(alignment_directory)\n",
    "    if not alignment_paths:\n",
    "        raise ValueError(\"Cannot build aligned volume from empty alignment directory.\")\n",
    "\n",
    "    alignment_hash = generate_hash_from_targets(alignment_paths)\n",
    "\n",
    "    cache_path = ALIGNMENT_VOLUMES_CACHE_DIRECTORY / f\"{alignment_hash}.npz\"\n",
    "    if cache_path.exists() and use_cache:\n",
    "        _module_logger.debug(\"Found cached aligned volume. Loading from file.\")\n",
    "\n",
    "        array = np.load(cache_path)[\"array\"]\n",
    "        if return_raw_array:\n",
    "            return array\n",
    "        return vedo.Volume(array)\n",
    "\n",
    "    reference_shape = load_alignment_settings(alignment_paths[0]).volume_settings.shape\n",
    "\n",
    "    # Volume needs to be created before array as vedo makes a copy\n",
    "    aligned_volume = vedo.Volume(np.zeros(shape=reference_shape, dtype=np.uint16))\n",
    "    aligned_array = aligned_volume.tonumpy()\n",
    "\n",
    "    planes = generate_aligned_planes(aligned_volume, alignment_paths)\n",
    "\n",
    "    insert_aligned_planes_into_array(aligned_array, planes)\n",
    "    aligned_volume.modified()  # Probably unnecessary but good practice\n",
    "\n",
    "    if use_cache:\n",
    "        _module_logger.debug(\"Caching volume to file as a NumPy array.\")\n",
    "        os.makedirs(ALIGNMENT_VOLUMES_CACHE_DIRECTORY, exist_ok=True)\n",
    "        np.savez_compressed(cache_path, array=aligned_array)\n",
    "\n",
    "    if return_raw_array:\n",
    "        return aligned_array\n",
    "    return aligned_volume"
   ],
   "id": "bb85475c127e3151",
   "outputs": [],
   "execution_count": 15
  },
  {
   "metadata": {
    "ExecuteTime": {
     "end_time": "2024-11-25T15:23:30.954476Z",
     "start_time": "2024-11-25T15:23:30.238124Z"
    }
   },
   "cell_type": "code",
   "source": [
    "orientation = Orientation.CORONAL\n",
    "resolution = Resolution.MICRONS_25\n",
    "\n",
    "atlas_volume = load_volume(get_atlas_path(resolution))\n",
    "update_cameras(atlas_volume.tonumpy().shape)\n",
    "update_axes(atlas_volume.tonumpy().shape)\n",
    "\n",
    "shape = atlas_volume.tonumpy().shape\n",
    "z_stack_count = 21\n",
    "z_stack_distance = 10\n",
    "\n",
    "alignment_coordinates = np.array(shape) // 2\n",
    "pitch = 10\n",
    "yaw = 4\n",
    "\n",
    "settings = AlignmentSettings(\n",
    "    volume_path=get_atlas_path(resolution),\n",
    "    volume_settings=VolumeSettings(\n",
    "        orientation=orientation,\n",
    "        resolution=resolution,\n",
    "        pitch=pitch,\n",
    "        yaw=yaw,\n",
    "    ),\n",
    "    histology_settings=HistologySettings(),\n",
    ")"
   ],
   "id": "23fd55d6ce691c1c",
   "outputs": [],
   "execution_count": 16
  },
  {
   "metadata": {
    "ExecuteTime": {
     "end_time": "2024-11-25T15:23:31.938717Z",
     "start_time": "2024-11-25T15:23:31.901873Z"
    }
   },
   "cell_type": "code",
   "source": [
    "stack_shape = [*shape[1:], 10]\n",
    "stack = np.random.randint(0, 2**16 - 1, size=np.prod(stack_shape)).reshape(stack_shape)"
   ],
   "id": "2e855cebf1983312",
   "outputs": [],
   "execution_count": 17
  },
  {
   "metadata": {
    "ExecuteTime": {
     "end_time": "2024-11-25T15:23:33.750590Z",
     "start_time": "2024-11-25T15:23:33.313957Z"
    }
   },
   "cell_type": "code",
   "source": [
    "point_coordinates = compute_stack_points(\n",
    "    alignment_coordinates, alignment_normal, z_stack_count, z_stack_distance\n",
    ")"
   ],
   "id": "fa1fcbec96c6b68e",
   "outputs": [
    {
     "ename": "NameError",
     "evalue": "name 'alignment_normal' is not defined",
     "output_type": "error",
     "traceback": [
      "\u001B[0;31m---------------------------------------------------------------------------\u001B[0m",
      "\u001B[0;31mNameError\u001B[0m                                 Traceback (most recent call last)",
      "Cell \u001B[0;32mIn[18], line 2\u001B[0m\n\u001B[1;32m      1\u001B[0m point_coordinates \u001B[38;5;241m=\u001B[39m compute_stack_points(\n\u001B[0;32m----> 2\u001B[0m     alignment_coordinates, \u001B[43malignment_normal\u001B[49m, z_stack_count, z_stack_distance\n\u001B[1;32m      3\u001B[0m )\n",
      "\u001B[0;31mNameError\u001B[0m: name 'alignment_normal' is not defined"
     ]
    }
   ],
   "execution_count": 18
  }
 ],
 "metadata": {
  "kernelspec": {
   "display_name": "Python 3",
   "language": "python",
   "name": "python3"
  },
  "language_info": {
   "codemirror_mode": {
    "name": "ipython",
    "version": 2
   },
   "file_extension": ".py",
   "mimetype": "text/x-python",
   "name": "python",
   "nbconvert_exporter": "python",
   "pygments_lexer": "ipython2",
   "version": "2.7.6"
  }
 },
 "nbformat": 4,
 "nbformat_minor": 5
}
