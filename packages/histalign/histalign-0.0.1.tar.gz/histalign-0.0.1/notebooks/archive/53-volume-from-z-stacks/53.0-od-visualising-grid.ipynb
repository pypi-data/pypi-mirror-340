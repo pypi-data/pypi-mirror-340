{
 "cells": [
  {
   "cell_type": "code",
   "id": "initial_id",
   "metadata": {
    "collapsed": true,
    "ExecuteTime": {
     "end_time": "2024-11-25T10:08:09.757978Z",
     "start_time": "2024-11-25T10:08:09.746940Z"
    }
   },
   "source": [
    "import logging\n",
    "\n",
    "import numpy as np\n",
    "from scipy.spatial.transform import Rotation\n",
    "import vedo\n",
    "\n",
    "from helper_loader import *\n",
    "from histalign.backend.ccf.paths import get_atlas_path\n",
    "from histalign.backend.io import gather_alignment_paths, load_alignment_settings\n",
    "from histalign.backend.models import HistologySettings, Orientation, VolumeSettings\n",
    "from histalign.backend.registration.alignment import (\n",
    "    ALIGNMENT_VOLUMES_CACHE_DIRECTORY,\n",
    "    generate_hash_from_targets,\n",
    ")\n",
    "from histalign.backend.workspace import Volume, VolumeSlicer\n",
    "\n",
    "_module_logger = logging.getLogger(\"histalign.notebook\")"
   ],
   "outputs": [],
   "execution_count": 6
  },
  {
   "metadata": {
    "ExecuteTime": {
     "end_time": "2024-11-25T09:59:28.339046Z",
     "start_time": "2024-11-25T09:59:28.146816Z"
    }
   },
   "cell_type": "code",
   "source": [
    "def compute_normal(pitch: int, yaw: int, orientation: Orientation) -> np.ndarray:\n",
    "    match orientation:\n",
    "        case Orientation.CORONAL:\n",
    "            normal = [-1, 0, 0]\n",
    "            rotation = Rotation.from_euler(\"ZY\", [pitch, yaw], degrees=True)\n",
    "        case Orientation.HORIZONTAL:\n",
    "            normal = [0, 1, 0]\n",
    "            rotation = Rotation.from_euler(\"ZX\", [pitch, yaw], degrees=True)\n",
    "        case Orientation.SAGITTAL:\n",
    "            normal = [0, 0, 1]\n",
    "            rotation = Rotation.from_euler(\"XY\", [pitch, yaw], degrees=True)\n",
    "\n",
    "    return rotation.apply(normal)\n",
    "\n",
    "\n",
    "# Overly complicated but matches logic of alternative\n",
    "# def find_nearest_grid_point(point: np.ndarray) -> np.ndarray:\n",
    "#     points = [np.floor(point)]\n",
    "#     for i in range(3):\n",
    "#         point1 = points[0].copy()\n",
    "#         point1[-i - 1] += 1\n",
    "#         points.append(point1)\n",
    "#     other_points = [np.ceil(point)]\n",
    "#     for i in range(3):\n",
    "#         point2 = other_points[-1].copy()\n",
    "#         point2[-i - 1] -= 1\n",
    "#         other_points.insert(0, point2)\n",
    "#\n",
    "#     points.extend(other_points)\n",
    "#\n",
    "#     distances = np.sum(np.abs(points - point), axis=1)\n",
    "#\n",
    "#     return points[np.argmin(distances)]\n",
    "\n",
    "\n",
    "def find_nearest_grid_point(point: np.ndarray) -> np.ndarray:\n",
    "    return np.round(point)"
   ],
   "id": "cccd5af05d20b0b",
   "outputs": [],
   "execution_count": 2
  },
  {
   "metadata": {},
   "cell_type": "markdown",
   "source": "## Visualisation",
   "id": "2d610077de0e134d"
  },
  {
   "metadata": {
    "ExecuteTime": {
     "end_time": "2024-11-25T09:59:45.802972Z",
     "start_time": "2024-11-25T09:59:30.655230Z"
    }
   },
   "cell_type": "code",
   "source": [
    "cube_length = 5\n",
    "orientation = Orientation.CORONAL\n",
    "camera = coronal_camera\n",
    "pitch = 45\n",
    "yaw = 0\n",
    "\n",
    "update_cameras((cube_length,) * 3)\n",
    "\n",
    "points = vedo.Points(\n",
    "    np.vstack(\n",
    "        np.meshgrid(\n",
    "            np.linspace(0, cube_length - 1, cube_length, dtype=int),\n",
    "            np.linspace(0, cube_length - 1, cube_length, dtype=int),\n",
    "            np.linspace(0, cube_length - 1, cube_length, dtype=int),\n",
    "            indexing=\"ij\",\n",
    "        ),\n",
    "        dtype=int,\n",
    "    )\n",
    "    .reshape(3, -1)\n",
    "    .T,\n",
    "    r=8,\n",
    ")\n",
    "\n",
    "start_point = np.array([cube_length // 2, cube_length // 2, cube_length // 2])\n",
    "normal = compute_normal(pitch, yaw, orientation)\n",
    "end_point = start_point + normal\n",
    "arrow = vedo.Arrow(\n",
    "    start_pt=start_point,\n",
    "    end_pt=end_point,\n",
    ")\n",
    "\n",
    "plane = vedo.Plane(pos=end_point, normal=normal, s=(cube_length,) * 2)\n",
    "\n",
    "show(\n",
    "    [\n",
    "        points,\n",
    "        arrow,\n",
    "        plane,\n",
    "    ],\n",
    "    camera=camera,\n",
    ")"
   ],
   "id": "fade57b5da9d9e61",
   "outputs": [],
   "execution_count": 3
  },
  {
   "metadata": {},
   "cell_type": "markdown",
   "source": "## Computation",
   "id": "6909a1e4862f14c3"
  },
  {
   "metadata": {
    "ExecuteTime": {
     "end_time": "2024-11-25T09:59:50.457969Z",
     "start_time": "2024-11-25T09:59:50.438369Z"
    }
   },
   "cell_type": "code",
   "source": [
    "cube_length = 5\n",
    "orientation = Orientation.CORONAL\n",
    "camera = coronal_camera\n",
    "pitch = 45\n",
    "yaw = 0\n",
    "\n",
    "start_point = np.array([cube_length // 2, cube_length // 2, cube_length // 2])\n",
    "normal = compute_normal(pitch, yaw, orientation)\n",
    "end_point = start_point + normal\n",
    "print(f\"End point: {end_point}\")\n",
    "\n",
    "plane = vedo.Plane(pos=start_point, normal=normal, s=(cube_length,) * 2)\n",
    "\n",
    "nearest_grid_point = find_nearest_grid_point(end_point)\n",
    "print(f\"Nearest grid point to end point: {nearest_grid_point}\")\n",
    "distance_to_grid = vedo.Point(find_nearest_grid_point(end_point)).distance_to(plane)[0]\n",
    "print(f\"Distance from plane to grid point: {distance_to_grid}\")"
   ],
   "id": "ac0d58b0320cfc31",
   "outputs": [
    {
     "name": "stdout",
     "output_type": "stream",
     "text": [
      "End point: [1.29289322 1.29289322 2.        ]\n",
      "Nearest grid point to end point: [1. 1. 2.]\n",
      "Distance from plane to grid point: 1.4142135623730951\n"
     ]
    }
   ],
   "execution_count": 4
  },
  {
   "metadata": {},
   "cell_type": "markdown",
   "source": [
    "Assuming a volume resolution of 25 microns and a Z-stack of 21 images, each 10 microns apart.\n",
    "\n",
    "The alignment will have been done on a maximum intensity projection of the whole stack. Hence, the alignment coordinates will represent the centre of the stack. For each multiple of the normal, we can try getting a new projection of the stack around that distance to insert into the volume.\n",
    "Find N closest points and categorise Z indices based on which point they should map to.\n",
    "Get maximum intensity projection of stack segments per point.\n",
    "Slice volume at those points, insert projections."
   ],
   "id": "a9a2a00727d9357f"
  },
  {
   "metadata": {
    "ExecuteTime": {
     "end_time": "2024-11-14T14:13:01.505184Z",
     "start_time": "2024-11-14T14:13:01.430247Z"
    }
   },
   "cell_type": "code",
   "source": [
    "shape = (528, 320, 456)\n",
    "orientation = Orientation.CORONAL\n",
    "resolution = Resolution.MICRONS_25\n",
    "z_stack_count = 21\n",
    "z_stack_distance = 10\n",
    "\n",
    "pitch = 10\n",
    "yaw = 4\n",
    "\n",
    "normal = compute_normal(pitch, yaw, orientation)\n",
    "\n",
    "alignment_coordinates = np.array([264, 180, 228])\n",
    "\n",
    "\n",
    "def group_to_closest_grid_point(\n",
    "    volume_resolution: int,\n",
    "    stack_count: int,\n",
    "    stack_distance: int,\n",
    ") -> list[int]:\n",
    "    \"\"\"Generates a group index for each image of a Z-stack.\n",
    "\n",
    "    The group index indicates the closest grid point the image should be projected\n",
    "    to.\n",
    "\n",
    "    Args:\n",
    "        volume_resolution (int): Resolution in microns of the reference volume.\n",
    "        stack_count (int): How many images are present in the stack.\n",
    "        stack_distance (int): Z-distance of the stack in microns.\n",
    "\n",
    "    Returns:\n",
    "        list[int]: A group index list of length `stack_count`.\n",
    "    \"\"\"\n",
    "    middle_index = (stack_count - 1) // 2\n",
    "\n",
    "    groups = []\n",
    "    for i in range(stack_count):\n",
    "        slice_distance = (i - middle_index) * stack_distance\n",
    "\n",
    "        times, remainder = divmod(slice_distance, volume_resolution)\n",
    "        group = times + int(remainder > volume_resolution / 2)\n",
    "\n",
    "        groups.append(group)\n",
    "\n",
    "    return groups\n",
    "\n",
    "\n",
    "def subproject_array(array: np.ndarray, groups: list) -> np.ndarray:\n",
    "    array_dimension_count = len(array.shape)\n",
    "    if array_dimension_count != 3:\n",
    "        # Allow 2D arrays for convenience\n",
    "        if array_dimension_count != 2:\n",
    "            raise ValueError(\n",
    "                f\"Cannot project array with {array_dimension_count} dimensions.\"\n",
    "            )\n",
    "\n",
    "        return array\n",
    "\n",
    "    if not groups:\n",
    "        raise ValueError(\"Groups is empty.\")\n",
    "    elif len(groups) != array.shape[0]:\n",
    "        raise ValueError(\"Not enough groups to cover input array's first dimension.\")\n",
    "\n",
    "    projected_array = None\n",
    "\n",
    "    current_group = groups[0]\n",
    "    start_index = 0\n",
    "    for index, group in enumerate(groups):\n",
    "        if group == current_group and index < len(groups) - 1:\n",
    "            continue\n",
    "\n",
    "        if index == len(groups) - 1:\n",
    "            index += 1\n",
    "\n",
    "        if projected_array is None:\n",
    "            projected_array = np.max(array[start_index:index], axis=0, keepdims=True)\n",
    "        else:\n",
    "            projected_array = np.vstack(\n",
    "                (\n",
    "                    projected_array,\n",
    "                    np.max(array[start_index:index], axis=0, keepdims=True),\n",
    "                )\n",
    "            )\n",
    "\n",
    "        start_index = index\n",
    "        current_group = group\n",
    "\n",
    "    return projected_array\n",
    "\n",
    "\n",
    "def generate_aligned_planes(\n",
    "    alignment_volume: Volume | vedo.Volume,\n",
    "    alignment_paths: list[Path],\n",
    ") -> list[vedo.Plane]:\n",
    "    _module_logger.debug(\n",
    "        f\"Starting generation of {len(alignment_paths)} aligned planes.\"\n",
    "    )\n",
    "\n",
    "    planes = []\n",
    "    slicer = VolumeSlicer(volume=alignment_volume)\n",
    "\n",
    "    for index, alignment_path in enumerate(alignment_paths):\n",
    "        if index > 0 and index % 5 == 0:\n",
    "            _module_logger.debug(f\"Generated {index} aligned planes...\")\n",
    "\n",
    "        alignment_settings = load_alignment_settings(alignment_path)\n",
    "        histology_slice = load_image(alignment_settings.histology_path)\n",
    "\n",
    "        registrator = Registrator(True, True)\n",
    "        registered_slice = registrator.get_forwarded_image(\n",
    "            histology_slice, alignment_settings\n",
    "        )\n",
    "\n",
    "        plane_mesh = slicer.slice(alignment_settings.volume_settings, return_mesh=True)\n",
    "\n",
    "        # Undo padding. See `VolumeSlicer.slice` for more details.\n",
    "        registered_slice = registered_slice[\n",
    "            plane_mesh.metadata[\"i_padding\"][0] : registered_slice.shape[0]\n",
    "            - plane_mesh.metadata[\"i_padding\"][1],\n",
    "            plane_mesh.metadata[\"j_padding\"][0] : registered_slice.shape[1]\n",
    "            - plane_mesh.metadata[\"j_padding\"][1],\n",
    "        ]\n",
    "\n",
    "        plane_mesh.pointdata[\"ImageScalars\"] = registered_slice.flatten()\n",
    "\n",
    "        planes.append(plane_mesh)\n",
    "\n",
    "    _module_logger.debug(\n",
    "        f\"Finished generating all {len(alignment_paths)} aligned planes.\"\n",
    "    )\n",
    "    return planes\n",
    "\n",
    "\n",
    "def insert_aligned_planes_into_array(\n",
    "    array: np.ndarray,\n",
    "    planes: list[vedo.Plane],\n",
    "    inplace: bool = True,\n",
    ") -> np.ndarray:\n",
    "    _module_logger.debug(f\"Starting insertion of {len(planes)} into alignment array.\")\n",
    "\n",
    "    if not inplace:\n",
    "        array = array.copy()\n",
    "\n",
    "    for index, plane in enumerate(planes):\n",
    "        if index > 0 and index % 5 == 0:\n",
    "            _module_logger.debug(f\"Inserted {index} into alignment array...\")\n",
    "\n",
    "        temporary_volume = vedo.Volume(np.zeros_like(array))\n",
    "        temporary_volume.interpolate_data_from(plane, radius=1)\n",
    "\n",
    "        temporary_array = temporary_volume.tonumpy()\n",
    "        temporary_array = np.round(temporary_array).astype(np.uint16)\n",
    "\n",
    "        array[:] = np.maximum(array, temporary_array)\n",
    "\n",
    "    return array\n",
    "\n",
    "\n",
    "def build_aligned_volume(\n",
    "    alignment_directory: str | Path,\n",
    "    use_cache: bool = True,\n",
    "    return_raw_array: bool = False,\n",
    ") -> np.ndarray | vedo.Volume:\n",
    "    if isinstance(alignment_directory, str):\n",
    "        alignment_directory = Path(alignment_directory)\n",
    "\n",
    "    alignment_paths = gather_alignment_paths(alignment_directory)\n",
    "    if not alignment_paths:\n",
    "        raise ValueError(\"Cannot build aligned volume from empty alignment directory.\")\n",
    "\n",
    "    alignment_hash = generate_hash_from_targets(alignment_paths)\n",
    "\n",
    "    cache_path = ALIGNMENT_VOLUMES_CACHE_DIRECTORY / f\"{alignment_hash}.npz\"\n",
    "    if cache_path.exists() and use_cache:\n",
    "        _module_logger.debug(\"Found cached aligned volume. Loading from file.\")\n",
    "\n",
    "        array = np.load(cache_path)[\"array\"]\n",
    "        if return_raw_array:\n",
    "            return array\n",
    "        return vedo.Volume(array)\n",
    "\n",
    "    reference_shape = load_alignment_settings(alignment_paths[0]).volume_settings.shape\n",
    "\n",
    "    # Volume needs to be created before array as vedo makes a copy\n",
    "    aligned_volume = vedo.Volume(np.zeros(shape=reference_shape, dtype=np.uint16))\n",
    "    aligned_array = aligned_volume.tonumpy()\n",
    "\n",
    "    planes = generate_aligned_planes(aligned_volume, alignment_paths)\n",
    "\n",
    "    insert_aligned_planes_into_array(aligned_array, planes)\n",
    "    aligned_volume.modified()  # Probably unnecessary but good practice\n",
    "\n",
    "    if use_cache:\n",
    "        _module_logger.debug(\"Caching volume to file as a NumPy array.\")\n",
    "        os.makedirs(ALIGNMENT_VOLUMES_CACHE_DIRECTORY, exist_ok=True)\n",
    "        np.savez_compressed(cache_path, array=aligned_array)\n",
    "\n",
    "    if return_raw_array:\n",
    "        return aligned_array\n",
    "    return aligned_volume\n",
    "\n",
    "\n",
    "groups = group_to_closest_grid_point(resolution.value, z_stack_count, z_stack_distance)\n",
    "\n",
    "mock_stack = np.random.random(size=z_stack_count * 10 * 10).reshape(\n",
    "    z_stack_count, 10, 10\n",
    ")\n",
    "for i in range(z_stack_count):\n",
    "    mock_stack[i] = i\n",
    "\n",
    "project_stack = subproject_array(mock_stack, groups)"
   ],
   "id": "5e077fbb5cf84d90",
   "outputs": [
    {
     "name": "stdout",
     "output_type": "stream",
     "text": [
      "[-4, -4, -3, -3, -2, -2, -2, -1, -1, 0, 0, 0, 1, 1, 2, 2, 2, 3, 3, 4, 4]\n",
      "(9, 10, 10)\n"
     ]
    }
   ],
   "execution_count": 360
  },
  {
   "metadata": {
    "ExecuteTime": {
     "end_time": "2024-11-25T10:45:02.764450Z",
     "start_time": "2024-11-25T10:45:02.754723Z"
    }
   },
   "cell_type": "code",
   "source": [
    "def euclidean_distance(point1: np.ndarray, point2: np.ndarray) -> float:\n",
    "    return np.sqrt(np.sum((point1 - point2) ** 2))"
   ],
   "id": "6a6508a38bcd2689",
   "outputs": [],
   "execution_count": 72
  },
  {
   "metadata": {
    "ExecuteTime": {
     "end_time": "2024-11-25T10:33:49.735355Z",
     "start_time": "2024-11-25T10:33:49.127530Z"
    }
   },
   "cell_type": "code",
   "source": [
    "shape = (528, 320, 456)\n",
    "orientation = Orientation.CORONAL\n",
    "resolution = Resolution.MICRONS_25\n",
    "z_stack_count = 21\n",
    "z_stack_distance = 10\n",
    "\n",
    "alignment_coordinates = np.array([264, 180, 228])\n",
    "pitch = 0\n",
    "yaw = 0\n",
    "\n",
    "settings = AlignmentSettings(\n",
    "    volume_path=get_atlas_path(resolution),\n",
    "    volume_settings=VolumeSettings(\n",
    "        orientation=orientation,\n",
    "        resolution=resolution,\n",
    "        pitch=pitch,\n",
    "        yaw=yaw,\n",
    "    ),\n",
    "    histology_settings=HistologySettings(),\n",
    ")\n",
    "\n",
    "# Load reference atlas volume\n",
    "atlas_volume = load_volume(get_atlas_path(resolution))\n",
    "\n",
    "# Get the plane of alignment\n",
    "alignment_plane: vedo.Plane = VolumeSlicer(volume=atlas_volume).slice(\n",
    "    settings.volume_settings, return_mesh=True\n",
    ")\n",
    "# Get the plane's normal\n",
    "alignment_normal = compute_normal(pitch, yaw, orientation)\n",
    "\n",
    "# Compute closest grid point along normal direction\n",
    "vedo.Point(alignment_coordinates + alignment_normal).distance_to(alignment_plane)"
   ],
   "id": "ddc75e6b842271a6",
   "outputs": [
    {
     "data": {
      "text/plain": [
       "array([1.])"
      ]
     },
     "execution_count": 46,
     "metadata": {},
     "output_type": "execute_result"
    }
   ],
   "execution_count": 46
  },
  {
   "metadata": {
    "ExecuteTime": {
     "end_time": "2024-11-25T10:45:03.541017Z",
     "start_time": "2024-11-25T10:45:03.527792Z"
    }
   },
   "cell_type": "code",
   "source": [
    "plane2 = vedo.Plane(\n",
    "    pos=alignment_coordinates + alignment_normal, normal=alignment_normal, s=(100, 100)\n",
    ")\n",
    "\n",
    "point1 = alignment_plane.intersect_with_line(\n",
    "    alignment_coordinates - 1000 * alignment_normal,\n",
    "    alignment_coordinates + 1000 * alignment_normal,\n",
    ")\n",
    "point2 = plane2.intersect_with_line(\n",
    "    alignment_coordinates - 1000 * alignment_normal,\n",
    "    alignment_coordinates + 1000 * alignment_normal,\n",
    ")\n",
    "\n",
    "euclidean_distance(point1, point2)"
   ],
   "id": "f56441298dd38c27",
   "outputs": [
    {
     "data": {
      "text/plain": [
       "1.0"
      ]
     },
     "execution_count": 73,
     "metadata": {},
     "output_type": "execute_result"
    }
   ],
   "execution_count": 73
  },
  {
   "metadata": {
    "ExecuteTime": {
     "end_time": "2024-11-25T10:28:57.675262Z",
     "start_time": "2024-11-25T10:28:57.663717Z"
    }
   },
   "cell_type": "code",
   "source": [
    "np.sqrt(\n",
    "    np.sum(((alignment_coordinates + alignment_normal) - alignment_coordinates) ** 2)\n",
    ")"
   ],
   "id": "b83b76a28fe2e2fa",
   "outputs": [
    {
     "data": {
      "text/plain": [
       "0.9999999999999748"
      ]
     },
     "execution_count": 32,
     "metadata": {},
     "output_type": "execute_result"
    }
   ],
   "execution_count": 32
  }
 ],
 "metadata": {
  "kernelspec": {
   "display_name": "Python 3",
   "language": "python",
   "name": "python3"
  },
  "language_info": {
   "codemirror_mode": {
    "name": "ipython",
    "version": 2
   },
   "file_extension": ".py",
   "mimetype": "text/x-python",
   "name": "python",
   "nbconvert_exporter": "python",
   "pygments_lexer": "ipython2",
   "version": "2.7.6"
  }
 },
 "nbformat": 4,
 "nbformat_minor": 5
}
