{
 "cells": [
  {
   "metadata": {
    "ExecuteTime": {
     "end_time": "2024-10-22T14:43:40.741870Z",
     "start_time": "2024-10-22T14:43:40.241830Z"
    }
   },
   "cell_type": "code",
   "source": "from helper_loader import *",
   "id": "8ba25b15025812c9",
   "outputs": [],
   "execution_count": 19
  },
  {
   "cell_type": "code",
   "id": "initial_id",
   "metadata": {
    "collapsed": true,
    "ExecuteTime": {
     "end_time": "2024-10-22T14:43:42.491290Z",
     "start_time": "2024-10-22T14:43:40.747317Z"
    }
   },
   "source": [
    "import matplotlib.pyplot as plt\n",
    "import numpy as np\n",
    "from scipy.spatial.transform import Rotation\n",
    "import vedo\n",
    "\n",
    "vedo.settings.default_backend = \"vtk\"\n",
    "\n",
    "\n",
    "def compute_normal(pitch: int, yaw: int) -> np.ndarray:\n",
    "    normal = [-1, 0, 0]\n",
    "    rotation = Rotation.from_euler(\"ZY\", [pitch, yaw], degrees=True)\n",
    "\n",
    "    return rotation.apply(normal)\n",
    "\n",
    "\n",
    "def slice_image(\n",
    "    volume: vedo.Volume,\n",
    "    offset: int,\n",
    "    pitch: int,\n",
    "    yaw: int,\n",
    "    return_mesh: bool = False,\n",
    ") -> np.ndarray | vedo.Mesh:\n",
    "    slice_mesh = volume.slice_plane(\n",
    "        origin=volume.center() + [-offset, 0, 0],\n",
    "        normal=compute_normal(pitch, yaw),\n",
    "        autocrop=False,\n",
    "    )\n",
    "\n",
    "    if return_mesh:\n",
    "        return slice_mesh\n",
    "\n",
    "    return slice_mesh.pointdata[\"ImageScalars\"].reshape(slice_mesh.metadata[\"shape\"])\n",
    "\n",
    "\n",
    "offset = 50\n",
    "pitch = 10\n",
    "yaw = 40\n",
    "\n",
    "array = np.zeros(shape=(200, 150, 180), dtype=np.uint8)\n",
    "array[..., (array.shape[2] - 1) // 2] = 1\n",
    "\n",
    "volume = vedo.Volume(array)\n",
    "update_cameras(volume.shape)\n",
    "update_axes(volume.shape)\n",
    "\n",
    "slice_plane = vedo.Plane(\n",
    "    pos=volume.center() + [-offset, 0, 0],\n",
    "    normal=compute_normal(pitch, yaw),\n",
    "    s=(array.shape[2], array.shape[1]),\n",
    ")\n",
    "\n",
    "camera = dict(\n",
    "    position=volume.center() + [500, 0, 0],\n",
    "    focal_point=volume.center(),\n",
    "    viewup=(0, -1, 0),\n",
    ")\n",
    "\n",
    "plotter = vedo.Plotter(axes=3)\n",
    "plotter += [volume, slice_plane]\n",
    "plotter.show(camera=camera)\n",
    "\n",
    "image = slice_image(volume, offset, pitch, yaw)\n",
    "\n",
    "# Show the center of the image\n",
    "image[(image.shape[0] - 1) // 2] = 2\n",
    "image[:, (image.shape[1] - 1) // 2] = 2\n",
    "\n",
    "plt.imshow(image)\n",
    "plt.show()"
   ],
   "outputs": [
    {
     "data": {
      "text/plain": [
       "<Figure size 640x480 with 1 Axes>"
      ],
      "image/png": "[encoded data removed]"
     },
     "metadata": {},
     "output_type": "display_data"
    }
   ],
   "execution_count": 20
  },
  {
   "metadata": {
    "ExecuteTime": {
     "end_time": "2024-10-22T14:43:42.521030Z",
     "start_time": "2024-10-22T14:43:42.504830Z"
    }
   },
   "cell_type": "code",
   "source": [
    "mesh = slice_image(volume, offset, pitch, yaw, return_mesh=True)\n",
    "\n",
    "mesh.metadata[\"original_bounds\"]"
   ],
   "id": "e736a34d103ec097",
   "outputs": [
    {
     "data": {
      "text/plain": [
       "array([-104.42152225,  169.57847775,  -94.73552311,   88.26447689,\n",
       "          0.        ,    0.        ])"
      ]
     },
     "execution_count": 21,
     "metadata": {},
     "output_type": "execute_result"
    }
   ],
   "execution_count": 21
  },
  {
   "metadata": {
    "ExecuteTime": {
     "end_time": "2024-10-22T14:43:42.572849Z",
     "start_time": "2024-10-22T14:43:42.560767Z"
    }
   },
   "cell_type": "code",
   "source": "mesh.bounds()",
   "id": "c7e5ac46a2ef9119",
   "outputs": [
    {
     "data": {
      "text/plain": [
       "array([-24.137419 , 166.11662  , -29.574123 , 168.19255  ,  -1.8782065,\n",
       "       229.17224  ], dtype=float32)"
      ]
     },
     "execution_count": 22,
     "metadata": {},
     "output_type": "execute_result"
    }
   ],
   "execution_count": 22
  },
  {
   "metadata": {
    "ExecuteTime": {
     "end_time": "2024-10-22T14:43:42.621458Z",
     "start_time": "2024-10-22T14:43:42.610299Z"
    }
   },
   "cell_type": "code",
   "source": "mesh.metadata[\"shape\"]",
   "id": "75bcd6583e39e625",
   "outputs": [
    {
     "data": {
      "text/plain": [
       "array([184, 275])"
      ]
     },
     "execution_count": 23,
     "metadata": {},
     "output_type": "execute_result"
    }
   ],
   "execution_count": 23
  },
  {
   "metadata": {
    "ExecuteTime": {
     "end_time": "2024-10-22T14:43:42.679996Z",
     "start_time": "2024-10-22T14:43:42.661072Z"
    }
   },
   "cell_type": "code",
   "source": [
    "print(\n",
    "    f\"Using original_bounds:\\n\"\n",
    "    f\"\\txmax - xmin = {mesh.metadata['original_bounds'][1] - mesh.metadata['original_bounds'][0]},\\n\"\n",
    "    f\"\\tymax - ymin = {mesh.metadata['original_bounds'][3] - mesh.metadata['original_bounds'][2]},\\n\"\n",
    "    f\"\\tzmax - zmin = {mesh.metadata['original_bounds'][5] - mesh.metadata['original_bounds'][4]},\\n\"\n",
    ")\n",
    "print(\n",
    "    f\"Using .bounds():\\n\"\n",
    "    f\"\\txmax - xmin = {mesh.bounds()[1] - mesh.bounds()[0]},\\n\"\n",
    "    f\"\\tymax - ymin = {mesh.bounds()[3] - mesh.bounds()[2]},\\n\"\n",
    "    f\"\\tzmax - zmin = {mesh.bounds()[5] - mesh.bounds()[4]},\\n\"\n",
    ")"
   ],
   "id": "251163625fa69de8",
   "outputs": [
    {
     "name": "stdout",
     "output_type": "stream",
     "text": [
      "Using original_bounds:\n",
      "\txmax - xmin = 274.0,\n",
      "\tymax - ymin = 183.0,\n",
      "\tzmax - zmin = 0.0,\n",
      "\n",
      "Using .bounds():\n",
      "\txmax - xmin = 190.25404357910156,\n",
      "\tymax - ymin = 197.7666778564453,\n",
      "\tzmax - zmin = 231.05044555664062,\n",
      "\n"
     ]
    }
   ],
   "execution_count": 24
  },
  {
   "metadata": {
    "ExecuteTime": {
     "end_time": "2024-10-22T14:43:42.836559Z",
     "start_time": "2024-10-22T14:43:42.824561Z"
    }
   },
   "cell_type": "code",
   "source": "volume.center()",
   "id": "6a858de0ee800ec5",
   "outputs": [
    {
     "data": {
      "text/plain": [
       "array([99.5, 74.5, 89.5])"
      ]
     },
     "execution_count": 25,
     "metadata": {},
     "output_type": "execute_result"
    }
   ],
   "execution_count": 25
  },
  {
   "metadata": {
    "ExecuteTime": {
     "end_time": "2024-10-22T14:43:42.930330Z",
     "start_time": "2024-10-22T14:43:42.910388Z"
    }
   },
   "cell_type": "code",
   "source": [
    "(\n",
    "    f\"{(mesh.bounds()[1] - mesh.bounds()[0]) // 2}, \"\n",
    "    f\"{(mesh.bounds()[3] - mesh.bounds()[2]) // 2}, \"\n",
    "    f\"{(mesh.bounds()[5] - mesh.bounds()[4]) // 2}\"\n",
    ")"
   ],
   "id": "1946389e5a9a21ed",
   "outputs": [
    {
     "data": {
      "text/plain": [
       "'95.0, 98.0, 115.0'"
      ]
     },
     "execution_count": 26,
     "metadata": {},
     "output_type": "execute_result"
    }
   ],
   "execution_count": 26
  },
  {
   "metadata": {
    "ExecuteTime": {
     "end_time": "2024-10-22T14:43:43.777253Z",
     "start_time": "2024-10-22T14:43:42.980505Z"
    }
   },
   "cell_type": "code",
   "source": [
    "plane = vedo.Plane(\n",
    "    pos=volume.center() + [-offset, 0, 0],\n",
    "    normal=compute_normal(settings.pitch, settings.pitch),\n",
    "    s=(\n",
    "        mesh.bounds()[3] - mesh.bounds()[2],\n",
    "        mesh.bounds()[1] - mesh.bounds()[0],\n",
    "    ),\n",
    ")\n",
    "show(\n",
    "    plane,\n",
    "    camera=coronal_camera,\n",
    ")"
   ],
   "id": "cf13af203be317cf",
   "outputs": [],
   "execution_count": 27
  },
  {
   "metadata": {
    "ExecuteTime": {
     "end_time": "2024-10-22T14:43:43.817216Z",
     "start_time": "2024-10-22T14:43:43.805112Z"
    }
   },
   "cell_type": "code",
   "source": "plane.bounds()",
   "id": "ba7692d77288c941",
   "outputs": [
    {
     "data": {
      "text/plain": [
       "array([-51.52259 , 150.52258 , -35.955116, 184.95512 ,   8.499511,\n",
       "       170.50049 ], dtype=float32)"
      ]
     },
     "execution_count": 28,
     "metadata": {},
     "output_type": "execute_result"
    }
   ],
   "execution_count": 28
  }
 ],
 "metadata": {
  "kernelspec": {
   "display_name": "Python 3",
   "language": "python",
   "name": "python3"
  },
  "language_info": {
   "codemirror_mode": {
    "name": "ipython",
    "version": 2
   },
   "file_extension": ".py",
   "mimetype": "text/x-python",
   "name": "python",
   "nbconvert_exporter": "python",
   "pygments_lexer": "ipython2",
   "version": "2.7.6"
  }
 },
 "nbformat": 4,
 "nbformat_minor": 5
}
