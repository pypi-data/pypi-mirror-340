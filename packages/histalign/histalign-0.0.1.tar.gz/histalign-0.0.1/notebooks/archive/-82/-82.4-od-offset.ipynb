{
 "cells": [
  {
   "cell_type": "code",
   "id": "initial_id",
   "metadata": {
    "collapsed": true,
    "ExecuteTime": {
     "end_time": "2024-10-23T10:17:49.248574Z",
     "start_time": "2024-10-23T10:17:49.237708Z"
    }
   },
   "source": [
    "from helper_loader import *\n",
    "from histalign.backend.maths import compute_origin_from_orientation"
   ],
   "outputs": [],
   "execution_count": 34
  },
  {
   "metadata": {
    "ExecuteTime": {
     "end_time": "2024-10-23T10:17:49.328476Z",
     "start_time": "2024-10-23T10:17:49.287837Z"
    }
   },
   "cell_type": "code",
   "source": [
    "volume_shape = load_volume(get_atlas_path(Resolution.MICRONS_100)).shape\n",
    "update_cameras(volume_shape)\n",
    "update_axes(volume_shape)\n",
    "\n",
    "array = np.zeros(shape=volume_shape, dtype=np.uint8)\n",
    "array[:, (volume_shape[1] - 1) // 2, (volume_shape[2] - 1) // 2] = 1\n",
    "# array[:, :, (volume_shape[2] - 1) // 2] = 1\n",
    "\n",
    "volume = vedo.Volume(array)"
   ],
   "id": "a7f749f8c6e53b98",
   "outputs": [],
   "execution_count": 35
  },
  {
   "metadata": {
    "ExecuteTime": {
     "end_time": "2024-10-23T10:17:49.351102Z",
     "start_time": "2024-10-23T10:17:49.342122Z"
    }
   },
   "cell_type": "code",
   "source": [
    "settings = VolumeSettings(\n",
    "    orientation=Orientation.CORONAL,\n",
    "    resolution=Resolution.MICRONS_100,\n",
    "    offset=-50,\n",
    "    pitch=50,\n",
    "    yaw=0,\n",
    "    shape=volume_shape,\n",
    ")"
   ],
   "id": "2e19f3eda8bb2677",
   "outputs": [],
   "execution_count": 36
  },
  {
   "metadata": {
    "ExecuteTime": {
     "end_time": "2024-10-23T10:17:49.438345Z",
     "start_time": "2024-10-23T10:17:49.398026Z"
    }
   },
   "cell_type": "code",
   "source": [
    "image = VolumeSlicer(volume=volume).slice(\n",
    "    settings,\n",
    "    return_mesh=False,\n",
    "    autocrop=False,\n",
    "    correct_rotation=False,\n",
    ")\n",
    "\n",
    "try:\n",
    "    where_plane_center_ends_up = np.array(np.where(image == 1))[:, 0].flatten()\n",
    "except IndexError:\n",
    "    where_plane_center_ends_up = np.array(np.where(image == 1)).flatten()\n",
    "print(where_plane_center_ends_up)\n",
    "\n",
    "# image[(image.shape[0] - 1) // 2] = 2\n",
    "# image[:, (image.shape[1] - 1) // 2] = 2\n",
    "\n",
    "imshow(image, vmin=0, vmax=2)"
   ],
   "id": "1d2fcbac9edf9da6",
   "outputs": [
    {
     "name": "stdout",
     "output_type": "stream",
     "text": [
      "[ 66 124]\n"
     ]
    },
    {
     "data": {
      "text/plain": [
       "<Figure size 640x480 with 1 Axes>"
      ],
      "image/png": "[encoded data removed]"
     },
     "metadata": {},
     "output_type": "display_data"
    }
   ],
   "execution_count": 37
  },
  {
   "metadata": {
    "ExecuteTime": {
     "end_time": "2024-10-23T10:17:49.526020Z",
     "start_time": "2024-10-23T10:17:49.515626Z"
    }
   },
   "cell_type": "code",
   "source": [
    "image_center = (np.array(image.shape) - 1) // 2\n",
    "print(image_center)"
   ],
   "id": "9a388f34f818f1b6",
   "outputs": [
    {
     "name": "stdout",
     "output_type": "stream",
     "text": [
      "[92 94]\n"
     ]
    }
   ],
   "execution_count": 38
  },
  {
   "metadata": {
    "ExecuteTime": {
     "end_time": "2024-10-23T10:17:49.638212Z",
     "start_time": "2024-10-23T10:17:49.622212Z"
    }
   },
   "cell_type": "code",
   "source": [
    "expected_centre = (np.array(settings.shape) - 1) // 2 + [1 - settings.offset, 0, 0]\n",
    "plane_origin = (compute_origin_from_orientation(volume.dataset.GetCenter(), settings),)\n",
    "\n",
    "mesh = VolumeSlicer(volume=volume).slice(settings, return_mesh=True, autocrop=False)\n",
    "current_mesh_center = np.array((mesh.bounds()[1::2] + mesh.bounds()[::2]) // 2)"
   ],
   "id": "2f70119e7aa82425",
   "outputs": [],
   "execution_count": 39
  },
  {
   "metadata": {
    "ExecuteTime": {
     "end_time": "2024-10-23T10:17:49.693845Z",
     "start_time": "2024-10-23T10:17:49.682816Z"
    }
   },
   "cell_type": "code",
   "source": "expected_centre",
   "id": "2fd87c43650c96f9",
   "outputs": [
    {
     "data": {
      "text/plain": [
       "array([116,  39,  56])"
      ]
     },
     "execution_count": 40,
     "metadata": {},
     "output_type": "execute_result"
    }
   ],
   "execution_count": 40
  },
  {
   "metadata": {
    "ExecuteTime": {
     "end_time": "2024-10-23T10:17:49.844287Z",
     "start_time": "2024-10-23T10:17:49.831113Z"
    }
   },
   "cell_type": "code",
   "source": "current_mesh_center",
   "id": "2b49a91e17e5d948",
   "outputs": [
    {
     "data": {
      "text/plain": [
       "array([85., 64., 56.], dtype=float32)"
      ]
     },
     "execution_count": 41,
     "metadata": {},
     "output_type": "execute_result"
    }
   ],
   "execution_count": 41
  },
  {
   "metadata": {
    "ExecuteTime": {
     "end_time": "2024-10-23T10:17:49.952918Z",
     "start_time": "2024-10-23T10:17:49.942155Z"
    }
   },
   "cell_type": "code",
   "source": [
    "original_mesh_center = np.array(\n",
    "    [\n",
    "        (mesh.metadata[\"original_bounds\"][1] + mesh.metadata[\"original_bounds\"][0])\n",
    "        // 2,\n",
    "        (mesh.metadata[\"original_bounds\"][3] + mesh.metadata[\"original_bounds\"][2])\n",
    "        // 2,\n",
    "        (mesh.metadata[\"original_bounds\"][5] + mesh.metadata[\"original_bounds\"][4])\n",
    "        // 2,\n",
    "    ]\n",
    ")"
   ],
   "id": "4b86cd03390f7d7a",
   "outputs": [],
   "execution_count": 42
  },
  {
   "metadata": {
    "ExecuteTime": {
     "end_time": "2024-10-23T10:17:50.005890Z",
     "start_time": "2024-10-23T10:17:49.993264Z"
    }
   },
   "cell_type": "code",
   "source": [
    "print(\"Offset: \", settings.offset)\n",
    "print(\"Pitch: \", settings.pitch)\n",
    "print(\"Yaw: \", settings.yaw)\n",
    "\n",
    "print(\n",
    "    \"Plane centre distance from image centre: \",\n",
    "    image_center - where_plane_center_ends_up,\n",
    ")\n",
    "\n",
    "print(\n",
    "    \"Mesh centre distance from expected centre: \", expected_centre - current_mesh_center\n",
    ")\n",
    "\n",
    "print(\"Original mesh centre: \", original_mesh_center)\n",
    "print(\"Original mesh centre X + Y: \", original_mesh_center[0] + original_mesh_center[1])"
   ],
   "id": "350730ec7aa7d472",
   "outputs": [
    {
     "name": "stdout",
     "output_type": "stream",
     "text": [
      "Offset:  -50\n",
      "Pitch:  50\n",
      "Yaw:  0\n",
      "Plane centre distance from image centre:  [ 26 -30]\n",
      "Mesh centre distance from expected centre:  [ 31. -25.   0.]\n",
      "Original mesh centre:  [-30.  25.   0.]\n",
      "Original mesh centre X + Y:  -5.0\n"
     ]
    }
   ],
   "execution_count": 43
  },
  {
   "metadata": {
    "ExecuteTime": {
     "end_time": "2024-10-23T10:17:50.116977Z",
     "start_time": "2024-10-23T10:17:50.106487Z"
    }
   },
   "cell_type": "code",
   "source": [
    "# show(\n",
    "#     [\n",
    "#         volume,\n",
    "#         mesh,\n",
    "#     ],\n",
    "#     camera=coronal_camera,\n",
    "# )"
   ],
   "id": "a93ce040d3dbbb23",
   "outputs": [],
   "execution_count": 44
  }
 ],
 "metadata": {
  "kernelspec": {
   "display_name": "Python 3",
   "language": "python",
   "name": "python3"
  },
  "language_info": {
   "codemirror_mode": {
    "name": "ipython",
    "version": 2
   },
   "file_extension": ".py",
   "mimetype": "text/x-python",
   "name": "python",
   "nbconvert_exporter": "python",
   "pygments_lexer": "ipython2",
   "version": "2.7.6"
  }
 },
 "nbformat": 4,
 "nbformat_minor": 5
}
