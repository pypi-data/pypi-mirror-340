{
 "cells": [
  {
   "cell_type": "code",
   "id": "initial_id",
   "metadata": {
    "collapsed": true,
    "ExecuteTime": {
     "end_time": "2024-12-06T12:41:35.606302Z",
     "start_time": "2024-12-06T12:41:35.595667Z"
    }
   },
   "source": [
    "from helper_loader import *\n",
    "\n",
    "from histalign.backend.models import VolumeSettings, Orientation\n",
    "from histalign.backend.ccf.paths import get_atlas_path\n",
    "from histalign.backend.workspace import VolumeSlicer\n",
    "\n",
    "import scipy.ndimage as ndimage\n",
    "from scipy.spatial.transform import Rotation"
   ],
   "outputs": [],
   "execution_count": 21
  },
  {
   "metadata": {
    "ExecuteTime": {
     "end_time": "2024-12-06T12:41:35.761691Z",
     "start_time": "2024-12-06T12:41:35.750012Z"
    }
   },
   "cell_type": "code",
   "source": [
    "def get_image_from_slice_mesh(mesh: vedo.Mesh) -> np.ndarray:\n",
    "    return mesh.pointdata[\"ImageScalars\"].reshape(mesh.metadata[\"shape\"])\n",
    "\n",
    "\n",
    "def get_mesh_centre(mesh_bounds: np.ndarray) -> np.ndarray:\n",
    "    return np.array(\n",
    "        [\n",
    "            (mesh_bounds[1] + mesh_bounds[0]) // 2,\n",
    "            (mesh_bounds[3] + mesh_bounds[2]) // 2,\n",
    "            (mesh_bounds[5] + mesh_bounds[4]) // 2,\n",
    "        ]\n",
    "    )\n",
    "\n",
    "\n",
    "def slice_image(\n",
    "    volume: vedo.Volume,\n",
    "    settings: VolumeSettings,\n",
    "    autocrop: bool = True,\n",
    "    correct_rotation: bool = True,\n",
    ") -> np.ndarray:\n",
    "    mesh = VolumeSlicer(volume=volume).slice(\n",
    "        settings, return_mesh=True, autocrop=autocrop\n",
    "    )\n",
    "    image = get_image_from_slice_mesh(mesh)\n",
    "\n",
    "    original_mesh_center = get_mesh_centre(mesh.metadata[\"original_bounds\"])\n",
    "\n",
    "    if (padding := int(original_mesh_center[0])) > 0:\n",
    "        j_padding = [2 * padding, 0]\n",
    "    else:\n",
    "        j_padding = [0, 2 * -padding]\n",
    "\n",
    "    if (padding := int(original_mesh_center[1])) > 0:\n",
    "        i_padding = [2 * padding, 0]\n",
    "    else:\n",
    "        i_padding = [0, 2 * -padding]\n",
    "\n",
    "    padded_image = np.pad(image, [i_padding, j_padding])\n",
    "\n",
    "    if correct_rotation:\n",
    "        if settings.orientation == Orientation.HORIZONTAL:\n",
    "            padded_image = ndimage.rotate(padded_image, -90)\n",
    "        if settings.orientation != Orientation.SAGITTAL:\n",
    "            padded_image = ndimage.rotate(padded_image, settings.pitch)\n",
    "\n",
    "    return padded_image"
   ],
   "id": "34a1c20b4c6ee539",
   "outputs": [],
   "execution_count": 22
  },
  {
   "metadata": {
    "ExecuteTime": {
     "end_time": "2024-12-06T12:41:35.937168Z",
     "start_time": "2024-12-06T12:41:35.906524Z"
    }
   },
   "cell_type": "code",
   "source": [
    "centre_offset = 25\n",
    "\n",
    "resolution = Resolution.MICRONS_100\n",
    "\n",
    "volume = load_volume(get_atlas_path(resolution))\n",
    "update_cameras(volume.shape)\n",
    "update_axes(volume.shape)\n",
    "\n",
    "volume_centre = np.floor(volume.center()).astype(np.int16)\n",
    "\n",
    "volume.tonumpy()[:] = 0\n",
    "volume.tonumpy()[\n",
    "    : volume_centre[0],\n",
    "    ((volume.shape[1] - 1) // 2) + centre_offset,\n",
    "    ((volume.shape[2] - 1) // 2) + centre_offset,\n",
    "] = 255"
   ],
   "id": "2316cf659183d04b",
   "outputs": [],
   "execution_count": 23
  },
  {
   "metadata": {
    "ExecuteTime": {
     "end_time": "2024-12-06T12:41:36.129915Z",
     "start_time": "2024-12-06T12:41:36.117741Z"
    }
   },
   "cell_type": "code",
   "source": "volume.shape",
   "id": "42c6427c5513d702",
   "outputs": [
    {
     "data": {
      "text/plain": [
       "array([132,  80, 114])"
      ]
     },
     "execution_count": 24,
     "metadata": {},
     "output_type": "execute_result"
    }
   ],
   "execution_count": 24
  },
  {
   "metadata": {
    "ExecuteTime": {
     "end_time": "2024-12-06T12:41:36.875179Z",
     "start_time": "2024-12-06T12:41:36.807406Z"
    }
   },
   "cell_type": "code",
   "source": [
    "correct_rotation = True\n",
    "autocrop = False\n",
    "\n",
    "settings = VolumeSettings(\n",
    "    orientation=Orientation.CORONAL,\n",
    "    resolution=resolution,\n",
    "    offset=40,\n",
    "    pitch=30,\n",
    "    yaw=50,\n",
    "    shape=volume.shape,\n",
    ")\n",
    "\n",
    "expected_coordinates_from_volume_centre = [\n",
    "    -settings.offset,\n",
    "    centre_offset,\n",
    "    centre_offset,\n",
    "]\n",
    "\n",
    "padded_slice_image = slice_image(\n",
    "    volume, settings, autocrop=autocrop, correct_rotation=correct_rotation\n",
    ")\n",
    "\n",
    "image_centre = (np.array(padded_slice_image.shape) - 1) // 2\n",
    "\n",
    "actual_coordinates_from_image_centre = (\n",
    "    np.unravel_index(np.argmax(padded_slice_image), padded_slice_image.shape)\n",
    "    - image_centre\n",
    ")\n",
    "\n",
    "imshow(padded_slice_image, title=\"Padded slice\", figsize=(12, 7), vmin=0, vmax=500)"
   ],
   "id": "77257bec7a11f68d",
   "outputs": [
    {
     "data": {
      "text/plain": [
       "<Figure size 1200x700 with 1 Axes>"
      ],
      "image/png": "[encoded data removed]"
     },
     "metadata": {},
     "output_type": "display_data"
    }
   ],
   "execution_count": 25
  },
  {
   "metadata": {
    "ExecuteTime": {
     "end_time": "2024-12-06T12:41:38.180694Z",
     "start_time": "2024-12-06T12:41:38.169794Z"
    }
   },
   "cell_type": "code",
   "source": [
    "def apply_rotation(vector: list | np.ndarray, settings: VolumeSettings) -> np.ndarray:\n",
    "    pitch = settings.pitch\n",
    "    yaw = settings.yaw\n",
    "\n",
    "    match settings.orientation:\n",
    "        case Orientation.CORONAL:\n",
    "            rotation = Rotation.from_euler(\"ZY\", [pitch, yaw], degrees=True)\n",
    "        case Orientation.HORIZONTAL:\n",
    "            rotation = Rotation.from_euler(\"ZX\", [pitch, yaw], degrees=True)\n",
    "        case Orientation.SAGITTAL:\n",
    "            rotation = Rotation.from_euler(\"XY\", [pitch, yaw], degrees=True)\n",
    "        case other:\n",
    "            # Should be impossible thanks to pydantic\n",
    "            raise InvalidOrientationError(other)\n",
    "\n",
    "    return rotation.apply(vector)"
   ],
   "id": "5aa9ffae32b11efb",
   "outputs": [],
   "execution_count": 26
  },
  {
   "metadata": {
    "ExecuteTime": {
     "end_time": "2024-12-06T12:41:39.203007Z",
     "start_time": "2024-12-06T12:41:39.192076Z"
    }
   },
   "cell_type": "code",
   "source": [
    "print(\n",
    "    \"Expected coordinates from volume centre: \", expected_coordinates_from_volume_centre\n",
    ")\n",
    "print(\"Actual coordinates from image centre:    \", actual_coordinates_from_image_centre)\n",
    "\n",
    "print(\n",
    "    \"Corrected image coordinates to volume centre: \",\n",
    "    apply_rotation([0, *actual_coordinates_from_image_centre], settings) + [-40, 0, 0],\n",
    ")"
   ],
   "id": "12067596721026fa",
   "outputs": [
    {
     "name": "stdout",
     "output_type": "stream",
     "text": [
      "Expected coordinates from volume centre:  [-40, 25, 25]\n",
      "Actual coordinates from image centre:     [12 38]\n",
      "Corrected image coordinates to volume centre:  [-20.79026997  24.94714926  24.42592917]\n"
     ]
    }
   ],
   "execution_count": 27
  },
  {
   "metadata": {
    "ExecuteTime": {
     "end_time": "2024-12-06T12:41:49.303547Z",
     "start_time": "2024-12-06T12:41:49.292310Z"
    }
   },
   "cell_type": "code",
   "source": "volume.shape",
   "id": "637b5c0645634a15",
   "outputs": [
    {
     "data": {
      "text/plain": [
       "array([132,  80, 114])"
      ]
     },
     "execution_count": 28,
     "metadata": {},
     "output_type": "execute_result"
    }
   ],
   "execution_count": 28
  }
 ],
 "metadata": {
  "kernelspec": {
   "display_name": "Python 3",
   "language": "python",
   "name": "python3"
  },
  "language_info": {
   "codemirror_mode": {
    "name": "ipython",
    "version": 2
   },
   "file_extension": ".py",
   "mimetype": "text/x-python",
   "name": "python",
   "nbconvert_exporter": "python",
   "pygments_lexer": "ipython2",
   "version": "2.7.6"
  }
 },
 "nbformat": 4,
 "nbformat_minor": 5
}
