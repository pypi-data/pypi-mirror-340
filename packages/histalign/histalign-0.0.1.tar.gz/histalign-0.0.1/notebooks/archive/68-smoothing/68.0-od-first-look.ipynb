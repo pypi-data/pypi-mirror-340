{
 "cells": [
  {
   "cell_type": "code",
   "id": "initial_id",
   "metadata": {
    "collapsed": true,
    "ExecuteTime": {
     "end_time": "2025-03-26T11:56:55.125902Z",
     "start_time": "2025-03-26T11:56:55.122613Z"
    }
   },
   "source": [
    "import h5py\n",
    "import vedo\n",
    "import numpy as np\n",
    "import matplotlib.pyplot as plt\n",
    "import scipy.ndimage as ndimage\n",
    "\n",
    "from histalign.backend.ccf.paths import get_structure_mask_path\n",
    "from histalign.backend.io import load_volume\n",
    "from histalign.backend.models import Resolution\n",
    "from histalign.backend.preprocessing import normalise_array\n",
    "from histalign.backend.workspace import Volume\n",
    "\n",
    "vedo.settings.default_backend = \"vtk\""
   ],
   "outputs": [],
   "execution_count": 117
  },
  {
   "metadata": {
    "ExecuteTime": {
     "end_time": "2025-03-26T11:56:55.137163Z",
     "start_time": "2025-03-26T11:56:55.128692Z"
    }
   },
   "cell_type": "code",
   "source": [
    "def show(\n",
    "    meshes: vedo.CommonVisual | list[vedo.CommonVisual], camera: dict | None = None\n",
    ") -> vedo.Plotter | None:\n",
    "    plotter = vedo.Plotter(axes=4)\n",
    "\n",
    "    if not isinstance(meshes, list):\n",
    "        meshes = [meshes]\n",
    "\n",
    "    for mesh in meshes:\n",
    "        plotter += mesh\n",
    "\n",
    "    plotter.show(interactive=False, camera=camera).interactive().close()\n",
    "\n",
    "\n",
    "def imshow(\n",
    "    image: np.ndarray,\n",
    "    title: str = \"\",\n",
    "    figsize: tuple[int, int] | None = None,\n",
    "    save: bool = False,\n",
    ") -> None:\n",
    "    plt.figure(figsize=figsize)\n",
    "    plt.suptitle(title)\n",
    "\n",
    "    plt.axis(False)\n",
    "    plt.imshow(image)\n",
    "\n",
    "    if save:\n",
    "        plt.imsave(f\"{title}.png\", image)\n",
    "    plt.show()"
   ],
   "id": "ce3d5d8afc1ddb76",
   "outputs": [],
   "execution_count": 118
  },
  {
   "metadata": {
    "ExecuteTime": {
     "end_time": "2025-03-26T11:56:55.240736Z",
     "start_time": "2025-03-26T11:56:55.184208Z"
    }
   },
   "cell_type": "code",
   "source": [
    "path = \"/home/ediun/.local/share/histalign/interpolated_volumes/a867dab107ba5d7654de284a729d49fe_multiquadric_27_1_0_0.h5\"\n",
    "volume = h5py.File(path)[\"array\"][:]\n",
    "\n",
    "mask = load_volume(\n",
    "    get_structure_mask_path(\"root\", Resolution.MICRONS_100), return_raw_array=True\n",
    ")\n",
    "\n",
    "# volume = volume[..., : volume.shape[2] // 2]\n",
    "# mask = mask[..., : mask.shape[2] // 2]\n",
    "\n",
    "volume_shape = volume.shape\n",
    "shape = volume.shape[2:] + volume.shape[1:]"
   ],
   "id": "466857914514452c",
   "outputs": [],
   "execution_count": 119
  },
  {
   "metadata": {
    "ExecuteTime": {
     "end_time": "2025-03-26T11:56:55.304131Z",
     "start_time": "2025-03-26T11:56:55.247915Z"
    }
   },
   "cell_type": "code",
   "source": [
    "volume = ndimage.gaussian_filter(\n",
    "    volume,\n",
    "    sigma=5,\n",
    "    radius=20,\n",
    ")\n",
    "\n",
    "volume = normalise_array(volume, dtype=np.uint8)\n",
    "volume = np.digitize(volume, np.linspace(0, 256, 25))\n",
    "\n",
    "volume = np.where(mask, volume, 0)"
   ],
   "id": "aa69af6109285019",
   "outputs": [],
   "execution_count": 120
  },
  {
   "metadata": {
    "ExecuteTime": {
     "end_time": "2025-03-26T13:12:36.865761Z",
     "start_time": "2025-03-26T11:56:55.310777Z"
    }
   },
   "cell_type": "code",
   "source": [
    "camera = {\n",
    "    \"focal_point\": (np.array(shape) - 1) // 2,\n",
    "    \"pos\": ((np.array(shape) - 1) // 2) - [0, 0, 500],\n",
    "    \"viewup\": (0, -1, 0),\n",
    "}\n",
    "\n",
    "volume = vedo.Volume(volume)\n",
    "plotter = vedo.Plotter(axes=4)\n",
    "\n",
    "\n",
    "def slice_volume(widget, event):\n",
    "    global plotter\n",
    "\n",
    "    mesh = vedo.Image(normalise_array(volume.tonumpy()[int(widget.value)], np.uint8))\n",
    "\n",
    "    plotter.clear()\n",
    "    plotter += mesh\n",
    "\n",
    "\n",
    "plotter.add_slider(slice_volume, xmin=0, xmax=volume_shape[0] - 1, value=70)\n",
    "plotter += vedo.Image(normalise_array(volume.tonumpy()[70], np.uint8), channels=1)\n",
    "\n",
    "plotter.show(interactive=False, camera=camera).interactive().close()"
   ],
   "id": "f874a7c7e503fe45",
   "outputs": [
    {
     "name": "stderr",
     "output_type": "stream",
     "text": [
      "/home/ediun/git/histalign/src/histalign/backend/preprocessing/__init__.py:37: RuntimeWarning: invalid value encountered in divide\n",
      "  return (maximum * (array - np.min(array)) / np.ptp(array)).astype(dtype)\n"
     ]
    },
    {
     "data": {
      "text/plain": [
       "<vedo.plotter.Plotter at 0x7f192ed31630>"
      ]
     },
     "execution_count": 121,
     "metadata": {},
     "output_type": "execute_result"
    }
   ],
   "execution_count": 121
  }
 ],
 "metadata": {
  "kernelspec": {
   "display_name": "Python 3",
   "language": "python",
   "name": "python3"
  },
  "language_info": {
   "codemirror_mode": {
    "name": "ipython",
    "version": 2
   },
   "file_extension": ".py",
   "mimetype": "text/x-python",
   "name": "python",
   "nbconvert_exporter": "python",
   "pygments_lexer": "ipython2",
   "version": "2.7.6"
  }
 },
 "nbformat": 4,
 "nbformat_minor": 5
}
