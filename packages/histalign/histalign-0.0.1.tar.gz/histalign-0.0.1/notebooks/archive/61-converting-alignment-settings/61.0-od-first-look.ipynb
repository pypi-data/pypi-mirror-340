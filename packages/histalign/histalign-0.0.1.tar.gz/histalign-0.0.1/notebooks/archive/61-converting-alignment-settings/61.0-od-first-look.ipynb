{
 "cells": [
  {
   "metadata": {
    "ExecuteTime": {
     "end_time": "2025-02-19T16:14:30.958884Z",
     "start_time": "2025-02-19T16:14:29.718663Z"
    }
   },
   "cell_type": "code",
   "source": [
    "import numpy as np\n",
    "\n",
    "from histalign.backend.io import load_alignment_settings\n",
    "from histalign.backend.models import (\n",
    "    AlignmentSettings,\n",
    "    Resolution,\n",
    "    upscale_alignment_settings,\n",
    ")"
   ],
   "id": "3a818fcc6d383537",
   "outputs": [],
   "execution_count": 1
  },
  {
   "metadata": {
    "ExecuteTime": {
     "end_time": "2025-02-19T15:45:23.039402Z",
     "start_time": "2025-02-19T15:45:23.036762Z"
    }
   },
   "cell_type": "code",
   "source": [
    "def pprint(settings: AlignmentSettings) -> None:\n",
    "    print(\n",
    "        f\"\"\"\\\n",
    "Resolution:        {settings.volume_settings.resolution}\n",
    "Volume scaling:    {settings.volume_scaling}\n",
    "Shape:             {settings.volume_settings.shape}\n",
    "Histology scaling: {settings.histology_scaling}\n",
    "Rotation:          {settings.histology_settings.rotation}\n",
    "Translation X:     {settings.histology_settings.translation_x}\n",
    "Translation Y:     {settings.histology_settings.translation_y}\n",
    "Scale X:           {settings.histology_settings.scale_x}\n",
    "Scale Y:           {settings.histology_settings.scale_y}\n",
    "Shear X:           {settings.histology_settings.shear_x}\n",
    "Shear Y:           {settings.histology_settings.shear_y}\\\n",
    "        \"\"\"\n",
    "    )"
   ],
   "id": "2bf610edd680313d",
   "outputs": [],
   "execution_count": 2
  },
  {
   "cell_type": "code",
   "id": "initial_id",
   "metadata": {
    "collapsed": true,
    "ExecuteTime": {
     "end_time": "2025-02-19T15:45:23.103403Z",
     "start_time": "2025-02-19T15:45:23.099777Z"
    }
   },
   "source": [
    "alignment_100_path = \"/home/ediun/git/histalign/projects/conversion100/12c22ee785/c1e4a6b68b289dfce5bbd2d54cf24550.json\"\n",
    "alignment_50_path = \"/home/ediun/git/histalign/projects/conversion50/12c22ee785/c1e4a6b68b289dfce5bbd2d54cf24550.json\"\n",
    "alignment_25_path = \"/home/ediun/git/histalign/projects/conversion25/12c22ee785/c1e4a6b68b289dfce5bbd2d54cf24550.json\"\n",
    "\n",
    "alignment_100_settings = load_alignment_settings(alignment_100_path)\n",
    "alignment_50_settings = load_alignment_settings(alignment_50_path)\n",
    "alignment_25_settings = load_alignment_settings(alignment_25_path)"
   ],
   "outputs": [],
   "execution_count": 3
  },
  {
   "metadata": {
    "ExecuteTime": {
     "end_time": "2025-02-19T15:45:23.156357Z",
     "start_time": "2025-02-19T15:45:23.152515Z"
    }
   },
   "cell_type": "code",
   "source": [
    "pprint(alignment_100_settings)\n",
    "print()\n",
    "print()\n",
    "pprint(\n",
    "    upscale_alignment_settings(\n",
    "        alignment_100_settings, alignment_50_settings.volume_settings.resolution\n",
    "    )\n",
    ")\n",
    "print()\n",
    "pprint(alignment_50_settings)\n",
    "print()\n",
    "print()\n",
    "pprint(\n",
    "    upscale_alignment_settings(\n",
    "        alignment_100_settings, alignment_25_settings.volume_settings.resolution\n",
    "    )\n",
    ")\n",
    "print()\n",
    "pprint(alignment_25_settings)"
   ],
   "id": "931e26f070a80b16",
   "outputs": [
    {
     "name": "stdout",
     "output_type": "stream",
     "text": [
      "Resolution:        100\n",
      "Volume scaling:    8.069565217391304\n",
      "Shape:             (132, 80, 114)\n",
      "Histology scaling: 0.2573365285861007\n",
      "Rotation:          0.0\n",
      "Translation X:     -8\n",
      "Translation Y:     0\n",
      "Scale X:           1.0\n",
      "Scale Y:           1.0\n",
      "Shear X:           0.0\n",
      "Shear Y:           0.0        \n",
      "\n",
      "\n",
      "Resolution:        50\n",
      "Volume scaling:    4.034782608695652\n",
      "Shape:             (264, 160, 228)\n",
      "Histology scaling: 0.2573365285861007\n",
      "Rotation:          0.0\n",
      "Translation X:     -16\n",
      "Translation Y:     0\n",
      "Scale X:           1.0\n",
      "Scale Y:           1.0\n",
      "Shear X:           0.0\n",
      "Shear Y:           0.0        \n",
      "\n",
      "Resolution:        50\n",
      "Volume scaling:    4.0524017467248905\n",
      "Shape:             (264, 160, 228)\n",
      "Histology scaling: 0.25686483512705016\n",
      "Rotation:          0.0\n",
      "Translation X:     -15\n",
      "Translation Y:     0\n",
      "Scale X:           1.0\n",
      "Scale Y:           1.0\n",
      "Shear X:           0.0\n",
      "Shear Y:           0.0        \n",
      "\n",
      "\n",
      "Resolution:        25\n",
      "Volume scaling:    2.017391304347826\n",
      "Shape:             (528, 320, 456)\n",
      "Histology scaling: 0.2573365285861007\n",
      "Rotation:          0.0\n",
      "Translation X:     -32\n",
      "Translation Y:     0\n",
      "Scale X:           1.0\n",
      "Scale Y:           1.0\n",
      "Shear X:           0.0\n",
      "Shear Y:           0.0        \n",
      "\n",
      "Resolution:        25\n",
      "Volume scaling:    2.0306345733041575\n",
      "Shape:             (528, 320, 456)\n",
      "Histology scaling: 0.25662744016954114\n",
      "Rotation:          0.0\n",
      "Translation X:     -30\n",
      "Translation Y:     0\n",
      "Scale X:           1.0\n",
      "Scale Y:           1.0\n",
      "Shear X:           0.0\n",
      "Shear Y:           0.0        \n"
     ]
    }
   ],
   "execution_count": 4
  },
  {
   "metadata": {
    "ExecuteTime": {
     "end_time": "2025-02-19T15:45:23.205465Z",
     "start_time": "2025-02-19T15:45:23.200714Z"
    }
   },
   "cell_type": "code",
   "source": [
    "upscale_alignment_settings(\n",
    "    alignment_100_settings, alignment_25_settings.volume_settings.resolution\n",
    ").volume_path"
   ],
   "id": "c6aa5529d4283752",
   "outputs": [
    {
     "data": {
      "text/plain": [
       "PosixPath('/home/ediun/.local/share/histalign/atlases/average_template_25.nrrd')"
      ]
     },
     "execution_count": 5,
     "metadata": {},
     "output_type": "execute_result"
    }
   ],
   "execution_count": 5
  }
 ],
 "metadata": {
  "kernelspec": {
   "display_name": "Python 3",
   "language": "python",
   "name": "python3"
  },
  "language_info": {
   "codemirror_mode": {
    "name": "ipython",
    "version": 2
   },
   "file_extension": ".py",
   "mimetype": "text/x-python",
   "name": "python",
   "nbconvert_exporter": "python",
   "pygments_lexer": "ipython2",
   "version": "2.7.6"
  }
 },
 "nbformat": 4,
 "nbformat_minor": 5
}
