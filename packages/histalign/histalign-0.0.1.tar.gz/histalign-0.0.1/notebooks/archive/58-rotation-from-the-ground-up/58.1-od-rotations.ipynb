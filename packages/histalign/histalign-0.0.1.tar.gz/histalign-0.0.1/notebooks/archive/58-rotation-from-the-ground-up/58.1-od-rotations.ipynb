{
 "cells": [
  {
   "cell_type": "code",
   "id": "initial_id",
   "metadata": {
    "collapsed": true,
    "ExecuteTime": {
     "end_time": "2025-02-13T10:34:04.558966Z",
     "start_time": "2025-02-13T10:34:00.961209Z"
    }
   },
   "source": [
    "import itertools\n",
    "from typing import Literal\n",
    "\n",
    "import matplotlib.pyplot as plt\n",
    "import nrrd\n",
    "import numpy as np\n",
    "from scipy import ndimage\n",
    "from scipy.spatial.transform import Rotation\n",
    "import vedo\n",
    "\n",
    "from histalign.backend.models import Orientation\n",
    "\n",
    "vedo.settings.default_backend = \"vtk\""
   ],
   "outputs": [],
   "execution_count": 1
  },
  {
   "metadata": {
    "ExecuteTime": {
     "end_time": "2025-02-13T11:16:33.503156Z",
     "start_time": "2025-02-13T11:16:33.486650Z"
    }
   },
   "cell_type": "code",
   "source": [
    "axes = [\n",
    "    vedo.Arrow(end_pt=(1, 0, 0), c=\"red\", s=0.001),\n",
    "    vedo.Arrow(end_pt=(0, 1, 0), c=\"yellow\", s=0.001),\n",
    "    vedo.Arrow(end_pt=(0, 0, 1), c=\"blue\", s=0.001),\n",
    "]\n",
    "\n",
    "\n",
    "def compute_brightest(image: np.ndarray) -> tuple[int, ...]:\n",
    "    maximum = np.max(image)\n",
    "    if maximum == 0:\n",
    "        print(\"WARNING: No maximum found\")\n",
    "    elif np.sum(image == maximum) > 1:\n",
    "        print(\"WARNING: More than one max detected\")\n",
    "\n",
    "    return tuple(map(int, np.unravel_index(np.argmax(image), image.shape)))\n",
    "\n",
    "\n",
    "def compute_camera(\n",
    "    orientation: Orientation, focal_point: np.ndarray, distance: int\n",
    ") -> dict:\n",
    "    match orientation:\n",
    "        case Orientation.CORONAL:\n",
    "            camera = dict(\n",
    "                position=focal_point + np.array([distance, 0, 0]),\n",
    "                focal_point=focal_point,\n",
    "                viewup=(0, -1, 0),\n",
    "            )\n",
    "        case Orientation.HORIZONTAL:\n",
    "            camera = dict(\n",
    "                position=focal_point + np.array([0, -distance, 0]),\n",
    "                focal_point=focal_point,\n",
    "                viewup=(-1, 0, 0),\n",
    "            )\n",
    "        case Orientation.SAGITTAL:\n",
    "            camera = dict(\n",
    "                position=focal_point + np.array([0, 0, -distance]),\n",
    "                focal_point=focal_point,\n",
    "                viewup=(0, -1, 0),\n",
    "            )\n",
    "        case other:\n",
    "            raise Exception(f\"ASSERT NOT REACHED: {other}\")\n",
    "\n",
    "    return camera\n",
    "\n",
    "\n",
    "def compute_origin(\n",
    "    centre: list[int], offset: int, orientation: Orientation.CORONAL\n",
    ") -> list[int]:\n",
    "    match orientation:\n",
    "        case Orientation.CORONAL:\n",
    "            origin = [centre[0] + offset, centre[1], centre[2]]\n",
    "        case Orientation.HORIZONTAL:\n",
    "            origin = [centre[0], centre[1] + offset, centre[2]]\n",
    "        case Orientation.SAGITTAL:\n",
    "            origin = [centre[0], centre[1], centre[2] + offset]\n",
    "        case other:\n",
    "            raise Exception(f\"ASSERT NOT REACHED: {other}\")\n",
    "\n",
    "    return origin\n",
    "\n",
    "\n",
    "def compute_mesh_centre(mesh: vedo.Mesh) -> np.ndarray:\n",
    "    bounds = mesh.metadata[\"original_bounds\"]\n",
    "\n",
    "    return np.array(\n",
    "        [\n",
    "            (bounds[1] + bounds[0]) // 2,\n",
    "            (bounds[3] + bounds[2]) // 2,\n",
    "            (bounds[5] + bounds[4]) // 2,\n",
    "        ]\n",
    "    )\n",
    "\n",
    "\n",
    "def compute_normal(pitch: int, yaw: int, orientation: Orientation) -> np.array:\n",
    "    match orientation:\n",
    "        case Orientation.CORONAL:\n",
    "            normal = [1, 0, 0]\n",
    "            rotation = Rotation.from_euler(\"ZY\", [pitch, yaw], degrees=True)\n",
    "        case Orientation.HORIZONTAL:\n",
    "            normal = [0, 1, 0]\n",
    "            rotation = Rotation.from_euler(\"ZX\", [pitch, yaw], degrees=True)\n",
    "        case Orientation.SAGITTAL:\n",
    "            normal = [0, 0, 1]\n",
    "            rotation = Rotation.from_euler(\"XY\", [pitch, yaw], degrees=True)\n",
    "        case other:\n",
    "            raise Exception(f\"ASSERT NOT REACHED: {other}\")\n",
    "\n",
    "    return rotation.apply(normal).reshape(3)\n",
    "\n",
    "\n",
    "def imshow(\n",
    "    image: np.ndarray,\n",
    "    title: str = \"\",\n",
    "    figsize: tuple[int, int] | None = None,\n",
    "    save: bool = False,\n",
    ") -> None:\n",
    "    plt.figure(figsize=figsize)\n",
    "    plt.suptitle(title)\n",
    "\n",
    "    plt.axis(False)\n",
    "    plt.imshow(image)\n",
    "\n",
    "    if save:\n",
    "        plt.imsave(f\"{title}.png\", image)\n",
    "    plt.show()\n",
    "\n",
    "\n",
    "def slice_volume(\n",
    "    volume: vedo.Volume,\n",
    "    origin: list[int],\n",
    "    normal: np.ndarray,\n",
    "    pitch: int,\n",
    "    orientation: Orientation,\n",
    "    interpolation: Literal[\"nearest\", \"linear\", \"cubic\"] = \"cubic\",\n",
    ") -> np.ndarray:\n",
    "    # Get the vedo plane\n",
    "    plane_mesh = volume.slice_plane(\n",
    "        origin=origin,\n",
    "        normal=normal.tolist(),\n",
    "        autocrop=True,\n",
    "        mode=interpolation,\n",
    "    )\n",
    "\n",
    "    # When working with an offset and pitch/yaw, the way in which\n",
    "    # vedo slices the volumes causes the returned mesh centre to\n",
    "    # be offset from the origin. To correct that, we need to pad\n",
    "    # the image.\n",
    "    mesh_centre = compute_mesh_centre(plane_mesh)\n",
    "\n",
    "    if (padding := mesh_centre[1]) > 0:\n",
    "        i_padding = (int(round(2 * padding)), 0)\n",
    "    else:\n",
    "        i_padding = (0, int(round(2 * -padding)))\n",
    "\n",
    "    if (padding := mesh_centre[0]) > 0:\n",
    "        j_padding = (int(round(2 * padding)), 0)\n",
    "    else:\n",
    "        j_padding = (0, int(round(2 * -padding)))\n",
    "\n",
    "    # Convert the plane to an array\n",
    "    plane_array = plane_mesh.pointdata[\"ImageScalars\"].reshape(\n",
    "        plane_mesh.metadata[\"shape\"]\n",
    "    )\n",
    "    plane_array = np.pad(plane_array, (i_padding, j_padding))\n",
    "\n",
    "    # Correct vedo-specific rotations and apply somee custom rotations for presenting\n",
    "    if orientation == Orientation.CORONAL:\n",
    "        # Correct the vedo rotation so that superior is at the top and anterior is at\n",
    "        # the bottom.\n",
    "        plane_array = ndimage.rotate(plane_array, pitch, reshape=True)\n",
    "        # Flip left-right so that the left hemisphere is on the left\n",
    "        plane_array = np.fliplr(plane_array)\n",
    "    elif orientation == Orientation.HORIZONTAL:\n",
    "        # Correct the vedo rotation and apply own so that anterior is at the top and\n",
    "        # posterior is at the bottom.\n",
    "        plane_array = ndimage.rotate(plane_array, pitch - 90, reshape=True)\n",
    "\n",
    "    return plane_array"
   ],
   "id": "ab440958076dfc47",
   "outputs": [],
   "execution_count": 60
  },
  {
   "metadata": {
    "ExecuteTime": {
     "end_time": "2025-02-13T10:34:07.672443Z",
     "start_time": "2025-02-13T10:34:04.964264Z"
    }
   },
   "cell_type": "code",
   "source": [
    "orientation = Orientation.HORIZONTAL\n",
    "\n",
    "plotter = vedo.Plotter(axes=4)\n",
    "\n",
    "normal = compute_normal(0, 0, orientation)\n",
    "\n",
    "pitch = 0\n",
    "yaw = 0\n",
    "rotated_normal = compute_normal(pitch, yaw, orientation)\n",
    "# pitch = 35\n",
    "# yaw = 0\n",
    "# rotated_normal = compute_normal(pitch, yaw, orientation)\n",
    "# pitch = 0\n",
    "# yaw = 35\n",
    "# rotated_normal = compute_normal(pitch, yaw, orientation)\n",
    "# pitch = 35\n",
    "# yaw = 35\n",
    "# rotated_normal = compute_normal(pitch, yaw, orientation)\n",
    "\n",
    "plotter += vedo.Arrow((0, 0, 0), normal, c=\"red\")\n",
    "plotter += vedo.Arrow((0, 0, 0), rotated_normal, c=\"blue\")\n",
    "plotter += vedo.Plane((0, 0, 0), normal=rotated_normal)\n",
    "\n",
    "plotter.show(\n",
    "    camera=compute_camera(orientation, (0, 0, 0), 10), interactive=False\n",
    ").interactive().close()"
   ],
   "id": "f6f342f7b0cb4826",
   "outputs": [
    {
     "data": {
      "text/plain": [
       "<vedo.plotter.Plotter at 0x7f5112c235e0>"
      ]
     },
     "execution_count": 3,
     "metadata": {},
     "output_type": "execute_result"
    }
   ],
   "execution_count": 3
  },
  {
   "metadata": {
    "ExecuteTime": {
     "end_time": "2025-02-13T10:34:07.783205Z",
     "start_time": "2025-02-13T10:34:07.688877Z"
    }
   },
   "cell_type": "code",
   "source": [
    "array = np.zeros((132, 80, 114), np.uint8)\n",
    "array[40, :, 50] = 255\n",
    "# array[array.shape[0] // 2, array.shape[1] // 2, array.shape[2] // 2] = 255\n",
    "volume = vedo.Volume(array)\n",
    "\n",
    "orientation = Orientation.HORIZONTAL\n",
    "\n",
    "pitch = 20\n",
    "yaw = 80\n",
    "offset = 0\n",
    "\n",
    "normal = compute_normal(pitch, yaw, orientation)\n",
    "\n",
    "centre = np.floor(np.array(array.shape) // 2)\n",
    "origin = compute_origin(centre, offset, orientation)\n",
    "\n",
    "image = slice_volume(volume, origin, normal, pitch, orientation)\n",
    "imshow(image, save=True, title=\"rotation\")"
   ],
   "id": "f7885911d67ac79a",
   "outputs": [
    {
     "data": {
      "text/plain": [
       "<Figure size 640x480 with 1 Axes>"
      ],
      "image/png": "[encoded data removed]"
     },
     "metadata": {},
     "output_type": "display_data"
    }
   ],
   "execution_count": 4
  },
  {
   "metadata": {
    "ExecuteTime": {
     "end_time": "2025-02-13T10:34:07.805074Z",
     "start_time": "2025-02-13T10:34:07.799856Z"
    }
   },
   "cell_type": "code",
   "source": [
    "# Assume image centre is the same as the plane origin (mostly is)\n",
    "image_centre_position = np.array(image.shape) // 2\n",
    "\n",
    "# Get pixel position\n",
    "# image_position = (62, 55)  # WxH\n",
    "# image_position = image_position[::-1]  # IxJ\n",
    "image_position = compute_brightest(image)\n",
    "\n",
    "# Relative pixel position from image centre\n",
    "relative_image_position = [\n",
    "    image_position[0] - image_centre_position[0],\n",
    "    image_position[1] - image_centre_position[1],\n",
    "]\n",
    "# Convert to non-rotated coordinates from centre\n",
    "image_coordinates = [\n",
    "    relative_image_position[0],\n",
    "    0,\n",
    "    relative_image_position[1],\n",
    "]\n",
    "\n",
    "# Apply rotation\n",
    "rotation = Rotation.from_euler(\"ZX\", [pitch, yaw], degrees=True)\n",
    "rotated_coordinates = rotation.apply(image_coordinates)\n",
    "\n",
    "# Add origin\n",
    "volume_coordinates = origin + rotated_coordinates\n",
    "print(volume_coordinates)\n",
    "\n",
    "# Error\n",
    "volume_coordinates = np.floor(volume_coordinates)\n",
    "error = np.sqrt((volume_coordinates[0] - 40) ** 2 + (volume_coordinates[2] - 50) ** 2)\n",
    "error"
   ],
   "id": "5fd7c39560208f20",
   "outputs": [
    {
     "name": "stdout",
     "output_type": "stream",
     "text": [
      "WARNING: More than one max detected\n",
      "[40.31103238 72.57040127 50.05407289]\n"
     ]
    },
    {
     "data": {
      "text/plain": [
       "0.0"
      ]
     },
     "execution_count": 5,
     "metadata": {},
     "output_type": "execute_result"
    }
   ],
   "execution_count": 5
  },
  {
   "metadata": {
    "ExecuteTime": {
     "end_time": "2025-02-13T10:34:09.406789Z",
     "start_time": "2025-02-13T10:34:07.853383Z"
    }
   },
   "cell_type": "code",
   "source": [
    "plotter = vedo.Plotter(axes=4)\n",
    "\n",
    "plotter += vedo.Line((40, 0, 50), (40, 80, 50), c=\"purple\")\n",
    "\n",
    "plotter += vedo.Arrow(origin, np.array(origin) + rotated_coordinates, c=\"blue\", s=0.2)\n",
    "\n",
    "plotter += vedo.Plane(origin, normal, s=(131, 137))\n",
    "\n",
    "plotter.show(\n",
    "    camera=compute_camera(orientation, origin, 200), interactive=False\n",
    ").interactive().close()"
   ],
   "id": "fbae19a5231ccdfe",
   "outputs": [
    {
     "data": {
      "text/plain": [
       "<vedo.plotter.Plotter at 0x7f51f5365d20>"
      ]
     },
     "execution_count": 6,
     "metadata": {},
     "output_type": "execute_result"
    }
   ],
   "execution_count": 6
  },
  {
   "metadata": {},
   "cell_type": "markdown",
   "source": "### Compute error for various pitch and yaw",
   "id": "ea81149248f5f779"
  },
  {
   "metadata": {},
   "cell_type": "code",
   "source": [
    "array = np.zeros((132, 80, 114), np.uint8)\n",
    "array[40, :, 50] = 255\n",
    "volume = vedo.Volume(array)\n",
    "\n",
    "orientation = Orientation.HORIZONTAL\n",
    "\n",
    "\n",
    "for pitch, yaw in itertools.product(range(0, 90, 5), range(0, 90, 5)):\n",
    "    offset = 0\n",
    "\n",
    "    normal = compute_normal(pitch, yaw, orientation)\n",
    "\n",
    "    centre = np.floor(np.array(array.shape) // 2)\n",
    "    origin = compute_origin(centre, offset, orientation)\n",
    "\n",
    "    image = slice_volume(volume, origin, normal, pitch, orientation)\n",
    "\n",
    "    # Assume image centre is the same as the plane origin (mostly is)\n",
    "    image_centre_position = np.array(image.shape) // 2\n",
    "\n",
    "    # Get pixel position\n",
    "    # image_position = (62, 55)  # WxH\n",
    "    # image_position = image_position[::-1]  # IxJ\n",
    "    image_position = compute_brightest(image)\n",
    "    if image_position == (0, 0):\n",
    "        continue\n",
    "\n",
    "    # Relative pixel position from image centre\n",
    "    relative_image_position = [\n",
    "        image_position[0] - image_centre_position[0],\n",
    "        image_position[1] - image_centre_position[1],\n",
    "    ]\n",
    "    # Convert to non-rotated coordinates from centre\n",
    "    image_coordinates = [\n",
    "        relative_image_position[0],\n",
    "        0,\n",
    "        relative_image_position[1],\n",
    "    ]\n",
    "\n",
    "    # Apply rotation\n",
    "    rotation = Rotation.from_euler(\"ZX\", [pitch, yaw], degrees=True)\n",
    "    rotated_coordinates = rotation.apply(image_coordinates)\n",
    "\n",
    "    # Add origin\n",
    "    volume_coordinates = origin + rotated_coordinates\n",
    "\n",
    "    # Error\n",
    "    volume_coordinates = np.floor(volume_coordinates)\n",
    "    error = np.sqrt(\n",
    "        (volume_coordinates[0] - 40) ** 2 + (volume_coordinates[2] - 50) ** 2\n",
    "    )\n",
    "\n",
    "    if error > 5:\n",
    "        print(\n",
    "            f\"Pitch: {pitch}  -  Yaw: {yaw}  -  Coordinates: {volume_coordinates}  -  Error: {error}\"\n",
    "        )"
   ],
   "id": "81cb382c57744dd",
   "outputs": [],
   "execution_count": null
  },
  {
   "metadata": {
    "ExecuteTime": {
     "end_time": "2025-02-13T10:55:18.978986Z",
     "start_time": "2025-02-13T10:55:07.344112Z"
    }
   },
   "cell_type": "code",
   "source": [
    "array = np.zeros((132, 80, 114), np.uint8)\n",
    "array[40, :, 50] = 255\n",
    "volume = vedo.Volume(array)\n",
    "\n",
    "orientation = Orientation.HORIZONTAL\n",
    "\n",
    "pitch = 0\n",
    "yaw = 45\n",
    "offset = 50\n",
    "\n",
    "normal = compute_normal(pitch, yaw, orientation)\n",
    "\n",
    "centre = np.floor(np.array(array.shape) // 2)\n",
    "origin = compute_origin(centre, offset, orientation)\n",
    "print(origin)\n",
    "\n",
    "image = slice_volume(volume, origin, normal, pitch, orientation)\n",
    "# imshow(image)\n",
    "\n",
    "# Assume image centre is the same as the plane origin (mostly is)\n",
    "image_centre_position = np.array(image.shape) // 2\n",
    "\n",
    "# Get pixel position\n",
    "image_position = compute_brightest(image)\n",
    "print(image_position)\n",
    "\n",
    "# Relative pixel position from image centre\n",
    "relative_image_position = [\n",
    "    image_position[0] - image_centre_position[0],\n",
    "    image_position[1] - image_centre_position[1],\n",
    "]\n",
    "# Convert to non-rotated coordinates from centre\n",
    "image_coordinates = [\n",
    "    relative_image_position[0],\n",
    "    0,\n",
    "    relative_image_position[1],\n",
    "]\n",
    "\n",
    "# Apply rotation\n",
    "rotation = Rotation.from_euler(\"ZX\", [pitch, yaw], degrees=True)\n",
    "rotated_coordinates = rotation.apply(image_coordinates)\n",
    "\n",
    "# # Apply offset\n",
    "# rotated_coordinates[1] += offset\n",
    "\n",
    "# Add origin\n",
    "volume_coordinates = origin + rotated_coordinates\n",
    "\n",
    "# Error\n",
    "volume_coordinates = np.floor(volume_coordinates)\n",
    "error = np.sqrt((volume_coordinates[0] - 40) ** 2 + (volume_coordinates[2] - 50) ** 2)\n",
    "\n",
    "print(\n",
    "    f\"Pitch: {pitch}  -  Yaw: {yaw}  -  Coordinates: {volume_coordinates}  -  Error: {error}\"\n",
    ")\n",
    "\n",
    "plotter = vedo.Plotter(axes=4)\n",
    "\n",
    "plotter += vedo.Line((40, 0, 50), (40, 80, 50), c=\"purple\")\n",
    "\n",
    "plotter += vedo.Arrow(origin, origin + rotated_coordinates, c=\"red\", s=0.2)\n",
    "plotter += vedo.Arrow((0, 0, 0), np.array(volume_coordinates), c=\"blue\", s=0.2)\n",
    "\n",
    "plotter += vedo.Plane(origin, compute_normal(pitch, yaw, orientation), s=(131, 137))\n",
    "\n",
    "plotter.show(\n",
    "    camera=compute_camera(orientation, origin, 200), interactive=False\n",
    ").interactive().close()"
   ],
   "id": "a14d44e17b62a966",
   "outputs": [
    {
     "name": "stdout",
     "output_type": "stream",
     "text": [
      "[66.0, 90.0, 57.0]\n",
      "WARNING: No maximum found\n",
      "(0, 0)\n",
      "Pitch: 0  -  Yaw: 45  -  Coordinates: [  0. 123.  23.]  -  Error: 48.25971404805462\n"
     ]
    },
    {
     "data": {
      "text/plain": [
       "<vedo.plotter.Plotter at 0x7f5112bb95d0>"
      ]
     },
     "execution_count": 30,
     "metadata": {},
     "output_type": "execute_result"
    }
   ],
   "execution_count": 30
  },
  {
   "metadata": {
    "ExecuteTime": {
     "end_time": "2025-02-13T11:17:24.936382Z",
     "start_time": "2025-02-13T11:17:15.876024Z"
    }
   },
   "cell_type": "code",
   "source": [
    "array = np.zeros((132, 80, 114), np.uint8)\n",
    "array[40, :, 50] = 255\n",
    "volume = vedo.Volume(array)\n",
    "\n",
    "plotter = vedo.Plotter(axes=4)\n",
    "\n",
    "orientation = Orientation.HORIZONTAL\n",
    "\n",
    "pitch = 20\n",
    "yaw = 40\n",
    "for offset in [0, 30]:\n",
    "    normal = compute_normal(pitch, yaw, orientation)\n",
    "\n",
    "    centre = np.floor(np.array(array.shape) // 2)\n",
    "    origin = compute_origin(centre, offset, orientation)\n",
    "    print(f\"{origin=}\")\n",
    "\n",
    "    image = slice_volume(volume, origin, normal, pitch, orientation)\n",
    "\n",
    "    # Assume image centre is the same as the plane origin (mostly is)\n",
    "    image_centre_position = np.array(image.shape) // 2\n",
    "\n",
    "    # Get pixel position\n",
    "    image_position = compute_brightest(image)\n",
    "    print(f\"{image_position=}\")\n",
    "\n",
    "    # Relative pixel position from image centre\n",
    "    relative_image_position = [\n",
    "        image_position[0] - image_centre_position[0],\n",
    "        image_position[1] - image_centre_position[1],\n",
    "    ]\n",
    "    print(f\"{relative_image_position=}\")\n",
    "    # Convert to non-rotated coordinates from centre\n",
    "    image_coordinates = [\n",
    "        relative_image_position[0],\n",
    "        0,\n",
    "        relative_image_position[1],\n",
    "    ]\n",
    "\n",
    "    # Apply rotation\n",
    "    rotation = Rotation.from_euler(\"ZX\", [pitch, yaw], degrees=True)\n",
    "    rotated_coordinates = rotation.apply(image_coordinates)\n",
    "\n",
    "    # Apply offset\n",
    "    # rotated_coordinates[1] += offset\n",
    "\n",
    "    # Add origin\n",
    "    volume_coordinates = origin + rotated_coordinates\n",
    "\n",
    "    # Error\n",
    "    volume_coordinates = np.floor(volume_coordinates)\n",
    "    error = np.sqrt(\n",
    "        (volume_coordinates[0] - 40) ** 2 + (volume_coordinates[2] - 50) ** 2\n",
    "    )\n",
    "\n",
    "    print(\n",
    "        f\"Pitch: {pitch}  -  Yaw: {yaw}  -  Coordinates: {volume_coordinates}  -  Error: {error}\"\n",
    "    )\n",
    "\n",
    "    plotter += vedo.Arrow(origin, origin + rotated_coordinates, c=\"red\", s=0.2)\n",
    "    plotter += vedo.Arrow((0, 0, 0), np.array(volume_coordinates), c=\"blue\", s=0.2)\n",
    "    plotter += vedo.Arrow(origin, np.array(origin) + image_coordinates, c=\"cyan\", s=0.2)\n",
    "    plotter += vedo.Point(origin, c=\"yellow\", r=10)\n",
    "\n",
    "    plotter += vedo.Plane(origin, compute_normal(pitch, yaw, orientation), s=(131, 137))\n",
    "\n",
    "    imshow(image, title=f\"{offset}\", save=True)\n",
    "\n",
    "plotter += vedo.Line((40, 0, 50), (40, 80, 50), c=\"purple\")\n",
    "\n",
    "plotter.show(\n",
    "    camera=compute_camera(orientation, origin, 200), interactive=False\n",
    ").interactive().close()"
   ],
   "id": "1f5581eb17155605",
   "outputs": [
    {
     "name": "stdout",
     "output_type": "stream",
     "text": [
      "origin=[66.0, 40.0, 57.0]\n",
      "image_position=(52, 61)\n",
      "relative_image_position=[-27, -8]\n",
      "Pitch: 20  -  Yaw: 40  -  Coordinates: [38. 35. 50.]  -  Error: 2.0\n"
     ]
    },
    {
     "data": {
      "text/plain": [
       "<Figure size 640x480 with 1 Axes>"
      ],
      "image/png": "[encoded data removed]"
     },
     "metadata": {},
     "output_type": "display_data"
    },
    {
     "name": "stdout",
     "output_type": "stream",
     "text": [
      "origin=[66.0, 70.0, 57.0]\n",
      "image_position=(63, 80)\n",
      "relative_image_position=[-26, -9]\n",
      "Pitch: 20  -  Yaw: 40  -  Coordinates: [39. 66. 50.]  -  Error: 1.0\n"
     ]
    },
    {
     "data": {
      "text/plain": [
       "<Figure size 640x480 with 1 Axes>"
      ],
      "image/png": "[encoded data removed]"
     },
     "metadata": {},
     "output_type": "display_data"
    },
    {
     "data": {
      "text/plain": [
       "<vedo.plotter.Plotter at 0x7f50ac1a5f90>"
      ]
     },
     "execution_count": 63,
     "metadata": {},
     "output_type": "execute_result"
    }
   ],
   "execution_count": 63
  }
 ],
 "metadata": {
  "kernelspec": {
   "display_name": "Python 3",
   "language": "python",
   "name": "python3"
  },
  "language_info": {
   "codemirror_mode": {
    "name": "ipython",
    "version": 2
   },
   "file_extension": ".py",
   "mimetype": "text/x-python",
   "name": "python",
   "nbconvert_exporter": "python",
   "pygments_lexer": "ipython2",
   "version": "2.7.6"
  }
 },
 "nbformat": 4,
 "nbformat_minor": 5
}
