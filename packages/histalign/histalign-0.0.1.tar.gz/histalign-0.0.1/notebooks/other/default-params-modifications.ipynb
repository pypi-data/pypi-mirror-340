{
 "cells": [
  {
   "cell_type": "code",
   "id": "initial_id",
   "metadata": {
    "collapsed": true,
    "ExecuteTime": {
     "end_time": "2024-11-13T10:04:42.805155Z",
     "start_time": "2024-11-13T10:04:42.802326Z"
    }
   },
   "source": [
    "def my_function(arg1: int, arg2: int = 10, *, kwarg1: int, kwarg2: int = 20) -> None:\n",
    "    print(f\"{arg1=}\")\n",
    "    print(f\"{arg2=}\")\n",
    "    print(f\"{kwarg1=}\")\n",
    "    print(f\"{kwarg2=}\")\n",
    "\n",
    "\n",
    "my_function(5, kwarg1=15)\n",
    "print()\n",
    "\n",
    "defaults_copy = list(my_function.__defaults__)\n",
    "defaults_copy[-1] = 20\n",
    "my_function.__defaults__ = tuple(defaults_copy)\n",
    "\n",
    "my_function(5, kwarg1=15)"
   ],
   "outputs": [
    {
     "name": "stdout",
     "output_type": "stream",
     "text": [
      "arg1=5\n",
      "arg2=10\n",
      "kwarg1=15\n",
      "kwarg2=20\n",
      "\n",
      "arg1=5\n",
      "arg2=20\n",
      "kwarg1=15\n",
      "kwarg2=20\n"
     ]
    }
   ],
   "execution_count": 17
  },
  {
   "metadata": {
    "ExecuteTime": {
     "end_time": "2024-11-13T10:05:02.664254Z",
     "start_time": "2024-11-13T10:05:02.660650Z"
    }
   },
   "cell_type": "code",
   "source": "dir(my_function)",
   "id": "3c11250c1c06a10",
   "outputs": [
    {
     "data": {
      "text/plain": [
       "['__annotations__',\n",
       " '__builtins__',\n",
       " '__call__',\n",
       " '__class__',\n",
       " '__closure__',\n",
       " '__code__',\n",
       " '__defaults__',\n",
       " '__delattr__',\n",
       " '__dict__',\n",
       " '__dir__',\n",
       " '__doc__',\n",
       " '__eq__',\n",
       " '__format__',\n",
       " '__ge__',\n",
       " '__get__',\n",
       " '__getattribute__',\n",
       " '__globals__',\n",
       " '__gt__',\n",
       " '__hash__',\n",
       " '__init__',\n",
       " '__init_subclass__',\n",
       " '__kwdefaults__',\n",
       " '__le__',\n",
       " '__lt__',\n",
       " '__module__',\n",
       " '__name__',\n",
       " '__ne__',\n",
       " '__new__',\n",
       " '__qualname__',\n",
       " '__reduce__',\n",
       " '__reduce_ex__',\n",
       " '__repr__',\n",
       " '__setattr__',\n",
       " '__sizeof__',\n",
       " '__str__',\n",
       " '__subclasshook__']"
      ]
     },
     "execution_count": 18,
     "metadata": {},
     "output_type": "execute_result"
    }
   ],
   "execution_count": 18
  },
  {
   "metadata": {
    "ExecuteTime": {
     "end_time": "2024-11-13T10:08:16.607646Z",
     "start_time": "2024-11-13T10:08:16.149993Z"
    }
   },
   "cell_type": "code",
   "source": "from scipy.spatial import KDTree",
   "id": "f6c7aec19b8f5f06",
   "outputs": [],
   "execution_count": 24
  },
  {
   "metadata": {
    "ExecuteTime": {
     "end_time": "2024-11-13T10:09:29.112913Z",
     "start_time": "2024-11-13T10:09:29.109763Z"
    }
   },
   "cell_type": "code",
   "source": "KDTree.query.__defaults__",
   "id": "d4853a5ffe568c4c",
   "outputs": [
    {
     "data": {
      "text/plain": [
       "(1, 0, 2, inf, 1)"
      ]
     },
     "execution_count": 27,
     "metadata": {},
     "output_type": "execute_result"
    }
   ],
   "execution_count": 27
  }
 ],
 "metadata": {
  "kernelspec": {
   "display_name": "Python 3",
   "language": "python",
   "name": "python3"
  },
  "language_info": {
   "codemirror_mode": {
    "name": "ipython",
    "version": 2
   },
   "file_extension": ".py",
   "mimetype": "text/x-python",
   "name": "python",
   "nbconvert_exporter": "python",
   "pygments_lexer": "ipython2",
   "version": "2.7.6"
  }
 },
 "nbformat": 4,
 "nbformat_minor": 5
}
