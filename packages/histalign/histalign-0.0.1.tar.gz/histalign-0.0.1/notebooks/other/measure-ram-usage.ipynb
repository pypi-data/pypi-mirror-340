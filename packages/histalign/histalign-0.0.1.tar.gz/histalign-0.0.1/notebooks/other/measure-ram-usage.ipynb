{
 "cells": [
  {
   "cell_type": "code",
   "id": "initial_id",
   "metadata": {
    "collapsed": true,
    "ExecuteTime": {
     "end_time": "2024-11-13T15:36:21.029212Z",
     "start_time": "2024-11-13T15:36:20.993296Z"
    }
   },
   "source": [
    "from datetime import datetime\n",
    "import os\n",
    "import random\n",
    "import time\n",
    "from typing import Literal, Optional\n",
    "\n",
    "from PySide6 import QtCore, QtWidgets\n",
    "import psutil"
   ],
   "outputs": [],
   "execution_count": 1
  },
  {
   "metadata": {
    "ExecuteTime": {
     "end_time": "2024-11-13T15:36:21.048281Z",
     "start_time": "2024-11-13T15:36:21.044395Z"
    }
   },
   "cell_type": "code",
   "source": [
    "def print_size_from_bytes(\n",
    "    nbytes: int,\n",
    "    system: Literal[\"decimal\", \"binary\"] = \"binary\",\n",
    ") -> None:\n",
    "    if system not in [\"decimal\", \"binary\"]:\n",
    "        raise ValueError(\"System should be one of decimal or binary\")\n",
    "\n",
    "    base = 1000 if system == \"decimal\" else 1024\n",
    "\n",
    "    K = base\n",
    "    M = K * base\n",
    "    G = M * base\n",
    "\n",
    "    calculation_nbytes = nbytes\n",
    "    ngibibytes, calculation_nbytes = divmod(calculation_nbytes, G)\n",
    "    nmebibytes, calculation_nbytes = divmod(calculation_nbytes, M)\n",
    "    nkibibytes, calculation_nbytes = divmod(calculation_nbytes, K)\n",
    "\n",
    "    print(\n",
    "        f\"{nbytes:,}B corresponds to \"\n",
    "        f\"{ngibibytes}G{'i' if system == 'binary' else ''}B \"\n",
    "        f\"{nmebibytes}M{'i' if system == 'binary' else ''}B \"\n",
    "        f\"{nkibibytes}K{'i' if system == 'binary' else ''}B \"\n",
    "        f\"{calculation_nbytes}B\"\n",
    "    )\n",
    "\n",
    "\n",
    "def collect_usage() -> None:\n",
    "    a = [random.randint(0, 100)] * random.randint(1, 10_000_000)\n",
    "    print(f\"{len(a)=}\")\n",
    "    usage = psutil.Process(os.getpid()).memory_info().rss\n",
    "    b = a[0]\n",
    "    print_size_from_bytes(usage)\n",
    "\n",
    "\n",
    "def analyse_memory_usage() -> None:\n",
    "    a = [random.randint(0, 100)] * random.randint(1, 10_000_000)\n",
    "    usage = psutil.Process(os.getpid()).memory_info().rss\n",
    "    if usage > 150_000_000:\n",
    "        print(\"PANIC\")\n",
    "\n",
    "\n",
    "def stop_thread(thread: QtCore.QThread) -> None:\n",
    "    thread.should_stop = True"
   ],
   "id": "ce91dd5b47543ef4",
   "outputs": [],
   "execution_count": 2
  },
  {
   "metadata": {
    "ExecuteTime": {
     "end_time": "2024-11-13T15:36:25.868428Z",
     "start_time": "2024-11-13T15:36:21.113872Z"
    }
   },
   "cell_type": "code",
   "source": [
    "app = QtCore.QCoreApplication()\n",
    "\n",
    "timer = QtCore.QTimer(app)\n",
    "timer.timeout.connect(analyse_memory_usage)\n",
    "timer.start(1000)\n",
    "\n",
    "stop_timer = QtCore.QTimer(app)\n",
    "stop_timer.timeout.connect(app.quit)\n",
    "stop_timer.start(5000)\n",
    "\n",
    "app.exec()\n",
    "\n",
    "app.shutdown()"
   ],
   "id": "ed0bd46f3071afe1",
   "outputs": [
    {
     "name": "stderr",
     "output_type": "stream",
     "text": [
      "Detected locale \"C\" with character encoding \"ANSI_X3.4-1968\", which is not UTF-8.\n",
      "Qt depends on a UTF-8 locale, and has switched to \"C.UTF-8\" instead.\n",
      "If this causes problems, reconfigure your locale. See the locale(1) manual\n",
      "for more information.\n"
     ]
    },
    {
     "name": "stdout",
     "output_type": "stream",
     "text": [
      "PANIC\n",
      "PANIC\n",
      "PANIC\n"
     ]
    }
   ],
   "execution_count": 3
  }
 ],
 "metadata": {
  "kernelspec": {
   "display_name": "Python 3",
   "language": "python",
   "name": "python3"
  },
  "language_info": {
   "codemirror_mode": {
    "name": "ipython",
    "version": 2
   },
   "file_extension": ".py",
   "mimetype": "text/x-python",
   "name": "python",
   "nbconvert_exporter": "python",
   "pygments_lexer": "ipython2",
   "version": "2.7.6"
  }
 },
 "nbformat": 4,
 "nbformat_minor": 5
}
