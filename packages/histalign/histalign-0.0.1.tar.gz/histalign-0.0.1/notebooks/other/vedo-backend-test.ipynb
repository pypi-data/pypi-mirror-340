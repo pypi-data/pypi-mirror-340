{
 "cells": [
  {
   "cell_type": "code",
   "id": "initial_id",
   "metadata": {
    "collapsed": true,
    "ExecuteTime": {
     "end_time": "2025-01-16T10:07:48.216506Z",
     "start_time": "2025-01-16T10:07:45.414459Z"
    }
   },
   "source": [
    "import numpy as np\n",
    "from vedo import Volume, show, settings\n",
    "\n",
    "settings.default_backend = \"vtk\"\n",
    "\n",
    "data_matrix = np.zeros([70, 80, 90], dtype=np.uint8)\n",
    "data_matrix[0:30, 0:30, 0:30] = 1\n",
    "data_matrix[30:50, 30:60, 30:70] = 1\n",
    "data_matrix[50:70, 60:80, 70:90] = 1\n",
    "\n",
    "volume = Volume(data_matrix)\n",
    "volume.cmap([\"white\", \"b\", \"g\", \"r\"]).mode(1)\n",
    "volume.add_scalarbar()\n",
    "\n",
    "show(volume, __doc__, axes=1)"
   ],
   "outputs": [
    {
     "data": {
      "text/plain": [
       "<vedo.plotter.Plotter at 0x7f14c8333f10>"
      ]
     },
     "execution_count": 2,
     "metadata": {},
     "output_type": "execute_result"
    }
   ],
   "execution_count": 2
  }
 ],
 "metadata": {
  "kernelspec": {
   "display_name": "Python 3",
   "language": "python",
   "name": "python3"
  },
  "language_info": {
   "codemirror_mode": {
    "name": "ipython",
    "version": 2
   },
   "file_extension": ".py",
   "mimetype": "text/x-python",
   "name": "python",
   "nbconvert_exporter": "python",
   "pygments_lexer": "ipython2",
   "version": "2.7.6"
  }
 },
 "nbformat": 4,
 "nbformat_minor": 5
}
