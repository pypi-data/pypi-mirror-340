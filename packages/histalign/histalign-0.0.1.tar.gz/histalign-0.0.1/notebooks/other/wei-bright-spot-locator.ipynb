{
 "cells": [
  {
   "metadata": {},
   "cell_type": "markdown",
   "source": "# Rough Bright Spot Locator",
   "id": "23ac0ec83a9e5dca"
  },
  {
   "metadata": {},
   "cell_type": "markdown",
   "source": [
    "In order to run this script, you will need to use the `histalign` environment located in your home directory (i.e., `miniconda3/envs/histalign`). To activate it, use `conda activate histalign` from the command line. Then navigate to the histalign programme directory on the Z drive. There, type `pip install -e .` (the dot is important).  \n",
    "Then, type `pip install jupyter` to install the Jupyter set of tools to the environment (much simpler than trying to tie this environment back to JupyterLab).  \n",
    "Then, make sure you've got all the packages listed in the first cell too. The first paragraph is built-ins so you will have them. The second paragraph is what you will need to install, the third was covered by `pip install -e .`.    \n",
    "Finally, you should be able to use the environment to run the notebook. Don't forget to give the path to the alignment file, which should be absolute to avoid problems. "
   ],
   "id": "a1965cec93e96d95"
  },
  {
   "metadata": {},
   "cell_type": "code",
   "source": [
    "import json\n",
    "from pathlib import Path\n",
    "\n",
    "import matplotlib.pyplot as plt\n",
    "import numpy as np\n",
    "from skimage.feature import peak_local_max\n",
    "\n",
    "from histalign.backend.io import load_image\n",
    "from histalign.backend.models import AlignmentSettings\n",
    "from histalign.backend.registration import Registrator"
   ],
   "id": "3f2e5ae11eb0cec8",
   "outputs": [],
   "execution_count": null
  },
  {
   "metadata": {},
   "cell_type": "markdown",
   "source": "## Load the alignment",
   "id": "96ce4febab007bf"
  },
  {
   "metadata": {},
   "cell_type": "code",
   "source": [
    "alignment_path = Path(\n",
    "    \"\",  # the path to the alignment file (i.e., bunch of numbers and letters ending with .json)\n",
    ")\n",
    "with open(alignment_path) as handle:\n",
    "    alignment_settings = AlignmentSettings(**json.load(handle))"
   ],
   "id": "d0e9ad2509262435",
   "outputs": [],
   "execution_count": null
  },
  {
   "metadata": {},
   "cell_type": "markdown",
   "source": [
    "## Load the image\n",
    "\n",
    "Note that this is automatically determined from the alignment file, no need to enter it manually."
   ],
   "id": "8664330e1b99d54a"
  },
  {
   "metadata": {},
   "cell_type": "code",
   "source": "image = load_image(alignment_settings.histology_path)",
   "id": "923b66bb80a5c57b",
   "outputs": [],
   "execution_count": null
  },
  {
   "metadata": {},
   "cell_type": "code",
   "source": "plt.imshow(image);",
   "id": "bbb0ece321480f64",
   "outputs": [],
   "execution_count": null
  },
  {
   "metadata": {},
   "cell_type": "markdown",
   "source": "## Generate the forward-registered image",
   "id": "e8098e6683c4dc6b"
  },
  {
   "metadata": {},
   "cell_type": "code",
   "source": [
    "registered_image = Registrator(True, True).get_forwarded_image(\n",
    "    image, alignment_settings\n",
    ")"
   ],
   "id": "88e79c0e104a564a",
   "outputs": [],
   "execution_count": null
  },
  {
   "metadata": {},
   "cell_type": "code",
   "source": "plt.imshow(registered_image);",
   "id": "2a5501885d21dfa",
   "outputs": [],
   "execution_count": null
  },
  {
   "metadata": {},
   "cell_type": "markdown",
   "source": [
    "## Compute the coordinates\n",
    "\n",
    "Play around with the `threshold_abs` value of `peak_local_max` if there are too many/not enough bright spots detected."
   ],
   "id": "12704cd4094986de"
  },
  {
   "metadata": {},
   "cell_type": "code",
   "source": [
    "coordinates = peak_local_max(registered_image, min_distance=100, threshold_abs=250)\n",
    "\n",
    "figure, axes = plt.subplots(1, 1)\n",
    "\n",
    "axes.imshow(registered_image)\n",
    "axes.scatter(coordinates[:, 1], coordinates[:, 0], c=\"r\")\n",
    "axes.axis(False)\n",
    "\n",
    "plt.show()"
   ],
   "id": "fb29af3e6a908bee",
   "outputs": [],
   "execution_count": null
  },
  {
   "metadata": {},
   "cell_type": "code",
   "source": "coordinates",
   "id": "d2e34227527c5cf0",
   "outputs": [],
   "execution_count": null
  },
  {
   "metadata": {},
   "cell_type": "code",
   "source": [
    "ccf_coordinates = [\n",
    "    alignment_settings.volume_settings.shape[0] // 2\n",
    "    - alignment_settings.volume_settings.offset,\n",
    "    *coordinates[0].tolist(),\n",
    "]\n",
    "ccf_coordinates"
   ],
   "id": "db27c884e2673dda",
   "outputs": [],
   "execution_count": null
  },
  {
   "metadata": {},
   "cell_type": "code",
   "source": [
    "# bregma = (540, 44, 570) @10um\n",
    "bregma = np.round(np.array([540 / 2.5, 44 / 2.5, 227 / 2.5])).astype(np.uint16)\n",
    "bregma = bregma.tolist()\n",
    "bregma"
   ],
   "id": "c02103d5a7c995fc",
   "outputs": [],
   "execution_count": null
  },
  {
   "metadata": {},
   "cell_type": "code",
   "source": [
    "relative_to_bregma = np.array(ccf_coordinates) - np.array(bregma)\n",
    "print(f\"Position relative to bregma: {relative_to_bregma.tolist()}\")"
   ],
   "id": "7dca9333fee38b96",
   "outputs": [],
   "execution_count": null
  }
 ],
 "metadata": {
  "kernelspec": {
   "display_name": "Python 3",
   "language": "python",
   "name": "python3"
  },
  "language_info": {
   "codemirror_mode": {
    "name": "ipython",
    "version": 2
   },
   "file_extension": ".py",
   "mimetype": "text/x-python",
   "name": "python",
   "nbconvert_exporter": "python",
   "pygments_lexer": "ipython2",
   "version": "2.7.6"
  }
 },
 "nbformat": 4,
 "nbformat_minor": 5
}
