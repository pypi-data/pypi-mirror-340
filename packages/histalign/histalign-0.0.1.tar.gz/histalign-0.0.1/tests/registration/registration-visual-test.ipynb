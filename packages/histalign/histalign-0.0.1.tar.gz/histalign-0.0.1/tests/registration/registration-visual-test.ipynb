{
 "cells": [
  {
   "metadata": {},
   "cell_type": "markdown",
   "source": [
    "# Visual and MAE test for proper registration\n",
    "\n",
    "This tests allows for a quick and easy visual check to ensure the registration is carried out correctly by the `Registrator` class.\n",
    "An expected and actual output are displayed for both forward and reverse registration, and a difference is also displayed for completeness. The MAE should be 0 if the registration is carried out correctly."
   ],
   "id": "e87a916d0819f9a"
  },
  {
   "metadata": {},
   "cell_type": "markdown",
   "source": "## Fill in the project root path",
   "id": "a72d35f2c3c0c5e"
  },
  {
   "metadata": {},
   "cell_type": "code",
   "source": [
    "project_root = \"\"  # e.g., /home/$USERNAME$/git/histalign\n",
    "%cd {project_root}"
   ],
   "id": "5787f7d53f44c9d",
   "outputs": [],
   "execution_count": null
  },
  {
   "metadata": {},
   "cell_type": "markdown",
   "source": "## Run the rest of the script",
   "id": "52fd5e46152c0b33"
  },
  {
   "cell_type": "code",
   "id": "initial_id",
   "metadata": {
    "collapsed": true
   },
   "source": [
    "from pathlib import Path\n",
    "\n",
    "import matplotlib.pyplot as plt\n",
    "import numpy as np\n",
    "\n",
    "from histalign.backend.ccf.paths import get_atlas_path\n",
    "from histalign.backend.io import load_alignment_settings, load_image, load_volume\n",
    "from histalign.backend.registration import Registrator\n",
    "from histalign.backend.workspace import VolumeSlicer"
   ],
   "outputs": [],
   "execution_count": null
  },
  {
   "metadata": {},
   "cell_type": "code",
   "source": [
    "def imshow(image: np.ndarray, title: str = \"\") -> None:\n",
    "    figure, axes = plt.subplots()\n",
    "\n",
    "    figure.suptitle(title)\n",
    "\n",
    "    axes.imshow(image)\n",
    "    axes.axis(False)\n",
    "\n",
    "    plt.tight_layout()\n",
    "    plt.show()"
   ],
   "id": "290150e7295d5085",
   "outputs": [],
   "execution_count": null
  },
  {
   "metadata": {},
   "cell_type": "code",
   "source": [
    "alignment_path = str(\n",
    "    Path(\"tests/registration/resources/complete_alignment_settings.json\")\n",
    ")\n",
    "alignment_settings = load_alignment_settings(alignment_path)\n",
    "\n",
    "if (\n",
    "    not alignment_settings.volume_path.is_file()\n",
    "    or not alignment_settings.volume_path.suffixes[-1] == \".nrrd\"\n",
    "):\n",
    "    atlas_path = get_atlas_path(alignment_settings.volume_settings.resolution)\n",
    "    if not Path(atlas_path).exists():\n",
    "        download_atlas(alignment_settings.volume_settings.resolution)\n",
    "\n",
    "    alignment_settings.volume_path = atlas_path"
   ],
   "id": "5188e1ca20bb5aa2",
   "outputs": [],
   "execution_count": null
  },
  {
   "metadata": {},
   "cell_type": "code",
   "source": [
    "image = load_image(alignment_settings.histology_path)\n",
    "volume = load_volume(alignment_settings.volume_path)\n",
    "\n",
    "registrator = Registrator(True, True)"
   ],
   "id": "152e788e87c62f7e",
   "outputs": [],
   "execution_count": null
  },
  {
   "metadata": {},
   "cell_type": "code",
   "source": [
    "for parameter in [\n",
    "    \"scale\",\n",
    "    \"shear\",\n",
    "    \"rotation\",\n",
    "    \"translation\",\n",
    "    \"offset\",\n",
    "    \"pitch\",\n",
    "    \"yaw\",\n",
    "    \"complete\",\n",
    "]:\n",
    "    current_settings = load_alignment_settings(\n",
    "        f\"tests/registration/resources/{parameter}_alignment_settings.json\"\n",
    "    )\n",
    "    current_settings.volume_path = alignment_settings.volume_path\n",
    "\n",
    "    # Forward registration\n",
    "    forwarded_image = registrator.get_forwarded_image(image, current_settings)\n",
    "    volume_image = VolumeSlicer(volume=volume).slice(current_settings.volume_settings)\n",
    "\n",
    "    expected_forwarded_image = load_image(\n",
    "        f\"tests/registration/resources/{parameter}_expected_output1.npz\"\n",
    "    )\n",
    "    actual_forwarded_image = np.where(\n",
    "        forwarded_image > 10, forwarded_image * 3, volume_image\n",
    "    )\n",
    "\n",
    "    forward_composite_image = np.where(\n",
    "        forwarded_image > 10, forwarded_image * 3, volume_image\n",
    "    )\n",
    "\n",
    "    difference_forwarded_image = expected_forwarded_image.astype(\n",
    "        np.int16\n",
    "    ) - actual_forwarded_image.astype(np.int16)\n",
    "\n",
    "    # Optional visualisation\n",
    "    # imshow(volume_image, \"Volume image\")\n",
    "    # imshow(forwarded_image, \"Registered histology\")\n",
    "\n",
    "    imshow(\n",
    "        expected_forwarded_image,\n",
    "        f\"Expected forward registration output {{{parameter}}}\",\n",
    "    )\n",
    "    imshow(\n",
    "        actual_forwarded_image,\n",
    "        f\"Actual forward registration output {{{parameter}}}\",\n",
    "    )\n",
    "    imshow(\n",
    "        difference_forwarded_image,\n",
    "        f\"Difference {{{parameter}}} (MAE = {np.mean(np.abs(difference_forwarded_image))})\",\n",
    "    )\n",
    "\n",
    "    # Reverser registration\n",
    "    reversed_image = registrator.get_reversed_image(current_settings, \"atlas\", image)\n",
    "    reverse_composite_image = np.where(image > 10, reversed_image, 0)\n",
    "\n",
    "    expected_reversed_image = load_image(\n",
    "        f\"tests/registration/resources/{parameter}_expected_output2.npz\"\n",
    "    )\n",
    "    actual_reversed_image = np.where(reversed_image, reversed_image, image * 3)\n",
    "\n",
    "    slicing = (slice(None, None, 10), slice(None, None, 10))\n",
    "\n",
    "    # Optional visualisation\n",
    "    # imshow(reversed_image[slicing])\n",
    "    # imshow(image[slicing])\n",
    "\n",
    "    difference_reversed_image = expected_reversed_image.astype(\n",
    "        np.int16\n",
    "    ) - actual_reversed_image.astype(np.int16)\n",
    "\n",
    "    imshow(\n",
    "        expected_reversed_image[slicing],\n",
    "        f\"Expected reverse registration output {{{parameter}}}\",\n",
    "    )\n",
    "    imshow(\n",
    "        actual_reversed_image[slicing],\n",
    "        f\"Actual reverse registration output {{{parameter}}}\",\n",
    "    )\n",
    "    imshow(\n",
    "        difference_reversed_image[slicing],\n",
    "        f\"Difference {{{parameter}}} (MAE = {np.mean(np.abs(difference_reversed_image))})\",\n",
    "    )"
   ],
   "id": "d6a003e35adc72b8",
   "outputs": [],
   "execution_count": null
  }
 ],
 "metadata": {
  "kernelspec": {
   "display_name": "Python 3",
   "language": "python",
   "name": "python3"
  },
  "language_info": {
   "codemirror_mode": {
    "name": "ipython",
    "version": 2
   },
   "file_extension": ".py",
   "mimetype": "text/x-python",
   "name": "python",
   "nbconvert_exporter": "python",
   "pygments_lexer": "ipython2",
   "version": "2.7.6"
  }
 },
 "nbformat": 4,
 "nbformat_minor": 5
}
