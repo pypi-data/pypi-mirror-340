{
 "cells": [
  {
   "cell_type": "code",
   "execution_count": null,
   "metadata": {},
   "outputs": [],
   "source": [
    "%%HTML\n",
    "<p id = 'heading1_p'> Immutable Secure Boot – PIC32CXSG41</p>\n",
    "<hr id = 'hline'> </hr> \n",
    "<p id = 'heading1_p' style='font-size: 20px; font-weight: bold;'>Introduction</p>\n",
    "<div id='div_element'>\n",
    "<p> PIC32CXSG41 supports a size configurable immutable boot section in the flash with boot read protection. This allows the device \n",
    "to support a secure boot feature. Once the boot section is configured as Immutable boot, it is an one time programmable.\n",
    "This usecase will sign an application hex file to support Immutable Secure Boot. </p>\n",
    "</div>\n",
    "\n",
    "<button class=\"collapsible\" style='font-size: 20px; font-weight: bold;'>Cryptographic asset list & Usecase implementation Steps</button>\n",
    "<div class=\"content\">\n",
    "<div id='content_element'>\n",
    "<hr id = 'h_content'> </hr> \n",
    "<p style=\"float: left; font-size: 9pt; text-align: center; width: 30%; margin-right: 1%;\">\n",
    "    <img src=\"assets/images/usecase_steps.png\" alt=\"Usecase Steps\" style=\"height: 35em; width: 100%\"><b>Usecase implementation Steps</b></p>\n",
    "<p style=\"float: left; font-size: 9pt; text-align: center; 20em;height: 25em; width: 30%; margin-right: 1%;\">\n",
    "    <img src=\"assets/images/mm_PIC32CXSG41_Immutable_boot.png\" alt=\"Memory Map\" style=\"height: 35em; width: 100%\"><b>Memory Map</b></p>\n",
    "<p style=\"clear: both;\">\n",
    "</div>\n",
    "</div>\n",
    "\n",
    "<div id='div_element'>\n",
    "<p>Select your Evaluation kit and then click on each step to execute the Usecase. Click on Usecase Help button in transaction diagram for additional details.</p>\n",
    "<p><b>Note:</b> The boot section in this usecase is not set as Immutable boot for development, otherwise it will lock the region. \n",
    "Please refer to the device datasheet for available Immutable Boot section configurations and options.</p>\n",
    "</div>"
   ]
  },
  {
   "cell_type": "code",
   "execution_count": null,
   "metadata": {
    "scrolled": true
   },
   "outputs": [],
   "source": [
    "import os, shutil\n",
    "from tpds.usecase_diagram import ProtoBoard, UsecaseDiagram\n",
    "from tpds.tp_utils.tp_settings import TPSettings\n",
    "from IPython.display import display\n",
    "\n",
    "curr_path = os.path.abspath('')\n",
    "os.sys.path.extend([os.path.join(os.getcwd(), 'assets', 'python')])\n",
    "import immutable_boot\n",
    "\n",
    "tp_settings = TPSettings()\n",
    "usecase_working_dir = os.path.join(tp_settings.get_base_folder(), 'pic32cxsg41_immutable_boot')\n",
    "os.makedirs(usecase_working_dir, exist_ok=True)\n",
    "\n",
    "boards = ProtoBoard(max_width=400)\n",
    "boards.add_board(\n",
    "            'PIC32CXSG41 CUltra', \n",
    "            os.path.join(curr_path,'..','backend','boards','PIC32CXSG41','PIC32CXSG41.png'), \n",
    "            os.path.join(curr_path,'..','backend','boards','PIC32CXSG41', 'PIC32CXSG41_Immutableboot.hex'),            \n",
    "            os.path.join(curr_path, 'firmware','pic32cxsg41_boot','firmware','ImmutableBootloader_SG41_Board.X')\n",
    "            )\n",
    "boards.render_boards(0)\n",
    "\n",
    "boot_hex_path=os.path.join(curr_path,'..','backend','boards','PIC32CXSG41','PIC32CXSG41_Immutableboot.hex')\n",
    "app_hex_path=os.path.join(curr_path,'..','backend','boards','PIC32CXSG41','PIC32CXSG41_LEDapp.hex')\n",
    "\n",
    "shutil.copy(boot_hex_path, usecase_working_dir)\n",
    "shutil.copy(app_hex_path, usecase_working_dir)\n",
    "\n",
    "            \n",
    "sec_boot = immutable_boot.ImmutableBoot(boards)\n",
    "usecase_td = UsecaseDiagram(os.path.join(curr_path, 'assets', 'images', 'td_PIC32CXSG41_immutable_boot.png'), working_dir=usecase_working_dir)\n",
    "\n",
    "#1\n",
    "generate_resources = usecase_td.add_script(240,75,35,30, sec_boot.generate_resources)\n",
    "#2\n",
    "load_hex_file = usecase_td.add_script(240,125,35,30, sec_boot.boot_flash_with_publickey, prereq_scripts = [generate_resources])\n",
    "#3\n",
    "add_sign_pk = usecase_td.add_script(240,235,35,30, sec_boot.sign_user_application_hex)\n",
    "#4\n",
    "combine_boot_app= usecase_td.add_script(240,287,35,30,sec_boot.append_signature_to_app_hex,prereq_scripts = [add_sign_pk ])\n",
    "#5\n",
    "flash_combined_hex =  usecase_td.add_script(245,350,35,30, sec_boot.app_flash_with_signature, prereq_scripts = [combine_boot_app])\n",
    "\n",
    "usecase_td.add_firmware(boards.get_firmware_project, tp_settings.get_mplab_paths().get('ide_path'))\n",
    "usecase_td.add_usecase_help(os.path.join(curr_path, 'assets', 'PIC32CXSG41-Immutable Boot.md'))\n",
    "\n",
    "display(boards.canvas)\n",
    "usecase_td.display_canvas()"
   ]
  },
  {
   "cell_type": "code",
   "execution_count": null,
   "metadata": {},
   "outputs": [],
   "source": [
    "%%HTML\n",
    "<button class=\"collapsible\" style='font-size: 20px; font-weight: bold;'>Conclusion</button>\n",
    "<div class=\"content\">\n",
    "<div id='content_element'>\n",
    "<hr id = 'h_content'> </hr> \n",
    "<p>This Immutable Boot has validated the firmware before execution. Immutable Boot is not set in this application as it will lock the boot section. \n",
    "Please follow the datasheet to set Immutable Boot section. </p>\n",
    "</div>\n",
    "</div>"
   ]
  },
  {
   "cell_type": "code",
   "execution_count": null,
   "metadata": {},
   "outputs": [],
   "source": []
  }
 ],
 "metadata": {
  "kernelspec": {
   "display_name": "Python 3 (ipykernel)",
   "language": "python",
   "name": "python3"
  },
  "language_info": {
   "codemirror_mode": {
    "name": "ipython",
    "version": 3
   },
   "file_extension": ".py",
   "mimetype": "text/x-python",
   "name": "python",
   "nbconvert_exporter": "python",
   "pygments_lexer": "ipython3",
   "version": "3.10.11"
  },
  "vscode": {
   "interpreter": {
    "hash": "57f796ebba0752963210f57680bea44b9e80599a7f5e49c2ad73d01750a65742"
   }
  }
 },
 "nbformat": 4,
 "nbformat_minor": 2
}
