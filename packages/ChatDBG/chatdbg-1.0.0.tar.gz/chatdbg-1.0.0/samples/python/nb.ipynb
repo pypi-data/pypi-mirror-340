{
 "cells": [
  {
   "cell_type": "markdown",
   "id": "9706dd9f-da01-4afc-8148-d5e51696e281",
   "metadata": {},
   "source": [
    "**You must set the kernel to be the ipyflow kernel for ChatDBG to work.**"
   ]
  },
  {
   "cell_type": "code",
   "execution_count": null,
   "id": "637bdd5a-8e45-4f1d-8ad6-6e4d75e60d66",
   "metadata": {},
   "outputs": [],
   "source": [
    "from datascience import *\n",
    "%pdb"
   ]
  },
  {
   "cell_type": "code",
   "execution_count": null,
   "id": "66b2ebbf-584a-4c5f-885d-f2ad667cadd1",
   "metadata": {},
   "outputs": [],
   "source": [
    "red_blue_proportions = make_array(0.3, 0.7)"
   ]
  },
  {
   "cell_type": "code",
   "execution_count": null,
   "id": "802a3ab2-599d-49dd-a5b4-3139d5e34269",
   "metadata": {},
   "outputs": [],
   "source": [
    "def make_marble_bag(size):\n",
    "    return size * sample_proportions(red_blue_proportions, size)"
   ]
  },
  {
   "cell_type": "code",
   "execution_count": null,
   "id": "b46dc5a5-c376-40b3-a98d-da0ea012c80a",
   "metadata": {},
   "outputs": [],
   "source": [
    "make_marble_bag(10)"
   ]
  }
 ],
 "metadata": {
  "ipyflow": {
   "cell_children": {
    "11a5ccf7-17d6-4600-ad3b-4369d00eac1a": [],
    "44d121b5-07d7-4b90-8fa5-bd0ad7ee2623": [],
    "45d9fcde-3d09-4bd0-a1ac-f8470fc81250": [],
    "637bdd5a-8e45-4f1d-8ad6-6e4d75e60d66": [],
    "66b2ebbf-584a-4c5f-885d-f2ad667cadd1": [
     "b46dc5a5-c376-40b3-a98d-da0ea012c80a"
    ],
    "679500c8-471d-4dd8-aad4-09f1942805fb": [],
    "802a3ab2-599d-49dd-a5b4-3139d5e34269": [
     "b46dc5a5-c376-40b3-a98d-da0ea012c80a"
    ],
    "a0ef25d9-d30c-4577-8285-c21fdd1fac2d": [],
    "b46dc5a5-c376-40b3-a98d-da0ea012c80a": [],
    "c13a73c3-68cb-4172-8f9d-0b0387b0c927": [
     "f7c07ae1-735d-4093-bd3e-7efa9291f2d2"
    ],
    "cf1aa8d4-c2fb-4c68-9861-3431df761d1a": [],
    "f7c07ae1-735d-4093-bd3e-7efa9291f2d2": []
   },
   "cell_parents": {
    "11a5ccf7-17d6-4600-ad3b-4369d00eac1a": [],
    "44d121b5-07d7-4b90-8fa5-bd0ad7ee2623": [],
    "45d9fcde-3d09-4bd0-a1ac-f8470fc81250": [],
    "637bdd5a-8e45-4f1d-8ad6-6e4d75e60d66": [],
    "66b2ebbf-584a-4c5f-885d-f2ad667cadd1": [],
    "679500c8-471d-4dd8-aad4-09f1942805fb": [],
    "802a3ab2-599d-49dd-a5b4-3139d5e34269": [],
    "a0ef25d9-d30c-4577-8285-c21fdd1fac2d": [],
    "b46dc5a5-c376-40b3-a98d-da0ea012c80a": [
     "66b2ebbf-584a-4c5f-885d-f2ad667cadd1",
     "802a3ab2-599d-49dd-a5b4-3139d5e34269"
    ],
    "c13a73c3-68cb-4172-8f9d-0b0387b0c927": [],
    "cf1aa8d4-c2fb-4c68-9861-3431df761d1a": [],
    "f7c07ae1-735d-4093-bd3e-7efa9291f2d2": [
     "c13a73c3-68cb-4172-8f9d-0b0387b0c927"
    ]
   }
  },
  "kernelspec": {
   "display_name": "Python 3 (ipyflow)",
   "language": "python",
   "name": "ipyflow"
  },
  "language_info": {
   "codemirror_mode": {
    "name": "ipython",
    "version": 3
   },
   "file_extension": ".py",
   "mimetype": "text/x-python",
   "name": "python",
   "nbconvert_exporter": "python",
   "pygments_lexer": "ipython3",
   "version": "3.11.7"
  }
 },
 "nbformat": 4,
 "nbformat_minor": 5
}
