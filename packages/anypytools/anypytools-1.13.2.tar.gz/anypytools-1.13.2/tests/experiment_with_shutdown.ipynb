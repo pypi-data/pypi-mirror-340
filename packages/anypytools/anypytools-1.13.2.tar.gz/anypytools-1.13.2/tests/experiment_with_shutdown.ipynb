{
 "cells": [
  {
   "cell_type": "code",
   "execution_count": 1,
   "metadata": {},
   "outputs": [],
   "source": [
    "import anypytools\n",
    "import anypytools.macro_commands as mc\n",
    "\n"
   ]
  },
  {
   "cell_type": "code",
   "execution_count": 2,
   "metadata": {},
   "outputs": [],
   "source": [
    "macros = [[\n",
    "    mc.Load(r\"D:\\AMMRs\\ammr\\Application\\MocapExamples\\Plug-in-gait_Simple\\FullBody.main.any\"),\n",
    "    mc.OperationRun('Main.RunAnalysis.LoadParameters'),\n",
    "    mc.OperationRun('Main.Studies.InverseDynamicStudy'),\n",
    "]]*30\n",
    "\n",
    "\n",
    "# macros"
   ]
  },
  {
   "cell_type": "code",
   "execution_count": 3,
   "metadata": {},
   "outputs": [
    {
     "data": {
      "application/vnd.jupyter.widget-view+json": {
       "model_id": "a964f03300884aa6befb6169187cec9f",
       "version_major": 2,
       "version_minor": 0
      },
      "text/plain": [
       "  0%|          | 0/30 [00:00<?, ?it/s]"
      ]
     },
     "metadata": {},
     "output_type": "display_data"
    },
    {
     "name": "stdout",
     "output_type": "stream",
     "text": [
      "Failed (i=1) : 26.9 sec : anypytools-tests-1_(8lgu7h0o).txt\n",
      "Failed (i=2) : 27.0 sec : anypytools-tests-2_(93rqsii2).txt\n",
      "Failed (i=0) : 27.2 sec : anypytools-tests-0_(k6b3l1pl).txt\n",
      "Failed (i=3) : 26.4 sec : anypytools-tests-3_(_0omxci5).txt\n",
      "Failed (i=5) : 26.6 sec : anypytools-tests-5_(n82g7e0n).txt\n",
      "Failed (i=4) : 27.1 sec : anypytools-tests-4_(1vk2nlya).txt\n",
      "KeyboardInterrupt: User aborted\n",
      "Completed: 0, Failed: 6, Not processed: 24\n"
     ]
    },
    {
     "data": {
      "text/plain": [
       "[{'ERROR': ['Error : Main.Studies.InverseDynamics : Unresolved object.']},\n",
       " {'ERROR': ['Error : Main.Studies.InverseDynamics : Unresolved object.']},\n",
       " {'ERROR': ['Error : Main.Studies.InverseDynamics : Unresolved object.']},\n",
       " {'ERROR': ['Error : Main.Studies.InverseDynamics : Unresolved object.']},\n",
       " {'ERROR': ['Error : Main.Studies.InverseDynamics : Unresolved object.']},\n",
       " {'ERROR': ['Error : Main.Studies.InverseDynamics : Unresolved object.']},\n",
       " {},\n",
       " {},\n",
       " {},\n",
       " {},\n",
       " {},\n",
       " {},\n",
       " {},\n",
       " {},\n",
       " {},\n",
       " {},\n",
       " {},\n",
       " {},\n",
       " {},\n",
       " {},\n",
       " {},\n",
       " {},\n",
       " {},\n",
       " {},\n",
       " {},\n",
       " {},\n",
       " {},\n",
       " {},\n",
       " {},\n",
       " {}]"
      ]
     },
     "execution_count": 3,
     "metadata": {},
     "output_type": "execute_result"
    },
    {
     "name": "stderr",
     "output_type": "stream",
     "text": [
      "Exception in thread Thread-12 (_worker):\n",
      "Traceback (most recent call last):\n",
      "  File \"d:\\repos\\AnyPyTools\\.pixi\\envs\\jupyter\\Lib\\threading.py\", line 1073, in _bootstrap_inner\n",
      "    self.run()\n",
      "  File \"d:\\repos\\AnyPyTools\\.pixi\\envs\\jupyter\\Lib\\site-packages\\ipykernel\\ipkernel.py\", line 761, in run_closure\n",
      "    _threading_Thread_run(self)\n",
      "  File \"d:\\repos\\AnyPyTools\\.pixi\\envs\\jupyter\\Lib\\threading.py\", line 1010, in run\n",
      "    self._target(*self._args, **self._kwargs)\n",
      "  File \"D:\\repos\\AnyPyTools\\anypytools\\abcutils.py\", line 889, in _worker\n",
      "Exception in thread Thread-13 (_worker):\n",
      "Traceback (most recent call last):\n",
      "  File \"d:\\repos\\AnyPyTools\\.pixi\\envs\\jupyter\\Lib\\threading.py\", line 1073, in _bootstrap_inner\n",
      "    task.retcode = execute_anybodycon(**exe_args)\n",
      "                   ^^^^^^^^^^^^^^^^^^^^^^^^^^^^^^\n",
      "  File \"D:\\repos\\AnyPyTools\\anypytools\\abcutils.py\", line 274, in execute_anybodycon\n",
      "    self.run()\n",
      "  File \"d:\\repos\\AnyPyTools\\.pixi\\envs\\jupyter\\Lib\\site-packages\\ipykernel\\ipkernel.py\", line 761, in run_closure\n",
      "    _subprocess_container.remove(proc.pid)\n",
      "  File \"D:\\repos\\AnyPyTools\\anypytools\\abcutils.py\", line 85, in remove\n",
      "    _threading_Thread_run(self)\n",
      "  File \"d:\\repos\\AnyPyTools\\.pixi\\envs\\jupyter\\Lib\\threading.py\", line 1010, in run\n",
      "    self._pids.pop(pid, None)\n",
      "TypeError: set.pop() takes no arguments (2 given)\n",
      "    self._target(*self._args, **self._kwargs)\n",
      "  File \"D:\\repos\\AnyPyTools\\anypytools\\abcutils.py\", line 889, in _worker\n",
      "    task.retcode = execute_anybodycon(**exe_args)\n",
      "                   ^^^^^^^^^^^^^^^^^^^^^^^^^^^^^^\n",
      "  File \"D:\\repos\\AnyPyTools\\anypytools\\abcutils.py\", line 274, in execute_anybodycon\n",
      "    _subprocess_container.remove(proc.pid)\n",
      "  File \"D:\\repos\\AnyPyTools\\anypytools\\abcutils.py\", line 85, in remove\n",
      "    self._pids.pop(pid, None)\n",
      "TypeError: set.pop() takes no arguments (2 given)\n",
      "Exception in thread Thread-14 (_worker):\n",
      "Traceback (most recent call last):\n",
      "  File \"d:\\repos\\AnyPyTools\\.pixi\\envs\\jupyter\\Lib\\threading.py\", line 1073, in _bootstrap_inner\n",
      "    self.run()\n",
      "  File \"d:\\repos\\AnyPyTools\\.pixi\\envs\\jupyter\\Lib\\site-packages\\ipykernel\\ipkernel.py\", line 761, in run_closure\n",
      "    _threading_Thread_run(self)\n",
      "  File \"d:\\repos\\AnyPyTools\\.pixi\\envs\\jupyter\\Lib\\threading.py\", line 1010, in run\n",
      "    self._target(*self._args, **self._kwargs)\n",
      "  File \"D:\\repos\\AnyPyTools\\anypytools\\abcutils.py\", line 889, in _worker\n",
      "    task.retcode = execute_anybodycon(**exe_args)\n",
      "                   ^^^^^^^^^^^^^^^^^^^^^^^^^^^^^^\n",
      "  File \"D:\\repos\\AnyPyTools\\anypytools\\abcutils.py\", line 274, in execute_anybodycon\n",
      "    _subprocess_container.remove(proc.pid)\n",
      "  File \"D:\\repos\\AnyPyTools\\anypytools\\abcutils.py\", line 85, in remove\n",
      "    self._pids.pop(pid, None)\n",
      "TypeError: set.pop() takes no arguments (2 given)\n"
     ]
    }
   ],
   "source": [
    "app = anypytools.AnyPyProcess(num_processes=3)\n",
    "\n",
    "app.start_macro(macros)\n"
   ]
  }
 ],
 "metadata": {
  "kernelspec": {
   "display_name": "Python 3",
   "language": "python",
   "name": "python3"
  },
  "language_info": {
   "codemirror_mode": {
    "name": "ipython",
    "version": 3
   },
   "file_extension": ".py",
   "mimetype": "text/x-python",
   "name": "python",
   "nbconvert_exporter": "python",
   "pygments_lexer": "ipython3",
   "version": "3.12.4"
  }
 },
 "nbformat": 4,
 "nbformat_minor": 2
}
