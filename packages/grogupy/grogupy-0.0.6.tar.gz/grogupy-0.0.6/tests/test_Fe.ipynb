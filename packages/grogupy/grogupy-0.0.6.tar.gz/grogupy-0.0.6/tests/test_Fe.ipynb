{
 "cells": [
  {
   "cell_type": "code",
   "execution_count": 1,
   "metadata": {},
   "outputs": [
    {
     "name": "stderr",
     "output_type": "stream",
     "text": [
      "/Users/danielpozsar/Documents/studies/elte/phd/grogu/.venv/lib/python3.9/site-packages/grogupy/_tqdm.py:24: TqdmWarning: IProgress not found. Please update jupyter and ipywidgets. See https://ipywidgets.readthedocs.io/en/stable/user_install.html\n",
      "  from tqdm.autonotebook import tqdm\n"
     ]
    }
   ],
   "source": [
    "import grogupy\n",
    "import grogupy.viz\n",
    "import pickle\n",
    "from temp import *\n"
   ]
  },
  {
   "cell_type": "code",
   "execution_count": null,
   "metadata": {},
   "outputs": [
    {
     "data": {
      "text/plain": [
       "<grogupy.Kspace kset=[40 40 40], NK=64000>"
      ]
     },
     "execution_count": 2,
     "metadata": {},
     "output_type": "execute_result"
    }
   ],
   "source": [
    "simulation_kspace = grogupy.Kspace([40, 40, 40])\n",
    "simulation_kspace"
   ]
  },
  {
   "cell_type": "code",
   "execution_count": 3,
   "metadata": {},
   "outputs": [
    {
     "data": {
      "text/plain": [
       "<grogupy.Contour emin=-90, emax=-0.060516357421875, eset=42, esetp=10000>"
      ]
     },
     "execution_count": 3,
     "metadata": {},
     "output_type": "execute_result"
    }
   ],
   "source": [
    "simulation_contour = grogupy.Contour(\n",
    "    eset=42,\n",
    "    esetp=10000,\n",
    "    emin=-90,\n",
    "    emax=-0.060516357421875000,\n",
    "    emin_shift=0,\n",
    "    emax_shift=0,\n",
    ")\n",
    "simulation_contour\n"
   ]
  },
  {
   "cell_type": "code",
   "execution_count": 4,
   "metadata": {},
   "outputs": [
    {
     "data": {
      "text/plain": [
       "(2, 89, 14, 14)"
      ]
     },
     "execution_count": 4,
     "metadata": {},
     "output_type": "execute_result"
    }
   ],
   "source": [
    "with open(\"/Users/danielpozsar/Downloads/pakk 1/fake_dh.pkl\", \"rb\") as f:\n",
    "    dh = pickle.load(f)\n",
    "dh\n",
    "dh.H.shape\n"
   ]
  },
  {
   "cell_type": "code",
   "execution_count": 5,
   "metadata": {},
   "outputs": [
    {
     "ename": "Exception",
     "evalue": "('Not valid input:', (<class 'temp.FakeSislHamiltonian'>, <class 'temp.FakeSislHamiltonian'>))",
     "output_type": "error",
     "traceback": [
      "\u001b[0;31m---------------------------------------------------------------------------\u001b[0m",
      "\u001b[0;31mException\u001b[0m                                 Traceback (most recent call last)",
      "Cell \u001b[0;32mIn[5], line 1\u001b[0m\n\u001b[0;32m----> 1\u001b[0m simulation_hamiltonian \u001b[38;5;241m=\u001b[39m \u001b[43mgrogupy\u001b[49m\u001b[38;5;241;43m.\u001b[39;49m\u001b[43mHamiltonian\u001b[49m\u001b[43m(\u001b[49m\n\u001b[1;32m      2\u001b[0m \u001b[43m    \u001b[49m\u001b[43m(\u001b[49m\u001b[43mdh\u001b[49m\u001b[43m,\u001b[49m\u001b[43m \u001b[49m\u001b[43mdh\u001b[49m\u001b[43m)\u001b[49m\u001b[43m,\u001b[49m\n\u001b[1;32m      3\u001b[0m \u001b[43m    \u001b[49m\u001b[43m[\u001b[49m\u001b[38;5;241;43m0\u001b[39;49m\u001b[43m,\u001b[49m\u001b[43m \u001b[49m\u001b[38;5;241;43m0\u001b[39;49m\u001b[43m,\u001b[49m\u001b[43m \u001b[49m\u001b[38;5;241;43m1\u001b[39;49m\u001b[43m]\u001b[49m\u001b[43m,\u001b[49m\n\u001b[1;32m      4\u001b[0m \u001b[43m)\u001b[49m\n\u001b[1;32m      5\u001b[0m simulation_hamiltonian\n",
      "File \u001b[0;32m~/Documents/studies/elte/phd/grogu/.venv/lib/python3.9/site-packages/grogupy/physics/hamiltonian.py:145\u001b[0m, in \u001b[0;36mHamiltonian.__init__\u001b[0;34m(self, infile, scf_xcf_orientation)\u001b[0m\n\u001b[1;32m    143\u001b[0m         \u001b[38;5;28mself\u001b[39m\u001b[38;5;241m.\u001b[39minfile \u001b[38;5;241m=\u001b[39m \u001b[38;5;124m\"\u001b[39m\u001b[38;5;124mUnknown!\u001b[39m\u001b[38;5;124m\"\u001b[39m\n\u001b[1;32m    144\u001b[0m     \u001b[38;5;28;01melse\u001b[39;00m:\n\u001b[0;32m--> 145\u001b[0m         \u001b[38;5;28;01mraise\u001b[39;00m \u001b[38;5;167;01mException\u001b[39;00m(\u001b[38;5;124m\"\u001b[39m\u001b[38;5;124mNot valid input:\u001b[39m\u001b[38;5;124m\"\u001b[39m, (\u001b[38;5;28mtype\u001b[39m(infile[\u001b[38;5;241m0\u001b[39m]), \u001b[38;5;28mtype\u001b[39m(infile[\u001b[38;5;241m1\u001b[39m])))\n\u001b[1;32m    146\u001b[0m \u001b[38;5;28;01melse\u001b[39;00m:\n\u001b[1;32m    147\u001b[0m     \u001b[38;5;28;01mraise\u001b[39;00m \u001b[38;5;167;01mException\u001b[39;00m(\u001b[38;5;124m\"\u001b[39m\u001b[38;5;124mNot valid input:\u001b[39m\u001b[38;5;124m\"\u001b[39m, \u001b[38;5;28mtype\u001b[39m(infile))\n",
      "\u001b[0;31mException\u001b[0m: ('Not valid input:', (<class 'temp.FakeSislHamiltonian'>, <class 'temp.FakeSislHamiltonian'>))"
     ]
    }
   ],
   "source": [
    "simulation_hamiltonian = grogupy.Hamiltonian(\n",
    "    (dh, dh),\n",
    "    [0, 0, 1],\n",
    ")\n",
    "simulation_hamiltonian\n"
   ]
  },
  {
   "cell_type": "code",
   "execution_count": null,
   "metadata": {},
   "outputs": [
    {
     "name": "stderr",
     "output_type": "stream",
     "text": [
      "Add magnetic entities:: 100%|██████████| 1/1 [00:00<00:00, 5349.88it/s]\n",
      "Add pairs:: 100%|██████████| 89/89 [00:00<00:00, 13153.85it/s]\n",
      "Add pairs:: 100%|██████████| 7/7 [00:00<00:00, 15802.01it/s]\n"
     ]
    }
   ],
   "source": [
    "simulation = grogupy.Builder([[1,0,0], [0,1,0], [0,0,1]])\n",
    "\n",
    "simulation.add_kspace(simulation_kspace)\n",
    "simulation.add_contour(simulation_contour)\n",
    "simulation.add_hamiltonian(simulation_hamiltonian)\n",
    "\n",
    "\n",
    "# cutoff of 1\n",
    "# simulation.add_magnetic_entities({'orb': [1,3,4,5,9,10,11,12,13]})\n",
    "#cutoff of 1.1\n",
    "#simulation.add_magnetic_entities({'orb': [3,4,5,9,10,11,12,13]})\n",
    "#cutoff of 1.3\n",
    "#simulation.add_magnetic_entities({'orb': [3,4,5,11,12,13]})\n",
    "#cutoff of 1.4\n",
    "#simulation.add_magnetic_entities({'orb': [3,4,5]})\n",
    "#cutoff of d\n",
    "#simulation.add_magnetic_entities({'orb': [9,10,11,12,13]})\n",
    "#cutoff other\n",
    "simulation.add_magnetic_entities({'orb': [9,10,11,12,13]})\n",
    "\"\"\"\n",
    "    1   Fe          Up spin      Down spin     Sum           Diff\n",
    "            multiple\n",
    "  s           0    0.274652013  0.336506030   0.611158043  -0.061854016\n",
    "  s           1    0.536600152  0.552353618   1.088953770  -0.015753466\n",
    "  s           2    0.015548454  0.016039910   0.031588364  -0.000491456\n",
    "  px          0    0.953035813  0.953136359   1.906172172  -0.000100546\n",
    "  py          0    0.953035812  0.953136357   1.906172169  -0.000100545\n",
    "  pz          0    0.953035839  0.953136386   1.906172226  -0.000100547\n",
    "  px          1    0.300363456  0.362262515   0.662625971  -0.061899059\n",
    "  py          1    0.300363753  0.362262738   0.662626491  -0.061898986\n",
    "  pz          1    0.300363597  0.362262758   0.662626355  -0.061899160\n",
    "  d3z^2-r^2   0    0.911136417  0.316873955   1.228010372   0.594262462\n",
    "  dx^2-y^2    0    0.911136252  0.316874001   1.228010253   0.594262251\n",
    "  dxy         0    0.861836733  0.506791271   1.368628004   0.355045463\n",
    "  dxz         0    0.861836986  0.506790963   1.368627949   0.355046023\n",
    "  dyz         0    0.861836738  0.506791124   1.368627862   0.355045615\n",
    "\"\"\"\n",
    "pairs = []\n",
    "for c in simulation._dh.sc_off:\n",
    "    pairs.append(dict(ai=0, aj=0, Ruc=c))\n",
    "simulation.add_pairs(pairs)\n",
    "\n",
    "dist = []\n",
    "for p in simulation.pairs:\n",
    "    dist.append(p.distance)\n",
    "dist = np.array(dist)\n",
    "\n",
    "uniques = np.unique(dist)\n",
    "new_sc_off = []\n",
    "for u in uniques:\n",
    "    idx = np.where(u == dist)[0][0]\n",
    "    new_sc_off.append(simulation._dh.sc_off[idx])\n",
    "\n",
    "simulation.pairs = []\n",
    "pairs = []\n",
    "for c in new_sc_off:\n",
    "    if np.allclose(c, [0,0,0]):\n",
    "        continue\n",
    "    pairs.append(dict(ai=0, aj=0, Ruc=c))\n",
    "simulation.add_pairs(pairs)\n"
   ]
  },
  {
   "cell_type": "code",
   "execution_count": null,
   "metadata": {},
   "outputs": [
    {
     "name": "stderr",
     "output_type": "stream",
     "text": [
      "Rotating Exchange field: 100%|██████████| 3/3 [00:00<00:00, 1818.34it/s]\n",
      "Setup magnetic entities for rotated hamiltonian: 100%|██████████| 1/1 [00:00<00:00, 16980.99it/s]\n",
      "Setup pairs for rotated hamiltonian: 100%|██████████| 7/7 [00:00<00:00, 9305.90it/s]\n",
      "Setup perturbations for rotated hamiltonian: 100%|██████████| 1/1 [00:00<00:00, 16448.25it/s]\n",
      "Setup perturbations for rotated hamiltonian: 100%|██████████| 1/1 [00:00<00:00, 29746.84it/s]\n",
      "Rotating Exchange field: 100%|██████████| 3/3 [00:00<00:00, 2084.64it/s]\n",
      "Setup magnetic entities for rotated hamiltonian: 100%|██████████| 1/1 [00:00<00:00, 14513.16it/s]\n",
      "Setup pairs for rotated hamiltonian: 100%|██████████| 7/7 [00:00<00:00, 15493.47it/s]\n",
      "Setup perturbations for rotated hamiltonian: 100%|██████████| 1/1 [00:00<00:00, 31300.78it/s]\n",
      "Setup perturbations for rotated hamiltonian: 100%|██████████| 1/1 [00:00<00:00, 34379.54it/s]\n",
      "Rotating Exchange field: 100%|██████████| 3/3 [00:00<00:00, 3260.67it/s]\n",
      "Setup magnetic entities for rotated hamiltonian: 100%|██████████| 1/1 [00:00<00:00, 37117.73it/s]\n",
      "Setup pairs for rotated hamiltonian: 100%|██████████| 7/7 [00:00<00:00, 8779.94it/s]\n",
      "Setup perturbations for rotated hamiltonian: 100%|██████████| 1/1 [00:00<00:00, 28532.68it/s]\n",
      "Setup perturbations for rotated hamiltonian: 100%|██████████| 1/1 [00:00<00:00, 38836.15it/s]\n",
      "Parallel over k on CPU0:: 100%|██████████| 64000/64000 [11:16<00:00, 94.67it/s] \n",
      "/Users/danielpozsar/Documents/oktatás/elte/phd/grogu/.venv/lib/python3.9/site-packages/grogupy/physics/utilities.py:375: UserWarning: This is experimenal!\n",
      "  warnings.warn(\"This is experimenal!\")\n",
      "/Users/danielpozsar/Documents/oktatás/elte/phd/grogu/.venv/lib/python3.9/site-packages/grogupy/physics/utilities.py:517: UserWarning: This is experimenal!\n",
      "  warnings.warn(\"This is experimenal!\")\n"
     ]
    }
   ],
   "source": [
    "simulation.solve()"
   ]
  },
  {
   "cell_type": "code",
   "execution_count": null,
   "metadata": {},
   "outputs": [
    {
     "name": "stdout",
     "output_type": "stream",
     "text": [
      "# ================================================================================\n",
      "# grogupy version: 0.0.6\n",
      "# Input file: Unknown!\n",
      "# Spin mode: POLARIZED\n",
      "# ================================================================================\n",
      "# SLURM job ID: Could not be determined.\n",
      "# Architecture: CPU\n",
      "# Number of nodes in the parallel cluster: 1\n",
      "# Parallelization is over: K\n",
      "# Solver used for Greens function calculation: Sequential\n",
      "# Solver used for Exchange tensor: Fit\n",
      "# Solver used for Anisotropy tensor: Fit\n",
      "# ================================================================================\n",
      "# Cell [Ang]:\n",
      "# -1.432999896834187270e+00 1.432999896834187270e+00 1.432999896834187270e+00\n",
      "# 1.432999896834187270e+00 -1.432999896834187270e+00 1.432999896834187270e+00\n",
      "# 1.432999896834187270e+00 1.432999896834187270e+00 -1.432999896834187270e+00\n",
      "# ================================================================================\n",
      "# DFT axis: [0 0 1]\n",
      "# Quantization axis and perpendicular rotation directions:\n",
      "# [1. 0. 0.] --> [array([ 0.,  0., -1.]), array([0., 1., 0.])]\n",
      "# [0. 1. 0.] --> [array([1., 0., 0.]), array([ 0.,  0., -1.])]\n",
      "# [0. 0. 1.] --> [array([1., 0., 0.]), array([0., 1., 0.])]\n",
      "# ================================================================================\n",
      "# Parameters for the Brillouin zone sampling:\n",
      "# Number of k points: 64000\n",
      "# K points in each directions: [40 40 40]\n",
      "# Parameters for the contour integral:\n",
      "# Eset: 42\n",
      "# Esetp: 10000\n",
      "# Ebot: -90\n",
      "# Etop: -0.060516357421875\n",
      "# ================================================================================\n",
      "# \n",
      "================================================================================\n",
      "cell Angstrom\n",
      "-1.432999896834187270e+00 1.432999896834187270e+00 1.432999896834187270e+00\n",
      "1.432999896834187270e+00 -1.432999896834187270e+00 1.432999896834187270e+00\n",
      "1.432999896834187270e+00 1.432999896834187270e+00 -1.432999896834187270e+00\n",
      "================================================================================\n",
      "atoms Angstrom\n",
      "name\tx\ty\tz\tSx\tSy\tSz\t# Q\n",
      "F--e 0.0 0.0 0.0 \n",
      "================================================================================\n",
      "notation\n",
      "double-counting True\n",
      "spin-normalized True\n",
      "exchange-factor 0.5\n",
      "on-site-factor 1\n",
      "================================================================================\n",
      "exchange meV\n",
      "--------------------------------------------------------------------------------\n",
      "F--e F--e -1 -1 -1 # distance [Ang]: 2.4820286285577717\n",
      "isotropic -51.93226595714465\n",
      "DMI 6.337752058692306e-15 5.686519346211416e-15 1.6925831986324632e-14 # Dx Dy Dz\n",
      "symmetric-anisotropy -7.105427357601002e-15 -2.1316282072803006e-14 1.6925831986324632e-14 -5.7295673410319115e-15 6.322922969775044e-15 # Sxx Syy Sxy Sxz Syz\n",
      "--------------------------------------------------------------------------------\n",
      "F--e F--e -1 -1 0 # distance [Ang]: 2.8659997936683745\n",
      "isotropic -10.914387918467662\n",
      "DMI -5.976611603407606e-14 -6.203546063308962e-14 -3.3314299452940715e-14 # Dx Dy Dz\n",
      "symmetric-anisotropy -2.3092638912203256e-14 -2.3092638912203256e-14 -3.3314299452940715e-14 6.204508403644275e-14 -5.971557927010348e-14 # Sxx Syy Sxy Sxz Syz\n",
      "--------------------------------------------------------------------------------\n",
      "F--e F--e -2 -1 -1 # distance [Ang]: 4.053135777964307\n",
      "isotropic -4.196114753199908\n",
      "DMI -2.5790293422953568e-14 -2.5584699181708372e-14 -2.0519275088295287e-14 # Dx Dy Dz\n",
      "symmetric-anisotropy 1.5987211554602254e-14 1.5987211554602254e-14 -2.0519275088295287e-14 2.5592712665386852e-14 -2.5780213346511414e-14 # Sxx Syy Sxy Sxz Syz\n",
      "--------------------------------------------------------------------------------\n",
      "F--e F--e -2 -2 -1 # distance [Ang]: 4.752722982416996\n",
      "isotropic 1.3686414244030176\n",
      "DMI 2.446660903143615e-14 2.4847679580300822e-14 2.6702814938590224e-14 # Dx Dy Dz\n",
      "symmetric-anisotropy 2.864375403532904e-14 2.6201263381153694e-14 2.6702814938590224e-14 -2.485237039613905e-14 2.4484909040843595e-14 # Sxx Syy Sxy Sxz Syz\n",
      "--------------------------------------------------------------------------------\n",
      "F--e F--e -2 -2 -2 # distance [Ang]: 4.9640572571155435\n",
      "isotropic 4.642065790116026\n",
      "DMI 8.507392736846208e-14 8.70399048247185e-14 6.58342491986295e-14 # Dx Dy Dz\n",
      "symmetric-anisotropy 3.2862601528904634e-14 2.930988785010413e-14 6.58342491986295e-14 -8.704403076620694e-14 8.507350582544535e-14 # Sxx Syy Sxy Sxz Syz\n",
      "--------------------------------------------------------------------------------\n",
      "F--e F--e -2 -2 0 # distance [Ang]: 5.731999587336749\n",
      "isotropic -1.5222181098421694\n",
      "DMI -8.284298961337817e-14 -8.597741818840322e-14 -6.463963144752661e-14 # Dx Dy Dz\n",
      "symmetric-anisotropy 1.354472090042691e-14 1.7985612998927536e-14 -6.463963144752661e-14 8.597622211109312e-14 -8.284279706640506e-14 # Sxx Syy Sxy Sxz Syz\n",
      "--------------------------------------------------------------------------------\n",
      "F--e F--e -3 -2 -2 # distance [Ang]: 6.246301736404433\n",
      "isotropic 0.29875409468602604\n",
      "DMI 2.9334663611459435e-14 2.7944697674972427e-14 -2.5222810725767864e-15 # Dx Dy Dz\n",
      "symmetric-anisotropy -1.387778780781446e-15 -5.107025913275719e-15 -2.5222810725767864e-15 -2.7942529907538258e-14 2.933130650088906e-14 # Sxx Syy Sxy Sxz Syz\n",
      "--------------------------------------------------------------------------------\n",
      "================================================================================\n",
      "on-site meV\n",
      "--------------------------------------------------------------------------------\n",
      "F--e\n",
      "0.0 0.0 0.0 0.0 -2.9379658677342704e-16 -1.4502197840843261e-15 # Kxx Kyy Kzz Kxy Kxz Kyz\n",
      "--------------------------------------------------------------------------------\n",
      "================================================================================\n",
      "\n"
     ]
    }
   ],
   "source": [
    "print(simulation.to_magnopy())\n"
   ]
  },
  {
   "cell_type": "code",
   "execution_count": null,
   "metadata": {},
   "outputs": [
    {
     "data": {
      "image/png": "[encoded data removed]",
      "text/plain": [
       "<Figure size 1200x600 with 1 Axes>"
      ]
     },
     "metadata": {},
     "output_type": "display_data"
    }
   ],
   "source": [
    "iso = []\n",
    "dist = []\n",
    "for p in simulation.pairs:\n",
    "    dist.append(p.distance)\n",
    "    iso.append(p.J_iso_meV)\n",
    "iso = np.array(iso) / -2\n",
    "dist = np.array(dist)\n",
    "\n",
    "\n",
    "import matplotlib.pyplot as plt\n",
    "\n",
    "plt.figure(figsize=(12,6))\n",
    "plt.scatter(dist, iso)\n",
    "plt.ylabel(\"J_iso [meV]\")\n",
    "plt.xlabel(\"Distance [Ang]\")\n",
    "plt.grid()"
   ]
  },
  {
   "cell_type": "code",
   "execution_count": null,
   "metadata": {},
   "outputs": [
    {
     "data": {
      "text/plain": [
       "array([ 9, 10, 11, 12, 13])"
      ]
     },
     "execution_count": 10,
     "metadata": {},
     "output_type": "execute_result"
    }
   ],
   "source": [
    "simulation.magnetic_entities[0]._orbital_box_indices"
   ]
  },
  {
   "cell_type": "code",
   "execution_count": null,
   "metadata": {},
   "outputs": [],
   "source": [
    "# saved cutoff_d_orbs\n",
    "#np.save(\"openmx.npy\", np.vstack((dist, iso)).T)"
   ]
  }
 ],
 "metadata": {
  "kernelspec": {
   "display_name": ".venv",
   "language": "python",
   "name": "python3"
  },
  "language_info": {
   "codemirror_mode": {
    "name": "ipython",
    "version": 3
   },
   "file_extension": ".py",
   "mimetype": "text/x-python",
   "name": "python",
   "nbconvert_exporter": "python",
   "pygments_lexer": "ipython3",
   "version": "3.9.6"
  }
 },
 "nbformat": 4,
 "nbformat_minor": 2
}
