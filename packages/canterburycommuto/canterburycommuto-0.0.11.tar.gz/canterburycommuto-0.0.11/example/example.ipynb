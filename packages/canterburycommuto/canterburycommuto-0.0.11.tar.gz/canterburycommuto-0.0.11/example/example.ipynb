{
 "cells": [
  {
   "cell_type": "markdown",
   "id": "57f9339e-6cc5-4e1e-9e8b-fba490c497f0",
   "metadata": {},
   "source": [
    "The exclamation mark ! is added before git in Jupyter Notebook to avoid syntax error."
   ]
  },
  {
   "cell_type": "code",
   "execution_count": 2,
   "id": "d4d170b6-c212-47aa-9a65-6fe595305ccc",
   "metadata": {},
   "outputs": [
    {
     "name": "stderr",
     "output_type": "stream",
     "text": [
      "Cloning into 'CanterburyCommuto'...\n"
     ]
    }
   ],
   "source": [
    "!git clone https://github.com/PeirongShi/CanterburyCommuto.git"
   ]
  },
  {
   "cell_type": "markdown",
   "id": "02a9a994-d93f-4707-9fea-8f14001bfcc3",
   "metadata": {},
   "source": [
    "For the same reason as it is for git, % and ! should be added in front of cd and pip."
   ]
  },
  {
   "cell_type": "code",
   "execution_count": 4,
   "id": "c0786058-db2e-4592-8c9c-3b8f0ce66253",
   "metadata": {},
   "outputs": [
    {
     "name": "stdout",
     "output_type": "stream",
     "text": [
      "C:\\Users\\HUAWEI\\CanterburyCommuto\n",
      "Requirement already satisfied: requests==2.32.2 in d:\\anaconda\\lib\\site-packages (from -r requirements.txt (line 1)) (2.32.2)\n",
      "Requirement already satisfied: polyline==2.0.2 in d:\\anaconda\\lib\\site-packages (from -r requirements.txt (line 2)) (2.0.2)\n",
      "Requirement already satisfied: matplotlib==3.8.4 in d:\\anaconda\\lib\\site-packages (from -r requirements.txt (line 3)) (3.8.4)\n",
      "Requirement already satisfied: shapely==2.0.5 in d:\\anaconda\\lib\\site-packages (from -r requirements.txt (line 4)) (2.0.5)\n",
      "Requirement already satisfied: pyproj==3.6.1 in d:\\anaconda\\lib\\site-packages (from -r requirements.txt (line 5)) (3.6.1)\n",
      "Requirement already satisfied: folium==0.14.0 in d:\\anaconda\\lib\\site-packages (from -r requirements.txt (line 6)) (0.14.0)\n",
      "Requirement already satisfied: IPython==8.25.0 in d:\\anaconda\\lib\\site-packages (from -r requirements.txt (line 7)) (8.25.0)\n",
      "Requirement already satisfied: charset-normalizer<4,>=2 in d:\\anaconda\\lib\\site-packages (from requests==2.32.2->-r requirements.txt (line 1)) (2.0.4)\n",
      "Requirement already satisfied: idna<4,>=2.5 in d:\\anaconda\\lib\\site-packages (from requests==2.32.2->-r requirements.txt (line 1)) (3.7)\n",
      "Requirement already satisfied: urllib3<3,>=1.21.1 in d:\\anaconda\\lib\\site-packages (from requests==2.32.2->-r requirements.txt (line 1)) (2.2.2)\n",
      "Requirement already satisfied: certifi>=2017.4.17 in d:\\anaconda\\lib\\site-packages (from requests==2.32.2->-r requirements.txt (line 1)) (2024.8.30)\n",
      "Requirement already satisfied: contourpy>=1.0.1 in d:\\anaconda\\lib\\site-packages (from matplotlib==3.8.4->-r requirements.txt (line 3)) (1.2.0)\n",
      "Requirement already satisfied: cycler>=0.10 in d:\\anaconda\\lib\\site-packages (from matplotlib==3.8.4->-r requirements.txt (line 3)) (0.11.0)\n",
      "Requirement already satisfied: fonttools>=4.22.0 in d:\\anaconda\\lib\\site-packages (from matplotlib==3.8.4->-r requirements.txt (line 3)) (4.51.0)\n",
      "Requirement already satisfied: kiwisolver>=1.3.1 in d:\\anaconda\\lib\\site-packages (from matplotlib==3.8.4->-r requirements.txt (line 3)) (1.4.4)\n",
      "Requirement already satisfied: numpy>=1.21 in d:\\anaconda\\lib\\site-packages (from matplotlib==3.8.4->-r requirements.txt (line 3)) (1.26.4)\n",
      "Requirement already satisfied: packaging>=20.0 in d:\\anaconda\\lib\\site-packages (from matplotlib==3.8.4->-r requirements.txt (line 3)) (23.2)\n",
      "Requirement already satisfied: pillow>=8 in d:\\anaconda\\lib\\site-packages (from matplotlib==3.8.4->-r requirements.txt (line 3)) (10.3.0)\n",
      "Requirement already satisfied: pyparsing>=2.3.1 in d:\\anaconda\\lib\\site-packages (from matplotlib==3.8.4->-r requirements.txt (line 3)) (3.0.9)\n",
      "Requirement already satisfied: python-dateutil>=2.7 in d:\\anaconda\\lib\\site-packages (from matplotlib==3.8.4->-r requirements.txt (line 3)) (2.9.0.post0)\n",
      "Requirement already satisfied: branca>=0.6.0 in d:\\anaconda\\lib\\site-packages (from folium==0.14.0->-r requirements.txt (line 6)) (0.6.0)\n",
      "Requirement already satisfied: jinja2>=2.9 in d:\\anaconda\\lib\\site-packages (from folium==0.14.0->-r requirements.txt (line 6)) (3.1.4)\n",
      "Requirement already satisfied: decorator in d:\\anaconda\\lib\\site-packages (from IPython==8.25.0->-r requirements.txt (line 7)) (5.1.1)\n",
      "Requirement already satisfied: jedi>=0.16 in d:\\anaconda\\lib\\site-packages (from IPython==8.25.0->-r requirements.txt (line 7)) (0.18.1)\n",
      "Requirement already satisfied: matplotlib-inline in d:\\anaconda\\lib\\site-packages (from IPython==8.25.0->-r requirements.txt (line 7)) (0.1.6)\n",
      "Requirement already satisfied: prompt-toolkit<3.1.0,>=3.0.41 in d:\\anaconda\\lib\\site-packages (from IPython==8.25.0->-r requirements.txt (line 7)) (3.0.43)\n",
      "Requirement already satisfied: pygments>=2.4.0 in d:\\anaconda\\lib\\site-packages (from IPython==8.25.0->-r requirements.txt (line 7)) (2.15.1)\n",
      "Requirement already satisfied: stack-data in d:\\anaconda\\lib\\site-packages (from IPython==8.25.0->-r requirements.txt (line 7)) (0.2.0)\n",
      "Requirement already satisfied: traitlets>=5.13.0 in d:\\anaconda\\lib\\site-packages (from IPython==8.25.0->-r requirements.txt (line 7)) (5.14.3)\n",
      "Requirement already satisfied: colorama in d:\\anaconda\\lib\\site-packages (from IPython==8.25.0->-r requirements.txt (line 7)) (0.4.6)\n",
      "Requirement already satisfied: parso<0.9.0,>=0.8.0 in d:\\anaconda\\lib\\site-packages (from jedi>=0.16->IPython==8.25.0->-r requirements.txt (line 7)) (0.8.3)\n",
      "Requirement already satisfied: MarkupSafe>=2.0 in d:\\anaconda\\lib\\site-packages (from jinja2>=2.9->folium==0.14.0->-r requirements.txt (line 6)) (2.1.3)\n",
      "Requirement already satisfied: wcwidth in d:\\anaconda\\lib\\site-packages (from prompt-toolkit<3.1.0,>=3.0.41->IPython==8.25.0->-r requirements.txt (line 7)) (0.2.5)\n",
      "Requirement already satisfied: six>=1.5 in d:\\anaconda\\lib\\site-packages (from python-dateutil>=2.7->matplotlib==3.8.4->-r requirements.txt (line 3)) (1.16.0)\n",
      "Requirement already satisfied: executing in d:\\anaconda\\lib\\site-packages (from stack-data->IPython==8.25.0->-r requirements.txt (line 7)) (0.8.3)\n",
      "Requirement already satisfied: asttokens in d:\\anaconda\\lib\\site-packages (from stack-data->IPython==8.25.0->-r requirements.txt (line 7)) (2.0.5)\n",
      "Requirement already satisfied: pure-eval in d:\\anaconda\\lib\\site-packages (from stack-data->IPython==8.25.0->-r requirements.txt (line 7)) (0.2.2)\n"
     ]
    }
   ],
   "source": [
    "%cd CanterburyCommuto\n",
    "!pip install -r requirements.txt"
   ]
  },
  {
   "cell_type": "markdown",
   "id": "c14ba06f-cca8-4237-b5b6-9b75616df80b",
   "metadata": {},
   "source": [
    "Add ! before python."
   ]
  },
  {
   "cell_type": "code",
   "execution_count": 6,
   "id": "4f6e4151-c340-45a8-bf3e-bcd995175bbe",
   "metadata": {},
   "outputs": [
    {
     "name": "stdout",
     "output_type": "stream",
     "text": [
      "CSV file saved as origin_destination_coordinates.csv\n"
     ]
    }
   ],
   "source": [
    "!python CanterburyCommuto/canterburycommuto/Sample.py"
   ]
  },
  {
   "cell_type": "markdown",
   "id": "534a8662-5527-452e-aea0-1d796da9b353",
   "metadata": {},
   "source": [
    "## Please replace \"API_KEY\" with your Google API Key in the following codes. "
   ]
  },
  {
   "cell_type": "markdown",
   "id": "1e26bef2-3f7c-430a-8e81-13f38f3b15bb",
   "metadata": {},
   "source": [
    "With approximation and commuting information before and after the overlap. The approximation threshold is 60% for the overlaps of rectangles contructed along the segments before and after the overlap. The rectangles' have the same width: 120 meters."
   ]
  },
  {
   "cell_type": "code",
   "execution_count": 9,
   "id": "6fb66cff-d103-4f27-8180-528141a2c7be",
   "metadata": {},
   "outputs": [
    {
     "name": "stdout",
     "output_type": "stream",
     "text": [
      "Routes A and B have identical origins and destinations: 5.373588,-3.998759 -> 5.327810,-4.005012\n",
      "Map saved to: C:\\Users\\HUAWEI\\CanterburyCommuto\\results\\routes_map-2025-04-09_16-34-50_99267.html\n",
      "<IPython.lib.display.IFrame object at 0x000001888DC5DF40>\n",
      "Map saved to: C:\\Users\\HUAWEI\\CanterburyCommuto\\results\\routes_map-2025-04-09_16-34-53_63558.html\n",
      "<IPython.lib.display.IFrame object at 0x000001888DCAD220>\n",
      "Map saved to: C:\\Users\\HUAWEI\\CanterburyCommuto\\results\\routes_map-2025-04-09_16-34-54_78865.html\n",
      "<IPython.lib.display.IFrame object at 0x000001888DCAF2F0>\n",
      "Map saved to: C:\\Users\\HUAWEI\\CanterburyCommuto\\results\\routes_map-2025-04-09_16-34-57_65502.html\n",
      "<IPython.lib.display.IFrame object at 0x000001888DDA6750>\n",
      "No common nodes found for these routes.\n",
      "Map saved to: C:\\Users\\HUAWEI\\CanterburyCommuto\\results\\routes_map-2025-04-09_16-34-57_20290.html\n",
      "<IPython.lib.display.IFrame object at 0x000001888DDEC560>\n",
      "Map saved to: C:\\Users\\HUAWEI\\CanterburyCommuto\\results\\routes_map-2025-04-09_16-34-59_10469.html\n",
      "<IPython.lib.display.IFrame object at 0x000001888DDA4980>\n",
      "Map saved to: C:\\Users\\HUAWEI\\CanterburyCommuto\\results\\routes_map-2025-04-09_16-35-00_23124.html\n",
      "<IPython.lib.display.IFrame object at 0x000001888CA781A0>\n",
      "Log file saved to: C:\\Users\\HUAWEI\\CanterburyCommuto\\results\\rec_output.log\n"
     ]
    }
   ],
   "source": [
    "!python -m canterburycommuto origin_destination_coordinates.csv \"API_KEY\" \\\n",
    "    --threshold 60 \\\n",
    "    --width 120 \\\n",
    "    --buffer 150 \\\n",
    "    --approximation \"yes\" \\\n",
    "    --commuting_info \"yes\" \\\n",
    "    --colorna \"home_A\" \\\n",
    "    --coldesta \"work_A\" \\\n",
    "    --colorib \"home_B\" \\\n",
    "    --colfestb \"work_B\" \\\n",
    "    --output_overlap \"rec_output.csv\" \\\n",
    "    --output_buffer \"buffer_output.csv\""
   ]
  },
  {
   "cell_type": "markdown",
   "id": "54f7aa01-07ca-49e0-9296-e23eeb506390",
   "metadata": {},
   "source": [
    "With approximation but without commuting information before and after the overlap. "
   ]
  },
  {
   "cell_type": "code",
   "execution_count": 11,
   "id": "f0bbaa5c-9e3c-496b-a20b-a581c86455b6",
   "metadata": {},
   "outputs": [
    {
     "name": "stdout",
     "output_type": "stream",
     "text": [
      "Routes A and B have identical origins and destinations: 5.373588,-3.998759 -> 5.327810,-4.005012\n",
      "Map saved to: C:\\Users\\HUAWEI\\CanterburyCommuto\\results\\routes_map-2025-04-09_16-35-03_20829.html\n",
      "<IPython.lib.display.IFrame object at 0x000001F252C5E330>\n",
      "Map saved to: C:\\Users\\HUAWEI\\CanterburyCommuto\\results\\routes_map-2025-04-09_16-35-04_34026.html\n",
      "<IPython.lib.display.IFrame object at 0x000001F252CB90D0>\n",
      "Map saved to: C:\\Users\\HUAWEI\\CanterburyCommuto\\results\\routes_map-2025-04-09_16-35-05_23908.html\n",
      "<IPython.lib.display.IFrame object at 0x000001F252CBAFF0>\n",
      "Map saved to: C:\\Users\\HUAWEI\\CanterburyCommuto\\results\\routes_map-2025-04-09_16-35-06_79815.html\n",
      "<IPython.lib.display.IFrame object at 0x000001F252D5A3C0>\n",
      "No common nodes found for these routes.\n",
      "Map saved to: C:\\Users\\HUAWEI\\CanterburyCommuto\\results\\routes_map-2025-04-09_16-35-06_80926.html\n",
      "<IPython.lib.display.IFrame object at 0x000001F252DA00E0>\n",
      "Map saved to: C:\\Users\\HUAWEI\\CanterburyCommuto\\results\\routes_map-2025-04-09_16-35-07_32354.html\n",
      "<IPython.lib.display.IFrame object at 0x000001F252DA1910>\n",
      "Map saved to: C:\\Users\\HUAWEI\\CanterburyCommuto\\results\\routes_map-2025-04-09_16-35-08_82834.html\n",
      "<IPython.lib.display.IFrame object at 0x000001F252DD80B0>\n",
      "Log file saved to: C:\\Users\\HUAWEI\\CanterburyCommuto\\results\\rec_only_output.log\n"
     ]
    }
   ],
   "source": [
    "!python -m canterburycommuto origin_destination_coordinates.csv \"API_KEY\" \\\n",
    "    --threshold 60 \\\n",
    "    --width 120 \\\n",
    "    --buffer 150 \\\n",
    "    --approximation \"yes\" \\\n",
    "    --commuting_info \"no\" \\\n",
    "    --colorna \"home_A\" \\\n",
    "    --coldesta \"work_A\" \\\n",
    "    --colorib \"home_B\" \\\n",
    "    --colfestb \"work_B\" \\\n",
    "    --output_overlap \"rec_only_output.csv\" \\\n",
    "    --output_buffer \"buffer_output.csv\""
   ]
  },
  {
   "cell_type": "markdown",
   "id": "430cb5c6-bc4b-4583-b683-19b56c00e986",
   "metadata": {},
   "source": [
    "Without approximation but with commuting information before and after the overlap"
   ]
  },
  {
   "cell_type": "code",
   "execution_count": 13,
   "id": "cf57fdf7-e1c8-4bf2-a997-4f169982deff",
   "metadata": {},
   "outputs": [
    {
     "name": "stdout",
     "output_type": "stream",
     "text": [
      "Routes A and B have identical origins and destinations: 5.373588,-3.998759 -> 5.327810,-4.005012\n",
      "Map saved to: C:\\Users\\HUAWEI\\CanterburyCommuto\\results\\routes_map-2025-04-09_16-35-11_70989.html\n",
      "<IPython.lib.display.IFrame object at 0x000001D5E67FE480>\n",
      "Map saved to: C:\\Users\\HUAWEI\\CanterburyCommuto\\results\\routes_map-2025-04-09_16-35-12_60755.html\n",
      "<IPython.lib.display.IFrame object at 0x000001D5E6854830>\n",
      "Map saved to: C:\\Users\\HUAWEI\\CanterburyCommuto\\results\\routes_map-2025-04-09_16-35-15_61070.html\n",
      "<IPython.lib.display.IFrame object at 0x000001D5E6856B40>\n",
      "Map saved to: C:\\Users\\HUAWEI\\CanterburyCommuto\\results\\routes_map-2025-04-09_16-35-16_72224.html\n",
      "<IPython.lib.display.IFrame object at 0x000001D5E68E4DD0>\n",
      "No common nodes found for these routes.\n",
      "Map saved to: C:\\Users\\HUAWEI\\CanterburyCommuto\\results\\routes_map-2025-04-09_16-35-17_45592.html\n",
      "<IPython.lib.display.IFrame object at 0x000001D5E68E6D50>\n",
      "Map saved to: C:\\Users\\HUAWEI\\CanterburyCommuto\\results\\routes_map-2025-04-09_16-35-18_43283.html\n",
      "<IPython.lib.display.IFrame object at 0x000001D5E6930890>\n",
      "Map saved to: C:\\Users\\HUAWEI\\CanterburyCommuto\\results\\routes_map-2025-04-09_16-35-20_87010.html\n",
      "<IPython.lib.display.IFrame object at 0x000001D5E6933350>\n",
      "Log file saved to: C:\\Users\\HUAWEI\\CanterburyCommuto\\results\\route_output.log\n"
     ]
    }
   ],
   "source": [
    "!python -m canterburycommuto origin_destination_coordinates.csv \"API_KEY\" \\\n",
    "    --threshold 60 \\\n",
    "    --width 120 \\\n",
    "    --buffer 150 \\\n",
    "    --approximation \"no\" \\\n",
    "    --commuting_info \"yes\" \\\n",
    "    --colorna \"home_A\" \\\n",
    "    --coldesta \"work_A\" \\\n",
    "    --colorib \"home_B\" \\\n",
    "    --colfestb \"work_B\" \\\n",
    "    --output_overlap \"route_output.csv\" \\\n",
    "    --output_buffer \"buffer_output.csv\""
   ]
  },
  {
   "cell_type": "markdown",
   "id": "cff1bdc9-95c6-45b9-9fdf-7f3656bc8958",
   "metadata": {},
   "source": [
    "Without approximation or commuting information before and after the overlap"
   ]
  },
  {
   "cell_type": "code",
   "execution_count": 15,
   "id": "05f43809-23af-4add-bb91-95b569882131",
   "metadata": {},
   "outputs": [
    {
     "name": "stdout",
     "output_type": "stream",
     "text": [
      "Routes A and B have identical origins and destinations: 5.373588,-3.998759 -> 5.327810,-4.005012\n",
      "Map saved to: C:\\Users\\HUAWEI\\CanterburyCommuto\\results\\routes_map-2025-04-09_16-35-23_82993.html\n",
      "<IPython.lib.display.IFrame object at 0x000002B49503E630>\n",
      "Map saved to: C:\\Users\\HUAWEI\\CanterburyCommuto\\results\\routes_map-2025-04-09_16-35-23_98040.html\n",
      "<IPython.lib.display.IFrame object at 0x000002B495090800>\n",
      "Map saved to: C:\\Users\\HUAWEI\\CanterburyCommuto\\results\\routes_map-2025-04-09_16-35-24_16035.html\n",
      "<IPython.lib.display.IFrame object at 0x000002B4950920F0>\n",
      "Map saved to: C:\\Users\\HUAWEI\\CanterburyCommuto\\results\\routes_map-2025-04-09_16-35-24_56212.html\n",
      "<IPython.lib.display.IFrame object at 0x000002B495130650>\n",
      "No common nodes found for these routes.\n",
      "Map saved to: C:\\Users\\HUAWEI\\CanterburyCommuto\\results\\routes_map-2025-04-09_16-35-25_91181.html\n",
      "<IPython.lib.display.IFrame object at 0x000002B4951328A0>\n",
      "Map saved to: C:\\Users\\HUAWEI\\CanterburyCommuto\\results\\routes_map-2025-04-09_16-35-25_89425.html\n",
      "<IPython.lib.display.IFrame object at 0x000002B4951809B0>\n",
      "Map saved to: C:\\Users\\HUAWEI\\CanterburyCommuto\\results\\routes_map-2025-04-09_16-35-26_37903.html\n",
      "<IPython.lib.display.IFrame object at 0x000002B495182BA0>\n",
      "Log file saved to: C:\\Users\\HUAWEI\\CanterburyCommuto\\results\\route_only_output.log\n"
     ]
    }
   ],
   "source": [
    "!python -m canterburycommuto origin_destination_coordinates.csv \"API_KEY\" \\\n",
    "    --threshold 60 \\\n",
    "    --width 120 \\\n",
    "    --buffer 150 \\\n",
    "    --approximation \"no\" \\\n",
    "    --commuting_info \"no\" \\\n",
    "    --colorna \"home_A\" \\\n",
    "    --coldesta \"work_A\" \\\n",
    "    --colorib \"home_B\" \\\n",
    "    --colfestb \"work_B\" \\\n",
    "    --output_overlap \"route_only_output.csv\" \\\n",
    "    --output_buffer \"buffer_output.csv\""
   ]
  },
  {
   "cell_type": "markdown",
   "id": "58a5227b-5b17-4116-a0e9-b1ef920e4af5",
   "metadata": {},
   "source": [
    "Buffer Method, as described in README.md; buffer length is 150 meters."
   ]
  },
  {
   "cell_type": "code",
   "execution_count": 17,
   "id": "a266f6f3-8159-4bcd-98fa-51cb7e292ec9",
   "metadata": {},
   "outputs": [
    {
     "name": "stdout",
     "output_type": "stream",
     "text": [
      "Map saved to: C:\\Users\\HUAWEI\\CanterburyCommuto\\results\\routes_with_buffers_map-2025-04-09_16-35-29_77008.html\n",
      "<IPython.lib.display.IFrame object at 0x0000022FC3DA6A80>\n",
      "Map has been displayed inline and saved as 'results\\routes_with_buffers_map-2025-04-09_16-35-29_77008.html'.\n",
      "Map saved to: C:\\Users\\HUAWEI\\CanterburyCommuto\\results\\routes_with_buffers_map-2025-04-09_16-35-30_33586.html\n",
      "<IPython.lib.display.IFrame object at 0x0000022FC3E0CB00>\n",
      "Map has been displayed inline and saved as 'results\\routes_with_buffers_map-2025-04-09_16-35-30_33586.html'.\n",
      "Map saved to: C:\\Users\\HUAWEI\\CanterburyCommuto\\results\\routes_with_buffers_map-2025-04-09_16-35-31_17821.html\n",
      "<IPython.lib.display.IFrame object at 0x0000022FC3E0E870>\n",
      "Map has been displayed inline and saved as 'results\\routes_with_buffers_map-2025-04-09_16-35-31_17821.html'.\n",
      "Map saved to: C:\\Users\\HUAWEI\\CanterburyCommuto\\results\\routes_with_buffers_map-2025-04-09_16-35-32_77235.html\n",
      "<IPython.lib.display.IFrame object at 0x0000022FC3F9D100>\n",
      "Map has been displayed inline and saved as 'results\\routes_with_buffers_map-2025-04-09_16-35-32_77235.html'.\n",
      "Map saved to: C:\\Users\\HUAWEI\\CanterburyCommuto\\results\\routes_with_buffers_map-2025-04-09_16-35-33_33165.html\n",
      "<IPython.lib.display.IFrame object at 0x0000022FC3E0E030>\n",
      "Map has been displayed inline and saved as 'results\\routes_with_buffers_map-2025-04-09_16-35-33_33165.html'.\n",
      "Map saved to: C:\\Users\\HUAWEI\\CanterburyCommuto\\results\\routes_with_buffers_map-2025-04-09_16-35-34_82663.html\n",
      "<IPython.lib.display.IFrame object at 0x0000022FC3E0F230>\n",
      "Map has been displayed inline and saved as 'results\\routes_with_buffers_map-2025-04-09_16-35-34_82663.html'.\n",
      "Map saved to: C:\\Users\\HUAWEI\\CanterburyCommuto\\results\\routes_with_buffers_map-2025-04-09_16-35-35_52538.html\n",
      "<IPython.lib.display.IFrame object at 0x0000022FC3E0E1E0>\n",
      "Map has been displayed inline and saved as 'results\\routes_with_buffers_map-2025-04-09_16-35-35_52538.html'.\n",
      "Log file saved to: C:\\Users\\HUAWEI\\CanterburyCommuto\\results\\buffer_percentage_output.log\n"
     ]
    }
   ],
   "source": [
    "!python -m canterburycommuto origin_destination_coordinates.csv \"API_KEY\" \\\n",
    "    --threshold 60 \\\n",
    "    --width 120 \\\n",
    "    --buffer 150 \\\n",
    "    --approximation \"yes with buffer\" \\\n",
    "    --commuting_info \"yes\" \\\n",
    "    --colorna \"home_A\" \\\n",
    "    --coldesta \"work_A\" \\\n",
    "    --colorib \"home_B\" \\\n",
    "    --colfestb \"work_B\" \\\n",
    "    --output_overlap \"buffer_percentage_output.csv\" \\\n",
    "    --output_buffer \"buffer_output.csv\""
   ]
  },
  {
   "cell_type": "markdown",
   "id": "113476d0-9504-4dc7-8820-d3fe221b7e5c",
   "metadata": {},
   "source": [
    "Uses the closest route nodes to the intersection points between the routes and the overlapping buffer polygon and with commuting information before and after the overlap"
   ]
  },
  {
   "cell_type": "code",
   "execution_count": 19,
   "id": "392c35a7-f091-4e4c-a7fc-383fe1e374a0",
   "metadata": {},
   "outputs": [
    {
     "name": "stdout",
     "output_type": "stream",
     "text": [
      "Map saved to: C:\\Users\\HUAWEI\\CanterburyCommuto\\results\\routes_with_buffers_map-2025-04-09_16-35-37_16295.html\n",
      "<IPython.lib.display.IFrame object at 0x000001F34C49E6C0>\n",
      "Map has been displayed inline and saved as 'results\\routes_with_buffers_map-2025-04-09_16-35-37_16295.html'.\n",
      "Before segment: ([(5.37344, -3.99877)], 0.0, 0.0)\n",
      "During segment: ([(5.37344, -3.99877), (5.37345, -3.99855), (5.37347, -3.99848), (5.37337, -3.99847), (5.37305, -3.99846), (5.37275, -3.99846), (5.37218, -3.99841), (5.37171, -3.99833), (5.37142, -3.99829), (5.37099, -3.99825), (5.3707, -3.99825), (5.37022, -3.99825), (5.36842, -3.99825), (5.36763, -3.99825), (5.36717, -3.99823), (5.36692, -3.99815), (5.36679, -3.99808), (5.36653, -3.99784), (5.3663, -3.99764), (5.36608, -3.99754), (5.36598, -3.99752), (5.36516, -3.9975), (5.36157, -3.99751), (5.36125, -3.99755), (5.36101, -3.99763), (5.36091, -3.99768), (5.36071, -3.99782), (5.36055, -3.99798), (5.36035, -3.99822), (5.35951, -3.9994), (5.3587, -4.0005), (5.35831, -4.00098), (5.35802, -4.00123), (5.35778, -4.00134), (5.35727, -4.00144), (5.35612, -4.00158), (5.35513, -4.0017), (5.35329, -4.00194), (5.35009, -4.00233), (5.34813, -4.00255), (5.34687, -4.00267), (5.34554, -4.00282), (5.34508, -4.00287), (5.34413, -4.00303), (5.34407, -4.00309), (5.344, -4.00311), (5.34393, -4.00309), (5.3439, -4.00308), (5.34307, -4.00318), (5.34066, -4.00349), (5.33832, -4.00378), (5.33683, -4.00397), (5.3364, -4.00402), (5.33622, -4.00405), (5.33612, -4.00403), (5.33608, -4.00407), (5.33603, -4.00409), (5.33597, -4.00408), (5.33595, -4.00407), (5.33593, -4.00405), (5.3359, -4.00406), (5.33583, -4.00409), (5.33568, -4.0041), (5.33532, -4.00412), (5.33444, -4.00425), (5.33215, -4.00454), (5.32797, -4.00505)], 5.348, 13.0)\n",
      "After segment: ([(5.32797, -4.00505)], 0.0, 0.0)\n",
      "Map saved to: C:\\Users\\HUAWEI\\CanterburyCommuto\\results\\routes_with_buffers_map-2025-04-09_16-35-38_22298.html\n",
      "<IPython.lib.display.IFrame object at 0x000001F34C580EC0>\n",
      "Map has been displayed inline and saved as 'results\\routes_with_buffers_map-2025-04-09_16-35-38_22298.html'.\n",
      "Before segment: ([(5.37344, -3.99877), (5.37345, -3.99855), (5.37347, -3.99848), (5.37337, -3.99847), (5.37305, -3.99846), (5.37275, -3.99846), (5.37218, -3.99841), (5.37171, -3.99833), (5.37142, -3.99829), (5.37099, -3.99825), (5.3707, -3.99825), (5.37022, -3.99825), (5.36842, -3.99825), (5.36763, -3.99825), (5.36717, -3.99823), (5.36692, -3.99815), (5.36679, -3.99808), (5.36653, -3.99784), (5.3663, -3.99764), (5.36608, -3.99754), (5.36598, -3.99752), (5.36516, -3.9975), (5.36157, -3.99751)], 1.382, 3.6333333333333333)\n",
      "During segment: ([(5.36157, -3.99751), (5.36125, -3.99755), (5.36101, -3.99763), (5.36091, -3.99768), (5.36071, -3.99782), (5.36055, -3.99798), (5.36035, -3.99822), (5.35951, -3.9994), (5.3587, -4.0005), (5.35831, -4.00098), (5.35802, -4.00123), (5.35778, -4.00134), (5.35727, -4.00144), (5.35612, -4.00158), (5.35513, -4.0017), (5.35329, -4.00194), (5.35009, -4.00233), (5.34813, -4.00255), (5.34687, -4.00267), (5.34554, -4.00282), (5.34508, -4.00287), (5.34413, -4.00303), (5.34407, -4.00309), (5.344, -4.00311), (5.34393, -4.00309), (5.3439, -4.00308), (5.34307, -4.00318), (5.34066, -4.00349), (5.33832, -4.00378), (5.33683, -4.00397), (5.3364, -4.00402), (5.33622, -4.00405), (5.33612, -4.00403), (5.33608, -4.00407), (5.33603, -4.00409), (5.33597, -4.00408), (5.33595, -4.00407), (5.33593, -4.00405), (5.3359, -4.00406), (5.33583, -4.00409), (5.33568, -4.0041), (5.33532, -4.00412), (5.33444, -4.00425), (5.33215, -4.00454)], 3.498, 8.383333333333333)\n",
      "After segment: ([(5.33215, -4.00454), (5.32797, -4.00505)], 0.468, 0.9833333333333333)\n",
      "Map saved to: C:\\Users\\HUAWEI\\CanterburyCommuto\\results\\routes_with_buffers_map-2025-04-09_16-35-39_26558.html\n",
      "<IPython.lib.display.IFrame object at 0x000001F34C5837A0>\n",
      "Map has been displayed inline and saved as 'results\\routes_with_buffers_map-2025-04-09_16-35-39_26558.html'.\n",
      "Before segment: ([(5.37344, -3.99877), (5.37345, -3.99855), (5.37347, -3.99848), (5.37337, -3.99847), (5.37305, -3.99846), (5.37275, -3.99846), (5.37218, -3.99841), (5.37171, -3.99833), (5.37142, -3.99829), (5.37099, -3.99825), (5.3707, -3.99825), (5.37022, -3.99825), (5.36842, -3.99825)], 0.595, 1.9)\n",
      "During segment: ([(5.36842, -3.99825), (5.36763, -3.99825), (5.36717, -3.99823), (5.36692, -3.99815), (5.36679, -3.99808), (5.36653, -3.99784), (5.3663, -3.99764), (5.36608, -3.99754), (5.36598, -3.99752), (5.36516, -3.9975), (5.36298, -3.99751), (5.36157, -3.99751), (5.36125, -3.99755), (5.36101, -3.99763), (5.36091, -3.99768), (5.36071, -3.99782), (5.36055, -3.99798), (5.36035, -3.99822), (5.35951, -3.9994), (5.3587, -4.0005), (5.35831, -4.00098), (5.35802, -4.00123), (5.35778, -4.00134), (5.35727, -4.00144), (5.35612, -4.00158), (5.35513, -4.0017), (5.35443, -4.0018), (5.35195, -4.0021), (5.35009, -4.00233), (5.34813, -4.00255), (5.34687, -4.00267), (5.34554, -4.00282), (5.34465, -4.00295), (5.34413, -4.00303), (5.3441, -4.00306), (5.34404, -4.0031), (5.34396, -4.00311), (5.3439, -4.00308), (5.34244, -4.00326), (5.33887, -4.00371), (5.33769, -4.00386), (5.3364, -4.00402), (5.33622, -4.00405), (5.33612, -4.00403), (5.33608, -4.00407), (5.33603, -4.00409), (5.33597, -4.00408), (5.33595, -4.00407), (5.33593, -4.00405), (5.3359, -4.00406), (5.33583, -4.00409), (5.33568, -4.0041), (5.33532, -4.00412)], 3.93, 9.5)\n",
      "After segment: ([(5.33532, -4.00412), (5.33444, -4.00425), (5.33339, -4.00439), (5.32986, -4.00482), (5.32797, -4.00505)], 0.824, 1.5833333333333333)\n",
      "Map saved to: C:\\Users\\HUAWEI\\CanterburyCommuto\\results\\routes_with_buffers_map-2025-04-09_16-35-40_96338.html\n",
      "<IPython.lib.display.IFrame object at 0x000001F34C5C2570>\n",
      "Map has been displayed inline and saved as 'results\\routes_with_buffers_map-2025-04-09_16-35-40_96338.html'.\n",
      "Before segment: ([(5.37344, -3.99877), (5.37345, -3.99855), (5.37347, -3.99848), (5.37337, -3.99847), (5.37305, -3.99846), (5.37275, -3.99846), (5.37218, -3.99841), (5.37171, -3.99833), (5.37142, -3.99829), (5.37099, -3.99825), (5.3707, -3.99825), (5.37022, -3.99825), (5.36842, -3.99825), (5.36763, -3.99825), (5.36717, -3.99823), (5.36692, -3.99815), (5.36679, -3.99808), (5.36653, -3.99784), (5.3663, -3.99764), (5.36608, -3.99754), (5.36598, -3.99752), (5.36516, -3.9975), (5.36157, -3.99751), (5.36125, -3.99755), (5.36101, -3.99763), (5.36091, -3.99768), (5.36071, -3.99782), (5.36055, -3.99798), (5.36035, -3.99822), (5.35951, -3.9994), (5.3587, -4.0005), (5.35831, -4.00098), (5.35802, -4.00123), (5.35778, -4.00134), (5.35727, -4.00144), (5.35612, -4.00158), (5.35513, -4.0017), (5.35329, -4.00194), (5.35009, -4.00233), (5.34813, -4.00255), (5.34687, -4.00267), (5.34554, -4.00282), (5.34508, -4.00287), (5.34465, -4.00295), (5.34413, -4.00303)], 3.528, 8.633333333333333)\n",
      "During segment: ([(5.34412, -4.00305), (5.34406, -4.0031), (5.34398, -4.00311), (5.34392, -4.00309), (5.3439, -4.00308), (5.34369, -4.0031), (5.3428, -4.00321), (5.33983, -4.0036), (5.33796, -4.00382), (5.33673, -4.00398), (5.3364, -4.00402), (5.33622, -4.00405), (5.33612, -4.00403), (5.3361, -4.00405), (5.33603, -4.00409), (5.33595, -4.00407), (5.33593, -4.00405), (5.3359, -4.00406), (5.33583, -4.00409), (5.3355, -4.0041), (5.33532, -4.00412)], 0.994, 2.7333333333333334)\n",
      "After segment: ([(5.33532, -4.00412), (5.33444, -4.00425), (5.33339, -4.00439), (5.32986, -4.00482), (5.32797, -4.00505)], 0.824, 1.5833333333333333)\n",
      "Map saved to: C:\\Users\\HUAWEI\\CanterburyCommuto\\results\\routes_with_buffers_map-2025-04-09_16-35-42_40527.html\n",
      "<IPython.lib.display.IFrame object at 0x000001F34C582570>\n",
      "Map has been displayed inline and saved as 'results\\routes_with_buffers_map-2025-04-09_16-35-42_40527.html'.\n",
      "Before segment: ([(5.37344, -3.99877), (5.37345, -3.99855), (5.37347, -3.99848), (5.37337, -3.99847), (5.37305, -3.99846), (5.37275, -3.99846), (5.37218, -3.99841), (5.37171, -3.99833), (5.37142, -3.99829), (5.37099, -3.99825), (5.3707, -3.99825), (5.37022, -3.99825), (5.36842, -3.99825), (5.36763, -3.99825), (5.36717, -3.99823), (5.36692, -3.99815), (5.36679, -3.99808), (5.36653, -3.99784), (5.3663, -3.99764), (5.36608, -3.99754), (5.36598, -3.99752), (5.36516, -3.9975), (5.36157, -3.99751), (5.36125, -3.99755), (5.36101, -3.99763), (5.36091, -3.99768), (5.36071, -3.99782), (5.36055, -3.99798), (5.36035, -3.99822), (5.35951, -3.9994), (5.3587, -4.0005), (5.35831, -4.00098), (5.35802, -4.00123), (5.35778, -4.00134), (5.35727, -4.00144), (5.35612, -4.00158), (5.35513, -4.0017), (5.35329, -4.00194), (5.35009, -4.00233), (5.34813, -4.00255)], 3.08, 7.65)\n",
      "During segment: ([(5.34813, -4.00255), (5.34598, -4.00277), (5.34473, -4.00293), (5.34453, -4.00297), (5.34413, -4.00303), (5.34411, -4.00306), (5.34405, -4.0031), (5.34397, -4.00311), (5.34392, -4.00309)], 0.475, 1.0833333333333333)\n",
      "After segment: ([(5.3439, -4.00307), (5.34227, -4.00328), (5.33867, -4.00373), (5.33751, -4.00388), (5.3368, -4.00397), (5.33653, -4.00399), (5.33629, -4.00404), (5.33618, -4.00404), (5.33612, -4.00403), (5.33605, -4.00408), (5.33595, -4.00407), (5.33593, -4.00405), (5.33588, -4.00408), (5.33559, -4.00411), (5.33515, -4.00414), (5.33444, -4.00425), (5.33296, -4.00444), (5.32917, -4.00491), (5.32797, -4.00505)], 1.79, 4.25)\n",
      "Map saved to: C:\\Users\\HUAWEI\\CanterburyCommuto\\results\\routes_with_buffers_map-2025-04-09_16-35-43_18513.html\n",
      "<IPython.lib.display.IFrame object at 0x000001F34C583410>\n",
      "Map has been displayed inline and saved as 'results\\routes_with_buffers_map-2025-04-09_16-35-43_18513.html'.\n",
      "Before segment: ([(5.36172, -3.99001), (5.36173, -3.99116), (5.36172, -3.99224), (5.36173, -3.99256), (5.36177, -3.99304), (5.36187, -3.99335), (5.36222, -3.99399), (5.36237, -3.9944), (5.36244, -3.99478), (5.36245, -3.99699)], 0.789, 1.6166666666666667)\n",
      "During segment: ([(5.36245, -3.99699), (5.36244, -3.9975), (5.36167, -3.99751), (5.36132, -3.99753), (5.36101, -3.99763), (5.36085, -3.99772), (5.36062, -3.99791), (5.36036, -3.9982), (5.35969, -3.99914), (5.35894, -4.00016), (5.35837, -4.00092), (5.35823, -4.00105), (5.35796, -4.00127), (5.35761, -4.00139), (5.35719, -4.00145), (5.35539, -4.00167), (5.3545, -4.00179), (5.35216, -4.00208), (5.34852, -4.00252), (5.34598, -4.00277), (5.34473, -4.00293), (5.34453, -4.00297), (5.34413, -4.00303), (5.34411, -4.00306), (5.34405, -4.0031), (5.34397, -4.00311), (5.34391, -4.00308), (5.34351, -4.00312), (5.34275, -4.00322), (5.33911, -4.00369), (5.33772, -4.00385), (5.33706, -4.00394), (5.33653, -4.00399), (5.33629, -4.00404), (5.33618, -4.00404), (5.33612, -4.00403), (5.3361, -4.00405), (5.33605, -4.00408), (5.336, -4.00409), (5.33593, -4.00405), (5.33588, -4.00408), (5.33576, -4.00409), (5.33542, -4.00411), (5.33515, -4.00414)], 3.314, 8.433333333333334)\n",
      "After segment: ([(5.33515, -4.00414), (5.33444, -4.00425), (5.33296, -4.00444), (5.33159, -4.00461), (5.33031, -4.00476), (5.3302, -4.004), (5.33002, -4.00261), (5.32991, -4.00158), (5.32984, -4.00099), (5.32914, -4.00107), (5.32722, -4.00131), (5.32602, -4.00145), (5.32509, -4.00158), (5.32477, -4.00163), (5.32441, -4.00172), (5.32365, -4.00194), (5.32275, -4.0022)], 1.765, 4.683333333333334)\n",
      "Map saved to: C:\\Users\\HUAWEI\\CanterburyCommuto\\results\\routes_with_buffers_map-2025-04-09_16-35-45_78900.html\n",
      "<IPython.lib.display.IFrame object at 0x000001F34C5831A0>\n",
      "Map has been displayed inline and saved as 'results\\routes_with_buffers_map-2025-04-09_16-35-45_78900.html'.\n",
      "Before segment: ([(5.35576, -3.96982)], 0.0, 0.0)\n",
      "During segment: ([(5.35576, -3.96982), (5.35617, -3.96841), (5.3565, -3.9676), (5.35645, -3.96755), (5.35643, -3.96748), (5.35644, -3.96736), (5.35651, -3.96727), (5.35658, -3.96724), (5.35665, -3.96723), (5.35676, -3.96727), (5.35681, -3.96733), (5.35683, -3.9674), (5.35683, -3.96747), (5.35678, -3.96758), (5.35665, -3.96763), (5.35661, -3.96764), (5.35646, -3.96799), (5.35617, -3.96882), (5.35588, -3.9698), (5.35574, -3.97029), (5.35561, -3.97081), (5.35549, -3.97117), (5.35521, -3.97201), (5.35496, -3.97288), (5.35464, -3.97391), (5.35427, -3.97522), (5.35409, -3.97592), (5.35373, -3.97724), (5.35326, -3.97881), (5.35244, -3.98144), (5.35205, -3.98263), (5.35178, -3.98337), (5.3509, -3.98644), (5.34987, -3.99015), (5.34967, -3.99082), (5.34955, -3.99133), (5.34942, -3.99198), (5.34936, -3.99233), (5.34931, -3.99285), (5.3493, -3.99347), (5.34948, -3.99587), (5.34946, -3.99629), (5.3494, -3.99695), (5.34886, -3.99695), (5.34852, -3.99699), (5.34736, -3.99714), (5.3458, -3.99735), (5.34538, -3.9974), (5.34449, -3.99828), (5.34387, -3.9989), (5.34376, -3.99905), (5.34369, -3.99918), (5.34363, -3.99935), (5.3436, -3.99955), (5.34362, -3.99985), (5.34367, -4.00018), (5.34375, -4.00055), (5.34386, -4.00141), (5.34394, -4.00197), (5.34408, -4.00284), (5.34411, -4.00288), (5.34414, -4.00295), (5.34413, -4.00302), (5.34409, -4.00308), (5.34402, -4.00311), (5.34394, -4.0031), (5.34392, -4.00309), (5.3439, -4.00308), (5.34369, -4.0031)], 4.97, 11.233333333333333)\n",
      "After segment: ([(5.34369, -4.0031), (5.34137, -4.0034), (5.33861, -4.00374), (5.33716, -4.00392), (5.33673, -4.00398), (5.3364, -4.00402), (5.33622, -4.00405), (5.33612, -4.00403), (5.3361, -4.00405), (5.33614, -4.0041), (5.33619, -4.00487), (5.33621, -4.00533), (5.3362, -4.0055), (5.33607, -4.00553), (5.33542, -4.00564), (5.33519, -4.00568), (5.33476, -4.00579), (5.33454, -4.00586), (5.33428, -4.00601), (5.33401, -4.00621), (5.33345, -4.00678), (5.33323, -4.00699)], 1.396, 4.216666666666667)\n",
      "Log file saved to: C:\\Users\\HUAWEI\\CanterburyCommuto\\results\\closest_node_output.log\n"
     ]
    }
   ],
   "source": [
    "!python -m canterburycommuto origin_destination_coordinates.csv \"API_KEY\" \\\n",
    "    --threshold 50 \\\n",
    "    --width 100 \\\n",
    "    --buffer 100 \\\n",
    "    --approximation \"closer to precision\" \\\n",
    "    --commuting_info \"yes\" \\\n",
    "    --colorna \"home_A\" \\\n",
    "    --coldesta \"work_A\" \\\n",
    "    --colorib \"home_B\" \\\n",
    "    --colfestb \"work_B\" \\\n",
    "    --output_overlap \"closest_node_output.csv\" \\\n",
    "    --output_buffer \"closest_node.csv\""
   ]
  },
  {
   "cell_type": "markdown",
   "id": "40f02a3b-bc54-440c-8e54-d9615038ef1b",
   "metadata": {},
   "source": [
    "Uses the closest route nodes to the intersection points between the routes and the overlapping buffer polygon and but without commuting information before and after the overlap"
   ]
  },
  {
   "cell_type": "code",
   "execution_count": 21,
   "id": "306c13ad-2428-4ce4-9997-4e84ba66a7c9",
   "metadata": {},
   "outputs": [
    {
     "name": "stdout",
     "output_type": "stream",
     "text": [
      "Map saved to: C:\\Users\\HUAWEI\\CanterburyCommuto\\results\\routes_with_buffers_map-2025-04-09_16-35-48_65386.html\n",
      "<IPython.lib.display.IFrame object at 0x00000273EF051460>\n",
      "Map has been displayed inline and saved as 'results\\routes_with_buffers_map-2025-04-09_16-35-48_65386.html'.\n",
      "Before segment: ([(5.37344, -3.99877)], 0.0, 0.0)\n",
      "During segment: ([(5.37344, -3.99877), (5.37345, -3.99855), (5.37347, -3.99848), (5.37337, -3.99847), (5.37305, -3.99846), (5.37275, -3.99846), (5.37218, -3.99841), (5.37171, -3.99833), (5.37142, -3.99829), (5.37099, -3.99825), (5.3707, -3.99825), (5.37022, -3.99825), (5.36842, -3.99825), (5.36763, -3.99825), (5.36717, -3.99823), (5.36692, -3.99815), (5.36679, -3.99808), (5.36653, -3.99784), (5.3663, -3.99764), (5.36608, -3.99754), (5.36598, -3.99752), (5.36516, -3.9975), (5.36157, -3.99751), (5.36125, -3.99755), (5.36101, -3.99763), (5.36091, -3.99768), (5.36071, -3.99782), (5.36055, -3.99798), (5.36035, -3.99822), (5.35951, -3.9994), (5.3587, -4.0005), (5.35831, -4.00098), (5.35802, -4.00123), (5.35778, -4.00134), (5.35727, -4.00144), (5.35612, -4.00158), (5.35513, -4.0017), (5.35329, -4.00194), (5.35009, -4.00233), (5.34813, -4.00255), (5.34687, -4.00267), (5.34554, -4.00282), (5.34508, -4.00287), (5.34413, -4.00303), (5.34407, -4.00309), (5.344, -4.00311), (5.34393, -4.00309), (5.3439, -4.00308), (5.34307, -4.00318), (5.34066, -4.00349), (5.33832, -4.00378), (5.33683, -4.00397), (5.3364, -4.00402), (5.33622, -4.00405), (5.33612, -4.00403), (5.33608, -4.00407), (5.33603, -4.00409), (5.33597, -4.00408), (5.33595, -4.00407), (5.33593, -4.00405), (5.3359, -4.00406), (5.33583, -4.00409), (5.33568, -4.0041), (5.33532, -4.00412), (5.33444, -4.00425), (5.33215, -4.00454), (5.32797, -4.00505)], 5.348, 13.0)\n",
      "After segment: ([(5.32797, -4.00505)], 0.0, 0.0)\n",
      "Map saved to: C:\\Users\\HUAWEI\\CanterburyCommuto\\results\\routes_with_buffers_map-2025-04-09_16-35-49_81117.html\n",
      "<IPython.lib.display.IFrame object at 0x00000273F02911F0>\n",
      "Map has been displayed inline and saved as 'results\\routes_with_buffers_map-2025-04-09_16-35-49_81117.html'.\n",
      "Before segment: ([(5.37344, -3.99877), (5.37345, -3.99855), (5.37347, -3.99848), (5.37337, -3.99847), (5.37305, -3.99846), (5.37275, -3.99846), (5.37218, -3.99841), (5.37171, -3.99833), (5.37142, -3.99829), (5.37099, -3.99825), (5.3707, -3.99825), (5.37022, -3.99825), (5.36842, -3.99825), (5.36763, -3.99825), (5.36717, -3.99823), (5.36692, -3.99815), (5.36679, -3.99808), (5.36653, -3.99784), (5.3663, -3.99764), (5.36608, -3.99754), (5.36598, -3.99752), (5.36516, -3.9975), (5.36157, -3.99751)], 1.382, 3.6333333333333333)\n",
      "During segment: ([(5.36157, -3.99751), (5.36125, -3.99755), (5.36101, -3.99763), (5.36091, -3.99768), (5.36071, -3.99782), (5.36055, -3.99798), (5.36035, -3.99822), (5.35951, -3.9994), (5.3587, -4.0005), (5.35831, -4.00098), (5.35802, -4.00123), (5.35778, -4.00134), (5.35727, -4.00144), (5.35612, -4.00158), (5.35513, -4.0017), (5.35329, -4.00194), (5.35009, -4.00233), (5.34813, -4.00255), (5.34687, -4.00267), (5.34554, -4.00282), (5.34508, -4.00287), (5.34413, -4.00303), (5.34407, -4.00309), (5.344, -4.00311), (5.34393, -4.00309), (5.3439, -4.00308), (5.34307, -4.00318), (5.34066, -4.00349), (5.33832, -4.00378), (5.33683, -4.00397), (5.3364, -4.00402), (5.33622, -4.00405), (5.33612, -4.00403), (5.33608, -4.00407), (5.33603, -4.00409), (5.33597, -4.00408), (5.33595, -4.00407), (5.33593, -4.00405), (5.3359, -4.00406), (5.33583, -4.00409), (5.33568, -4.0041), (5.33532, -4.00412), (5.33444, -4.00425), (5.33215, -4.00454)], 3.498, 8.383333333333333)\n",
      "After segment: ([(5.33215, -4.00454), (5.32797, -4.00505)], 0.468, 0.9833333333333333)\n",
      "Map saved to: C:\\Users\\HUAWEI\\CanterburyCommuto\\results\\routes_with_buffers_map-2025-04-09_16-35-50_12527.html\n",
      "<IPython.lib.display.IFrame object at 0x00000273F02939B0>\n",
      "Map has been displayed inline and saved as 'results\\routes_with_buffers_map-2025-04-09_16-35-50_12527.html'.\n",
      "Before segment: ([(5.37344, -3.99877), (5.37345, -3.99855), (5.37347, -3.99848), (5.37337, -3.99847), (5.37305, -3.99846), (5.37275, -3.99846), (5.37218, -3.99841), (5.37171, -3.99833), (5.37142, -3.99829), (5.37099, -3.99825), (5.3707, -3.99825), (5.37022, -3.99825), (5.36842, -3.99825)], 0.595, 1.9)\n",
      "During segment: ([(5.36842, -3.99825), (5.36763, -3.99825), (5.36717, -3.99823), (5.36692, -3.99815), (5.36679, -3.99808), (5.36653, -3.99784), (5.3663, -3.99764), (5.36608, -3.99754), (5.36598, -3.99752), (5.36516, -3.9975), (5.36298, -3.99751), (5.36157, -3.99751), (5.36125, -3.99755), (5.36101, -3.99763), (5.36091, -3.99768), (5.36071, -3.99782), (5.36055, -3.99798), (5.36035, -3.99822), (5.35951, -3.9994), (5.3587, -4.0005), (5.35831, -4.00098), (5.35802, -4.00123), (5.35778, -4.00134), (5.35727, -4.00144), (5.35612, -4.00158), (5.35513, -4.0017), (5.35443, -4.0018), (5.35195, -4.0021), (5.35009, -4.00233), (5.34813, -4.00255), (5.34687, -4.00267), (5.34554, -4.00282), (5.34465, -4.00295), (5.34413, -4.00303), (5.3441, -4.00306), (5.34404, -4.0031), (5.34396, -4.00311), (5.3439, -4.00308), (5.34244, -4.00326), (5.33887, -4.00371), (5.33769, -4.00386), (5.3364, -4.00402), (5.33622, -4.00405), (5.33612, -4.00403), (5.33608, -4.00407), (5.33603, -4.00409), (5.33597, -4.00408), (5.33595, -4.00407), (5.33593, -4.00405), (5.3359, -4.00406), (5.33583, -4.00409), (5.33568, -4.0041), (5.33532, -4.00412)], 3.93, 9.5)\n",
      "After segment: ([(5.33532, -4.00412), (5.33444, -4.00425), (5.33339, -4.00439), (5.32986, -4.00482), (5.32797, -4.00505)], 0.824, 1.5833333333333333)\n",
      "Map saved to: C:\\Users\\HUAWEI\\CanterburyCommuto\\results\\routes_with_buffers_map-2025-04-09_16-35-51_35766.html\n",
      "<IPython.lib.display.IFrame object at 0x00000273F02D2540>\n",
      "Map has been displayed inline and saved as 'results\\routes_with_buffers_map-2025-04-09_16-35-51_35766.html'.\n",
      "Before segment: ([(5.37344, -3.99877), (5.37345, -3.99855), (5.37347, -3.99848), (5.37337, -3.99847), (5.37305, -3.99846), (5.37275, -3.99846), (5.37218, -3.99841), (5.37171, -3.99833), (5.37142, -3.99829), (5.37099, -3.99825), (5.3707, -3.99825), (5.37022, -3.99825), (5.36842, -3.99825), (5.36763, -3.99825), (5.36717, -3.99823), (5.36692, -3.99815), (5.36679, -3.99808), (5.36653, -3.99784), (5.3663, -3.99764), (5.36608, -3.99754), (5.36598, -3.99752), (5.36516, -3.9975), (5.36157, -3.99751), (5.36125, -3.99755), (5.36101, -3.99763), (5.36091, -3.99768), (5.36071, -3.99782), (5.36055, -3.99798), (5.36035, -3.99822), (5.35951, -3.9994), (5.3587, -4.0005), (5.35831, -4.00098), (5.35802, -4.00123), (5.35778, -4.00134), (5.35727, -4.00144), (5.35612, -4.00158), (5.35513, -4.0017), (5.35329, -4.00194), (5.35009, -4.00233), (5.34813, -4.00255), (5.34687, -4.00267), (5.34554, -4.00282), (5.34508, -4.00287), (5.34465, -4.00295), (5.34413, -4.00303)], 3.528, 8.633333333333333)\n",
      "During segment: ([(5.34412, -4.00305), (5.34406, -4.0031), (5.34398, -4.00311), (5.34392, -4.00309), (5.3439, -4.00308), (5.34369, -4.0031), (5.3428, -4.00321), (5.33983, -4.0036), (5.33796, -4.00382), (5.33673, -4.00398), (5.3364, -4.00402), (5.33622, -4.00405), (5.33612, -4.00403), (5.3361, -4.00405), (5.33603, -4.00409), (5.33595, -4.00407), (5.33593, -4.00405), (5.3359, -4.00406), (5.33583, -4.00409), (5.3355, -4.0041), (5.33532, -4.00412)], 0.994, 2.7333333333333334)\n",
      "After segment: ([(5.33532, -4.00412), (5.33444, -4.00425), (5.33339, -4.00439), (5.32986, -4.00482), (5.32797, -4.00505)], 0.824, 1.5833333333333333)\n",
      "Map saved to: C:\\Users\\HUAWEI\\CanterburyCommuto\\results\\routes_with_buffers_map-2025-04-09_16-35-53_96596.html\n",
      "<IPython.lib.display.IFrame object at 0x00000273F0292C90>\n",
      "Map has been displayed inline and saved as 'results\\routes_with_buffers_map-2025-04-09_16-35-53_96596.html'.\n",
      "Before segment: ([(5.37344, -3.99877), (5.37345, -3.99855), (5.37347, -3.99848), (5.37337, -3.99847), (5.37305, -3.99846), (5.37275, -3.99846), (5.37218, -3.99841), (5.37171, -3.99833), (5.37142, -3.99829), (5.37099, -3.99825), (5.3707, -3.99825), (5.37022, -3.99825), (5.36842, -3.99825), (5.36763, -3.99825), (5.36717, -3.99823), (5.36692, -3.99815), (5.36679, -3.99808), (5.36653, -3.99784), (5.3663, -3.99764), (5.36608, -3.99754), (5.36598, -3.99752), (5.36516, -3.9975), (5.36157, -3.99751), (5.36125, -3.99755), (5.36101, -3.99763), (5.36091, -3.99768), (5.36071, -3.99782), (5.36055, -3.99798), (5.36035, -3.99822), (5.35951, -3.9994), (5.3587, -4.0005), (5.35831, -4.00098), (5.35802, -4.00123), (5.35778, -4.00134), (5.35727, -4.00144), (5.35612, -4.00158), (5.35513, -4.0017), (5.35329, -4.00194), (5.35009, -4.00233), (5.34813, -4.00255)], 3.08, 7.65)\n",
      "During segment: ([(5.34813, -4.00255), (5.34598, -4.00277), (5.34473, -4.00293), (5.34453, -4.00297), (5.34413, -4.00303), (5.34411, -4.00306), (5.34405, -4.0031), (5.34397, -4.00311), (5.34392, -4.00309)], 0.475, 1.0833333333333333)\n",
      "After segment: ([(5.3439, -4.00307), (5.34227, -4.00328), (5.33867, -4.00373), (5.33751, -4.00388), (5.3368, -4.00397), (5.33653, -4.00399), (5.33629, -4.00404), (5.33618, -4.00404), (5.33612, -4.00403), (5.33605, -4.00408), (5.33595, -4.00407), (5.33593, -4.00405), (5.33588, -4.00408), (5.33559, -4.00411), (5.33515, -4.00414), (5.33444, -4.00425), (5.33296, -4.00444), (5.32917, -4.00491), (5.32797, -4.00505)], 1.79, 4.25)\n",
      "Map saved to: C:\\Users\\HUAWEI\\CanterburyCommuto\\results\\routes_with_buffers_map-2025-04-09_16-35-54_40003.html\n",
      "<IPython.lib.display.IFrame object at 0x00000273F02936E0>\n",
      "Map has been displayed inline and saved as 'results\\routes_with_buffers_map-2025-04-09_16-35-54_40003.html'.\n",
      "Before segment: ([(5.36172, -3.99001), (5.36173, -3.99116), (5.36172, -3.99224), (5.36173, -3.99256), (5.36177, -3.99304), (5.36187, -3.99335), (5.36222, -3.99399), (5.36237, -3.9944), (5.36244, -3.99478), (5.36245, -3.99699)], 0.789, 1.6166666666666667)\n",
      "During segment: ([(5.36245, -3.99699), (5.36244, -3.9975), (5.36167, -3.99751), (5.36132, -3.99753), (5.36101, -3.99763), (5.36085, -3.99772), (5.36062, -3.99791), (5.36036, -3.9982), (5.35969, -3.99914), (5.35894, -4.00016), (5.35837, -4.00092), (5.35823, -4.00105), (5.35796, -4.00127), (5.35761, -4.00139), (5.35719, -4.00145), (5.35539, -4.00167), (5.3545, -4.00179), (5.35216, -4.00208), (5.34852, -4.00252), (5.34598, -4.00277), (5.34473, -4.00293), (5.34453, -4.00297), (5.34413, -4.00303), (5.34411, -4.00306), (5.34405, -4.0031), (5.34397, -4.00311), (5.34391, -4.00308), (5.34351, -4.00312), (5.34275, -4.00322), (5.33911, -4.00369), (5.33772, -4.00385), (5.33706, -4.00394), (5.33653, -4.00399), (5.33629, -4.00404), (5.33618, -4.00404), (5.33612, -4.00403), (5.3361, -4.00405), (5.33605, -4.00408), (5.336, -4.00409), (5.33593, -4.00405), (5.33588, -4.00408), (5.33576, -4.00409), (5.33542, -4.00411), (5.33515, -4.00414)], 3.314, 8.433333333333334)\n",
      "After segment: ([(5.33515, -4.00414), (5.33444, -4.00425), (5.33296, -4.00444), (5.33159, -4.00461), (5.33031, -4.00476), (5.3302, -4.004), (5.33002, -4.00261), (5.32991, -4.00158), (5.32984, -4.00099), (5.32914, -4.00107), (5.32722, -4.00131), (5.32602, -4.00145), (5.32509, -4.00158), (5.32477, -4.00163), (5.32441, -4.00172), (5.32365, -4.00194), (5.32275, -4.0022)], 1.765, 4.683333333333334)\n",
      "Map saved to: C:\\Users\\HUAWEI\\CanterburyCommuto\\results\\routes_with_buffers_map-2025-04-09_16-35-55_85022.html\n",
      "<IPython.lib.display.IFrame object at 0x00000273F0290680>\n",
      "Map has been displayed inline and saved as 'results\\routes_with_buffers_map-2025-04-09_16-35-55_85022.html'.\n",
      "Before segment: ([(5.35576, -3.96982)], 0.0, 0.0)\n",
      "During segment: ([(5.35576, -3.96982), (5.35617, -3.96841), (5.3565, -3.9676), (5.35645, -3.96755), (5.35643, -3.96748), (5.35644, -3.96736), (5.35651, -3.96727), (5.35658, -3.96724), (5.35665, -3.96723), (5.35676, -3.96727), (5.35681, -3.96733), (5.35683, -3.9674), (5.35683, -3.96747), (5.35678, -3.96758), (5.35665, -3.96763), (5.35661, -3.96764), (5.35646, -3.96799), (5.35617, -3.96882), (5.35588, -3.9698), (5.35574, -3.97029), (5.35561, -3.97081), (5.35549, -3.97117), (5.35521, -3.97201), (5.35496, -3.97288), (5.35464, -3.97391), (5.35427, -3.97522), (5.35409, -3.97592), (5.35373, -3.97724), (5.35326, -3.97881), (5.35244, -3.98144), (5.35205, -3.98263), (5.35178, -3.98337), (5.3509, -3.98644), (5.34987, -3.99015), (5.34967, -3.99082), (5.34955, -3.99133), (5.34942, -3.99198), (5.34936, -3.99233), (5.34931, -3.99285), (5.3493, -3.99347), (5.34948, -3.99587), (5.34946, -3.99629), (5.3494, -3.99695), (5.34886, -3.99695), (5.34852, -3.99699), (5.34736, -3.99714), (5.3458, -3.99735), (5.34538, -3.9974), (5.34449, -3.99828), (5.34387, -3.9989), (5.34376, -3.99905), (5.34369, -3.99918), (5.34363, -3.99935), (5.3436, -3.99955), (5.34362, -3.99985), (5.34367, -4.00018), (5.34375, -4.00055), (5.34386, -4.00141), (5.34394, -4.00197), (5.34408, -4.00284), (5.34411, -4.00288), (5.34414, -4.00295), (5.34413, -4.00302), (5.34409, -4.00308), (5.34402, -4.00311), (5.34394, -4.0031), (5.34392, -4.00309), (5.3439, -4.00308), (5.34369, -4.0031)], 4.97, 11.233333333333333)\n",
      "After segment: ([(5.34369, -4.0031), (5.34137, -4.0034), (5.33861, -4.00374), (5.33716, -4.00392), (5.33673, -4.00398), (5.3364, -4.00402), (5.33622, -4.00405), (5.33612, -4.00403), (5.3361, -4.00405), (5.33614, -4.0041), (5.33619, -4.00487), (5.33621, -4.00533), (5.3362, -4.0055), (5.33607, -4.00553), (5.33542, -4.00564), (5.33519, -4.00568), (5.33476, -4.00579), (5.33454, -4.00586), (5.33428, -4.00601), (5.33401, -4.00621), (5.33345, -4.00678), (5.33323, -4.00699)], 1.396, 4.216666666666667)\n",
      "Log file saved to: C:\\Users\\HUAWEI\\CanterburyCommuto\\results\\closest_node_only_output.log\n"
     ]
    }
   ],
   "source": [
    "!python -m canterburycommuto origin_destination_coordinates.csv \"API_KEY\" \\\n",
    "    --threshold 50 \\\n",
    "    --width 100 \\\n",
    "    --buffer 100 \\\n",
    "    --approximation \"closer to precision\" \\\n",
    "    --commuting_info \"no\" \\\n",
    "    --colorna \"home_A\" \\\n",
    "    --coldesta \"work_A\" \\\n",
    "    --colorib \"home_B\" \\\n",
    "    --colfestb \"work_B\" \\\n",
    "    --output_overlap \"closest_node_only_output.csv\" \\\n",
    "    --output_buffer \"closest_node_only.csv\""
   ]
  },
  {
   "cell_type": "markdown",
   "id": "5b8f7611-6424-4272-a3d0-686a9e62eb76",
   "metadata": {},
   "source": [
    "Uses the precise geometric intersection of the road and buffer intersection polygon and with commuting info before and after the overlap"
   ]
  },
  {
   "cell_type": "code",
   "execution_count": 23,
   "id": "f7850eec-a5e4-4f1d-aa42-db1085e246a9",
   "metadata": {},
   "outputs": [
    {
     "name": "stdout",
     "output_type": "stream",
     "text": [
      "Map saved to: C:\\Users\\HUAWEI\\CanterburyCommuto\\results\\routes_with_buffers_map-2025-04-09_16-35-59_30730.html\n",
      "<IPython.lib.display.IFrame object at 0x00000255AE0FE9F0>\n",
      "Map has been displayed inline and saved as 'results\\routes_with_buffers_map-2025-04-09_16-35-59_30730.html'.\n",
      "Before segment: ([(5.37344, -3.99877)], 0.0, 0.0)\n",
      "During segment: ([(5.37344, -3.99877), (5.37345, -3.99855), (5.37347, -3.99848), (5.37337, -3.99847), (5.37305, -3.99846), (5.37275, -3.99846), (5.37218, -3.99841), (5.37171, -3.99833), (5.37142, -3.99829), (5.37099, -3.99825), (5.3707, -3.99825), (5.37022, -3.99825), (5.36842, -3.99825), (5.36763, -3.99825), (5.36717, -3.99823), (5.36692, -3.99815), (5.36679, -3.99808), (5.36653, -3.99784), (5.3663, -3.99764), (5.36608, -3.99754), (5.36598, -3.99752), (5.36516, -3.9975), (5.36157, -3.99751), (5.36125, -3.99755), (5.36101, -3.99763), (5.36091, -3.99768), (5.36071, -3.99782), (5.36055, -3.99798), (5.36035, -3.99822), (5.35951, -3.9994), (5.3587, -4.0005), (5.35831, -4.00098), (5.35802, -4.00123), (5.35778, -4.00134), (5.35727, -4.00144), (5.35612, -4.00158), (5.35513, -4.0017), (5.35329, -4.00194), (5.35009, -4.00233), (5.34813, -4.00255), (5.34687, -4.00267), (5.34554, -4.00282), (5.34508, -4.00287), (5.34413, -4.00303), (5.34407, -4.00309), (5.344, -4.00311), (5.34393, -4.00309), (5.3439, -4.00308), (5.34307, -4.00318), (5.34066, -4.00349), (5.33832, -4.00378), (5.33683, -4.00397), (5.3364, -4.00402), (5.33622, -4.00405), (5.33612, -4.00403), (5.33608, -4.00407), (5.33603, -4.00409), (5.33597, -4.00408), (5.33595, -4.00407), (5.33593, -4.00405), (5.3359, -4.00406), (5.33583, -4.00409), (5.33568, -4.0041), (5.33532, -4.00412), (5.33444, -4.00425), (5.33215, -4.00454), (5.32797, -4.00505)], 5.348, 13.0)\n",
      "After segment: ([(5.32797, -4.00505)], 0.0, 0.0)\n",
      "Map saved to: C:\\Users\\HUAWEI\\CanterburyCommuto\\results\\routes_with_buffers_map-2025-04-09_16-36-00_86204.html\n",
      "<IPython.lib.display.IFrame object at 0x00000255AE290A70>\n",
      "Map has been displayed inline and saved as 'results\\routes_with_buffers_map-2025-04-09_16-36-00_86204.html'.\n",
      "Before segment: ([(5.37344, -3.99877), (5.37345, -3.99855), (5.37347, -3.99848), (5.37337, -3.99847), (5.37305, -3.99846), (5.37275, -3.99846), (5.37218, -3.99841), (5.37171, -3.99833), (5.37142, -3.99829), (5.37099, -3.99825), (5.3707, -3.99825), (5.37022, -3.99825), (5.36842, -3.99825), (5.36763, -3.99825), (5.36717, -3.99823), (5.36692, -3.99815), (5.36679, -3.99808), (5.36653, -3.99784), (5.3663, -3.99764), (5.36608, -3.99754), (5.36598, -3.99752), (5.36516, -3.9975), (5.36333, -3.9975)], 1.186, 3.15)\n",
      "During segment: ([(5.36333, -3.9975), (5.36189, -3.99751), (5.36139, -3.99752), (5.3611, -3.99759), (5.36091, -3.99768), (5.36071, -3.99782), (5.36055, -3.99798), (5.36035, -3.99822), (5.35983, -3.99895), (5.35916, -3.99987), (5.3584, -4.00089), (5.35802, -4.00123), (5.35778, -4.00134), (5.35727, -4.00144), (5.35578, -4.00162), (5.35467, -4.00177), (5.35222, -4.00207), (5.34864, -4.00251), (5.34626, -4.00274), (5.34536, -4.00284), (5.34494, -4.0029), (5.34426, -4.00302), (5.34413, -4.00303), (5.34412, -4.00305), (5.34409, -4.00308), (5.34406, -4.0031), (5.34398, -4.00311), (5.34392, -4.00309), (5.3439, -4.00308), (5.34369, -4.0031), (5.3428, -4.00321), (5.33983, -4.0036), (5.33673, -4.00398), (5.3364, -4.00402), (5.33622, -4.00405), (5.33612, -4.00403), (5.3361, -4.00405), (5.33603, -4.00409), (5.33595, -4.00407), (5.33593, -4.00405), (5.3359, -4.00406), (5.33583, -4.00409), (5.3355, -4.0041), (5.33505, -4.00415), (5.33425, -4.00428), (5.33109, -4.00467), (5.32942, -4.00488)], 4.0, 9.483333333333333)\n",
      "After segment: ([(5.32942, -4.00488), (5.32797, -4.00505)], 0.163, 0.38333333333333336)\n",
      "Map saved to: C:\\Users\\HUAWEI\\CanterburyCommuto\\results\\routes_with_buffers_map-2025-04-09_16-36-01_74463.html\n",
      "<IPython.lib.display.IFrame object at 0x00000255AE292F90>\n",
      "Map has been displayed inline and saved as 'results\\routes_with_buffers_map-2025-04-09_16-36-01_74463.html'.\n",
      "Before segment: ([(5.37344, -3.99877), (5.37345, -3.99855), (5.37347, -3.99848), (5.37337, -3.99847), (5.37305, -3.99846), (5.37275, -3.99846), (5.37218, -3.99841), (5.37171, -3.99833), (5.37142, -3.99829), (5.37099, -3.99825), (5.3707, -3.99825), (5.37022, -3.99825), (5.36931, -3.99825)], 0.496, 1.5833333333333333)\n",
      "During segment: ([(5.36931, -3.99825), (5.36734, -3.99824), (5.36703, -3.99819), (5.36679, -3.99808), (5.36638, -3.9977), (5.3663, -3.99764), (5.36608, -3.99754), (5.36587, -3.99751), (5.3634, -3.9975), (5.36189, -3.99751), (5.36139, -3.99752), (5.3611, -3.99759), (5.36091, -3.99768), (5.36071, -3.99782), (5.36055, -3.99798), (5.36035, -3.99822), (5.35983, -3.99895), (5.35916, -3.99987), (5.3584, -4.00089), (5.35802, -4.00123), (5.35778, -4.00134), (5.35727, -4.00144), (5.35578, -4.00162), (5.35467, -4.00177), (5.35222, -4.00207), (5.34864, -4.00251), (5.34626, -4.00274), (5.34536, -4.00284), (5.34494, -4.0029), (5.34426, -4.00302), (5.34413, -4.00303), (5.34412, -4.00305), (5.34409, -4.00308), (5.34406, -4.0031), (5.34398, -4.00311), (5.34392, -4.00309), (5.3439, -4.00308), (5.34369, -4.0031), (5.3428, -4.00321), (5.33983, -4.0036), (5.33673, -4.00398), (5.3364, -4.00402), (5.33622, -4.00405), (5.33612, -4.00403), (5.3361, -4.00405), (5.33603, -4.00409), (5.33595, -4.00407), (5.33593, -4.00405), (5.3359, -4.00406), (5.33583, -4.00409), (5.3355, -4.0041), (5.33502, -4.00416)], 4.062, 9.933333333333334)\n",
      "After segment: ([(5.33502, -4.00416), (5.33425, -4.00428), (5.33279, -4.00446), (5.32876, -4.00496), (5.32797, -4.00505)], 0.79, 1.4833333333333334)\n",
      "Map saved to: C:\\Users\\HUAWEI\\CanterburyCommuto\\results\\routes_with_buffers_map-2025-04-09_16-36-02_41917.html\n",
      "<IPython.lib.display.IFrame object at 0x00000255AE2E1400>\n",
      "Map has been displayed inline and saved as 'results\\routes_with_buffers_map-2025-04-09_16-36-02_41917.html'.\n",
      "Before segment: ([(5.37344, -3.99877), (5.37345, -3.99855), (5.37347, -3.99848), (5.37337, -3.99847), (5.37305, -3.99846), (5.37275, -3.99846), (5.37218, -3.99841), (5.37171, -3.99833), (5.37142, -3.99829), (5.37099, -3.99825), (5.3707, -3.99825), (5.37022, -3.99825), (5.36842, -3.99825), (5.36763, -3.99825), (5.36717, -3.99823), (5.36692, -3.99815), (5.36679, -3.99808), (5.36653, -3.99784), (5.3663, -3.99764), (5.36608, -3.99754), (5.36598, -3.99752), (5.36516, -3.9975), (5.36157, -3.99751), (5.36125, -3.99755), (5.36101, -3.99763), (5.36091, -3.99768), (5.36071, -3.99782), (5.36055, -3.99798), (5.36035, -3.99822), (5.35951, -3.9994), (5.3587, -4.0005), (5.35831, -4.00098), (5.35802, -4.00123), (5.35778, -4.00134), (5.35727, -4.00144), (5.35612, -4.00158), (5.35513, -4.0017), (5.35329, -4.00194), (5.35009, -4.00233), (5.34813, -4.00255), (5.34687, -4.00267), (5.34554, -4.00282), (5.34508, -4.00287), (5.34503, -4.00288)], 3.426, 8.416666666666666)\n",
      "During segment: ([(5.34503, -4.00288), (5.34413, -4.00303), (5.34407, -4.00309), (5.344, -4.00311), (5.34393, -4.00309), (5.3439, -4.00308), (5.34307, -4.00318), (5.34066, -4.00349), (5.33683, -4.00397), (5.3364, -4.00402), (5.33622, -4.00405), (5.33612, -4.00403), (5.33608, -4.00407), (5.33603, -4.00409), (5.33597, -4.00408), (5.33595, -4.00407), (5.33593, -4.00405), (5.3359, -4.00406), (5.33583, -4.00409), (5.33568, -4.0041), (5.33532, -4.00412), (5.33521, -4.00413)], 1.111, 3.0166666666666666)\n",
      "After segment: ([(5.33521, -4.00413), (5.33444, -4.00425), (5.33339, -4.00439), (5.32986, -4.00482), (5.32797, -4.00505)], 0.811, 1.55)\n",
      "Map saved to: C:\\Users\\HUAWEI\\CanterburyCommuto\\results\\routes_with_buffers_map-2025-04-09_16-36-03_85202.html\n",
      "<IPython.lib.display.IFrame object at 0x00000255AE290EC0>\n",
      "Map has been displayed inline and saved as 'results\\routes_with_buffers_map-2025-04-09_16-36-03_85202.html'.\n",
      "Not enough geometric intersections.\n",
      "Map saved to: C:\\Users\\HUAWEI\\CanterburyCommuto\\results\\routes_with_buffers_map-2025-04-09_16-36-03_94260.html\n",
      "<IPython.lib.display.IFrame object at 0x00000255AE2936B0>\n",
      "Map has been displayed inline and saved as 'results\\routes_with_buffers_map-2025-04-09_16-36-03_94260.html'.\n",
      "Before segment: ([(5.36172, -3.99001), (5.36173, -3.99116), (5.36172, -3.99224), (5.36173, -3.99256), (5.36177, -3.99304), (5.36187, -3.99335), (5.36222, -3.99399), (5.36237, -3.9944), (5.36244, -3.99478), (5.36245, -3.99661)], 0.747, 1.4666666666666666)\n",
      "During segment: ([(5.36245, -3.99661), (5.36244, -3.9975), (5.36146, -3.99751), (5.36117, -3.99757), (5.36096, -3.99765), (5.36085, -3.99772), (5.36062, -3.99791), (5.36036, -3.9982), (5.36008, -3.9986), (5.35937, -3.9996), (5.35847, -4.0008), (5.35823, -4.00105), (5.35796, -4.00127), (5.35761, -4.00139), (5.35594, -4.0016), (5.35503, -4.00172), (5.35312, -4.00196), (5.34925, -4.00243), (5.34795, -4.00257), (5.34662, -4.0027), (5.34542, -4.00283), (5.34501, -4.00289), (5.34453, -4.00297), (5.34413, -4.00303), (5.34412, -4.00304), (5.3441, -4.00307), (5.34406, -4.00309), (5.34399, -4.00311), (5.34392, -4.00309), (5.3439, -4.00307), (5.34298, -4.00319), (5.33995, -4.00358), (5.3368, -4.00397), (5.33653, -4.00399), (5.33629, -4.00404), (5.33618, -4.00404), (5.33612, -4.00403), (5.33605, -4.00408), (5.33595, -4.00407), (5.33593, -4.00405), (5.33588, -4.00408), (5.33559, -4.00411), (5.33515, -4.00414), (5.33502, -4.00416)], 3.371, 8.666666666666666)\n",
      "After segment: ([(5.33502, -4.00416), (5.33425, -4.00428), (5.33279, -4.00446), (5.33109, -4.00467), (5.33031, -4.00476), (5.33028, -4.00465), (5.33015, -4.00364), (5.32998, -4.00225), (5.32988, -4.00137), (5.32985, -4.00109), (5.32984, -4.00099), (5.32971, -4.001), (5.32925, -4.00106), (5.32872, -4.00112), (5.32739, -4.0013), (5.32716, -4.00131), (5.32592, -4.00146), (5.32493, -4.0016), (5.3246, -4.00166), (5.32418, -4.00179), (5.32345, -4.002), (5.32275, -4.0022)], 1.75, 4.65)\n",
      "Map saved to: C:\\Users\\HUAWEI\\CanterburyCommuto\\results\\routes_with_buffers_map-2025-04-09_16-36-04_27295.html\n",
      "<IPython.lib.display.IFrame object at 0x00000255AE291B20>\n",
      "Map has been displayed inline and saved as 'results\\routes_with_buffers_map-2025-04-09_16-36-04_27295.html'.\n",
      "Before segment: ([(5.35576, -3.96982)], 0.0, 0.0)\n",
      "During segment: ([(5.35576, -3.96982), (5.35617, -3.96841), (5.3565, -3.9676), (5.35645, -3.96755), (5.35643, -3.96748), (5.35644, -3.96736), (5.35651, -3.96727), (5.35658, -3.96724), (5.35665, -3.96723), (5.35676, -3.96727), (5.35681, -3.96733), (5.35683, -3.9674), (5.35683, -3.96747), (5.35678, -3.96758), (5.35665, -3.96763), (5.35661, -3.96764), (5.35646, -3.96799), (5.35617, -3.96882), (5.35588, -3.9698), (5.35574, -3.97029), (5.35561, -3.97081), (5.35549, -3.97117), (5.35521, -3.97201), (5.35496, -3.97288), (5.35464, -3.97391), (5.35427, -3.97522), (5.35409, -3.97592), (5.35373, -3.97724), (5.35326, -3.97881), (5.35244, -3.98144), (5.35205, -3.98263), (5.35178, -3.98337), (5.3509, -3.98644), (5.34987, -3.99015), (5.34967, -3.99082), (5.34955, -3.99133), (5.34942, -3.99198), (5.34936, -3.99233), (5.34931, -3.99285), (5.3493, -3.99347), (5.34948, -3.99587), (5.34946, -3.99629), (5.3494, -3.99695), (5.34886, -3.99695), (5.34852, -3.99699), (5.34736, -3.99714), (5.3458, -3.99735), (5.34538, -3.9974), (5.34449, -3.99828), (5.34387, -3.9989), (5.34376, -3.99905), (5.34369, -3.99918), (5.34363, -3.99935), (5.3436, -3.99955), (5.34362, -3.99985), (5.34367, -4.00018), (5.34375, -4.00055), (5.34386, -4.00141), (5.34394, -4.00197), (5.34408, -4.00284), (5.34411, -4.00288), (5.34414, -4.00295), (5.34413, -4.00302), (5.34409, -4.00308), (5.34402, -4.00311), (5.34394, -4.0031), (5.34392, -4.00309), (5.3439, -4.00308), (5.34369, -4.0031), (5.34323, -4.00316)], 5.021, 11.333333333333334)\n",
      "After segment: ([(5.34323, -4.00316), (5.34102, -4.00345), (5.33858, -4.00375), (5.33706, -4.00394), (5.33653, -4.00399), (5.33629, -4.00404), (5.33618, -4.00404), (5.33612, -4.00403), (5.33611, -4.00406), (5.33614, -4.00414), (5.33621, -4.00512), (5.3362, -4.0055), (5.33573, -4.00558), (5.33512, -4.0057), (5.33464, -4.00582), (5.3344, -4.00593), (5.33421, -4.00605), (5.33386, -4.00635), (5.33323, -4.00699)], 1.345, 4.1)\n",
      "Log file saved to: C:\\Users\\HUAWEI\\CanterburyCommuto\\results\\exact_output.log\n"
     ]
    }
   ],
   "source": [
    "!python -m canterburycommuto origin_destination_coordinates.csv \"API_KEY\" \\\n",
    "    --threshold 50 \\\n",
    "    --width 100 \\\n",
    "    --buffer 100 \\\n",
    "    --approximation \"exact\" \\\n",
    "    --commuting_info \"yes\" \\\n",
    "    --colorna \"home_A\" \\\n",
    "    --coldesta \"work_A\" \\\n",
    "    --colorib \"home_B\" \\\n",
    "    --colfestb \"work_B\" \\\n",
    "    --output_overlap \"exact_output.csv\" \\\n",
    "    --output_buffer \"exact.csv\""
   ]
  },
  {
   "cell_type": "markdown",
   "id": "3ffd076f-fa2b-40f0-93c7-f8eeaeadf0fb",
   "metadata": {},
   "source": [
    "Uses the precise geometric intersection of the road and buffer intersection polygon, but without commuting information before and after the overlap"
   ]
  },
  {
   "cell_type": "code",
   "execution_count": 25,
   "id": "cfc19160-425d-4af7-a7bc-cc37cacae908",
   "metadata": {},
   "outputs": [
    {
     "name": "stdout",
     "output_type": "stream",
     "text": [
      "Map saved to: C:\\Users\\HUAWEI\\CanterburyCommuto\\results\\routes_with_buffers_map-2025-04-09_16-36-08_70141.html\n",
      "<IPython.lib.display.IFrame object at 0x0000023F42F4EB70>\n",
      "Map has been displayed inline and saved as 'results\\routes_with_buffers_map-2025-04-09_16-36-08_70141.html'.\n",
      "Before segment: ([(5.37344, -3.99877)], 0.0, 0.0)\n",
      "During segment: ([(5.37344, -3.99877), (5.37345, -3.99855), (5.37347, -3.99848), (5.37337, -3.99847), (5.37305, -3.99846), (5.37275, -3.99846), (5.37218, -3.99841), (5.37171, -3.99833), (5.37142, -3.99829), (5.37099, -3.99825), (5.3707, -3.99825), (5.37022, -3.99825), (5.36842, -3.99825), (5.36763, -3.99825), (5.36717, -3.99823), (5.36692, -3.99815), (5.36679, -3.99808), (5.36653, -3.99784), (5.3663, -3.99764), (5.36608, -3.99754), (5.36598, -3.99752), (5.36516, -3.9975), (5.36157, -3.99751), (5.36125, -3.99755), (5.36101, -3.99763), (5.36091, -3.99768), (5.36071, -3.99782), (5.36055, -3.99798), (5.36035, -3.99822), (5.35951, -3.9994), (5.3587, -4.0005), (5.35831, -4.00098), (5.35802, -4.00123), (5.35778, -4.00134), (5.35727, -4.00144), (5.35612, -4.00158), (5.35513, -4.0017), (5.35329, -4.00194), (5.35009, -4.00233), (5.34813, -4.00255), (5.34687, -4.00267), (5.34554, -4.00282), (5.34508, -4.00287), (5.34413, -4.00303), (5.34407, -4.00309), (5.344, -4.00311), (5.34393, -4.00309), (5.3439, -4.00308), (5.34307, -4.00318), (5.34066, -4.00349), (5.33832, -4.00378), (5.33683, -4.00397), (5.3364, -4.00402), (5.33622, -4.00405), (5.33612, -4.00403), (5.33608, -4.00407), (5.33603, -4.00409), (5.33597, -4.00408), (5.33595, -4.00407), (5.33593, -4.00405), (5.3359, -4.00406), (5.33583, -4.00409), (5.33568, -4.0041), (5.33532, -4.00412), (5.33444, -4.00425), (5.33215, -4.00454), (5.32797, -4.00505)], 5.348, 13.0)\n",
      "After segment: ([(5.32797, -4.00505)], 0.0, 0.0)\n",
      "Map saved to: C:\\Users\\HUAWEI\\CanterburyCommuto\\results\\routes_with_buffers_map-2025-04-09_16-36-09_13046.html\n",
      "<IPython.lib.display.IFrame object at 0x0000023F43030BC0>\n",
      "Map has been displayed inline and saved as 'results\\routes_with_buffers_map-2025-04-09_16-36-09_13046.html'.\n",
      "Before segment: ([(5.37344, -3.99877), (5.37345, -3.99855), (5.37347, -3.99848), (5.37337, -3.99847), (5.37305, -3.99846), (5.37275, -3.99846), (5.37218, -3.99841), (5.37171, -3.99833), (5.37142, -3.99829), (5.37099, -3.99825), (5.3707, -3.99825), (5.37022, -3.99825), (5.36842, -3.99825), (5.36763, -3.99825), (5.36717, -3.99823), (5.36692, -3.99815), (5.36679, -3.99808), (5.36653, -3.99784), (5.3663, -3.99764), (5.36608, -3.99754), (5.36598, -3.99752), (5.36516, -3.9975), (5.36333, -3.9975)], 1.186, 3.15)\n",
      "During segment: ([(5.36333, -3.9975), (5.36189, -3.99751), (5.36139, -3.99752), (5.3611, -3.99759), (5.36091, -3.99768), (5.36071, -3.99782), (5.36055, -3.99798), (5.36035, -3.99822), (5.35983, -3.99895), (5.35916, -3.99987), (5.3584, -4.00089), (5.35802, -4.00123), (5.35778, -4.00134), (5.35727, -4.00144), (5.35578, -4.00162), (5.35467, -4.00177), (5.35222, -4.00207), (5.34864, -4.00251), (5.34626, -4.00274), (5.34536, -4.00284), (5.34494, -4.0029), (5.34426, -4.00302), (5.34413, -4.00303), (5.34412, -4.00305), (5.34409, -4.00308), (5.34406, -4.0031), (5.34398, -4.00311), (5.34392, -4.00309), (5.3439, -4.00308), (5.34369, -4.0031), (5.3428, -4.00321), (5.33983, -4.0036), (5.33673, -4.00398), (5.3364, -4.00402), (5.33622, -4.00405), (5.33612, -4.00403), (5.3361, -4.00405), (5.33603, -4.00409), (5.33595, -4.00407), (5.33593, -4.00405), (5.3359, -4.00406), (5.33583, -4.00409), (5.3355, -4.0041), (5.33505, -4.00415), (5.33425, -4.00428), (5.33109, -4.00467), (5.32942, -4.00488)], 4.0, 9.483333333333333)\n",
      "After segment: ([(5.32942, -4.00488), (5.32797, -4.00505)], 0.163, 0.38333333333333336)\n",
      "Map saved to: C:\\Users\\HUAWEI\\CanterburyCommuto\\results\\routes_with_buffers_map-2025-04-09_16-36-10_49105.html\n",
      "<IPython.lib.display.IFrame object at 0x0000023F430330E0>\n",
      "Map has been displayed inline and saved as 'results\\routes_with_buffers_map-2025-04-09_16-36-10_49105.html'.\n",
      "Before segment: ([(5.37344, -3.99877), (5.37345, -3.99855), (5.37347, -3.99848), (5.37337, -3.99847), (5.37305, -3.99846), (5.37275, -3.99846), (5.37218, -3.99841), (5.37171, -3.99833), (5.37142, -3.99829), (5.37099, -3.99825), (5.3707, -3.99825), (5.37022, -3.99825), (5.36931, -3.99825)], 0.496, 1.5833333333333333)\n",
      "During segment: ([(5.36931, -3.99825), (5.36734, -3.99824), (5.36703, -3.99819), (5.36679, -3.99808), (5.36638, -3.9977), (5.3663, -3.99764), (5.36608, -3.99754), (5.36587, -3.99751), (5.3634, -3.9975), (5.36189, -3.99751), (5.36139, -3.99752), (5.3611, -3.99759), (5.36091, -3.99768), (5.36071, -3.99782), (5.36055, -3.99798), (5.36035, -3.99822), (5.35983, -3.99895), (5.35916, -3.99987), (5.3584, -4.00089), (5.35802, -4.00123), (5.35778, -4.00134), (5.35727, -4.00144), (5.35578, -4.00162), (5.35467, -4.00177), (5.35222, -4.00207), (5.34864, -4.00251), (5.34626, -4.00274), (5.34536, -4.00284), (5.34494, -4.0029), (5.34426, -4.00302), (5.34413, -4.00303), (5.34412, -4.00305), (5.34409, -4.00308), (5.34406, -4.0031), (5.34398, -4.00311), (5.34392, -4.00309), (5.3439, -4.00308), (5.34369, -4.0031), (5.3428, -4.00321), (5.33983, -4.0036), (5.33673, -4.00398), (5.3364, -4.00402), (5.33622, -4.00405), (5.33612, -4.00403), (5.3361, -4.00405), (5.33603, -4.00409), (5.33595, -4.00407), (5.33593, -4.00405), (5.3359, -4.00406), (5.33583, -4.00409), (5.3355, -4.0041), (5.33502, -4.00416)], 4.062, 9.933333333333334)\n",
      "After segment: ([(5.33502, -4.00416), (5.33425, -4.00428), (5.33279, -4.00446), (5.32876, -4.00496), (5.32797, -4.00505)], 0.79, 1.4833333333333334)\n",
      "Map saved to: C:\\Users\\HUAWEI\\CanterburyCommuto\\results\\routes_with_buffers_map-2025-04-09_16-36-11_47441.html\n",
      "<IPython.lib.display.IFrame object at 0x0000023F43081310>\n",
      "Map has been displayed inline and saved as 'results\\routes_with_buffers_map-2025-04-09_16-36-11_47441.html'.\n",
      "Before segment: ([(5.37344, -3.99877), (5.37345, -3.99855), (5.37347, -3.99848), (5.37337, -3.99847), (5.37305, -3.99846), (5.37275, -3.99846), (5.37218, -3.99841), (5.37171, -3.99833), (5.37142, -3.99829), (5.37099, -3.99825), (5.3707, -3.99825), (5.37022, -3.99825), (5.36842, -3.99825), (5.36763, -3.99825), (5.36717, -3.99823), (5.36692, -3.99815), (5.36679, -3.99808), (5.36653, -3.99784), (5.3663, -3.99764), (5.36608, -3.99754), (5.36598, -3.99752), (5.36516, -3.9975), (5.36157, -3.99751), (5.36125, -3.99755), (5.36101, -3.99763), (5.36091, -3.99768), (5.36071, -3.99782), (5.36055, -3.99798), (5.36035, -3.99822), (5.35951, -3.9994), (5.3587, -4.0005), (5.35831, -4.00098), (5.35802, -4.00123), (5.35778, -4.00134), (5.35727, -4.00144), (5.35612, -4.00158), (5.35513, -4.0017), (5.35329, -4.00194), (5.35009, -4.00233), (5.34813, -4.00255), (5.34687, -4.00267), (5.34554, -4.00282), (5.34508, -4.00287), (5.34503, -4.00288)], 3.426, 8.416666666666666)\n",
      "During segment: ([(5.34503, -4.00288), (5.34413, -4.00303), (5.34407, -4.00309), (5.344, -4.00311), (5.34393, -4.00309), (5.3439, -4.00308), (5.34307, -4.00318), (5.34066, -4.00349), (5.33683, -4.00397), (5.3364, -4.00402), (5.33622, -4.00405), (5.33612, -4.00403), (5.33608, -4.00407), (5.33603, -4.00409), (5.33597, -4.00408), (5.33595, -4.00407), (5.33593, -4.00405), (5.3359, -4.00406), (5.33583, -4.00409), (5.33568, -4.0041), (5.33532, -4.00412), (5.33521, -4.00413)], 1.111, 3.0166666666666666)\n",
      "After segment: ([(5.33521, -4.00413), (5.33444, -4.00425), (5.33339, -4.00439), (5.32986, -4.00482), (5.32797, -4.00505)], 0.811, 1.55)\n",
      "Map saved to: C:\\Users\\HUAWEI\\CanterburyCommuto\\results\\routes_with_buffers_map-2025-04-09_16-36-12_84051.html\n",
      "<IPython.lib.display.IFrame object at 0x0000023F43032120>\n",
      "Map has been displayed inline and saved as 'results\\routes_with_buffers_map-2025-04-09_16-36-12_84051.html'.\n",
      "Not enough geometric intersections.\n",
      "Map saved to: C:\\Users\\HUAWEI\\CanterburyCommuto\\results\\routes_with_buffers_map-2025-04-09_16-36-12_98378.html\n",
      "<IPython.lib.display.IFrame object at 0x0000023F43033EC0>\n",
      "Map has been displayed inline and saved as 'results\\routes_with_buffers_map-2025-04-09_16-36-12_98378.html'.\n",
      "Before segment: ([(5.36172, -3.99001), (5.36173, -3.99116), (5.36172, -3.99224), (5.36173, -3.99256), (5.36177, -3.99304), (5.36187, -3.99335), (5.36222, -3.99399), (5.36237, -3.9944), (5.36244, -3.99478), (5.36245, -3.99661)], 0.747, 1.4666666666666666)\n",
      "During segment: ([(5.36245, -3.99661), (5.36244, -3.9975), (5.36146, -3.99751), (5.36117, -3.99757), (5.36096, -3.99765), (5.36085, -3.99772), (5.36062, -3.99791), (5.36036, -3.9982), (5.36008, -3.9986), (5.35937, -3.9996), (5.35847, -4.0008), (5.35823, -4.00105), (5.35796, -4.00127), (5.35761, -4.00139), (5.35594, -4.0016), (5.35503, -4.00172), (5.35312, -4.00196), (5.34925, -4.00243), (5.34795, -4.00257), (5.34662, -4.0027), (5.34542, -4.00283), (5.34501, -4.00289), (5.34453, -4.00297), (5.34413, -4.00303), (5.34412, -4.00304), (5.3441, -4.00307), (5.34406, -4.00309), (5.34399, -4.00311), (5.34392, -4.00309), (5.3439, -4.00307), (5.34298, -4.00319), (5.33995, -4.00358), (5.3368, -4.00397), (5.33653, -4.00399), (5.33629, -4.00404), (5.33618, -4.00404), (5.33612, -4.00403), (5.33605, -4.00408), (5.33595, -4.00407), (5.33593, -4.00405), (5.33588, -4.00408), (5.33559, -4.00411), (5.33515, -4.00414), (5.33502, -4.00416)], 3.371, 8.666666666666666)\n",
      "After segment: ([(5.33502, -4.00416), (5.33425, -4.00428), (5.33279, -4.00446), (5.33109, -4.00467), (5.33031, -4.00476), (5.33028, -4.00465), (5.33015, -4.00364), (5.32998, -4.00225), (5.32988, -4.00137), (5.32985, -4.00109), (5.32984, -4.00099), (5.32971, -4.001), (5.32925, -4.00106), (5.32872, -4.00112), (5.32739, -4.0013), (5.32716, -4.00131), (5.32592, -4.00146), (5.32493, -4.0016), (5.3246, -4.00166), (5.32418, -4.00179), (5.32345, -4.002), (5.32275, -4.0022)], 1.75, 4.65)\n",
      "Map saved to: C:\\Users\\HUAWEI\\CanterburyCommuto\\results\\routes_with_buffers_map-2025-04-09_16-36-13_49658.html\n",
      "<IPython.lib.display.IFrame object at 0x0000023F430322A0>\n",
      "Map has been displayed inline and saved as 'results\\routes_with_buffers_map-2025-04-09_16-36-13_49658.html'.\n",
      "Before segment: ([(5.35576, -3.96982)], 0.0, 0.0)\n",
      "During segment: ([(5.35576, -3.96982), (5.35617, -3.96841), (5.3565, -3.9676), (5.35645, -3.96755), (5.35643, -3.96748), (5.35644, -3.96736), (5.35651, -3.96727), (5.35658, -3.96724), (5.35665, -3.96723), (5.35676, -3.96727), (5.35681, -3.96733), (5.35683, -3.9674), (5.35683, -3.96747), (5.35678, -3.96758), (5.35665, -3.96763), (5.35661, -3.96764), (5.35646, -3.96799), (5.35617, -3.96882), (5.35588, -3.9698), (5.35574, -3.97029), (5.35561, -3.97081), (5.35549, -3.97117), (5.35521, -3.97201), (5.35496, -3.97288), (5.35464, -3.97391), (5.35427, -3.97522), (5.35409, -3.97592), (5.35373, -3.97724), (5.35326, -3.97881), (5.35244, -3.98144), (5.35205, -3.98263), (5.35178, -3.98337), (5.3509, -3.98644), (5.34987, -3.99015), (5.34967, -3.99082), (5.34955, -3.99133), (5.34942, -3.99198), (5.34936, -3.99233), (5.34931, -3.99285), (5.3493, -3.99347), (5.34948, -3.99587), (5.34946, -3.99629), (5.3494, -3.99695), (5.34886, -3.99695), (5.34852, -3.99699), (5.34736, -3.99714), (5.3458, -3.99735), (5.34538, -3.9974), (5.34449, -3.99828), (5.34387, -3.9989), (5.34376, -3.99905), (5.34369, -3.99918), (5.34363, -3.99935), (5.3436, -3.99955), (5.34362, -3.99985), (5.34367, -4.00018), (5.34375, -4.00055), (5.34386, -4.00141), (5.34394, -4.00197), (5.34408, -4.00284), (5.34411, -4.00288), (5.34414, -4.00295), (5.34413, -4.00302), (5.34409, -4.00308), (5.34402, -4.00311), (5.34394, -4.0031), (5.34392, -4.00309), (5.3439, -4.00308), (5.34369, -4.0031), (5.34323, -4.00316)], 5.021, 11.333333333333334)\n",
      "After segment: ([(5.34323, -4.00316), (5.34102, -4.00345), (5.33858, -4.00375), (5.33706, -4.00394), (5.33653, -4.00399), (5.33629, -4.00404), (5.33618, -4.00404), (5.33612, -4.00403), (5.33611, -4.00406), (5.33614, -4.00414), (5.33621, -4.00512), (5.3362, -4.0055), (5.33573, -4.00558), (5.33512, -4.0057), (5.33464, -4.00582), (5.3344, -4.00593), (5.33421, -4.00605), (5.33386, -4.00635), (5.33323, -4.00699)], 1.345, 4.1)\n",
      "Log file saved to: C:\\Users\\HUAWEI\\CanterburyCommuto\\results\\exact_only_output.log\n"
     ]
    }
   ],
   "source": [
    "!python -m canterburycommuto origin_destination_coordinates.csv \"API_KEY\" \\\n",
    "    --threshold 50 \\\n",
    "    --width 100 \\\n",
    "    --buffer 100 \\\n",
    "    --approximation \"exact\" \\\n",
    "    --commuting_info \"no\" \\\n",
    "    --colorna \"home_A\" \\\n",
    "    --coldesta \"work_A\" \\\n",
    "    --colorib \"home_B\" \\\n",
    "    --colfestb \"work_B\" \\\n",
    "    --output_overlap \"exact_only_output.csv\" \\\n",
    "    --output_buffer \"exact_only.csv\""
   ]
  },
  {
   "cell_type": "code",
   "execution_count": null,
   "id": "15c26b00-59f1-4dd9-8b82-9cda9b94eaa0",
   "metadata": {},
   "outputs": [],
   "source": []
  }
 ],
 "metadata": {
  "kernelspec": {
   "display_name": "Python 3 (ipykernel)",
   "language": "python",
   "name": "python3"
  },
  "language_info": {
   "codemirror_mode": {
    "name": "ipython",
    "version": 3
   },
   "file_extension": ".py",
   "mimetype": "text/x-python",
   "name": "python",
   "nbconvert_exporter": "python",
   "pygments_lexer": "ipython3",
   "version": "3.12.4"
  }
 },
 "nbformat": 4,
 "nbformat_minor": 5
}
