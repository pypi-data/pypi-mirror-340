{
 "cells": [
  {
   "cell_type": "code",
   "execution_count": null,
   "metadata": {},
   "outputs": [],
   "source": [
    "import time\n",
    "from pathlib import Path\n",
    "\n",
    "from crow_client import CrowClient, JobNames\n",
    "from crow_client.models import (\n",
    "    AuthType,\n",
    "    CrowDeploymentConfig,\n",
    "    DockerContainerConfiguration,\n",
    "    FramePath,\n",
    "    JobRequest,\n",
    "    RuntimeConfig,\n",
    "    Stage,\n",
    ")\n",
    "from ldp.agent import AgentConfig"
   ]
  },
  {
   "cell_type": "code",
   "execution_count": null,
   "metadata": {},
   "outputs": [],
   "source": [
    "# Instantiate the client\n",
    "client = CrowClient(\n",
    "    stage=Stage.DEV,\n",
    "    auth_type=AuthType.API_KEY,\n",
    "    api_key=\"your.api.key\",\n",
    ")"
   ]
  },
  {
   "cell_type": "code",
   "execution_count": null,
   "metadata": {},
   "outputs": [],
   "source": [
    "# Create a simple Job\n",
    "job_data = JobRequest(\n",
    "    name=JobNames.from_string(\"dummy\"),\n",
    "    query=\"How many moons does earth have?\",\n",
    ")\n",
    "client.create_job(job_data)\n",
    "\n",
    "while client.get_job()[\"status\"] != \"success\":\n",
    "    time.sleep(5)\n",
    "print(client.get_job())"
   ]
  },
  {
   "cell_type": "code",
   "execution_count": null,
   "metadata": {},
   "outputs": [],
   "source": [
    "# Create a more complex job with runtime config\n",
    "\n",
    "agent = AgentConfig(\n",
    "    agent_type=\"ReActAgent\",\n",
    "    agent_kwargs={\n",
    "        \"model\": \"gpt-4o-mini\",\n",
    "        \"temperature\": 0.0,\n",
    "    },\n",
    ")\n",
    "job_data = JobRequest(\n",
    "    name=JobNames.from_string(\"dummy\"),\n",
    "    query=\"How many moons does earth have?\",\n",
    "    runtime_config=RuntimeConfig(agent=agent, max_steps=5),\n",
    ")\n",
    "client.create_job(job_data)\n",
    "\n",
    "while client.get_job()[\"status\"] != \"success\":\n",
    "    time.sleep(5)\n",
    "print(client.get_job())"
   ]
  },
  {
   "cell_type": "code",
   "execution_count": null,
   "metadata": {},
   "outputs": [],
   "source": [
    "# Deploy a Crow with Frame Paths\n",
    "frame_paths = [\n",
    "    FramePath(path=\"state.pdbs\", type=\"pdb\", is_iterable=True),\n",
    "    FramePath(path=\"state.single_pdb\", type=\"pdb\"),\n",
    "]\n",
    "\n",
    "crow = CrowDeploymentConfig(\n",
    "    path=Path(\"../../envs/dummy_env\"),\n",
    "    environment=\"dummy_env.env.DummyEnv\",\n",
    "    requires_aviary_internal=False,\n",
    "    environment_variables={\"SAMPLE_ENV_VAR\": \"sample_val\"},\n",
    "    agent=\"ldp.agent.SimpleAgent\",\n",
    "    container_config=DockerContainerConfiguration(cpu=\"1\", memory=\"2Gi\"),\n",
    "    force=True,\n",
    "    frame_paths=frame_paths,\n",
    "    task_description=\"This is a dummy task\",\n",
    ")\n",
    "client.create_crow(crow)"
   ]
  },
  {
   "cell_type": "code",
   "execution_count": null,
   "metadata": {},
   "outputs": [],
   "source": [
    "while client.get_build_status()[\"status\"] != \"SUCCESS\":\n",
    "    time.sleep(5)\n",
    "print(client.get_build_status())"
   ]
  }
 ],
 "metadata": {
  "kernelspec": {
   "display_name": ".venv",
   "language": "python",
   "name": "python3"
  },
  "language_info": {
   "codemirror_mode": {
    "name": "ipython",
    "version": 3
   },
   "file_extension": ".py",
   "mimetype": "text/x-python",
   "name": "python",
   "nbconvert_exporter": "python",
   "pygments_lexer": "ipython3"
  }
 },
 "nbformat": 4,
 "nbformat_minor": 4
}
