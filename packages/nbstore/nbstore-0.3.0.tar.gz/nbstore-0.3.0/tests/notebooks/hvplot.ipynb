{
 "cells": [
  {
   "cell_type": "code",
   "execution_count": null,
   "metadata": {},
   "outputs": [],
   "source": [
    "import hvplot\n",
    "import hvplot.polars\n",
    "import polars as pl\n",
    "\n",
    "from nbstore.formatter import set_formatter\n",
    "\n",
    "hvplot.extension(\"matplotlib\")  # type: ignore\n",
    "hvplot.output(dpi=100)\n",
    "set_formatter(\"holoviews\", \"pgf\")"
   ]
  },
  {
   "cell_type": "code",
   "execution_count": null,
   "metadata": {},
   "outputs": [],
   "source": [
    "# #fig:hvplot\n",
    "df = pl.DataFrame({\"x\": [1, 2], \"y\": [3, 4]})\n",
    "df.hvplot(\"x\", \"y\", kind=\"scatter\", width=300)  # type: ignore"
   ]
  }
 ],
 "metadata": {
  "kernelspec": {
   "display_name": ".venv",
   "language": "python",
   "name": "python3"
  },
  "language_info": {
   "codemirror_mode": {
    "name": "ipython",
    "version": 3
   },
   "file_extension": ".py",
   "mimetype": "text/x-python",
   "name": "python",
   "nbconvert_exporter": "python",
   "pygments_lexer": "ipython3",
   "version": "3.13.2"
  }
 },
 "nbformat": 4,
 "nbformat_minor": 2
}
