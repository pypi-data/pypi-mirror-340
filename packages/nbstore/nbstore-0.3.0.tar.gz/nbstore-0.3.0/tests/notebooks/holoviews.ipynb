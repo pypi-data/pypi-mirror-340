{
 "cells": [
  {
   "cell_type": "code",
   "execution_count": null,
   "metadata": {},
   "outputs": [],
   "source": [
    "import holoviews as hv\n",
    "import polars as pl\n",
    "\n",
    "from nbstore.formatter import set_formatter\n",
    "\n",
    "hv.extension(\"matplotlib\")  # type: ignore\n",
    "hv.output(dpi=100)\n",
    "set_formatter(\"holoviews\", \"pgf\")"
   ]
  },
  {
   "cell_type": "code",
   "execution_count": null,
   "metadata": {},
   "outputs": [],
   "source": [
    "# #fig:holoviews\n",
    "df = pl.DataFrame({\"x\": [1, 2], \"y\": [3, 4]})\n",
    "a = hv.Scatter(df, \"x\", \"y\")\n",
    "b = hv.Scatter(2 * df, \"x\", \"y\")\n",
    "(a + b).opts(fig_size=50)"
   ]
  }
 ],
 "metadata": {
  "kernelspec": {
   "display_name": ".venv",
   "language": "python",
   "name": "python3"
  },
  "language_info": {
   "codemirror_mode": {
    "name": "ipython",
    "version": 3
   },
   "file_extension": ".py",
   "mimetype": "text/x-python",
   "name": "python",
   "nbconvert_exporter": "python",
   "pygments_lexer": "ipython3",
   "version": "3.13.2"
  }
 },
 "nbformat": 4,
 "nbformat_minor": 2
}
