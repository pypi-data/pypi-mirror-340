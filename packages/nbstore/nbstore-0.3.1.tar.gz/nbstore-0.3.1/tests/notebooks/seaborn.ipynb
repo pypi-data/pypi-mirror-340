{
 "cells": [
  {
   "cell_type": "code",
   "execution_count": 3,
   "metadata": {},
   "outputs": [],
   "source": [
    "import matplotlib as mpl\n",
    "import pandas as pd\n",
    "import seaborn.objects as so\n",
    "\n",
    "from nbstore.formatter import set_formatter\n",
    "\n",
    "set_formatter(\"seaborn\", \"pgf\")\n",
    "\n",
    "mpl.rcParams[\"pgf.rcfonts\"] = False"
   ]
  },
  {
   "cell_type": "code",
   "execution_count": null,
   "metadata": {},
   "outputs": [],
   "source": [
    "# #fig:seaborn\n",
    "df = pd.DataFrame({\"x_1\": [1, 2], \"y\": [3, 4]})\n",
    "so.Plot(df, x=\"x_1\", y=\"y\").add(so.Dot())"
   ]
  },
  {
   "cell_type": "code",
   "execution_count": null,
   "metadata": {},
   "outputs": [],
   "source": []
  }
 ],
 "metadata": {
  "kernelspec": {
   "display_name": ".venv",
   "language": "python",
   "name": "python3"
  },
  "language_info": {
   "codemirror_mode": {
    "name": "ipython",
    "version": 3
   },
   "file_extension": ".py",
   "mimetype": "text/x-python",
   "name": "python",
   "nbconvert_exporter": "python",
   "pygments_lexer": "ipython3",
   "version": "3.13.2"
  }
 },
 "nbformat": 4,
 "nbformat_minor": 2
}
