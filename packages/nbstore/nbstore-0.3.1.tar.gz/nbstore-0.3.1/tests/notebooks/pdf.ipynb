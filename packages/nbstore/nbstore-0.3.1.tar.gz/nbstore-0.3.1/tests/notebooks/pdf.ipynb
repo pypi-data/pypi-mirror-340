{
  "cells": [
    {
      "cell_type": "code",
      "execution_count": 1,
      "metadata": {},
      "outputs": [],
      "source": [
        "import matplotlib_inline.backend_inline\n",
        "\n",
        "from nbstore.formatter import set_formatter\n",
        "\n",
        "matplotlib_inline.backend_inline.set_matplotlib_formats(\"retina\")\n",
        "set_formatter(\"matplotlib\", \"pdf\")"
      ]
    },
    {
      "cell_type": "code",
      "execution_count": null,
      "metadata": {},
      "outputs": [],
      "source": [
        "# #fig:pdf\n",
        "import matplotlib.pyplot as plt\n",
        "\n",
        "plt.plot([-1, 1], [-1, 1])"
      ]
    }
  ],
  "metadata": {
    "kernelspec": {
      "display_name": ".venv",
      "language": "python",
      "name": "python3"
    },
    "language_info": {
      "codemirror_mode": {
        "name": "ipython",
        "version": 3
      },
      "file_extension": ".py",
      "mimetype": "text/x-python",
      "name": "python",
      "nbconvert_exporter": "python",
      "pygments_lexer": "ipython3",
      "version": "3.13.2"
    }
  },
  "nbformat": 4,
  "nbformat_minor": 2
}
