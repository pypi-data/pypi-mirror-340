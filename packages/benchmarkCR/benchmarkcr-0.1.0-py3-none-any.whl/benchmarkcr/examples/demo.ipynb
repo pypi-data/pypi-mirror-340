{
 "cells": [
  {
   "cell_type": "markdown",
   "id": "734b5d11",
   "metadata": {},
   "source": [
    "# benchmarkCR (systematic CRISPR screen benchmarking framework) Usage\n",
    "\n",
    "This notebook shows how to use `benchmarkCR` for functional analysis of perturbation datasets."
   ]
  },
  {
   "cell_type": "code",
   "execution_count": null,
   "id": "fa920f92",
   "metadata": {},
   "outputs": [],
   "source": [
    "import benchmarkcr"
   ]
  },
  {
   "cell_type": "code",
   "execution_count": null,
   "id": "8c635a14",
   "metadata": {},
   "outputs": [],
   "source": [
    "inputs = {\n",
    "    \"Melanoma (63 Screens)\": {\n",
    "        \"path\": benchmarkcr.get_example_data_path(\"melanoma_cell_lines_500_genes.csv\"), \n",
    "        \"sort\": \"high\"\n",
    "    },\n",
    "    \"Liver (24 Screens)\": {\n",
    "        \"path\": benchmarkcr.get_example_data_path(\"liver_cell_lines_500_genes.csv\"), \n",
    "        \"sort\": \"high\"\n",
    "    },\n",
    "    \"Neuroblastoma (37 Screens)\": {\n",
    "        \"path\": benchmarkcr.get_example_data_path(\"neuroblastoma_cell_lines_500_genes.csv\"), \n",
    "        \"sort\": \"high\"\n",
    "    },\n",
    "}"
   ]
  },
  {
   "cell_type": "code",
   "execution_count": null,
   "id": "101d756f",
   "metadata": {},
   "outputs": [],
   "source": [
    "config = {\n",
    "    \"min_complex_size\": 3,\n",
    "    \"min_complex_size_for_percomplex\": 3,\n",
    "    \"output_folder\": \"output\",\n",
    "    \"gold_standard\": \"CORUM\",\n",
    "    \"color_map\": \"RdYlBu\",\n",
    "    \"jaccard\": True,\n",
    "    \"plotting\": {\n",
    "        \"save\": {\n",
    "            \"save_plot\": True,\n",
    "            \"output_type\": \"png\",\n",
    "            \"output_folder\": \"./output\",\n",
    "        }\n",
    "    },\n",
    "    \"preprocessing\": {\n",
    "        \"normalize\": False,\n",
    "        \"fill_na\": False,\n",
    "        \"drop_na\": True,\n",
    "    }\n",
    "}"
   ]
  },
  {
   "cell_type": "code",
   "execution_count": null,
   "id": "eaa9ac6f",
   "metadata": {},
   "outputs": [],
   "source": [
    "benchmarkcr.initialize(config)\n",
    "data, _ = benchmarkcr.load_datasets(inputs)\n",
    "terms, genes_in_terms = benchmarkcr.load_gold_standard()"
   ]
  },
  {
   "cell_type": "code",
   "execution_count": null,
   "id": "32f5b2d6",
   "metadata": {},
   "outputs": [],
   "source": [
    "for name, dataset in data.items():\n",
    "    df, pr_auc = benchmarkcr.pra(name, dataset)\n",
    "    pc = benchmarkcr.pra_percomplex(name, dataset)\n",
    "    cc = benchmarkcr.complex_contributions(name)"
   ]
  },
  {
   "cell_type": "code",
   "execution_count": null,
   "id": "69af2c13",
   "metadata": {},
   "outputs": [],
   "source": [
    "benchmarkcr.plot_auc_scores()\n",
    "benchmarkcr.plot_precision_recall_curve()\n",
    "benchmarkcr.plot_percomplex_scatter()\n",
    "benchmarkcr.plot_complex_contributions()\n",
    "benchmarkcr.plot_significant_complexes()"
   ]
  }
 ],
 "metadata": {
  "kernelspec": {
   "display_name": "p310",
   "language": "python",
   "name": "python3"
  },
  "language_info": {
   "codemirror_mode": {
    "name": "ipython",
    "version": 3
   },
   "file_extension": ".py",
   "mimetype": "text/x-python",
   "name": "python",
   "nbconvert_exporter": "python",
   "pygments_lexer": "ipython3",
   "version": "3.10.16"
  }
 },
 "nbformat": 4,
 "nbformat_minor": 5
}
