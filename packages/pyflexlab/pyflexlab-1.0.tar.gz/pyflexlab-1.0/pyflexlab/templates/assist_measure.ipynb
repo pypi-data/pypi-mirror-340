{
 "cells": [
  {
   "cell_type": "markdown",
   "metadata": {},
   "source": [
    "# preloading"
   ]
  },
  {
   "cell_type": "code",
   "execution_count": null,
   "metadata": {
    "ExecuteTime": {
     "end_time": "2024-09-15T16:46:06.365038Z",
     "start_time": "2024-09-15T16:46:03.968265Z"
    }
   },
   "outputs": [],
   "source": [
    "import os\n",
    "from pathlib import Path\n",
    "import datetime\n",
    "import time\n",
    "import numpy as np\n",
    "import matplotlib as mpl\n",
    "import matplotlib.pyplot as plt\n",
    "import pandas as pd\n",
    "import functools\n",
    "import itertools\n",
    "\n",
    "#os.environ[\"PYLAB_DB_LOCAL\"] = \"\"\n",
    "#os.environ[\"PYLAB_DB_OUT\"] = \"\"\n",
    "import pyflexlab\n",
    "from pyomnix.utils import CM_TO_INCH, next_lst_gen, constant_generator\n",
    "from pyomnix import DataManipulator\n",
    "from pyflexlab import FileOrganizer, DataProcess, MeasureFlow\n",
    "# Measure module will need the NIDAQmx module to work,"
   ]
  },
  {
   "cell_type": "code",
   "execution_count": null,
   "metadata": {
    "ExecuteTime": {
     "end_time": "2024-09-15T16:46:33.657109Z",
     "start_time": "2024-09-15T16:46:33.586555Z"
    }
   },
   "outputs": [],
   "source": [
    "project_name = \"Date-Material\"\n",
    "folder = DataProcess(project_name)\n",
    "measureflow = MeasureFlow(project_name)\n",
    "plotobj = DataManipulator(2)\n",
    "#Folder.add_measurement(\"RT\")\n",
    "#Folder.add_plan(\"RT\",\"__whole, measure the whole RT\")"
   ]
  },
  {
   "cell_type": "code",
   "execution_count": null,
   "metadata": {
    "ExecuteTime": {
     "end_time": "2024-09-15T16:46:36.094483Z",
     "start_time": "2024-09-15T16:46:36.090296Z"
    }
   },
   "outputs": [],
   "source": [
    "folder.tree()"
   ]
  },
  {
   "cell_type": "markdown",
   "metadata": {},
   "source": [
    "### Add measurement type if needed"
   ]
  },
  {
   "cell_type": "code",
   "execution_count": null,
   "metadata": {},
   "outputs": [],
   "source": [
    "#FileOrganizer.add_measurement_type(\"V_source_sweep_ac\",\"Vmax{maxv}V-step{stepv}V-freq{freq}Hz-{vhigh}-{vlow}\", overwrite=False)"
   ]
  },
  {
   "cell_type": "code",
   "execution_count": null,
   "metadata": {
    "ExecuteTime": {
     "end_time": "2024-09-15T16:46:48.158796Z",
     "start_time": "2024-09-15T16:46:48.153205Z"
    }
   },
   "outputs": [
    {
     "data": {
      "text/plain": [
       "('I-V-T',\n",
       " 'Imax{maxi}A-step{stepi}A-{iin}-{iout}-swpmode{mode}_V{note}-{vhigh}-{vlow}_Temp{Tstart}-{Tstop}K')"
      ]
     },
     "execution_count": 4,
     "metadata": {},
     "output_type": "execute_result"
    }
   ],
   "source": [
    "#FileOrganizer.name_fstr_gen(\"I_source_sweep_dc\",\"V_sense\",\"T_vary\")"
   ]
  },
  {
   "cell_type": "code",
   "execution_count": null,
   "metadata": {},
   "outputs": [],
   "source": [
    "#DataPlot.gui_pan_color()"
   ]
  },
  {
   "cell_type": "markdown",
   "metadata": {},
   "source": [
    "# Setup and Parameter"
   ]
  },
  {
   "cell_type": "code",
   "execution_count": null,
   "metadata": {},
   "outputs": [],
   "source": [
    "#measureflow.get_visa_resources()   # list all VISA resources\n",
    "#measureflow.load_meter(\"6221\",\"GPIB0::12::INSTR\")\n",
    "#measureflow.load_meter(\"2182\",\"GPIB0::7::INSTR\")\n",
    "#measureflow.load_meter(\"2400\",\"GPIB0::23::INSTR\")\n",
    "#measureflow.load_meter(\"6430\",\"GPIB0::24::INSTR\")\n",
    "#measureflow.load_meter(\"sr830\",\"GPIB0::8::INSTR\",\"GPIB0::9::INSTR\")\n",
    "#measureflow.load_mercury_ips(\"TCPIP0::10.97.24.237::7020::SOCKET\")\n",
    "#measureflow.load_mercury_itc(\"TCPIP0::10.94.28.24::7020::SOCKET\")\n",
    "#measureflow.load_ITC503(\"GPIB0::23::INSTR\",\"GPIB0::24::INSTR\")\n",
    "#measureflow.load_rotator()\n",
    "#measureflow.load_fakes()"
   ]
  },
  {
   "cell_type": "markdown",
   "metadata": {},
   "source": [
    "*****\n",
    "# Guidance for measurement"
   ]
  },
  {
   "cell_type": "markdown",
   "metadata": {},
   "source": [
    "### *sweep modes:*\n",
    "- DC\n",
    "    - 0-max-0\n",
    "    - 0--max-max-0\n",
    "    - manual\n",
    "- AC\n",
    "    - 0-max-0\n",
    "    - 0-max\n",
    "    - manual"
   ]
  },
  {
   "cell_type": "markdown",
   "metadata": {},
   "source": [
    "### Column Names:\n",
    "- time (default in generator)\n",
    "- X_source\n",
    "- X (sense->ext) \n",
    "    - (if lock-in, then X, Y, R, Theta)"
   ]
  },
  {
   "cell_type": "markdown",
   "metadata": {},
   "source": [
    "### Combination of Varies or Mappings\n",
    "- set `if_combine_gen=False` in `get_mea_dict` to get the list of generators instead of a whole list generator\n",
    "- use `constants.next_lst_gen` to get the next values list\n",
    "- replace mapping generators with constant generators (careful about the values) to temporarily pause the mapping and do varying, and remember to vary circularly (hysteretically) use `reverse=True`"
   ]
  },
  {
   "cell_type": "markdown",
   "metadata": {},
   "source": [
    "******"
   ]
  },
  {
   "cell_type": "markdown",
   "metadata": {},
   "source": [
    "# Example Usage\n",
    "For more usage and customization, please refer to the `measure_flow.py` file and documentation."
   ]
  },
  {
   "cell_type": "code",
   "execution_count": null,
   "metadata": {},
   "outputs": [],
   "source": [
    "measureflow.measure_Vswp_I_vicurve(\n",
    "    vmax=0.5,\n",
    "    vstep=0.005,\n",
    "    high=7,\n",
    "    low=4,\n",
    "    swpmode=\"0--max-max-0\",\n",
    "    meter=measureflow.instrs[\"2400\"][0],\n",
    "    compliance=\"1uA\",\n",
    "    folder_name=\"contact-test\",\n",
    "    step_time=0.4,\n",
    "    plotobj=plotobj,\n",
    ")"
   ]
  },
  {
   "cell_type": "code",
   "execution_count": null,
   "metadata": {},
   "outputs": [],
   "source": [
    "measureflow.measure_VswpVswp_II_BT_dsgatemapping(\n",
    "    constrained = False,\n",
    "    vds_max=0.01,\n",
    "    ds_map_lst = np.arange(0, 0.1, 0.001),\n",
    "    ds_high=0,\n",
    "    ds_low=0,\n",
    "    ds_meter=measureflow.instrs[\"2400\"][0],\n",
    "    ds_compliance=\"1uA\",\n",
    "    vg=0,\n",
    "    gate_map_lst = np.concatanete([np.arange(0, 50, 0.2), np.arange(50, 0, -0.2)]),\n",
    "    vg_high=0,\n",
    "    vg_meter=measureflow.instrs[\"6430\"][0],\n",
    "    vg_compliance=\"5nA\",\n",
    "    field=0,\n",
    "    temperature=2,\n",
    "    folder_name=\"\",\n",
    "    step_time = 1,\n",
    "    individual_plot = True,\n",
    "    ds_gate_order = (0, 1),\n",
    "    calculate_from_ds = None,\n",
    "    plotobj = plotobj,\n",
    ")"
   ]
  }
 ],
 "metadata": {
  "kernelspec": {
   "display_name": "unified",
   "language": "python",
   "name": "python3"
  },
  "language_info": {
   "codemirror_mode": {
    "name": "ipython",
    "version": 3
   },
   "file_extension": ".py",
   "mimetype": "text/x-python",
   "name": "python",
   "nbconvert_exporter": "python",
   "pygments_lexer": "ipython3",
   "version": "3.12.4"
  }
 },
 "nbformat": 4,
 "nbformat_minor": 4
}
