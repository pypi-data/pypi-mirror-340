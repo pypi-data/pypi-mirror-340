{
 "cells": [
  {
   "cell_type": "markdown",
   "metadata": {},
   "source": [
    "# preloading"
   ]
  },
  {
   "cell_type": "code",
   "execution_count": null,
   "metadata": {},
   "outputs": [],
   "source": [
    "import os\n",
    "from pathlib import Path\n",
    "import datetime\n",
    "import time\n",
    "import numpy as np\n",
    "import matplotlib as mpl\n",
    "import matplotlib.pyplot as plt\n",
    "from matplotlib import colormaps as cm\n",
    "from matplotlib.colors import LinearSegmentedColormap, ListedColormap\n",
    "import pandas as pd\n",
    "import functools\n",
    "import itertools\n",
    "\n",
    "# os.environ[\"PYLAB_DB_LOCAL\"] = \"\"\n",
    "# os.environ[\"PYLAB_DB_OUT\"] = \"\"\n",
    "import pyflexlab\n",
    "import pyomnix.pltconfig.color_preset as colors\n",
    "from pyomnix.utils import CM_TO_INCH, next_lst_gen, constant_generator\n",
    "from pyflexlab import DataProcess \n",
    "from pyomnix import DataManipulator "
   ]
  },
  {
   "cell_type": "code",
   "execution_count": null,
   "metadata": {},
   "outputs": [],
   "source": [
    "project_name = \"Date-Material\"\n",
    "folder = DataProcess(project_name)\n",
    "plotobj = DataManipulator(11)"
   ]
  },
  {
   "cell_type": "code",
   "execution_count": null,
   "metadata": {},
   "outputs": [],
   "source": [
    "folder.tree()"
   ]
  },
  {
   "cell_type": "markdown",
   "metadata": {},
   "source": [
    "### Colors Palette"
   ]
  },
  {
   "cell_type": "code",
   "execution_count": null,
   "metadata": {},
   "outputs": [],
   "source": [
    "#plotobj.gui_pan_color()"
   ]
  },
  {
   "cell_type": "markdown",
   "metadata": {},
   "source": [
    "## File Inspection"
   ]
  },
  {
   "cell_type": "code",
   "execution_count": null,
   "metadata": {},
   "outputs": [],
   "source": [
    "list(plotobj.proj_path.glob(\"*\"))"
   ]
  },
  {
   "cell_type": "code",
   "execution_count": null,
   "metadata": {},
   "outputs": [],
   "source": [
    "os.startfile(plotobj.proj_path)  # open the explorer window"
   ]
  },
  {
   "cell_type": "markdown",
   "metadata": {},
   "source": [
    "# Colormap\n",
    "### Create Cmap\n",
    "```python\n",
    "mycmap = ListedColormap([\"red\", \"blue\", \"green\"])  # discrete colormap\n",
    "mycmap = LinearSegmentedColormap.from_list(\"custom\", [(0, \"red\"), (0.5, \"blue\"), (1, \"green\")], N = 256)  # Linear colormap (default to 256, continuous effect)\n",
    "colormaps.get_cmap(mycmap)  # plot the cmap to show the effect\n",
    "```\n",
    "### Modify Existing Cmap\n",
    "##### Reverse\n",
    "reverse any existing colormap by appending `_r` to its name or using the `.reversed()` method.\n",
    "##### Truncate a Cmap\n",
    "use `constants.truncate_cmap(cmap, min_val, max_val, n=256)`\n",
    "##### Combine Cmaps\n",
    "use `constants.combine_cmap(cmap_lst, segment=128)`"
   ]
  },
  {
   "cell_type": "markdown",
   "metadata": {},
   "source": [
    "#### Common Issues\n",
    "`(df1[col1] == val1) & (df2[col2] == val2)`, the parentheses here are necessary"
   ]
  },
  {
   "cell_type": "markdown",
   "metadata": {},
   "source": [
    "## Plotting Template"
   ]
  },
  {
   "cell_type": "markdown",
   "metadata": {},
   "source": [
    "### load files\n",
    "```python\n",
    "for ivg in gate_lst:\n",
    "    try: # use try to allow vague search\n",
    "        df_loaded = plotobj.load_dfs(mod_tuple, *vars, tmpfolder=\"\")\n",
    "        loop = plotobj.identify_direction(df_loaded, \"B\")  # add direction label\n",
    "        pos = loop[loop[\"direction\"] == 1]\n",
    "        neg = loop[loop[\"direction\"] == -1]\n",
    "        plotobj.load_dfs(idx, pos, f\"rhpos-vg{ivg}\")\n",
    "        plotobj.load_dfs(idx+1, neg, f\"rhpos-vg{ivg}\")\n",
    "        idx += 2\n",
    "    except:\n",
    "        pass\n",
    "```\n",
    "### plot data \n",
    "```python\n",
    "fig, ax, para = plotobj.init_canvas(3,3 ,10*5, 6.28*5, lines_per_fig=10)\n",
    "plotobj.set_unit({\"I\":\"uA\"})\n",
    "\n",
    "axtwin = ax.twinx()\n",
    "# params[int, int, int] is multidimension-array-like, params[int] is flattened-array-like\n",
    "params[0,0,0].update(label=\"\")  # could also use one int to index the params._flatten\n",
    "\n",
    "line = ax.plot(x, y,**params[0,0,0])\n",
    "line2 = axtwin.plot(x, y,**params[0,0,1])\n",
    "\n",
    "ax[idx, idy].set_xlabel(rf\"$I$ ({plotobj.unit_texname(\"I\")})\")\n",
    "ax.flatten()[idx].set_ylabel(rf\"$V$ ({plotobj.unit_texname(\"V\")})\")\n",
    "axtwin.set_ylabel(rf\"$V$ ({plotobj.unit_texname(\"V\")})\")\n",
    "plotobj.paint_colors_twin_axes(ax_left=ax, color_left=\"r\", ax_right=axtwin, color_right=\"b\")\n",
    "# line is a list, so use addition to combine all of them\n",
    "ax.legend(handles = line+line2, labels=[i.get_label() for i in line+line2],loc = \"best\", prop=plotobj.legend_font)\n",
    "ax.set_title(r\"\")\n",
    "```"
   ]
  },
  {
   "cell_type": "markdown",
   "metadata": {},
   "source": [
    "### For multiple lines\n",
    "- use addition to add lines to a lst for legend management (`line_lst += ax.plot(...)`)\n",
    "- use `cmap = LinearSegmentedColormap.from_list(...)` to get cmap, and use `cmap(idx)` to get the color\n",
    "- modify the params length in `init_canvas`, and modify parameters for each line in params"
   ]
  },
  {
   "cell_type": "markdown",
   "metadata": {},
   "source": [
    "### Contourf\n",
    "`tricontourf` is for not aligned contour (1-D arrays)\n",
    "`contourf` is for aligned contour (2-D meshes)\n",
    "```python\n",
    "norm = mpl.colors.Normalize(vmin=-2E-8, vmax=2E-8)  # make white to be exactly 0\n",
    "tcf = ax.tricontourf(x_arr, y_arr, z_arr, levels=128, cmap=\"seismic\", norm=norm)\n",
    "cb = fig.colorbar(tcf)\n",
    "cb.set_label(rf\"$I$ (%)\")\n",
    "cb.set_ticks(np.linspace(-0.1,0.1,11))\n",
    "ax.set_xlabel(\"B (T)\")\n",
    "ax.set_ylabel(\"G (V)\")\n",
    "```"
   ]
  }
 ],
 "metadata": {
  "kernelspec": {
   "display_name": "unified",
   "language": "python",
   "name": "python3"
  },
  "language_info": {
   "codemirror_mode": {
    "name": "ipython",
    "version": 3
   },
   "file_extension": ".py",
   "mimetype": "text/x-python",
   "name": "python",
   "nbconvert_exporter": "python",
   "pygments_lexer": "ipython3",
   "version": "3.12.4"
  }
 },
 "nbformat": 4,
 "nbformat_minor": 2
}
