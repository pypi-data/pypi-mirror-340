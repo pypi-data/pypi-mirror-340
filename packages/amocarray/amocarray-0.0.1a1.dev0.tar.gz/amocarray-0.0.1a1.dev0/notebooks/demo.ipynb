{
 "cells": [
  {
   "cell_type": "markdown",
   "id": "c6a29764-f39c-431c-8e77-fbc6bfe20f01",
   "metadata": {},
   "source": [
    "# AMOCarray demo\n",
    "\n",
    "The purpose of this notebook is to demonstrate the functionality of `AMOCarray`.\n",
    "\n",
    "The demo is organised to show\n",
    "\n",
    "- Step 1: Loading and plotting a sample dataset\n",
    "\n",
    "- Step 2: Exploring the dataset attributes and variables.\n",
    "\n",
    "Note that when you submit a pull request, you should `clear all outputs` from your python notebook for a cleaner merge.\n"
   ]
  },
  {
   "cell_type": "code",
   "execution_count": null,
   "id": "6a1920f3",
   "metadata": {},
   "outputs": [],
   "source": [
    "import pathlib\n",
    "import sys\n",
    "\n",
    "script_dir = pathlib.Path().parent.absolute()\n",
    "parent_dir = script_dir.parents[0]\n",
    "sys.path.append(str(parent_dir))\n",
    "\n",
    "import importlib_resources\n",
    "import importlib\n",
    "\n",
    "import xarray as xr\n",
    "import os\n",
    "import pooch\n",
    "from amocarray import readers, writers, plotters, tools, utilities\n"
   ]
  },
  {
   "cell_type": "code",
   "execution_count": null,
   "id": "1e070d18",
   "metadata": {},
   "outputs": [],
   "source": [
    "# Specify the path for writing datafiles\n",
    "data_path = os.path.join(parent_dir, 'data')"
   ]
  },
  {
   "cell_type": "markdown",
   "id": "9414445e",
   "metadata": {},
   "source": [
    "### Load RAPID 26°N"
   ]
  },
  {
   "cell_type": "code",
   "execution_count": null,
   "id": "fd849c48",
   "metadata": {},
   "outputs": [],
   "source": [
    "# Load data from data/moc_transports\n",
    "ds_rapid = readers.load_sample_dataset()\n",
    "ds_rapid = ds_rapid.rename_dims({'time': 'TIME'})\n",
    "ds_rapid = ds_rapid.rename({'time': 'TIME'})"
   ]
  },
  {
   "cell_type": "code",
   "execution_count": null,
   "id": "cde6d387",
   "metadata": {},
   "outputs": [],
   "source": [
    "plotters.show_contents(ds_rapid)"
   ]
  },
  {
   "cell_type": "code",
   "execution_count": null,
   "id": "c0e74af4",
   "metadata": {},
   "outputs": [],
   "source": [
    "import matplotlib.pyplot as plt\n",
    "\n",
    "# Resample the dataset to monthly averages\n",
    "ds_monthly = ds_rapid.resample(TIME='ME').mean()\n",
    "\n",
    "# Initialize the figure and axes with a specific figure size\n",
    "fig, axes = plt.subplots(figsize=(8, 3))\n",
    "\n",
    "# Plot the original dataset in thin grey\n",
    "plt.plot(ds_rapid['TIME'], ds_rapid['moc_mar_hc10'], color='grey', alpha=0.5, linewidth=0.5, label='Original')\n",
    "\n",
    "# Plot the monthly averaged dataset in thick red\n",
    "plt.plot(ds_monthly['TIME'], ds_monthly['moc_mar_hc10'], color='red', linewidth=1, label='Monthly Average')\n",
    "\n",
    "# Add a horizontal line at y=0\n",
    "plt.axhline(0, color='black', linestyle='--', linewidth=0.5)\n",
    "\n",
    "# Customize the axes\n",
    "axes.spines['top'].set_visible(False)\n",
    "axes.spines['right'].set_visible(False)\n",
    "\n",
    "# Add title and labels\n",
    "plt.title('RAPID 26°N - AMOC')\n",
    "plt.xlabel('Time')\n",
    "plt.ylabel('Transport [Sv]')\n",
    "plt.legend()\n",
    "\n"
   ]
  },
  {
   "cell_type": "markdown",
   "id": "17f61d98",
   "metadata": {},
   "source": [
    "### Load MOVE 16°N"
   ]
  },
  {
   "cell_type": "code",
   "execution_count": null,
   "id": "60f5279f",
   "metadata": {},
   "outputs": [],
   "source": [
    "datasets16 = readers.read_16N(\"https://mooring.ucsd.edu/move/nc/\")\n",
    "plotters.show_variables(datasets16)"
   ]
  },
  {
   "cell_type": "code",
   "execution_count": null,
   "id": "be4323ac",
   "metadata": {},
   "outputs": [],
   "source": [
    "# Resample the dataset to monthly averages\n",
    "ds_monthly = datasets16.resample(TIME='ME').mean()\n",
    "\n",
    "# Create a figure and axis\n",
    "fig, ax = plt.subplots(figsize=(10, 3))\n",
    "\n",
    "# Plot the total transport from the MOVE dataset in thin grey\n",
    "ax.plot(datasets16['TIME'], datasets16['TRANSPORT_TOTAL'], color='grey', alpha=0.5, linewidth=0.5, label='Total Transport')\n",
    "\n",
    "# Plot the monthly averaged dataset in thick red\n",
    "ax.plot(ds_monthly['TIME'], ds_monthly['TRANSPORT_TOTAL'], color='darkblue', linewidth=1, label='Monthly Average')\n",
    "# Add a horizontal line at y=0\n",
    "ax.axhline(0, color='black', linestyle='--', linewidth=0.5)\n",
    "\n",
    "# Customize the axes\n",
    "ax.spines['top'].set_visible(False)\n",
    "ax.spines['right'].set_visible(False)\n",
    "\n",
    "# Add labels, title, and legend\n",
    "ax.set_title('MOVE 16°N - NADW transport')\n",
    "ax.set_xlabel('Time')\n",
    "ax.set_ylabel('Transport [Sv]')\n",
    "ax.legend()\n",
    "\n",
    "# Customize the grid\n",
    "ax.grid(True, linestyle='--', alpha=0.5)"
   ]
  },
  {
   "cell_type": "markdown",
   "id": "1b8e3db0",
   "metadata": {},
   "source": [
    "### Load OSNAP"
   ]
  },
  {
   "cell_type": "code",
   "execution_count": null,
   "id": "63837cc1",
   "metadata": {},
   "outputs": [],
   "source": [
    "datasetsOSNAP = readers.read_osnap()\n",
    "plotters.show_variables(datasetsOSNAP)"
   ]
  },
  {
   "cell_type": "markdown",
   "id": "b5d72da3",
   "metadata": {},
   "source": [
    "### Load SAMBA 34.5°S"
   ]
  },
  {
   "cell_type": "code",
   "execution_count": null,
   "id": "76614b06",
   "metadata": {},
   "outputs": [],
   "source": [
    "datasets34S = readers.read_34S()"

   ]
  },
  {
   "cell_type": "code",
   "execution_count": null,
   "id": "8c356a46",
   "metadata": {},
   "outputs": [],
   "source": [
    "# Extract the upper and abyssal transport data\n",
    "ds = datasets34S[0]\n",
    "upper_transport = ds['UPPER_TRANSPORT']\n",
    "ds2 = datasets34S[1]\n",
    "moc_meinen = ds2['MOC']\n",
    "\n",
    "\n",
    "# Resample the dataset to monthly averages\n",
    "upper_transport_monthly = upper_transport.resample(TIME='ME').mean()\n",
    "moc_meinen_monthly = moc_meinen.resample(TIME='ME').mean()\n",
    "# Create a figure and axis\n",
    "fig, ax = plt.subplots(figsize=(10, 3))\n",
    "\n",
    "# Plot the original upper transport in thin blue\n",
    "ax.plot(upper_transport_monthly['TIME'], upper_transport_monthly, color='grey', linewidth=0.5, label='Kersale et al. 2020')\n",
    "ax.plot(moc_meinen_monthly['TIME'], moc_meinen_monthly, color='blue', alpha=1, linewidth=1.5, label='Meinen et al. 2018')\n",
    "\n",

    "\n",
    "# Add a horizontal line at y=0\n",
    "ax.axhline(0, color='black', linestyle='--', linewidth=0.5)\n",
    "\n",
    "# Customize the axes\n",
    "ax.spines['top'].set_visible(False)\n",
    "ax.spines['right'].set_visible(False)\n",
    "\n",
    "# Add labels, title, and legend\n",
    "ax.set_title('SAMBA 34.5°S')\n",
    "ax.set_xlabel('Time')\n",
    "ax.set_ylabel(f\"{upper_transport.attrs['standard_name']} [{upper_transport.attrs['units']}]\")\n",
    "ax.legend()\n",
    "# Set the x-axis limits from 2000 to 2022\n",
    "import pandas as pd\n",
    "ax.set_xlim([pd.Timestamp('2000-01-01'), pd.Timestamp('2022-12-31')])\n",
    "\n",
    "# Set the y-axis limits from -15 to 15\n",
    "ax.set_ylim([-15, 15])\n",
    "\n",
    "# Customize the grid\n",

    "ax.grid(True, linestyle='--', alpha=0.5)"
   ]
  },
  {
   "cell_type": "code",
   "execution_count": null,
   "id": "b8fa04d3",
   "metadata": {},
   "outputs": [],
   "source": [
    "importlib.reload(plotters)\n",
    "plotters.plot_monthly_anomalies(\n",
    "    osnap_data=datasetsOSNAP['MOC_ALL'],\n",
    "    rapid_data=ds_rapid['moc_mar_hc10'],\n",
    "    move_data=-datasets16['TRANSPORT_TOTAL'],\n",
    "    samba_data=datasets34S[1]['MOC'],\n",
    "    osnap_label='OSNAP',\n",
    "    rapid_label='RAPID 26°N',\n",
    "    move_label='MOVE 16°N',\n",
    "    samba_label='SAMBA 34.5°S'\n",
    ")\n"
   ]
  },
  {
   "cell_type": "code",
   "execution_count": null,
   "id": "7a285fd5",
   "metadata": {},
   "outputs": [],
   "source": []
  }
 ],
 "metadata": {
  "kernelspec": {
   "display_name": "venv",
   "language": "python",
   "name": "python3"
  },
  "language_info": {
   "codemirror_mode": {
    "name": "ipython",
    "version": 3
   },
   "file_extension": ".py",
   "mimetype": "text/x-python",
   "name": "python",
   "nbconvert_exporter": "python",
   "pygments_lexer": "ipython3",
   "version": "3.13.0"
  }
 },
 "nbformat": 4,
 "nbformat_minor": 5
}
