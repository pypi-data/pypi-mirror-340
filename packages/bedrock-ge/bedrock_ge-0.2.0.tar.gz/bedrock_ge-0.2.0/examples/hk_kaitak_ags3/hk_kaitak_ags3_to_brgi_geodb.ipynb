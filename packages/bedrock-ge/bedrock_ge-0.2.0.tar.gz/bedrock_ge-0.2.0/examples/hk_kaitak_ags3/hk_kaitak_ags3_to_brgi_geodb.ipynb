{
 "cells": [
  {
   "cell_type": "code",
   "execution_count": null,
   "id": "iLit",
   "metadata": {},
   "outputs": [
    {
     "name": "stderr",
     "output_type": "stream",
     "text": [
      "<span class=\"codehilite\"><div class=\"highlight\"><pre><span></span><span class=\"gt\">Traceback (most recent call last):</span>\n",
      "  File <span class=\"nb\">&quot;C:\\Users\\joost\\AppData\\Local\\uv\\cache\\archive-v0\\dQA0d0SPWT8zZkTIrkAqN\\lib\\site-packages\\marimo\\_runtime\\executor.py&quot;</span>, line <span class=\"m\">141</span>, in <span class=\"n\">execute_cell</span>\n",
      "<span class=\"w\">    </span><span class=\"n\">exec</span><span class=\"p\">(</span><span class=\"n\">cell</span><span class=\"o\">.</span><span class=\"n\">body</span><span class=\"p\">,</span> <span class=\"n\">glbls</span><span class=\"p\">)</span>\n",
      "  File <span class=\"nb\">&quot;C:\\Users\\joost\\AppData\\Local\\Temp\\marimo_13688\\__marimo__cell_iLit_.py&quot;</span>, line <span class=\"m\">13</span>, in <span class=\"n\">&lt;module&gt;</span>\n",
      "<span class=\"w\">    </span><span class=\"kn\">from</span><span class=\"w\"> </span><span class=\"nn\">bedrock.gi.ags.read</span><span class=\"w\"> </span><span class=\"kn\">import</span> <span class=\"n\">ags_to_dfs</span>\n",
      "<span class=\"gr\">ModuleNotFoundError</span>: <span class=\"n\">No module named &#39;bedrock&#39;</span>\n",
      "</pre></div>\n",
      "</span>"
     ]
    }
   ],
   "source": [
    "import io\n",
    "import zipfile\n",
    "\n",
    "import chardet\n",
    "import requests\n",
    "\n",
    "from bedrock.gi.ags.read import ags_to_dfs\n",
    "from bedrock.gi.ags.transform import ags3_db_to_no_gis_brgi_db\n",
    "from bedrock.gi.concatenate import concatenate_databases\n",
    "from bedrock.gi.validate import check_no_gis_brgi_database"
   ]
  },
  {
   "cell_type": "code",
   "execution_count": null,
   "id": "Hstk",
   "metadata": {},
   "outputs": [],
   "source": [
    "def read_github_raw_url_into_memory(github_raw_url):\n",
    "    \"\"\"Read a file stored on GitHub into memory using the GitHub raw URL\"\"\"\n",
    "    response = requests.get(github_raw_url)\n",
    "\n",
    "    if response.status_code != 200:\n",
    "        print(f\"Error downloading file: {response.status_code}\")\n",
    "        return\n",
    "\n",
    "    return io.BytesIO(response.content)"
   ]
  },
  {
   "cell_type": "code",
   "execution_count": null,
   "id": "nWHF",
   "metadata": {},
   "outputs": [],
   "source": [
    "def zip_of_ags3s_to_bedrock_gi_database(zip_buffer, crs):\n",
    "    \"\"\"Read AGS 3 files from a ZIP archive and convert them to a dictionary of pandas dataframes.\"\"\"\n",
    "    brgi_db = {}\n",
    "    with zipfile.ZipFile(zip_buffer) as zip_ref:\n",
    "        # Iterate over files and directories in the .zip archive\n",
    "        for file_name in zip_ref.namelist():\n",
    "            # Only process files that have an .ags or .AGS extension\n",
    "            if file_name.lower().endswith(\".ags\"):\n",
    "                print(f\"\\n🖥️ Processing {file_name} ...\")\n",
    "                with zip_ref.open(file_name) as ags3_file:\n",
    "                    ags3_data = ags3_file.read()\n",
    "                    detected_encoding = chardet.detect(ags3_data)[\"encoding\"]\n",
    "                    ags3_data = ags3_data.decode(detected_encoding)\n",
    "                # Convert content of a single AGS 3 file to a Dictionary of pandas dataframes (a database)\n",
    "                ags3_db = ags_to_dfs(ags3_data)\n",
    "                report_no = file_name.split(\"/\")[0]\n",
    "                ags3_db[\"PROJ\"][\"PROJ_ID\"] = file_name\n",
    "                ags3_db[\"PROJ\"][\"REPORT_NO\"] = int(report_no)\n",
    "                # Remove (Static) CPT AGS 3 group 'STCN' from brgi_db, because CPT data processing needs to be reviewed.\n",
    "                # Not efficient to create a GIS point for every point where a CPT measures a value.\n",
    "                if \"STCN\" in ags3_db.keys():\n",
    "                    del ags3_db[\"STCN\"]\n",
    "                # Create GI data tables with bedrock-gi names and add columns (project_uid, location_uid, sample_uid),\n",
    "                # such that data from multiple AGS files can be combined\n",
    "                brgi_db_from_1_ags3_file = ags3_db_to_no_gis_brgi_db(ags3_db, crs)\n",
    "                print(\n",
    "                    f\"🧐 Validating the Bedrock GI database from AGS file {file_name}...\"\n",
    "                )\n",
    "                check_no_gis_brgi_database(brgi_db_from_1_ags3_file)\n",
    "                print(\n",
    "                    f\"\\n✅ Succesfully converted {file_name} to Bedrock GI database and validated!\\n\"\n",
    "                )\n",
    "                print(\n",
    "                    f\"🧵 Concatenating Bedrock GI database for {file_name} to existing Bedrock GI database...\\n\"\n",
    "                )\n",
    "                brgi_db = concatenate_databases(brgi_db, brgi_db_from_1_ags3_file)\n",
    "\n",
    "                # Drop all rows that have completely duplicate rows in the Project table\n",
    "                brgi_db[\"Project\"] = brgi_db[\"Project\"].drop_duplicates()\n",
    "                # Then drop all that unfortunately still have a duplicate project_uid\n",
    "                brgi_db[\"Project\"] = brgi_db[\"Project\"].drop_duplicates(\n",
    "                    subset=\"project_uid\", keep=\"first\"\n",
    "                )\n",
    "    return brgi_db"
   ]
  },
  {
   "cell_type": "markdown",
   "id": "Hbol",
   "metadata": {
    "marimo": {
     "config": {
      "hide_code": true
     }
    }
   },
   "source": [
    "# AGS 3 Data in Kai Tak, Hong Kong\n",
    "\n",
    "This notebook walks you through converting Ground Inveestigation (GI) data in AGS 3 format to GI data represented as 3D GIS features, i.e. [simple feature GIS geometry](https://en.wikipedia.org/wiki/Simple_Features) + attributes, using `bedrock-gi`. Where AGS 3 is the GI data format commonly used in Hong Kong.\n",
    "\n",
    "## Context\n",
    "\n",
    "Kai Tak is a neighborhood in Kowloon, Hong Kong. One of the highlights of Kai Tak used to be it's airport, which holds a special place in aviation history due to its unique and challenging approach, which involved pilots making a steep descent over a densely populated area while making a sharp turn at the same time and then landing on a single runway that jutted out into Victoria Harbor. [Landing at Kai Tak Airport | YouTube](https://www.youtube.com/watch?v=OtnL4KYVtDE)\n",
    "\n",
    "In 1998 the new Hong Kong International Airport opened, and operations at Kai Tak Airport were ceased. After the closure, the former Kai Tak Airport and surrounding neighborhood underwent a massive redevelopment project to transform it into a new residential and commercial district, which is still continuing today.\n",
    "\n",
    "Have a look at the [Kai Tak Speckle Project](https://app.speckle.systems/projects/013aaf06e7/models/0e43d1f003,a739490298) to get an idea what Kai Tak looks like now. (Developents are going fast, so [Google Earth 3D](https://www.google.com/maps/@22.3065043,114.2020499,462a,35y,343.1h,75.5t/data=!3m1!1e3?entry=ttu) is a bit outdated.)\n",
    "\n",
    "## The Kai Tak AGS 3 ground investigation data\n",
    "\n",
    "Ground Investigation Data for all of Hong Kong can be found here:\n",
    "[GEO Data for Public Use](https://www.ginfo.cedd.gov.hk/GEOOpenData/eng/Default.aspx) → [Ground Investigation (GI) and Laboratory Test (LT) Records](https://www.ginfo.cedd.gov.hk/GEOOpenData/eng/GI.aspx)\n",
    "\n",
    "The Ground Investigation data specific to the Kai Tak neighborhood in Hong Kong can be found in the `bedrock-gi` library: [`bedrock-gi/data/ags3/hk/kaitak.zip`](https://github.com/bedrock-gi/bedrock-gi/blob/main/data/ags3/hk/kaitak.zip). This ZIP archive contains GI data from 90 locations (boreholes and CPTs).\n",
    "\n",
    "One of the AGS 3 files with GI data was left outside the `.zip` archive, such that you can have a look at the structure of an AGS 3 file: [`data/ags3/hk/kaitak_64475/ASD012162 AGS.ags`](https://github.com/bedrock-gi/bedrock-gi/blob/main/data/ags3/hk/kaitak_64475/ASD012162%20AGS.ags)"
   ]
  },
  {
   "cell_type": "markdown",
   "id": "MJUe",
   "metadata": {
    "marimo": {
     "config": {
      "hide_code": true
     }
    }
   },
   "source": [
    "## Converting the AGS 3 files to a relational database\n",
    "\n",
    "A relational database is a database with multiple tables that are linked to each other with relations. This type of database is ideal for storing GI data, given its hierarchical structure:\n",
    "\n",
    "```\n",
    "Project\n",
    " └───Location\n",
    "      ├───InSitu_TEST\n",
    "      └───Sample\n",
    "          └───Lab_TEST\n",
    "```\n",
    "\n",
    "Where `Project`, `Location`, `InSitu_TEST`, `Sample` and `Lab_TEST` are all tables that are linked to each other with the hierarchical structure shown above, meaning that all relations are many-to-one:\n",
    "\n",
    "- Each GI location (many) is related to one project.\n",
    "- Each sample or in-situ test (many) is related to one GI location.\n",
    "- Each lab test is related to one sample.\n",
    "\n",
    "In Python it's convenient to represent a relational database as a dictionary of dataframe's.\n",
    "\n",
    "### Getting the AGS 3 files\n",
    "\n",
    "To make it easy to run this notebook in the browser in marimo.app or Google Colab, the code below downloads the ZIP archive with AGS 3 data into memory and directly processes the data. However, you can also download the ZIP from [GitHub](https://github.com/bedrock-gi/bedrock-gi/blob/main/data/ags3/hk/kaitak.zip) (blob url, navigates to GitHub) or [here \\[ ↓ \\]](https://github.com/bedrock-gi/bedrock-gi/raw/main/data/ags3/hk/kaitak.zip) (raw url, downloads directly), and then read the ZIP into memory from your computer by running:\n",
    "\n",
    "```python\n",
    "zip_path = Path(\"path/to/your/archive.zip\")\n",
    "with open(zip_path, \"rb\") as f:\n",
    "    zip_buffer = io.BytesIO(f.read())\n",
    "```\n",
    "\n",
    "### Converting the ZIP of AGS 3 files to a dictionary of dataframes\n",
    "\n",
    "With the ZIP archive read to memory, the `zip_of_ags3s_to_bedrock_gi_database(zip_buffer, crs)` function can be used to convert the ZIP to a dictionary of dataframes. The result is shown below. Have a look at the different tables and the data in those tables. Make sure to use the search and filter functionality to explore the data if you're using marimo to run this notebook!\n",
    "\n",
    "Notice the additional columns that were added to the tables by `bedrock-gi`:\n",
    "\n",
    "- To make sure that the primary keys of the GI data tables are unique when putting data from multiple AGS files together:\n",
    "    `project_uid`, `location_uid`, `sample_uid`\n",
    "- To make it possible to generate 3D GIS geometry for the `Location`, `Sample` and `InSitu_TEST` tables:\n",
    "    In the `Location` table: `easting`, `northing`, `ground_level_elevation`, `depth_to_base`\n",
    "  In the `Sample` and `InSitu_TEST` tables: `depth_to_top` and, in case the test or sample is taken over a depth interval, `depth_to_base`."
   ]
  },
  {
   "cell_type": "code",
   "execution_count": null,
   "id": "vblA",
   "metadata": {},
   "outputs": [],
   "source": [
    "raw_url = \"https://github.com/bedrock-gi/bedrock-gi/raw/main/data/ags3/hk/kaitak.zip\"\n",
    "zip_buffer = read_github_raw_url_into_memory(raw_url)\n",
    "brgi_db = zip_of_ags3s_to_bedrock_gi_database(zip_buffer, CRS(\"EPSG:2326\"))\n",
    "brgi_db"
   ]
  },
  {
   "cell_type": "markdown",
   "id": "bkHC",
   "metadata": {
    "marimo": {
     "config": {
      "hide_code": true
     }
    }
   },
   "source": [
    "## Relational database to 3D geospatial database\n",
    "\n",
    "A geospatial database is a relational database that can also store geospatial data. There are two broad categories of geospatial data:\n",
    "\n",
    "1. [Raster data](https://en.wikipedia.org/wiki/GIS_file_format#Raster_formats): geographic information as a grid of pixels (cells), where each pixel stores a value corresponding to a specific location and attribute, such as elevation, temperature, or land cover. So, a Digital Elevation Model (DEM) is an example of GIS raster data.\n",
    "2. [Vector data](https://en.wikipedia.org/wiki/GIS_file_format#Vector_formats): tables in which each row contains:\n",
    "    - [Simple feature GIS geometry](https://en.wikipedia.org/wiki/Simple_Features), represented as [Well-Known Text](https://en.wikipedia.org/wiki/Well-known_text_representation_of_geometry). For example in the `InSitu_GEOL` and `InSitu_ISPT` tables:\n",
    "        `InSitu_GEOL`: a depth interval in a borehole where sand was found.\n",
    "        `InSitu_ISPT`: a point in a borehole where an SPT test was performed.\n",
    "    - Attributes that describe the GIS geometry. For example in the `InSitu_GEOL` and `InSitu_ISPT` tables:\n",
    "        `InSitu_GEOL`: the geology code (`GEOL_GEOL`), general description of stratum (`GEOL_DESC`), etc.\n",
    "        `InSitu_ISPT`: the SPT N-value (`ISPT_NVAL`), energy ratio of the hammer (`ISPT_ERAT`), etc.\n",
    "\n",
    "So, when representing GI data as 3D GIS features, we are talking about GIS vector data.\n",
    "\n",
    "### From GI dataframe to `geopandas.GeoDataFrame`\n",
    "\n",
    "In order to construct the 3D simple feature GIS geometry of the `Location`s, `Sample`s and `InSitu_TEST`s, a few more columns have to be calcualated for each of these tables: `elevation_at_top` and `elevation_at_base` if the in-situ test or sample was taken over a depth interval.\n",
    "\n",
    "The 3D simple feature GIS geometry as [WKT](https://en.wikipedia.org/wiki/Well-known_text_representation_of_geometry) for point tests and samples:\n",
    "`POINT (easting northing elevation_at_top)`\n",
    "\n",
    "The 3D simple feature GIS geometry as WKT for in-situ tests and samples taken over a depth interval:\n",
    "`LINESTRING (easting northing elevation_at_top, easting northing elevation_at_base)`\n",
    "\n",
    "Additionally, a `LonLatHeight` table is created which contains the GI locations at ground level in WGS84 - World Geodetic System 1984 - EPSG:4326 coordinates (Longitude, Latitude, Ellipsoidal Height), which in WKT looks like:\n",
    "`POINT (longitude latitude wgs84_ground_level_height)`\n",
    "\n",
    "The reason for creating the `LonLatHeight` table is that vertical lines in projected Coordinate Reference Systems (CRS) are often not rendered nicely by default in all web-mapping software. Vertical lines are often not visible when looking at a map from above, and not all web-mapping software is capable of handling geometry in non-WGS84, i.e. (Lon, Lat) coordinates.\n",
    "\n",
    "After creating the Bedrock GI 3D Geospatial Database `brgi_geodb` - which is a dictionary of [`geopandas.GeoDataFrame`](https://geopandas.org/en/stable/docs/reference/api/geopandas.GeoDataFrame.html#geopandas.GeoDataFrame)s - you can explore the Kai Tak GI on an interactive map with the [`geopandas.GeoDataFrame.explore`](https://geopandas.org/en/stable/docs/reference/api/geopandas.GeoDataFrame.explore.html#geopandas.GeoDataFrame.explore):"
   ]
  },
  {
   "cell_type": "code",
   "execution_count": null,
   "id": "lEQa",
   "metadata": {},
   "outputs": [],
   "source": [
    "brgi_geodb = calculate_gis_geometry(brgi_db)\n",
    "check_brgi_database(brgi_geodb)\n",
    "\n",
    "# Some ISPT_NVAL (SPT count) are not numeric, e.g. \"100/0.29\"\n",
    "# When converting to numeric, these non-numeric values are converted to NaN\n",
    "brgi_geodb[\"InSitu_ISPT\"][\"ISPT_NVAL\"] = pd.to_numeric(\n",
    "    brgi_geodb[\"InSitu_ISPT\"][\"ISPT_NVAL\"], errors=\"coerce\"\n",
    ")"
   ]
  },
  {
   "cell_type": "code",
   "execution_count": null,
   "id": "PKri",
   "metadata": {},
   "outputs": [],
   "source": [
    "lon_lat_gdf = brgi_geodb[\"LonLatHeight\"]\n",
    "lon_lat_gdf.explore()"
   ]
  },
  {
   "cell_type": "markdown",
   "id": "Xref",
   "metadata": {
    "marimo": {
     "config": {
      "hide_code": true
     }
    }
   },
   "source": [
    "Now that our GI is in a Geospatial database, it's also really easy to \"ask our GI data questions\". That is, visualize where we have GI data when certain filters are applied.\n",
    "\n",
    "For example, we can find the deepest SPT locations in boreholes where very soft or soft soil was found, meaning an SPT N-value of 10 or fewer blows:"
   ]
  },
  {
   "cell_type": "code",
   "execution_count": null,
   "id": "SFPL",
   "metadata": {},
   "outputs": [],
   "source": [
    "soft_soil_spt_se10_df = (\n",
    "    brgi_geodb[\"InSitu_ISPT\"]\n",
    "    .query(\"ISPT_NVAL <= 10\")\n",
    "    .drop(columns=\"geometry\")\n",
    "    .merge(lon_lat_gdf, on=\"location_uid\", how=\"inner\")\n",
    "    .loc[lambda df: df.groupby(\"location_uid\")[\"depth_to_top\"].idxmin()]\n",
    "    .reset_index(drop=True)\n",
    ")\n",
    "soft_soil_spt_se10_gdf = gpd.GeoDataFrame(\n",
    "    soft_soil_spt_se10_df,\n",
    "    geometry=soft_soil_spt_se10_df[\"geometry\"],\n",
    "    crs=\"EPSG:4326\",\n",
    ")\n",
    "soft_soil_spt_se10_gdf.explore()"
   ]
  },
  {
   "cell_type": "markdown",
   "id": "BYtC",
   "metadata": {
    "marimo": {
     "config": {
      "hide_code": true
     }
    }
   },
   "source": [
    "Make sure to explore the Kai Tak GI data yourself as well!\n",
    "\n",
    "For example, try to find the lowest point in the boreholes where the weathering grade is better than \"IV\", meaning that the `WETH_GRAD` column in the `InSitu_WETH` table cannot contain a \"V\".\n",
    "\n",
    "## Saving the GI geospatial database as a GeoPackage (.gpkg)\n",
    "\n",
    "Finally, lets write, i.e. persist `brgi_geodb` - a Python dictionary of `geopandas.GeoDataFrames` - to an actual geospatial database file, such that we can share our GI with others, create dashboards, access the GI data in QGIS or ArcGIS, and more...\n",
    "\n",
    "Now, a GeoPackage is an OGC-standardized extension of SQLite (a relational database in a single file, .sqlite or .db) that allows you to store any type of GIS data (both raster as well as vector data) in a single file that has the .gpkg extension. Therefore, many (open source) GIS software packages support GeoPackage!\n",
    "\n",
    "> [What about Shapefile and GeoJSON?](#what-about-shapefile-and-geojson)"
   ]
  },
  {
   "cell_type": "code",
   "execution_count": null,
   "id": "RGSE",
   "metadata": {},
   "outputs": [],
   "source": [
    "write_gi_db_to_gpkg(brgi_geodb, Path.cwd() / \"examples\" / \"output\" / \"kaitak_gi.gpkg\")"
   ]
  },
  {
   "cell_type": "markdown",
   "id": "Kclp",
   "metadata": {
    "marimo": {
     "config": {
      "hide_code": true
     }
    }
   },
   "source": [
    "## What's next?\n",
    "\n",
    "As mentioned above, the `kaitak_gi.gpkg` GeoPackage can be loaded into QGIS or ArcGIS. QGIS and ArcGIS have [connectors for Speckle](https://www.speckle.systems/connectors), which allows you to publish GIS data to Speckle.\n",
    "\n",
    "With the Speckle viewer you can visualize the GI data in context with data from other AEC software such as Civil3D (Click the balloon!):\n",
    "\n",
    "<iframe title=\"Speckle\" src=\"https://app.speckle.systems/projects/013aaf06e7/models/1cbe68ed69,44c8d1ecae,9535541c2b,a739490298,ff81bfa02b#embed=%7B%22isEnabled%22%3Atrue%7D\" width=\"100%\" height=\"400\" frameborder=\"0\"></iframe>\n",
    "\n",
    "Additionally, you can load the GI data in other software that Speckle has a connector for, such as Rhino / Grasshopper to enable parameteric geotechnical engineering workflows."
   ]
  },
  {
   "cell_type": "markdown",
   "id": "emfo",
   "metadata": {
    "marimo": {
     "config": {
      "hide_code": true
     }
    }
   },
   "source": [
    "## What about Shapefile and GeoJSON?\n",
    "\n",
    "### Shapefile\n",
    "\n",
    "Bluntly put, Shapefile is a bad format.\n",
    "\n",
    "Among other problems, Shapefile isn't just a single file. One has to at least share three files [(*.shp, *.dbf, *.shx)](https://en.wikipedia.org/wiki/Shapefile#Mandatory_files), which doesn't include the definition of a CRS. In case that doesn't sound terrible enough to you yet, please have a look at the fantastic website [switchfromshapefile.org](http://switchfromshapefile.org/).\n",
    "\n",
    "### GeoJSON\n",
    "\n",
    "GeoJSON is a nice, human readable file format for GIS vector data, which is especially useful for web services, but has a few drawbacks:\n",
    "\n",
    "- Although it is technically possible to use GeoJSON with more CRSs, the [specification states clearly](https://tools.ietf.org/html/rfc7946#section-4) that WGS84 with EPSG:4326 and coordinates (Lon, Lat, Height) is the only CRS that should be used in GeoJSON (see [switchfromshapefile.org](http://switchfromshapefile.org/#geojson)).\n",
    "- GeoJSON support in ArcGIS isn't fantastic. You have to go through [Geoprocessing - JSON to Features conversion tool](https://pro.arcgis.com/en/pro-app/latest/tool-reference/conversion/json-to-features.htm) to add a GeoJSON to your ArcGIS project, which is a bit cumbersome."
   ]
  }
 ],
 "metadata": {
  "language_info": {
   "name": "python"
  }
 },
 "nbformat": 4,
 "nbformat_minor": 5
}
