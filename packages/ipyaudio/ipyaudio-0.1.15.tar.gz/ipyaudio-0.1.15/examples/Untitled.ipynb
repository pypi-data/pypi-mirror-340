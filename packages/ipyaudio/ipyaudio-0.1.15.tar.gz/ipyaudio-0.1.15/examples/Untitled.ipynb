{
 "cells": [
  {
   "cell_type": "code",
   "execution_count": 1,
   "id": "66603572-848a-4585-bd04-d2e8cec85ba0",
   "metadata": {},
   "outputs": [
    {
     "data": {
      "application/vnd.jupyter.widget-view+json": {
       "model_id": "2af47c062d434693bfe638d6d65a3c7e",
       "version_major": 2,
       "version_minor": 0
      },
      "text/plain": [
       "VBox(children=(Recorder(value=None, config={'options': {'backend': 'WebAudio', 'container': '', 'waveColor': '…"
      ]
     },
     "metadata": {},
     "output_type": "display_data"
    }
   ],
   "source": [
    "from ipyaudio import Recorder, play, Player\n",
    "recorder = Recorder(verbose=True, sync=True)\n",
    "# 显示延迟？"
   ]
  },
  {
   "cell_type": "code",
   "execution_count": 3,
   "id": "3c8cc80a-6272-4f13-93ae-f437d45d7735",
   "metadata": {},
   "outputs": [
    {
     "data": {
      "application/vnd.jupyter.widget-view+json": {
       "model_id": "d8579b0495bb450785dc5d8faed754b9",
       "version_major": 2,
       "version_minor": 0
      },
      "text/plain": [
       "VBox(children=(Player(value=None, config={'options': {'autoScroll': True, 'backend': 'WebAudio', 'container': …"
      ]
     },
     "metadata": {},
     "output_type": "display_data"
    }
   ],
   "source": [
    "import time\n",
    "def gen():\n",
    "    for i in range(2):\n",
    "        time.sleep(0.3)\n",
    "        yield recorder.audio\n",
    "player = Player(gen(), verbose=True)\n",
    "player.play()"
   ]
  },
  {
   "cell_type": "code",
   "execution_count": null,
   "id": "6c749027-b579-481e-8bcf-57f27e47fe51",
   "metadata": {},
   "outputs": [],
   "source": []
  }
 ],
 "metadata": {
  "kernelspec": {
   "display_name": "Python 3 (ipykernel)",
   "language": "python",
   "name": "python3"
  },
  "language_info": {
   "codemirror_mode": {
    "name": "ipython",
    "version": 3
   },
   "file_extension": ".py",
   "mimetype": "text/x-python",
   "name": "python",
   "nbconvert_exporter": "python",
   "pygments_lexer": "ipython3",
   "version": "3.13.2"
  }
 },
 "nbformat": 4,
 "nbformat_minor": 5
}
