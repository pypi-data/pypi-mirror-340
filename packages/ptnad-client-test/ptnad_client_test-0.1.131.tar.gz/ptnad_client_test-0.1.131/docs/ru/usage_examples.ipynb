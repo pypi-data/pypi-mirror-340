{
 "cells": [
  {
   "cell_type": "markdown",
   "metadata": {},
   "source": [
    "## Подключение к PT NAD\n",
    "\n",
    "ptnad-client позволяет выполнять запросы к системе с использованием различных способов аутентификации.\n",
    "\n",
    "### Локальное подключение\n",
    "\n",
    "Для быстрого тестирования и отладки можно использовать локальное подключение. В качестве дефолтных значений используется логин \"administrator\" и пароль \"Administr@t0r\"."
   ]
  },
  {
   "cell_type": "code",
   "execution_count": 59,
   "metadata": {},
   "outputs": [],
   "source": [
    "from ptnad import PTNADClient\n",
    "\n",
    "# Подключение к локальному инстансу PT NAD (пример для тестовой среды)\n",
    "client = PTNADClient(\"https://ptlab-nad.ptlab.ptsecurity.ru\", verify_ssl=False)\n",
    "\n",
    "# Установка логина и пароля\n",
    "client.set_auth(username=\"administrator\", password=\"Administr@t0r\")\n",
    "\n",
    "# Подключаемся к сервису\n",
    "client.login()\n"
   ]
  },
  {
   "cell_type": "markdown",
   "metadata": {},
   "source": [
    "### Подключение через SSO\n",
    "\n",
    "Для подключения через SSO необходимо использовать auth_type=\"sso\" и параметры, которые можно получить из файла /opt/ptsecurity/etc/iam_cookie.json на сервере PT NAD.\n",
    "\n",
    "Пример структуры, получаемой при выводе содержимого \"iam_cookie.json\":\n",
    "\n",
    "```bash\n",
    "cat /opt/ptsecurity/etc/iam_cookie.json\n",
    "```\n",
    "\n",
    "```json\n",
    "{\n",
    "    \"iam\": {\n",
    "        \"id\": \"your_id\",\n",
    "        \"name\": \"PTLAB NAD\",\n",
    "        \"redirect_url\": \"https://ptlab-nad.ptlab.ptsecurity.ru\",\n",
    "        \"secret\": \"your_secret\",\n",
    "        \"token\": \"your_token\",\n",
    "        \"token_type\": \"reference\",\n",
    "        \"url\": \"https://ptlab-core.ptlab.ptsecurity.ru:3334\",\n",
    "        \"verify\": false\n",
    "    },\n",
    "    \"tms\": {\n",
    "        \"app_id\": \"your_app_id\",\n",
    "        \"display_name\": \"PTLAB NAD\",\n",
    "        \"endpoint\": \"https://ptlab-nad.ptlab.ptsecurity.ru\",\n",
    "        \"request_id\": \"your_request_id\",\n",
    "        \"token\": \"your_token\",\n",
    "        \"url\": \"https://ptlab-core.ptlab.ptsecurity.ru:3334\"\n",
    "    }\n",
    "}\n",
    "```\n",
    "\n",
    "Для подключения, необходимо взять информацию из ключей \"app_id\", \"secret\" и \"url\".\n",
    "В качестве auth_type указываем \"sso\", добавляем свои логин/пароль и оставшиеся поля из iam_cookie.json, где\n",
    "- client_id = id\n",
    "- client_secret = secret\n",
    "- sso_url = url\n",
    "\n",
    "По итогу получаем:\n",
    "\n",
    "```python\n",
    "client = PTNADClient(\"https://ptlab-nad.ptlab.ptsecurity.ru\", verify_ssl=False)\n",
    "client.set_auth(\n",
    "    auth_type=\"sso\",\n",
    "    username=\"user\",\n",
    "    password=\"pass\",\n",
    "    client_id=\"your_id\",\n",
    "    client_secret=\"your_secret\",\n",
    "    sso_url=\"https://ptlab-core.ptlab.ptsecurity.ru:3334\"\n",
    ")\n",
    "client.login()\n",
    "```\n",
    "\n",
    "Ссылка на код, где можно подробнее изучить механизмы авторизации: [Code Reference](https://reversenant.github.io/ptnad-client-test/reference/)"
   ]
  },
  {
   "cell_type": "markdown",
   "metadata": {},
   "source": [
    "### Примеры работы с библиотекой"
   ]
  },
  {
   "cell_type": "markdown",
   "metadata": {},
   "source": [
    "#### BQL-запросы\n",
    "\n",
    "В этом примере демонстрируется работа с кастомными фильтрами, хранящимися в файле \"docs\\data\\pilot_filters.json\", и выполнение BQL-запросов к PT NAD. Для примера выберем только два поля: IP-адрес источника (src.ip) и IP-адрес назначения (dst.ip). Также ограничим вывод фильтров - по одному на каждую категорию, по 3 события:\n",
    "- Локально подключаемся PT NAD.\n",
    "- Загружаем фильтры из файла pilot_filters.json, где каждый фильтр содержит BQL-фрагмент, имя и категорию (есть возможность выбора языка).\n",
    "- Формируем базовый запрос с временным диапазоном (последние 3 дня).\n",
    "- Объединяем базовый запрос с фильтрами.\n",
    "- Группируем запросы по категориям.\n",
    "- Выполняем каждый запрос и выводим результаты с указанием:\n",
    "    - категории фильтра;\n",
    "    - его названия;\n",
    "    - полного BQL-запроса;\n",
    "    - результата.\n",
    "\n",
    "Более подробно про возможные параметры фильтрации и их значения можно почитать тут - [PT NAD Справка](https://help.ptsecurity.com/ru-RU/projects/nad/12.2/help/7083891595)"
   ]
  },
  {
   "cell_type": "code",
   "execution_count": 72,
   "metadata": {},
   "outputs": [
    {
     "name": "stdout",
     "output_type": "stream",
     "text": [
      "\n",
      "▶️ Категория: Протоколы\n",
      "\n",
      "🔹 Telnet\n",
      "SELECT src.ip, dst.ip FROM flow WHERE start > '2025-04-07T12:44:18' AND end < '2025-04-10T12:44:18' AND (app_proto == 'telnet')\n",
      "Results:\n",
      "Нет результатов.\n",
      "\n",
      "▶️ Категория: Данные\n",
      "\n",
      "🔹 Сессии с файлами\n",
      "SELECT src.ip, dst.ip FROM flow WHERE start > '2025-04-07T12:44:18' AND end < '2025-04-10T12:44:18' AND (files)\n",
      "Results:\n",
      "1. ['10.125.9.10', '10.125.136.66']\n",
      "2. ['10.125.143.4', '23.210.252.238']\n",
      "3. ['10.125.9.10', '10.125.136.66']\n",
      "\n",
      "▶️ Категория: Анонимность\n",
      "\n",
      "🔹 OpenVPN\n",
      "SELECT src.ip, dst.ip FROM flow WHERE start > '2025-04-07T12:44:18' AND end < '2025-04-10T12:44:18' AND (app_proto == openvpn)\n",
      "Results:\n",
      "Нет результатов.\n",
      "\n",
      "▶️ Категория: Сеть\n",
      "\n",
      "🔹 Трафик без доменного имени\n",
      "SELECT src.ip, dst.ip FROM flow WHERE start > '2025-04-07T12:44:18' AND end < '2025-04-10T12:44:18' AND (dst.groups != 'HOME_NET' && !dst.dns)\n",
      "Results:\n",
      "1. ['10.125.101.6', '10.158.2.22']\n",
      "2. ['10.125.126.5', '10.158.6.143']\n",
      "3. ['10.125.101.3', '10.158.2.22']\n",
      "\n",
      "▶️ Категория: Веб\n",
      "\n",
      "🔹 Digital Ocean\n",
      "SELECT src.ip, dst.ip FROM flow WHERE start > '2025-04-07T12:44:18' AND end < '2025-04-10T12:44:18' AND (dst.geo.org == 'DigitalOcean, LLC' || dst.geo.org == 'Amazon.com, Inc.')\n",
      "Results:\n",
      "Нет результатов.\n",
      "\n",
      "▶️ Категория: Мессенджеры\n",
      "\n",
      "🔹 Telegram\n",
      "SELECT src.ip, dst.ip FROM flow WHERE start > '2025-04-07T12:44:18' AND end < '2025-04-10T12:44:18' AND (alert.msg == 'APP [PTsecurity] Telegram Messenger v3 HTTP' || alert.msg == 'APP [PTsecurity] Telegram Messenger v2' || alert.msg == 'APP [PTsecurity] Telegram Messenger')\n",
      "Results:\n",
      "Нет результатов.\n",
      "\n",
      "▶️ Категория: Домен\n",
      "\n",
      "🔹 Авторизация по LDAP\n",
      "SELECT src.ip, dst.ip FROM flow WHERE start > '2025-04-07T12:44:18' AND end < '2025-04-10T12:44:18' AND (credentials.password and app_proto == 'ldap')\n",
      "Results:\n",
      "1. ['10.125.135.21', '10.125.130.4']\n",
      "2. ['10.125.135.21', '10.125.130.4']\n",
      "3. ['10.125.135.21', '10.125.130.4']\n",
      "\n",
      "▶️ Категория: Удаленное управление\n",
      "\n",
      "🔹 TeamViewer 1\n",
      "SELECT src.ip, dst.ip FROM flow WHERE start > '2025-04-07T12:44:18' AND end < '2025-04-10T12:44:18' AND (dst.dns ~ '*.teamviewer.com')\n",
      "Results:\n",
      "Нет результатов.\n",
      "\n",
      "▶️ Категория: Атаки\n",
      "\n",
      "🔹 Реп. списки и правила\n",
      "SELECT src.ip, dst.ip FROM flow WHERE start > '2025-04-07T12:44:18' AND end < '2025-04-10T12:44:18' AND (rpt.cat && alert)\n",
      "Results:\n",
      "1. ['10.125.255.95', '10.125.122.4']\n",
      "2. ['10.125.255.95', '10.125.122.4']\n",
      "3. ['10.125.255.95', '10.125.122.4']\n"
     ]
    }
   ],
   "source": [
    "import json\n",
    "from datetime import datetime, timedelta\n",
    "from ptnad import PTNADClient\n",
    "\n",
    "client = PTNADClient(\"https://ptlab-nad.ptlab.ptsecurity.ru\", verify_ssl=False)\n",
    "client.set_auth(username=\"administrator\", password=\"Administr@t0r\")\n",
    "client.login()\n",
    "\n",
    "with open(\"../data/pilot_filters.json\", \"r\", encoding=\"utf-8\") as f:\n",
    "    data = json.load(f)\n",
    "\n",
    "now = datetime.now()\n",
    "start_time = (now - timedelta(days=3)).strftime(\"%Y-%m-%dT%H:%M:%S\")\n",
    "end_time = now.strftime(\"%Y-%m-%dT%H:%M:%S\")\n",
    "\n",
    "base_query = f\"SELECT src.ip, dst.ip FROM flow WHERE start > '{start_time}' AND end < '{end_time}'\"\n",
    "\n",
    "grouped_queries = {}\n",
    "\n",
    "for item in data[\"filters\"]:\n",
    "    category = item[\"category\"][\"ru\"]\n",
    "    name = item[\"name\"][\"ru\"]\n",
    "    filter_query = item[\"filter\"].strip()\n",
    "\n",
    "    if filter_query:\n",
    "        full_query = f\"{base_query} AND ({filter_query})\"\n",
    "        if category not in grouped_queries:\n",
    "            grouped_queries[category] = []\n",
    "        grouped_queries[category].append((name, full_query))\n",
    "\n",
    "for category, filters in grouped_queries.items():\n",
    "    print(f\"\\n▶️ Категория: {category}\")\n",
    "    for name, query in filters[:1]:\n",
    "        result = client.bql.execute(query)\n",
    "        print(f\"\\n🔹 {name}\\n{query}\")\n",
    "        print(\"Results:\")\n",
    "        if isinstance(result, list) and result:\n",
    "            for i, row in enumerate(result[:3], 1):\n",
    "                print(f\"{i}. {row}\")\n",
    "        else:\n",
    "            print(\"Нет результатов.\")"
   ]
  },
  {
   "cell_type": "markdown",
   "metadata": {},
   "source": [
    "#### Monitoring"
   ]
  },
  {
   "cell_type": "markdown",
   "metadata": {},
   "source": [
    "Получение общего статуса системы:"
   ]
  },
  {
   "cell_type": "code",
   "execution_count": 3,
   "metadata": {},
   "outputs": [
    {
     "name": "stdout",
     "output_type": "stream",
     "text": [
      "Статус: green\n"
     ]
    }
   ],
   "source": [
    "from ptnad import PTNADClient\n",
    "from ptnad.api.monitoring import MonitoringAPI\n",
    "\n",
    "client = PTNADClient(\"https://ptlab-nad.ptlab.ptsecurity.ru\", verify_ssl=False)\n",
    "client.set_auth(username=\"administrator\", password=\"Administr@t0r\")\n",
    "client.login()\n",
    "\n",
    "monitoring = MonitoringAPI(client)\n",
    "\n",
    "status = monitoring.get_status()\n",
    "\n",
    "print(f\"Статус: {status.status}\")\n",
    "for problem in status.problems:\n",
    "    print(f\"{problem}\")"
   ]
  },
  {
   "cell_type": "markdown",
   "metadata": {},
   "source": [
    "Получение списка всех триггеров"
   ]
  },
  {
   "cell_type": "code",
   "execution_count": null,
   "metadata": {},
   "outputs": [
    {
     "name": "stdout",
     "output_type": "stream",
     "text": [
      "\n",
      "Trigger ID: updates[PTSecurity]\n",
      "Тип: updates\n",
      "Статус: green\n",
      "Последнее обновление: 2025-04-10T11:17:41.667952Z\n",
      "\n",
      "Trigger ID: ptdpi-broker_unavailable\n",
      "Тип: stats\n",
      "Статус: green\n",
      "Последнее обновление: 2025-04-10T11:26:22.275682Z\n",
      "\n",
      "Trigger ID: ptdpi-worker@es_unavailable\n",
      "Тип: stats\n",
      "Статус: green\n",
      "Последнее обновление: 2025-04-10T11:26:22.275846Z\n",
      "\n",
      "Trigger ID: ptdpi-worker@dns_unavailable\n",
      "Тип: stats\n",
      "Статус: green\n",
      "Последнее обновление: 2025-04-10T11:26:22.275899Z\n",
      "\n",
      "Trigger ID: nad-reporter_unavailable\n",
      "Тип: stats\n",
      "Статус: green\n",
      "Последнее обновление: 2025-04-10T11:26:22.275953Z\n"
     ]
    }
   ],
   "source": [
    "from ptnad import PTNADClient\n",
    "from ptnad.api.monitoring import MonitoringAPI\n",
    "\n",
    "client = PTNADClient(\"https://ptlab-nad.ptlab.ptsecurity.ru\", verify_ssl=False)\n",
    "client.set_auth(username=\"administrator\", password=\"Administr@t0r\")\n",
    "client.login()\n",
    "\n",
    "monitoring = MonitoringAPI(client)\n",
    "\n",
    "triggers = monitoring.get_triggers()\n",
    "\n",
    "# Для удобства установлено ограничение на вывод 5 триггеров\n",
    "for trig in triggers[:5]:\n",
    "    print(f\"\\nTrigger ID: {trig.id}\")\n",
    "    print(f\"Тип: {trig.type}\")\n",
    "    print(f\"Статус: {trig.status}\")\n",
    "    print(f\"Последнее обновление: {trig.updated}\")"
   ]
  },
  {
   "cell_type": "markdown",
   "metadata": {},
   "source": [
    "#### Replists"
   ]
  },
  {
   "cell_type": "markdown",
   "metadata": {},
   "source": [
    "Получение всех списков"
   ]
  },
  {
   "cell_type": "code",
   "execution_count": 75,
   "metadata": {},
   "outputs": [
    {
     "name": "stdout",
     "output_type": "stream",
     "text": [
      "Общее количество: 954\n",
      "- [24858] ESC-manual-mekotio-ip (ip, items: 1)\n",
      "- [24311] ESC-auto-spyder-ip (ip, items: 1)\n",
      "- [25318] ESC-auto-mispadu-ip (ip, items: 1)\n",
      "- [25984] ESC-auto-apt35-ip (ip, items: 2)\n",
      "- [14896] malware (md5, items: 2856)\n",
      "- [23653] ESC-auto-apt28-ip (ip, items: 2)\n",
      "- [23000] ESC-manual-gsocket-ip (ip, items: 6)\n",
      "- [26133] ESC-manual-pocorat-ip (ip, items: 1)\n",
      "- [24067] ESC-manual-bandook-ip (ip, items: 1)\n",
      "- [23001] ESC-manual-stickywerewolf-darktrack-ip (ip, items: 1)\n",
      "- [23002] ESC-auto-stargazer_goblin-ip (ip, items: 1)\n",
      "- [25141] ESC-auto-chamelgang-ip (ip, items: 1)\n",
      "- [25153] ESC-auto-darkcomet-ip (ip, items: 1)\n",
      "- [25075] ESC-auto-warmcookie-ip (ip, items: 1)\n",
      "- [2118] ESC-auto-cloudeye-ip (ip, items: 19)\n"
     ]
    }
   ],
   "source": [
    "from ptnad import PTNADClient\n",
    "from ptnad.api.replists import RepListsAPI\n",
    "\n",
    "client = PTNADClient(\"https://ptlab-nad.ptlab.ptsecurity.ru\", verify_ssl=False)\n",
    "client.set_auth(username=\"administrator\", password=\"Administr@t0r\")\n",
    "client.login()\n",
    "\n",
    "replists = RepListsAPI(client)\n",
    "\n",
    "lists = replists.get_all_lists()\n",
    "print(f\"Общее количество: {len(lists)}\")\n",
    "\n",
    "# Для удобства установлено ограничение на вывод 15 списков\n",
    "for r in lists[:15]:\n",
    "    print(f\"- [{r['id']}] {r['name']} ({r['type']}, items: {r['items_count']})\")\n"
   ]
  },
  {
   "cell_type": "markdown",
   "metadata": {},
   "source": [
    "Поиск по ключевому слову"
   ]
  },
  {
   "cell_type": "code",
   "execution_count": 76,
   "metadata": {},
   "outputs": [
    {
     "name": "stdout",
     "output_type": "stream",
     "text": [
      "ESC-auto-apt35-ip\n",
      "ESC-auto-apt28-ip\n",
      "ESC-auto-apt-c-09-dns\n",
      "ESC-auto-apt43-ip\n",
      "unknown_apt_031525_ip\n",
      "unknown_apt_022025_ip\n",
      "ESC-auto-apt35-dns\n",
      "ET_alert_rules_APT_C_48\n",
      "ESC-auto-apt36-dns\n",
      "ESC-manual-apt35-ip\n",
      "ET_alert_rules_APT_C_23\n",
      "ET_alert_rules_APT10\n",
      "ET_alert_rules_APT42\n",
      "ET_alert_rules_APT28\n",
      "ET_alert_rules_APT32\n"
     ]
    }
   ],
   "source": [
    "results = replists.get_lists(search=\"APT\")\n",
    "\n",
    "# Для удобства установлено ограничение на вывод 15 элементов\n",
    "for r in results[:15]:\n",
    "    print(f\"{r['name']}\")"
   ]
  },
  {
   "cell_type": "markdown",
   "metadata": {},
   "source": [
    "Создание нового списка"
   ]
  },
  {
   "cell_type": "code",
   "execution_count": 48,
   "metadata": {},
   "outputs": [
    {
     "name": "stdout",
     "output_type": "stream",
     "text": [
      "Список создан: 26144\n"
     ]
    }
   ],
   "source": [
    "new_list = replists.create_list(\n",
    "    name=\"test_list_01\",\n",
    "    type=\"ip\",\n",
    "    color=\"1\",\n",
    "    description=\"Тестовый список IP-адресов\",\n",
    "    content=\"1.1.1.1\\n2.2.2.2\"\n",
    ")\n",
    "print(f\"Список создан: {new_list['id']}\")"
   ]
  },
  {
   "cell_type": "markdown",
   "metadata": {},
   "source": [
    "Обновление списка"
   ]
  },
  {
   "cell_type": "code",
   "execution_count": 49,
   "metadata": {},
   "outputs": [
    {
     "name": "stdout",
     "output_type": "stream",
     "text": [
      "Описание обновлено: Обновлённый тестовый список IP-адресов\n"
     ]
    }
   ],
   "source": [
    "updated = replists.update_list(list_id=new_list[\"id\"], description=\"Обновлённый тестовый список IP-адресов\")\n",
    "print(\"Описание обновлено:\", updated[\"description\"])"
   ]
  },
  {
   "cell_type": "markdown",
   "metadata": {},
   "source": [
    "Удаление списка"
   ]
  },
  {
   "cell_type": "code",
   "execution_count": 50,
   "metadata": {},
   "outputs": [
    {
     "name": "stdout",
     "output_type": "stream",
     "text": [
      "Список удалён\n"
     ]
    }
   ],
   "source": [
    "replists.delete_list(list_id=new_list[\"id\"])\n",
    "print(\"Список удалён\")"
   ]
  },
  {
   "cell_type": "markdown",
   "metadata": {},
   "source": [
    "#### Signatures"
   ]
  },
  {
   "cell_type": "markdown",
   "metadata": {},
   "source": [
    "Получение всех классов сигнатур"
   ]
  },
  {
   "cell_type": "code",
   "execution_count": 77,
   "metadata": {},
   "outputs": [
    {
     "name": "stdout",
     "output_type": "stream",
     "text": [
      "Not suspicious traffic (priority: 3)\n",
      "Unknown traffic (priority: 3)\n",
      "Potentially bad traffic (priority: 2)\n",
      "Information leak attempt (priority: 2)\n",
      "DoS attack attempt (priority: 2)\n",
      "Attempt to gain user privileges (priority: 2)\n",
      "Attempt to gain administrator privileges (priority: 2)\n",
      "RPC query decoding (priority: 2)\n",
      "Executable code (priority: 1)\n",
      "Suspicious string (priority: 3)\n"
     ]
    }
   ],
   "source": [
    "from ptnad import PTNADClient\n",
    "from ptnad.api.signatures import SignaturesAPI\n",
    "\n",
    "client = PTNADClient(\"https://ptlab-nad.ptlab.ptsecurity.ru\", verify_ssl=False)\n",
    "client.set_auth(username=\"administrator\", password=\"Administr@t0r\")\n",
    "client.login()\n",
    "\n",
    "signatures = SignaturesAPI(client)\n",
    "\n",
    "classes = signatures.get_classes()\n",
    "\n",
    "# Для удобства установлено ограничение на вывод 10 классов\n",
    "for cls in classes[:10]:\n",
    "    print(f\"{cls['title']} (priority: {cls['priority']})\")\n"
   ]
  },
  {
   "cell_type": "markdown",
   "metadata": {},
   "source": [
    "Получение полной информации по одной сигнатуре"
   ]
  },
  {
   "cell_type": "code",
   "execution_count": 45,
   "metadata": {},
   "outputs": [
    {
     "name": "stdout",
     "output_type": "stream",
     "text": [
      "\n",
      "Rule #2007802 - ET SCAN Grim's Ping ftp scanning tool\n",
      "Vendor: ETOpen, Enabled: True\n"
     ]
    }
   ],
   "source": [
    "rules = signatures.get_rules(search=\"ftp\", cls=\"Network scan\")\n",
    "\n",
    "for r in rules:\n",
    "    print(f\"\\nRule #{r['sid']} - {r['msg']}\")\n",
    "    print(f\"Vendor: {r['vendor']}, Enabled: {r['enabled']}\")\n"
   ]
  }
 ],
 "metadata": {
  "kernelspec": {
   "display_name": "Python 3",
   "language": "python",
   "name": "python3"
  },
  "language_info": {
   "codemirror_mode": {
    "name": "ipython",
    "version": 3
   },
   "file_extension": ".py",
   "mimetype": "text/x-python",
   "name": "python",
   "nbconvert_exporter": "python",
   "pygments_lexer": "ipython3",
   "version": "3.13.1"
  }
 },
 "nbformat": 4,
 "nbformat_minor": 2
}
