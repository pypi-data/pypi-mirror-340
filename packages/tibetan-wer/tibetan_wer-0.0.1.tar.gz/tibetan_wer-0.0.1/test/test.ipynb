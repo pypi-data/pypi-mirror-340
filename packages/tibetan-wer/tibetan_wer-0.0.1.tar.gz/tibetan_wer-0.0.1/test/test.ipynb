{
 "cells": [
  {
   "cell_type": "code",
   "execution_count": 5,
   "id": "67e9df94",
   "metadata": {},
   "outputs": [
    {
     "name": "stdout",
     "output_type": "stream",
     "text": [
      "Requirement already satisfied: tibetan-wer in /home/j/Documents/tibetan-wer/.venv/lib/python3.12/site-packages (0.0.0)\n",
      "Requirement already satisfied: botok in /home/j/Documents/tibetan-wer/.venv/lib/python3.12/site-packages (from tibetan-wer) (0.9.0)\n",
      "Requirement already satisfied: numpy in /home/j/Documents/tibetan-wer/.venv/lib/python3.12/site-packages (from tibetan-wer) (2.2.4)\n",
      "Requirement already satisfied: pyyaml in /home/j/Documents/tibetan-wer/.venv/lib/python3.12/site-packages (from botok->tibetan-wer) (6.0.2)\n",
      "Requirement already satisfied: requests in /home/j/Documents/tibetan-wer/.venv/lib/python3.12/site-packages (from botok->tibetan-wer) (2.32.3)\n",
      "Requirement already satisfied: charset-normalizer<4,>=2 in /home/j/Documents/tibetan-wer/.venv/lib/python3.12/site-packages (from requests->botok->tibetan-wer) (3.4.1)\n",
      "Requirement already satisfied: idna<4,>=2.5 in /home/j/Documents/tibetan-wer/.venv/lib/python3.12/site-packages (from requests->botok->tibetan-wer) (3.10)\n",
      "Requirement already satisfied: urllib3<3,>=1.21.1 in /home/j/Documents/tibetan-wer/.venv/lib/python3.12/site-packages (from requests->botok->tibetan-wer) (2.4.0)\n",
      "Requirement already satisfied: certifi>=2017.4.17 in /home/j/Documents/tibetan-wer/.venv/lib/python3.12/site-packages (from requests->botok->tibetan-wer) (2025.1.31)\n"
     ]
    }
   ],
   "source": [
    "! pip install --upgrade tibetan-wer"
   ]
  },
  {
   "cell_type": "code",
   "execution_count": 8,
   "id": "f2bddc48",
   "metadata": {},
   "outputs": [
    {
     "name": "stdout",
     "output_type": "stream",
     "text": [
      "Name: tibetan-wer\n",
      "Version: 0.0.0\n",
      "Summary: Compute Word Error Rate for Tibetan language text.\n",
      "Home-page: https://github.com/billingsmoore/bocluster\n",
      "Author: \n",
      "Author-email: billingsmoore <billingsmoore@gmail.com>\n",
      "License: \n",
      "Location: /home/j/Documents/tibetan-wer/.venv/lib/python3.12/site-packages\n",
      "Editable project location: /home/j/Documents/tibetan-wer\n",
      "Requires: botok, numpy\n",
      "Required-by: \n"
     ]
    }
   ],
   "source": [
    "! pip show tibetan_wer"
   ]
  },
  {
   "cell_type": "code",
   "execution_count": 9,
   "id": "96f1cb0d",
   "metadata": {},
   "outputs": [
    {
     "ename": "ModuleNotFoundError",
     "evalue": "No module named 'tibetan_wer'",
     "output_type": "error",
     "traceback": [
      "\u001b[31m---------------------------------------------------------------------------\u001b[39m",
      "\u001b[31mModuleNotFoundError\u001b[39m                       Traceback (most recent call last)",
      "\u001b[36mCell\u001b[39m\u001b[36m \u001b[39m\u001b[32mIn[9]\u001b[39m\u001b[32m, line 1\u001b[39m\n\u001b[32m----> \u001b[39m\u001b[32m1\u001b[39m \u001b[38;5;28;01mfrom\u001b[39;00m\u001b[38;5;250m \u001b[39m\u001b[34;01mtibetan_wer\u001b[39;00m\u001b[34;01m.\u001b[39;00m\u001b[34;01mwer\u001b[39;00m\u001b[38;5;250m \u001b[39m\u001b[38;5;28;01mimport\u001b[39;00m wer\n\u001b[32m      3\u001b[39m prediction = \u001b[33m'\u001b[39m\u001b[33mའཇམ་དཔལ་གཞོན་ནུར་གྱུར་པ་ལ་ཕྱག་འཚལ་ལོ༔\u001b[39m\u001b[33m'\u001b[39m\n\u001b[32m      4\u001b[39m reference = \u001b[33m'\u001b[39m\u001b[33mགཞོན་ནུར་གྱུར་པ་ལ་ཕྱག་འཚལ་ལོ༔\u001b[39m\u001b[33m'\u001b[39m\n",
      "\u001b[31mModuleNotFoundError\u001b[39m: No module named 'tibetan_wer'"
     ]
    }
   ],
   "source": [
    "from tibetan_wer.wer import wer\n",
    "\n",
    "prediction = 'འཇམ་དཔལ་གཞོན་ནུར་གྱུར་པ་ལ་ཕྱག་འཚལ་ལོ༔'\n",
    "reference = 'གཞོན་ནུར་གྱུར་པ་ལ་ཕྱག་འཚལ་ལོ༔'\n",
    "\n",
    "wer_score = wer(prediction, reference)\n",
    "\n",
    "print(f'WER Score: {wer_score}')"
   ]
  }
 ],
 "metadata": {
  "kernelspec": {
   "display_name": ".venv",
   "language": "python",
   "name": "python3"
  },
  "language_info": {
   "codemirror_mode": {
    "name": "ipython",
    "version": 3
   },
   "file_extension": ".py",
   "mimetype": "text/x-python",
   "name": "python",
   "nbconvert_exporter": "python",
   "pygments_lexer": "ipython3",
   "version": "3.12.3"
  }
 },
 "nbformat": 4,
 "nbformat_minor": 5
}
