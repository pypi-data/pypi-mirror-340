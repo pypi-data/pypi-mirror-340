{
 "cells": [
  {
   "cell_type": "markdown",
   "metadata": {},
   "source": [
    "# TensorFlores - Example 3"
   ]
  },
  {
   "cell_type": "markdown",
   "metadata": {},
   "source": [
    "## 1. Importing libraries"
   ]
  },
  {
   "cell_type": "code",
   "execution_count": 1,
   "metadata": {},
   "outputs": [],
   "source": [
    "import sys, os\n",
    "path = os.getcwd().split('\\\\examples')[0]\n",
    "sys.path.append(path)"
   ]
  },
  {
   "cell_type": "code",
   "execution_count": null,
   "metadata": {},
   "outputs": [],
   "source": [
    "import pandas as pd\n",
    "import numpy as np\n",
    "import matplotlib.pyplot as plt\n",
    "import seaborn as sns\n",
    "\n",
    "from tensorflores.utils.clustering import ClusteringMethods\n",
    "from tensorflores.utils.quantization import Quantization\n",
    "from tensorflores.utils.cpp_generation import CppGeneration\n",
    "from tensorflores.utils.json_handle import JsonHandle"
   ]
  },
  {
   "cell_type": "markdown",
   "metadata": {},
   "source": [
    "## 2.  Create the TensorFlores class"
   ]
  },
  {
   "cell_type": "markdown",
   "metadata": {},
   "source": [
    "## 3. Load model from json"
   ]
  },
  {
   "cell_type": "code",
   "execution_count": 3,
   "metadata": {},
   "outputs": [
    {
     "name": "stdout",
     "output_type": "stream",
     "text": [
      "Successfully loaded JSON file: ./tensorflores_without_quant.json\n"
     ]
    },
    {
     "data": {
      "text/plain": [
       "{'model_quantized': False,\n",
       " 'num_layers': 3,\n",
       " 'layers': [{'activation': 'relu',\n",
       "   'weights': [[0.25130431662396613,\n",
       "     -1.2147914404241322,\n",
       "     -0.2884391170139249,\n",
       "     0.8606677711806703,\n",
       "     1.5018800063241295,\n",
       "     1.457068347654409,\n",
       "     2.485611518934096,\n",
       "     -0.2194694221104431,\n",
       "     1.44672478778409,\n",
       "     -0.036373508158682274,\n",
       "     -2.7866812544379806,\n",
       "     -0.5462811108638331,\n",
       "     0.5005394347543287,\n",
       "     0.046451653299363044,\n",
       "     -1.241076380766991,\n",
       "     0.24541163169106964],\n",
       "    [0.7360947147160628,\n",
       "     -0.22909043202182777,\n",
       "     -0.02888562950803397,\n",
       "     1.4740145700748322,\n",
       "     -0.972825532772787,\n",
       "     1.1031430486796638,\n",
       "     -0.8224112838985033,\n",
       "     -0.4990274814217257,\n",
       "     0.038942922605802455,\n",
       "     1.3026129213060025,\n",
       "     -0.977868792905857,\n",
       "     0.19823389720251328,\n",
       "     -1.0935966078970152,\n",
       "     1.2092028471045888,\n",
       "     -0.7700673867395008,\n",
       "     0.24021322746849333],\n",
       "    [1.1378215866161998,\n",
       "     0.008643173246605705,\n",
       "     -0.6594804193082676,\n",
       "     0.016496096434585293,\n",
       "     1.1809950202488912,\n",
       "     -1.6618199459360117,\n",
       "     1.2391240109167398,\n",
       "     0.8348225347407953,\n",
       "     -0.4982755277223971,\n",
       "     0.5887411396126568,\n",
       "     1.9910831205064137,\n",
       "     -0.410360722221189,\n",
       "     -0.5844452903962888,\n",
       "     -0.707437360100421,\n",
       "     -1.2415350115018677,\n",
       "     -1.0085503978733108]],\n",
       "   'biases': [-0.00661694117823328,\n",
       "    -0.011793890873857609,\n",
       "    0.008761852875022819,\n",
       "    -0.012785585881086903,\n",
       "    -0.0027887780188731335,\n",
       "    0.0005198726109704008,\n",
       "    -0.01640923879334639,\n",
       "    -0.0040365228696589706,\n",
       "    -0.004333346605972805,\n",
       "    -0.006451286568398461,\n",
       "    0.02048311797735747,\n",
       "    -0.014754874098237693,\n",
       "    -0.010347294840309273,\n",
       "    0.006467824805941737,\n",
       "    0.002257082829689511,\n",
       "    -0.0007130371317065206]},\n",
       "  {'activation': 'relu',\n",
       "   'weights': [[-0.1485636793511766,\n",
       "     0.3569973851800046,\n",
       "     0.17908540512565607,\n",
       "     -0.523877698898761,\n",
       "     0.2945924250968459,\n",
       "     1.116635008713201,\n",
       "     0.42687132679557116,\n",
       "     1.0102292672725561],\n",
       "    [1.2547210736366834,\n",
       "     1.4752272780003175,\n",
       "     -0.45328894351466564,\n",
       "     1.0414994898562566,\n",
       "     -0.4472473205849872,\n",
       "     2.0979128794616053,\n",
       "     0.5269527636182276,\n",
       "     0.2518133406709035],\n",
       "    [-0.9441392957123559,\n",
       "     -0.6750334563431777,\n",
       "     0.501346465811451,\n",
       "     0.7561621982059055,\n",
       "     0.6152131928814151,\n",
       "     -0.9420826372525032,\n",
       "     -1.1021618286196757,\n",
       "     0.6699094525939754],\n",
       "    [0.5352327723617429,\n",
       "     -1.7938438142587556,\n",
       "     -0.5343812365606473,\n",
       "     1.1396737616705106,\n",
       "     0.36302727001850404,\n",
       "     0.11457044902237028,\n",
       "     -0.5067370410922932,\n",
       "     -0.9955378494486228],\n",
       "    [-0.4478905378279604,\n",
       "     -0.5032414043436796,\n",
       "     0.5580158757981062,\n",
       "     0.6985938355761102,\n",
       "     -0.3293936902581421,\n",
       "     -0.5377471148046655,\n",
       "     -1.1656855330407871,\n",
       "     -0.9418728454323618],\n",
       "    [1.763680904867001,\n",
       "     -0.7304675691115415,\n",
       "     -1.5941530682113298,\n",
       "     0.32190105564576454,\n",
       "     -0.2341177492162813,\n",
       "     1.343946796665376,\n",
       "     1.5432795962406816,\n",
       "     1.3548460259580757],\n",
       "    [-0.6158331790837044,\n",
       "     -0.9075132587846512,\n",
       "     -0.18737321800424672,\n",
       "     0.16804536046932989,\n",
       "     -0.5872912647331963,\n",
       "     0.8814396473790074,\n",
       "     -0.13163806140116968,\n",
       "     0.28043119455991633],\n",
       "    [-0.418018042618772,\n",
       "     1.3550861118141613,\n",
       "     1.0077904811716305,\n",
       "     1.4557116683102709,\n",
       "     -0.08877165232197029,\n",
       "     1.532732528696962,\n",
       "     0.32151601545443453,\n",
       "     -0.4252916316223109],\n",
       "    [0.2355449822832505,\n",
       "     0.021011609020350205,\n",
       "     0.6765907336904919,\n",
       "     -0.2055125703299116,\n",
       "     -0.012019329622008641,\n",
       "     1.6773548969042094,\n",
       "     -0.05185310700886722,\n",
       "     -1.5774350462048383],\n",
       "    [0.8724162811956299,\n",
       "     -0.7925989074620606,\n",
       "     -0.07749276692811417,\n",
       "     -0.9309781561471873,\n",
       "     0.7198293085493946,\n",
       "     -1.0770913258756176,\n",
       "     0.09791018116772175,\n",
       "     -0.48234644852580866],\n",
       "    [1.4647440293416336,\n",
       "     -0.5298677585198952,\n",
       "     -0.20334955368608285,\n",
       "     -0.5125437835940555,\n",
       "     -0.7764562281027877,\n",
       "     0.004242222388113183,\n",
       "     0.08571038693364064,\n",
       "     0.7869639011680545],\n",
       "    [0.34945572469841635,\n",
       "     -1.1314617429752925,\n",
       "     1.2865080774841469,\n",
       "     0.06977886431710244,\n",
       "     0.13661799544935907,\n",
       "     1.9597726048337496,\n",
       "     -0.46538064813283053,\n",
       "     -0.8371807153209272],\n",
       "    [-0.22277421167151476,\n",
       "     -0.2862962272219545,\n",
       "     0.6810733009125609,\n",
       "     -0.2045169607471015,\n",
       "     0.5905001708630732,\n",
       "     0.312131402668764,\n",
       "     1.1670274243342988,\n",
       "     -2.047408478142414],\n",
       "    [0.3274117151897499,\n",
       "     0.16215166284921767,\n",
       "     1.63865111365463,\n",
       "     1.3079013742172985,\n",
       "     -0.4613366756451735,\n",
       "     -1.5217601730486077,\n",
       "     1.5827349351697597,\n",
       "     1.140247155803638],\n",
       "    [-0.5495862537280967,\n",
       "     -1.1010219911121708,\n",
       "     0.3912969124561298,\n",
       "     1.9191618950105565,\n",
       "     1.1948614254162662,\n",
       "     0.2330976392748248,\n",
       "     0.6599943704106348,\n",
       "     -1.6211173406238175],\n",
       "    [-0.03489815422666802,\n",
       "     0.5227145409950461,\n",
       "     -1.383323314036505,\n",
       "     2.1831090028509856,\n",
       "     -0.3359312163901842,\n",
       "     -0.7739581288762516,\n",
       "     0.8886294000043664,\n",
       "     -1.467504544906624]],\n",
       "   'biases': [0.00614338070753355,\n",
       "    -0.0013846056296751823,\n",
       "    -0.00470371281584063,\n",
       "    -0.0008368695999715229,\n",
       "    0.0002615576281515959,\n",
       "    0.010889836801382757,\n",
       "    0.003939469766272716,\n",
       "    0.00184923021499863]},\n",
       "  {'activation': 'linear',\n",
       "   'weights': [[0.4824099067055086],\n",
       "    [0.1100612727241187],\n",
       "    [0.0986326662007946],\n",
       "    [0.8838276773487592],\n",
       "    [-0.5556334860221619],\n",
       "    [-0.407548802718415],\n",
       "    [-1.0388067433395756],\n",
       "    [0.20052746747409889]],\n",
       "   'biases': [0.0034703559530694685]}]}"
      ]
     },
     "execution_count": 3,
     "metadata": {},
     "output_type": "execute_result"
    }
   ],
   "source": [
    "model_as_json = JsonHandle().load_json_model('./tensorflores_without_quant')\n",
    "model_as_json"
   ]
  },
  {
   "cell_type": "markdown",
   "metadata": {},
   "source": [
    "## 4. Post-Training Quantization"
   ]
  },
  {
   "cell_type": "markdown",
   "metadata": {},
   "source": [
    "### 4.1 Evolving post-training quantization"
   ]
  },
  {
   "cell_type": "markdown",
   "metadata": {},
   "source": [
    "#### 4.1.1 Choose the quantization method\n",
    "\n",
    "- Autocloud \n",
    "    - bias_clustering_method = Clustering_method.autocloud_biases(threshold_biases = 1.4148)\n",
    "    - weight_clustering_method = Clustering_method.autocloud_weight(threshold_weights = 1.4148)\n",
    "\n",
    "- Meanshift\n",
    "    - weight_clustering_method = Clustering_method.meanshift_weight(bandwidth_weights = 0.005)\n",
    "    - bias_clustering_method = Clustering_method.meanshift_biases(bandwidth_biases = 0.005)\n",
    "\n",
    "- Affinity Propagation\n",
    "    - weight_clustering_method = Clustering_method.affinity_propagation_weight(affinityprop_damping_bias = 0.65)\n",
    "    - bias_clustering_method = Clustering_method.affinity_propagation_biases(affinityprop_damping_weight = 0.7)\n",
    "\n",
    "- DBSTREAM\n",
    "    - weight_clustering_method = Clustering_method.dbstream_weight(clustering_threshold_bias = 0.8)\n",
    "    - bias_clustering_method = Clustering_method.dbstream_biases(clustering_threshold_weight = 0.1)"
   ]
  },
  {
   "cell_type": "code",
   "execution_count": 4,
   "metadata": {},
   "outputs": [],
   "source": [
    "Clustering_method = ClusteringMethods()\n",
    "\n",
    "bias_clustering_method = Clustering_method.autocloud_biases(threshold_biases = 1.4)\n",
    "weight_clustering_method = Clustering_method.autocloud_weight(threshold_weights = 1.4)"
   ]
  },
  {
   "cell_type": "markdown",
   "metadata": {},
   "source": [
    "#### 4.1.2 Define the metric to calculate the distance between the centroids of the clusters and the values of weights and/or biases\n",
    "\n",
    "- \"euclidean\"\n",
    "- \"manhattan\"\n",
    "- \"minkowski\"\n",
    "- \"chebyshev\"\n",
    "- \"cosine\"\n",
    "- \"hamming\"\n",
    "- \"bray_curtis\"\n",
    "- \"jaccard\"\n",
    "- \"wasserstein\"\n",
    "- \"dtw\""
   ]
  },
  {
   "cell_type": "code",
   "execution_count": 5,
   "metadata": {},
   "outputs": [],
   "source": [
    "model_as_json_quant = Quantization().post_training_quantization(json_data = model_as_json,\n",
    "                                        quantization_type = 'evolving', \n",
    "                                        distance_metric = \"dtw\", \n",
    "                                        bias_clustering_method = bias_clustering_method,\n",
    "                                        weight_clustering_method = weight_clustering_method)"
   ]
  },
  {
   "cell_type": "code",
   "execution_count": 6,
   "metadata": {},
   "outputs": [
    {
     "data": {
      "text/plain": [
       "{'model_quantized': 'evolving',\n",
       " 'num_layers': 3,\n",
       " 'layers': [{'activation': 'relu',\n",
       "   'weights': [[109, 84, 0, 85, 1, 2, 3, 0, 4, 0, 5, 104, 86, 0, 6, 109],\n",
       "    [87, 0, 0, 7, 8, 9, 10, 107, 0, 11, 12, 109, 13, 14, 15, 109],\n",
       "    [16, 0, 88, 0, 17, 18, 19, 20, 107, 64, 21, 107, 95, 89, 6, 22]],\n",
       "   'biases': [2, 0, 1, 4, 2, 3, 4, 2, 2, 2, 5, 4, 0, 6, 3, 7]},\n",
       "  {'activation': 'relu',\n",
       "   'weights': [[0, 99, 109, 107, 109, 23, 96, 24],\n",
       "    [25, 7, 107, 26, 107, 27, 90, 109],\n",
       "    [28, 91, 86, 29, 30, 31, 32, 33],\n",
       "    [92, 34, 107, 16, 100, 109, 107, 35],\n",
       "    [107, 107, 93, 36, 107, 108, 37, 31],\n",
       "    [38, 39, 40, 106, 0, 41, 42, 43],\n",
       "    [94, 44, 0, 109, 97, 45, 0, 109],\n",
       "    [107, 43, 46, 2, 0, 47, 106, 107],\n",
       "    [109, 0, 48, 0, 0, 49, 0, 50],\n",
       "    [51, 52, 0, 53, 54, 55, 0, 107],\n",
       "    [56, 107, 0, 107, 57, 0, 0, 58],\n",
       "    [101, 59, 60, 0, 109, 61, 107, 62],\n",
       "    [0, 0, 63, 0, 64, 109, 65, 66],\n",
       "    [105, 109, 67, 68, 107, 69, 70, 16],\n",
       "    [103, 32, 98, 71, 72, 109, 73, 74],\n",
       "    [0, 75, 76, 77, 107, 78, 79, 80]],\n",
       "   'biases': [6, 7, 2, 7, 3, 8, 9, 3]},\n",
       "  {'activation': 'linear',\n",
       "   'weights': [[81], [109], [0], [82], [102], [107], [83], [109]],\n",
       "   'biases': [9]}],\n",
       " 'centers_bias': [-0.009598999868377102,\n",
       "  0.008761852875022819,\n",
       "  -0.004046224867536197,\n",
       "  0.0012219358209525342,\n",
       "  -0.015582056445792039,\n",
       "  0.020483117977357468,\n",
       "  0.0063056027567376435,\n",
       "  -0.0009781707871177419,\n",
       "  0.010889836801382755,\n",
       "  0.003704912859671092],\n",
       " 'centers_weights': [-0.10940148061877757,\n",
       "  1.5018800063241295,\n",
       "  1.4563900079823395,\n",
       "  2.485611518934096,\n",
       "  1.44672478778409,\n",
       "  -2.7866812544379806,\n",
       "  -1.241305696134429,\n",
       "  1.4746209240375752,\n",
       "  -0.9728255327727872,\n",
       "  1.1031430486796636,\n",
       "  -0.8224112838985033,\n",
       "  1.3026129213060025,\n",
       "  -0.9778687929058569,\n",
       "  -1.0935966078970152,\n",
       "  1.2092028471045886,\n",
       "  -0.7700673867395007,\n",
       "  1.1392475013634498,\n",
       "  1.1809950202488912,\n",
       "  -1.6618199459360117,\n",
       "  1.2391240109167398,\n",
       "  0.8348225347407953,\n",
       "  1.9910831205064137,\n",
       "  -1.0085503978733108,\n",
       "  1.116635008713201,\n",
       "  1.0102292672725561,\n",
       "  1.2547210736366836,\n",
       "  1.0414994898562566,\n",
       "  2.0979128794616053,\n",
       "  -0.9441392957123559,\n",
       "  0.7561621982059054,\n",
       "  0.6152131928814151,\n",
       "  -0.9419777413424323,\n",
       "  -1.1015919098659233,\n",
       "  0.6699094525939755,\n",
       "  -1.7938438142587554,\n",
       "  -0.9955378494486227,\n",
       "  0.6985938355761101,\n",
       "  -1.1656855330407871,\n",
       "  1.7636809048670008,\n",
       "  -0.7304675691115415,\n",
       "  -1.5941530682113296,\n",
       "  1.3439467966653762,\n",
       "  1.5432795962406813,\n",
       "  1.354966068886118,\n",
       "  -0.9075132587846512,\n",
       "  0.8814396473790075,\n",
       "  1.0077904811716305,\n",
       "  1.532732528696962,\n",
       "  0.6765907336904919,\n",
       "  1.6773548969042098,\n",
       "  -1.5774350462048385,\n",
       "  0.8724162811956298,\n",
       "  -0.7925989074620606,\n",
       "  -0.9309781561471872,\n",
       "  0.7198293085493946,\n",
       "  -1.0770913258756174,\n",
       "  1.4647440293416336,\n",
       "  -0.7764562281027875,\n",
       "  0.7869639011680545,\n",
       "  -1.1314617429752925,\n",
       "  1.2865080774841469,\n",
       "  1.9597726048337496,\n",
       "  -0.8371807153209273,\n",
       "  0.6810733009125609,\n",
       "  0.5896669455339285,\n",
       "  1.1670274243342988,\n",
       "  -2.0474084781424136,\n",
       "  1.63865111365463,\n",
       "  1.3079013742172987,\n",
       "  -1.5217601730486074,\n",
       "  1.58273493516976,\n",
       "  1.9191618950105565,\n",
       "  1.1948614254162664,\n",
       "  0.6599943704106347,\n",
       "  -1.621117340623818,\n",
       "  0.5227145409950461,\n",
       "  -1.383323314036505,\n",
       "  2.183109002850985,\n",
       "  -0.7739581288762516,\n",
       "  0.8886294000043664,\n",
       "  -1.4675045449066242,\n",
       "  0.48240990670550865,\n",
       "  0.8838276773487593,\n",
       "  -1.0388067433395756,\n",
       "  -1.2147914404241322,\n",
       "  0.8606677711806702,\n",
       "  0.5009429502828897,\n",
       "  0.7360947147160628,\n",
       "  -0.6594804193082676,\n",
       "  -0.707437360100421,\n",
       "  0.5269527636182276,\n",
       "  -0.6750334563431776,\n",
       "  0.5352327723617429,\n",
       "  0.5580158757981062,\n",
       "  -0.6158331790837043,\n",
       "  -0.5844452903962887,\n",
       "  0.42687132679557116,\n",
       "  -0.5872912647331963,\n",
       "  0.3912969124561298,\n",
       "  0.3569973851800047,\n",
       "  0.3630272700185041,\n",
       "  0.3494557246984164,\n",
       "  -0.5556334860221619,\n",
       "  -0.5495862537280967,\n",
       "  -0.546281110863833,\n",
       "  0.3274117151897499,\n",
       "  0.3217085355500995,\n",
       "  -0.5343812365606473,\n",
       "  -0.5377471148046655,\n",
       "  0.312131402668764]}"
      ]
     },
     "execution_count": 6,
     "metadata": {},
     "output_type": "execute_result"
    }
   ],
   "source": [
    "model_as_json_quant"
   ]
  },
  {
   "cell_type": "markdown",
   "metadata": {},
   "source": [
    "#### 4.1.3 Save model as C++"
   ]
  },
  {
   "cell_type": "code",
   "execution_count": 7,
   "metadata": {},
   "outputs": [
    {
     "name": "stdout",
     "output_type": "stream",
     "text": [
      "Model C++ saved!\n"
     ]
    },
    {
     "data": {
      "text/plain": [
       "'namespace Conect2AI {\\nnamespace TensorFlores {\\nclass MultilayerPerceptron {\\npublic: \\n\\nfloat predict(float *x) { \\nfloat y_pred = 0;\\nstatic const float center_bias[10] = {-0.009598999868377102, 0.008761852875022819, -0.004046224867536197, 0.0012219358209525342, -0.015582056445792039, 0.020483117977357468, 0.0063056027567376435, -0.0009781707871177419, 0.010889836801382755, 0.003704912859671092};\\n\\nstatic const float centers_weights[110] = {-0.10940148061877757, 1.5018800063241295, 1.4563900079823395, 2.485611518934096, 1.44672478778409, -2.7866812544379806, -1.241305696134429, 1.4746209240375752, -0.9728255327727872, 1.1031430486796636, -0.8224112838985033, 1.3026129213060025, -0.9778687929058569, -1.0935966078970152, 1.2092028471045886, -0.7700673867395007, 1.1392475013634498, 1.1809950202488912, -1.6618199459360117, 1.2391240109167398, 0.8348225347407953, 1.9910831205064137, -1.0085503978733108, 1.116635008713201, 1.0102292672725561, 1.2547210736366836, 1.0414994898562566, 2.0979128794616053, -0.9441392957123559, 0.7561621982059054, 0.6152131928814151, -0.9419777413424323, -1.1015919098659233, 0.6699094525939755, -1.7938438142587554, -0.9955378494486227, 0.6985938355761101, -1.1656855330407871, 1.7636809048670008, -0.7304675691115415, -1.5941530682113296, 1.3439467966653762, 1.5432795962406813, 1.354966068886118, -0.9075132587846512, 0.8814396473790075, 1.0077904811716305, 1.532732528696962, 0.6765907336904919, 1.6773548969042098, -1.5774350462048385, 0.8724162811956298, -0.7925989074620606, -0.9309781561471872, 0.7198293085493946, -1.0770913258756174, 1.4647440293416336, -0.7764562281027875, 0.7869639011680545, -1.1314617429752925, 1.2865080774841469, 1.9597726048337496, -0.8371807153209273, 0.6810733009125609, 0.5896669455339285, 1.1670274243342988, -2.0474084781424136, 1.63865111365463, 1.3079013742172987, -1.5217601730486074, 1.58273493516976, 1.9191618950105565, 1.1948614254162664, 0.6599943704106347, -1.621117340623818, 0.5227145409950461, -1.383323314036505, 2.183109002850985, -0.7739581288762516, 0.8886294000043664, -1.4675045449066242, 0.48240990670550865, 0.8838276773487593, -1.0388067433395756, -1.2147914404241322, 0.8606677711806702, 0.5009429502828897, 0.7360947147160628, -0.6594804193082676, -0.707437360100421, 0.5269527636182276, -0.6750334563431776, 0.5352327723617429, 0.5580158757981062, -0.6158331790837043, -0.5844452903962887, 0.42687132679557116, -0.5872912647331963, 0.3912969124561298, 0.3569973851800047, 0.3630272700185041, 0.3494557246984164, -0.5556334860221619, -0.5495862537280967, -0.546281110863833, 0.3274117151897499, 0.3217085355500995, -0.5343812365606473, -0.5377471148046655, 0.312131402668764};\\n\\nstatic const uint8_t w1[3][16] = {\\n    {109, 84, 0, 85, 1, 2, 3, 0, 4, 0, 5, 104, 86, 0, 6, 109},\\n    {87, 0, 0, 7, 8, 9, 10, 107, 0, 11, 12, 109, 13, 14, 15, 109},\\n    {16, 0, 88, 0, 17, 18, 19, 20, 107, 64, 21, 107, 95, 89, 6, 22}\\n};\\n\\nstatic const uint8_t b1[16] = {2, 0, 1, 4, 2, 3, 4, 2, 2, 2, 5, 4, 0, 6, 3, 7};\\n\\nstatic const uint8_t w2[16][8] = {\\n    {0, 99, 109, 107, 109, 23, 96, 24},\\n    {25, 7, 107, 26, 107, 27, 90, 109},\\n    {28, 91, 86, 29, 30, 31, 32, 33},\\n    {92, 34, 107, 16, 100, 109, 107, 35},\\n    {107, 107, 93, 36, 107, 108, 37, 31},\\n    {38, 39, 40, 106, 0, 41, 42, 43},\\n    {94, 44, 0, 109, 97, 45, 0, 109},\\n    {107, 43, 46, 2, 0, 47, 106, 107},\\n    {109, 0, 48, 0, 0, 49, 0, 50},\\n    {51, 52, 0, 53, 54, 55, 0, 107},\\n    {56, 107, 0, 107, 57, 0, 0, 58},\\n    {101, 59, 60, 0, 109, 61, 107, 62},\\n    {0, 0, 63, 0, 64, 109, 65, 66},\\n    {105, 109, 67, 68, 107, 69, 70, 16},\\n    {103, 32, 98, 71, 72, 109, 73, 74},\\n    {0, 75, 76, 77, 107, 78, 79, 80}\\n};\\n\\nstatic const uint8_t b2[8] = {6, 7, 2, 7, 3, 8, 9, 3};\\n\\nstatic const uint8_t w3[8][1] = {\\n    {81},\\n    {109},\\n    {0},\\n    {82},\\n    {102},\\n    {107},\\n    {83},\\n    {109}\\n};\\n\\nstatic const uint8_t b3[1] = {9};\\n\\n    // Input Layer \\n    float z1[16];\\n    for (int i = 0; i < 16; i++)\\n    {\\n        z1[i] = center_bias[b1[i]];\\n        for (int j = 0; j < 3; j++)\\n        {\\n            z1[i] += x[j] * centers_weights[w1[j][i]];\\n        }\\n        z1[i] = relu(z1[i]);    }\\n\\n    // Hidden Layers \\n    float z2[8];\\n    for (int i = 0; i < 8; i++)\\n    {\\n        z2[i] = center_bias[b2[i]];\\n        for (int j = 0; j < 16; j++)\\n        {\\n            z2[i] += z1[j] * centers_weights[w2[j][i]];\\n        }\\n        z2[i] = relu(z2[i]);    }\\n\\n    // Output Layer\\n    float z3 = center_bias[b3[0]];\\n    for (int i = 0; i < 8; i++)\\n     {\\n       z3 += z2[i] * centers_weights[w3[i][0]];\\n       z3 = linear(z3);     }\\n\\ny_pred = z3;\\nreturn y_pred;}\\nprotected:\\nfloat relu(float x)\\n{\\n    return x > 0 ? x : 0;\\n};\\n\\nfloat linear(float x)\\n{\\n    return x;\\n};\\n\\n};\\n}\\n}\\n'"
      ]
     },
     "execution_count": 7,
     "metadata": {},
     "output_type": "execute_result"
    }
   ],
   "source": [
    "cpp_model = CppGeneration().generate_cpp_from_json(json_data = model_as_json_quant, file_name = 'tensorflores_evolving_PQT')\n",
    "cpp_model"
   ]
  },
  {
   "cell_type": "markdown",
   "metadata": {},
   "source": [
    "### 4.2 Int8 post-training quantization"
   ]
  },
  {
   "cell_type": "markdown",
   "metadata": {},
   "source": [
    "#### 4.2.1 Apply int8 quantizaion"
   ]
  },
  {
   "cell_type": "code",
   "execution_count": 8,
   "metadata": {},
   "outputs": [],
   "source": [
    "model_as_json_int8 = Quantization().post_training_quantization(json_data = model_as_json,\n",
    "                                        quantization_type = 'int8')"
   ]
  },
  {
   "cell_type": "markdown",
   "metadata": {},
   "source": [
    "#### 4.2.2 Save model as C++"
   ]
  },
  {
   "cell_type": "code",
   "execution_count": 9,
   "metadata": {},
   "outputs": [
    {
     "data": {
      "text/plain": [
       "{'model_quantized': 'int8',\n",
       " 'num_layers': 3,\n",
       " 'layers': [{'activation': 'relu',\n",
       "   'weights': [[146,\n",
       "     76,\n",
       "     120,\n",
       "     176,\n",
       "     207,\n",
       "     205,\n",
       "     255,\n",
       "     124,\n",
       "     204,\n",
       "     133,\n",
       "     0,\n",
       "     108,\n",
       "     158,\n",
       "     137,\n",
       "     74,\n",
       "     146],\n",
       "    [170,\n",
       "     123,\n",
       "     133,\n",
       "     206,\n",
       "     87,\n",
       "     188,\n",
       "     95,\n",
       "     110,\n",
       "     136,\n",
       "     197,\n",
       "     87,\n",
       "     144,\n",
       "     81,\n",
       "     193,\n",
       "     97,\n",
       "     146],\n",
       "    [189,\n",
       "     135,\n",
       "     102,\n",
       "     135,\n",
       "     191,\n",
       "     54,\n",
       "     194,\n",
       "     175,\n",
       "     110,\n",
       "     163,\n",
       "     231,\n",
       "     114,\n",
       "     106,\n",
       "     100,\n",
       "     74,\n",
       "     86]],\n",
       "   'biases': [134,\n",
       "    134,\n",
       "    135,\n",
       "    134,\n",
       "    134,\n",
       "    134,\n",
       "    133,\n",
       "    134,\n",
       "    134,\n",
       "    134,\n",
       "    135,\n",
       "    134,\n",
       "    134,\n",
       "    135,\n",
       "    134,\n",
       "    134]},\n",
       "  {'activation': 'relu',\n",
       "   'weights': [[127, 152, 143, 109, 149, 188, 155, 183],\n",
       "    [195, 206, 112, 185, 113, 236, 160, 146],\n",
       "    [89, 102, 159, 171, 164, 89, 81, 167],\n",
       "    [160, 48, 108, 189, 152, 140, 110, 86],\n",
       "    [113, 110, 161, 168, 118, 108, 78, 89],\n",
       "    [220, 99, 57, 150, 123, 199, 209, 200],\n",
       "    [104, 90, 125, 142, 106, 177, 128, 148],\n",
       "    [114, 200, 183, 205, 130, 208, 150, 114],\n",
       "    [146, 135, 167, 124, 134, 215, 132, 58],\n",
       "    [176, 96, 131, 89, 169, 82, 139, 111],\n",
       "    [205, 109, 124, 109, 97, 134, 138, 172],\n",
       "    [151, 80, 197, 138, 141, 229, 112, 94],\n",
       "    [124, 120, 167, 124, 163, 149, 191, 35],\n",
       "    [150, 142, 214, 198, 112, 61, 211, 189],\n",
       "    [108, 81, 153, 227, 192, 146, 166, 56],\n",
       "    [133, 160, 67, 240, 118, 97, 177, 63]],\n",
       "   'biases': [135, 134, 134, 134, 134, 135, 134, 134]},\n",
       "  {'activation': 'linear',\n",
       "   'weights': [[158], [140], [139], [177], [107], [115], [84], [144]],\n",
       "   'biases': [134]}],\n",
       " 'max_value': 2.485611518934096,\n",
       " 'min_value': -2.7866812544379806}"
      ]
     },
     "execution_count": 9,
     "metadata": {},
     "output_type": "execute_result"
    }
   ],
   "source": [
    "model_as_json_int8"
   ]
  },
  {
   "cell_type": "code",
   "execution_count": 10,
   "metadata": {},
   "outputs": [
    {
     "name": "stdout",
     "output_type": "stream",
     "text": [
      "Model C++ saved!\n"
     ]
    }
   ],
   "source": [
    "cpp_model_int8 = CppGeneration().generate_cpp_from_json(json_data = model_as_json_int8, file_name = 'tensorflores_int8_PQT')"
   ]
  },
  {
   "cell_type": "code",
   "execution_count": null,
   "metadata": {},
   "outputs": [],
   "source": [
    "df = pd.read_csv('./result/output_PQT_int8.csv', sep=';')"
   ]
  },
  {
   "cell_type": "code",
   "execution_count": 27,
   "metadata": {},
   "outputs": [],
   "source": [
    "error = df['Predicted'].values - df['Real'].values "
   ]
  },
  {
   "cell_type": "code",
   "execution_count": 32,
   "metadata": {},
   "outputs": [
    {
     "data": {
      "text/plain": [
       "6.625916870415648"
      ]
     },
     "execution_count": 32,
     "metadata": {},
     "output_type": "execute_result"
    }
   ],
   "source": [
    "df['Time (us)'].values[1:].mean()"
   ]
  },
  {
   "cell_type": "code",
   "execution_count": 28,
   "metadata": {},
   "outputs": [
    {
     "data": {
      "image/png": "[encoded data removed]",
      "text/plain": [
       "<Figure size 800x600 with 1 Axes>"
      ]
     },
     "metadata": {},
     "output_type": "display_data"
    }
   ],
   "source": [
    "# Estatísticas\n",
    "error_mean = np.mean(error)\n",
    "error_std = np.std(error)\n",
    "error_max = np.max(error)\n",
    "error_min = np.min(error)\n",
    "\n",
    "# Criando a figura e os eixos\n",
    "fig, ax = plt.subplots(figsize=(8, 6))\n",
    "\n",
    "# Estilo do gráfico\n",
    "plt.style.use('ggplot')\n",
    "\n",
    "# Plotando histograma com KDE (Densidade) sem legenda\n",
    "sns.histplot(error, bins=30, color='coral', edgecolor='black', stat=\"density\", kde=True, legend=False, ax=ax)\n",
    "\n",
    "# Configuração dos eixos\n",
    "ax.set_xlabel('Error', fontsize=14)\n",
    "ax.set_ylabel('Density', fontsize=14)\n",
    "#ax.set_title('Error Distribution', fontsize=15)\n",
    "ax.tick_params(labelsize=14)\n",
    "ax.grid(True)\n",
    "\n",
    "# Definindo limites do eixo X\n",
    "#ax.set_xlim(error_min, error_max)\n",
    "\n",
    "# Exibir os valores estatísticos no gráfico\n",
    "textstr = '\\n'.join((\n",
    "    f'Max: {error_max:.4f}',\n",
    "    f'Min: {error_min:.4f}',\n",
    "    f'Mean: {error_mean:.4f}',\n",
    "    f'2x Std: {2 * error_std:.4f}'\n",
    "))\n",
    "props = dict(boxstyle='round', facecolor='gray', alpha=0.5)\n",
    "ax.text(0.95, 0.95, textstr, transform=ax.transAxes, fontsize=12,\n",
    "        verticalalignment='top', horizontalalignment='right', bbox=props)\n",
    "\n",
    "plt.savefig('./figures/example_04_float32.pdf', bbox_inches='tight', pad_inches=0, dpi=300)\n",
    "# Exibir gráfico\n",
    "plt.show()"
   ]
  },
  {
   "cell_type": "code",
   "execution_count": null,
   "metadata": {},
   "outputs": [],
   "source": [
    "df = pd.read_csv('./result/output_PQT_evolving.csv', sep=';')"
   ]
  },
  {
   "cell_type": "code",
   "execution_count": 18,
   "metadata": {},
   "outputs": [],
   "source": [
    "error = df['Predicted'].values - df['Real'].values "
   ]
  },
  {
   "cell_type": "code",
   "execution_count": 19,
   "metadata": {},
   "outputs": [
    {
     "data": {
      "image/png": "[encoded data removed]",
      "text/plain": [
       "<Figure size 800x600 with 1 Axes>"
      ]
     },
     "metadata": {},
     "output_type": "display_data"
    }
   ],
   "source": [
    "# Estatísticas\n",
    "error_mean = np.mean(error)\n",
    "error_std = np.std(error)\n",
    "error_max = np.max(error)\n",
    "error_min = np.min(error)\n",
    "\n",
    "# Criando a figura e os eixos\n",
    "fig, ax = plt.subplots(figsize=(8, 6))\n",
    "\n",
    "# Estilo do gráfico\n",
    "plt.style.use('ggplot')\n",
    "\n",
    "# Plotando histograma com KDE (Densidade) sem legenda\n",
    "sns.histplot(error, bins=30, color='coral', edgecolor='black', stat=\"density\", kde=True, legend=False, ax=ax)\n",
    "\n",
    "# Configuração dos eixos\n",
    "ax.set_xlabel('Error', fontsize=14)\n",
    "ax.set_ylabel('Density', fontsize=14)\n",
    "#ax.set_title('Error Distribution', fontsize=15)\n",
    "ax.tick_params(labelsize=14)\n",
    "ax.grid(True)\n",
    "\n",
    "# Definindo limites do eixo X\n",
    "#ax.set_xlim(error_min, error_max)\n",
    "\n",
    "# Exibir os valores estatísticos no gráfico\n",
    "textstr = '\\n'.join((\n",
    "    f'Max: {error_max:.4f}',\n",
    "    f'Min: {error_min:.4f}',\n",
    "    f'Mean: {error_mean:.4f}',\n",
    "    f'2x Std: {2 * error_std:.4f}'\n",
    "))\n",
    "props = dict(boxstyle='round', facecolor='gray', alpha=0.5)\n",
    "ax.text(0.95, 0.95, textstr, transform=ax.transAxes, fontsize=12,\n",
    "        verticalalignment='top', horizontalalignment='right', bbox=props)\n",
    "\n",
    "plt.savefig('./figures/example_03_evolving.pdf', bbox_inches='tight', pad_inches=0, dpi=300)\n",
    "# Exibir gráfico\n",
    "plt.show()"
   ]
  }
 ],
 "metadata": {
  "kernelspec": {
   "display_name": "Python 3",
   "language": "python",
   "name": "python3"
  },
  "language_info": {
   "codemirror_mode": {
    "name": "ipython",
    "version": 3
   },
   "file_extension": ".py",
   "mimetype": "text/x-python",
   "name": "python",
   "nbconvert_exporter": "python",
   "pygments_lexer": "ipython3",
   "version": "3.9.6"
  }
 },
 "nbformat": 4,
 "nbformat_minor": 2
}
