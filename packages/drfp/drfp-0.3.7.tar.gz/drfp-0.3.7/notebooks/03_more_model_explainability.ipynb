{
 "cells": [
  {
   "cell_type": "code",
   "execution_count": 1,
   "metadata": {},
   "outputs": [
    {
     "name": "stdout",
     "output_type": "stream",
     "text": [
      "Requirement already satisfied: theia-pypi in /home/daenu/miniconda3/envs/jupy/lib/python3.10/site-packages (0.6.2)\n",
      "Requirement already satisfied: xgboost in /home/daenu/miniconda3/envs/jupy/lib/python3.10/site-packages (1.7.6)\n",
      "Requirement already satisfied: matplotlib in /home/daenu/miniconda3/envs/jupy/lib/python3.10/site-packages (3.7.2)\n",
      "Requirement already satisfied: faerun-notebook in /home/daenu/miniconda3/envs/jupy/lib/python3.10/site-packages (0.1.6b0)\n",
      "Requirement already satisfied: flask==2.1.2 in /home/daenu/miniconda3/envs/jupy/lib/python3.10/site-packages (from theia-pypi) (2.1.2)\n",
      "Requirement already satisfied: drfp==0.3.6 in /home/daenu/miniconda3/envs/jupy/lib/python3.10/site-packages (from theia-pypi) (0.3.6)\n",
      "Requirement already satisfied: annoy==1.15.0 in /home/daenu/miniconda3/envs/jupy/lib/python3.10/site-packages (from theia-pypi) (1.15.0)\n",
      "Requirement already satisfied: rdkit-pypi>=2022.3.4 in /home/daenu/miniconda3/envs/jupy/lib/python3.10/site-packages (from theia-pypi) (2022.9.5)\n",
      "Requirement already satisfied: pandas>=1.4.3 in /home/daenu/miniconda3/envs/jupy/lib/python3.10/site-packages (from theia-pypi) (2.1.0)\n",
      "Requirement already satisfied: scikit-learn>=1.1.1 in /home/daenu/miniconda3/envs/jupy/lib/python3.10/site-packages (from theia-pypi) (1.3.0)\n",
      "Requirement already satisfied: click==8.1.3 in /home/daenu/miniconda3/envs/jupy/lib/python3.10/site-packages (from theia-pypi) (8.1.3)\n",
      "Requirement already satisfied: tqdm>=4.64.0 in /home/daenu/miniconda3/envs/jupy/lib/python3.10/site-packages (from theia-pypi) (4.66.1)\n",
      "Requirement already satisfied: shap>=0.41.0 in /home/daenu/miniconda3/envs/jupy/lib/python3.10/site-packages (from theia-pypi) (0.42.1)\n",
      "Requirement already satisfied: torch==1.13.1 in /home/daenu/miniconda3/envs/jupy/lib/python3.10/site-packages (from theia-pypi) (1.13.1)\n",
      "Requirement already satisfied: typer>=0.7.0 in /home/daenu/miniconda3/envs/jupy/lib/python3.10/site-packages (from theia-pypi) (0.9.0)\n",
      "Requirement already satisfied: rich>=13.2.0 in /home/daenu/miniconda3/envs/jupy/lib/python3.10/site-packages (from theia-pypi) (13.5.2)\n",
      "Requirement already satisfied: platformdirs>=2.6.2 in /home/daenu/miniconda3/envs/jupy/lib/python3.10/site-packages (from theia-pypi) (3.10.0)\n",
      "Requirement already satisfied: requests>=2.28.2 in /home/daenu/miniconda3/envs/jupy/lib/python3.10/site-packages (from theia-pypi) (2.31.0)\n",
      "Requirement already satisfied: numpy>=1.21.0 in /home/daenu/miniconda3/envs/jupy/lib/python3.10/site-packages (from drfp==0.3.6->theia-pypi) (1.24.4)\n",
      "Requirement already satisfied: Werkzeug>=2.0 in /home/daenu/miniconda3/envs/jupy/lib/python3.10/site-packages (from flask==2.1.2->theia-pypi) (2.3.7)\n",
      "Requirement already satisfied: Jinja2>=3.0 in /home/daenu/miniconda3/envs/jupy/lib/python3.10/site-packages (from flask==2.1.2->theia-pypi) (3.1.2)\n",
      "Requirement already satisfied: itsdangerous>=2.0 in /home/daenu/miniconda3/envs/jupy/lib/python3.10/site-packages (from flask==2.1.2->theia-pypi) (2.1.2)\n",
      "Requirement already satisfied: typing-extensions in /home/daenu/miniconda3/envs/jupy/lib/python3.10/site-packages (from torch==1.13.1->theia-pypi) (4.7.1)\n",
      "Requirement already satisfied: nvidia-cuda-runtime-cu11==11.7.99 in /home/daenu/miniconda3/envs/jupy/lib/python3.10/site-packages (from torch==1.13.1->theia-pypi) (11.7.99)\n",
      "Requirement already satisfied: nvidia-cudnn-cu11==8.5.0.96 in /home/daenu/miniconda3/envs/jupy/lib/python3.10/site-packages (from torch==1.13.1->theia-pypi) (8.5.0.96)\n",
      "Requirement already satisfied: nvidia-cublas-cu11==11.10.3.66 in /home/daenu/miniconda3/envs/jupy/lib/python3.10/site-packages (from torch==1.13.1->theia-pypi) (11.10.3.66)\n",
      "Requirement already satisfied: nvidia-cuda-nvrtc-cu11==11.7.99 in /home/daenu/miniconda3/envs/jupy/lib/python3.10/site-packages (from torch==1.13.1->theia-pypi) (11.7.99)\n",
      "Requirement already satisfied: setuptools in /home/daenu/miniconda3/envs/jupy/lib/python3.10/site-packages (from nvidia-cublas-cu11==11.10.3.66->torch==1.13.1->theia-pypi) (68.0.0)\n",
      "Requirement already satisfied: wheel in /home/daenu/miniconda3/envs/jupy/lib/python3.10/site-packages (from nvidia-cublas-cu11==11.10.3.66->torch==1.13.1->theia-pypi) (0.38.4)\n",
      "Requirement already satisfied: scipy in /home/daenu/miniconda3/envs/jupy/lib/python3.10/site-packages (from xgboost) (1.11.2)\n",
      "Requirement already satisfied: contourpy>=1.0.1 in /home/daenu/miniconda3/envs/jupy/lib/python3.10/site-packages (from matplotlib) (1.1.0)\n",
      "Requirement already satisfied: cycler>=0.10 in /home/daenu/miniconda3/envs/jupy/lib/python3.10/site-packages (from matplotlib) (0.11.0)\n",
      "Requirement already satisfied: fonttools>=4.22.0 in /home/daenu/miniconda3/envs/jupy/lib/python3.10/site-packages (from matplotlib) (4.42.1)\n",
      "Requirement already satisfied: kiwisolver>=1.0.1 in /home/daenu/miniconda3/envs/jupy/lib/python3.10/site-packages (from matplotlib) (1.4.5)\n",
      "Requirement already satisfied: packaging>=20.0 in /home/daenu/miniconda3/envs/jupy/lib/python3.10/site-packages (from matplotlib) (23.1)\n",
      "Requirement already satisfied: pillow>=6.2.0 in /home/daenu/miniconda3/envs/jupy/lib/python3.10/site-packages (from matplotlib) (10.0.0)\n",
      "Requirement already satisfied: pyparsing<3.1,>=2.3.1 in /home/daenu/miniconda3/envs/jupy/lib/python3.10/site-packages (from matplotlib) (3.0.9)\n",
      "Requirement already satisfied: python-dateutil>=2.7 in /home/daenu/miniconda3/envs/jupy/lib/python3.10/site-packages (from matplotlib) (2.8.2)\n",
      "Requirement already satisfied: ipywidgets>=7.6.0 in /home/daenu/miniconda3/envs/jupy/lib/python3.10/site-packages (from faerun-notebook) (8.1.0)\n",
      "Requirement already satisfied: comm>=0.1.3 in /home/daenu/miniconda3/envs/jupy/lib/python3.10/site-packages (from ipywidgets>=7.6.0->faerun-notebook) (0.1.4)\n",
      "Requirement already satisfied: ipython>=6.1.0 in /home/daenu/miniconda3/envs/jupy/lib/python3.10/site-packages (from ipywidgets>=7.6.0->faerun-notebook) (8.15.0)\n",
      "Requirement already satisfied: traitlets>=4.3.1 in /home/daenu/miniconda3/envs/jupy/lib/python3.10/site-packages (from ipywidgets>=7.6.0->faerun-notebook) (5.9.0)\n",
      "Requirement already satisfied: widgetsnbextension~=4.0.7 in /home/daenu/miniconda3/envs/jupy/lib/python3.10/site-packages (from ipywidgets>=7.6.0->faerun-notebook) (4.0.8)\n",
      "Requirement already satisfied: jupyterlab-widgets~=3.0.7 in /home/daenu/miniconda3/envs/jupy/lib/python3.10/site-packages (from ipywidgets>=7.6.0->faerun-notebook) (3.0.8)\n",
      "Requirement already satisfied: pytz>=2020.1 in /home/daenu/miniconda3/envs/jupy/lib/python3.10/site-packages (from pandas>=1.4.3->theia-pypi) (2023.3)\n",
      "Requirement already satisfied: tzdata>=2022.1 in /home/daenu/miniconda3/envs/jupy/lib/python3.10/site-packages (from pandas>=1.4.3->theia-pypi) (2023.3)\n",
      "Requirement already satisfied: six>=1.5 in /home/daenu/miniconda3/envs/jupy/lib/python3.10/site-packages (from python-dateutil>=2.7->matplotlib) (1.16.0)\n",
      "Requirement already satisfied: charset-normalizer<4,>=2 in /home/daenu/miniconda3/envs/jupy/lib/python3.10/site-packages (from requests>=2.28.2->theia-pypi) (3.2.0)\n",
      "Requirement already satisfied: idna<4,>=2.5 in /home/daenu/miniconda3/envs/jupy/lib/python3.10/site-packages (from requests>=2.28.2->theia-pypi) (3.4)\n",
      "Requirement already satisfied: urllib3<3,>=1.21.1 in /home/daenu/miniconda3/envs/jupy/lib/python3.10/site-packages (from requests>=2.28.2->theia-pypi) (2.0.4)\n",
      "Requirement already satisfied: certifi>=2017.4.17 in /home/daenu/miniconda3/envs/jupy/lib/python3.10/site-packages (from requests>=2.28.2->theia-pypi) (2023.7.22)\n",
      "Requirement already satisfied: markdown-it-py>=2.2.0 in /home/daenu/miniconda3/envs/jupy/lib/python3.10/site-packages (from rich>=13.2.0->theia-pypi) (3.0.0)\n",
      "Requirement already satisfied: pygments<3.0.0,>=2.13.0 in /home/daenu/miniconda3/envs/jupy/lib/python3.10/site-packages (from rich>=13.2.0->theia-pypi) (2.16.1)\n",
      "Requirement already satisfied: joblib>=1.1.1 in /home/daenu/miniconda3/envs/jupy/lib/python3.10/site-packages (from scikit-learn>=1.1.1->theia-pypi) (1.3.2)\n",
      "Requirement already satisfied: threadpoolctl>=2.0.0 in /home/daenu/miniconda3/envs/jupy/lib/python3.10/site-packages (from scikit-learn>=1.1.1->theia-pypi) (3.2.0)\n",
      "Requirement already satisfied: slicer==0.0.7 in /home/daenu/miniconda3/envs/jupy/lib/python3.10/site-packages (from shap>=0.41.0->theia-pypi) (0.0.7)\n",
      "Requirement already satisfied: numba in /home/daenu/miniconda3/envs/jupy/lib/python3.10/site-packages (from shap>=0.41.0->theia-pypi) (0.57.1)\n",
      "Requirement already satisfied: cloudpickle in /home/daenu/miniconda3/envs/jupy/lib/python3.10/site-packages (from shap>=0.41.0->theia-pypi) (2.2.1)\n",
      "Requirement already satisfied: backcall in /home/daenu/miniconda3/envs/jupy/lib/python3.10/site-packages (from ipython>=6.1.0->ipywidgets>=7.6.0->faerun-notebook) (0.2.0)\n",
      "Requirement already satisfied: decorator in /home/daenu/miniconda3/envs/jupy/lib/python3.10/site-packages (from ipython>=6.1.0->ipywidgets>=7.6.0->faerun-notebook) (5.1.1)\n",
      "Requirement already satisfied: jedi>=0.16 in /home/daenu/miniconda3/envs/jupy/lib/python3.10/site-packages (from ipython>=6.1.0->ipywidgets>=7.6.0->faerun-notebook) (0.19.0)\n",
      "Requirement already satisfied: matplotlib-inline in /home/daenu/miniconda3/envs/jupy/lib/python3.10/site-packages (from ipython>=6.1.0->ipywidgets>=7.6.0->faerun-notebook) (0.1.6)\n",
      "Requirement already satisfied: pickleshare in /home/daenu/miniconda3/envs/jupy/lib/python3.10/site-packages (from ipython>=6.1.0->ipywidgets>=7.6.0->faerun-notebook) (0.7.5)\n",
      "Requirement already satisfied: prompt-toolkit!=3.0.37,<3.1.0,>=3.0.30 in /home/daenu/miniconda3/envs/jupy/lib/python3.10/site-packages (from ipython>=6.1.0->ipywidgets>=7.6.0->faerun-notebook) (3.0.39)\n",
      "Requirement already satisfied: stack-data in /home/daenu/miniconda3/envs/jupy/lib/python3.10/site-packages (from ipython>=6.1.0->ipywidgets>=7.6.0->faerun-notebook) (0.6.2)\n",
      "Requirement already satisfied: exceptiongroup in /home/daenu/miniconda3/envs/jupy/lib/python3.10/site-packages (from ipython>=6.1.0->ipywidgets>=7.6.0->faerun-notebook) (1.1.3)\n",
      "Requirement already satisfied: pexpect>4.3 in /home/daenu/miniconda3/envs/jupy/lib/python3.10/site-packages (from ipython>=6.1.0->ipywidgets>=7.6.0->faerun-notebook) (4.8.0)\n",
      "Requirement already satisfied: MarkupSafe>=2.0 in /home/daenu/miniconda3/envs/jupy/lib/python3.10/site-packages (from Jinja2>=3.0->flask==2.1.2->theia-pypi) (2.1.3)\n",
      "Requirement already satisfied: mdurl~=0.1 in /home/daenu/miniconda3/envs/jupy/lib/python3.10/site-packages (from markdown-it-py>=2.2.0->rich>=13.2.0->theia-pypi) (0.1.2)\n",
      "Requirement already satisfied: llvmlite<0.41,>=0.40.0dev0 in /home/daenu/miniconda3/envs/jupy/lib/python3.10/site-packages (from numba->shap>=0.41.0->theia-pypi) (0.40.1)\n",
      "Requirement already satisfied: parso<0.9.0,>=0.8.3 in /home/daenu/miniconda3/envs/jupy/lib/python3.10/site-packages (from jedi>=0.16->ipython>=6.1.0->ipywidgets>=7.6.0->faerun-notebook) (0.8.3)\n",
      "Requirement already satisfied: ptyprocess>=0.5 in /home/daenu/miniconda3/envs/jupy/lib/python3.10/site-packages (from pexpect>4.3->ipython>=6.1.0->ipywidgets>=7.6.0->faerun-notebook) (0.7.0)\n",
      "Requirement already satisfied: wcwidth in /home/daenu/miniconda3/envs/jupy/lib/python3.10/site-packages (from prompt-toolkit!=3.0.37,<3.1.0,>=3.0.30->ipython>=6.1.0->ipywidgets>=7.6.0->faerun-notebook) (0.2.6)\n",
      "Requirement already satisfied: executing>=1.2.0 in /home/daenu/miniconda3/envs/jupy/lib/python3.10/site-packages (from stack-data->ipython>=6.1.0->ipywidgets>=7.6.0->faerun-notebook) (1.2.0)\n",
      "Requirement already satisfied: asttokens>=2.1.0 in /home/daenu/miniconda3/envs/jupy/lib/python3.10/site-packages (from stack-data->ipython>=6.1.0->ipywidgets>=7.6.0->faerun-notebook) (2.2.1)\n",
      "Requirement already satisfied: pure-eval in /home/daenu/miniconda3/envs/jupy/lib/python3.10/site-packages (from stack-data->ipython>=6.1.0->ipywidgets>=7.6.0->faerun-notebook) (0.2.2)\n",
      "Note: you may need to restart the kernel to use updated packages.\n"
     ]
    }
   ],
   "source": [
    "%pip install theia-pypi xgboost matplotlib faerun-notebook --upgrade\n",
    "import pickle\n",
    "from pathlib import Path\n",
    "import numpy as np\n",
    "from matplotlib import pyplot as plt\n",
    "from rdkit.Chem.AllChem import MolFromSmiles, MolFromSmarts\n",
    "from rdkit.Chem.Draw import IPythonConsole\n",
    "from rdkit.Chem import Draw\n",
    "import shap\n",
    "from xgboost import XGBRegressor\n",
    "from sklearn.metrics import r2_score, mean_absolute_error\n",
    "\n",
    "from theia.web.helpers import explain, explain_regression\n",
    "from theia.ml import InferenceReactionDataset\n",
    "\n",
    "import ipywidgets as widgets\n",
    "from faerun_notebook import SmilesDrawer\n",
    "from theia.api import predict\n",
    "\n",
    "IPythonConsole.molSize = (300, 300)"
   ]
  },
  {
   "cell_type": "markdown",
   "metadata": {},
   "source": [
    "# Train the model"
   ]
  },
  {
   "cell_type": "code",
   "execution_count": 2,
   "metadata": {},
   "outputs": [
    {
     "name": "stdout",
     "output_type": "stream",
     "text": [
      "r2: 0.2259266212446044\n",
      "mae: 20.295553705533344\n"
     ]
    }
   ],
   "source": [
    "# Get the data for a single split\n",
    "az_file_path = Path(\"../data/az/az-2048-3-true.pkl\")\n",
    "split = pickle.load(open(az_file_path, \"rb\"))[0]\n",
    "\n",
    "# Vanilla hyp§erparams\n",
    "model = XGBRegressor(\n",
    "    n_estimators=999999,\n",
    "    learning_rate=0.01,\n",
    "    max_depth=12,\n",
    "    min_child_weight=6,\n",
    "    colsample_bytree=0.6,\n",
    "    subsample=0.8,\n",
    "    random_state=42,\n",
    "    early_stopping_rounds=10,\n",
    ")\n",
    "\n",
    "# Train the model\n",
    "model.fit(\n",
    "    split[\"train\"][\"X\"],\n",
    "    split[\"train\"][\"y\"],\n",
    "    eval_set=[(split[\"valid\"][\"X\"], split[\"valid\"][\"y\"])],\n",
    "    verbose=False,\n",
    ")\n",
    "\n",
    "# Inference\n",
    "y_pred = model.predict(split[\"test\"][\"X\"], ntree_limit=model.best_ntree_limit)\n",
    "y_pred[y_pred < 0.0] = 0.0\n",
    "\n",
    "# Get the metrics\n",
    "r_squared = r2_score(split[\"test\"][\"y\"], y_pred)\n",
    "mae = mean_absolute_error(split[\"test\"][\"y\"], y_pred)\n",
    "print(f\"r2: {r_squared}\")\n",
    "print(f\"mae: {mae}\")"
   ]
  },
  {
   "cell_type": "markdown",
   "metadata": {},
   "source": [
    "# The mapping"
   ]
  },
  {
   "cell_type": "code",
   "execution_count": 3,
   "metadata": {},
   "outputs": [],
   "source": [
    "explainer = shap.TreeExplainer(model)\n",
    "shap_values = explainer.shap_values(split[\"test\"][\"X\"][:500])"
   ]
  },
  {
   "cell_type": "code",
   "execution_count": null,
   "metadata": {},
   "outputs": [],
   "source": [
    "# shap.summary_plot(shap_values, split[\"test\"][\"X\"][:500], max_display=6)\n",
    "# shap.force_plot(explainer.expected_value, shap_values[6,:], matplotlib=True)"
   ]
  },
  {
   "cell_type": "code",
   "execution_count": 2,
   "metadata": {},
   "outputs": [
    {
     "name": "stdout",
     "output_type": "stream",
     "text": [
      "Found existing installation: ipywidgets 7.7.1\n",
      "Uninstalling ipywidgets-7.7.1:\n",
      "  Successfully uninstalled ipywidgets-7.7.1\n",
      "Collecting ipywidgets==7.7.1\n",
      "  Using cached ipywidgets-7.7.1-py2.py3-none-any.whl (123 kB)\n",
      "Requirement already satisfied: ipykernel>=4.5.1 in /home/daenu/miniconda3/lib/python3.11/site-packages (from ipywidgets==7.7.1) (6.25.1)\n",
      "Requirement already satisfied: ipython-genutils~=0.2.0 in /home/daenu/miniconda3/lib/python3.11/site-packages (from ipywidgets==7.7.1) (0.2.0)\n",
      "Requirement already satisfied: traitlets>=4.3.1 in /home/daenu/miniconda3/lib/python3.11/site-packages (from ipywidgets==7.7.1) (5.9.0)\n",
      "Requirement already satisfied: widgetsnbextension~=3.6.0 in /home/daenu/miniconda3/lib/python3.11/site-packages (from ipywidgets==7.7.1) (3.6.5)\n",
      "Requirement already satisfied: ipython>=4.0.0 in /home/daenu/miniconda3/lib/python3.11/site-packages (from ipywidgets==7.7.1) (8.15.0)\n",
      "Requirement already satisfied: jupyterlab-widgets>=1.0.0 in /home/daenu/miniconda3/lib/python3.11/site-packages (from ipywidgets==7.7.1) (3.0.8)\n",
      "Requirement already satisfied: comm>=0.1.1 in /home/daenu/miniconda3/lib/python3.11/site-packages (from ipykernel>=4.5.1->ipywidgets==7.7.1) (0.1.4)\n",
      "Requirement already satisfied: debugpy>=1.6.5 in /home/daenu/miniconda3/lib/python3.11/site-packages (from ipykernel>=4.5.1->ipywidgets==7.7.1) (1.6.7.post1)\n",
      "Requirement already satisfied: jupyter-client>=6.1.12 in /home/daenu/miniconda3/lib/python3.11/site-packages (from ipykernel>=4.5.1->ipywidgets==7.7.1) (8.3.1)\n",
      "Requirement already satisfied: jupyter-core!=5.0.*,>=4.12 in /home/daenu/miniconda3/lib/python3.11/site-packages (from ipykernel>=4.5.1->ipywidgets==7.7.1) (5.3.1)\n",
      "Requirement already satisfied: matplotlib-inline>=0.1 in /home/daenu/miniconda3/lib/python3.11/site-packages (from ipykernel>=4.5.1->ipywidgets==7.7.1) (0.1.6)\n",
      "Requirement already satisfied: nest-asyncio in /home/daenu/miniconda3/lib/python3.11/site-packages (from ipykernel>=4.5.1->ipywidgets==7.7.1) (1.5.7)\n",
      "Requirement already satisfied: packaging in /home/daenu/miniconda3/lib/python3.11/site-packages (from ipykernel>=4.5.1->ipywidgets==7.7.1) (23.0)\n",
      "Requirement already satisfied: psutil in /home/daenu/miniconda3/lib/python3.11/site-packages (from ipykernel>=4.5.1->ipywidgets==7.7.1) (5.9.5)\n",
      "Requirement already satisfied: pyzmq>=20 in /home/daenu/miniconda3/lib/python3.11/site-packages (from ipykernel>=4.5.1->ipywidgets==7.7.1) (25.1.1)\n",
      "Requirement already satisfied: tornado>=6.1 in /home/daenu/miniconda3/lib/python3.11/site-packages (from ipykernel>=4.5.1->ipywidgets==7.7.1) (6.3.3)\n",
      "Requirement already satisfied: backcall in /home/daenu/miniconda3/lib/python3.11/site-packages (from ipython>=4.0.0->ipywidgets==7.7.1) (0.2.0)\n",
      "Requirement already satisfied: decorator in /home/daenu/miniconda3/lib/python3.11/site-packages (from ipython>=4.0.0->ipywidgets==7.7.1) (5.1.1)\n",
      "Requirement already satisfied: jedi>=0.16 in /home/daenu/miniconda3/lib/python3.11/site-packages (from ipython>=4.0.0->ipywidgets==7.7.1) (0.19.0)\n",
      "Requirement already satisfied: pickleshare in /home/daenu/miniconda3/lib/python3.11/site-packages (from ipython>=4.0.0->ipywidgets==7.7.1) (0.7.5)\n",
      "Requirement already satisfied: prompt-toolkit!=3.0.37,<3.1.0,>=3.0.30 in /home/daenu/miniconda3/lib/python3.11/site-packages (from ipython>=4.0.0->ipywidgets==7.7.1) (3.0.39)\n",
      "Requirement already satisfied: pygments>=2.4.0 in /home/daenu/miniconda3/lib/python3.11/site-packages (from ipython>=4.0.0->ipywidgets==7.7.1) (2.16.1)\n",
      "Requirement already satisfied: stack-data in /home/daenu/miniconda3/lib/python3.11/site-packages (from ipython>=4.0.0->ipywidgets==7.7.1) (0.6.2)\n",
      "Requirement already satisfied: pexpect>4.3 in /home/daenu/miniconda3/lib/python3.11/site-packages (from ipython>=4.0.0->ipywidgets==7.7.1) (4.8.0)\n",
      "Requirement already satisfied: notebook>=4.4.1 in /home/daenu/miniconda3/lib/python3.11/site-packages (from widgetsnbextension~=3.6.0->ipywidgets==7.7.1) (7.0.3)\n",
      "Requirement already satisfied: parso<0.9.0,>=0.8.3 in /home/daenu/miniconda3/lib/python3.11/site-packages (from jedi>=0.16->ipython>=4.0.0->ipywidgets==7.7.1) (0.8.3)\n",
      "Requirement already satisfied: python-dateutil>=2.8.2 in /home/daenu/miniconda3/lib/python3.11/site-packages (from jupyter-client>=6.1.12->ipykernel>=4.5.1->ipywidgets==7.7.1) (2.8.2)\n",
      "Requirement already satisfied: platformdirs>=2.5 in /home/daenu/miniconda3/lib/python3.11/site-packages (from jupyter-core!=5.0.*,>=4.12->ipykernel>=4.5.1->ipywidgets==7.7.1) (3.10.0)\n",
      "Requirement already satisfied: jupyter-server<3,>=2.4.0 in /home/daenu/miniconda3/lib/python3.11/site-packages (from notebook>=4.4.1->widgetsnbextension~=3.6.0->ipywidgets==7.7.1) (2.7.3)\n",
      "Requirement already satisfied: jupyterlab-server<3,>=2.22.1 in /home/daenu/miniconda3/lib/python3.11/site-packages (from notebook>=4.4.1->widgetsnbextension~=3.6.0->ipywidgets==7.7.1) (2.24.0)\n",
      "Requirement already satisfied: jupyterlab<5,>=4.0.2 in /home/daenu/miniconda3/lib/python3.11/site-packages (from notebook>=4.4.1->widgetsnbextension~=3.6.0->ipywidgets==7.7.1) (4.0.5)\n",
      "Requirement already satisfied: notebook-shim<0.3,>=0.2 in /home/daenu/miniconda3/lib/python3.11/site-packages (from notebook>=4.4.1->widgetsnbextension~=3.6.0->ipywidgets==7.7.1) (0.2.3)\n",
      "Requirement already satisfied: ptyprocess>=0.5 in /home/daenu/miniconda3/lib/python3.11/site-packages (from pexpect>4.3->ipython>=4.0.0->ipywidgets==7.7.1) (0.7.0)\n",
      "Requirement already satisfied: wcwidth in /home/daenu/miniconda3/lib/python3.11/site-packages (from prompt-toolkit!=3.0.37,<3.1.0,>=3.0.30->ipython>=4.0.0->ipywidgets==7.7.1) (0.2.6)\n",
      "Requirement already satisfied: executing>=1.2.0 in /home/daenu/miniconda3/lib/python3.11/site-packages (from stack-data->ipython>=4.0.0->ipywidgets==7.7.1) (1.2.0)\n",
      "Requirement already satisfied: asttokens>=2.1.0 in /home/daenu/miniconda3/lib/python3.11/site-packages (from stack-data->ipython>=4.0.0->ipywidgets==7.7.1) (2.2.1)\n",
      "Requirement already satisfied: pure-eval in /home/daenu/miniconda3/lib/python3.11/site-packages (from stack-data->ipython>=4.0.0->ipywidgets==7.7.1) (0.2.2)\n",
      "Requirement already satisfied: six in /home/daenu/miniconda3/lib/python3.11/site-packages (from asttokens>=2.1.0->stack-data->ipython>=4.0.0->ipywidgets==7.7.1) (1.16.0)\n",
      "Requirement already satisfied: anyio>=3.1.0 in /home/daenu/miniconda3/lib/python3.11/site-packages (from jupyter-server<3,>=2.4.0->notebook>=4.4.1->widgetsnbextension~=3.6.0->ipywidgets==7.7.1) (4.0.0)\n",
      "Requirement already satisfied: argon2-cffi in /home/daenu/miniconda3/lib/python3.11/site-packages (from jupyter-server<3,>=2.4.0->notebook>=4.4.1->widgetsnbextension~=3.6.0->ipywidgets==7.7.1) (23.1.0)\n",
      "Requirement already satisfied: jinja2 in /home/daenu/miniconda3/lib/python3.11/site-packages (from jupyter-server<3,>=2.4.0->notebook>=4.4.1->widgetsnbextension~=3.6.0->ipywidgets==7.7.1) (3.1.2)\n",
      "Requirement already satisfied: jupyter-events>=0.6.0 in /home/daenu/miniconda3/lib/python3.11/site-packages (from jupyter-server<3,>=2.4.0->notebook>=4.4.1->widgetsnbextension~=3.6.0->ipywidgets==7.7.1) (0.7.0)\n",
      "Requirement already satisfied: jupyter-server-terminals in /home/daenu/miniconda3/lib/python3.11/site-packages (from jupyter-server<3,>=2.4.0->notebook>=4.4.1->widgetsnbextension~=3.6.0->ipywidgets==7.7.1) (0.4.4)\n",
      "Requirement already satisfied: nbconvert>=6.4.4 in /home/daenu/miniconda3/lib/python3.11/site-packages (from jupyter-server<3,>=2.4.0->notebook>=4.4.1->widgetsnbextension~=3.6.0->ipywidgets==7.7.1) (7.8.0)\n",
      "Requirement already satisfied: nbformat>=5.3.0 in /home/daenu/miniconda3/lib/python3.11/site-packages (from jupyter-server<3,>=2.4.0->notebook>=4.4.1->widgetsnbextension~=3.6.0->ipywidgets==7.7.1) (5.9.2)\n",
      "Requirement already satisfied: overrides in /home/daenu/miniconda3/lib/python3.11/site-packages (from jupyter-server<3,>=2.4.0->notebook>=4.4.1->widgetsnbextension~=3.6.0->ipywidgets==7.7.1) (7.4.0)\n",
      "Requirement already satisfied: prometheus-client in /home/daenu/miniconda3/lib/python3.11/site-packages (from jupyter-server<3,>=2.4.0->notebook>=4.4.1->widgetsnbextension~=3.6.0->ipywidgets==7.7.1) (0.17.1)\n",
      "Requirement already satisfied: send2trash>=1.8.2 in /home/daenu/miniconda3/lib/python3.11/site-packages (from jupyter-server<3,>=2.4.0->notebook>=4.4.1->widgetsnbextension~=3.6.0->ipywidgets==7.7.1) (1.8.2)\n",
      "Requirement already satisfied: terminado>=0.8.3 in /home/daenu/miniconda3/lib/python3.11/site-packages (from jupyter-server<3,>=2.4.0->notebook>=4.4.1->widgetsnbextension~=3.6.0->ipywidgets==7.7.1) (0.17.1)\n",
      "Requirement already satisfied: websocket-client in /home/daenu/miniconda3/lib/python3.11/site-packages (from jupyter-server<3,>=2.4.0->notebook>=4.4.1->widgetsnbextension~=3.6.0->ipywidgets==7.7.1) (1.6.2)\n",
      "Requirement already satisfied: async-lru>=1.0.0 in /home/daenu/miniconda3/lib/python3.11/site-packages (from jupyterlab<5,>=4.0.2->notebook>=4.4.1->widgetsnbextension~=3.6.0->ipywidgets==7.7.1) (2.0.4)\n",
      "Requirement already satisfied: jupyter-lsp>=2.0.0 in /home/daenu/miniconda3/lib/python3.11/site-packages (from jupyterlab<5,>=4.0.2->notebook>=4.4.1->widgetsnbextension~=3.6.0->ipywidgets==7.7.1) (2.2.0)\n",
      "Requirement already satisfied: babel>=2.10 in /home/daenu/miniconda3/lib/python3.11/site-packages (from jupyterlab-server<3,>=2.22.1->notebook>=4.4.1->widgetsnbextension~=3.6.0->ipywidgets==7.7.1) (2.12.1)\n",
      "Requirement already satisfied: json5>=0.9.0 in /home/daenu/miniconda3/lib/python3.11/site-packages (from jupyterlab-server<3,>=2.22.1->notebook>=4.4.1->widgetsnbextension~=3.6.0->ipywidgets==7.7.1) (0.9.14)\n",
      "Requirement already satisfied: jsonschema>=4.17.3 in /home/daenu/miniconda3/lib/python3.11/site-packages (from jupyterlab-server<3,>=2.22.1->notebook>=4.4.1->widgetsnbextension~=3.6.0->ipywidgets==7.7.1) (4.19.0)\n",
      "Requirement already satisfied: requests>=2.28 in /home/daenu/miniconda3/lib/python3.11/site-packages (from jupyterlab-server<3,>=2.22.1->notebook>=4.4.1->widgetsnbextension~=3.6.0->ipywidgets==7.7.1) (2.29.0)\n",
      "Requirement already satisfied: idna>=2.8 in /home/daenu/miniconda3/lib/python3.11/site-packages (from anyio>=3.1.0->jupyter-server<3,>=2.4.0->notebook>=4.4.1->widgetsnbextension~=3.6.0->ipywidgets==7.7.1) (3.4)\n",
      "Requirement already satisfied: sniffio>=1.1 in /home/daenu/miniconda3/lib/python3.11/site-packages (from anyio>=3.1.0->jupyter-server<3,>=2.4.0->notebook>=4.4.1->widgetsnbextension~=3.6.0->ipywidgets==7.7.1) (1.3.0)\n",
      "Requirement already satisfied: MarkupSafe>=2.0 in /home/daenu/miniconda3/lib/python3.11/site-packages (from jinja2->jupyter-server<3,>=2.4.0->notebook>=4.4.1->widgetsnbextension~=3.6.0->ipywidgets==7.7.1) (2.1.3)\n",
      "Requirement already satisfied: attrs>=22.2.0 in /home/daenu/miniconda3/lib/python3.11/site-packages (from jsonschema>=4.17.3->jupyterlab-server<3,>=2.22.1->notebook>=4.4.1->widgetsnbextension~=3.6.0->ipywidgets==7.7.1) (23.1.0)\n",
      "Requirement already satisfied: jsonschema-specifications>=2023.03.6 in /home/daenu/miniconda3/lib/python3.11/site-packages (from jsonschema>=4.17.3->jupyterlab-server<3,>=2.22.1->notebook>=4.4.1->widgetsnbextension~=3.6.0->ipywidgets==7.7.1) (2023.7.1)\n",
      "Requirement already satisfied: referencing>=0.28.4 in /home/daenu/miniconda3/lib/python3.11/site-packages (from jsonschema>=4.17.3->jupyterlab-server<3,>=2.22.1->notebook>=4.4.1->widgetsnbextension~=3.6.0->ipywidgets==7.7.1) (0.30.2)\n",
      "Requirement already satisfied: rpds-py>=0.7.1 in /home/daenu/miniconda3/lib/python3.11/site-packages (from jsonschema>=4.17.3->jupyterlab-server<3,>=2.22.1->notebook>=4.4.1->widgetsnbextension~=3.6.0->ipywidgets==7.7.1) (0.10.0)\n",
      "Requirement already satisfied: python-json-logger>=2.0.4 in /home/daenu/miniconda3/lib/python3.11/site-packages (from jupyter-events>=0.6.0->jupyter-server<3,>=2.4.0->notebook>=4.4.1->widgetsnbextension~=3.6.0->ipywidgets==7.7.1) (2.0.7)\n",
      "Requirement already satisfied: pyyaml>=5.3 in /home/daenu/miniconda3/lib/python3.11/site-packages (from jupyter-events>=0.6.0->jupyter-server<3,>=2.4.0->notebook>=4.4.1->widgetsnbextension~=3.6.0->ipywidgets==7.7.1) (6.0.1)\n",
      "Requirement already satisfied: rfc3339-validator in /home/daenu/miniconda3/lib/python3.11/site-packages (from jupyter-events>=0.6.0->jupyter-server<3,>=2.4.0->notebook>=4.4.1->widgetsnbextension~=3.6.0->ipywidgets==7.7.1) (0.1.4)\n",
      "Requirement already satisfied: rfc3986-validator>=0.1.1 in /home/daenu/miniconda3/lib/python3.11/site-packages (from jupyter-events>=0.6.0->jupyter-server<3,>=2.4.0->notebook>=4.4.1->widgetsnbextension~=3.6.0->ipywidgets==7.7.1) (0.1.1)\n",
      "Requirement already satisfied: beautifulsoup4 in /home/daenu/miniconda3/lib/python3.11/site-packages (from nbconvert>=6.4.4->jupyter-server<3,>=2.4.0->notebook>=4.4.1->widgetsnbextension~=3.6.0->ipywidgets==7.7.1) (4.12.2)\n",
      "Requirement already satisfied: bleach!=5.0.0 in /home/daenu/miniconda3/lib/python3.11/site-packages (from nbconvert>=6.4.4->jupyter-server<3,>=2.4.0->notebook>=4.4.1->widgetsnbextension~=3.6.0->ipywidgets==7.7.1) (6.0.0)\n",
      "Requirement already satisfied: defusedxml in /home/daenu/miniconda3/lib/python3.11/site-packages (from nbconvert>=6.4.4->jupyter-server<3,>=2.4.0->notebook>=4.4.1->widgetsnbextension~=3.6.0->ipywidgets==7.7.1) (0.7.1)\n",
      "Requirement already satisfied: jupyterlab-pygments in /home/daenu/miniconda3/lib/python3.11/site-packages (from nbconvert>=6.4.4->jupyter-server<3,>=2.4.0->notebook>=4.4.1->widgetsnbextension~=3.6.0->ipywidgets==7.7.1) (0.2.2)\n",
      "Requirement already satisfied: mistune<4,>=2.0.3 in /home/daenu/miniconda3/lib/python3.11/site-packages (from nbconvert>=6.4.4->jupyter-server<3,>=2.4.0->notebook>=4.4.1->widgetsnbextension~=3.6.0->ipywidgets==7.7.1) (3.0.1)\n",
      "Requirement already satisfied: nbclient>=0.5.0 in /home/daenu/miniconda3/lib/python3.11/site-packages (from nbconvert>=6.4.4->jupyter-server<3,>=2.4.0->notebook>=4.4.1->widgetsnbextension~=3.6.0->ipywidgets==7.7.1) (0.8.0)\n",
      "Requirement already satisfied: pandocfilters>=1.4.1 in /home/daenu/miniconda3/lib/python3.11/site-packages (from nbconvert>=6.4.4->jupyter-server<3,>=2.4.0->notebook>=4.4.1->widgetsnbextension~=3.6.0->ipywidgets==7.7.1) (1.5.0)\n",
      "Requirement already satisfied: tinycss2 in /home/daenu/miniconda3/lib/python3.11/site-packages (from nbconvert>=6.4.4->jupyter-server<3,>=2.4.0->notebook>=4.4.1->widgetsnbextension~=3.6.0->ipywidgets==7.7.1) (1.2.1)\n",
      "Requirement already satisfied: fastjsonschema in /home/daenu/miniconda3/lib/python3.11/site-packages (from nbformat>=5.3.0->jupyter-server<3,>=2.4.0->notebook>=4.4.1->widgetsnbextension~=3.6.0->ipywidgets==7.7.1) (2.18.0)\n",
      "Requirement already satisfied: charset-normalizer<4,>=2 in /home/daenu/miniconda3/lib/python3.11/site-packages (from requests>=2.28->jupyterlab-server<3,>=2.22.1->notebook>=4.4.1->widgetsnbextension~=3.6.0->ipywidgets==7.7.1) (2.0.4)\n",
      "Requirement already satisfied: urllib3<1.27,>=1.21.1 in /home/daenu/miniconda3/lib/python3.11/site-packages (from requests>=2.28->jupyterlab-server<3,>=2.22.1->notebook>=4.4.1->widgetsnbextension~=3.6.0->ipywidgets==7.7.1) (1.26.16)\n",
      "Requirement already satisfied: certifi>=2017.4.17 in /home/daenu/miniconda3/lib/python3.11/site-packages (from requests>=2.28->jupyterlab-server<3,>=2.22.1->notebook>=4.4.1->widgetsnbextension~=3.6.0->ipywidgets==7.7.1) (2023.5.7)\n",
      "Requirement already satisfied: argon2-cffi-bindings in /home/daenu/miniconda3/lib/python3.11/site-packages (from argon2-cffi->jupyter-server<3,>=2.4.0->notebook>=4.4.1->widgetsnbextension~=3.6.0->ipywidgets==7.7.1) (21.2.0)\n",
      "Requirement already satisfied: webencodings in /home/daenu/miniconda3/lib/python3.11/site-packages (from bleach!=5.0.0->nbconvert>=6.4.4->jupyter-server<3,>=2.4.0->notebook>=4.4.1->widgetsnbextension~=3.6.0->ipywidgets==7.7.1) (0.5.1)\n",
      "Requirement already satisfied: fqdn in /home/daenu/miniconda3/lib/python3.11/site-packages (from jsonschema>=4.17.3->jupyterlab-server<3,>=2.22.1->notebook>=4.4.1->widgetsnbextension~=3.6.0->ipywidgets==7.7.1) (1.5.1)\n",
      "Requirement already satisfied: isoduration in /home/daenu/miniconda3/lib/python3.11/site-packages (from jsonschema>=4.17.3->jupyterlab-server<3,>=2.22.1->notebook>=4.4.1->widgetsnbextension~=3.6.0->ipywidgets==7.7.1) (20.11.0)\n",
      "Requirement already satisfied: jsonpointer>1.13 in /home/daenu/miniconda3/lib/python3.11/site-packages (from jsonschema>=4.17.3->jupyterlab-server<3,>=2.22.1->notebook>=4.4.1->widgetsnbextension~=3.6.0->ipywidgets==7.7.1) (2.1)\n",
      "Requirement already satisfied: uri-template in /home/daenu/miniconda3/lib/python3.11/site-packages (from jsonschema>=4.17.3->jupyterlab-server<3,>=2.22.1->notebook>=4.4.1->widgetsnbextension~=3.6.0->ipywidgets==7.7.1) (1.3.0)\n",
      "Requirement already satisfied: webcolors>=1.11 in /home/daenu/miniconda3/lib/python3.11/site-packages (from jsonschema>=4.17.3->jupyterlab-server<3,>=2.22.1->notebook>=4.4.1->widgetsnbextension~=3.6.0->ipywidgets==7.7.1) (1.13)\n",
      "Requirement already satisfied: cffi>=1.0.1 in /home/daenu/miniconda3/lib/python3.11/site-packages (from argon2-cffi-bindings->argon2-cffi->jupyter-server<3,>=2.4.0->notebook>=4.4.1->widgetsnbextension~=3.6.0->ipywidgets==7.7.1) (1.15.1)\n",
      "Requirement already satisfied: soupsieve>1.2 in /home/daenu/miniconda3/lib/python3.11/site-packages (from beautifulsoup4->nbconvert>=6.4.4->jupyter-server<3,>=2.4.0->notebook>=4.4.1->widgetsnbextension~=3.6.0->ipywidgets==7.7.1) (2.4.1)\n",
      "Requirement already satisfied: pycparser in /home/daenu/miniconda3/lib/python3.11/site-packages (from cffi>=1.0.1->argon2-cffi-bindings->argon2-cffi->jupyter-server<3,>=2.4.0->notebook>=4.4.1->widgetsnbextension~=3.6.0->ipywidgets==7.7.1) (2.21)\n",
      "Requirement already satisfied: arrow>=0.15.0 in /home/daenu/miniconda3/lib/python3.11/site-packages (from isoduration->jsonschema>=4.17.3->jupyterlab-server<3,>=2.22.1->notebook>=4.4.1->widgetsnbextension~=3.6.0->ipywidgets==7.7.1) (1.2.3)\n",
      "Installing collected packages: ipywidgets\n",
      "Successfully installed ipywidgets-7.7.1\n"
     ]
    },
    {
     "ename": "AttributeError",
     "evalue": "module 'ipywidgets' has no attribute 'version_info'",
     "output_type": "error",
     "traceback": [
      "\u001b[0;31m---------------------------------------------------------------------------\u001b[0m",
      "\u001b[0;31mAttributeError\u001b[0m                            Traceback (most recent call last)",
      "Cell \u001b[0;32mIn[2], line 4\u001b[0m\n\u001b[1;32m      2\u001b[0m get_ipython()\u001b[38;5;241m.\u001b[39msystem(\u001b[38;5;124m'\u001b[39m\u001b[38;5;124mpip install ipywidgets==7.7.1\u001b[39m\u001b[38;5;124m'\u001b[39m)\n\u001b[1;32m      3\u001b[0m \u001b[38;5;28;01mimport\u001b[39;00m \u001b[38;5;21;01mipywidgets\u001b[39;00m\n\u001b[0;32m----> 4\u001b[0m \u001b[43mipywidgets\u001b[49m\u001b[38;5;241;43m.\u001b[39;49m\u001b[43mversion_info\u001b[49m\n",
      "\u001b[0;31mAttributeError\u001b[0m: module 'ipywidgets' has no attribute 'version_info'"
     ]
    }
   ],
   "source": [
    "!pip uninstall ipywidgets -y\n",
    "!pip install ipywidgets==7.7.1\n",
    "import ipywidgets\n",
    "\n",
    "ipywidgets.version_info"
   ]
  },
  {
   "cell_type": "code",
   "execution_count": 4,
   "metadata": {},
   "outputs": [
    {
     "data": {
      "application/vnd.jupyter.widget-view+json": {
       "model_id": "0faa431171714808ae422d0a5cea7ff1",
       "version_major": 2,
       "version_minor": 0
      },
      "text/plain": [
       "SmilesDrawer(output='img', theme='solarized', value=[('Example', 'CNCNCN')])"
      ]
     },
     "execution_count": 4,
     "metadata": {},
     "output_type": "execute_result"
    }
   ],
   "source": [
    "SmilesDrawer(value=[(\"Example\", \"CNCNCN\")], output=\"img\", theme=\"solarized\")"
   ]
  },
  {
   "cell_type": "code",
   "execution_count": 8,
   "metadata": {},
   "outputs": [
    {
     "data": {
      "application/vnd.jupyter.widget-view+json": {
       "model_id": "281e640e60a1455d9fc67ebd0a4cbb3d",
       "version_major": 2,
       "version_minor": 0
      },
      "text/plain": [
       "SmilesDrawer(output='img', theme='solarized', value=[('Example', 'C1CNCCN1.CC1=C(C=C(C=C1)Br)[N+](=O)[O-].C1=C…"
      ]
     },
     "execution_count": 8,
     "metadata": {},
     "output_type": "execute_result"
    }
   ],
   "source": [
    "rxn = split[\"test\"][\"smiles\"][6]\n",
    "mapping = split[\"test\"][\"mapping\"]\n",
    "dataset = InferenceReactionDataset([rxn])\n",
    "\n",
    "expl = explain_regression(dataset, explainer, mapping)\n",
    "\n",
    "w = {\"reactants\": expl.reactant_weights, \"products\": expl.product_weights}\n",
    "\n",
    "SmilesDrawer(value=[(\"Example\", rxn)], weights=[w], output=\"img\", theme=\"solarized\")"
   ]
  }
 ],
 "metadata": {
  "kernelspec": {
   "display_name": "Python 3 (ipykernel)",
   "language": "python",
   "name": "python3"
  },
  "language_info": {
   "codemirror_mode": {
    "name": "ipython",
    "version": 3
   },
   "file_extension": ".py",
   "mimetype": "text/x-python",
   "name": "python",
   "nbconvert_exporter": "python",
   "pygments_lexer": "ipython3",
   "version": "3.10.12"
  }
 },
 "nbformat": 4,
 "nbformat_minor": 4
}
