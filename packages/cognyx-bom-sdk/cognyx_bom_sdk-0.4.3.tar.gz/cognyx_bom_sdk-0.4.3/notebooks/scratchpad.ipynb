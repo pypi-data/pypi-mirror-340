{
 "cells": [
  {
   "cell_type": "markdown",
   "metadata": {},
   "source": [
    "# Cognyx client debug notebook\n",
    "\n",
    "This notebook is used to debug the Cognyx client used in cognyx automations.\n",
    "you will need a .env file with a JWT token to run this notebook. You can get this after logging into the cognyx app.\n",
    "\n",
    "In the cell below, define the bom_id and view_id you want to use (view_id will default to default view if not provided)"
   ]
  },
  {
   "cell_type": "code",
   "execution_count": 6,
   "metadata": {},
   "outputs": [],
   "source": [
    "import os\n",
    "\n",
    "jwt = os.getenv(\"COGNYX_TOKEN\")\n",
    "\n",
    "bom_id = \"3c914fd1-55f2-4d4b-a2b4-224377c05abf\"\n",
    "view_id = None\n",
    "\n",
    "if not bom_id:\n",
    "    raise ValueError(\"bom_id is required\")"
   ]
  },
  {
   "cell_type": "markdown",
   "metadata": {},
   "source": [
    "It will load the bom data and return it."
   ]
  },
  {
   "cell_type": "code",
   "execution_count": 7,
   "metadata": {},
   "outputs": [],
   "source": [
    "from cognyx_bom_sdk.cognyx import CognyxClient\n",
    "\n",
    "cognyx = CognyxClient(base_url=\"http://cognyx-backend.test\", jwt_token=jwt)\n",
    "\n",
    "bom_data = await cognyx.load_bom_data(bom_id, view_id)"
   ]
  },
  {
   "cell_type": "markdown",
   "metadata": {},
   "source": [
    "When the bom is loaded it will then initialize the BomClient"
   ]
  },
  {
   "cell_type": "code",
   "execution_count": 8,
   "metadata": {},
   "outputs": [],
   "source": [
    "from cognyx_bom_sdk.client import BomClient\n",
    "\n",
    "\n",
    "def update_callback(update: dict) -> None:\n",
    "    \"\"\"Callback function to handle updates to the BOM.\"\"\"\n",
    "    print(\"Update:\", update)\n",
    "\n",
    "\n",
    "client = BomClient(bom_data=bom_data, update_callback=update_callback)"
   ]
  },
  {
   "cell_type": "markdown",
   "metadata": {},
   "source": [
    "You can now use the client to interact with the BOM."
   ]
  },
  {
   "cell_type": "code",
   "execution_count": 9,
   "metadata": {},
   "outputs": [
    {
     "name": "stdout",
     "output_type": "stream",
     "text": [
      "instance test part weighs 200g\n"
     ]
    },
    {
     "data": {
      "text/plain": [
       "400"
      ]
     },
     "execution_count": 9,
     "metadata": {},
     "output_type": "execute_result"
    }
   ],
   "source": [
    "from functools import reduce\n",
    "\n",
    "from cognyx_bom_sdk.models import BomInstance\n",
    "\n",
    "mass_attribute = \"added mass g\"\n",
    "\n",
    "\n",
    "def get_instance_mass(instance: BomInstance) -> int:\n",
    "    \"\"\"Get the mass of a BOM instance.\n",
    "\n",
    "    Args:\n",
    "        instance: BOM instance\n",
    "\n",
    "    Returns:\n",
    "        The mass of the instance\n",
    "    \"\"\"\n",
    "    instance_mass = client.get_instance_attribute(instance.id, mass_attribute)\n",
    "\n",
    "    if instance_mass is None:\n",
    "        return 0\n",
    "\n",
    "    print(f\"instance {instance.name} weighs {instance_mass}g\")\n",
    "    return instance.quantity * instance_mass\n",
    "\n",
    "\n",
    "reduce(lambda total, instance: total + get_instance_mass(instance), client.list_bom_instances(), 0)"
   ]
  }
 ],
 "metadata": {
  "kernelspec": {
   "display_name": ".venv",
   "language": "python",
   "name": "python3"
  },
  "language_info": {
   "codemirror_mode": {
    "name": "ipython",
    "version": 3
   },
   "file_extension": ".py",
   "mimetype": "text/x-python",
   "name": "python",
   "nbconvert_exporter": "python",
   "pygments_lexer": "ipython3",
   "version": "3.11.11"
  }
 },
 "nbformat": 4,
 "nbformat_minor": 2
}
