{
 "cells": [
  {
   "cell_type": "markdown",
   "id": "791c2628",
   "metadata": {},
   "source": [
    "# Practical Introduction to the Dataset Module\n",
    "\n",
    "Newer KLIFF introduces lots more functionality towards dataset io while maintaining backward compatibility. In this example we will go over the dataset module and functionalities. \n",
    "\n",
    "## Dataset and Configuration\n",
    "\n",
    "The dataset module contains two classes `Dataset` and `Configuration`.\n",
    "\n",
    "### Configuration\n",
    "\n",
    "`Configuration` class contains the single unit of trainable data in a dataset, which is \n",
    "\n",
    "| Sr. no.| Data | Class Member Name | Data type |\n",
    "|:-------|:-----|:------------------|:----------|\n",
    "| 1      | Coordinates of atoms in the configuration| `coords` | numpy float64 array|\n",
    "| 2      | Species| `species` | List of atomic symbols `str` |\n",
    "| 3      | \"Global\" energy of the configuration | `energy` | python float (double precision)|\n",
    "| 4      | Per atom forces of the configuration | `forces` | numpy float64 array (same shape as `coords`)|\n",
    "| 5      | Periodic boundaries of the configuration| `PBC` | List of length 3 with `bool` indicating the periodic boundaries in dim X, Y, and Z |\n",
    "| 6      | Cell vectors (rowwise, i.e. `cell[0,:]` is the first vector, and `cell[2,:]` will be the last|`cell`| 3x3 numpy float64 array |\n",
    "| 7      | Global stress on the configuration  | `stress` | numpy array of dims `(6,)` (Voigt notation)|\n",
    "| 8      | Weight to apply to this configuration during training | `weight` | Instance of `Weight` class, see below |\n",
    "| 9      | Member to store structural fingerprint of the configuration (descriptors, graphs etc) | `fingerprint` | `Any`, user defined object. Usually numpy array, torch tensor, or {class}`PyGGraph` object|\n",
    "| 10    | Per config metadata key-value pairs  | `metadata` | `dict` of arbitrary key-val pairs |\n",
    "\n",
    "\n",
    "```{admonition} ASE Version\n",
    "Current `Configuration` method works with `ase` <= 3.22. So please pin to that version. Support for newer `ase` modules will be introduced next.\n",
    "```\n",
    "\n",
    "You can easily initialize the `Configuration` from ``ase.Atoms``"
   ]
  },
  {
   "cell_type": "code",
   "execution_count": 13,
   "id": "905b4329",
   "metadata": {},
   "outputs": [
    {
     "name": "stdout",
     "output_type": "stream",
     "text": [
      "[[0.     0.     0.    ]\n",
      " [1.3575 1.3575 1.3575]]\n",
      "['Si', 'Si']\n"
     ]
    }
   ],
   "source": [
    "import numpy as np\n",
    "from ase.build import bulk\n",
    "\n",
    "from kliff.dataset import Configuration\n",
    "\n",
    "Si = bulk(\"Si\")\n",
    "configuration = Configuration.from_ase_atoms(Si)\n",
    "print(configuration.coords)\n",
    "print(configuration.species)"
   ]
  },
  {
   "cell_type": "markdown",
   "id": "f12f434a",
   "metadata": {},
   "source": [
    "There are other IO functions to directly initialize the Configuration class, e.g.\n",
    "\n",
    "1. `Configuration.from_file` : using extxyz file\n",
    "2. `Configuration.from_colabfit` : using ColabFit exchange database\n",
    "\n",
    "But it is best to use the ``Dataset`` to directly load these configurations, as the ``Dataset`` object is more equipped to handle any exceptions in reading these files.\n",
    "\n",
    "### Direct initialization\n",
    "\n",
    "For conversion to newer or unsupported dataformats, you can directly initialize the configuration object as \n"
   ]
  },
  {
   "cell_type": "code",
   "execution_count": 14,
   "id": "fde608d8",
   "metadata": {},
   "outputs": [
    {
     "name": "stdout",
     "output_type": "stream",
     "text": [
      "Number of atoms: 4\n",
      "Species: ['Al', 'Al', 'Al', 'Al']\n",
      "Energy: -3.5\n",
      "Forces:\n",
      " [[-1.15896365 -2.00961247  1.07234515]\n",
      " [-0.55897191  1.3880019  -0.09160773]\n",
      " [-1.41068291 -0.54503868 -0.07134876]\n",
      " [-1.03509015  0.33842744 -0.71063483]]\n"
     ]
    }
   ],
   "source": [
    "cell = np.eye(3)  # 3x3 identity matrix\n",
    "species = [\"Al\", \"Al\", \"Al\", \"Al\"]\n",
    "coords = np.array([\n",
    "    [0.0, 0.0, 0.0],\n",
    "    [0.5, 0.5, 0.0],\n",
    "    [0.0, 0.5, 0.5],\n",
    "    [0.5, 0.0, 0.5],\n",
    "])\n",
    "pbc = [True, True, True]\n",
    "\n",
    "config = Configuration(\n",
    "    cell=cell,\n",
    "    species=species,\n",
    "    coords=coords,\n",
    "    PBC=pbc,\n",
    "    energy=-3.5,\n",
    "    forces=np.random.randn(4, 3),  # random forces as an example\n",
    "    stress=[0.0, 0.0, 0.0, 0.0, 0.0, 0.0],  # Voigt notation\n",
    ")\n",
    "\n",
    "# Let's print some info:\n",
    "print(\"Number of atoms:\", config.get_num_atoms())\n",
    "print(\"Species:\", config.species)\n",
    "print(\"Energy:\", config.energy)\n",
    "print(\"Forces:\\n\", config.forces)\n"
   ]
  },
  {
   "cell_type": "markdown",
   "id": "40e35220",
   "metadata": {},
   "source": [
    "\n",
    "\n",
    "### Exporting the configuration\n",
    "\n",
    "You can convert configuration object back to {class}`~ase.Atoms` object using ``Configuration.to_ase_atoms``, or to extxyz file using ``Configuration.to_file``. For more details, please refer to the API docs.\n"
   ]
  },
  {
   "cell_type": "code",
   "execution_count": 15,
   "id": "f83be773",
   "metadata": {},
   "outputs": [
    {
     "name": "stdout",
     "output_type": "stream",
     "text": [
      "True\n",
      "\n",
      "Saved extxyz header: \n",
      "================================================================================\n",
      "2\r\n",
      "Lattice=\"0 2.715 2.715 2.715 0 2.715 2.715 2.715 0\" PBC=\"1 1 1\" Properties=species:S:1:pos:R:3\r\n"
     ]
    }
   ],
   "source": [
    "ase_atoms = configuration.to_ase_atoms()\n",
    "print(np.allclose(ase_atoms.get_positions(), configuration.coords))\n",
    "\n",
    "configuration.to_file(\"config1.extxyz\")\n",
    "print(\"\\nSaved extxyz header: \")\n",
    "print(\"=\"*80)\n",
    "!head -2 config1.extxyz"
   ]
  },
  {
   "cell_type": "markdown",
   "id": "0a34ae3b",
   "metadata": {},
   "source": [
    "### Exception handling for `Configuration`\n",
    "\n",
    "If any absent property is accessed, you get ``ConfigurationError`` exception. User should handle these exceptions as they see fit."
   ]
  },
  {
   "cell_type": "code",
   "execution_count": 16,
   "id": "00434c1e",
   "metadata": {},
   "outputs": [
    {
     "ename": "ConfigurationError",
     "evalue": "Configuration does not contain forces.",
     "output_type": "error",
     "traceback": [
      "\u001b[0;31m---------------------------------------------------------------------------\u001b[0m",
      "\u001b[0;31mConfigurationError\u001b[0m                        Traceback (most recent call last)",
      "Cell \u001b[0;32mIn [16], line 1\u001b[0m\n\u001b[0;32m----> 1\u001b[0m \u001b[43mconfiguration\u001b[49m\u001b[38;5;241;43m.\u001b[39;49m\u001b[43mforces\u001b[49m\n",
      "File \u001b[0;32m~/Projects/COLABFIT/kliff/kliff/kliff/dataset/dataset.py:376\u001b[0m, in \u001b[0;36mConfiguration.forces\u001b[0;34m(self)\u001b[0m\n\u001b[1;32m    372\u001b[0m \u001b[38;5;250m\u001b[39m\u001b[38;5;124;03m\"\"\"\u001b[39;00m\n\u001b[1;32m    373\u001b[0m \u001b[38;5;124;03mReturn a `Nx3` matrix of the forces on each atoms.\u001b[39;00m\n\u001b[1;32m    374\u001b[0m \u001b[38;5;124;03m\"\"\"\u001b[39;00m\n\u001b[1;32m    375\u001b[0m \u001b[38;5;28;01mif\u001b[39;00m \u001b[38;5;28mself\u001b[39m\u001b[38;5;241m.\u001b[39m_forces \u001b[38;5;129;01mis\u001b[39;00m \u001b[38;5;28;01mNone\u001b[39;00m:\n\u001b[0;32m--> 376\u001b[0m     \u001b[38;5;28;01mraise\u001b[39;00m ConfigurationError(\u001b[38;5;124m\"\u001b[39m\u001b[38;5;124mConfiguration does not contain forces.\u001b[39m\u001b[38;5;124m\"\u001b[39m)\n\u001b[1;32m    377\u001b[0m \u001b[38;5;28;01mreturn\u001b[39;00m \u001b[38;5;28mself\u001b[39m\u001b[38;5;241m.\u001b[39m_forces\n",
      "\u001b[0;31mConfigurationError\u001b[0m: Configuration does not contain forces."
     ]
    }
   ],
   "source": [
    "configuration.forces # raises exception"
   ]
  },
  {
   "cell_type": "markdown",
   "id": "2e923738",
   "metadata": {},
   "source": [
    "\n",
    "```{warning}\n",
    "`Configuration` does not store data with any notion of units, so ensuring the units of the io data is a user delegated responsibility.\n",
    "```\n"
   ]
  },
  {
   "cell_type": "markdown",
   "id": "7112d483",
   "metadata": {},
   "source": [
    "\n",
    "## Dataset\n",
    "Like mentioned earlier, `Dataset` is mostly a collection of `Configurations`, with member functions to read and write those configurations. In simplest terms the ``Dataset`` object works as a list of ``Configurations``. \n",
    "\n",
    "\n",
    "### Initializing the ``Dataset``\n",
    "You can initialize the ``Dataset`` object using myraid of storage options, which include:\n",
    "\n",
    "#### 1. List of ASE Atoms objects (with keyword ``ase_atoms_list`` eplicitly specified)\n"
   ]
  },
  {
   "cell_type": "code",
   "execution_count": 5,
   "id": "98f2f832",
   "metadata": {},
   "outputs": [
    {
     "name": "stderr",
     "output_type": "stream",
     "text": [
      "2025-02-26 12:54:51.241 | INFO     | kliff.dataset.dataset:_read_from_ase:957 - 3 configurations loaded using ASE.\n",
      "2025-02-26 12:54:51.243 | INFO     | kliff.dataset.dataset:add_weights:1124 - No explicit weights provided.\n"
     ]
    },
    {
     "name": "stdout",
     "output_type": "stream",
     "text": [
      "3\n"
     ]
    }
   ],
   "source": [
    "from kliff.dataset import Dataset\n",
    "\n",
    "configs = [bulk(\"Si\"), bulk(\"Al\"), bulk(\"Al\", cubic=True)]\n",
    "ds = Dataset.from_ase(ase_atoms_list=configs)\n",
    "print(len(ds))"
   ]
  },
  {
   "cell_type": "markdown",
   "id": "ff871ba4",
   "metadata": {},
   "source": [
    "#### 2. ``extzyz`` file (all configurations in single extxyz file, read using ``ase.io``, default behaviour)\n",
    "Let us dowload a extyz dataset from web (in this case we are downloading [Graphene dataset](<https://doi.org/10.1038/s41467-023-44525-z>) in extxyz format from Colabfit Exchange.\n"
   ]
  },
  {
   "cell_type": "code",
   "execution_count": 17,
   "id": "1f343392",
   "metadata": {},
   "outputs": [
    {
     "name": "stdout",
     "output_type": "stream",
     "text": [
      "--2025-02-26 13:37:03--  https://materials.colabfit.org/dataset-xyz/DS_jasbxoigo7r4_0.tar.gz\n",
      "Resolving materials.colabfit.org (materials.colabfit.org)... 216.165.12.42\n",
      "Connecting to materials.colabfit.org (materials.colabfit.org)|216.165.12.42|:443... connected.\n",
      "HTTP request sent, awaiting response... 200 OK\n",
      "Length: 36567 (36K) [application/x-tar]\n",
      "Saving to: ‘DS_jasbxoigo7r4_0.tar.gz’\n",
      "\n",
      "DS_jasbxoigo7r4_0.t 100%[===================>]  35.71K  --.-KB/s    in 0.1s    \n",
      "\n",
      "2025-02-26 13:37:03 (362 KB/s) - ‘DS_jasbxoigo7r4_0.tar.gz’ saved [36567/36567]\n",
      "\n",
      "./\n",
      "./DS_jasbxoigo7r4_0_0.xyz.xz\n",
      "48\n",
      "Lattice=\"7.53 0.0 0.0 0.0 8.694891 0.0 0.0 0.0 6.91756\" Properties=species:S:1:pos:R:3:forces:R:3 po_id=PO_1073537155164130421524433 co_id=CO_1056372038821617091165957 energy=-468.61686026192723 stress=\"-0.05233445077383756 0.003984624736573388 3.332094089548831e-06 0.003984624736573388 -0.03689214199484896 -6.99536080196756e-06 3.332094089548831e-06 -6.99536080196756e-06 -0.004744008663708218\" pbc=\"T T T\"\n"
     ]
    }
   ],
   "source": [
    "# Download the dataset, and print header\n",
    "!wget https://materials.colabfit.org/dataset-xyz/DS_jasbxoigo7r4_0.tar.gz\n",
    "!tar -xvf DS_jasbxoigo7r4_0.tar.gz\n",
    "!xz -d DS_jasbxoigo7r4_0_0.xyz.xz\n",
    "!head -2 DS_jasbxoigo7r4_0_0.xyz"
   ]
  },
  {
   "cell_type": "markdown",
   "id": "1bf85346",
   "metadata": {},
   "source": [
    "The things to note down in the header of the xyz file are the following, i. `Properties=species:S:1:pos:R:3:forces:R:3`, and ii.  `energy=-468.61686026192723`, as you might need to supply these energy and forces keys (`forces` and `energy` in above example) explicitly to the function to ensure that properties are correctly mapped in KLIFF configuration."
   ]
  },
  {
   "cell_type": "code",
   "execution_count": 19,
   "id": "66bfe08f",
   "metadata": {},
   "outputs": [
    {
     "name": "stderr",
     "output_type": "stream",
     "text": [
      "2025-02-26 13:38:10.139 | INFO     | kliff.dataset.dataset:_read_from_ase:957 - 41 configurations loaded using ASE.\n",
      "2025-02-26 13:38:10.140 | INFO     | kliff.dataset.dataset:add_weights:1124 - No explicit weights provided.\n"
     ]
    }
   ],
   "source": [
    "from kliff.utils import get_n_configs_in_xyz # how many configs in xyz file \n",
    "# Read the dataset from DS_jasbxoigo7r4_0_0.xyz\n",
    "ds = Dataset.from_ase(\"./DS_jasbxoigo7r4_0_0.xyz\", energy_key=\"energy\", forces_key=\"forces\")\n",
    "\n",
    "assert len(ds) == get_n_configs_in_xyz(\"./DS_jasbxoigo7r4_0_0.xyz\")"
   ]
  },
  {
   "cell_type": "markdown",
   "id": "8b62220b",
   "metadata": {},
   "source": [
    "After loading the dataset you can use it as any other list, with simple indices, slices, or list of numbers.\n",
    "```{tip}\n",
    "Please note that slices and lists of config returns a new dataset object with desired configuration (as opposed to python list)."
   ]
  },
  {
   "cell_type": "code",
   "execution_count": 11,
   "id": "07a01448",
   "metadata": {},
   "outputs": [
    {
     "name": "stdout",
     "output_type": "stream",
     "text": [
      "<kliff.dataset.dataset.Configuration object at 0x7f8265aa5730> <kliff.dataset.dataset.Configuration object at 0x7f8265ab8ca0>\n",
      "3\n",
      "3\n"
     ]
    }
   ],
   "source": [
    "# access individual configs\n",
    "print(ds[1], ds[-1])\n",
    "\n",
    "# access slices\n",
    "print(len(ds[2:5]))\n",
    "\n",
    "# access using list of configs\n",
    "print(len(ds[1,3,5]))"
   ]
  },
  {
   "cell_type": "markdown",
   "id": "d2b95326cff436be",
   "metadata": {},
   "source": [
    "\n",
    "#### 3. List of extxyz files (with one configuration per file)\n",
    "\n",
    "Dataset module can also be initialized using a list of xyz files, with one configuration per file. Example below demonstrate on how to load a toy dataset with 4 configurations.\n"
   ]
  },
  {
   "cell_type": "code",
   "execution_count": 31,
   "id": "1afda4ba5398ea3c",
   "metadata": {
    "ExecuteTime": {
     "end_time": "2025-02-26T19:30:10.381863Z",
     "start_time": "2025-02-26T19:30:09.132186Z"
    }
   },
   "outputs": [
    {
     "name": "stdout",
     "output_type": "stream",
     "text": [
      "--2025-02-26 13:48:52--  https://raw.githubusercontent.com/openkim/kliff/main/examples/Si_training_set_4_configs.tar.gz\n",
      "Resolving raw.githubusercontent.com (raw.githubusercontent.com)... 185.199.109.133, 185.199.108.133, 185.199.111.133, ...\n",
      "Connecting to raw.githubusercontent.com (raw.githubusercontent.com)|185.199.109.133|:443... connected.\n",
      "HTTP request sent, awaiting response... 200 OK\n",
      "Length: 7691 (7.5K) [application/octet-stream]\n",
      "Saving to: ‘Si_training_set_4_configs.tar.gz’\n",
      "\n",
      "Si_training_set_4_c 100%[===================>]   7.51K  --.-KB/s    in 0s      \n",
      "\n",
      "2025-02-26 13:48:52 (30.0 MB/s) - ‘Si_training_set_4_configs.tar.gz’ saved [7691/7691]\n",
      "\n",
      "Si_training_set_4_configs/\n",
      "Si_training_set_4_configs/Si_alat5.431_scale0.005_perturb1.xyz\n",
      "Si_training_set_4_configs/Si_alat5.409_scale0.005_perturb1.xyz\n",
      "Si_training_set_4_configs/Si_alat5.442_scale0.005_perturb1.xyz\n",
      "Si_training_set_4_configs/Si_alat5.420_scale0.005_perturb1.xyz\n"
     ]
    }
   ],
   "source": [
    "!wget https://raw.githubusercontent.com/openkim/kliff/main/examples/Si_training_set_4_configs.tar.gz\n",
    "!tar -xvf Si_training_set_4_configs.tar.gz"
   ]
  },
  {
   "cell_type": "code",
   "execution_count": 32,
   "id": "a627aa55",
   "metadata": {},
   "outputs": [
    {
     "name": "stderr",
     "output_type": "stream",
     "text": [
      "2025-02-26 13:50:16.834 | INFO     | kliff.dataset.dataset:add_weights:1124 - No explicit weights provided.\n"
     ]
    }
   ],
   "source": [
    "ds = Dataset.from_path(\"./Si_training_set_4_configs\") # 4 configs in ./Si_training_set_4_configs\n",
    "assert len(ds) == 4"
   ]
  },
  {
   "cell_type": "markdown",
   "id": "fb4c4573",
   "metadata": {},
   "source": [
    "#### 4. From a ColabFit Exchange database instance\n",
    "\n",
    "You can also stream data from Colabfit Exchange as\n",
    "\n",
    "```python\n",
    "ds = Dataset.from_colabfit(\"my_colabfit_database\", \"DS_xxxxxxxxxxxx_0\", colabfit_uri = \"mongodb://localhost:27017\")\n",
    "```\n",
    "\n",
    "\n",
    "```{warning}\n",
    "The Colabfit interface is under heavy development so please check back for any changes till this warning is not removed\n",
    "```\n"
   ]
  },
  {
   "cell_type": "markdown",
   "id": "7702a9aa",
   "metadata": {},
   "source": [
    "## Custom Dataset Class\n",
    "\n",
    "For unsupported io formats, such as VASP, Siesta outfiles etc, you can extend the ``Dataset`` class manually using the default ``Configuration.__init__`` method for populating the configurations. You will need to store the list of loaded configurations in the ``Dataset.config`` member variable\n",
    "```python\n",
    "class CustomDataset(Dataset):\n",
    "    @classmethod\n",
    "    def from_custom(files_path):\n",
    "        self.config = []\n",
    "        ... # get data from the file\n",
    "        self.append(Configuration(cell=cell,\n",
    "                                  species=species,\n",
    "                                  coords=coords,\n",
    "                                  PBC=pbc,\n",
    "                                  energy=energy,\n",
    "                                  forces=forces))\n",
    "\n",
    "```"
   ]
  },
  {
   "cell_type": "markdown",
   "id": "5fa6f9ad",
   "metadata": {},
   "source": [
    "# Weights\n",
    "\n",
    "KLIFF dataset configurations can have fine grained weights for training, as provided by the {class}`~kliff.dataset.weight.Weight`. "
   ]
  },
  {
   "cell_type": "code",
   "execution_count": null,
   "id": "1207d728",
   "metadata": {},
   "outputs": [],
   "source": []
  }
 ],
 "metadata": {
  "kernelspec": {
   "display_name": "Python 3 (ipykernel)",
   "language": "python",
   "name": "python3"
  },
  "language_info": {
   "codemirror_mode": {
    "name": "ipython",
    "version": 3
   },
   "file_extension": ".py",
   "mimetype": "text/x-python",
   "name": "python",
   "nbconvert_exporter": "python",
   "pygments_lexer": "ipython3",
   "version": "3.9.15"
  }
 },
 "nbformat": 4,
 "nbformat_minor": 5
}
