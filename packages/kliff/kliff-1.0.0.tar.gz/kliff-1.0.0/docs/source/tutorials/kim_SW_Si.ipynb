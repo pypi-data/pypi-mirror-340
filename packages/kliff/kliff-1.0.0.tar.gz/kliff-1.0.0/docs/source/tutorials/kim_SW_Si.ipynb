{
 "cells": [
  {
   "cell_type": "markdown",
   "metadata": {},
   "source": [
    "\n",
    "\n",
    "# Train a Stillinger-Weber potential\n",
    "\n",
    "In this tutorial, we train a Stillinger-Weber (SW) potential for silicon that is archived\n",
    "on OpenKIM_.\n"
   ]
  },
  {
   "cell_type": "markdown",
   "metadata": {},
   "source": [
    "Before getting started to train the SW model, let's first make sure it is installed.\n",
    "\n",
    "If you haven't already, follow `installation` to install ``kim-api`` and\n",
    "``kimpy``, and ``openkim-models``.\n",
    "\n",
    "Then do ``$ kim-api-collections-management list``, and make sure\n",
    "``SW_StillingerWeber_1985_Si__MO_405512056662_006`` is listed in one of the\n",
    "collections.\n",
    "\n",
    "```{tip}\n",
    "If you see ``SW_StillingerWeber_1985_Si__MO_405512056662_005`` (note the last\n",
    "   three digits), you need to change ``model = KIMModel(model_name=\"SW_StillingerWeber_1985_Si__MO_405512056662_006\")``\n",
    "   to the corresponding model name in your installation.\n",
    "```\n",
    "\n",
    "We are going to create potentials for diamond silicon, and fit the potentials to a\n",
    "training set of energies and forces consisting of compressed and stretched diamond\n",
    "silicon structures, as well as configurations drawn from molecular dynamics trajectories\n",
    "at different temperatures.\n",
    "Download the training set [`Si_training_set.tar.gz`](\n",
    "<https://raw.githubusercontent.com/openkim/kliff/master/examples/Si_training_set.tar.gz>).\n",
    "(It will be automatically downloaded if not present.)\n",
    "The data is stored in # **extended xyz** format, and see `doc.dataset` for more\n",
    "information of this format.\n",
    "\n",
    "```{warning}\n",
    "The ``Si_training_set`` is just a toy data set for the purpose to demonstrate how to\n",
    "   use KLIFF to train potentials. It should not be used to train any potential for real\n",
    "   simulations.\n",
    "```\n",
    "\n",
    "```{admonition} Regression\n",
    "`calculator`, and `loss` module is now part of `legacy` module.\n",
    "```\n",
    "\n",
    "Let's first import the modules that will be used in this example.\n"
   ]
  },
  {
   "cell_type": "code",
   "execution_count": 1,
   "metadata": {
    "ExecuteTime": {
     "end_time": "2023-08-02T03:27:08.526043Z",
     "start_time": "2023-08-02T03:27:07.478442Z"
    }
   },
   "outputs": [],
   "source": [
    "from kliff.legacy.calculators import Calculator\n",
    "from kliff.dataset import Dataset\n",
    "from kliff.dataset.weight import Weight\n",
    "from kliff.legacy.loss import Loss\n",
    "from kliff.models import KIMModel\n",
    "from kliff.utils import download_dataset"
   ]
  },
  {
   "cell_type": "markdown",
   "metadata": {},
   "source": [
    "## Model\n",
    "\n",
    "We first create a KIM model for the SW potential, and print out all the available\n",
    "parameters that can be optimized (we call these the ``model parameters``).  Continuing in our python script we write\n",
    "\n"
   ]
  },
  {
   "cell_type": "code",
   "execution_count": 2,
   "metadata": {
    "ExecuteTime": {
     "end_time": "2023-08-02T03:27:08.552585Z",
     "start_time": "2023-08-02T03:27:08.534462Z"
    }
   },
   "outputs": [
    {
     "name": "stdout",
     "output_type": "stream",
     "text": [
      "#================================================================================\n",
      "# Available parameters to optimize.\n",
      "# Parameters in `original` space.\n",
      "# Model: SW_StillingerWeber_1985_Si__MO_405512056662_006\n",
      "#================================================================================\n",
      "\n",
      "name: A\n",
      "value: [15.28484792]\n",
      "size: 1\n",
      "\n",
      "name: B\n",
      "value: [0.60222456]\n",
      "size: 1\n",
      "\n",
      "name: p\n",
      "value: [4.]\n",
      "size: 1\n",
      "\n",
      "name: q\n",
      "value: [0.]\n",
      "size: 1\n",
      "\n",
      "name: sigma\n",
      "value: [2.0951]\n",
      "size: 1\n",
      "\n",
      "name: gamma\n",
      "value: [2.51412]\n",
      "size: 1\n",
      "\n",
      "name: cutoff\n",
      "value: [3.77118]\n",
      "size: 1\n",
      "\n",
      "name: lambda\n",
      "value: [45.5322]\n",
      "size: 1\n",
      "\n",
      "name: costheta0\n",
      "value: [-0.33333333]\n",
      "size: 1\n",
      "\n",
      "\n"
     ]
    },
    {
     "data": {
      "text/plain": [
       "'#================================================================================\\n# Available parameters to optimize.\\n# Parameters in `original` space.\\n# Model: SW_StillingerWeber_1985_Si__MO_405512056662_006\\n#================================================================================\\n\\nname: A\\nvalue: [15.28484792]\\nsize: 1\\n\\nname: B\\nvalue: [0.60222456]\\nsize: 1\\n\\nname: p\\nvalue: [4.]\\nsize: 1\\n\\nname: q\\nvalue: [0.]\\nsize: 1\\n\\nname: sigma\\nvalue: [2.0951]\\nsize: 1\\n\\nname: gamma\\nvalue: [2.51412]\\nsize: 1\\n\\nname: cutoff\\nvalue: [3.77118]\\nsize: 1\\n\\nname: lambda\\nvalue: [45.5322]\\nsize: 1\\n\\nname: costheta0\\nvalue: [-0.33333333]\\nsize: 1\\n\\n'"
      ]
     },
     "execution_count": 2,
     "metadata": {},
     "output_type": "execute_result"
    }
   ],
   "source": [
    "model = KIMModel(model_name=\"SW_StillingerWeber_1985_Si__MO_405512056662_006\")\n",
    "model.echo_model_params()"
   ]
  },
  {
   "cell_type": "markdown",
   "metadata": {},
   "source": [
    "The output is generated by the last line, and it tells us the ``name``, ``value``,\n",
    "``size``, ``data type`` and a ``description`` of each parameter.\n",
    "\n",
    "```{note}\n",
    "You can provide a ``path`` argument to the method `echo_model_params(path)` to\n",
    "   write the available parameters information to a file indicated by `path`\n",
    "```\n",
    "\n",
    "```{admonition}\n",
    "The available parameters information can also by obtained using the **kliff**\n",
    "   `cmdlntool`:\n",
    "   ``$ kliff model --echo-params SW_StillingerWeber_1985_Si__MO_405512056662_006``\n",
    "```\n",
    "\n",
    "Now that we know what parameters are available for fitting, we can optimize all or a\n",
    "subset of them to reproduce the training set.\n",
    "\n"
   ]
  },
  {
   "cell_type": "code",
   "execution_count": 3,
   "metadata": {
    "ExecuteTime": {
     "end_time": "2023-08-02T03:27:08.572910Z",
     "start_time": "2023-08-02T03:27:08.551649Z"
    }
   },
   "outputs": [
    {
     "name": "stdout",
     "output_type": "stream",
     "text": [
      "#================================================================================\n",
      "# Model parameters that are optimized.\n",
      "# Note that the parameters are in the transformed space if \n",
      "# `params_transform` is provided when instantiating the model.\n",
      "#================================================================================\n",
      "\n",
      "A 1\n",
      "  5.0000000000000000e+00   1.0000000000000000e+00   2.0000000000000000e+01 \n",
      "\n",
      "B 1\n",
      "  6.0222455840000000e-01 \n",
      "\n",
      "sigma 1\n",
      "  2.0951000000000000e+00 fix \n",
      "\n",
      "gamma 1\n",
      "  1.5000000000000000e+00 \n",
      "\n",
      "\n"
     ]
    },
    {
     "data": {
      "text/plain": [
       "'#================================================================================\\n# Model parameters that are optimized.\\n# Note that the parameters are in the transformed space if \\n# `params_transform` is provided when instantiating the model.\\n#================================================================================\\n\\nA 1\\n  5.0000000000000000e+00   1.0000000000000000e+00   2.0000000000000000e+01 \\n\\nB 1\\n  6.0222455840000000e-01 \\n\\nsigma 1\\n  2.0951000000000000e+00 fix \\n\\ngamma 1\\n  1.5000000000000000e+00 \\n\\n'"
      ]
     },
     "execution_count": 3,
     "metadata": {},
     "output_type": "execute_result"
    }
   ],
   "source": [
    "model.set_opt_params(\n",
    "    A=[[5.0, 1.0, 20]], B=[[\"default\"]], sigma=[[2.0951, \"fix\"]], gamma=[[1.5]]\n",
    ")\n",
    "model.echo_opt_params()"
   ]
  },
  {
   "cell_type": "markdown",
   "metadata": {},
   "source": [
    "Here, we tell KLIFF to fit four parameters ``B``, ``gamma``, ``sigma``, and ``A`` of the\n",
    "SW model. The information for each fitting parameter should be provided as a list of\n",
    "lists, where the size of the outer list should be equal to the ``size`` of the parameter\n",
    "given by ``model.echo_model_params()``. For each inner list, you can provide either one,\n",
    "two, or three items.\n",
    "\n",
    "- One item. You can use a numerical value (e.g. ``gamma``) to provide an initial guess\n",
    "  of the parameter. Alternatively, the string ``'default'`` can be provided to use the\n",
    "  default value in the model (e.g. ``B``).\n",
    "\n",
    "- Two items. The first item should be a numerical value and the second item should be\n",
    "  the string ``'fix'`` (e.g. ``sigma``), which tells KLIFF to use the value for the\n",
    "  parameter, but do not optimize it.\n",
    "\n",
    "- Three items. The first item can be a numerical value or the string ``'default'``,\n",
    "  having the same meanings as the one item case. In the second and third items, you can\n",
    "  list the lower and upper bounds for the parameters, respectively. A bound could be\n",
    "  provided as a numerical values or ``None``. The latter indicates no bound is applied.\n",
    "\n",
    "The call of ``model.echo_opt_params()`` prints out the fitting parameters that we\n",
    "require KLIFF to optimize. The number ``1`` after the name of each parameter indicates\n",
    "the size of the parameter.\n",
    "\n",
    "```{note}\n",
    "The parameters that are not included as a fitting parameter are fixed to the default\n",
    "   values in the model during the optimization.\n",
    "```\n",
    "\n",
    "## Training set\n",
    "\n",
    "KLIFF has a {class}`~kliff.dataset.Dataset` to deal with the training data (and possibly\n",
    "test data). Additionally, we define the ``energy_weight`` and ``forces_weight``\n",
    "corresponding to each configuration using {class}`~kliff.dataset.weight.Weight`. In\n",
    "this example, we set ``energy_weight`` to ``1.0`` and ``forces_weight`` to ``0.1``.\n",
    "For the silicon training set, we can read and process the files by:\n",
    "\n"
   ]
  },
  {
   "cell_type": "code",
   "execution_count": 4,
   "metadata": {
    "ExecuteTime": {
     "end_time": "2023-08-02T03:27:08.802726Z",
     "start_time": "2023-08-02T03:27:08.552740Z"
    }
   },
   "outputs": [
    {
     "name": "stderr",
     "output_type": "stream",
     "text": [
      "2023-08-01 22:27:08.799 | INFO     | kliff.dataset.dataset:_read:398 - 1000 configurations read from /Users/mjwen.admin/Packages/kliff/docs/source/tutorials/Si_training_set\n"
     ]
    }
   ],
   "source": [
    "dataset_path = download_dataset(dataset_name=\"Si_training_set\")\n",
    "weight = Weight(energy_weight=1.0, forces_weight=0.1)\n",
    "tset = Dataset.from_path(dataset_path, weight)\n",
    "configs = tset.get_configs()"
   ]
  },
  {
   "cell_type": "markdown",
   "metadata": {},
   "source": [
    "The ``configs`` in the last line is a list of {class}`~kliff.dataset.Configuration`.\n",
    "Each configuration is an internal representation of a processed **extended xyz** file,\n",
    "hosting the species, coordinates, energy, forces, and other related information of a\n",
    "system of atoms.\n",
    "\n",
    "\n",
    "## Calculator\n",
    "\n",
    "{class}`~kliff.calculator.Calculator` is the central agent that exchanges information\n",
    "and orchestrate the operation of the fitting process. It calls the model to compute the\n",
    "energy and forces and provide this information to the Loss function ([discussed below](#loss-function))\n",
    "to compute the loss. It also grabs the parameters from the optimizer and update the\n",
    "parameters stored in the model so that the up-to-date parameters are used the next time\n",
    "the model is evaluated to compute the energy and forces. The calculator can be created\n",
    "by:\n",
    "\n"
   ]
  },
  {
   "cell_type": "code",
   "execution_count": 5,
   "metadata": {
    "ExecuteTime": {
     "end_time": "2023-08-02T03:27:09.210474Z",
     "start_time": "2023-08-02T03:27:08.805120Z"
    }
   },
   "outputs": [
    {
     "name": "stderr",
     "output_type": "stream",
     "text": [
      "2023-08-01 22:27:09.207 | INFO     | kliff.calculators.calculator:create:107 - Create calculator for 1000 configurations.\n"
     ]
    }
   ],
   "source": [
    "calc = Calculator(model)\n",
    "_ = calc.create(configs)"
   ]
  },
  {
   "cell_type": "markdown",
   "metadata": {},
   "source": [
    "where ``calc.create(configs)`` does some initializations for each\n",
    "configuration in the training set, such as creating the neighbor list.\n",
    "\n",
    "\n",
    "## Loss function\n",
    "\n",
    "KLIFF uses a loss function to quantify the difference between the training set data and\n",
    "potential predictions and uses minimization algorithms to reduce the loss as much as\n",
    "possible. KLIFF provides a large number of minimization algorithms by interacting with\n",
    "[SciPy](https://scipy.org). For physics-motivated potentials, any algorithm listed on\n",
    "[`scipy.optimize.minimize`](https://docs.scipy.org/doc/scipy/reference/generated/scipy.optimize.minimize.html) and [`scipy.optimize.least_squares`](https://docs.scipy.org/doc/scipy/reference/generated/scipy.optimize.least_squares.html) can be used. In the\n",
    "following code snippet, we create a loss of energy and forces and use ``2`` processors\n",
    "to calculate the loss. The ``L-BFGS-B`` minimization algorithm is applied to minimize\n",
    "the loss, and the minimization is allowed to run for a max number of 100 iterations.\n",
    "\n"
   ]
  },
  {
   "cell_type": "code",
   "execution_count": 6,
   "metadata": {
    "ExecuteTime": {
     "end_time": "2023-08-02T03:27:43.450916Z",
     "start_time": "2023-08-02T03:27:09.211759Z"
    }
   },
   "outputs": [
    {
     "name": "stderr",
     "output_type": "stream",
     "text": [
      "2023-08-01 22:27:09.210 | INFO     | kliff.loss:minimize:310 - Start minimization using method: L-BFGS-B.\n",
      "2023-08-01 22:27:09.212 | INFO     | kliff.loss:_scipy_optimize:429 - Running in multiprocessing mode with 2 processes.\n"
     ]
    },
    {
     "name": "stdout",
     "output_type": "stream",
     "text": [
      "RUNNING THE L-BFGS-B CODE\n",
      "\n",
      "           * * *\n",
      "\n",
      "Machine precision = 2.220D-16\n",
      " N =            3     M =           10\n",
      "\n",
      "At X0         0 variables are exactly at the bounds\n",
      "\n",
      "At iterate    0    f=  4.47164D+03    |proj g|=  4.47898D+03\n",
      "\n",
      "At iterate    1    f=  1.20212D+03    |proj g|=  2.13266D+03\n",
      "At iterate    1    f=  1.20212D+03    |proj g|=  2.13266D+03\n",
      "\n",
      "At iterate    2    f=  2.16532D+02    |proj g|=  1.90519D+02\n",
      "At iterate    2    f=  2.16532D+02    |proj g|=  1.90519D+02\n",
      "\n",
      "At iterate    3    f=  2.07552D+02    |proj g|=  1.06071D+02\n",
      "At iterate    3    f=  2.07552D+02    |proj g|=  1.06071D+02\n",
      "\n",
      "At iterate    4    f=  1.70033D+02    |proj g|=  3.48082D+02\n",
      "\n",
      "At iterate    5    f=  1.64800D+02    |proj g|=  3.74180D+02\n",
      "At iterate    5    f=  1.64800D+02    |proj g|=  3.74180D+02\n",
      "\n",
      "At iterate    6    f=  1.38087D+02    |proj g|=  1.31340D+02\n",
      "At iterate    6    f=  1.38087D+02    |proj g|=  1.31340D+02\n",
      "\n",
      "At iterate    7    f=  1.34855D+02    |proj g|=  1.45391D+01\n",
      "At iterate    7    f=  1.34855D+02    |proj g|=  1.45391D+01\n",
      "\n",
      "At iterate    8    f=  1.34599D+02    |proj g|=  1.58968D+01\n",
      "\n",
      "At iterate    9    f=  1.32261D+02    |proj g|=  8.46707D+01\n",
      "\n",
      "At iterate   10    f=  1.26954D+02    |proj g|=  2.36049D+02\n",
      "At iterate   10    f=  1.26954D+02    |proj g|=  2.36049D+02\n",
      "\n",
      "At iterate   11    f=  1.20788D+02    |proj g|=  2.42511D+02\n",
      "At iterate   11    f=  1.20788D+02    |proj g|=  2.42511D+02\n",
      "\n",
      "At iterate   12    f=  9.84653D+01    |proj g|=  2.90333D+02\n",
      "At iterate   12    f=  9.84653D+01    |proj g|=  2.90333D+02\n",
      "\n",
      "At iterate   13    f=  7.92970D+01    |proj g|=  1.27395D+02\n",
      "At iterate   13    f=  7.92970D+01    |proj g|=  1.27395D+02\n",
      "\n",
      "At iterate   14    f=  6.33426D+01    |proj g|=  1.12669D+02\n",
      "At iterate   14    f=  6.33426D+01    |proj g|=  1.12669D+02\n",
      "\n",
      "At iterate   15    f=  5.95658D+01    |proj g|=  2.50284D+02\n",
      "At iterate   15    f=  5.95658D+01    |proj g|=  2.50284D+02\n",
      "\n",
      "At iterate   16    f=  5.19898D+01    |proj g|=  2.97639D+02\n",
      "At iterate   16    f=  5.19898D+01    |proj g|=  2.97639D+02\n",
      "\n",
      "At iterate   17    f=  3.31620D+01    |proj g|=  2.39904D+02\n",
      "\n",
      "At iterate   18    f=  2.00817D+01    |proj g|=  2.43105D+01\n",
      "\n",
      "At iterate   19    f=  1.58825D+01    |proj g|=  1.94992D+02\n",
      "\n",
      "At iterate   20    f=  1.00645D+01    |proj g|=  3.25943D+02\n",
      "At iterate   20    f=  1.00645D+01    |proj g|=  3.25943D+02\n",
      "\n",
      "At iterate   21    f=  4.82724D+00    |proj g|=  2.33796D+01\n",
      "At iterate   21    f=  4.82724D+00    |proj g|=  2.33796D+01\n",
      "\n",
      "At iterate   22    f=  3.26863D+00    |proj g|=  7.48010D+01\n",
      "At iterate   22    f=  3.26863D+00    |proj g|=  7.48010D+01\n",
      "\n",
      "At iterate   23    f=  2.81339D+00    |proj g|=  2.37520D+01\n",
      "At iterate   23    f=  2.81339D+00    |proj g|=  2.37520D+01\n",
      "\n",
      "At iterate   24    f=  2.53369D+00    |proj g|=  2.24782D+01\n",
      "\n",
      "At iterate   25    f=  2.31427D+00    |proj g|=  4.19973D+01\n",
      "At iterate   25    f=  2.31427D+00    |proj g|=  4.19973D+01\n",
      "\n",
      "At iterate   26    f=  1.82162D+00    |proj g|=  5.03854D+01\n",
      "At iterate   26    f=  1.82162D+00    |proj g|=  5.03854D+01\n",
      "\n",
      "At iterate   27    f=  1.04312D+00    |proj g|=  2.46183D+01\n",
      "\n",
      "At iterate   28    f=  7.95851D-01    |proj g|=  1.50873D+01\n",
      "At iterate   28    f=  7.95851D-01    |proj g|=  1.50873D+01\n",
      "\n",
      "At iterate   29    f=  7.40878D-01    |proj g|=  1.52873D+00\n",
      "At iterate   29    f=  7.40878D-01    |proj g|=  1.52873D+00\n",
      "\n",
      "At iterate   30    f=  7.05900D-01    |proj g|=  1.50051D+01\n",
      "At iterate   30    f=  7.05900D-01    |proj g|=  1.50051D+01\n",
      "\n",
      "At iterate   31    f=  6.95221D-01    |proj g|=  4.45629D+00\n",
      "At iterate   31    f=  6.95221D-01    |proj g|=  4.45629D+00\n",
      "\n",
      "At iterate   32    f=  6.94089D-01    |proj g|=  1.64352D-01\n",
      "At iterate   32    f=  6.94089D-01    |proj g|=  1.64352D-01\n",
      "\n",
      "At iterate   33    f=  6.94079D-01    |proj g|=  2.10362D-02\n",
      "At iterate   33    f=  6.94079D-01    |proj g|=  2.10362D-02\n",
      "\n",
      "At iterate   34    f=  6.94078D-01    |proj g|=  8.86005D-03\n",
      "\n",
      "At iterate   35    f=  6.94078D-01    |proj g|=  8.83015D-03\n",
      "At iterate   35    f=  6.94078D-01    |proj g|=  8.83015D-03\n"
     ]
    },
    {
     "name": "stderr",
     "output_type": "stream",
     "text": [
      "2023-08-01 22:27:43.444 | INFO     | kliff.loss:minimize:312 - Finish minimization using method: L-BFGS-B.\n"
     ]
    },
    {
     "name": "stdout",
     "output_type": "stream",
     "text": [
      "\n",
      "At iterate   36    f=  6.94078D-01    |proj g|=  5.10514D-04\n",
      "\n",
      "           * * *\n",
      "\n",
      "Tit   = total number of iterations\n",
      "Tnf   = total number of function evaluations\n",
      "Tnint = total number of segments explored during Cauchy searches\n",
      "Skip  = number of BFGS updates skipped\n",
      "Nact  = number of active bounds at final generalized Cauchy point\n",
      "Projg = norm of the final projected gradient\n",
      "F     = final function value\n",
      "\n",
      "           * * *\n",
      "\n",
      "   N    Tit     Tnf  Tnint  Skip  Nact     Projg        F\n",
      "    3     36     44     37     0     0   5.105D-04   6.941D-01\n",
      "  F =  0.69407801330347585     \n",
      "\n",
      "CONVERGENCE: REL_REDUCTION_OF_F_<=_FACTR*EPSMCH             \n"
     ]
    },
    {
     "data": {
      "text/plain": [
       "      fun: 0.6940780133034758\n",
       " hess_inv: <3x3 LbfgsInvHessProduct with dtype=float64>\n",
       "      jac: array([ 2.62567724e-05, -5.10513851e-04,  1.01474385e-05])\n",
       "  message: 'CONVERGENCE: REL_REDUCTION_OF_F_<=_FACTR*EPSMCH'\n",
       "     nfev: 176\n",
       "      nit: 36\n",
       "     njev: 44\n",
       "   status: 0\n",
       "  success: True\n",
       "        x: array([14.93863362,  0.58740265,  2.20146126])"
      ]
     },
     "execution_count": 6,
     "metadata": {},
     "output_type": "execute_result"
    }
   ],
   "source": [
    "steps = 100\n",
    "loss = Loss(calc, nprocs=2)\n",
    "# loss.minimize(method=\"L-BFGS-B\", options={\"disp\": True, \"maxiter\": steps})"
   ]
  },
  {
   "cell_type": "markdown",
   "metadata": {},
   "source": [
    "The minimization stops after running for 27 steps.  After the minimization, we'd better\n",
    "save the model, which can be loaded later for the purpose of retraining or for function\n",
    "evaluations. If satisfied with the fitted model, you can also write it as a KIM model\n",
    "that can be used with LAMMPS, GULP, ASE, etc. via the kim-api.\n",
    "\n"
   ]
  },
  {
   "cell_type": "code",
   "execution_count": 7,
   "metadata": {
    "ExecuteTime": {
     "end_time": "2023-08-02T03:27:43.458577Z",
     "start_time": "2023-08-02T03:27:43.452005Z"
    }
   },
   "outputs": [
    {
     "name": "stderr",
     "output_type": "stream",
     "text": [
      "2023-08-01 22:27:43.455 | INFO     | kliff.models.kim:write_kim_model:692 - KLIFF trained model write to `/Users/mjwen.admin/Packages/kliff/docs/source/tutorials/SW_StillingerWeber_1985_Si__MO_405512056662_006_kliff_trained`\n"
     ]
    },
    {
     "name": "stdout",
     "output_type": "stream",
     "text": [
      "#================================================================================\n",
      "# Model parameters that are optimized.\n",
      "# Note that the parameters are in the transformed space if \n",
      "# `params_transform` is provided when instantiating the model.\n",
      "#================================================================================\n",
      "\n",
      "A 1\n",
      "  1.4938633615724747e+01   1.0000000000000000e+00   2.0000000000000000e+01 \n",
      "\n",
      "B 1\n",
      "  5.8740264694219135e-01 \n",
      "\n",
      "sigma 1\n",
      "  2.0951000000000000e+00 fix \n",
      "\n",
      "gamma 1\n",
      "  2.2014612645628717e+00 \n",
      "\n",
      "\n"
     ]
    }
   ],
   "source": [
    "model.echo_opt_params()\n",
    "model.save(\"kliff_model.yaml\")\n",
    "model.write_kim_model()\n",
    "# model.load(\"kliff_model.yaml\")"
   ]
  },
  {
   "cell_type": "markdown",
   "metadata": {},
   "source": [
    "The first line of the above code generates the output.  A comparison with the original\n",
    "parameters before carrying out the minimization shows that we recover the original\n",
    "parameters quite reasonably. The second line saves the fitted model to a file named\n",
    "``kliff_model.pkl`` on the disk, and the third line writes out a KIM potential named\n",
    "``SW_StillingerWeber_1985_Si__MO_405512056662_006_kliff_trained``.\n",
    "\n",
    "For information about how to load a saved model, see [Save and load a model](./../howto/install_kim_model.rst#_install_model).\n"
   ]
  }
 ],
 "metadata": {
  "kernelspec": {
   "display_name": "Python 3 (ipykernel)",
   "language": "python",
   "name": "python3"
  },
  "language_info": {
   "codemirror_mode": {
    "name": "ipython",
    "version": 3
   },
   "file_extension": ".py",
   "mimetype": "text/x-python",
   "name": "python",
   "nbconvert_exporter": "python",
   "pygments_lexer": "ipython3",
   "version": "3.9.15"
  }
 },
 "nbformat": 4,
 "nbformat_minor": 1
}
