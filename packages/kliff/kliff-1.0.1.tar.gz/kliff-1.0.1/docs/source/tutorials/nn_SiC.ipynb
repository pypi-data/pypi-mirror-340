{
 "cells": [
  {
   "cell_type": "code",
   "execution_count": null,
   "metadata": {
    "collapsed": false
   },
   "outputs": [],
   "source": [
    "%matplotlib inline"
   ]
  },
  {
   "cell_type": "markdown",
   "metadata": {},
   "source": [
    "\n",
    "\n",
    "# Train a neural network potential for SiC\n",
    "\n",
    "In this tutorial, we train a neural network (NN) potential for a system containing two\n",
    "species: Si and C. This is very similar to the training for systems containing a single\n",
    "specie (take a look at [neural network tutorial](nn_Si) for Si if you haven't yet).\n",
    "\n",
    "```{tip}\n",
    "This tutorial shows how to train a multi-species model, but due to the limitations of DUNN driver you\n",
    "cannot deploy this model like the [neural network tutorial](nn_Si). For a more flexible, albeit slower,\n",
    "support for general ML models (including neural networks), see the [TorchML driver](kim_ml_trainer_framework) based tutorial.\n",
    "```"
   ]
  },
  {
   "cell_type": "code",
   "execution_count": null,
   "metadata": {
    "collapsed": false
   },
   "outputs": [],
   "source": [
    "from kliff.legacy import nn\n",
    "from kliff.legacy.calculators.calculator_torch import CalculatorTorchSeparateSpecies\n",
    "from kliff.dataset import Dataset\n",
    "from kliff.dataset.weight import Weight\n",
    "from kliff.legacy.descriptors import SymmetryFunction\n",
    "from kliff.legacy.loss import Loss\n",
    "from kliff.models import NeuralNetwork\n",
    "from kliff.utils import download_dataset\n",
    "\n",
    "descriptor = SymmetryFunction(\n",
    "    cut_name=\"cos\",\n",
    "    cut_dists={\"Si-Si\": 5.0, \"C-C\": 5.0, \"Si-C\": 5.0},\n",
    "    hyperparams=\"set51\",\n",
    "    normalize=True,\n",
    ")"
   ]
  },
  {
   "cell_type": "markdown",
   "metadata": {},
   "source": [
    "We will create two models, one for Si and the other for C. The purpose is to have\na separate set of parameters for Si and C so that they can be differentiated.\n\n"
   ]
  },
  {
   "cell_type": "code",
   "execution_count": null,
   "metadata": {
    "collapsed": false
   },
   "outputs": [],
   "source": [
    "N1 = 10\n",
    "N2 = 10\n",
    "model_si = NeuralNetwork(descriptor)\n",
    "model_si.add_layers(\n",
    "    # first hidden layer\n",
    "    nn.Linear(descriptor.get_size(), N1),\n",
    "    nn.Tanh(),\n",
    "    # second hidden layer\n",
    "    nn.Linear(N1, N2),\n",
    "    nn.Tanh(),\n",
    "    # output layer\n",
    "    nn.Linear(N2, 1),\n",
    ")\n",
    "model_si.set_save_metadata(prefix=\"./kliff_saved_model_si\", start=5, frequency=2)\n",
    "\n",
    "\n",
    "N1 = 10\n",
    "N2 = 10\n",
    "model_c = NeuralNetwork(descriptor)\n",
    "model_c.add_layers(\n",
    "    # first hidden layer\n",
    "    nn.Linear(descriptor.get_size(), N1),\n",
    "    nn.Tanh(),\n",
    "    # second hidden layer\n",
    "    nn.Linear(N1, N2),\n",
    "    nn.Tanh(),\n",
    "    # output layer\n",
    "    nn.Linear(N2, 1),\n",
    ")\n",
    "model_c.set_save_metadata(prefix=\"./kliff_saved_model_c\", start=5, frequency=2)\n",
    "\n",
    "\n",
    "# training set\n",
    "dataset_path = download_dataset(dataset_name=\"SiC_training_set\")\n",
    "weight = Weight(forces_weight=0.3)\n",
    "tset = Dataset.from_path(dataset_path, weight)\n",
    "configs = tset.get_configs()\n",
    "\n",
    "# calculator\n",
    "calc = CalculatorTorchSeparateSpecies({\"Si\": model_si, \"C\": model_c}, gpu=False)\n",
    "_ = calc.create(configs, reuse=False)\n",
    "\n",
    "# loss\n",
    "loss = Loss(calc)\n",
    "result = loss.minimize(method=\"Adam\", num_epochs=10, batch_size=4, lr=0.001)"
   ]
  },
  {
   "cell_type": "markdown",
   "metadata": {},
   "source": [
    "We can save the trained model to disk, and later can load it back if we want.\n\n"
   ]
  },
  {
   "cell_type": "code",
   "execution_count": null,
   "metadata": {
    "collapsed": false
   },
   "outputs": [],
   "source": [
    "model_si.save(\"final_model_si.pkl\")\nmodel_c.save(\"final_model_c.pkl\")\nloss.save_optimizer_state(\"optimizer_stat.pkl\")"
   ]
  }
 ],
 "metadata": {
  "kernelspec": {
   "display_name": "Python 3",
   "language": "python",
   "name": "python3"
  },
  "language_info": {
   "codemirror_mode": {
    "name": "ipython",
    "version": 3
   },
   "file_extension": ".py",
   "mimetype": "text/x-python",
   "name": "python",
   "nbconvert_exporter": "python",
   "pygments_lexer": "ipython3",
   "version": "3.9.12"
  }
 },
 "nbformat": 4,
 "nbformat_minor": 0
}
