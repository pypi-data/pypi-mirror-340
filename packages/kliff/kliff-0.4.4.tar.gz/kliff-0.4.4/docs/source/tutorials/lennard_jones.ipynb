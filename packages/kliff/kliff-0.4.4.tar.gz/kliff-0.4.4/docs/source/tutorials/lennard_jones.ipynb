{
 "cells": [
  {
   "cell_type": "markdown",
   "metadata": {},
   "source": [
    "# Train a Lennard-Jones potential\n",
    "\n",
    "In this tutorial, we train a Lennard-Jones potential that is build in KLIFF (i.e. not\n",
    "models archived on OpenKIM_). From a user's perspective, a KLIFF built-in model is not\n",
    "different from a KIM model.\n",
    "\n",
    "Compare this with `tut_kim_sw`.\n",
    "\n"
   ]
  },
  {
   "cell_type": "code",
   "execution_count": 2,
   "metadata": {
    "collapsed": false,
    "ExecuteTime": {
     "end_time": "2023-08-02T02:59:16.973526Z",
     "start_time": "2023-08-02T02:59:14.451582Z"
    }
   },
   "outputs": [
    {
     "name": "stderr",
     "output_type": "stream",
     "text": [
      "2023-08-01 21:59:15.496 | INFO     | kliff.dataset.dataset:_read:398 - 4 configurations read from /Users/mjwen.admin/Packages/kliff/docs/source/tutorials/Si_training_set_4_configs\n",
      "2023-08-01 21:59:15.499 | INFO     | kliff.calculators.calculator:create:107 - Create calculator for 4 configurations.\n",
      "2023-08-01 21:59:15.499 | INFO     | kliff.loss:minimize:310 - Start minimization using method: L-BFGS-B.\n",
      "2023-08-01 21:59:15.500 | INFO     | kliff.loss:_scipy_optimize:427 - Running in serial mode.\n",
      " This problem is unconstrained.\n"
     ]
    },
    {
     "name": "stdout",
     "output_type": "stream",
     "text": [
      "#================================================================================\n",
      "# Available parameters to optimize.\n",
      "# Parameters in `original` space.\n",
      "# Model: LJ6-12\n",
      "#================================================================================\n",
      "\n",
      "name: epsilon\n",
      "value: [1.]\n",
      "size: 1\n",
      "\n",
      "name: sigma\n",
      "value: [2.]\n",
      "size: 1\n",
      "\n",
      "name: cutoff\n",
      "value: [5.]\n",
      "size: 1\n",
      "\n",
      "\n",
      "#================================================================================\n",
      "# Model parameters that are optimized.\n",
      "# Note that the parameters are in the transformed space if \n",
      "# `params_transform` is provided when instantiating the model.\n",
      "#================================================================================\n",
      "\n",
      "sigma 1\n",
      "  2.0000000000000000e+00 \n",
      "\n",
      "epsilon 1\n",
      "  1.0000000000000000e+00 \n",
      "\n",
      "\n",
      "RUNNING THE L-BFGS-B CODE\n",
      "\n",
      "           * * *\n",
      "\n",
      "Machine precision = 2.220D-16\n",
      " N =            2     M =           10\n",
      "\n",
      "At X0         0 variables are exactly at the bounds\n",
      "\n",
      "At iterate    0    f=  6.40974D+00    |proj g|=  2.92791D+01\n",
      "\n",
      "At iterate    1    f=  2.98676D+00    |proj g|=  3.18782D+01\n",
      "\n",
      "At iterate    2    f=  1.56102D+00    |proj g|=  1.02614D+01\n",
      "\n",
      "At iterate    3    f=  9.61567D-01    |proj g|=  8.00167D+00\n",
      "\n",
      "At iterate    4    f=  3.20489D-02    |proj g|=  7.63379D-01\n",
      "\n",
      "At iterate    5    f=  2.42400D-02    |proj g|=  5.96998D-01\n",
      "\n",
      "At iterate    6    f=  1.49914D-02    |proj g|=  6.87782D-01\n",
      "\n",
      "At iterate    7    f=  9.48615D-03    |proj g|=  1.59376D-01\n",
      "\n",
      "At iterate    8    f=  6.69609D-03    |proj g|=  1.14378D-01\n"
     ]
    },
    {
     "name": "stderr",
     "output_type": "stream",
     "text": [
      "2023-08-01 21:59:16.968 | INFO     | kliff.loss:minimize:312 - Finish minimization using method: L-BFGS-B.\n"
     ]
    },
    {
     "name": "stdout",
     "output_type": "stream",
     "text": [
      "\n",
      "At iterate    9    f=  4.11024D-03    |proj g|=  3.20712D-01\n",
      "\n",
      "At iterate   10    f=  2.97209D-03    |proj g|=  7.03411D-02\n",
      "\n",
      "           * * *\n",
      "\n",
      "Tit   = total number of iterations\n",
      "Tnf   = total number of function evaluations\n",
      "Tnint = total number of segments explored during Cauchy searches\n",
      "Skip  = number of BFGS updates skipped\n",
      "Nact  = number of active bounds at final generalized Cauchy point\n",
      "Projg = norm of the final projected gradient\n",
      "F     = final function value\n",
      "\n",
      "           * * *\n",
      "\n",
      "   N    Tit     Tnf  Tnint  Skip  Nact     Projg        F\n",
      "    2     10     13      1     0     0   7.034D-02   2.972D-03\n",
      "  F =   2.9720927488600178E-003\n",
      "\n",
      "STOP: TOTAL NO. of ITERATIONS REACHED LIMIT                 \n",
      "#================================================================================\n",
      "# Model parameters that are optimized.\n",
      "# Note that the parameters are in the transformed space if \n",
      "# `params_transform` is provided when instantiating the model.\n",
      "#================================================================================\n",
      "\n",
      "sigma 1\n",
      "  2.0629054951532582e+00 \n",
      "\n",
      "epsilon 1\n",
      "  1.5614850326987884e+00 \n",
      "\n",
      "\n"
     ]
    }
   ],
   "source": [
    "from kliff.calculators import Calculator\n",
    "from kliff.dataset import Dataset\n",
    "from kliff.loss import Loss\n",
    "from kliff.models import LennardJones\n",
    "from kliff.utils import download_dataset\n",
    "\n",
    "# training set\n",
    "dataset_path = download_dataset(dataset_name=\"Si_training_set_4_configs\")\n",
    "tset = Dataset(dataset_path)\n",
    "configs = tset.get_configs()\n",
    "\n",
    "# calculator\n",
    "model = LennardJones()\n",
    "model.echo_model_params()\n",
    "\n",
    "# fitting parameters\n",
    "model.set_opt_params(sigma=[[\"default\"]], epsilon=[[\"default\"]])\n",
    "model.echo_opt_params()\n",
    "\n",
    "calc = Calculator(model)\n",
    "calc.create(configs)\n",
    "\n",
    "# loss\n",
    "loss = Loss(calc, nprocs=1)\n",
    "result = loss.minimize(method=\"L-BFGS-B\", options={\"disp\": True, \"maxiter\": 10})\n",
    "\n",
    "\n",
    "# print optimized parameters\n",
    "model.echo_opt_params()\n",
    "model.save(\"kliff_model.yaml\")"
   ]
  }
 ],
 "metadata": {
  "kernelspec": {
   "display_name": "Python 3",
   "language": "python",
   "name": "python3"
  },
  "language_info": {
   "codemirror_mode": {
    "name": "ipython",
    "version": 3
   },
   "file_extension": ".py",
   "mimetype": "text/x-python",
   "name": "python",
   "nbconvert_exporter": "python",
   "pygments_lexer": "ipython3",
   "version": "3.9.12"
  }
 },
 "nbformat": 4,
 "nbformat_minor": 0
}
