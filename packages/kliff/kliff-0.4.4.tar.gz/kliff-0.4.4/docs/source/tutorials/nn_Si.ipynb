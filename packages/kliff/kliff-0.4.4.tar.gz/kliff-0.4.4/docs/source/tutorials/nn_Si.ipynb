{
 "cells": [
  {
   "cell_type": "code",
   "execution_count": null,
   "metadata": {
    "collapsed": false
   },
   "outputs": [],
   "source": [
    "%matplotlib inline"
   ]
  },
  {
   "cell_type": "markdown",
   "metadata": {},
   "source": [
    "\n",
    "\n",
    "# Train a neural network potential\n",
    "\n",
    "In this tutorial, we train a neural network (NN) potential for silicon.\n"
   ]
  },
  {
   "cell_type": "markdown",
   "metadata": {},
   "source": [
    "We are going to fit the NN potential to a training set of energies and forces from\n",
    "compressed and stretched diamond silicon structures (the same training set used in\n",
    "`tut_kim_sw`).\n",
    "Download the training set :download:`Si_training_set.tar.gz # <https://raw.githubusercontent.com/openkim/kliff/master/examples/Si_training_set.tar.gz>`\n",
    "(It will be automatically downloaded if it is not present.)\n",
    "The data is stored in **extended xyz** format, and see `doc.dataset` for more\n",
    "information of this format.\n",
    "\n",
    "<div class=\"alert alert-danger\"><h4>Warning</h4><p>The ``Si_training_set`` is just a toy data set for the purpose to demonstrate how to\n",
    "    use KLIFF to train potentials. It should not be used to train any potential for real\n",
    "    simulations.</p></div>\n",
    "\n",
    "Let's first import the modules that will be used in this example.\n",
    "\n"
   ]
  },
  {
   "cell_type": "code",
   "execution_count": null,
   "metadata": {
    "collapsed": false
   },
   "outputs": [],
   "source": [
    "from kliff import nn\n",
    "from kliff.calculators import CalculatorTorch\n",
    "from kliff.dataset import Dataset\n",
    "from kliff.dataset.weight import Weight\n",
    "from kliff.descriptors import SymmetryFunction\n",
    "from kliff.loss import Loss\n",
    "from kliff.models import NeuralNetwork\n",
    "from kliff.utils import download_dataset"
   ]
  },
  {
   "cell_type": "markdown",
   "metadata": {},
   "source": [
    "## Model\n",
    "\n",
    "For a NN model, we need to specify the descriptor that transforms atomic environment\n",
    "information to the fingerprints, which the NN model uses as the input. Here, we use the\n",
    "symmetry functions proposed by Behler and coworkers.\n",
    "\n"
   ]
  },
  {
   "cell_type": "code",
   "execution_count": null,
   "metadata": {
    "collapsed": false
   },
   "outputs": [],
   "source": [
    "descriptor = SymmetryFunction(\n",
    "    cut_name=\"cos\", cut_dists={\"Si-Si\": 5.0}, hyperparams=\"set51\", normalize=True\n",
    ")"
   ]
  },
  {
   "cell_type": "markdown",
   "metadata": {},
   "source": [
    "The ``cut_name`` and ``cut_dists`` tell the descriptor what type of cutoff function to\n",
    "use and what the cutoff distances are. ``hyperparams`` specifies the set of\n",
    "hyperparameters used in the symmetry function descriptor. If you prefer, you can provide\n",
    "a dictionary of your own hyperparameters. And finally, ``normalize`` informs that the\n",
    "generated fingerprints should be normalized by first subtracting the mean and then\n",
    "dividing the standard deviation. This normalization typically makes it easier to\n",
    "optimize NN model.\n",
    "\n",
    "We can then build the NN model on top of the descriptor.\n",
    "\n"
   ]
  },
  {
   "cell_type": "code",
   "execution_count": null,
   "metadata": {
    "collapsed": false
   },
   "outputs": [],
   "source": [
    "N1 = 10\n",
    "N2 = 10\n",
    "model = NeuralNetwork(descriptor)\n",
    "model.add_layers(\n",
    "    # first hidden layer\n",
    "    nn.Linear(descriptor.get_size(), N1),\n",
    "    nn.Tanh(),\n",
    "    # second hidden layer\n",
    "    nn.Linear(N1, N2),\n",
    "    nn.Tanh(),\n",
    "    # output layer\n",
    "    nn.Linear(N2, 1),\n",
    ")\n",
    "model.set_save_metadata(prefix=\"./kliff_saved_model\", start=5, frequency=2)"
   ]
  },
  {
   "cell_type": "markdown",
   "metadata": {},
   "source": [
    "In the above code, we build a NN model with an input layer, two hidden layer, and an\n",
    "output layer. The ``descriptor`` carries the information of the input layer, so it is\n",
    "not needed to be specified explicitly. For each hidden layer, we first do a linear\n",
    "transformation using ``nn.Linear(size_in, size_out)`` (essentially carrying out $y\n",
    "= xW+b$, where $W$ is the weight matrix of size ``size_in`` by ``size_out``, and\n",
    "$b$ is a vector of size ``size_out``. Then we apply the hyperbolic tangent\n",
    "activation function ``nn.Tanh()`` to the output of the Linear layer (i.e. $y$) so\n",
    "as to add the nonlinearity. We use a Linear layer for the output layer as well, but\n",
    "unlike the hidden layer, no activation function is applied here. The input size\n",
    "``size_in`` of the first hidden layer must be the size of the descriptor, which is\n",
    "obtained using ``descriptor.get_size()``. For all other layers (hidden or output), the\n",
    "input size must be equal to the output size of the previous layer. The ``out_size`` of\n",
    "the output layer must be 1 such that the output of the NN model gives the energy of the\n",
    "atom.\n",
    "\n",
    "The ``set_save_metadata`` function call informs where to save intermediate models during\n",
    "the optimization (discussed below), and what the starting epoch and how often to save\n",
    "the model.\n",
    "\n",
    "\n",
    "## Training set and calculator\n",
    "\n",
    "The training set and the calculator are the same as explained in `tut_kim_sw`. The\n",
    "only difference is that we need to use the\n",
    ":mod:`~kliff.calculators.CalculatorTorch()`, which is targeted for the NN model.\n",
    "Also, its ``create()`` method takes an argument ``reuse`` to inform whether to reuse the\n",
    "fingerprints generated from the descriptor if it is present.\n",
    "To train on gpu, set ``gpu=True`` in ``Calculator``.\n",
    "\n",
    "\n"
   ]
  },
  {
   "cell_type": "code",
   "execution_count": null,
   "metadata": {
    "collapsed": false
   },
   "outputs": [],
   "source": [
    "# training set\n",
    "dataset_path = download_dataset(dataset_name=\"Si_training_set\")\n",
    "dataset_path = dataset_path.joinpath(\"varying_alat\")\n",
    "weight = Weight(forces_weight=0.3)\n",
    "tset = Dataset(dataset_path, weight)\n",
    "configs = tset.get_configs()\n",
    "\n",
    "# calculator\n",
    "calc = CalculatorTorch(model, gpu=False)\n",
    "_ = calc.create(configs, reuse=False)"
   ]
  },
  {
   "cell_type": "markdown",
   "metadata": {},
   "source": [
    "## Loss function\n",
    "\n",
    "KLIFF uses a loss function to quantify the difference between the training data and\n",
    "potential predictions and uses minimization algorithms to reduce the loss as much as\n",
    "possible. In the following code snippet, we create a loss function that uses the\n",
    "``Adam`` optimizer to minimize it. The Adam optimizer supports minimization using\n",
    "`mini-batches` of data, and here we use ``100`` configurations in each minimization step\n",
    "(the training set has a total of 400 configurations as can be seen above), and run\n",
    "through the training set for ``10`` epochs. The learning rate ``lr`` used here is\n",
    "``0.001``, and typically, one may need to play with this to find an acceptable one that\n",
    "drives the loss down in a reasonable time.\n",
    "\n"
   ]
  },
  {
   "cell_type": "code",
   "execution_count": null,
   "metadata": {
    "collapsed": false
   },
   "outputs": [],
   "source": [
    "loss = Loss(calc)\n",
    "result = loss.minimize(method=\"Adam\", num_epochs=10, batch_size=100, lr=0.001)"
   ]
  },
  {
   "cell_type": "markdown",
   "metadata": {},
   "source": [
    "We can save the trained model to disk, and later can load it back if we want. We can\n",
    "also write the trained model to a KIM model such that it can be used in other simulation\n",
    "codes such as LAMMPS via the KIM API.\n",
    "\n"
   ]
  },
  {
   "cell_type": "code",
   "execution_count": null,
   "metadata": {
    "collapsed": false
   },
   "outputs": [],
   "source": [
    "model.save(\"final_model.pkl\")\n",
    "loss.save_optimizer_state(\"optimizer_stat.pkl\")\n",
    "\n",
    "model.write_kim_model()"
   ]
  },
  {
   "cell_type": "markdown",
   "metadata": {},
   "source": [
    "<div class=\"alert alert-info\"><h4>Note</h4><p>Now we have trained an NN for a single specie Si. If you have multiple species in\n",
    "   your system and want to use different parameters for different species,\n",
    "   take a look at the `tut_nn_multi_spec` example.</p></div>\n",
    "\n",
    "\n"
   ]
  }
 ],
 "metadata": {
  "kernelspec": {
   "display_name": "Python 3",
   "language": "python",
   "name": "python3"
  },
  "language_info": {
   "codemirror_mode": {
    "name": "ipython",
    "version": 3
   },
   "file_extension": ".py",
   "mimetype": "text/x-python",
   "name": "python",
   "nbconvert_exporter": "python",
   "pygments_lexer": "ipython3",
   "version": "3.9.12"
  }
 },
 "nbformat": 4,
 "nbformat_minor": 0
}
