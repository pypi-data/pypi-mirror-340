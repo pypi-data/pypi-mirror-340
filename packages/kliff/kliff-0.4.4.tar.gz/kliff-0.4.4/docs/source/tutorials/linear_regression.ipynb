{
 "cells": [
  {
   "cell_type": "markdown",
   "metadata": {},
   "source": [
    "\n",
    "\n",
    "# Train a linear regression potential\n",
    "\n",
    "In this tutorial, we train a linear regression model on the descriptors obtained using the\n",
    "symmetry functions.\n"
   ]
  },
  {
   "cell_type": "code",
   "execution_count": 2,
   "metadata": {
    "collapsed": false,
    "ExecuteTime": {
     "end_time": "2023-08-02T02:59:11.499887Z",
     "start_time": "2023-08-02T02:59:00.581321Z"
    }
   },
   "outputs": [
    {
     "name": "stderr",
     "output_type": "stream",
     "text": [
      "2023-08-01 21:59:01.754 | INFO     | kliff.dataset.dataset:_read:398 - 400 configurations read from /Users/mjwen.admin/Packages/kliff/docs/source/tutorials/Si_training_set/varying_alat\n",
      "2023-08-01 21:59:01.755 | INFO     | kliff.calculators.calculator_torch:_get_device:592 - Training on cpu\n",
      "2023-08-01 21:59:01.756 | INFO     | kliff.descriptors.descriptor:generate_fingerprints:103 - Start computing mean and stdev of fingerprints.\n",
      "2023-08-01 21:59:11.127 | INFO     | kliff.descriptors.descriptor:generate_fingerprints:120 - Finish computing mean and stdev of fingerprints.\n",
      "2023-08-01 21:59:11.129 | INFO     | kliff.descriptors.descriptor:generate_fingerprints:128 - Fingerprints mean and stdev saved to `fingerprints_mean_and_stdev.pkl`.\n",
      "2023-08-01 21:59:11.129 | INFO     | kliff.descriptors.descriptor:_dump_fingerprints:163 - Pickling fingerprints to `fingerprints.pkl`\n",
      "2023-08-01 21:59:11.131 | INFO     | kliff.descriptors.descriptor:_dump_fingerprints:175 - Processing configuration: 0.\n",
      "2023-08-01 21:59:11.199 | INFO     | kliff.descriptors.descriptor:_dump_fingerprints:175 - Processing configuration: 100.\n",
      "2023-08-01 21:59:11.261 | INFO     | kliff.descriptors.descriptor:_dump_fingerprints:175 - Processing configuration: 200.\n",
      "2023-08-01 21:59:11.325 | INFO     | kliff.descriptors.descriptor:_dump_fingerprints:175 - Processing configuration: 300.\n",
      "2023-08-01 21:59:11.386 | INFO     | kliff.descriptors.descriptor:_dump_fingerprints:218 - Pickle 400 configurations finished.\n"
     ]
    }
   ],
   "source": [
    "from kliff.calculators import CalculatorTorch\n",
    "from kliff.dataset import Dataset\n",
    "from kliff.descriptors import SymmetryFunction\n",
    "from kliff.models import LinearRegression\n",
    "from kliff.utils import download_dataset\n",
    "\n",
    "descriptor = SymmetryFunction(\n",
    "    cut_name=\"cos\", cut_dists={\"Si-Si\": 5.0}, hyperparams=\"set30\", normalize=True\n",
    ")\n",
    "\n",
    "\n",
    "model = LinearRegression(descriptor)\n",
    "\n",
    "# training set\n",
    "dataset_path = download_dataset(dataset_name=\"Si_training_set\")\n",
    "dataset_path = dataset_path.joinpath(\"varying_alat\")\n",
    "tset = Dataset(dataset_path)\n",
    "configs = tset.get_configs()\n",
    "\n",
    "# calculator\n",
    "calc = CalculatorTorch(model)\n",
    "calc.create(configs, reuse=False)"
   ]
  },
  {
   "cell_type": "markdown",
   "metadata": {},
   "source": [
    "We can train a linear regression model by minimizing a loss function as discussed in\n",
    "`tut_nn`. But linear regression model has analytic solutions, and thus we can train\n",
    "the model directly by using this feature. This can be achieved by calling the ``fit()``\n",
    "function of its calculator.\n",
    "\n",
    "\n"
   ]
  },
  {
   "cell_type": "code",
   "execution_count": 3,
   "metadata": {
    "collapsed": false,
    "ExecuteTime": {
     "end_time": "2023-08-02T02:59:11.645652Z",
     "start_time": "2023-08-02T02:59:11.500716Z"
    }
   },
   "outputs": [
    {
     "name": "stderr",
     "output_type": "stream",
     "text": [
      "2023-08-01 21:59:11.626 | INFO     | kliff.models.linear_regression:fit:42 - Finished fitting model \"LinearRegression\"\n"
     ]
    },
    {
     "name": "stdout",
     "output_type": "stream",
     "text": [
      "Finished fitting model \"LinearRegression\"\n"
     ]
    }
   ],
   "source": [
    "# fit the model\n",
    "calc.fit()\n",
    "\n",
    "\n",
    "# save model\n",
    "model.save(\"linear_model.pkl\")"
   ]
  }
 ],
 "metadata": {
  "kernelspec": {
   "display_name": "Python 3",
   "language": "python",
   "name": "python3"
  },
  "language_info": {
   "codemirror_mode": {
    "name": "ipython",
    "version": 3
   },
   "file_extension": ".py",
   "mimetype": "text/x-python",
   "name": "python",
   "nbconvert_exporter": "python",
   "pygments_lexer": "ipython3",
   "version": "3.9.12"
  }
 },
 "nbformat": 4,
 "nbformat_minor": 0
}
