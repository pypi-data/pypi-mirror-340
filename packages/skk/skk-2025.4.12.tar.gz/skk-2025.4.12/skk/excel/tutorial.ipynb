{
 "cells": [
  {
   "cell_type": "markdown",
   "id": "bd72b542-b595-4132-83fe-925d8016e229",
   "metadata": {},
   "source": [
    "## 第 1 步\n",
    "\n",
    "1、将下面的 `商品信息.xlsx` 改为真实的文件名。\n",
    "\n",
    "2、将下面的 `Sheet1` 改为真实的表格名称。"
   ]
  },
  {
   "cell_type": "code",
   "execution_count": 1,
   "id": "b32bfe15-eb80-45ab-aa68-f280ebc92361",
   "metadata": {},
   "outputs": [],
   "source": [
    "from skk.excel import Excel\n",
    "\n",
    "表格 = Excel / '商品信息.xlsx' / 'Sheet1'\n",
    "\n",
    "c = 表格.列"
   ]
  },
  {
   "cell_type": "markdown",
   "id": "1e3a1a5c-3f60-44b7-80c3-95eafe325a30",
   "metadata": {},
   "source": [
    "## 第 2 步\n",
    "\n",
    "在下面编写计算方式："
   ]
  },
  {
   "cell_type": "code",
   "execution_count": 2,
   "id": "fa658dbc-278a-47be-8eb3-d82e5f290fae",
   "metadata": {},
   "outputs": [],
   "source": [
    "c.已获利润 = (c.售价 - c.进价) * c.实际销量\n",
    "\n",
    "c.剩余库存 = c.进货数量 - c.实际销量\n",
    "\n",
    "c.是否完成销售目标 = (c.实际销量 >= c.计划销量).判断('是', '否')\n",
    "\n",
    "c.进货建议 = (c.剩余库存 < 100).判断('须进货', '无须进货')  # 库存小于100时, 须进货"
   ]
  },
  {
   "cell_type": "markdown",
   "id": "043afc93-ad74-40b4-b87f-8cce3802321d",
   "metadata": {},
   "source": [
    "## 第 3 步\n",
    "\n",
    "下面的格子不需要修改。"
   ]
  },
  {
   "cell_type": "code",
   "execution_count": 3,
   "id": "1ccbfa61-5704-4e18-8109-eb71e6997dac",
   "metadata": {},
   "outputs": [
    {
     "name": "stdout",
     "output_type": "stream",
     "text": [
      "已另存到 商品信息.xlsx -2025.04.12. -17.04.52.xlsx\n"
     ]
    }
   ],
   "source": [
    "表格.另存()"
   ]
  },
  {
   "attachments": {
    "e8fef112-2fc9-4145-9eb1-071c41863dae.png": {
     "image/png": "[encoded data removed]"
    }
   },
   "cell_type": "markdown",
   "id": "326319fb-d9c4-42e3-b265-2ce4ce6db086",
   "metadata": {},
   "source": [
    "## 第 4 步\n",
    "\n",
    "点击图示中的按钮, 运行整个程序：\n",
    "\n",
    "![image.png](attachment:e8fef112-2fc9-4145-9eb1-071c41863dae.png)"
   ]
  }
 ],
 "metadata": {
  "kernelspec": {
   "display_name": "Python 3 (ipykernel)",
   "language": "python",
   "name": "python3"
  },
  "language_info": {
   "codemirror_mode": {
    "name": "ipython",
    "version": 3
   },
   "file_extension": ".py",
   "mimetype": "text/x-python",
   "name": "python",
   "nbconvert_exporter": "python",
   "pygments_lexer": "ipython3",
   "version": "3.13.2"
  }
 },
 "nbformat": 4,
 "nbformat_minor": 5
}
