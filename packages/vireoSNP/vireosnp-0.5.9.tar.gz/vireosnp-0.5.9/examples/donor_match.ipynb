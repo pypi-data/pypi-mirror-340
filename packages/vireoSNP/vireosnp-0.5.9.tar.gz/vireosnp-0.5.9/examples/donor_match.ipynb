{
 "cells": [
  {
   "cell_type": "markdown",
   "metadata": {},
   "source": [
    "# Donor match\n",
    "\n",
    "<span style=\"color:red\">Please updated to the latest version on GitHub by the following command</span>\n",
    "\n",
    "```bash\n",
    "pip install -U git+https://github.com/single-cell-genetics/vireo\n",
    "```"
   ]
  },
  {
   "cell_type": "markdown",
   "metadata": {},
   "source": [
    "In this notebook, we show an example on how to align donors by their genotypes: \n",
    "1) between vireo and other 'omics data (e.g., SNP array, bulk RNA-seq, Exome-seq)\n",
    "2) between multiple batches all estimated by vireo.\n",
    "\n",
    "The idea is the same for the two cases: align the donors with giving least genotype difference, either using categorical genotype value or genotype probability."
   ]
  },
  {
   "cell_type": "code",
   "execution_count": 1,
   "metadata": {},
   "outputs": [
    {
     "name": "stdout",
     "output_type": "stream",
     "text": [
      "vireoSNP version: 0.5.8\n"
     ]
    }
   ],
   "source": [
    "import numpy as np\n",
    "import matplotlib.pyplot as plt\n",
    "\n",
    "import vireoSNP\n",
    "print(\"vireoSNP version: %s\" %vireoSNP.__version__)"
   ]
  },
  {
   "cell_type": "markdown",
   "metadata": {},
   "source": [
    "## Option 1: using wrap function"
   ]
  },
  {
   "cell_type": "markdown",
   "metadata": {},
   "source": [
    "The simple option is to use the wrap function `vireoSNP.vcf.match_VCF_samples`"
   ]
  },
  {
   "cell_type": "code",
   "execution_count": 2,
   "metadata": {},
   "outputs": [
    {
     "name": "stdout",
     "output_type": "stream",
     "text": [
      "Shape for Geno Prob in VCF1: (3784, 4, 3)\n",
      "Shape for Geno Prob in VCF2: (3784, 4, 3)\n",
      "n_variants in VCF1, VCF2 and matched: 3784, 3784, 3783\n",
      "aligned donors:\n",
      "['MantonCB1' 'MantonCB2' 'MantonCB3' 'MantonCB4']\n",
      "['donor2' 'donor1' 'donor3' 'donor0']\n"
     ]
    }
   ],
   "source": [
    "res = vireoSNP.vcf.match_VCF_samples('../data/donors.cellSNP.vcf.gz', \n",
    "                                     '../data/outs/cellSNP_noGT/GT_donors.vireo.vcf.gz',\n",
    "                                     GT_tag1 = 'PL', GT_tag2='PL')"
   ]
  },
  {
   "cell_type": "code",
   "execution_count": 3,
   "metadata": {},
   "outputs": [
    {
     "data": {
      "image/png": "[encoded data removed]",
      "text/plain": [
       "<Figure size 432x288 with 1 Axes>"
      ]
     },
     "metadata": {
      "needs_background": "light"
     },
     "output_type": "display_data"
    }
   ],
   "source": [
    "fig = plt.figure()\n",
    "vireoSNP.plot.heat_matrix(res['matched_GPb_diff'], \n",
    "                          res['matched_donors1'] , \n",
    "                          res['matched_donors2'] )\n",
    "plt.title(\"Geno Prob Delta: %d SNPs\" %(res['matched_n_var']))\n",
    "plt.tight_layout()\n",
    "plt.show()"
   ]
  },
  {
   "cell_type": "code",
   "execution_count": null,
   "metadata": {},
   "outputs": [],
   "source": []
  },
  {
   "cell_type": "markdown",
   "metadata": {},
   "source": [
    "## Option 2: using element functions for customised analysis"
   ]
  },
  {
   "cell_type": "markdown",
   "metadata": {},
   "source": [
    "Alternatively, you can use the build-in functions to perform each step, including [vireoSNP.load_VCF](https://github.com/single-cell-genetics/vireo/blob/master/vireoSNP/utils/vcf_utils.py#L68) to load VCF file and [vireoSNP.optimal_match](https://github.com/single-cell-genetics/vireo/blob/master/vireoSNP/utils/vireo_base.py#L143) to align donors that give minimal genotype differences by [Hungarian algorithm](https://docs.scipy.org/doc/scipy-0.18.1/reference/generated/scipy.optimize.linear_sum_assignment.html)."
   ]
  },
  {
   "cell_type": "markdown",
   "metadata": {},
   "source": [
    "### Prepare the data for this example"
   ]
  },
  {
   "cell_type": "markdown",
   "metadata": {},
   "source": [
    "Make sure your run vireo on the example data already\n",
    "\n",
    "```bash\n",
    "cd ../\n",
    "mkdir data/outs\n",
    "vireo -c data/cellSNP_mat -N 4 -o data/outs/cellSNP_noGT --randSeed 2\n",
    "```\n",
    "so you will have the estimated donor genotype `../data/outs/cellSNP_noGT/GT_donors.vireo.vcf.gz`\n",
    "\n",
    "Now, we will align the estimated donor genotype to another VCF estimated from bulk RNA-seq: `../data/donors.cellSNP.vcf.gz`"
   ]
  },
  {
   "cell_type": "markdown",
   "metadata": {},
   "source": [
    "**Note:** Often the known donor genotype VCF file can be very big, make sure you filter out unwanted variants first, as vireoSNP.load_VCF is not as efficient as [bcftools]()\n",
    "\n",
    "```bash\n",
    "bcftools view donor.vcf.gz -R cellSNP.cells.vcf.gz -Oz -o sub.vcf.gz\n",
    "```\n",
    "\n",
    "Also, add -s or -S for subsetting samples."
   ]
  },
  {
   "cell_type": "markdown",
   "metadata": {},
   "source": [
    "### Load genotypes"
   ]
  },
  {
   "cell_type": "markdown",
   "metadata": {},
   "source": [
    "#### Load genotype from external omics"
   ]
  },
  {
   "cell_type": "code",
   "execution_count": 4,
   "metadata": {},
   "outputs": [
    {
     "data": {
      "text/plain": [
       "(3784, 4, 3)"
      ]
     },
     "execution_count": 4,
     "metadata": {},
     "output_type": "execute_result"
    }
   ],
   "source": [
    "GT_tag0 = 'PL' # common ones: GT, GP, PL\n",
    "vcf_dat0 = vireoSNP.vcf.load_VCF(\"../data/donors.cellSNP.vcf.gz\",\n",
    "                                 biallelic_only=True, sparse=False, \n",
    "                                 format_list=[GT_tag0])\n",
    "\n",
    "GPb0_var_ids = np.array(vcf_dat0['variants'])\n",
    "GPb0_donor_ids = np.array(vcf_dat0['samples'])\n",
    "GPb0_tensor = vireoSNP.vcf.parse_donor_GPb(vcf_dat0['GenoINFO'][GT_tag0], GT_tag0)\n",
    "GPb0_tensor.shape"
   ]
  },
  {
   "cell_type": "code",
   "execution_count": 5,
   "metadata": {},
   "outputs": [
    {
     "name": "stdout",
     "output_type": "stream",
     "text": [
      "['chr1_1065797_G_C' 'chr1X_1217251_C_A' 'chr1_1230695_G_A'\n",
      " 'chr1_1722625_A_T']\n",
      "['MantonCB1' 'MantonCB2' 'MantonCB3' 'MantonCB4']\n"
     ]
    }
   ],
   "source": [
    "print(GPb0_var_ids[:4])\n",
    "print(GPb0_donor_ids)"
   ]
  },
  {
   "cell_type": "markdown",
   "metadata": {},
   "source": [
    "#### Load donor genotype from vireo"
   ]
  },
  {
   "cell_type": "code",
   "execution_count": 6,
   "metadata": {},
   "outputs": [
    {
     "data": {
      "text/plain": [
       "(3784, 4, 3)"
      ]
     },
     "execution_count": 6,
     "metadata": {},
     "output_type": "execute_result"
    }
   ],
   "source": [
    "GT_tag1 = 'PL' # common ones: GT, GP, PL\n",
    "vcf_dat1 = vireoSNP.vcf.load_VCF(\"../data/outs/cellSNP_noGT/GT_donors.vireo.vcf.gz\",\n",
    "                                 biallelic_only=True, sparse=False, \n",
    "                                 format_list=[GT_tag1])\n",
    "GPb1_var_ids = np.array(vcf_dat1['variants'])\n",
    "GPb1_donor_ids = np.array(vcf_dat1['samples'])\n",
    "GPb1_tensor = vireoSNP.vcf.parse_donor_GPb(vcf_dat1['GenoINFO'][GT_tag1], GT_tag1)\n",
    "GPb1_tensor.shape"
   ]
  },
  {
   "cell_type": "code",
   "execution_count": 7,
   "metadata": {},
   "outputs": [
    {
     "name": "stdout",
     "output_type": "stream",
     "text": [
      "['1_1065797_G_C' '1_1217251_C_A' '1_1230695_G_A' '1_1722625_A_T']\n",
      "['donor0' 'donor1' 'donor2' 'donor3']\n"
     ]
    }
   ],
   "source": [
    "print(GPb1_var_ids[:4])\n",
    "print(GPb1_donor_ids)"
   ]
  },
  {
   "cell_type": "markdown",
   "metadata": {},
   "source": [
    "#### Match variant ids in two VCF"
   ]
  },
  {
   "cell_type": "code",
   "execution_count": 8,
   "metadata": {},
   "outputs": [],
   "source": [
    "# match variants\n",
    "mm_idx = vireoSNP.vcf.match_SNPs(GPb1_var_ids, GPb0_var_ids)\n",
    "idx1 = np.where(mm_idx != None)[0] #remove None for unmatched\n",
    "idx0 = mm_idx[idx1].astype(int)\n",
    "\n",
    "GPb1_var_ids_use = GPb1_var_ids[idx1]\n",
    "GPb0_var_ids_use = GPb0_var_ids[idx0]\n",
    "\n",
    "GPb1_tensor_use = GPb1_tensor[idx1]\n",
    "GPb0_tensor_use = GPb0_tensor[idx0]"
   ]
  },
  {
   "cell_type": "code",
   "execution_count": 9,
   "metadata": {},
   "outputs": [],
   "source": [
    "# match donors\n",
    "idx0, idx1, GPb_diff = vireoSNP.base.optimal_match(GPb0_tensor_use, GPb1_tensor_use, \n",
    "                                                   axis=1, return_delta=True)"
   ]
  },
  {
   "cell_type": "code",
   "execution_count": 10,
   "metadata": {},
   "outputs": [
    {
     "name": "stdout",
     "output_type": "stream",
     "text": [
      "aligned donors:\n",
      "['MantonCB1' 'MantonCB2' 'MantonCB3' 'MantonCB4']\n",
      "['donor2' 'donor1' 'donor3' 'donor0']\n"
     ]
    }
   ],
   "source": [
    "print(\"aligned donors:\")\n",
    "print(GPb0_donor_ids[idx0])\n",
    "print(GPb1_donor_ids[idx1])"
   ]
  },
  {
   "cell_type": "code",
   "execution_count": 11,
   "metadata": {},
   "outputs": [
    {
     "data": {
      "text/plain": [
       "(array([0.14587468, 0.18310327, 0.21593441, 0.22427656]), 0.7691889176247009)"
      ]
     },
     "execution_count": 11,
     "metadata": {},
     "output_type": "execute_result"
    }
   ],
   "source": [
    "GPb_diff[idx0, idx1], GPb_diff[idx0, idx1].sum()"
   ]
  },
  {
   "cell_type": "code",
   "execution_count": 12,
   "metadata": {},
   "outputs": [
    {
     "data": {
      "text/plain": [
       "array([[0.43964819, 0.44643109, 0.14587468, 0.43192166],\n",
       "       [0.41247473, 0.18310327, 0.43770159, 0.42725593],\n",
       "       [0.42989822, 0.41561379, 0.42926244, 0.21593441],\n",
       "       [0.22427656, 0.40927258, 0.43158556, 0.42760225]])"
      ]
     },
     "execution_count": 12,
     "metadata": {},
     "output_type": "execute_result"
    }
   ],
   "source": [
    "GPb_diff"
   ]
  },
  {
   "cell_type": "markdown",
   "metadata": {},
   "source": [
    "### Plot the genotype probability difference\n",
    "\n",
    "Note, in this example data set the genotype estimation is not perfect as it is only based on ~250 cells in 10x data, namely not a decent coverage. Nevertheless, it is clear enough to find the donor identity."
   ]
  },
  {
   "cell_type": "code",
   "execution_count": 13,
   "metadata": {},
   "outputs": [
    {
     "data": {
      "image/png": "[encoded data removed]",
      "text/plain": [
       "<Figure size 432x288 with 1 Axes>"
      ]
     },
     "metadata": {
      "needs_background": "light"
     },
     "output_type": "display_data"
    }
   ],
   "source": [
    "fig = plt.figure()\n",
    "vireoSNP.plot.heat_matrix(GPb_diff[idx0, :][:, idx1], \n",
    "                          GPb0_donor_ids[idx0], \n",
    "                          GPb1_donor_ids[idx1])\n",
    "plt.title(\"Geno Prob Delta: %d SNPs\" %(len(GPb0_var_ids_use)))\n",
    "plt.tight_layout()\n",
    "plt.show()"
   ]
  },
  {
   "cell_type": "code",
   "execution_count": null,
   "metadata": {},
   "outputs": [],
   "source": []
  },
  {
   "cell_type": "code",
   "execution_count": null,
   "metadata": {},
   "outputs": [],
   "source": []
  },
  {
   "cell_type": "code",
   "execution_count": null,
   "metadata": {},
   "outputs": [],
   "source": []
  }
 ],
 "metadata": {
  "kernelspec": {
   "display_name": "TFProb",
   "language": "python",
   "name": "tfprob"
  },
  "language_info": {
   "codemirror_mode": {
    "name": "ipython",
    "version": 3
   },
   "file_extension": ".py",
   "mimetype": "text/x-python",
   "name": "python",
   "nbconvert_exporter": "python",
   "pygments_lexer": "ipython3",
   "version": "3.7.6"
  }
 },
 "nbformat": 4,
 "nbformat_minor": 4
}
