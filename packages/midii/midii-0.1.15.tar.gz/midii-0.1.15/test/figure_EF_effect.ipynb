{
 "cells": [
  {
   "cell_type": "code",
   "execution_count": 24,
   "metadata": {},
   "outputs": [
    {
     "name": "stdout",
     "output_type": "stream",
     "text": [
      "Collecting midii\n",
      "  Using cached midii-0.1.14-py3-none-any.whl.metadata (4.7 kB)\n",
      "Collecting mido>=1.3.0 (from midii)\n",
      "  Using cached mido-1.3.3-py3-none-any.whl.metadata (6.4 kB)\n",
      "Collecting rich>=11.0.0 (from midii)\n",
      "  Using cached rich-14.0.0-py3-none-any.whl.metadata (18 kB)\n",
      "Collecting packaging (from mido>=1.3.0->midii)\n",
      "  Using cached packaging-24.2-py3-none-any.whl.metadata (3.2 kB)\n",
      "Collecting markdown-it-py>=2.2.0 (from rich>=11.0.0->midii)\n",
      "  Using cached markdown_it_py-3.0.0-py3-none-any.whl.metadata (6.9 kB)\n",
      "Collecting pygments<3.0.0,>=2.13.0 (from rich>=11.0.0->midii)\n",
      "  Using cached pygments-2.19.1-py3-none-any.whl.metadata (2.5 kB)\n",
      "Collecting mdurl~=0.1 (from markdown-it-py>=2.2.0->rich>=11.0.0->midii)\n",
      "  Using cached mdurl-0.1.2-py3-none-any.whl.metadata (1.6 kB)\n",
      "Using cached midii-0.1.14-py3-none-any.whl (35 kB)\n",
      "Using cached mido-1.3.3-py3-none-any.whl (54 kB)\n",
      "Using cached rich-14.0.0-py3-none-any.whl (243 kB)\n",
      "Using cached markdown_it_py-3.0.0-py3-none-any.whl (87 kB)\n",
      "Using cached pygments-2.19.1-py3-none-any.whl (1.2 MB)\n",
      "Using cached packaging-24.2-py3-none-any.whl (65 kB)\n",
      "Using cached mdurl-0.1.2-py3-none-any.whl (10.0 kB)\n",
      "Installing collected packages: pygments, packaging, mdurl, mido, markdown-it-py, rich, midii\n",
      "  Attempting uninstall: pygments\n",
      "    Found existing installation: Pygments 2.19.1\n",
      "    Uninstalling Pygments-2.19.1:\n",
      "      Successfully uninstalled Pygments-2.19.1\n",
      "  Attempting uninstall: packaging\n",
      "    Found existing installation: packaging 24.2\n",
      "    Uninstalling packaging-24.2:\n",
      "      Successfully uninstalled packaging-24.2\n",
      "  Attempting uninstall: mdurl\n",
      "    Found existing installation: mdurl 0.1.2\n",
      "    Uninstalling mdurl-0.1.2:\n",
      "      Successfully uninstalled mdurl-0.1.2\n",
      "  Attempting uninstall: mido\n",
      "    Found existing installation: mido 1.3.3\n",
      "    Uninstalling mido-1.3.3:\n",
      "      Successfully uninstalled mido-1.3.3\n",
      "  Attempting uninstall: markdown-it-py\n",
      "    Found existing installation: markdown-it-py 3.0.0\n",
      "    Uninstalling markdown-it-py-3.0.0:\n",
      "      Successfully uninstalled markdown-it-py-3.0.0\n",
      "  Attempting uninstall: rich\n",
      "    Found existing installation: rich 14.0.0\n",
      "    Uninstalling rich-14.0.0:\n",
      "      Successfully uninstalled rich-14.0.0\n",
      "  Attempting uninstall: midii\n",
      "    Found existing installation: midii 0.1.14\n",
      "    Uninstalling midii-0.1.14:\n",
      "      Successfully uninstalled midii-0.1.14\n",
      "Successfully installed markdown-it-py-3.0.0 mdurl-0.1.2 midii-0.1.14 mido-1.3.3 packaging-24.2 pygments-2.19.1 rich-14.0.0\n"
     ]
    }
   ],
   "source": [
    "! pip install --force-reinstall midii"
   ]
  },
  {
   "cell_type": "code",
   "execution_count": 1,
   "metadata": {},
   "outputs": [],
   "source": [
    "import matplotlib.pyplot as plt\n",
    "import numpy as np\n",
    "import random\n",
    "import midii\n",
    "import copy\n",
    "from pathlib import Path"
   ]
  },
  {
   "cell_type": "code",
   "execution_count": 13,
   "metadata": {},
   "outputs": [
    {
     "data": {
      "text/plain": [
       "'ba_05688_-4_a_s02_m_02.mid'"
      ]
     },
     "execution_count": 13,
     "metadata": {},
     "output_type": "execute_result"
    }
   ],
   "source": [
    "mid = midii.MidiFile(\n",
    "    midii.sample.dataset[0], convert_1_to_0=True, lyric_encoding=\"cp949\"\n",
    ")\n",
    "Path(mid.filename).name"
   ]
  },
  {
   "cell_type": "code",
   "execution_count": 14,
   "metadata": {},
   "outputs": [],
   "source": [
    "def calculate_absolute_times(delta_times):\n",
    "    \"\"\"Calculates absolute times from delta times.\"\"\"\n",
    "    return np.cumsum(np.array(delta_times, dtype=np.int64))"
   ]
  },
  {
   "cell_type": "code",
   "execution_count": 18,
   "metadata": {},
   "outputs": [],
   "source": [
    "# --- Generate Data for Plotting ---\n",
    "original_abs_times = calculate_absolute_times(mid.times)\n",
    "\n",
    "mid.quantize()\n",
    "quantized_abs_times_with_EF = calculate_absolute_times(mid.times)\n",
    "\n",
    "mid2 = copy.deepcopy(mid)\n",
    "mid2.quantize(error_forwarding=False)\n",
    "quantized_abs_times_naive = calculate_absolute_times(mid2.times)\n",
    "\n",
    "# Calculate drift (deviation from original absolute time)\n",
    "drift_naive = quantized_abs_times_naive - original_abs_times\n",
    "drift_with_EF = quantized_abs_times_with_EF - original_abs_times\n",
    "\n",
    "# Use event index as x-axis for simplicity\n",
    "event_index = np.arange(len(mid.times))"
   ]
  },
  {
   "cell_type": "code",
   "execution_count": 23,
   "metadata": {},
   "outputs": [
    {
     "name": "stdout",
     "output_type": "stream",
     "text": [
      "1\n",
      "[[0, 0, 0, 0, 0, 0, 0, 480, 1920, 945, 0, 30, 0, 0, 60, 15, 0, 45, 15, 0, 60, 0, 0, 60, 0, 0, 60, 0, 0, 60, 0, 0, 75, 0, 0, 45, 0, 0, 75, 0, 0, 30, 15, 0, 60, 0, 0, 75, 180, 0, 45, 0, 0, 60, 0, 0, 45, 0, 0, 105, 60, 0, 15, 0, 0, 45, 0, 0, 60, 0, 0, 60, 0, 0, 150, 315, 0, 45, 0, 0, 60, 0, 0, 60, 0, 0, 75, 15, 0, 30, 0, 0, 60, 0, 0, 75, 0, 0, 75, 0, 0, 30, 0, 0, 75, 0, 0, 30, 0, 0, 75, 0, 0, 90, 165, 0, 45, 15, 0, 45, 0, 0, 45, 0, 0, 90, 15, 0, 15, 0, 0, 60, 0, 0, 60, 0, 0, 75, 0, 0, 135, 360, 0, 45, 0, 0, 45, 0, 0, 60, 15, 0, 75, 0, 0, 45, 0, 0, 60, 0, 0, 60, 0, 0, 45, 30, 0, 30, 15, 0, 75, 0, 0, 45, 0, 0, 60, 0, 0, 90, 225, 0, 45, 0, 0, 45, 0, 0, 45, 0, 0, 60, 45, 0, 45, 0, 0, 15, 15, 0, 15, 15, 0, 60, 0, 0, 195, 300, 0, 30, 0, 0, 75, 0, 0, 60, 0, 0, 75, 0, 0, 45, 0, 0, 75, 0, 0, 60, 15, 0, 45, 0, 0, 45, 0, 0, 45, 45, 0, 90, 0, 0, 30, 0, 0, 75, 150, 0, 45, 0, 0, 45, 15, 0, 60, 0, 0, 75, 0, 0, 45, 0, 0, 45, 0, 0, 60, 0, 0, 75, 0, 0, 105, 390, 0, 240, 15, 0, 45, 0, 0, 45, 0, 0, 90, 45, 0, 30, 15, 0, 60, 0, 0, 60, 0, 0, 45, 15, 0, 150, 210, 0, 60, 0, 0, 30, 0, 0, 30, 0, 0, 15, 15, 0, 45, 0, 0, 45, 0, 0, 105, 165, 0, 15, 0, 0, 45, 0, 0, 30, 0, 0, 30, 0, 0, 45, 15, 0, 15, 0, 0, 90, 0, 0, 75, 0, 0, 75, 75, 0, 60, 0, 0, 75, 0, 0, 30, 0, 0, 30, 0, 0, 105, 0, 0, 60, 0, 0, 240, 75, 0, 75, 0, 0, 45, 15, 0, 165, 15, 0, 60, 0, 0, 60, 0, 0, 45, 15, 0, 45, 60, 0, 30, 0, 0, 45, 0, 0, 30, 0, 0, 45, 15, 0, 30, 0, 0, 45, 0, 0, 45, 0, 0, 30, 0, 0, 75, 210, 0, 90, 0, 0, 45, 0, 0, 45, 15, 0, 30, 0, 0, 60, 0, 0, 60, 0, 0, 300, 90, 0, 120, 0, 0, 165, 15, 0, 45, 0, 0, 45, 0, 0, 60, 0, 0, 45, 0, 0, 45, 0, 0, 60, 60, 0, 30, 0, 0, 15, 0, 0, 45, 0, 0, 60, 0, 0, 30, 0, 0, 30, 0, 0, 30, 0, 0, 120, 165, 0, 45, 0, 0, 45, 15, 0, 60, 0, 0, 60, 0, 0, 30, 0, 0, 30, 0, 0, 60, 0, 0, 285, 105, 0, 105, 0, 0, 180, 0, 0, 75, 0, 0, 30, 0, 0, 45, 0, 0, 60, 0, 0, 60, 15, 0, 30, 45, 0, 45, 0, 0, 15, 15, 0, 45, 0, 0, 45, 0, 0, 45, 15, 0, 30, 0, 0, 120, 165, 0, 60, 0, 0, 75, 0, 0, 60, 0, 0, 15, 0, 0, 60, 0, 0, 45, 0, 0, 45, 0, 0, 270, 2126, 0, 255, 0, 0, 60, 0, 0, 30, 0, 0, 90, 45, 0, 45, 0, 0, 60, 0, 0, 60, 0, 0, 60, 0, 0, 165, 195, 0, 60, 0, 0, 30, 0, 0, 30, 0, 0, 30, 0, 0, 45, 15, 0, 30, 0, 0, 120, 150, 0, 15, 15, 0, 30, 0, 0, 30, 0, 0, 30, 0, 0, 45, 15, 0, 15, 15, 0, 45, 45, 0, 60, 0, 0, 75, 60, 0, 75, 0, 0, 75, 0, 0, 45, 0, 0, 30, 0, 0, 105, 0, 0, 60, 0, 0, 240, 75, 0, 30, 15, 0, 75, 0, 0, 180, 0, 0, 60, 0, 0, 60, 0, 0, 60, 0, 0, 60, 60, 0, 30, 0, 0, 30, 0, 0, 30, 0, 0, 60, 0, 0, 30, 0, 0, 45, 0, 0, 45, 0, 0, 30, 0, 0, 105, 180, 0, 90, 0, 0, 45, 0, 0, 60, 0, 0, 30, 0, 0, 60, 0, 0, 60, 0, 0, 300, 90, 0, 30, 0, 0, 30, 0, 0, 60, 0, 0, 180, 0, 0, 45, 0, 0, 45, 0, 0, 60, 0, 0, 90, 0, 0, 30, 0, 0, 30, 60, 0, 30, 0, 0, 45, 0, 0, 45, 0, 0, 60, 0, 0, 30, 0, 0, 30, 0, 0, 90, 195, 0, 45, 0, 0, 45, 15, 0, 60, 0, 0, 45, 15, 0, 30, 0, 0, 30, 0, 0, 60, 0, 0, 270, 120, 0, 120, 0, 0, 150, 0, 0, 30, 0, 0, 60, 60, 0, 30, 0, 0, 30, 0, 0, 45, 0, 0, 45, 0, 0, 75, 15, 0, 30, 0, 0, 30, 0, 0, 45, 0, 0, 45, 15, 0, 45, 0, 0, 30, 0, 0, 135, 165, 0, 45, 0, 0, 75, 0, 0, 45, 15, 0, 30, 0, 0, 60, 0, 0, 60, 0, 0, 45, 0, 0, 330, 615, 0, 480, 1200, 10, 8, 8, 8, 8, 8, 8, 10, 8, 8, 8, 8, 8, 8, 6, 8, 6, 6, 8, 6, 6, 6, 8, 6, 6, 8, 6, 6, 6, 8, 6, 6, 6, 0]]\n"
     ]
    }
   ],
   "source": [
    "print(mid.type)\n",
    "print(mid2.times)"
   ]
  },
  {
   "cell_type": "code",
   "execution_count": 10,
   "metadata": {},
   "outputs": [
    {
     "ename": "ValueError",
     "evalue": "x and y must have same first dimension, but have shapes (1,) and (929,)",
     "output_type": "error",
     "traceback": [
      "\u001b[31m---------------------------------------------------------------------------\u001b[39m",
      "\u001b[31mValueError\u001b[39m                                Traceback (most recent call last)",
      "\u001b[36mCell\u001b[39m\u001b[36m \u001b[39m\u001b[32mIn[10]\u001b[39m\u001b[32m, line 4\u001b[39m\n\u001b[32m      1\u001b[39m fig, ax = plt.subplots(figsize=(\u001b[32m12\u001b[39m, \u001b[32m5\u001b[39m))\n\u001b[32m      2\u001b[39m fig.suptitle(\u001b[33m'\u001b[39m\u001b[33mFigure 3: Absolute Timing Drift Comparison\u001b[39m\u001b[33m'\u001b[39m, fontsize=\u001b[32m14\u001b[39m)\n\u001b[32m----> \u001b[39m\u001b[32m4\u001b[39m \u001b[43max\u001b[49m\u001b[43m.\u001b[49m\u001b[43mplot\u001b[49m\u001b[43m(\u001b[49m\u001b[43mevent_index\u001b[49m\u001b[43m,\u001b[49m\u001b[43m \u001b[49m\u001b[43mdrift_naive\u001b[49m\u001b[43m,\u001b[49m\u001b[43m \u001b[49m\u001b[43mlabel\u001b[49m\u001b[43m=\u001b[49m\u001b[33;43m'\u001b[39;49m\u001b[33;43mQuantized w/o Error Forwarding (Naive)\u001b[39;49m\u001b[33;43m'\u001b[39;49m\u001b[43m,\u001b[49m\u001b[43m \u001b[49m\u001b[43malpha\u001b[49m\u001b[43m=\u001b[49m\u001b[32;43m0.8\u001b[39;49m\u001b[43m,\u001b[49m\u001b[43m \u001b[49m\u001b[43mlinewidth\u001b[49m\u001b[43m=\u001b[49m\u001b[32;43m1.5\u001b[39;49m\u001b[43m)\u001b[49m\n\u001b[32m      5\u001b[39m ax.plot(event_index, drift_with_EF, label=\u001b[33m'\u001b[39m\u001b[33mQuantized w/ Error Forwarding (Proposed)\u001b[39m\u001b[33m'\u001b[39m, alpha=\u001b[32m0.8\u001b[39m, linewidth=\u001b[32m1.5\u001b[39m)\n\u001b[32m      7\u001b[39m ax.axhline(\u001b[32m0\u001b[39m, color=\u001b[33m'\u001b[39m\u001b[33mblack\u001b[39m\u001b[33m'\u001b[39m, linestyle=\u001b[33m'\u001b[39m\u001b[33m--\u001b[39m\u001b[33m'\u001b[39m, linewidth=\u001b[32m0.8\u001b[39m, label=\u001b[33m'\u001b[39m\u001b[33mOriginal Timing\u001b[39m\u001b[33m'\u001b[39m)\n",
      "\u001b[36mFile \u001b[39m\u001b[32mc:\\Users\\ccsss\\AppData\\Local\\Programs\\Python\\Python313\\Lib\\site-packages\\matplotlib\\axes\\_axes.py:1777\u001b[39m, in \u001b[36mAxes.plot\u001b[39m\u001b[34m(self, scalex, scaley, data, *args, **kwargs)\u001b[39m\n\u001b[32m   1534\u001b[39m \u001b[38;5;250m\u001b[39m\u001b[33;03m\"\"\"\u001b[39;00m\n\u001b[32m   1535\u001b[39m \u001b[33;03mPlot y versus x as lines and/or markers.\u001b[39;00m\n\u001b[32m   1536\u001b[39m \n\u001b[32m   (...)\u001b[39m\u001b[32m   1774\u001b[39m \u001b[33;03m(``'green'``) or hex strings (``'#008000'``).\u001b[39;00m\n\u001b[32m   1775\u001b[39m \u001b[33;03m\"\"\"\u001b[39;00m\n\u001b[32m   1776\u001b[39m kwargs = cbook.normalize_kwargs(kwargs, mlines.Line2D)\n\u001b[32m-> \u001b[39m\u001b[32m1777\u001b[39m lines = [*\u001b[38;5;28mself\u001b[39m._get_lines(\u001b[38;5;28mself\u001b[39m, *args, data=data, **kwargs)]\n\u001b[32m   1778\u001b[39m \u001b[38;5;28;01mfor\u001b[39;00m line \u001b[38;5;129;01min\u001b[39;00m lines:\n\u001b[32m   1779\u001b[39m     \u001b[38;5;28mself\u001b[39m.add_line(line)\n",
      "\u001b[36mFile \u001b[39m\u001b[32mc:\\Users\\ccsss\\AppData\\Local\\Programs\\Python\\Python313\\Lib\\site-packages\\matplotlib\\axes\\_base.py:297\u001b[39m, in \u001b[36m_process_plot_var_args.__call__\u001b[39m\u001b[34m(self, axes, data, return_kwargs, *args, **kwargs)\u001b[39m\n\u001b[32m    295\u001b[39m     this += args[\u001b[32m0\u001b[39m],\n\u001b[32m    296\u001b[39m     args = args[\u001b[32m1\u001b[39m:]\n\u001b[32m--> \u001b[39m\u001b[32m297\u001b[39m \u001b[38;5;28;01myield from\u001b[39;00m \u001b[38;5;28;43mself\u001b[39;49m\u001b[43m.\u001b[49m\u001b[43m_plot_args\u001b[49m\u001b[43m(\u001b[49m\n\u001b[32m    298\u001b[39m \u001b[43m    \u001b[49m\u001b[43maxes\u001b[49m\u001b[43m,\u001b[49m\u001b[43m \u001b[49m\u001b[43mthis\u001b[49m\u001b[43m,\u001b[49m\u001b[43m \u001b[49m\u001b[43mkwargs\u001b[49m\u001b[43m,\u001b[49m\u001b[43m \u001b[49m\u001b[43mambiguous_fmt_datakey\u001b[49m\u001b[43m=\u001b[49m\u001b[43mambiguous_fmt_datakey\u001b[49m\u001b[43m,\u001b[49m\n\u001b[32m    299\u001b[39m \u001b[43m    \u001b[49m\u001b[43mreturn_kwargs\u001b[49m\u001b[43m=\u001b[49m\u001b[43mreturn_kwargs\u001b[49m\n\u001b[32m    300\u001b[39m \u001b[43m\u001b[49m\u001b[43m)\u001b[49m\n",
      "\u001b[36mFile \u001b[39m\u001b[32mc:\\Users\\ccsss\\AppData\\Local\\Programs\\Python\\Python313\\Lib\\site-packages\\matplotlib\\axes\\_base.py:494\u001b[39m, in \u001b[36m_process_plot_var_args._plot_args\u001b[39m\u001b[34m(self, axes, tup, kwargs, return_kwargs, ambiguous_fmt_datakey)\u001b[39m\n\u001b[32m    491\u001b[39m     axes.yaxis.update_units(y)\n\u001b[32m    493\u001b[39m \u001b[38;5;28;01mif\u001b[39;00m x.shape[\u001b[32m0\u001b[39m] != y.shape[\u001b[32m0\u001b[39m]:\n\u001b[32m--> \u001b[39m\u001b[32m494\u001b[39m     \u001b[38;5;28;01mraise\u001b[39;00m \u001b[38;5;167;01mValueError\u001b[39;00m(\u001b[33mf\u001b[39m\u001b[33m\"\u001b[39m\u001b[33mx and y must have same first dimension, but \u001b[39m\u001b[33m\"\u001b[39m\n\u001b[32m    495\u001b[39m                      \u001b[33mf\u001b[39m\u001b[33m\"\u001b[39m\u001b[33mhave shapes \u001b[39m\u001b[38;5;132;01m{\u001b[39;00mx.shape\u001b[38;5;132;01m}\u001b[39;00m\u001b[33m and \u001b[39m\u001b[38;5;132;01m{\u001b[39;00my.shape\u001b[38;5;132;01m}\u001b[39;00m\u001b[33m\"\u001b[39m)\n\u001b[32m    496\u001b[39m \u001b[38;5;28;01mif\u001b[39;00m x.ndim > \u001b[32m2\u001b[39m \u001b[38;5;129;01mor\u001b[39;00m y.ndim > \u001b[32m2\u001b[39m:\n\u001b[32m    497\u001b[39m     \u001b[38;5;28;01mraise\u001b[39;00m \u001b[38;5;167;01mValueError\u001b[39;00m(\u001b[33mf\u001b[39m\u001b[33m\"\u001b[39m\u001b[33mx and y can be no greater than 2D, but have \u001b[39m\u001b[33m\"\u001b[39m\n\u001b[32m    498\u001b[39m                      \u001b[33mf\u001b[39m\u001b[33m\"\u001b[39m\u001b[33mshapes \u001b[39m\u001b[38;5;132;01m{\u001b[39;00mx.shape\u001b[38;5;132;01m}\u001b[39;00m\u001b[33m and \u001b[39m\u001b[38;5;132;01m{\u001b[39;00my.shape\u001b[38;5;132;01m}\u001b[39;00m\u001b[33m\"\u001b[39m)\n",
      "\u001b[31mValueError\u001b[39m: x and y must have same first dimension, but have shapes (1,) and (929,)"
     ]
    },
    {
     "data": {
      "image/png": "[encoded data removed]",
      "text/plain": [
       "<Figure size 1200x500 with 1 Axes>"
      ]
     },
     "metadata": {},
     "output_type": "display_data"
    }
   ],
   "source": [
    "fig, ax = plt.subplots(figsize=(12, 5))\n",
    "fig.suptitle('Figure 3: Absolute Timing Drift Comparison', fontsize=14)\n",
    "\n",
    "ax.plot(event_index, drift_naive, label='Quantized w/o Error Forwarding (Naive)', alpha=0.8, linewidth=1.5)\n",
    "ax.plot(event_index, drift_with_EF, label='Quantized w/ Error Forwarding (Proposed)', alpha=0.8, linewidth=1.5)\n",
    "\n",
    "ax.axhline(0, color='black', linestyle='--', linewidth=0.8, label='Original Timing')\n",
    "ax.set_xlabel(\"Event Index\")\n",
    "ax.set_ylabel(\"Timing Drift (Quantized Abs Time - Original Abs Time) [ticks]\")\n",
    "ax.set_title(f\"Drift Comparison (Quantization Unit = 1/{int(1/TargetUnitBeat)} Note, TPQN={TPQN})\")\n",
    "ax.grid(True, linestyle=':')\n",
    "ax.legend()\n",
    "\n",
    "plt.tight_layout(rect=[0, 0.03, 1, 0.95])\n",
    "plt.show() # Use plt.savefig('figure3_drift_comparison.png', dpi=300) for paper"
   ]
  }
 ],
 "metadata": {
  "kernelspec": {
   "display_name": "Python 3",
   "language": "python",
   "name": "python3"
  },
  "language_info": {
   "codemirror_mode": {
    "name": "ipython",
    "version": 3
   },
   "file_extension": ".py",
   "mimetype": "text/x-python",
   "name": "python",
   "nbconvert_exporter": "python",
   "pygments_lexer": "ipython3",
   "version": "3.13.3"
  }
 },
 "nbformat": 4,
 "nbformat_minor": 2
}
