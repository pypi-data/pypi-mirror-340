{
 "cells": [
  {
   "cell_type": "code",
   "execution_count": 2,
   "metadata": {},
   "outputs": [
    {
     "name": "stdout",
     "output_type": "stream",
     "text": [
      "The autoreload extension is already loaded. To reload it, use:\n",
      "  %reload_ext autoreload\n"
     ]
    }
   ],
   "source": [
    "%load_ext autoreload\n",
    "%autoreload 2"
   ]
  },
  {
   "cell_type": "code",
   "execution_count": 3,
   "metadata": {},
   "outputs": [],
   "source": [
    "import numpy as np\n",
    "import pandas as pd\n",
    "\n",
    "df = pd.DataFrame({\n",
    "    \"x\": np.random.randn(100),\n",
    "    \"y\": np.random.randn(100),\n",
    "    \"category\": np.random.randint(0, 2, 100),\n",
    "})\n"
   ]
  },
  {
   "cell_type": "code",
   "execution_count": 5,
   "metadata": {},
   "outputs": [
    {
     "data": {
      "text/plain": [
       "ThemeRegistry.enable('gessulat')"
      ]
     },
     "execution_count": 5,
     "metadata": {},
     "output_type": "execute_result"
    }
   ],
   "source": [
    "from gsslt.visualization import min_max_scale\n",
    "import altair as alt\n",
    "alt.theme.enable('gessulat')"
   ]
  },
  {
   "cell_type": "code",
   "execution_count": 6,
   "metadata": {},
   "outputs": [
    {
     "data": {
      "text/html": [
       "\n",
       "<style>\n",
       "  #altair-viz-2b84246b444c4858b300cce3abc2f2dd.vega-embed {\n",
       "    width: 100%;\n",
       "    display: flex;\n",
       "  }\n",
       "\n",
       "  #altair-viz-2b84246b444c4858b300cce3abc2f2dd.vega-embed details,\n",
       "  #altair-viz-2b84246b444c4858b300cce3abc2f2dd.vega-embed details summary {\n",
       "    position: relative;\n",
       "  }\n",
       "</style>\n",
       "<div id=\"altair-viz-2b84246b444c4858b300cce3abc2f2dd\"></div>\n",
       "<script type=\"text/javascript\">\n",
       "  var VEGA_DEBUG = (typeof VEGA_DEBUG == \"undefined\") ? {} : VEGA_DEBUG;\n",
       "  (function(spec, embedOpt){\n",
       "    let outputDiv = document.currentScript.previousElementSibling;\n",
       "    if (outputDiv.id !== \"altair-viz-2b84246b444c4858b300cce3abc2f2dd\") {\n",
       "      outputDiv = document.getElementById(\"altair-viz-2b84246b444c4858b300cce3abc2f2dd\");\n",
       "    }\n",
       "\n",
       "    const paths = {\n",
       "      \"vega\": \"https://cdn.jsdelivr.net/npm/vega@5?noext\",\n",
       "      \"vega-lib\": \"https://cdn.jsdelivr.net/npm/vega-lib?noext\",\n",
       "      \"vega-lite\": \"https://cdn.jsdelivr.net/npm/vega-lite@5.20.1?noext\",\n",
       "      \"vega-embed\": \"https://cdn.jsdelivr.net/npm/vega-embed@6?noext\",\n",
       "    };\n",
       "\n",
       "    function maybeLoadScript(lib, version) {\n",
       "      var key = `${lib.replace(\"-\", \"\")}_version`;\n",
       "      return (VEGA_DEBUG[key] == version) ?\n",
       "        Promise.resolve(paths[lib]) :\n",
       "        new Promise(function(resolve, reject) {\n",
       "          var s = document.createElement('script');\n",
       "          document.getElementsByTagName(\"head\")[0].appendChild(s);\n",
       "          s.async = true;\n",
       "          s.onload = () => {\n",
       "            VEGA_DEBUG[key] = version;\n",
       "            return resolve(paths[lib]);\n",
       "          };\n",
       "          s.onerror = () => reject(`Error loading script: ${paths[lib]}`);\n",
       "          s.src = paths[lib];\n",
       "        });\n",
       "    }\n",
       "\n",
       "    function showError(err) {\n",
       "      outputDiv.innerHTML = `<div class=\"error\" style=\"color:red;\">${err}</div>`;\n",
       "      throw err;\n",
       "    }\n",
       "\n",
       "    function displayChart(vegaEmbed) {\n",
       "      vegaEmbed(outputDiv, spec, embedOpt)\n",
       "        .catch(err => showError(`Javascript Error: ${err.message}<br>This usually means there's a typo in your chart specification. See the javascript console for the full traceback.`));\n",
       "    }\n",
       "\n",
       "    if(typeof define === \"function\" && define.amd) {\n",
       "      requirejs.config({paths});\n",
       "      let deps = [\"vega-embed\"];\n",
       "      require(deps, displayChart, err => showError(`Error loading script: ${err.message}`));\n",
       "    } else {\n",
       "      maybeLoadScript(\"vega\", \"5\")\n",
       "        .then(() => maybeLoadScript(\"vega-lite\", \"5.20.1\"))\n",
       "        .then(() => maybeLoadScript(\"vega-embed\", \"6\"))\n",
       "        .catch(showError)\n",
       "        .then(() => displayChart(vegaEmbed));\n",
       "    }\n",
       "  })({\"config\": {\"title\": {\"font\": \"Georgia\", \"fontSize\": 20}, \"background\": null, \"view\": {\"width\": 300, \"height\": 300, \"stroke\": null}, \"mark\": {\"filled\": true, \"color\": \"black\", \"opacity\": 0.75}, \"axis\": {\"labelFontSize\": 14, \"titleFontSize\": 18, \"offset\": 10, \"grid\": false, \"ticks\": false, \"labelFont\": \"Georgia\", \"titleFont\": \"Georgia\"}, \"legend\": {\"titleFont\": \"Georgia\", \"labelFont\": \"Georgia\", \"titleFontSize\": 14, \"labelFontSize\": 12}, \"range\": {\"category\": {\"scheme\": \"observable10\"}}, \"scale\": {\"nice\": true}}, \"data\": {\"name\": \"data-7b7730cc0873c1442d2cfbd625b4a869\"}, \"mark\": {\"type\": \"point\"}, \"encoding\": {\"x\": {\"field\": \"x\", \"scale\": {\"domain\": [-2.4866373642989066, 2.2529162301147605]}, \"type\": \"quantitative\"}, \"y\": {\"field\": \"y\", \"scale\": {\"domain\": [-2.4934805099746886, 2.3591838970705536]}, \"type\": \"quantitative\"}}, \"title\": \"Scatterplot\", \"$schema\": \"https://vega.github.io/schema/vega-lite/v5.20.1.json\", \"datasets\": {\"data-7b7730cc0873c1442d2cfbd625b4a869\": [{\"x\": 0.5696409891243868, \"y\": 1.948101751066978, \"category\": 0}, {\"x\": 0.14788332535457546, \"y\": -0.4366656636098075, \"category\": 1}, {\"x\": 0.14702081317058116, \"y\": 1.375042461926653, \"category\": 0}, {\"x\": -1.719837233311259, \"y\": -1.0253134724907962, \"category\": 1}, {\"x\": -0.25456313459770846, \"y\": -1.1508239561638023, \"category\": 0}, {\"x\": -0.4475680347880621, \"y\": -1.3778258533268988, \"category\": 0}, {\"x\": -1.054254033795223, \"y\": -2.4934805099746886, \"category\": 0}, {\"x\": -1.445794779209312, \"y\": 0.23331717473058777, \"category\": 0}, {\"x\": -1.7463803287571094, \"y\": 0.531613195317585, \"category\": 1}, {\"x\": -0.152803650625218, \"y\": 0.5276937059815078, \"category\": 1}, {\"x\": 1.13852895627271, \"y\": 2.1716323886857003, \"category\": 1}, {\"x\": -0.44653990888226924, \"y\": -0.12142161905677192, \"category\": 1}, {\"x\": -1.4450446693586763, \"y\": 0.42903299601103023, \"category\": 1}, {\"x\": -2.4866373642989066, \"y\": 1.7480668197134577, \"category\": 1}, {\"x\": -0.5490342649781801, \"y\": -1.0824011051695512, \"category\": 0}, {\"x\": -1.0102311648699862, \"y\": -0.2621159961501293, \"category\": 0}, {\"x\": 0.8563214915594889, \"y\": 0.5851709517279388, \"category\": 1}, {\"x\": -1.485634938717371, \"y\": -0.4370598028603004, \"category\": 0}, {\"x\": 1.3420623550804747, \"y\": 0.32111892700788763, \"category\": 0}, {\"x\": 0.5902367103036688, \"y\": 1.8747331031976489, \"category\": 1}, {\"x\": -1.2051944903299385, \"y\": -0.07188126809620575, \"category\": 0}, {\"x\": 0.37860055794255765, \"y\": 0.6866549618509158, \"category\": 0}, {\"x\": 0.10093606537781039, \"y\": -0.08741910765181796, \"category\": 1}, {\"x\": -0.1444260753819046, \"y\": 0.21967816350383806, \"category\": 0}, {\"x\": 1.7849986318050257, \"y\": -1.982790527341492, \"category\": 0}, {\"x\": -1.4641915210231708, \"y\": -0.6172679083500734, \"category\": 1}, {\"x\": -0.9316037304294957, \"y\": -0.33927674693690313, \"category\": 1}, {\"x\": -0.5036967691890594, \"y\": -0.20545607350747033, \"category\": 1}, {\"x\": -0.5049362157814667, \"y\": -1.2301957175016134, \"category\": 1}, {\"x\": -0.3946545110384385, \"y\": 1.3766330770202788, \"category\": 1}, {\"x\": 0.7998599130279974, \"y\": 0.5808886782788522, \"category\": 1}, {\"x\": -0.4271991542226808, \"y\": 0.41367793274820813, \"category\": 0}, {\"x\": -0.5370196033345981, \"y\": -0.348822072143238, \"category\": 0}, {\"x\": 0.1776558739238238, \"y\": -0.7860122699068248, \"category\": 1}, {\"x\": 0.6685324946125584, \"y\": 0.31445645333019767, \"category\": 0}, {\"x\": -1.6502542167427, \"y\": -1.6950143408229497, \"category\": 0}, {\"x\": -1.6444220867644375, \"y\": -0.6970721760277707, \"category\": 1}, {\"x\": -0.80642836612574, \"y\": -1.377318253267866, \"category\": 1}, {\"x\": -1.6796531844684506, \"y\": 0.10466734428302109, \"category\": 0}, {\"x\": 0.7283540051504137, \"y\": -1.065402482233934, \"category\": 1}, {\"x\": 0.8598211440490093, \"y\": 0.26469666226224153, \"category\": 1}, {\"x\": 0.5241584149711763, \"y\": 0.23582302611051992, \"category\": 0}, {\"x\": 0.06560604431942475, \"y\": 0.7768972389126428, \"category\": 1}, {\"x\": 1.0926998345840002, \"y\": 0.5352037125989568, \"category\": 0}, {\"x\": -0.12293682751058495, \"y\": 1.5104426663233854, \"category\": 1}, {\"x\": 0.7599014847517813, \"y\": -0.504824384252936, \"category\": 1}, {\"x\": 0.7525309497186388, \"y\": -0.6872949071708179, \"category\": 1}, {\"x\": -1.2541762017368379, \"y\": -1.5043355516054562, \"category\": 0}, {\"x\": -1.3267656986469356, \"y\": 0.3292114202540116, \"category\": 1}, {\"x\": -0.0904460040227162, \"y\": 0.09782174529445005, \"category\": 0}, {\"x\": -1.9499945464512687, \"y\": 0.1494788402246018, \"category\": 1}, {\"x\": 2.1200305967674673, \"y\": -1.259183330841302, \"category\": 0}, {\"x\": -0.47882319748521346, \"y\": 0.6288621286877312, \"category\": 0}, {\"x\": -0.2756612395691615, \"y\": -0.989811339865262, \"category\": 0}, {\"x\": -0.7573904518338406, \"y\": -0.06072858542491395, \"category\": 1}, {\"x\": -1.361420002117203, \"y\": -1.4866375931221198, \"category\": 0}, {\"x\": 0.6421887028222544, \"y\": 1.8329596517604645, \"category\": 0}, {\"x\": -0.8360070693761688, \"y\": -0.05794146272662814, \"category\": 1}, {\"x\": -0.6194961301992593, \"y\": 0.8941444023870947, \"category\": 0}, {\"x\": 0.42489298821420207, \"y\": -0.04922898159405937, \"category\": 1}, {\"x\": 2.2364683930904072, \"y\": -1.3157435365991206, \"category\": 0}, {\"x\": 0.3578311862745841, \"y\": 0.37992734761232055, \"category\": 0}, {\"x\": 2.0783329782285507, \"y\": 0.46358198225430775, \"category\": 1}, {\"x\": -0.566166483396676, \"y\": -0.4502250750068606, \"category\": 0}, {\"x\": 0.6061445548582258, \"y\": -0.2797195206459977, \"category\": 0}, {\"x\": -0.0200481431604834, \"y\": -0.4534172039968485, \"category\": 1}, {\"x\": -0.6714957020226955, \"y\": -1.6682139474243896, \"category\": 0}, {\"x\": -1.5618677674004204, \"y\": -0.10870124528621616, \"category\": 0}, {\"x\": 0.6337117389543387, \"y\": 1.596045285611461, \"category\": 0}, {\"x\": -0.675163007973733, \"y\": -0.6488735416146585, \"category\": 0}, {\"x\": 0.4906281153473025, \"y\": 0.07873591339324887, \"category\": 1}, {\"x\": -0.19942302443854945, \"y\": -1.4573555312025035, \"category\": 0}, {\"x\": 0.08392034206773323, \"y\": -0.4119687559343102, \"category\": 1}, {\"x\": -0.7584161223296862, \"y\": 0.8167294639002672, \"category\": 1}, {\"x\": 0.08425943237217183, \"y\": -1.4533370925267346, \"category\": 1}, {\"x\": 0.9328092426327738, \"y\": 0.653994241826683, \"category\": 0}, {\"x\": 2.2529162301147605, \"y\": -2.0952449456113125, \"category\": 1}, {\"x\": 0.4375370537932383, \"y\": 1.0252854338934303, \"category\": 0}, {\"x\": 0.6634905282130187, \"y\": 0.43252596108376384, \"category\": 1}, {\"x\": 1.6025746544856296, \"y\": 0.4336022950250852, \"category\": 1}, {\"x\": -1.012365829077829, \"y\": 0.8062664704640038, \"category\": 1}, {\"x\": 0.5406763928195666, \"y\": -0.24642874832571704, \"category\": 0}, {\"x\": 0.29828944406366276, \"y\": -0.43692255604007485, \"category\": 1}, {\"x\": -1.085605689825923, \"y\": 1.1263212703829177, \"category\": 1}, {\"x\": 0.06796256224414036, \"y\": 0.11131614174373392, \"category\": 1}, {\"x\": 1.2797266286976359, \"y\": 0.7511102793784332, \"category\": 1}, {\"x\": -0.4851431437312903, \"y\": -1.3762979541291964, \"category\": 1}, {\"x\": 1.1451007541116827, \"y\": -0.6054296085965521, \"category\": 0}, {\"x\": -0.15344473483949922, \"y\": 0.6330405080505115, \"category\": 0}, {\"x\": -1.3203142224144804, \"y\": -0.24543511670170512, \"category\": 1}, {\"x\": -0.5125653857363027, \"y\": -0.6163556523406826, \"category\": 0}, {\"x\": 0.0800164759418618, \"y\": 2.3591838970705536, \"category\": 1}, {\"x\": 1.0912622890572046, \"y\": -0.18969506351435897, \"category\": 1}, {\"x\": 0.3918376711491842, \"y\": -0.3313760452156946, \"category\": 1}, {\"x\": 1.5369690634170412, \"y\": 0.14473455764711207, \"category\": 1}, {\"x\": -0.5942630867489469, \"y\": 1.9812897737475494, \"category\": 0}, {\"x\": 0.06429716912092427, \"y\": 0.0924222913794913, \"category\": 0}, {\"x\": 0.5386330278928164, \"y\": -0.338510451584561, \"category\": 0}, {\"x\": -0.8056153506206573, \"y\": 1.100525208616819, \"category\": 0}, {\"x\": -1.280751387795996, \"y\": 1.0232900613683424, \"category\": 0}]}}, {\"mode\": \"vega-lite\"});\n",
       "</script>"
      ],
      "text/plain": [
       "alt.Chart(...)"
      ]
     },
     "execution_count": 6,
     "metadata": {},
     "output_type": "execute_result"
    }
   ],
   "source": [
    "from altair import Chart, X, Y\n",
    "\n",
    "Chart(df, title=\"Scatterplot\").mark_point().encode(\n",
    "    X('x', scale=min_max_scale(df, 'x')),\n",
    "    Y('y', scale=min_max_scale(df, 'y')),\n",
    ")"
   ]
  },
  {
   "cell_type": "code",
   "execution_count": 7,
   "metadata": {},
   "outputs": [
    {
     "data": {
      "text/html": [
       "\n",
       "<style>\n",
       "  #altair-viz-f0f9a7802a0e4afc8b2a43682e5eb29f.vega-embed {\n",
       "    width: 100%;\n",
       "    display: flex;\n",
       "  }\n",
       "\n",
       "  #altair-viz-f0f9a7802a0e4afc8b2a43682e5eb29f.vega-embed details,\n",
       "  #altair-viz-f0f9a7802a0e4afc8b2a43682e5eb29f.vega-embed details summary {\n",
       "    position: relative;\n",
       "  }\n",
       "</style>\n",
       "<div id=\"altair-viz-f0f9a7802a0e4afc8b2a43682e5eb29f\"></div>\n",
       "<script type=\"text/javascript\">\n",
       "  var VEGA_DEBUG = (typeof VEGA_DEBUG == \"undefined\") ? {} : VEGA_DEBUG;\n",
       "  (function(spec, embedOpt){\n",
       "    let outputDiv = document.currentScript.previousElementSibling;\n",
       "    if (outputDiv.id !== \"altair-viz-f0f9a7802a0e4afc8b2a43682e5eb29f\") {\n",
       "      outputDiv = document.getElementById(\"altair-viz-f0f9a7802a0e4afc8b2a43682e5eb29f\");\n",
       "    }\n",
       "\n",
       "    const paths = {\n",
       "      \"vega\": \"https://cdn.jsdelivr.net/npm/vega@5?noext\",\n",
       "      \"vega-lib\": \"https://cdn.jsdelivr.net/npm/vega-lib?noext\",\n",
       "      \"vega-lite\": \"https://cdn.jsdelivr.net/npm/vega-lite@5.20.1?noext\",\n",
       "      \"vega-embed\": \"https://cdn.jsdelivr.net/npm/vega-embed@6?noext\",\n",
       "    };\n",
       "\n",
       "    function maybeLoadScript(lib, version) {\n",
       "      var key = `${lib.replace(\"-\", \"\")}_version`;\n",
       "      return (VEGA_DEBUG[key] == version) ?\n",
       "        Promise.resolve(paths[lib]) :\n",
       "        new Promise(function(resolve, reject) {\n",
       "          var s = document.createElement('script');\n",
       "          document.getElementsByTagName(\"head\")[0].appendChild(s);\n",
       "          s.async = true;\n",
       "          s.onload = () => {\n",
       "            VEGA_DEBUG[key] = version;\n",
       "            return resolve(paths[lib]);\n",
       "          };\n",
       "          s.onerror = () => reject(`Error loading script: ${paths[lib]}`);\n",
       "          s.src = paths[lib];\n",
       "        });\n",
       "    }\n",
       "\n",
       "    function showError(err) {\n",
       "      outputDiv.innerHTML = `<div class=\"error\" style=\"color:red;\">${err}</div>`;\n",
       "      throw err;\n",
       "    }\n",
       "\n",
       "    function displayChart(vegaEmbed) {\n",
       "      vegaEmbed(outputDiv, spec, embedOpt)\n",
       "        .catch(err => showError(`Javascript Error: ${err.message}<br>This usually means there's a typo in your chart specification. See the javascript console for the full traceback.`));\n",
       "    }\n",
       "\n",
       "    if(typeof define === \"function\" && define.amd) {\n",
       "      requirejs.config({paths});\n",
       "      let deps = [\"vega-embed\"];\n",
       "      require(deps, displayChart, err => showError(`Error loading script: ${err.message}`));\n",
       "    } else {\n",
       "      maybeLoadScript(\"vega\", \"5\")\n",
       "        .then(() => maybeLoadScript(\"vega-lite\", \"5.20.1\"))\n",
       "        .then(() => maybeLoadScript(\"vega-embed\", \"6\"))\n",
       "        .catch(showError)\n",
       "        .then(() => displayChart(vegaEmbed));\n",
       "    }\n",
       "  })({\"config\": {\"title\": {\"font\": \"Georgia\", \"fontSize\": 20}, \"background\": null, \"view\": {\"width\": 300, \"height\": 300, \"stroke\": null}, \"mark\": {\"filled\": true, \"color\": \"black\", \"opacity\": 0.75}, \"axis\": {\"labelFontSize\": 14, \"titleFontSize\": 18, \"offset\": 10, \"grid\": false, \"ticks\": false, \"labelFont\": \"Georgia\", \"titleFont\": \"Georgia\"}, \"legend\": {\"titleFont\": \"Georgia\", \"labelFont\": \"Georgia\", \"titleFontSize\": 14, \"labelFontSize\": 12}, \"range\": {\"category\": {\"scheme\": \"observable10\"}}, \"scale\": {\"nice\": true}}, \"data\": {\"name\": \"data-7b7730cc0873c1442d2cfbd625b4a869\"}, \"mark\": {\"type\": \"point\"}, \"encoding\": {\"color\": {\"field\": \"category\", \"type\": \"nominal\"}, \"x\": {\"field\": \"x\", \"scale\": {\"domain\": [-2.4866373642989066, 2.2529162301147605]}, \"type\": \"quantitative\"}, \"y\": {\"field\": \"y\", \"scale\": {\"domain\": [-2.4934805099746886, 2.3591838970705536]}, \"type\": \"quantitative\"}}, \"title\": \"Scatterplot (colored)\", \"$schema\": \"https://vega.github.io/schema/vega-lite/v5.20.1.json\", \"datasets\": {\"data-7b7730cc0873c1442d2cfbd625b4a869\": [{\"x\": 0.5696409891243868, \"y\": 1.948101751066978, \"category\": 0}, {\"x\": 0.14788332535457546, \"y\": -0.4366656636098075, \"category\": 1}, {\"x\": 0.14702081317058116, \"y\": 1.375042461926653, \"category\": 0}, {\"x\": -1.719837233311259, \"y\": -1.0253134724907962, \"category\": 1}, {\"x\": -0.25456313459770846, \"y\": -1.1508239561638023, \"category\": 0}, {\"x\": -0.4475680347880621, \"y\": -1.3778258533268988, \"category\": 0}, {\"x\": -1.054254033795223, \"y\": -2.4934805099746886, \"category\": 0}, {\"x\": -1.445794779209312, \"y\": 0.23331717473058777, \"category\": 0}, {\"x\": -1.7463803287571094, \"y\": 0.531613195317585, \"category\": 1}, {\"x\": -0.152803650625218, \"y\": 0.5276937059815078, \"category\": 1}, {\"x\": 1.13852895627271, \"y\": 2.1716323886857003, \"category\": 1}, {\"x\": -0.44653990888226924, \"y\": -0.12142161905677192, \"category\": 1}, {\"x\": -1.4450446693586763, \"y\": 0.42903299601103023, \"category\": 1}, {\"x\": -2.4866373642989066, \"y\": 1.7480668197134577, \"category\": 1}, {\"x\": -0.5490342649781801, \"y\": -1.0824011051695512, \"category\": 0}, {\"x\": -1.0102311648699862, \"y\": -0.2621159961501293, \"category\": 0}, {\"x\": 0.8563214915594889, \"y\": 0.5851709517279388, \"category\": 1}, {\"x\": -1.485634938717371, \"y\": -0.4370598028603004, \"category\": 0}, {\"x\": 1.3420623550804747, \"y\": 0.32111892700788763, \"category\": 0}, {\"x\": 0.5902367103036688, \"y\": 1.8747331031976489, \"category\": 1}, {\"x\": -1.2051944903299385, \"y\": -0.07188126809620575, \"category\": 0}, {\"x\": 0.37860055794255765, \"y\": 0.6866549618509158, \"category\": 0}, {\"x\": 0.10093606537781039, \"y\": -0.08741910765181796, \"category\": 1}, {\"x\": -0.1444260753819046, \"y\": 0.21967816350383806, \"category\": 0}, {\"x\": 1.7849986318050257, \"y\": -1.982790527341492, \"category\": 0}, {\"x\": -1.4641915210231708, \"y\": -0.6172679083500734, \"category\": 1}, {\"x\": -0.9316037304294957, \"y\": -0.33927674693690313, \"category\": 1}, {\"x\": -0.5036967691890594, \"y\": -0.20545607350747033, \"category\": 1}, {\"x\": -0.5049362157814667, \"y\": -1.2301957175016134, \"category\": 1}, {\"x\": -0.3946545110384385, \"y\": 1.3766330770202788, \"category\": 1}, {\"x\": 0.7998599130279974, \"y\": 0.5808886782788522, \"category\": 1}, {\"x\": -0.4271991542226808, \"y\": 0.41367793274820813, \"category\": 0}, {\"x\": -0.5370196033345981, \"y\": -0.348822072143238, \"category\": 0}, {\"x\": 0.1776558739238238, \"y\": -0.7860122699068248, \"category\": 1}, {\"x\": 0.6685324946125584, \"y\": 0.31445645333019767, \"category\": 0}, {\"x\": -1.6502542167427, \"y\": -1.6950143408229497, \"category\": 0}, {\"x\": -1.6444220867644375, \"y\": -0.6970721760277707, \"category\": 1}, {\"x\": -0.80642836612574, \"y\": -1.377318253267866, \"category\": 1}, {\"x\": -1.6796531844684506, \"y\": 0.10466734428302109, \"category\": 0}, {\"x\": 0.7283540051504137, \"y\": -1.065402482233934, \"category\": 1}, {\"x\": 0.8598211440490093, \"y\": 0.26469666226224153, \"category\": 1}, {\"x\": 0.5241584149711763, \"y\": 0.23582302611051992, \"category\": 0}, {\"x\": 0.06560604431942475, \"y\": 0.7768972389126428, \"category\": 1}, {\"x\": 1.0926998345840002, \"y\": 0.5352037125989568, \"category\": 0}, {\"x\": -0.12293682751058495, \"y\": 1.5104426663233854, \"category\": 1}, {\"x\": 0.7599014847517813, \"y\": -0.504824384252936, \"category\": 1}, {\"x\": 0.7525309497186388, \"y\": -0.6872949071708179, \"category\": 1}, {\"x\": -1.2541762017368379, \"y\": -1.5043355516054562, \"category\": 0}, {\"x\": -1.3267656986469356, \"y\": 0.3292114202540116, \"category\": 1}, {\"x\": -0.0904460040227162, \"y\": 0.09782174529445005, \"category\": 0}, {\"x\": -1.9499945464512687, \"y\": 0.1494788402246018, \"category\": 1}, {\"x\": 2.1200305967674673, \"y\": -1.259183330841302, \"category\": 0}, {\"x\": -0.47882319748521346, \"y\": 0.6288621286877312, \"category\": 0}, {\"x\": -0.2756612395691615, \"y\": -0.989811339865262, \"category\": 0}, {\"x\": -0.7573904518338406, \"y\": -0.06072858542491395, \"category\": 1}, {\"x\": -1.361420002117203, \"y\": -1.4866375931221198, \"category\": 0}, {\"x\": 0.6421887028222544, \"y\": 1.8329596517604645, \"category\": 0}, {\"x\": -0.8360070693761688, \"y\": -0.05794146272662814, \"category\": 1}, {\"x\": -0.6194961301992593, \"y\": 0.8941444023870947, \"category\": 0}, {\"x\": 0.42489298821420207, \"y\": -0.04922898159405937, \"category\": 1}, {\"x\": 2.2364683930904072, \"y\": -1.3157435365991206, \"category\": 0}, {\"x\": 0.3578311862745841, \"y\": 0.37992734761232055, \"category\": 0}, {\"x\": 2.0783329782285507, \"y\": 0.46358198225430775, \"category\": 1}, {\"x\": -0.566166483396676, \"y\": -0.4502250750068606, \"category\": 0}, {\"x\": 0.6061445548582258, \"y\": -0.2797195206459977, \"category\": 0}, {\"x\": -0.0200481431604834, \"y\": -0.4534172039968485, \"category\": 1}, {\"x\": -0.6714957020226955, \"y\": -1.6682139474243896, \"category\": 0}, {\"x\": -1.5618677674004204, \"y\": -0.10870124528621616, \"category\": 0}, {\"x\": 0.6337117389543387, \"y\": 1.596045285611461, \"category\": 0}, {\"x\": -0.675163007973733, \"y\": -0.6488735416146585, \"category\": 0}, {\"x\": 0.4906281153473025, \"y\": 0.07873591339324887, \"category\": 1}, {\"x\": -0.19942302443854945, \"y\": -1.4573555312025035, \"category\": 0}, {\"x\": 0.08392034206773323, \"y\": -0.4119687559343102, \"category\": 1}, {\"x\": -0.7584161223296862, \"y\": 0.8167294639002672, \"category\": 1}, {\"x\": 0.08425943237217183, \"y\": -1.4533370925267346, \"category\": 1}, {\"x\": 0.9328092426327738, \"y\": 0.653994241826683, \"category\": 0}, {\"x\": 2.2529162301147605, \"y\": -2.0952449456113125, \"category\": 1}, {\"x\": 0.4375370537932383, \"y\": 1.0252854338934303, \"category\": 0}, {\"x\": 0.6634905282130187, \"y\": 0.43252596108376384, \"category\": 1}, {\"x\": 1.6025746544856296, \"y\": 0.4336022950250852, \"category\": 1}, {\"x\": -1.012365829077829, \"y\": 0.8062664704640038, \"category\": 1}, {\"x\": 0.5406763928195666, \"y\": -0.24642874832571704, \"category\": 0}, {\"x\": 0.29828944406366276, \"y\": -0.43692255604007485, \"category\": 1}, {\"x\": -1.085605689825923, \"y\": 1.1263212703829177, \"category\": 1}, {\"x\": 0.06796256224414036, \"y\": 0.11131614174373392, \"category\": 1}, {\"x\": 1.2797266286976359, \"y\": 0.7511102793784332, \"category\": 1}, {\"x\": -0.4851431437312903, \"y\": -1.3762979541291964, \"category\": 1}, {\"x\": 1.1451007541116827, \"y\": -0.6054296085965521, \"category\": 0}, {\"x\": -0.15344473483949922, \"y\": 0.6330405080505115, \"category\": 0}, {\"x\": -1.3203142224144804, \"y\": -0.24543511670170512, \"category\": 1}, {\"x\": -0.5125653857363027, \"y\": -0.6163556523406826, \"category\": 0}, {\"x\": 0.0800164759418618, \"y\": 2.3591838970705536, \"category\": 1}, {\"x\": 1.0912622890572046, \"y\": -0.18969506351435897, \"category\": 1}, {\"x\": 0.3918376711491842, \"y\": -0.3313760452156946, \"category\": 1}, {\"x\": 1.5369690634170412, \"y\": 0.14473455764711207, \"category\": 1}, {\"x\": -0.5942630867489469, \"y\": 1.9812897737475494, \"category\": 0}, {\"x\": 0.06429716912092427, \"y\": 0.0924222913794913, \"category\": 0}, {\"x\": 0.5386330278928164, \"y\": -0.338510451584561, \"category\": 0}, {\"x\": -0.8056153506206573, \"y\": 1.100525208616819, \"category\": 0}, {\"x\": -1.280751387795996, \"y\": 1.0232900613683424, \"category\": 0}]}}, {\"mode\": \"vega-lite\"});\n",
       "</script>"
      ],
      "text/plain": [
       "alt.Chart(...)"
      ]
     },
     "execution_count": 7,
     "metadata": {},
     "output_type": "execute_result"
    }
   ],
   "source": [
    "Chart(df, title=\"Scatterplot (colored)\").mark_point().encode(\n",
    "    X('x', scale=min_max_scale(df, 'x')),\n",
    "    Y('y', scale=min_max_scale(df, 'y')),\n",
    "    color='category:N'\n",
    ")"
   ]
  },
  {
   "cell_type": "code",
   "execution_count": 8,
   "metadata": {},
   "outputs": [
    {
     "data": {
      "text/html": [
       "\n",
       "<style>\n",
       "  #altair-viz-88721680e81240f2a85340981066c0aa.vega-embed {\n",
       "    width: 100%;\n",
       "    display: flex;\n",
       "  }\n",
       "\n",
       "  #altair-viz-88721680e81240f2a85340981066c0aa.vega-embed details,\n",
       "  #altair-viz-88721680e81240f2a85340981066c0aa.vega-embed details summary {\n",
       "    position: relative;\n",
       "  }\n",
       "</style>\n",
       "<div id=\"altair-viz-88721680e81240f2a85340981066c0aa\"></div>\n",
       "<script type=\"text/javascript\">\n",
       "  var VEGA_DEBUG = (typeof VEGA_DEBUG == \"undefined\") ? {} : VEGA_DEBUG;\n",
       "  (function(spec, embedOpt){\n",
       "    let outputDiv = document.currentScript.previousElementSibling;\n",
       "    if (outputDiv.id !== \"altair-viz-88721680e81240f2a85340981066c0aa\") {\n",
       "      outputDiv = document.getElementById(\"altair-viz-88721680e81240f2a85340981066c0aa\");\n",
       "    }\n",
       "\n",
       "    const paths = {\n",
       "      \"vega\": \"https://cdn.jsdelivr.net/npm/vega@5?noext\",\n",
       "      \"vega-lib\": \"https://cdn.jsdelivr.net/npm/vega-lib?noext\",\n",
       "      \"vega-lite\": \"https://cdn.jsdelivr.net/npm/vega-lite@5.20.1?noext\",\n",
       "      \"vega-embed\": \"https://cdn.jsdelivr.net/npm/vega-embed@6?noext\",\n",
       "    };\n",
       "\n",
       "    function maybeLoadScript(lib, version) {\n",
       "      var key = `${lib.replace(\"-\", \"\")}_version`;\n",
       "      return (VEGA_DEBUG[key] == version) ?\n",
       "        Promise.resolve(paths[lib]) :\n",
       "        new Promise(function(resolve, reject) {\n",
       "          var s = document.createElement('script');\n",
       "          document.getElementsByTagName(\"head\")[0].appendChild(s);\n",
       "          s.async = true;\n",
       "          s.onload = () => {\n",
       "            VEGA_DEBUG[key] = version;\n",
       "            return resolve(paths[lib]);\n",
       "          };\n",
       "          s.onerror = () => reject(`Error loading script: ${paths[lib]}`);\n",
       "          s.src = paths[lib];\n",
       "        });\n",
       "    }\n",
       "\n",
       "    function showError(err) {\n",
       "      outputDiv.innerHTML = `<div class=\"error\" style=\"color:red;\">${err}</div>`;\n",
       "      throw err;\n",
       "    }\n",
       "\n",
       "    function displayChart(vegaEmbed) {\n",
       "      vegaEmbed(outputDiv, spec, embedOpt)\n",
       "        .catch(err => showError(`Javascript Error: ${err.message}<br>This usually means there's a typo in your chart specification. See the javascript console for the full traceback.`));\n",
       "    }\n",
       "\n",
       "    if(typeof define === \"function\" && define.amd) {\n",
       "      requirejs.config({paths});\n",
       "      let deps = [\"vega-embed\"];\n",
       "      require(deps, displayChart, err => showError(`Error loading script: ${err.message}`));\n",
       "    } else {\n",
       "      maybeLoadScript(\"vega\", \"5\")\n",
       "        .then(() => maybeLoadScript(\"vega-lite\", \"5.20.1\"))\n",
       "        .then(() => maybeLoadScript(\"vega-embed\", \"6\"))\n",
       "        .catch(showError)\n",
       "        .then(() => displayChart(vegaEmbed));\n",
       "    }\n",
       "  })({\"config\": {\"title\": {\"font\": \"Georgia\", \"fontSize\": 20}, \"background\": null, \"view\": {\"width\": 300, \"height\": 300, \"stroke\": null}, \"mark\": {\"filled\": true, \"color\": \"black\", \"opacity\": 0.75}, \"axis\": {\"labelFontSize\": 14, \"titleFontSize\": 18, \"offset\": 10, \"grid\": false, \"ticks\": false, \"labelFont\": \"Georgia\", \"titleFont\": \"Georgia\"}, \"legend\": {\"titleFont\": \"Georgia\", \"labelFont\": \"Georgia\", \"titleFontSize\": 14, \"labelFontSize\": 12}, \"range\": {\"category\": {\"scheme\": \"observable10\"}}, \"scale\": {\"nice\": true}}, \"data\": {\"name\": \"data-7b7730cc0873c1442d2cfbd625b4a869\"}, \"mark\": {\"type\": \"bar\"}, \"encoding\": {\"x\": {\"field\": \"category\", \"type\": \"nominal\"}, \"y\": {\"aggregate\": \"count\", \"title\": \"Frequency\", \"type\": \"quantitative\"}}, \"title\": \"Histogram\", \"$schema\": \"https://vega.github.io/schema/vega-lite/v5.20.1.json\", \"datasets\": {\"data-7b7730cc0873c1442d2cfbd625b4a869\": [{\"x\": 0.5696409891243868, \"y\": 1.948101751066978, \"category\": 0}, {\"x\": 0.14788332535457546, \"y\": -0.4366656636098075, \"category\": 1}, {\"x\": 0.14702081317058116, \"y\": 1.375042461926653, \"category\": 0}, {\"x\": -1.719837233311259, \"y\": -1.0253134724907962, \"category\": 1}, {\"x\": -0.25456313459770846, \"y\": -1.1508239561638023, \"category\": 0}, {\"x\": -0.4475680347880621, \"y\": -1.3778258533268988, \"category\": 0}, {\"x\": -1.054254033795223, \"y\": -2.4934805099746886, \"category\": 0}, {\"x\": -1.445794779209312, \"y\": 0.23331717473058777, \"category\": 0}, {\"x\": -1.7463803287571094, \"y\": 0.531613195317585, \"category\": 1}, {\"x\": -0.152803650625218, \"y\": 0.5276937059815078, \"category\": 1}, {\"x\": 1.13852895627271, \"y\": 2.1716323886857003, \"category\": 1}, {\"x\": -0.44653990888226924, \"y\": -0.12142161905677192, \"category\": 1}, {\"x\": -1.4450446693586763, \"y\": 0.42903299601103023, \"category\": 1}, {\"x\": -2.4866373642989066, \"y\": 1.7480668197134577, \"category\": 1}, {\"x\": -0.5490342649781801, \"y\": -1.0824011051695512, \"category\": 0}, {\"x\": -1.0102311648699862, \"y\": -0.2621159961501293, \"category\": 0}, {\"x\": 0.8563214915594889, \"y\": 0.5851709517279388, \"category\": 1}, {\"x\": -1.485634938717371, \"y\": -0.4370598028603004, \"category\": 0}, {\"x\": 1.3420623550804747, \"y\": 0.32111892700788763, \"category\": 0}, {\"x\": 0.5902367103036688, \"y\": 1.8747331031976489, \"category\": 1}, {\"x\": -1.2051944903299385, \"y\": -0.07188126809620575, \"category\": 0}, {\"x\": 0.37860055794255765, \"y\": 0.6866549618509158, \"category\": 0}, {\"x\": 0.10093606537781039, \"y\": -0.08741910765181796, \"category\": 1}, {\"x\": -0.1444260753819046, \"y\": 0.21967816350383806, \"category\": 0}, {\"x\": 1.7849986318050257, \"y\": -1.982790527341492, \"category\": 0}, {\"x\": -1.4641915210231708, \"y\": -0.6172679083500734, \"category\": 1}, {\"x\": -0.9316037304294957, \"y\": -0.33927674693690313, \"category\": 1}, {\"x\": -0.5036967691890594, \"y\": -0.20545607350747033, \"category\": 1}, {\"x\": -0.5049362157814667, \"y\": -1.2301957175016134, \"category\": 1}, {\"x\": -0.3946545110384385, \"y\": 1.3766330770202788, \"category\": 1}, {\"x\": 0.7998599130279974, \"y\": 0.5808886782788522, \"category\": 1}, {\"x\": -0.4271991542226808, \"y\": 0.41367793274820813, \"category\": 0}, {\"x\": -0.5370196033345981, \"y\": -0.348822072143238, \"category\": 0}, {\"x\": 0.1776558739238238, \"y\": -0.7860122699068248, \"category\": 1}, {\"x\": 0.6685324946125584, \"y\": 0.31445645333019767, \"category\": 0}, {\"x\": -1.6502542167427, \"y\": -1.6950143408229497, \"category\": 0}, {\"x\": -1.6444220867644375, \"y\": -0.6970721760277707, \"category\": 1}, {\"x\": -0.80642836612574, \"y\": -1.377318253267866, \"category\": 1}, {\"x\": -1.6796531844684506, \"y\": 0.10466734428302109, \"category\": 0}, {\"x\": 0.7283540051504137, \"y\": -1.065402482233934, \"category\": 1}, {\"x\": 0.8598211440490093, \"y\": 0.26469666226224153, \"category\": 1}, {\"x\": 0.5241584149711763, \"y\": 0.23582302611051992, \"category\": 0}, {\"x\": 0.06560604431942475, \"y\": 0.7768972389126428, \"category\": 1}, {\"x\": 1.0926998345840002, \"y\": 0.5352037125989568, \"category\": 0}, {\"x\": -0.12293682751058495, \"y\": 1.5104426663233854, \"category\": 1}, {\"x\": 0.7599014847517813, \"y\": -0.504824384252936, \"category\": 1}, {\"x\": 0.7525309497186388, \"y\": -0.6872949071708179, \"category\": 1}, {\"x\": -1.2541762017368379, \"y\": -1.5043355516054562, \"category\": 0}, {\"x\": -1.3267656986469356, \"y\": 0.3292114202540116, \"category\": 1}, {\"x\": -0.0904460040227162, \"y\": 0.09782174529445005, \"category\": 0}, {\"x\": -1.9499945464512687, \"y\": 0.1494788402246018, \"category\": 1}, {\"x\": 2.1200305967674673, \"y\": -1.259183330841302, \"category\": 0}, {\"x\": -0.47882319748521346, \"y\": 0.6288621286877312, \"category\": 0}, {\"x\": -0.2756612395691615, \"y\": -0.989811339865262, \"category\": 0}, {\"x\": -0.7573904518338406, \"y\": -0.06072858542491395, \"category\": 1}, {\"x\": -1.361420002117203, \"y\": -1.4866375931221198, \"category\": 0}, {\"x\": 0.6421887028222544, \"y\": 1.8329596517604645, \"category\": 0}, {\"x\": -0.8360070693761688, \"y\": -0.05794146272662814, \"category\": 1}, {\"x\": -0.6194961301992593, \"y\": 0.8941444023870947, \"category\": 0}, {\"x\": 0.42489298821420207, \"y\": -0.04922898159405937, \"category\": 1}, {\"x\": 2.2364683930904072, \"y\": -1.3157435365991206, \"category\": 0}, {\"x\": 0.3578311862745841, \"y\": 0.37992734761232055, \"category\": 0}, {\"x\": 2.0783329782285507, \"y\": 0.46358198225430775, \"category\": 1}, {\"x\": -0.566166483396676, \"y\": -0.4502250750068606, \"category\": 0}, {\"x\": 0.6061445548582258, \"y\": -0.2797195206459977, \"category\": 0}, {\"x\": -0.0200481431604834, \"y\": -0.4534172039968485, \"category\": 1}, {\"x\": -0.6714957020226955, \"y\": -1.6682139474243896, \"category\": 0}, {\"x\": -1.5618677674004204, \"y\": -0.10870124528621616, \"category\": 0}, {\"x\": 0.6337117389543387, \"y\": 1.596045285611461, \"category\": 0}, {\"x\": -0.675163007973733, \"y\": -0.6488735416146585, \"category\": 0}, {\"x\": 0.4906281153473025, \"y\": 0.07873591339324887, \"category\": 1}, {\"x\": -0.19942302443854945, \"y\": -1.4573555312025035, \"category\": 0}, {\"x\": 0.08392034206773323, \"y\": -0.4119687559343102, \"category\": 1}, {\"x\": -0.7584161223296862, \"y\": 0.8167294639002672, \"category\": 1}, {\"x\": 0.08425943237217183, \"y\": -1.4533370925267346, \"category\": 1}, {\"x\": 0.9328092426327738, \"y\": 0.653994241826683, \"category\": 0}, {\"x\": 2.2529162301147605, \"y\": -2.0952449456113125, \"category\": 1}, {\"x\": 0.4375370537932383, \"y\": 1.0252854338934303, \"category\": 0}, {\"x\": 0.6634905282130187, \"y\": 0.43252596108376384, \"category\": 1}, {\"x\": 1.6025746544856296, \"y\": 0.4336022950250852, \"category\": 1}, {\"x\": -1.012365829077829, \"y\": 0.8062664704640038, \"category\": 1}, {\"x\": 0.5406763928195666, \"y\": -0.24642874832571704, \"category\": 0}, {\"x\": 0.29828944406366276, \"y\": -0.43692255604007485, \"category\": 1}, {\"x\": -1.085605689825923, \"y\": 1.1263212703829177, \"category\": 1}, {\"x\": 0.06796256224414036, \"y\": 0.11131614174373392, \"category\": 1}, {\"x\": 1.2797266286976359, \"y\": 0.7511102793784332, \"category\": 1}, {\"x\": -0.4851431437312903, \"y\": -1.3762979541291964, \"category\": 1}, {\"x\": 1.1451007541116827, \"y\": -0.6054296085965521, \"category\": 0}, {\"x\": -0.15344473483949922, \"y\": 0.6330405080505115, \"category\": 0}, {\"x\": -1.3203142224144804, \"y\": -0.24543511670170512, \"category\": 1}, {\"x\": -0.5125653857363027, \"y\": -0.6163556523406826, \"category\": 0}, {\"x\": 0.0800164759418618, \"y\": 2.3591838970705536, \"category\": 1}, {\"x\": 1.0912622890572046, \"y\": -0.18969506351435897, \"category\": 1}, {\"x\": 0.3918376711491842, \"y\": -0.3313760452156946, \"category\": 1}, {\"x\": 1.5369690634170412, \"y\": 0.14473455764711207, \"category\": 1}, {\"x\": -0.5942630867489469, \"y\": 1.9812897737475494, \"category\": 0}, {\"x\": 0.06429716912092427, \"y\": 0.0924222913794913, \"category\": 0}, {\"x\": 0.5386330278928164, \"y\": -0.338510451584561, \"category\": 0}, {\"x\": -0.8056153506206573, \"y\": 1.100525208616819, \"category\": 0}, {\"x\": -1.280751387795996, \"y\": 1.0232900613683424, \"category\": 0}]}}, {\"mode\": \"vega-lite\"});\n",
       "</script>"
      ],
      "text/plain": [
       "alt.Chart(...)"
      ]
     },
     "execution_count": 8,
     "metadata": {},
     "output_type": "execute_result"
    }
   ],
   "source": [
    "alt.Chart(df, title=\"Histogram\").mark_bar().encode(\n",
    "    alt.X(\"category:N\"),\n",
    "    alt.Y('count()', title=\"Frequency\")\n",
    ")"
   ]
  },
  {
   "cell_type": "code",
   "execution_count": 9,
   "metadata": {},
   "outputs": [
    {
     "data": {
      "text/html": [
       "\n",
       "<style>\n",
       "  #altair-viz-2bdb53ccd1b34cf0a15a8207df430b83.vega-embed {\n",
       "    width: 100%;\n",
       "    display: flex;\n",
       "  }\n",
       "\n",
       "  #altair-viz-2bdb53ccd1b34cf0a15a8207df430b83.vega-embed details,\n",
       "  #altair-viz-2bdb53ccd1b34cf0a15a8207df430b83.vega-embed details summary {\n",
       "    position: relative;\n",
       "  }\n",
       "</style>\n",
       "<div id=\"altair-viz-2bdb53ccd1b34cf0a15a8207df430b83\"></div>\n",
       "<script type=\"text/javascript\">\n",
       "  var VEGA_DEBUG = (typeof VEGA_DEBUG == \"undefined\") ? {} : VEGA_DEBUG;\n",
       "  (function(spec, embedOpt){\n",
       "    let outputDiv = document.currentScript.previousElementSibling;\n",
       "    if (outputDiv.id !== \"altair-viz-2bdb53ccd1b34cf0a15a8207df430b83\") {\n",
       "      outputDiv = document.getElementById(\"altair-viz-2bdb53ccd1b34cf0a15a8207df430b83\");\n",
       "    }\n",
       "\n",
       "    const paths = {\n",
       "      \"vega\": \"https://cdn.jsdelivr.net/npm/vega@5?noext\",\n",
       "      \"vega-lib\": \"https://cdn.jsdelivr.net/npm/vega-lib?noext\",\n",
       "      \"vega-lite\": \"https://cdn.jsdelivr.net/npm/vega-lite@5.20.1?noext\",\n",
       "      \"vega-embed\": \"https://cdn.jsdelivr.net/npm/vega-embed@6?noext\",\n",
       "    };\n",
       "\n",
       "    function maybeLoadScript(lib, version) {\n",
       "      var key = `${lib.replace(\"-\", \"\")}_version`;\n",
       "      return (VEGA_DEBUG[key] == version) ?\n",
       "        Promise.resolve(paths[lib]) :\n",
       "        new Promise(function(resolve, reject) {\n",
       "          var s = document.createElement('script');\n",
       "          document.getElementsByTagName(\"head\")[0].appendChild(s);\n",
       "          s.async = true;\n",
       "          s.onload = () => {\n",
       "            VEGA_DEBUG[key] = version;\n",
       "            return resolve(paths[lib]);\n",
       "          };\n",
       "          s.onerror = () => reject(`Error loading script: ${paths[lib]}`);\n",
       "          s.src = paths[lib];\n",
       "        });\n",
       "    }\n",
       "\n",
       "    function showError(err) {\n",
       "      outputDiv.innerHTML = `<div class=\"error\" style=\"color:red;\">${err}</div>`;\n",
       "      throw err;\n",
       "    }\n",
       "\n",
       "    function displayChart(vegaEmbed) {\n",
       "      vegaEmbed(outputDiv, spec, embedOpt)\n",
       "        .catch(err => showError(`Javascript Error: ${err.message}<br>This usually means there's a typo in your chart specification. See the javascript console for the full traceback.`));\n",
       "    }\n",
       "\n",
       "    if(typeof define === \"function\" && define.amd) {\n",
       "      requirejs.config({paths});\n",
       "      let deps = [\"vega-embed\"];\n",
       "      require(deps, displayChart, err => showError(`Error loading script: ${err.message}`));\n",
       "    } else {\n",
       "      maybeLoadScript(\"vega\", \"5\")\n",
       "        .then(() => maybeLoadScript(\"vega-lite\", \"5.20.1\"))\n",
       "        .then(() => maybeLoadScript(\"vega-embed\", \"6\"))\n",
       "        .catch(showError)\n",
       "        .then(() => displayChart(vegaEmbed));\n",
       "    }\n",
       "  })({\"config\": {\"title\": {\"font\": \"Georgia\", \"fontSize\": 20}, \"background\": null, \"view\": {\"width\": 300, \"height\": 300, \"stroke\": null}, \"mark\": {\"filled\": true, \"color\": \"black\", \"opacity\": 0.75}, \"axis\": {\"labelFontSize\": 14, \"titleFontSize\": 18, \"offset\": 10, \"grid\": false, \"ticks\": false, \"labelFont\": \"Georgia\", \"titleFont\": \"Georgia\"}, \"legend\": {\"titleFont\": \"Georgia\", \"labelFont\": \"Georgia\", \"titleFontSize\": 14, \"labelFontSize\": 12}, \"range\": {\"category\": {\"scheme\": \"observable10\"}}, \"scale\": {\"nice\": true}}, \"data\": {\"name\": \"data-7b7730cc0873c1442d2cfbd625b4a869\"}, \"mark\": {\"type\": \"bar\"}, \"encoding\": {\"x\": {\"bin\": true, \"field\": \"x\", \"title\": \"x\", \"type\": \"quantitative\"}, \"y\": {\"aggregate\": \"count\", \"title\": \"Frequency\", \"type\": \"quantitative\"}}, \"title\": \"Histogram (binned)\", \"$schema\": \"https://vega.github.io/schema/vega-lite/v5.20.1.json\", \"datasets\": {\"data-7b7730cc0873c1442d2cfbd625b4a869\": [{\"x\": 0.5696409891243868, \"y\": 1.948101751066978, \"category\": 0}, {\"x\": 0.14788332535457546, \"y\": -0.4366656636098075, \"category\": 1}, {\"x\": 0.14702081317058116, \"y\": 1.375042461926653, \"category\": 0}, {\"x\": -1.719837233311259, \"y\": -1.0253134724907962, \"category\": 1}, {\"x\": -0.25456313459770846, \"y\": -1.1508239561638023, \"category\": 0}, {\"x\": -0.4475680347880621, \"y\": -1.3778258533268988, \"category\": 0}, {\"x\": -1.054254033795223, \"y\": -2.4934805099746886, \"category\": 0}, {\"x\": -1.445794779209312, \"y\": 0.23331717473058777, \"category\": 0}, {\"x\": -1.7463803287571094, \"y\": 0.531613195317585, \"category\": 1}, {\"x\": -0.152803650625218, \"y\": 0.5276937059815078, \"category\": 1}, {\"x\": 1.13852895627271, \"y\": 2.1716323886857003, \"category\": 1}, {\"x\": -0.44653990888226924, \"y\": -0.12142161905677192, \"category\": 1}, {\"x\": -1.4450446693586763, \"y\": 0.42903299601103023, \"category\": 1}, {\"x\": -2.4866373642989066, \"y\": 1.7480668197134577, \"category\": 1}, {\"x\": -0.5490342649781801, \"y\": -1.0824011051695512, \"category\": 0}, {\"x\": -1.0102311648699862, \"y\": -0.2621159961501293, \"category\": 0}, {\"x\": 0.8563214915594889, \"y\": 0.5851709517279388, \"category\": 1}, {\"x\": -1.485634938717371, \"y\": -0.4370598028603004, \"category\": 0}, {\"x\": 1.3420623550804747, \"y\": 0.32111892700788763, \"category\": 0}, {\"x\": 0.5902367103036688, \"y\": 1.8747331031976489, \"category\": 1}, {\"x\": -1.2051944903299385, \"y\": -0.07188126809620575, \"category\": 0}, {\"x\": 0.37860055794255765, \"y\": 0.6866549618509158, \"category\": 0}, {\"x\": 0.10093606537781039, \"y\": -0.08741910765181796, \"category\": 1}, {\"x\": -0.1444260753819046, \"y\": 0.21967816350383806, \"category\": 0}, {\"x\": 1.7849986318050257, \"y\": -1.982790527341492, \"category\": 0}, {\"x\": -1.4641915210231708, \"y\": -0.6172679083500734, \"category\": 1}, {\"x\": -0.9316037304294957, \"y\": -0.33927674693690313, \"category\": 1}, {\"x\": -0.5036967691890594, \"y\": -0.20545607350747033, \"category\": 1}, {\"x\": -0.5049362157814667, \"y\": -1.2301957175016134, \"category\": 1}, {\"x\": -0.3946545110384385, \"y\": 1.3766330770202788, \"category\": 1}, {\"x\": 0.7998599130279974, \"y\": 0.5808886782788522, \"category\": 1}, {\"x\": -0.4271991542226808, \"y\": 0.41367793274820813, \"category\": 0}, {\"x\": -0.5370196033345981, \"y\": -0.348822072143238, \"category\": 0}, {\"x\": 0.1776558739238238, \"y\": -0.7860122699068248, \"category\": 1}, {\"x\": 0.6685324946125584, \"y\": 0.31445645333019767, \"category\": 0}, {\"x\": -1.6502542167427, \"y\": -1.6950143408229497, \"category\": 0}, {\"x\": -1.6444220867644375, \"y\": -0.6970721760277707, \"category\": 1}, {\"x\": -0.80642836612574, \"y\": -1.377318253267866, \"category\": 1}, {\"x\": -1.6796531844684506, \"y\": 0.10466734428302109, \"category\": 0}, {\"x\": 0.7283540051504137, \"y\": -1.065402482233934, \"category\": 1}, {\"x\": 0.8598211440490093, \"y\": 0.26469666226224153, \"category\": 1}, {\"x\": 0.5241584149711763, \"y\": 0.23582302611051992, \"category\": 0}, {\"x\": 0.06560604431942475, \"y\": 0.7768972389126428, \"category\": 1}, {\"x\": 1.0926998345840002, \"y\": 0.5352037125989568, \"category\": 0}, {\"x\": -0.12293682751058495, \"y\": 1.5104426663233854, \"category\": 1}, {\"x\": 0.7599014847517813, \"y\": -0.504824384252936, \"category\": 1}, {\"x\": 0.7525309497186388, \"y\": -0.6872949071708179, \"category\": 1}, {\"x\": -1.2541762017368379, \"y\": -1.5043355516054562, \"category\": 0}, {\"x\": -1.3267656986469356, \"y\": 0.3292114202540116, \"category\": 1}, {\"x\": -0.0904460040227162, \"y\": 0.09782174529445005, \"category\": 0}, {\"x\": -1.9499945464512687, \"y\": 0.1494788402246018, \"category\": 1}, {\"x\": 2.1200305967674673, \"y\": -1.259183330841302, \"category\": 0}, {\"x\": -0.47882319748521346, \"y\": 0.6288621286877312, \"category\": 0}, {\"x\": -0.2756612395691615, \"y\": -0.989811339865262, \"category\": 0}, {\"x\": -0.7573904518338406, \"y\": -0.06072858542491395, \"category\": 1}, {\"x\": -1.361420002117203, \"y\": -1.4866375931221198, \"category\": 0}, {\"x\": 0.6421887028222544, \"y\": 1.8329596517604645, \"category\": 0}, {\"x\": -0.8360070693761688, \"y\": -0.05794146272662814, \"category\": 1}, {\"x\": -0.6194961301992593, \"y\": 0.8941444023870947, \"category\": 0}, {\"x\": 0.42489298821420207, \"y\": -0.04922898159405937, \"category\": 1}, {\"x\": 2.2364683930904072, \"y\": -1.3157435365991206, \"category\": 0}, {\"x\": 0.3578311862745841, \"y\": 0.37992734761232055, \"category\": 0}, {\"x\": 2.0783329782285507, \"y\": 0.46358198225430775, \"category\": 1}, {\"x\": -0.566166483396676, \"y\": -0.4502250750068606, \"category\": 0}, {\"x\": 0.6061445548582258, \"y\": -0.2797195206459977, \"category\": 0}, {\"x\": -0.0200481431604834, \"y\": -0.4534172039968485, \"category\": 1}, {\"x\": -0.6714957020226955, \"y\": -1.6682139474243896, \"category\": 0}, {\"x\": -1.5618677674004204, \"y\": -0.10870124528621616, \"category\": 0}, {\"x\": 0.6337117389543387, \"y\": 1.596045285611461, \"category\": 0}, {\"x\": -0.675163007973733, \"y\": -0.6488735416146585, \"category\": 0}, {\"x\": 0.4906281153473025, \"y\": 0.07873591339324887, \"category\": 1}, {\"x\": -0.19942302443854945, \"y\": -1.4573555312025035, \"category\": 0}, {\"x\": 0.08392034206773323, \"y\": -0.4119687559343102, \"category\": 1}, {\"x\": -0.7584161223296862, \"y\": 0.8167294639002672, \"category\": 1}, {\"x\": 0.08425943237217183, \"y\": -1.4533370925267346, \"category\": 1}, {\"x\": 0.9328092426327738, \"y\": 0.653994241826683, \"category\": 0}, {\"x\": 2.2529162301147605, \"y\": -2.0952449456113125, \"category\": 1}, {\"x\": 0.4375370537932383, \"y\": 1.0252854338934303, \"category\": 0}, {\"x\": 0.6634905282130187, \"y\": 0.43252596108376384, \"category\": 1}, {\"x\": 1.6025746544856296, \"y\": 0.4336022950250852, \"category\": 1}, {\"x\": -1.012365829077829, \"y\": 0.8062664704640038, \"category\": 1}, {\"x\": 0.5406763928195666, \"y\": -0.24642874832571704, \"category\": 0}, {\"x\": 0.29828944406366276, \"y\": -0.43692255604007485, \"category\": 1}, {\"x\": -1.085605689825923, \"y\": 1.1263212703829177, \"category\": 1}, {\"x\": 0.06796256224414036, \"y\": 0.11131614174373392, \"category\": 1}, {\"x\": 1.2797266286976359, \"y\": 0.7511102793784332, \"category\": 1}, {\"x\": -0.4851431437312903, \"y\": -1.3762979541291964, \"category\": 1}, {\"x\": 1.1451007541116827, \"y\": -0.6054296085965521, \"category\": 0}, {\"x\": -0.15344473483949922, \"y\": 0.6330405080505115, \"category\": 0}, {\"x\": -1.3203142224144804, \"y\": -0.24543511670170512, \"category\": 1}, {\"x\": -0.5125653857363027, \"y\": -0.6163556523406826, \"category\": 0}, {\"x\": 0.0800164759418618, \"y\": 2.3591838970705536, \"category\": 1}, {\"x\": 1.0912622890572046, \"y\": -0.18969506351435897, \"category\": 1}, {\"x\": 0.3918376711491842, \"y\": -0.3313760452156946, \"category\": 1}, {\"x\": 1.5369690634170412, \"y\": 0.14473455764711207, \"category\": 1}, {\"x\": -0.5942630867489469, \"y\": 1.9812897737475494, \"category\": 0}, {\"x\": 0.06429716912092427, \"y\": 0.0924222913794913, \"category\": 0}, {\"x\": 0.5386330278928164, \"y\": -0.338510451584561, \"category\": 0}, {\"x\": -0.8056153506206573, \"y\": 1.100525208616819, \"category\": 0}, {\"x\": -1.280751387795996, \"y\": 1.0232900613683424, \"category\": 0}]}}, {\"mode\": \"vega-lite\"});\n",
       "</script>"
      ],
      "text/plain": [
       "alt.Chart(...)"
      ]
     },
     "execution_count": 9,
     "metadata": {},
     "output_type": "execute_result"
    }
   ],
   "source": [
    "alt.Chart(df, title=\"Histogram (binned)\").mark_bar().encode(\n",
    "    alt.X(\"x:Q\", bin=True, title=\"x\"),\n",
    "    alt.Y('count()', title=\"Frequency\")\n",
    ")"
   ]
  },
  {
   "cell_type": "code",
   "execution_count": null,
   "metadata": {},
   "outputs": [],
   "source": []
  }
 ],
 "metadata": {
  "kernelspec": {
   "display_name": ".venv",
   "language": "python",
   "name": "python3"
  },
  "language_info": {
   "codemirror_mode": {
    "name": "ipython",
    "version": 3
   },
   "file_extension": ".py",
   "mimetype": "text/x-python",
   "name": "python",
   "nbconvert_exporter": "python",
   "pygments_lexer": "ipython3",
   "version": "3.12.5"
  }
 },
 "nbformat": 4,
 "nbformat_minor": 2
}
