{
 "cells": [
  {
   "cell_type": "markdown",
   "id": "0b4041d0",
   "metadata": {},
   "source": [
    "# OCR Integration for Scanned Documents\n",
    "\n",
    "Optical Character Recognition (OCR) allows you to extract text from scanned documents where the text isn't embedded in the PDF. This tutorial demonstrates how to work with scanned documents."
   ]
  },
  {
   "cell_type": "code",
   "execution_count": 1,
   "id": "d177fd03",
   "metadata": {
    "execution": {
     "iopub.execute_input": "2025-04-12T15:13:59.834032Z",
     "iopub.status.busy": "2025-04-12T15:13:59.833552Z",
     "iopub.status.idle": "2025-04-12T15:13:59.839009Z",
     "shell.execute_reply": "2025-04-12T15:13:59.838213Z"
    }
   },
   "outputs": [],
   "source": [
    "#%pip install \"natural-pdf[all]\""
   ]
  },
  {
   "cell_type": "code",
   "execution_count": 2,
   "id": "ba3353e4",
   "metadata": {
    "execution": {
     "iopub.execute_input": "2025-04-12T15:13:59.841985Z",
     "iopub.status.busy": "2025-04-12T15:13:59.841731Z",
     "iopub.status.idle": "2025-04-12T15:14:07.178178Z",
     "shell.execute_reply": "2025-04-12T15:14:07.177841Z"
    }
   },
   "outputs": [
    {
     "data": {
      "text/plain": [
       "'Without OCR: 0 characters extracted'"
      ]
     },
     "execution_count": 2,
     "metadata": {},
     "output_type": "execute_result"
    }
   ],
   "source": [
    "from natural_pdf import PDF\n",
    "\n",
    "# Load a PDF\n",
    "pdf = PDF(\"https://github.com/jsoma/natural-pdf/raw/refs/heads/main/pdfs/needs-ocr.pdf\")\n",
    "page = pdf.pages[0]\n",
    "\n",
    "# Try extracting text without OCR\n",
    "text_without_ocr = page.extract_text()\n",
    "f\"Without OCR: {len(text_without_ocr)} characters extracted\""
   ]
  },
  {
   "cell_type": "markdown",
   "id": "f5e56592",
   "metadata": {},
   "source": [
    "## Enabling OCR"
   ]
  },
  {
   "cell_type": "code",
   "execution_count": 3,
   "id": "fb081c38",
   "metadata": {
    "execution": {
     "iopub.execute_input": "2025-04-12T15:14:07.179789Z",
     "iopub.status.busy": "2025-04-12T15:14:07.179455Z",
     "iopub.status.idle": "2025-04-12T15:14:07.182238Z",
     "shell.execute_reply": "2025-04-12T15:14:07.181933Z"
    }
   },
   "outputs": [
    {
     "data": {
      "text/plain": [
       "''"
      ]
     },
     "execution_count": 3,
     "metadata": {},
     "output_type": "execute_result"
    }
   ],
   "source": [
    "# Enable OCR for text extraction\n",
    "page.use_ocr = True\n",
    "\n",
    "# Extract text with OCR enabled\n",
    "text_with_ocr = page.extract_text()\n",
    "\n",
    "# Preview the extracted text\n",
    "text_with_ocr[:200] + \"...\" if len(text_with_ocr) > 200 else text_with_ocr"
   ]
  },
  {
   "cell_type": "markdown",
   "id": "60413c16",
   "metadata": {},
   "source": [
    "## Finding Text Elements with OCR"
   ]
  },
  {
   "cell_type": "code",
   "execution_count": 4,
   "id": "4f116d6f",
   "metadata": {
    "execution": {
     "iopub.execute_input": "2025-04-12T15:14:07.183485Z",
     "iopub.status.busy": "2025-04-12T15:14:07.183360Z",
     "iopub.status.idle": "2025-04-12T15:14:17.157694Z",
     "shell.execute_reply": "2025-04-12T15:14:17.157395Z"
    }
   },
   "outputs": [
    {
     "name": "stderr",
     "output_type": "stream",
     "text": [
      "\u001b[2m2025-04-12T15:14:07.218844Z\u001b[0m [\u001b[33m\u001b[1mwarning  \u001b[0m] \u001b[1mUsing CPU. Note: This module is much faster with a GPU.\u001b[0m \u001b[36mlineno\u001b[0m=\u001b[35m71\u001b[0m \u001b[36mmodule\u001b[0m=\u001b[35measyocr.easyocr\u001b[0m\n"
     ]
    },
    {
     "name": "stderr",
     "output_type": "stream",
     "text": [
      "[2025-04-12 17:14:07,218] [ WARNING] easyocr.py:71 - Using CPU. Note: This module is much faster with a GPU.\n"
     ]
    },
    {
     "data": {
      "text/plain": [
       "<ElementCollection[Mixed](count=0)>"
      ]
     },
     "execution_count": 4,
     "metadata": {},
     "output_type": "execute_result"
    }
   ],
   "source": [
    "# Convert text-as-image to text elements\n",
    "page.apply_ocr()\n",
    "\n",
    "# Select all text pieces on the page\n",
    "text_elements = page.find_all('text')\n",
    "f\"Found {len(text_elements)} text elements\"\n",
    "\n",
    "# Visualize the elements\n",
    "text_elements.highlight()"
   ]
  },
  {
   "cell_type": "markdown",
   "id": "cb7c1ef0",
   "metadata": {},
   "source": [
    "## OCR Configuration Options"
   ]
  },
  {
   "cell_type": "code",
   "execution_count": 5,
   "id": "aec701c7",
   "metadata": {
    "execution": {
     "iopub.execute_input": "2025-04-12T15:14:17.159002Z",
     "iopub.status.busy": "2025-04-12T15:14:17.158901Z",
     "iopub.status.idle": "2025-04-12T15:14:17.161474Z",
     "shell.execute_reply": "2025-04-12T15:14:17.161228Z"
    }
   },
   "outputs": [
    {
     "data": {
      "text/plain": [
       "''"
      ]
     },
     "execution_count": 5,
     "metadata": {},
     "output_type": "execute_result"
    }
   ],
   "source": [
    "# Set OCR configuration for better results\n",
    "page.ocr_config = {\n",
    "    'language': 'eng',  # English\n",
    "    'dpi': 300,         # Higher resolution\n",
    "}\n",
    "\n",
    "# Extract text with the improved configuration\n",
    "improved_text = page.extract_text()\n",
    "\n",
    "# Preview the text\n",
    "improved_text[:200] + \"...\" if len(improved_text) > 200 else improved_text"
   ]
  },
  {
   "cell_type": "markdown",
   "id": "ef87fe7d",
   "metadata": {},
   "source": [
    "## Working with Multi-language Documents"
   ]
  },
  {
   "cell_type": "code",
   "execution_count": 6,
   "id": "943b81e9",
   "metadata": {
    "execution": {
     "iopub.execute_input": "2025-04-12T15:14:17.162681Z",
     "iopub.status.busy": "2025-04-12T15:14:17.162565Z",
     "iopub.status.idle": "2025-04-12T15:14:17.165045Z",
     "shell.execute_reply": "2025-04-12T15:14:17.164702Z"
    }
   },
   "outputs": [
    {
     "data": {
      "text/plain": [
       "''"
      ]
     },
     "execution_count": 6,
     "metadata": {},
     "output_type": "execute_result"
    }
   ],
   "source": [
    "# Configure for multiple languages\n",
    "page.ocr_config = {\n",
    "    'language': 'eng+fra+deu',  # English, French, German\n",
    "    'dpi': 300\n",
    "}\n",
    "\n",
    "# Extract text with multi-language support\n",
    "multilang_text = page.extract_text()\n",
    "multilang_text[:200]"
   ]
  },
  {
   "cell_type": "markdown",
   "id": "8876c280",
   "metadata": {},
   "source": [
    "## Extracting Tables from Scanned Documents"
   ]
  },
  {
   "cell_type": "code",
   "execution_count": 7,
   "id": "d53524ef",
   "metadata": {
    "execution": {
     "iopub.execute_input": "2025-04-12T15:14:17.166341Z",
     "iopub.status.busy": "2025-04-12T15:14:17.166227Z",
     "iopub.status.idle": "2025-04-12T15:14:19.860962Z",
     "shell.execute_reply": "2025-04-12T15:14:19.860420Z"
    }
   },
   "outputs": [
    {
     "name": "stdout",
     "output_type": "stream",
     "text": [
      "\n"
     ]
    },
    {
     "name": "stdout",
     "output_type": "stream",
     "text": [
      "image 1/1 /var/folders/25/h3prywj14qb0mlkl2s8bxq5m0000gn/T/tmpkipu47zn/temp_layout_image.png: 1024x800 2 titles, 2 plain texts, 3 abandons, 1 table, 2141.2ms\n"
     ]
    },
    {
     "name": "stdout",
     "output_type": "stream",
     "text": [
      "Speed: 8.2ms preprocess, 2141.2ms inference, 0.9ms postprocess per image at shape (1, 3, 1024, 800)\n"
     ]
    }
   ],
   "source": [
    "# Enable OCR and analyze the document layout\n",
    "page.use_ocr = True\n",
    "page.analyze_layout()\n",
    "\n",
    "# Find table regions\n",
    "table_regions = page.find_all('region[type=table]')\n",
    "\n",
    "# Visualize any detected tables\n",
    "table_regions.highlight()\n",
    "\n",
    "# Extract the first table if found\n",
    "if table_regions:\n",
    "    table_data = table_regions[0].extract_table()\n",
    "    table_data\n",
    "else:\n",
    "    \"No tables found in the document\""
   ]
  },
  {
   "cell_type": "markdown",
   "id": "55d8e296",
   "metadata": {},
   "source": [
    "## Finding Form Fields in Scanned Documents"
   ]
  },
  {
   "cell_type": "code",
   "execution_count": 8,
   "id": "1750a999",
   "metadata": {
    "execution": {
     "iopub.execute_input": "2025-04-12T15:14:19.863091Z",
     "iopub.status.busy": "2025-04-12T15:14:19.862863Z",
     "iopub.status.idle": "2025-04-12T15:14:19.867060Z",
     "shell.execute_reply": "2025-04-12T15:14:19.866624Z"
    }
   },
   "outputs": [
    {
     "data": {
      "text/plain": [
       "{}"
      ]
     },
     "execution_count": 8,
     "metadata": {},
     "output_type": "execute_result"
    }
   ],
   "source": [
    "# Look for potential form labels (containing a colon)\n",
    "labels = page.find_all('text:contains(\":\")') \n",
    "\n",
    "# Visualize the labels\n",
    "labels.highlight()\n",
    "\n",
    "# Extract form data by looking to the right of each label\n",
    "form_data = {}\n",
    "for label in labels:\n",
    "    # Clean the label text\n",
    "    field_name = label.text.strip().rstrip(':')\n",
    "    \n",
    "    # Find the value to the right\n",
    "    value_element = label.right(width=200)\n",
    "    value = value_element.extract_text().strip()\n",
    "    \n",
    "    # Add to our dictionary\n",
    "    form_data[field_name] = value\n",
    "\n",
    "# Display the extracted data\n",
    "form_data"
   ]
  },
  {
   "cell_type": "markdown",
   "id": "a1525b2b",
   "metadata": {},
   "source": [
    "## Combining OCR with Layout Analysis"
   ]
  },
  {
   "cell_type": "code",
   "execution_count": 9,
   "id": "d4aa2649",
   "metadata": {
    "execution": {
     "iopub.execute_input": "2025-04-12T15:14:19.868644Z",
     "iopub.status.busy": "2025-04-12T15:14:19.868495Z",
     "iopub.status.idle": "2025-04-12T15:14:21.677877Z",
     "shell.execute_reply": "2025-04-12T15:14:21.677592Z"
    }
   },
   "outputs": [
    {
     "name": "stdout",
     "output_type": "stream",
     "text": [
      "\n"
     ]
    },
    {
     "name": "stdout",
     "output_type": "stream",
     "text": [
      "image 1/1 /var/folders/25/h3prywj14qb0mlkl2s8bxq5m0000gn/T/tmpezhw3fc2/temp_layout_image.png: 1024x800 2 titles, 2 plain texts, 3 abandons, 1 table, 1728.8ms\n"
     ]
    },
    {
     "name": "stdout",
     "output_type": "stream",
     "text": [
      "Speed: 4.7ms preprocess, 1728.8ms inference, 0.6ms postprocess per image at shape (1, 3, 1024, 800)\n"
     ]
    },
    {
     "data": {
      "text/plain": [
       "[]"
      ]
     },
     "execution_count": 9,
     "metadata": {},
     "output_type": "execute_result"
    }
   ],
   "source": [
    "# Apply OCR and analyze layout\n",
    "page.use_ocr = True\n",
    "page.analyze_layout()\n",
    "\n",
    "# Find document structure elements\n",
    "headings = page.find_all('region[type=heading]')\n",
    "paragraphs = page.find_all('region[type=paragraph]')\n",
    "\n",
    "# Visualize the structure\n",
    "headings.highlight(color=\"red\", label=\"Headings\")\n",
    "paragraphs.highlight(color=\"blue\", label=\"Paragraphs\")\n",
    "\n",
    "# Create a simple document outline\n",
    "document_outline = []\n",
    "for heading in headings:\n",
    "    heading_text = heading.extract_text()\n",
    "    document_outline.append(heading_text)\n",
    "\n",
    "document_outline"
   ]
  },
  {
   "cell_type": "markdown",
   "id": "b4a4bf18",
   "metadata": {},
   "source": [
    "## Working with Multiple Pages"
   ]
  },
  {
   "cell_type": "code",
   "execution_count": 10,
   "id": "c906862f",
   "metadata": {
    "execution": {
     "iopub.execute_input": "2025-04-12T15:14:21.679264Z",
     "iopub.status.busy": "2025-04-12T15:14:21.679161Z",
     "iopub.status.idle": "2025-04-12T15:14:21.681943Z",
     "shell.execute_reply": "2025-04-12T15:14:21.681692Z"
    }
   },
   "outputs": [
    {
     "data": {
      "text/plain": [
       "['Page 1: ...']"
      ]
     },
     "execution_count": 10,
     "metadata": {},
     "output_type": "execute_result"
    }
   ],
   "source": [
    "# Process all pages in the document\n",
    "all_text = []\n",
    "\n",
    "for i, page in enumerate(pdf.pages):\n",
    "    # Enable OCR for each page\n",
    "    page.use_ocr = True\n",
    "    \n",
    "    # Extract text\n",
    "    page_text = page.extract_text()\n",
    "    \n",
    "    # Add to our collection with page number\n",
    "    all_text.append(f\"Page {i+1}: {page_text[:100]}...\")\n",
    "\n",
    "# Show the first few pages\n",
    "all_text"
   ]
  },
  {
   "cell_type": "markdown",
   "id": "377a8fea",
   "metadata": {},
   "source": [
    "## Saving PDFs with Searchable Text\n",
    "\n",
    "After applying OCR to the pages of a PDF (e.g., using `pdf.apply_ocr_to_pages()`), you can save a new version of the PDF where the recognized text is embedded as an invisible layer. This makes the text searchable and copyable in standard PDF viewers.\n",
    "\n",
    "Use the `save_searchable()` method on the `PDF` object:"
   ]
  },
  {
   "cell_type": "code",
   "execution_count": 11,
   "id": "2dccc3b5",
   "metadata": {
    "execution": {
     "iopub.execute_input": "2025-04-12T15:14:21.683218Z",
     "iopub.status.busy": "2025-04-12T15:14:21.683124Z",
     "iopub.status.idle": "2025-04-12T15:14:32.452133Z",
     "shell.execute_reply": "2025-04-12T15:14:32.451835Z"
    }
   },
   "outputs": [
    {
     "name": "stderr",
     "output_type": "stream",
     "text": [
      "\u001b[2m2025-04-12T15:14:21.910988Z\u001b[0m [\u001b[33m\u001b[1mwarning  \u001b[0m] \u001b[1mUsing CPU. Note: This module is much faster with a GPU.\u001b[0m \u001b[36mlineno\u001b[0m=\u001b[35m71\u001b[0m \u001b[36mmodule\u001b[0m=\u001b[35measyocr.easyocr\u001b[0m\n"
     ]
    },
    {
     "name": "stderr",
     "output_type": "stream",
     "text": [
      "[2025-04-12 17:14:21,910] [ WARNING] easyocr.py:71 - Using CPU. Note: This module is much faster with a GPU.\n"
     ]
    },
    {
     "name": "stdout",
     "output_type": "stream",
     "text": [
      "Applying OCR...\n"
     ]
    },
    {
     "name": "stdout",
     "output_type": "stream",
     "text": [
      "Saving searchable PDF to needs-ocr-searchable.pdf...\n"
     ]
    },
    {
     "name": "stderr",
     "output_type": "stream",
     "text": [
      "\u001b[2m2025-04-12T15:14:32.177661Z\u001b[0m [\u001b[33m\u001b[1mwarning  \u001b[0m] \u001b[1mPage 1 has no OCR elements (text[source=ocr]) to generate hOCR from.\u001b[0m \u001b[36mlineno\u001b[0m=\u001b[35m86\u001b[0m \u001b[36mmodule\u001b[0m=\u001b[35mnatural_pdf.exporters.searchable_pdf\u001b[0m \u001b[36mpageno\u001b[0m=\u001b[35mNone\u001b[0m\n"
     ]
    },
    {
     "name": "stderr",
     "output_type": "stream",
     "text": [
      "[2025-04-12 17:14:32,177] [ WARNING] searchable_pdf.py:86 - Page 1 has no OCR elements (text[source=ocr]) to generate hOCR from.\n"
     ]
    },
    {
     "name": "stdout",
     "output_type": "stream",
     "text": [
      "Done. Check needs-ocr-searchable.pdf\n"
     ]
    }
   ],
   "source": [
    "from natural_pdf import PDF\n",
    "\n",
    "input_pdf_path = \"https://github.com/jsoma/natural-pdf/raw/refs/heads/main/pdfs/needs-ocr.pdf\"\n",
    "output_pdf_path = \"needs-ocr-searchable.pdf\"\n",
    "\n",
    "# Load the PDF\n",
    "pdf = PDF(input_pdf_path)\n",
    "\n",
    "# Apply OCR to all pages (this generates the text elements needed for saving)\n",
    "# Replace 'easyocr' with 'paddle' or 'surya' if desired\n",
    "print(\"Applying OCR...\")\n",
    "pdf.apply_ocr_to_pages(engine='easyocr') \n",
    "\n",
    "# Save the searchable version\n",
    "print(f\"Saving searchable PDF to {output_pdf_path}...\")\n",
    "pdf.save_searchable(output_pdf_path)\n",
    "\n",
    "print(\"Done. Check needs-ocr-searchable.pdf\")\n",
    "\n",
    "# Optional: Close the original PDF\n",
    "pdf.close()"
   ]
  },
  {
   "cell_type": "markdown",
   "id": "f9566293",
   "metadata": {},
   "source": [
    "This creates `needs-ocr-searchable.pdf`, which looks identical to the original but now has a text layer corresponding to the OCR results. You can adjust the rendering resolution used during saving with the `dpi` parameter (default is 300).\n",
    "\n",
    "OCR integration enables you to work with scanned documents, historical archives, and image-based PDFs that don't have embedded text. By combining OCR with natural-pdf's layout analysis capabilities, you can turn any document into structured, searchable data. "
   ]
  }
 ],
 "metadata": {
  "jupytext": {
   "cell_metadata_filter": "-all",
   "main_language": "python",
   "notebook_metadata_filter": "-all",
   "text_representation": {
    "extension": ".md",
    "format_name": "markdown"
   }
  },
  "language_info": {
   "codemirror_mode": {
    "name": "ipython",
    "version": 3
   },
   "file_extension": ".py",
   "mimetype": "text/x-python",
   "name": "python",
   "nbconvert_exporter": "python",
   "pygments_lexer": "ipython3",
   "version": "3.10.13"
  }
 },
 "nbformat": 4,
 "nbformat_minor": 5
}
