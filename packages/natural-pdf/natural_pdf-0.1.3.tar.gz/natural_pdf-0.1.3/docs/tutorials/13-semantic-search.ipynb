{
 "cells": [
  {
   "cell_type": "markdown",
   "id": "b4040e6b",
   "metadata": {},
   "source": [
    "# Semantic Search Across Multiple Documents\n",
    "\n",
    "When working with a collection of PDFs, you might need to find information relevant to a specific query across all documents, not just within a single one. This tutorial demonstrates how to perform semantic search over a `PDFCollection`."
   ]
  },
  {
   "cell_type": "code",
   "execution_count": 1,
   "id": "d15ffd70",
   "metadata": {
    "execution": {
     "iopub.execute_input": "2025-04-12T15:13:59.833481Z",
     "iopub.status.busy": "2025-04-12T15:13:59.833186Z",
     "iopub.status.idle": "2025-04-12T15:13:59.838158Z",
     "shell.execute_reply": "2025-04-12T15:13:59.837555Z"
    }
   },
   "outputs": [],
   "source": [
    "#%pip install \"natural-pdf[all]\"\n",
    "#%pip install \"natural-pdf[search]\"  # Ensure search dependencies are installed"
   ]
  },
  {
   "cell_type": "code",
   "execution_count": 2,
   "id": "a17dc3fa",
   "metadata": {
    "execution": {
     "iopub.execute_input": "2025-04-12T15:13:59.841150Z",
     "iopub.status.busy": "2025-04-12T15:13:59.840825Z",
     "iopub.status.idle": "2025-04-12T15:14:07.680126Z",
     "shell.execute_reply": "2025-04-12T15:14:07.679749Z"
    }
   },
   "outputs": [
    {
     "name": "stderr",
     "output_type": "stream",
     "text": [
      "natural_pdf.collections.pdf_collection - INFO - Initializing 2 PDF objects...\n"
     ]
    },
    {
     "name": "stderr",
     "output_type": "stream",
     "text": [
      "\u001b[2m2025-04-12T15:14:06.596090Z\u001b[0m [\u001b[32m\u001b[1minfo     \u001b[0m] \u001b[1mInitializing 2 PDF objects... \u001b[0m \u001b[36mlineno\u001b[0m=\u001b[35m145\u001b[0m \u001b[36mmessage\u001b[0m=\u001b[35mInitializing 2 PDF objects...\u001b[0m \u001b[36mmodule\u001b[0m=\u001b[35mnatural_pdf.collections.pdf_collection\u001b[0m\n"
     ]
    },
    {
     "name": "stderr",
     "output_type": "stream",
     "text": [
      "[2025-04-12 17:14:06,595] [    INFO] pdf_collection.py:145 - Initializing 2 PDF objects...\n"
     ]
    },
    {
     "name": "stderr",
     "output_type": "stream",
     "text": [
      "\r",
      "Loading PDFs:   0%|                                              | 0/2 [00:00<?, ?it/s]"
     ]
    },
    {
     "name": "stderr",
     "output_type": "stream",
     "text": [
      "natural_pdf.core.pdf - INFO - Downloading PDF from URL: https://github.com/jsoma/natural-pdf/raw/refs/heads/main/pdfs/01-practice.pdf\n"
     ]
    },
    {
     "name": "stderr",
     "output_type": "stream",
     "text": [
      "\u001b[2m2025-04-12T15:14:06.612218Z\u001b[0m [\u001b[32m\u001b[1minfo     \u001b[0m] \u001b[1mDownloading PDF from URL: https://github.com/jsoma/natural-pdf/raw/refs/heads/main/pdfs/01-practice.pdf\u001b[0m \u001b[36mlineno\u001b[0m=\u001b[35m80\u001b[0m \u001b[36mmessage\u001b[0m=\u001b[35mDownloading PDF from URL: https://github.com/jsoma/natural-pdf/raw/refs/heads/main/pdfs/01-practice.pdf\u001b[0m \u001b[36mmodule\u001b[0m=\u001b[35mnatural_pdf.core.pdf\u001b[0m\n"
     ]
    },
    {
     "name": "stderr",
     "output_type": "stream",
     "text": [
      "[2025-04-12 17:14:06,611] [    INFO] pdf.py:80 - Downloading PDF from URL: https://github.com/jsoma/natural-pdf/raw/refs/heads/main/pdfs/01-practice.pdf\n"
     ]
    },
    {
     "name": "stderr",
     "output_type": "stream",
     "text": [
      "natural_pdf.core.pdf - INFO - PDF downloaded to temporary file: /var/folders/25/h3prywj14qb0mlkl2s8bxq5m0000gn/T/tmph8828b4e.pdf\n"
     ]
    },
    {
     "name": "stderr",
     "output_type": "stream",
     "text": [
      "\u001b[2m2025-04-12T15:14:07.109485Z\u001b[0m [\u001b[32m\u001b[1minfo     \u001b[0m] \u001b[1mPDF downloaded to temporary file: /var/folders/25/h3prywj14qb0mlkl2s8bxq5m0000gn/T/tmph8828b4e.pdf\u001b[0m \u001b[36mlineno\u001b[0m=\u001b[35m93\u001b[0m \u001b[36mmessage\u001b[0m=\u001b[35mPDF downloaded to temporary file: /var/folders/25/h3prywj14qb0mlkl2s8bxq5m0000gn/T/tmph8828b4e.pdf\u001b[0m \u001b[36mmodule\u001b[0m=\u001b[35mnatural_pdf.core.pdf\u001b[0m\n"
     ]
    },
    {
     "name": "stderr",
     "output_type": "stream",
     "text": [
      "[2025-04-12 17:14:07,108] [    INFO] pdf.py:93 - PDF downloaded to temporary file: /var/folders/25/h3prywj14qb0mlkl2s8bxq5m0000gn/T/tmph8828b4e.pdf\n"
     ]
    },
    {
     "name": "stderr",
     "output_type": "stream",
     "text": [
      "natural_pdf.core.pdf - INFO - Initializing PDF from /var/folders/25/h3prywj14qb0mlkl2s8bxq5m0000gn/T/tmph8828b4e.pdf\n"
     ]
    },
    {
     "name": "stderr",
     "output_type": "stream",
     "text": [
      "\u001b[2m2025-04-12T15:14:07.110605Z\u001b[0m [\u001b[32m\u001b[1minfo     \u001b[0m] \u001b[1mInitializing PDF from /var/folders/25/h3prywj14qb0mlkl2s8bxq5m0000gn/T/tmph8828b4e.pdf\u001b[0m \u001b[36mlineno\u001b[0m=\u001b[35m106\u001b[0m \u001b[36mmessage\u001b[0m=\u001b[35mInitializing PDF from /var/folders/25/h3prywj14qb0mlkl2s8bxq5m0000gn/T/tmph8828b4e.pdf\u001b[0m \u001b[36mmodule\u001b[0m=\u001b[35mnatural_pdf.core.pdf\u001b[0m\n"
     ]
    },
    {
     "name": "stderr",
     "output_type": "stream",
     "text": [
      "[2025-04-12 17:14:07,110] [    INFO] pdf.py:106 - Initializing PDF from /var/folders/25/h3prywj14qb0mlkl2s8bxq5m0000gn/T/tmph8828b4e.pdf\n"
     ]
    },
    {
     "name": "stderr",
     "output_type": "stream",
     "text": [
      "natural_pdf.ocr.ocr_manager - INFO - OCRManager initialized.\n"
     ]
    },
    {
     "name": "stderr",
     "output_type": "stream",
     "text": [
      "\u001b[2m2025-04-12T15:14:07.114379Z\u001b[0m [\u001b[32m\u001b[1minfo     \u001b[0m] \u001b[1mOCRManager initialized.       \u001b[0m \u001b[36mlineno\u001b[0m=\u001b[35m38\u001b[0m \u001b[36mmessage\u001b[0m=\u001b[35mOCRManager initialized.\u001b[0m \u001b[36mmodule\u001b[0m=\u001b[35mnatural_pdf.ocr.ocr_manager\u001b[0m\n"
     ]
    },
    {
     "name": "stderr",
     "output_type": "stream",
     "text": [
      "[2025-04-12 17:14:07,113] [    INFO] ocr_manager.py:38 - OCRManager initialized.\n"
     ]
    },
    {
     "name": "stderr",
     "output_type": "stream",
     "text": [
      "natural_pdf.analyzers.layout.layout_manager - INFO - LayoutManager initialized. Available engines: ['yolo', 'tatr', 'paddle', 'surya', 'docling']\n"
     ]
    },
    {
     "name": "stderr",
     "output_type": "stream",
     "text": [
      "\u001b[2m2025-04-12T15:14:07.115477Z\u001b[0m [\u001b[32m\u001b[1minfo     \u001b[0m] \u001b[1mLayoutManager initialized. Available engines: ['yolo', 'tatr', 'paddle', 'surya', 'docling']\u001b[0m \u001b[36mlineno\u001b[0m=\u001b[35m68\u001b[0m \u001b[36mmessage\u001b[0m=\u001b[35mLayoutManager initialized. Available engines: ['yolo', 'tatr', 'paddle', 'surya', 'docling']\u001b[0m \u001b[36mmodule\u001b[0m=\u001b[35mnatural_pdf.analyzers.layout.layout_manager\u001b[0m\n"
     ]
    },
    {
     "name": "stderr",
     "output_type": "stream",
     "text": [
      "[2025-04-12 17:14:07,115] [    INFO] layout_manager.py:68 - LayoutManager initialized. Available engines: ['yolo', 'tatr', 'paddle', 'surya', 'docling']\n"
     ]
    },
    {
     "name": "stderr",
     "output_type": "stream",
     "text": [
      "natural_pdf.core.highlighting_service - INFO - HighlightingService initialized with ColorManager.\n"
     ]
    },
    {
     "name": "stderr",
     "output_type": "stream",
     "text": [
      "\u001b[2m2025-04-12T15:14:07.116489Z\u001b[0m [\u001b[32m\u001b[1minfo     \u001b[0m] \u001b[1mHighlightingService initialized with ColorManager.\u001b[0m \u001b[36mlineno\u001b[0m=\u001b[35m286\u001b[0m \u001b[36mmessage\u001b[0m=\u001b[35mHighlightingService initialized with ColorManager.\u001b[0m \u001b[36mmodule\u001b[0m=\u001b[35mnatural_pdf.core.highlighting_service\u001b[0m\n"
     ]
    },
    {
     "name": "stderr",
     "output_type": "stream",
     "text": [
      "[2025-04-12 17:14:07,116] [    INFO] highlighting_service.py:286 - HighlightingService initialized with ColorManager.\n"
     ]
    },
    {
     "name": "stderr",
     "output_type": "stream",
     "text": [
      "natural_pdf.core.pdf - INFO - Initialized HighlightingService.\n"
     ]
    },
    {
     "name": "stderr",
     "output_type": "stream",
     "text": [
      "\u001b[2m2025-04-12T15:14:07.119278Z\u001b[0m [\u001b[32m\u001b[1minfo     \u001b[0m] \u001b[1mInitialized HighlightingService.\u001b[0m \u001b[36mlineno\u001b[0m=\u001b[35m141\u001b[0m \u001b[36mmessage\u001b[0m=\u001b[35mInitialized HighlightingService.\u001b[0m \u001b[36mmodule\u001b[0m=\u001b[35mnatural_pdf.core.pdf\u001b[0m\n"
     ]
    },
    {
     "name": "stderr",
     "output_type": "stream",
     "text": [
      "[2025-04-12 17:14:07,118] [    INFO] pdf.py:141 - Initialized HighlightingService.\n"
     ]
    },
    {
     "name": "stderr",
     "output_type": "stream",
     "text": [
      "natural_pdf.core.pdf - INFO - PDF 'https://github.com/jsoma/natural-pdf/raw/refs/heads/main/pdfs/01-practice.pdf' initialized with 1 pages.\n"
     ]
    },
    {
     "name": "stderr",
     "output_type": "stream",
     "text": [
      "\u001b[2m2025-04-12T15:14:07.120426Z\u001b[0m [\u001b[32m\u001b[1minfo     \u001b[0m] \u001b[1mPDF 'https://github.com/jsoma/natural-pdf/raw/refs/heads/main/pdfs/01-practice.pdf' initialized with 1 pages.\u001b[0m \u001b[36mlineno\u001b[0m=\u001b[35m142\u001b[0m \u001b[36mmessage\u001b[0m=\u001b[35mPDF 'https://github.com/jsoma/natural-pdf/raw/refs/heads/main/pdfs/01-practice.pdf' initialized with 1 pages.\u001b[0m \u001b[36mmodule\u001b[0m=\u001b[35mnatural_pdf.core.pdf\u001b[0m\n"
     ]
    },
    {
     "name": "stderr",
     "output_type": "stream",
     "text": [
      "[2025-04-12 17:14:07,120] [    INFO] pdf.py:142 - PDF 'https://github.com/jsoma/natural-pdf/raw/refs/heads/main/pdfs/01-practice.pdf' initialized with 1 pages.\n"
     ]
    },
    {
     "name": "stderr",
     "output_type": "stream",
     "text": [
      "\r",
      "Loading PDFs:  50%|███████████████████                   | 1/2 [00:00<00:00,  1.96it/s]"
     ]
    },
    {
     "name": "stderr",
     "output_type": "stream",
     "text": [
      "natural_pdf.core.pdf - INFO - Downloading PDF from URL: https://github.com/jsoma/natural-pdf/raw/refs/heads/main/pdfs/Atlanta_Public_Schools_GA_sample.pdf\n"
     ]
    },
    {
     "name": "stderr",
     "output_type": "stream",
     "text": [
      "\u001b[2m2025-04-12T15:14:07.121832Z\u001b[0m [\u001b[32m\u001b[1minfo     \u001b[0m] \u001b[1mDownloading PDF from URL: https://github.com/jsoma/natural-pdf/raw/refs/heads/main/pdfs/Atlanta_Public_Schools_GA_sample.pdf\u001b[0m \u001b[36mlineno\u001b[0m=\u001b[35m80\u001b[0m \u001b[36mmessage\u001b[0m=\u001b[35mDownloading PDF from URL: https://github.com/jsoma/natural-pdf/raw/refs/heads/main/pdfs/Atlanta_Public_Schools_GA_sample.pdf\u001b[0m \u001b[36mmodule\u001b[0m=\u001b[35mnatural_pdf.core.pdf\u001b[0m\n"
     ]
    },
    {
     "name": "stderr",
     "output_type": "stream",
     "text": [
      "[2025-04-12 17:14:07,121] [    INFO] pdf.py:80 - Downloading PDF from URL: https://github.com/jsoma/natural-pdf/raw/refs/heads/main/pdfs/Atlanta_Public_Schools_GA_sample.pdf\n"
     ]
    },
    {
     "name": "stderr",
     "output_type": "stream",
     "text": [
      "natural_pdf.core.pdf - INFO - PDF downloaded to temporary file: /var/folders/25/h3prywj14qb0mlkl2s8bxq5m0000gn/T/tmpu4c35r4r.pdf\n"
     ]
    },
    {
     "name": "stderr",
     "output_type": "stream",
     "text": [
      "\u001b[2m2025-04-12T15:14:07.669352Z\u001b[0m [\u001b[32m\u001b[1minfo     \u001b[0m] \u001b[1mPDF downloaded to temporary file: /var/folders/25/h3prywj14qb0mlkl2s8bxq5m0000gn/T/tmpu4c35r4r.pdf\u001b[0m \u001b[36mlineno\u001b[0m=\u001b[35m93\u001b[0m \u001b[36mmessage\u001b[0m=\u001b[35mPDF downloaded to temporary file: /var/folders/25/h3prywj14qb0mlkl2s8bxq5m0000gn/T/tmpu4c35r4r.pdf\u001b[0m \u001b[36mmodule\u001b[0m=\u001b[35mnatural_pdf.core.pdf\u001b[0m\n"
     ]
    },
    {
     "name": "stderr",
     "output_type": "stream",
     "text": [
      "[2025-04-12 17:14:07,668] [    INFO] pdf.py:93 - PDF downloaded to temporary file: /var/folders/25/h3prywj14qb0mlkl2s8bxq5m0000gn/T/tmpu4c35r4r.pdf\n"
     ]
    },
    {
     "name": "stderr",
     "output_type": "stream",
     "text": [
      "natural_pdf.core.pdf - INFO - Initializing PDF from /var/folders/25/h3prywj14qb0mlkl2s8bxq5m0000gn/T/tmpu4c35r4r.pdf\n"
     ]
    },
    {
     "name": "stderr",
     "output_type": "stream",
     "text": [
      "\u001b[2m2025-04-12T15:14:07.670237Z\u001b[0m [\u001b[32m\u001b[1minfo     \u001b[0m] \u001b[1mInitializing PDF from /var/folders/25/h3prywj14qb0mlkl2s8bxq5m0000gn/T/tmpu4c35r4r.pdf\u001b[0m \u001b[36mlineno\u001b[0m=\u001b[35m106\u001b[0m \u001b[36mmessage\u001b[0m=\u001b[35mInitializing PDF from /var/folders/25/h3prywj14qb0mlkl2s8bxq5m0000gn/T/tmpu4c35r4r.pdf\u001b[0m \u001b[36mmodule\u001b[0m=\u001b[35mnatural_pdf.core.pdf\u001b[0m\n"
     ]
    },
    {
     "name": "stderr",
     "output_type": "stream",
     "text": [
      "[2025-04-12 17:14:07,670] [    INFO] pdf.py:106 - Initializing PDF from /var/folders/25/h3prywj14qb0mlkl2s8bxq5m0000gn/T/tmpu4c35r4r.pdf\n"
     ]
    },
    {
     "name": "stderr",
     "output_type": "stream",
     "text": [
      "natural_pdf.ocr.ocr_manager - INFO - OCRManager initialized.\n"
     ]
    },
    {
     "name": "stderr",
     "output_type": "stream",
     "text": [
      "\u001b[2m2025-04-12T15:14:07.672041Z\u001b[0m [\u001b[32m\u001b[1minfo     \u001b[0m] \u001b[1mOCRManager initialized.       \u001b[0m \u001b[36mlineno\u001b[0m=\u001b[35m38\u001b[0m \u001b[36mmessage\u001b[0m=\u001b[35mOCRManager initialized.\u001b[0m \u001b[36mmodule\u001b[0m=\u001b[35mnatural_pdf.ocr.ocr_manager\u001b[0m\n"
     ]
    },
    {
     "name": "stderr",
     "output_type": "stream",
     "text": [
      "[2025-04-12 17:14:07,671] [    INFO] ocr_manager.py:38 - OCRManager initialized.\n"
     ]
    },
    {
     "name": "stderr",
     "output_type": "stream",
     "text": [
      "natural_pdf.analyzers.layout.layout_manager - INFO - LayoutManager initialized. Available engines: ['yolo', 'tatr', 'paddle', 'surya', 'docling']\n"
     ]
    },
    {
     "name": "stderr",
     "output_type": "stream",
     "text": [
      "\u001b[2m2025-04-12T15:14:07.672788Z\u001b[0m [\u001b[32m\u001b[1minfo     \u001b[0m] \u001b[1mLayoutManager initialized. Available engines: ['yolo', 'tatr', 'paddle', 'surya', 'docling']\u001b[0m \u001b[36mlineno\u001b[0m=\u001b[35m68\u001b[0m \u001b[36mmessage\u001b[0m=\u001b[35mLayoutManager initialized. Available engines: ['yolo', 'tatr', 'paddle', 'surya', 'docling']\u001b[0m \u001b[36mmodule\u001b[0m=\u001b[35mnatural_pdf.analyzers.layout.layout_manager\u001b[0m\n"
     ]
    },
    {
     "name": "stderr",
     "output_type": "stream",
     "text": [
      "[2025-04-12 17:14:07,672] [    INFO] layout_manager.py:68 - LayoutManager initialized. Available engines: ['yolo', 'tatr', 'paddle', 'surya', 'docling']\n"
     ]
    },
    {
     "name": "stderr",
     "output_type": "stream",
     "text": [
      "natural_pdf.core.highlighting_service - INFO - HighlightingService initialized with ColorManager.\n"
     ]
    },
    {
     "name": "stderr",
     "output_type": "stream",
     "text": [
      "\u001b[2m2025-04-12T15:14:07.673355Z\u001b[0m [\u001b[32m\u001b[1minfo     \u001b[0m] \u001b[1mHighlightingService initialized with ColorManager.\u001b[0m \u001b[36mlineno\u001b[0m=\u001b[35m286\u001b[0m \u001b[36mmessage\u001b[0m=\u001b[35mHighlightingService initialized with ColorManager.\u001b[0m \u001b[36mmodule\u001b[0m=\u001b[35mnatural_pdf.core.highlighting_service\u001b[0m\n"
     ]
    },
    {
     "name": "stderr",
     "output_type": "stream",
     "text": [
      "[2025-04-12 17:14:07,673] [    INFO] highlighting_service.py:286 - HighlightingService initialized with ColorManager.\n"
     ]
    },
    {
     "name": "stderr",
     "output_type": "stream",
     "text": [
      "natural_pdf.core.pdf - INFO - Initialized HighlightingService.\n"
     ]
    },
    {
     "name": "stderr",
     "output_type": "stream",
     "text": [
      "\u001b[2m2025-04-12T15:14:07.676348Z\u001b[0m [\u001b[32m\u001b[1minfo     \u001b[0m] \u001b[1mInitialized HighlightingService.\u001b[0m \u001b[36mlineno\u001b[0m=\u001b[35m141\u001b[0m \u001b[36mmessage\u001b[0m=\u001b[35mInitialized HighlightingService.\u001b[0m \u001b[36mmodule\u001b[0m=\u001b[35mnatural_pdf.core.pdf\u001b[0m\n"
     ]
    },
    {
     "name": "stderr",
     "output_type": "stream",
     "text": [
      "[2025-04-12 17:14:07,676] [    INFO] pdf.py:141 - Initialized HighlightingService.\n"
     ]
    },
    {
     "name": "stderr",
     "output_type": "stream",
     "text": [
      "natural_pdf.core.pdf - INFO - PDF 'https://github.com/jsoma/natural-pdf/raw/refs/heads/main/pdfs/Atlanta_Public_Schools_GA_sample.pdf' initialized with 5 pages.\n"
     ]
    },
    {
     "name": "stderr",
     "output_type": "stream",
     "text": [
      "\u001b[2m2025-04-12T15:14:07.676969Z\u001b[0m [\u001b[32m\u001b[1minfo     \u001b[0m] \u001b[1mPDF 'https://github.com/jsoma/natural-pdf/raw/refs/heads/main/pdfs/Atlanta_Public_Schools_GA_sample.pdf' initialized with 5 pages.\u001b[0m \u001b[36mlineno\u001b[0m=\u001b[35m142\u001b[0m \u001b[36mmessage\u001b[0m=\u001b[35mPDF 'https://github.com/jsoma/natural-pdf/raw/refs/heads/main/pdfs/Atlanta_Public_Schools_GA_sample.pdf' initialized with 5 pages.\u001b[0m \u001b[36mmodule\u001b[0m=\u001b[35mnatural_pdf.core.pdf\u001b[0m\n"
     ]
    },
    {
     "name": "stderr",
     "output_type": "stream",
     "text": [
      "[2025-04-12 17:14:07,676] [    INFO] pdf.py:142 - PDF 'https://github.com/jsoma/natural-pdf/raw/refs/heads/main/pdfs/Atlanta_Public_Schools_GA_sample.pdf' initialized with 5 pages.\n"
     ]
    },
    {
     "name": "stderr",
     "output_type": "stream",
     "text": [
      "\r",
      "Loading PDFs: 100%|██████████████████████████████████████| 2/2 [00:01<00:00,  1.86it/s]"
     ]
    },
    {
     "name": "stderr",
     "output_type": "stream",
     "text": [
      "\r",
      "Loading PDFs: 100%|██████████████████████████████████████| 2/2 [00:01<00:00,  1.88it/s]"
     ]
    },
    {
     "name": "stderr",
     "output_type": "stream",
     "text": [
      "\n",
      "natural_pdf.collections.pdf_collection - INFO - Successfully initialized 2 PDFs. Failed: 0\n"
     ]
    },
    {
     "name": "stderr",
     "output_type": "stream",
     "text": [
      "\u001b[2m2025-04-12T15:14:07.678088Z\u001b[0m [\u001b[32m\u001b[1minfo     \u001b[0m] \u001b[1mSuccessfully initialized 2 PDFs. Failed: 0\u001b[0m \u001b[36mlineno\u001b[0m=\u001b[35m154\u001b[0m \u001b[36mmessage\u001b[0m=\u001b[35mSuccessfully initialized 2 PDFs. Failed: 0\u001b[0m \u001b[36mmodule\u001b[0m=\u001b[35mnatural_pdf.collections.pdf_collection\u001b[0m\n"
     ]
    },
    {
     "name": "stderr",
     "output_type": "stream",
     "text": [
      "[2025-04-12 17:14:07,677] [    INFO] pdf_collection.py:154 - Successfully initialized 2 PDFs. Failed: 0\n"
     ]
    },
    {
     "name": "stdout",
     "output_type": "stream",
     "text": [
      "Created collection with 2 PDFs.\n"
     ]
    }
   ],
   "source": [
    "import logging\n",
    "import natural_pdf\n",
    "\n",
    "# Optional: Configure logging to see progress\n",
    "natural_pdf.configure_logging(level=logging.INFO)\n",
    "\n",
    "# Define the paths to your PDF files\n",
    "pdf_paths = [\n",
    "    \"https://github.com/jsoma/natural-pdf/raw/refs/heads/main/pdfs/01-practice.pdf\",\n",
    "    \"https://github.com/jsoma/natural-pdf/raw/refs/heads/main/pdfs/Atlanta_Public_Schools_GA_sample.pdf\"\n",
    "    # Add more PDF paths as needed\n",
    "]\n",
    "\n",
    "# Create a PDFCollection\n",
    "collection = natural_pdf.PDFCollection(pdf_paths)\n",
    "print(f\"Created collection with {len(collection.pdfs)} PDFs.\")"
   ]
  },
  {
   "cell_type": "markdown",
   "id": "1c9abdf4",
   "metadata": {},
   "source": [
    "## Initializing the Search Index\n",
    "\n",
    "Before performing a search, you need to initialize the search capabilities for the collection. This involves processing the documents and building an index."
   ]
  },
  {
   "cell_type": "code",
   "execution_count": 3,
   "id": "b3fe0171",
   "metadata": {
    "execution": {
     "iopub.execute_input": "2025-04-12T15:14:07.683079Z",
     "iopub.status.busy": "2025-04-12T15:14:07.681919Z",
     "iopub.status.idle": "2025-04-12T15:14:11.210850Z",
     "shell.execute_reply": "2025-04-12T15:14:11.210441Z"
    }
   },
   "outputs": [
    {
     "name": "stderr",
     "output_type": "stream",
     "text": [
      "natural_pdf.search.searchable_mixin - INFO - Using default collection name 'default_collection' for in-memory service.\n"
     ]
    },
    {
     "name": "stderr",
     "output_type": "stream",
     "text": [
      "\u001b[2m2025-04-12T15:14:07.684286Z\u001b[0m [\u001b[32m\u001b[1minfo     \u001b[0m] \u001b[1mUsing default collection name 'default_collection' for in-memory service.\u001b[0m \u001b[36mlineno\u001b[0m=\u001b[35m104\u001b[0m \u001b[36mmessage\u001b[0m=\u001b[35mUsing default collection name 'default_collection' for in-memory service.\u001b[0m \u001b[36mmodule\u001b[0m=\u001b[35mnatural_pdf.search.searchable_mixin\u001b[0m\n"
     ]
    },
    {
     "name": "stderr",
     "output_type": "stream",
     "text": [
      "[2025-04-12 17:14:07,683] [    INFO] searchable_mixin.py:104 - Using default collection name 'default_collection' for in-memory service.\n"
     ]
    },
    {
     "name": "stderr",
     "output_type": "stream",
     "text": [
      "natural_pdf.search.searchable_mixin - INFO - Creating new SearchService: name='default_collection', persist=False, model=default\n"
     ]
    },
    {
     "name": "stderr",
     "output_type": "stream",
     "text": [
      "\u001b[2m2025-04-12T15:14:07.684948Z\u001b[0m [\u001b[32m\u001b[1minfo     \u001b[0m] \u001b[1mCreating new SearchService: name='default_collection', persist=False, model=default\u001b[0m \u001b[36mlineno\u001b[0m=\u001b[35m106\u001b[0m \u001b[36mmessage\u001b[0m=\u001b[35mCreating new SearchService: name='default_collection', persist=False, model=default\u001b[0m \u001b[36mmodule\u001b[0m=\u001b[35mnatural_pdf.search.searchable_mixin\u001b[0m\n"
     ]
    },
    {
     "name": "stderr",
     "output_type": "stream",
     "text": [
      "[2025-04-12 17:14:07,684] [    INFO] searchable_mixin.py:106 - Creating new SearchService: name='default_collection', persist=False, model=default\n"
     ]
    },
    {
     "name": "stderr",
     "output_type": "stream",
     "text": [
      "natural_pdf.search.haystack_search_service - INFO - HaystackSearchService initialized for collection='default_collection' (persist=False, model='sentence-transformers/all-MiniLM-L6-v2'). Default path: './natural_pdf_index'\n"
     ]
    },
    {
     "name": "stderr",
     "output_type": "stream",
     "text": [
      "\u001b[2m2025-04-12T15:14:07.685806Z\u001b[0m [\u001b[32m\u001b[1minfo     \u001b[0m] \u001b[1mHaystackSearchService initialized for collection='default_collection' (persist=False, model='sentence-transformers/all-MiniLM-L6-v2'). Default path: './natural_pdf_index'\u001b[0m \u001b[36mlineno\u001b[0m=\u001b[35m106\u001b[0m \u001b[36mmessage\u001b[0m=\u001b[35mHaystackSearchService initialized for collection='default_collection' (persist=False, model='sentence-transformers/all-MiniLM-L6-v2'). Default path: './natural_pdf_index'\u001b[0m \u001b[36mmodule\u001b[0m=\u001b[35mnatural_pdf.search.haystack_search_service\u001b[0m\n"
     ]
    },
    {
     "name": "stderr",
     "output_type": "stream",
     "text": [
      "[2025-04-12 17:14:07,685] [    INFO] haystack_search_service.py:106 - HaystackSearchService initialized for collection='default_collection' (persist=False, model='sentence-transformers/all-MiniLM-L6-v2'). Default path: './natural_pdf_index'\n"
     ]
    },
    {
     "name": "stderr",
     "output_type": "stream",
     "text": [
      "natural_pdf.search - INFO - Created new HaystackSearchService instance for collection 'default_collection'.\n"
     ]
    },
    {
     "name": "stderr",
     "output_type": "stream",
     "text": [
      "\u001b[2m2025-04-12T15:14:07.686458Z\u001b[0m [\u001b[32m\u001b[1minfo     \u001b[0m] \u001b[1mCreated new HaystackSearchService instance for collection 'default_collection'.\u001b[0m \u001b[36mlineno\u001b[0m=\u001b[35m80\u001b[0m \u001b[36mmessage\u001b[0m=\u001b[35mCreated new HaystackSearchService instance for collection 'default_collection'.\u001b[0m \u001b[36mmodule\u001b[0m=\u001b[35mnatural_pdf.search\u001b[0m\n"
     ]
    },
    {
     "name": "stderr",
     "output_type": "stream",
     "text": [
      "[2025-04-12 17:14:07,686] [    INFO] __init__.py:80 - Created new HaystackSearchService instance for collection 'default_collection'.\n"
     ]
    },
    {
     "name": "stderr",
     "output_type": "stream",
     "text": [
      "natural_pdf.search.searchable_mixin - INFO - index=True: Proceeding to index collection immediately after search initialization.\n"
     ]
    },
    {
     "name": "stderr",
     "output_type": "stream",
     "text": [
      "\u001b[2m2025-04-12T15:14:07.687040Z\u001b[0m [\u001b[32m\u001b[1minfo     \u001b[0m] \u001b[1mindex=True: Proceeding to index collection immediately after search initialization.\u001b[0m \u001b[36mlineno\u001b[0m=\u001b[35m141\u001b[0m \u001b[36mmessage\u001b[0m=\u001b[35mindex=True: Proceeding to index collection immediately after search initialization.\u001b[0m \u001b[36mmodule\u001b[0m=\u001b[35mnatural_pdf.search.searchable_mixin\u001b[0m\n"
     ]
    },
    {
     "name": "stderr",
     "output_type": "stream",
     "text": [
      "[2025-04-12 17:14:07,686] [    INFO] searchable_mixin.py:141 - index=True: Proceeding to index collection immediately after search initialization.\n"
     ]
    },
    {
     "name": "stderr",
     "output_type": "stream",
     "text": [
      "natural_pdf.search.searchable_mixin - INFO - Starting internal indexing process into SearchService collection 'default_collection'...\n"
     ]
    },
    {
     "name": "stderr",
     "output_type": "stream",
     "text": [
      "\u001b[2m2025-04-12T15:14:07.687593Z\u001b[0m [\u001b[32m\u001b[1minfo     \u001b[0m] \u001b[1mStarting internal indexing process into SearchService collection 'default_collection'...\u001b[0m \u001b[36mlineno\u001b[0m=\u001b[35m152\u001b[0m \u001b[36mmessage\u001b[0m=\u001b[35mStarting internal indexing process into SearchService collection 'default_collection'...\u001b[0m \u001b[36mmodule\u001b[0m=\u001b[35mnatural_pdf.search.searchable_mixin\u001b[0m\n"
     ]
    },
    {
     "name": "stderr",
     "output_type": "stream",
     "text": [
      "[2025-04-12 17:14:07,687] [    INFO] searchable_mixin.py:152 - Starting internal indexing process into SearchService collection 'default_collection'...\n"
     ]
    },
    {
     "name": "stderr",
     "output_type": "stream",
     "text": [
      "natural_pdf.search.searchable_mixin - INFO - Prepared 6 indexable items for indexing.\n"
     ]
    },
    {
     "name": "stderr",
     "output_type": "stream",
     "text": [
      "\u001b[2m2025-04-12T15:14:07.688137Z\u001b[0m [\u001b[32m\u001b[1minfo     \u001b[0m] \u001b[1mPrepared 6 indexable items for indexing.\u001b[0m \u001b[36mlineno\u001b[0m=\u001b[35m165\u001b[0m \u001b[36mmessage\u001b[0m=\u001b[35mPrepared 6 indexable items for indexing.\u001b[0m \u001b[36mmodule\u001b[0m=\u001b[35mnatural_pdf.search.searchable_mixin\u001b[0m\n"
     ]
    },
    {
     "name": "stderr",
     "output_type": "stream",
     "text": [
      "[2025-04-12 17:14:07,687] [    INFO] searchable_mixin.py:165 - Prepared 6 indexable items for indexing.\n"
     ]
    },
    {
     "name": "stderr",
     "output_type": "stream",
     "text": [
      "natural_pdf.search.haystack_search_service - INFO - Index request for collection='default_collection', docs=6, model='sentence-transformers/all-MiniLM-L6-v2', force=False, persist=False\n"
     ]
    },
    {
     "name": "stderr",
     "output_type": "stream",
     "text": [
      "\u001b[2m2025-04-12T15:14:07.688779Z\u001b[0m [\u001b[32m\u001b[1minfo     \u001b[0m] \u001b[1mIndex request for collection='default_collection', docs=6, model='sentence-transformers/all-MiniLM-L6-v2', force=False, persist=False\u001b[0m \u001b[36mlineno\u001b[0m=\u001b[35m210\u001b[0m \u001b[36mmessage\u001b[0m=\u001b[35mIndex request for collection='default_collection', docs=6, model='sentence-transformers/all-MiniLM-L6-v2', force=False, persist=False\u001b[0m \u001b[36mmodule\u001b[0m=\u001b[35mnatural_pdf.search.haystack_search_service\u001b[0m\n"
     ]
    },
    {
     "name": "stderr",
     "output_type": "stream",
     "text": [
      "[2025-04-12 17:14:07,688] [    INFO] haystack_search_service.py:210 - Index request for collection='default_collection', docs=6, model='sentence-transformers/all-MiniLM-L6-v2', force=False, persist=False\n"
     ]
    },
    {
     "name": "stderr",
     "output_type": "stream",
     "text": [
      "natural_pdf.search.haystack_search_service - INFO - Created SentenceTransformersDocumentEmbedder. Model: sentence-transformers/all-MiniLM-L6-v2, Device: ComponentDevice(_single_device=Device(type=<DeviceType.MPS: 'mps'>, id=None), _multiple_devices=None)\n"
     ]
    },
    {
     "name": "stderr",
     "output_type": "stream",
     "text": [
      "\u001b[2m2025-04-12T15:14:10.395986Z\u001b[0m [\u001b[32m\u001b[1minfo     \u001b[0m] \u001b[1mCreated SentenceTransformersDocumentEmbedder. Model: sentence-transformers/all-MiniLM-L6-v2, Device: ComponentDevice(_single_device=Device(type=<DeviceType.MPS: 'mps'>, id=None), _multiple_devices=None)\u001b[0m \u001b[36mlineno\u001b[0m=\u001b[35m146\u001b[0m \u001b[36mmessage\u001b[0m=\u001b[35mCreated SentenceTransformersDocumentEmbedder. Model: sentence-transformers/all-MiniLM-L6-v2, Device: ComponentDevice(_single_device=Device(type=<DeviceType.MPS: 'mps'>, id=None), _multiple_devices=None)\u001b[0m \u001b[36mmodule\u001b[0m=\u001b[35mnatural_pdf.search.haystack_search_service\u001b[0m\n"
     ]
    },
    {
     "name": "stderr",
     "output_type": "stream",
     "text": [
      "[2025-04-12 17:14:10,395] [    INFO] haystack_search_service.py:146 - Created SentenceTransformersDocumentEmbedder. Model: sentence-transformers/all-MiniLM-L6-v2, Device: ComponentDevice(_single_device=Device(type=<DeviceType.MPS: 'mps'>, id=None), _multiple_devices=None)\n"
     ]
    },
    {
     "name": "stderr",
     "output_type": "stream",
     "text": [
      "natural_pdf.search.haystack_search_service - INFO - Preparing Haystack Documents from 6 indexable items...\n"
     ]
    },
    {
     "name": "stderr",
     "output_type": "stream",
     "text": [
      "\u001b[2m2025-04-12T15:14:10.396857Z\u001b[0m [\u001b[32m\u001b[1minfo     \u001b[0m] \u001b[1mPreparing Haystack Documents from 6 indexable items...\u001b[0m \u001b[36mlineno\u001b[0m=\u001b[35m241\u001b[0m \u001b[36mmessage\u001b[0m=\u001b[35mPreparing Haystack Documents from 6 indexable items...\u001b[0m \u001b[36mmodule\u001b[0m=\u001b[35mnatural_pdf.search.haystack_search_service\u001b[0m\n"
     ]
    },
    {
     "name": "stderr",
     "output_type": "stream",
     "text": [
      "[2025-04-12 17:14:10,396] [    INFO] haystack_search_service.py:241 - Preparing Haystack Documents from 6 indexable items...\n"
     ]
    },
    {
     "name": "stderr",
     "output_type": "stream",
     "text": [
      "natural_pdf.search.haystack_search_service - INFO - Embedding 6 documents using 'sentence-transformers/all-MiniLM-L6-v2'...\n"
     ]
    },
    {
     "name": "stderr",
     "output_type": "stream",
     "text": [
      "\u001b[2m2025-04-12T15:14:11.014403Z\u001b[0m [\u001b[32m\u001b[1minfo     \u001b[0m] \u001b[1mEmbedding 6 documents using 'sentence-transformers/all-MiniLM-L6-v2'...\u001b[0m \u001b[36mlineno\u001b[0m=\u001b[35m281\u001b[0m \u001b[36mmessage\u001b[0m=\u001b[35mEmbedding 6 documents using 'sentence-transformers/all-MiniLM-L6-v2'...\u001b[0m \u001b[36mmodule\u001b[0m=\u001b[35mnatural_pdf.search.haystack_search_service\u001b[0m\n"
     ]
    },
    {
     "name": "stderr",
     "output_type": "stream",
     "text": [
      "[2025-04-12 17:14:11,013] [    INFO] haystack_search_service.py:281 - Embedding 6 documents using 'sentence-transformers/all-MiniLM-L6-v2'...\n"
     ]
    },
    {
     "data": {
      "application/vnd.jupyter.widget-view+json": {
       "model_id": "e27844d13e2c4189b18585224d36e776",
       "version_major": 2,
       "version_minor": 0
      },
      "text/plain": [
       "Batches:   0%|          | 0/1 [00:00<?, ?it/s]"
      ]
     },
     "metadata": {},
     "output_type": "display_data"
    },
    {
     "name": "stderr",
     "output_type": "stream",
     "text": [
      "natural_pdf.search.haystack_search_service - INFO - Successfully embedded 6 documents.\n"
     ]
    },
    {
     "name": "stderr",
     "output_type": "stream",
     "text": [
      "\u001b[2m2025-04-12T15:14:11.205365Z\u001b[0m [\u001b[32m\u001b[1minfo     \u001b[0m] \u001b[1mSuccessfully embedded 6 documents.\u001b[0m \u001b[36mlineno\u001b[0m=\u001b[35m286\u001b[0m \u001b[36mmessage\u001b[0m=\u001b[35mSuccessfully embedded 6 documents.\u001b[0m \u001b[36mmodule\u001b[0m=\u001b[35mnatural_pdf.search.haystack_search_service\u001b[0m\n"
     ]
    },
    {
     "name": "stderr",
     "output_type": "stream",
     "text": [
      "[2025-04-12 17:14:11,205] [    INFO] haystack_search_service.py:286 - Successfully embedded 6 documents.\n"
     ]
    },
    {
     "name": "stderr",
     "output_type": "stream",
     "text": [
      "natural_pdf.search.haystack_search_service - INFO - Writing 6 embedded documents to store 'default_collection'...\n"
     ]
    },
    {
     "name": "stderr",
     "output_type": "stream",
     "text": [
      "\u001b[2m2025-04-12T15:14:11.206168Z\u001b[0m [\u001b[32m\u001b[1minfo     \u001b[0m] \u001b[1mWriting 6 embedded documents to store 'default_collection'...\u001b[0m \u001b[36mlineno\u001b[0m=\u001b[35m302\u001b[0m \u001b[36mmessage\u001b[0m=\u001b[35mWriting 6 embedded documents to store 'default_collection'...\u001b[0m \u001b[36mmodule\u001b[0m=\u001b[35mnatural_pdf.search.haystack_search_service\u001b[0m\n"
     ]
    },
    {
     "name": "stderr",
     "output_type": "stream",
     "text": [
      "[2025-04-12 17:14:11,205] [    INFO] haystack_search_service.py:302 - Writing 6 embedded documents to store 'default_collection'...\n"
     ]
    },
    {
     "name": "stderr",
     "output_type": "stream",
     "text": [
      "natural_pdf.search.haystack_search_service - INFO - Successfully wrote 6 documents to store 'default_collection'.\n"
     ]
    },
    {
     "name": "stderr",
     "output_type": "stream",
     "text": [
      "\u001b[2m2025-04-12T15:14:11.207958Z\u001b[0m [\u001b[32m\u001b[1minfo     \u001b[0m] \u001b[1mSuccessfully wrote 6 documents to store 'default_collection'.\u001b[0m \u001b[36mlineno\u001b[0m=\u001b[35m308\u001b[0m \u001b[36mmessage\u001b[0m=\u001b[35mSuccessfully wrote 6 documents to store 'default_collection'.\u001b[0m \u001b[36mmodule\u001b[0m=\u001b[35mnatural_pdf.search.haystack_search_service\u001b[0m\n"
     ]
    },
    {
     "name": "stderr",
     "output_type": "stream",
     "text": [
      "[2025-04-12 17:14:11,207] [    INFO] haystack_search_service.py:308 - Successfully wrote 6 documents to store 'default_collection'.\n"
     ]
    },
    {
     "name": "stderr",
     "output_type": "stream",
     "text": [
      "natural_pdf.search.haystack_search_service - INFO - Store 'default_collection' document count after write: 6\n"
     ]
    },
    {
     "name": "stderr",
     "output_type": "stream",
     "text": [
      "\u001b[2m2025-04-12T15:14:11.208550Z\u001b[0m [\u001b[32m\u001b[1minfo     \u001b[0m] \u001b[1mStore 'default_collection' document count after write: 6\u001b[0m \u001b[36mlineno\u001b[0m=\u001b[35m310\u001b[0m \u001b[36mmessage\u001b[0m=\u001b[35mStore 'default_collection' document count after write: 6\u001b[0m \u001b[36mmodule\u001b[0m=\u001b[35mnatural_pdf.search.haystack_search_service\u001b[0m\n"
     ]
    },
    {
     "name": "stderr",
     "output_type": "stream",
     "text": [
      "[2025-04-12 17:14:11,208] [    INFO] haystack_search_service.py:310 - Store 'default_collection' document count after write: 6\n"
     ]
    },
    {
     "name": "stderr",
     "output_type": "stream",
     "text": [
      "natural_pdf.search.searchable_mixin - INFO - Successfully completed indexing into SearchService collection 'default_collection'.\n"
     ]
    },
    {
     "name": "stderr",
     "output_type": "stream",
     "text": [
      "\u001b[2m2025-04-12T15:14:11.209062Z\u001b[0m [\u001b[32m\u001b[1minfo     \u001b[0m] \u001b[1mSuccessfully completed indexing into SearchService collection 'default_collection'.\u001b[0m \u001b[36mlineno\u001b[0m=\u001b[35m173\u001b[0m \u001b[36mmessage\u001b[0m=\u001b[35mSuccessfully completed indexing into SearchService collection 'default_collection'.\u001b[0m \u001b[36mmodule\u001b[0m=\u001b[35mnatural_pdf.search.searchable_mixin\u001b[0m\n"
     ]
    },
    {
     "name": "stderr",
     "output_type": "stream",
     "text": [
      "[2025-04-12 17:14:11,208] [    INFO] searchable_mixin.py:173 - Successfully completed indexing into SearchService collection 'default_collection'.\n"
     ]
    },
    {
     "name": "stdout",
     "output_type": "stream",
     "text": [
      "Search index initialized.\n"
     ]
    }
   ],
   "source": [
    "# Initialize search. 'index=True' builds the index immediately.\n",
    "# This might take some time depending on the number and size of PDFs.\n",
    "collection.init_search(index=True) \n",
    "print(\"Search index initialized.\")"
   ]
  },
  {
   "cell_type": "markdown",
   "id": "6e03251c",
   "metadata": {},
   "source": [
    "## Performing a Semantic Search\n",
    "\n",
    "Once the index is ready, you can use the `find_relevant()` method to search for content semantically related to your query."
   ]
  },
  {
   "cell_type": "code",
   "execution_count": 4,
   "id": "740a0258",
   "metadata": {
    "execution": {
     "iopub.execute_input": "2025-04-12T15:14:11.213225Z",
     "iopub.status.busy": "2025-04-12T15:14:11.213111Z",
     "iopub.status.idle": "2025-04-12T15:14:11.338697Z",
     "shell.execute_reply": "2025-04-12T15:14:11.338386Z"
    }
   },
   "outputs": [
    {
     "name": "stderr",
     "output_type": "stream",
     "text": [
      "natural_pdf.search.searchable_mixin - INFO - Searching collection 'default_collection' via HaystackSearchService...\n"
     ]
    },
    {
     "name": "stderr",
     "output_type": "stream",
     "text": [
      "\u001b[2m2025-04-12T15:14:11.214230Z\u001b[0m [\u001b[32m\u001b[1minfo     \u001b[0m] \u001b[1mSearching collection 'default_collection' via HaystackSearchService...\u001b[0m \u001b[36mlineno\u001b[0m=\u001b[35m244\u001b[0m \u001b[36mmessage\u001b[0m=\u001b[35mSearching collection 'default_collection' via HaystackSearchService...\u001b[0m \u001b[36mmodule\u001b[0m=\u001b[35mnatural_pdf.search.searchable_mixin\u001b[0m\n"
     ]
    },
    {
     "name": "stderr",
     "output_type": "stream",
     "text": [
      "[2025-04-12 17:14:11,213] [    INFO] searchable_mixin.py:244 - Searching collection 'default_collection' via HaystackSearchService...\n"
     ]
    },
    {
     "name": "stderr",
     "output_type": "stream",
     "text": [
      "natural_pdf.search.haystack_search_service - INFO - Search request for collection='default_collection', query_type=str, options=TextSearchOptions(top_k=10, retriever_top_k=20, filters=None, use_reranker=True, reranker_instance=None, reranker_model=None, reranker_api_key=None)\n"
     ]
    },
    {
     "name": "stderr",
     "output_type": "stream",
     "text": [
      "\u001b[2m2025-04-12T15:14:11.214868Z\u001b[0m [\u001b[32m\u001b[1minfo     \u001b[0m] \u001b[1mSearch request for collection='default_collection', query_type=str, options=TextSearchOptions(top_k=10, retriever_top_k=20, filters=None, use_reranker=True, reranker_instance=None, reranker_model=None, reranker_api_key=None)\u001b[0m \u001b[36mlineno\u001b[0m=\u001b[35m318\u001b[0m \u001b[36mmessage\u001b[0m=\u001b[35mSearch request for collection='default_collection', query_type=str, options=TextSearchOptions(top_k=10, retriever_top_k=20, filters=None, use_reranker=True, reranker_instance=None, reranker_model=None, reranker_api_key=None)\u001b[0m \u001b[36mmodule\u001b[0m=\u001b[35mnatural_pdf.search.haystack_search_service\u001b[0m\n"
     ]
    },
    {
     "name": "stderr",
     "output_type": "stream",
     "text": [
      "[2025-04-12 17:14:11,214] [    INFO] haystack_search_service.py:318 - Search request for collection='default_collection', query_type=str, options=TextSearchOptions(top_k=10, retriever_top_k=20, filters=None, use_reranker=True, reranker_instance=None, reranker_model=None, reranker_api_key=None)\n"
     ]
    },
    {
     "name": "stderr",
     "output_type": "stream",
     "text": [
      "natural_pdf.search.haystack_search_service - INFO - Created SentenceTransformersTextEmbedder. Model: sentence-transformers/all-MiniLM-L6-v2, Device: ComponentDevice(_single_device=Device(type=<DeviceType.MPS: 'mps'>, id=None), _multiple_devices=None)\n"
     ]
    },
    {
     "name": "stderr",
     "output_type": "stream",
     "text": [
      "\u001b[2m2025-04-12T15:14:11.215627Z\u001b[0m [\u001b[32m\u001b[1minfo     \u001b[0m] \u001b[1mCreated SentenceTransformersTextEmbedder. Model: sentence-transformers/all-MiniLM-L6-v2, Device: ComponentDevice(_single_device=Device(type=<DeviceType.MPS: 'mps'>, id=None), _multiple_devices=None)\u001b[0m \u001b[36mlineno\u001b[0m=\u001b[35m164\u001b[0m \u001b[36mmessage\u001b[0m=\u001b[35mCreated SentenceTransformersTextEmbedder. Model: sentence-transformers/all-MiniLM-L6-v2, Device: ComponentDevice(_single_device=Device(type=<DeviceType.MPS: 'mps'>, id=None), _multiple_devices=None)\u001b[0m \u001b[36mmodule\u001b[0m=\u001b[35mnatural_pdf.search.haystack_search_service\u001b[0m\n"
     ]
    },
    {
     "name": "stderr",
     "output_type": "stream",
     "text": [
      "[2025-04-12 17:14:11,215] [    INFO] haystack_search_service.py:164 - Created SentenceTransformersTextEmbedder. Model: sentence-transformers/all-MiniLM-L6-v2, Device: ComponentDevice(_single_device=Device(type=<DeviceType.MPS: 'mps'>, id=None), _multiple_devices=None)\n"
     ]
    },
    {
     "data": {
      "application/vnd.jupyter.widget-view+json": {
       "model_id": "851545a4e1a1416c9147211271af0065",
       "version_major": 2,
       "version_minor": 0
      },
      "text/plain": [
       "Batches:   0%|          | 0/1 [00:00<?, ?it/s]"
      ]
     },
     "metadata": {},
     "output_type": "display_data"
    },
    {
     "name": "stderr",
     "output_type": "stream",
     "text": [
      "natural_pdf.search.haystack_search_service - INFO - Running retrieval pipeline for collection 'default_collection'...\n"
     ]
    },
    {
     "name": "stderr",
     "output_type": "stream",
     "text": [
      "\u001b[2m2025-04-12T15:14:11.332544Z\u001b[0m [\u001b[32m\u001b[1minfo     \u001b[0m] \u001b[1mRunning retrieval pipeline for collection 'default_collection'...\u001b[0m \u001b[36mlineno\u001b[0m=\u001b[35m401\u001b[0m \u001b[36mmessage\u001b[0m=\u001b[35mRunning retrieval pipeline for collection 'default_collection'...\u001b[0m \u001b[36mmodule\u001b[0m=\u001b[35mnatural_pdf.search.haystack_search_service\u001b[0m\n"
     ]
    },
    {
     "name": "stderr",
     "output_type": "stream",
     "text": [
      "[2025-04-12 17:14:11,332] [    INFO] haystack_search_service.py:401 - Running retrieval pipeline for collection 'default_collection'...\n"
     ]
    },
    {
     "name": "stderr",
     "output_type": "stream",
     "text": [
      "natural_pdf.search.haystack_search_service - INFO - Retrieved 6 documents.\n"
     ]
    },
    {
     "name": "stderr",
     "output_type": "stream",
     "text": [
      "\u001b[2m2025-04-12T15:14:11.336551Z\u001b[0m [\u001b[32m\u001b[1minfo     \u001b[0m] \u001b[1mRetrieved 6 documents.        \u001b[0m \u001b[36mlineno\u001b[0m=\u001b[35m410\u001b[0m \u001b[36mmessage\u001b[0m=\u001b[35mRetrieved 6 documents.\u001b[0m \u001b[36mmodule\u001b[0m=\u001b[35mnatural_pdf.search.haystack_search_service\u001b[0m\n"
     ]
    },
    {
     "name": "stderr",
     "output_type": "stream",
     "text": [
      "[2025-04-12 17:14:11,336] [    INFO] haystack_search_service.py:410 - Retrieved 6 documents.\n"
     ]
    },
    {
     "name": "stderr",
     "output_type": "stream",
     "text": [
      "natural_pdf.search.searchable_mixin - INFO - SearchService returned 6 results from collection 'default_collection'.\n"
     ]
    },
    {
     "name": "stderr",
     "output_type": "stream",
     "text": [
      "\u001b[2m2025-04-12T15:14:11.337107Z\u001b[0m [\u001b[32m\u001b[1minfo     \u001b[0m] \u001b[1mSearchService returned 6 results from collection 'default_collection'.\u001b[0m \u001b[36mlineno\u001b[0m=\u001b[35m266\u001b[0m \u001b[36mmessage\u001b[0m=\u001b[35mSearchService returned 6 results from collection 'default_collection'.\u001b[0m \u001b[36mmodule\u001b[0m=\u001b[35mnatural_pdf.search.searchable_mixin\u001b[0m\n"
     ]
    },
    {
     "name": "stderr",
     "output_type": "stream",
     "text": [
      "[2025-04-12 17:14:11,336] [    INFO] searchable_mixin.py:266 - SearchService returned 6 results from collection 'default_collection'.\n"
     ]
    },
    {
     "name": "stdout",
     "output_type": "stream",
     "text": [
      "Found 6 results for 'american president':\n"
     ]
    }
   ],
   "source": [
    "# Perform a search query\n",
    "query = \"american president\"\n",
    "results = collection.find_relevant(query)\n",
    "\n",
    "print(f\"Found {len(results)} results for '{query}':\")"
   ]
  },
  {
   "cell_type": "markdown",
   "id": "5c905338",
   "metadata": {},
   "source": [
    "## Understanding Search Results\n",
    "\n",
    "The `find_relevant()` method returns a list of dictionaries, each representing a relevant text chunk found in one of the PDFs. Each result includes:\n",
    "\n",
    "*   `pdf_path`: The path to the PDF document where the result was found.\n",
    "*   `page_number`: The page number within the PDF.\n",
    "*   `score`: A relevance score (higher means more relevant).\n",
    "*   `content_snippet`: A snippet of the text chunk that matched the query."
   ]
  },
  {
   "cell_type": "code",
   "execution_count": 5,
   "id": "6cbaf07f",
   "metadata": {
    "execution": {
     "iopub.execute_input": "2025-04-12T15:14:11.340543Z",
     "iopub.status.busy": "2025-04-12T15:14:11.340372Z",
     "iopub.status.idle": "2025-04-12T15:14:11.342988Z",
     "shell.execute_reply": "2025-04-12T15:14:11.342703Z"
    }
   },
   "outputs": [
    {
     "name": "stdout",
     "output_type": "stream",
     "text": [
      "  1. PDF: /var/folders/25/h3prywj14qb0mlkl2s8bxq5m0000gn/T/tmpu4c35r4r.pdf\n",
      "     Page: 2 (Score: 0.0708)\n",
      "     Snippet: Library Weeding Log Atlanta Public Schools\n",
      "From: 8/1/2017 To: 6/30/2023\n",
      "6/6/2023 - Copies Removed: 130\n",
      "The Anasazi (Removed: 1)\n",
      "Author: Petersen, David. ISBN: 0-516-01121-9 (trade) Published: 1991\n",
      "Sit...\n",
      "  2. PDF: /var/folders/25/h3prywj14qb0mlkl2s8bxq5m0000gn/T/tmpu4c35r4r.pdf\n",
      "     Page: 5 (Score: 0.0669)\n",
      "     Snippet: Library Weeding Log Atlanta Public Schools\n",
      "From: 8/1/2017 To: 6/30/2023\n",
      "6/6/2023 - Copies Removed: 130\n",
      "Centennial Place 33170000562167 $13.10 11/5/1999 33554-43170\n",
      "Academy (Charter)\n",
      "Was Available -- W...\n",
      "  3. PDF: /var/folders/25/h3prywj14qb0mlkl2s8bxq5m0000gn/T/tmph8828b4e.pdf\n",
      "     Page: 1 (Score: -0.0040)\n",
      "     Snippet: Jungle Health and Safety Inspection Service\n",
      "INS-UP70N51NCL41R\n",
      "Site: Durham’s Meatpacking  Chicago, Ill.\n",
      "Date:  February 3, 1905\n",
      "Violation Count: 7\n",
      "Summary: Worst of any, however, were the fertilizer m...\n",
      "  4. PDF: /var/folders/25/h3prywj14qb0mlkl2s8bxq5m0000gn/T/tmpu4c35r4r.pdf\n",
      "     Page: 4 (Score: -0.0245)\n",
      "     Snippet: Library Weeding Log Atlanta Public Schools\n",
      "From: 8/1/2017 To: 6/30/2023\n",
      "6/6/2023 - Copies Removed: 130\n",
      "Children of the Philippines (Removed: 1)\n",
      "Author: Kinkade, Sheila, 1962- ISBN: 0-87614-993-X Publi...\n",
      "  5. PDF: /var/folders/25/h3prywj14qb0mlkl2s8bxq5m0000gn/T/tmpu4c35r4r.pdf\n",
      "     Page: 3 (Score: -0.0445)\n",
      "     Snippet: Library Weeding Log Atlanta Public Schools\n",
      "From: 8/1/2017 To: 6/30/2023\n",
      "6/6/2023 - Copies Removed: 130\n",
      "Centennial Place 33170000507600 $19.45 2/21/2000 33554-43170\n",
      "Academy (Charter)\n",
      "Was Available -- W...\n",
      "  6. PDF: /var/folders/25/h3prywj14qb0mlkl2s8bxq5m0000gn/T/tmpu4c35r4r.pdf\n",
      "     Page: 1 (Score: -0.0473)\n",
      "     Snippet: Library Weeding Log Atlanta Public Schools\n",
      "From: 8/1/2017 To: 6/30/2023\n",
      "6/12/2023 - Copies Removed: 2\n",
      "Tristan Strong punches a hole in the sky (Removed: 1)\n",
      "Author: Mbalia, Kwame. ISBN: 978-1-36803993-...\n"
     ]
    }
   ],
   "source": [
    "# Process and display the results\n",
    "if results:\n",
    "    for i, result in enumerate(results):\n",
    "        print(f\"  {i+1}. PDF: {result['pdf_path']}\")\n",
    "        print(f\"     Page: {result['page_number']} (Score: {result['score']:.4f})\")\n",
    "        # Display a snippet of the content\n",
    "        snippet = result.get('content_snippet', '')\n",
    "        print(f\"     Snippet: {snippet}...\") \n",
    "else:\n",
    "    print(\"  No relevant results found.\")\n",
    "\n",
    "# You can access the full content if needed via the result object, \n",
    "# though 'content_snippet' is usually sufficient for display."
   ]
  },
  {
   "cell_type": "markdown",
   "id": "8b732686",
   "metadata": {},
   "source": [
    "Semantic search allows you to efficiently query large sets of documents to find the most relevant information without needing exact keyword matches, leveraging the meaning and context of your query. "
   ]
  }
 ],
 "metadata": {
  "jupytext": {
   "cell_metadata_filter": "-all",
   "main_language": "python",
   "notebook_metadata_filter": "-all",
   "text_representation": {
    "extension": ".md",
    "format_name": "markdown"
   }
  },
  "language_info": {
   "codemirror_mode": {
    "name": "ipython",
    "version": 3
   },
   "file_extension": ".py",
   "mimetype": "text/x-python",
   "name": "python",
   "nbconvert_exporter": "python",
   "pygments_lexer": "ipython3",
   "version": "3.10.13"
  },
  "widgets": {
   "application/vnd.jupyter.widget-state+json": {
    "state": {
     "07c4f86b47504a039842582746a3a50b": {
      "model_module": "@jupyter-widgets/controls",
      "model_module_version": "2.0.0",
      "model_name": "HTMLModel",
      "state": {
       "_dom_classes": [],
       "_model_module": "@jupyter-widgets/controls",
       "_model_module_version": "2.0.0",
       "_model_name": "HTMLModel",
       "_view_count": null,
       "_view_module": "@jupyter-widgets/controls",
       "_view_module_version": "2.0.0",
       "_view_name": "HTMLView",
       "description": "",
       "description_allow_html": false,
       "layout": "IPY_MODEL_32620ffc64ff4c379579a5612533d45b",
       "placeholder": "​",
       "style": "IPY_MODEL_9c8411320ea644eaad32a441bc8370c9",
       "tabbable": null,
       "tooltip": null,
       "value": " 1/1 [00:00&lt;00:00,  8.80it/s]"
      }
     },
     "08d5276f83cd4d0daf8079940eed7bc2": {
      "model_module": "@jupyter-widgets/controls",
      "model_module_version": "2.0.0",
      "model_name": "HTMLStyleModel",
      "state": {
       "_model_module": "@jupyter-widgets/controls",
       "_model_module_version": "2.0.0",
       "_model_name": "HTMLStyleModel",
       "_view_count": null,
       "_view_module": "@jupyter-widgets/base",
       "_view_module_version": "2.0.0",
       "_view_name": "StyleView",
       "background": null,
       "description_width": "",
       "font_size": null,
       "text_color": null
      }
     },
     "1301da3793e14792951a10813f85b2e2": {
      "model_module": "@jupyter-widgets/base",
      "model_module_version": "2.0.0",
      "model_name": "LayoutModel",
      "state": {
       "_model_module": "@jupyter-widgets/base",
       "_model_module_version": "2.0.0",
       "_model_name": "LayoutModel",
       "_view_count": null,
       "_view_module": "@jupyter-widgets/base",
       "_view_module_version": "2.0.0",
       "_view_name": "LayoutView",
       "align_content": null,
       "align_items": null,
       "align_self": null,
       "border_bottom": null,
       "border_left": null,
       "border_right": null,
       "border_top": null,
       "bottom": null,
       "display": null,
       "flex": null,
       "flex_flow": null,
       "grid_area": null,
       "grid_auto_columns": null,
       "grid_auto_flow": null,
       "grid_auto_rows": null,
       "grid_column": null,
       "grid_gap": null,
       "grid_row": null,
       "grid_template_areas": null,
       "grid_template_columns": null,
       "grid_template_rows": null,
       "height": null,
       "justify_content": null,
       "justify_items": null,
       "left": null,
       "margin": null,
       "max_height": null,
       "max_width": null,
       "min_height": null,
       "min_width": null,
       "object_fit": null,
       "object_position": null,
       "order": null,
       "overflow": null,
       "padding": null,
       "right": null,
       "top": null,
       "visibility": null,
       "width": null
      }
     },
     "2888ec8faec4478885d6ec013e75a572": {
      "model_module": "@jupyter-widgets/controls",
      "model_module_version": "2.0.0",
      "model_name": "HTMLStyleModel",
      "state": {
       "_model_module": "@jupyter-widgets/controls",
       "_model_module_version": "2.0.0",
       "_model_name": "HTMLStyleModel",
       "_view_count": null,
       "_view_module": "@jupyter-widgets/base",
       "_view_module_version": "2.0.0",
       "_view_name": "StyleView",
       "background": null,
       "description_width": "",
       "font_size": null,
       "text_color": null
      }
     },
     "32620ffc64ff4c379579a5612533d45b": {
      "model_module": "@jupyter-widgets/base",
      "model_module_version": "2.0.0",
      "model_name": "LayoutModel",
      "state": {
       "_model_module": "@jupyter-widgets/base",
       "_model_module_version": "2.0.0",
       "_model_name": "LayoutModel",
       "_view_count": null,
       "_view_module": "@jupyter-widgets/base",
       "_view_module_version": "2.0.0",
       "_view_name": "LayoutView",
       "align_content": null,
       "align_items": null,
       "align_self": null,
       "border_bottom": null,
       "border_left": null,
       "border_right": null,
       "border_top": null,
       "bottom": null,
       "display": null,
       "flex": null,
       "flex_flow": null,
       "grid_area": null,
       "grid_auto_columns": null,
       "grid_auto_flow": null,
       "grid_auto_rows": null,
       "grid_column": null,
       "grid_gap": null,
       "grid_row": null,
       "grid_template_areas": null,
       "grid_template_columns": null,
       "grid_template_rows": null,
       "height": null,
       "justify_content": null,
       "justify_items": null,
       "left": null,
       "margin": null,
       "max_height": null,
       "max_width": null,
       "min_height": null,
       "min_width": null,
       "object_fit": null,
       "object_position": null,
       "order": null,
       "overflow": null,
       "padding": null,
       "right": null,
       "top": null,
       "visibility": null,
       "width": null
      }
     },
     "492b39d42c8f490481ff128d1b61aca5": {
      "model_module": "@jupyter-widgets/controls",
      "model_module_version": "2.0.0",
      "model_name": "FloatProgressModel",
      "state": {
       "_dom_classes": [],
       "_model_module": "@jupyter-widgets/controls",
       "_model_module_version": "2.0.0",
       "_model_name": "FloatProgressModel",
       "_view_count": null,
       "_view_module": "@jupyter-widgets/controls",
       "_view_module_version": "2.0.0",
       "_view_name": "ProgressView",
       "bar_style": "success",
       "description": "",
       "description_allow_html": false,
       "layout": "IPY_MODEL_ec5de34ebc494fa591527b5e8caccaa5",
       "max": 1.0,
       "min": 0.0,
       "orientation": "horizontal",
       "style": "IPY_MODEL_9cc8ff644e69455586eda08a67a498d6",
       "tabbable": null,
       "tooltip": null,
       "value": 1.0
      }
     },
     "51792dbb370b4fc4933e3c501c05ee46": {
      "model_module": "@jupyter-widgets/controls",
      "model_module_version": "2.0.0",
      "model_name": "HTMLModel",
      "state": {
       "_dom_classes": [],
       "_model_module": "@jupyter-widgets/controls",
       "_model_module_version": "2.0.0",
       "_model_name": "HTMLModel",
       "_view_count": null,
       "_view_module": "@jupyter-widgets/controls",
       "_view_module_version": "2.0.0",
       "_view_name": "HTMLView",
       "description": "",
       "description_allow_html": false,
       "layout": "IPY_MODEL_e6e0e41103764662a858c5f625144c31",
       "placeholder": "​",
       "style": "IPY_MODEL_f5552a0a78b44616b6d2dbf0bff81b98",
       "tabbable": null,
       "tooltip": null,
       "value": "Batches: 100%"
      }
     },
     "7c006db8137941a58173302074b02601": {
      "model_module": "@jupyter-widgets/controls",
      "model_module_version": "2.0.0",
      "model_name": "HTMLModel",
      "state": {
       "_dom_classes": [],
       "_model_module": "@jupyter-widgets/controls",
       "_model_module_version": "2.0.0",
       "_model_name": "HTMLModel",
       "_view_count": null,
       "_view_module": "@jupyter-widgets/controls",
       "_view_module_version": "2.0.0",
       "_view_name": "HTMLView",
       "description": "",
       "description_allow_html": false,
       "layout": "IPY_MODEL_1301da3793e14792951a10813f85b2e2",
       "placeholder": "​",
       "style": "IPY_MODEL_08d5276f83cd4d0daf8079940eed7bc2",
       "tabbable": null,
       "tooltip": null,
       "value": " 1/1 [00:00&lt;00:00,  5.33it/s]"
      }
     },
     "8072485e016049a1822e6d283a2f8400": {
      "model_module": "@jupyter-widgets/base",
      "model_module_version": "2.0.0",
      "model_name": "LayoutModel",
      "state": {
       "_model_module": "@jupyter-widgets/base",
       "_model_module_version": "2.0.0",
       "_model_name": "LayoutModel",
       "_view_count": null,
       "_view_module": "@jupyter-widgets/base",
       "_view_module_version": "2.0.0",
       "_view_name": "LayoutView",
       "align_content": null,
       "align_items": null,
       "align_self": null,
       "border_bottom": null,
       "border_left": null,
       "border_right": null,
       "border_top": null,
       "bottom": null,
       "display": null,
       "flex": null,
       "flex_flow": null,
       "grid_area": null,
       "grid_auto_columns": null,
       "grid_auto_flow": null,
       "grid_auto_rows": null,
       "grid_column": null,
       "grid_gap": null,
       "grid_row": null,
       "grid_template_areas": null,
       "grid_template_columns": null,
       "grid_template_rows": null,
       "height": null,
       "justify_content": null,
       "justify_items": null,
       "left": null,
       "margin": null,
       "max_height": null,
       "max_width": null,
       "min_height": null,
       "min_width": null,
       "object_fit": null,
       "object_position": null,
       "order": null,
       "overflow": null,
       "padding": null,
       "right": null,
       "top": null,
       "visibility": null,
       "width": null
      }
     },
     "851545a4e1a1416c9147211271af0065": {
      "model_module": "@jupyter-widgets/controls",
      "model_module_version": "2.0.0",
      "model_name": "HBoxModel",
      "state": {
       "_dom_classes": [],
       "_model_module": "@jupyter-widgets/controls",
       "_model_module_version": "2.0.0",
       "_model_name": "HBoxModel",
       "_view_count": null,
       "_view_module": "@jupyter-widgets/controls",
       "_view_module_version": "2.0.0",
       "_view_name": "HBoxView",
       "box_style": "",
       "children": [
        "IPY_MODEL_85c10c0e063243b192ffe9d8c332eb6d",
        "IPY_MODEL_492b39d42c8f490481ff128d1b61aca5",
        "IPY_MODEL_07c4f86b47504a039842582746a3a50b"
       ],
       "layout": "IPY_MODEL_8072485e016049a1822e6d283a2f8400",
       "tabbable": null,
       "tooltip": null
      }
     },
     "85c10c0e063243b192ffe9d8c332eb6d": {
      "model_module": "@jupyter-widgets/controls",
      "model_module_version": "2.0.0",
      "model_name": "HTMLModel",
      "state": {
       "_dom_classes": [],
       "_model_module": "@jupyter-widgets/controls",
       "_model_module_version": "2.0.0",
       "_model_name": "HTMLModel",
       "_view_count": null,
       "_view_module": "@jupyter-widgets/controls",
       "_view_module_version": "2.0.0",
       "_view_name": "HTMLView",
       "description": "",
       "description_allow_html": false,
       "layout": "IPY_MODEL_a13cc978c1774f83987964dc1a034f71",
       "placeholder": "​",
       "style": "IPY_MODEL_2888ec8faec4478885d6ec013e75a572",
       "tabbable": null,
       "tooltip": null,
       "value": "Batches: 100%"
      }
     },
     "93c3c77c411644078ed6bdde1b661134": {
      "model_module": "@jupyter-widgets/base",
      "model_module_version": "2.0.0",
      "model_name": "LayoutModel",
      "state": {
       "_model_module": "@jupyter-widgets/base",
       "_model_module_version": "2.0.0",
       "_model_name": "LayoutModel",
       "_view_count": null,
       "_view_module": "@jupyter-widgets/base",
       "_view_module_version": "2.0.0",
       "_view_name": "LayoutView",
       "align_content": null,
       "align_items": null,
       "align_self": null,
       "border_bottom": null,
       "border_left": null,
       "border_right": null,
       "border_top": null,
       "bottom": null,
       "display": null,
       "flex": null,
       "flex_flow": null,
       "grid_area": null,
       "grid_auto_columns": null,
       "grid_auto_flow": null,
       "grid_auto_rows": null,
       "grid_column": null,
       "grid_gap": null,
       "grid_row": null,
       "grid_template_areas": null,
       "grid_template_columns": null,
       "grid_template_rows": null,
       "height": null,
       "justify_content": null,
       "justify_items": null,
       "left": null,
       "margin": null,
       "max_height": null,
       "max_width": null,
       "min_height": null,
       "min_width": null,
       "object_fit": null,
       "object_position": null,
       "order": null,
       "overflow": null,
       "padding": null,
       "right": null,
       "top": null,
       "visibility": null,
       "width": null
      }
     },
     "9c8411320ea644eaad32a441bc8370c9": {
      "model_module": "@jupyter-widgets/controls",
      "model_module_version": "2.0.0",
      "model_name": "HTMLStyleModel",
      "state": {
       "_model_module": "@jupyter-widgets/controls",
       "_model_module_version": "2.0.0",
       "_model_name": "HTMLStyleModel",
       "_view_count": null,
       "_view_module": "@jupyter-widgets/base",
       "_view_module_version": "2.0.0",
       "_view_name": "StyleView",
       "background": null,
       "description_width": "",
       "font_size": null,
       "text_color": null
      }
     },
     "9cc8ff644e69455586eda08a67a498d6": {
      "model_module": "@jupyter-widgets/controls",
      "model_module_version": "2.0.0",
      "model_name": "ProgressStyleModel",
      "state": {
       "_model_module": "@jupyter-widgets/controls",
       "_model_module_version": "2.0.0",
       "_model_name": "ProgressStyleModel",
       "_view_count": null,
       "_view_module": "@jupyter-widgets/base",
       "_view_module_version": "2.0.0",
       "_view_name": "StyleView",
       "bar_color": null,
       "description_width": ""
      }
     },
     "a13cc978c1774f83987964dc1a034f71": {
      "model_module": "@jupyter-widgets/base",
      "model_module_version": "2.0.0",
      "model_name": "LayoutModel",
      "state": {
       "_model_module": "@jupyter-widgets/base",
       "_model_module_version": "2.0.0",
       "_model_name": "LayoutModel",
       "_view_count": null,
       "_view_module": "@jupyter-widgets/base",
       "_view_module_version": "2.0.0",
       "_view_name": "LayoutView",
       "align_content": null,
       "align_items": null,
       "align_self": null,
       "border_bottom": null,
       "border_left": null,
       "border_right": null,
       "border_top": null,
       "bottom": null,
       "display": null,
       "flex": null,
       "flex_flow": null,
       "grid_area": null,
       "grid_auto_columns": null,
       "grid_auto_flow": null,
       "grid_auto_rows": null,
       "grid_column": null,
       "grid_gap": null,
       "grid_row": null,
       "grid_template_areas": null,
       "grid_template_columns": null,
       "grid_template_rows": null,
       "height": null,
       "justify_content": null,
       "justify_items": null,
       "left": null,
       "margin": null,
       "max_height": null,
       "max_width": null,
       "min_height": null,
       "min_width": null,
       "object_fit": null,
       "object_position": null,
       "order": null,
       "overflow": null,
       "padding": null,
       "right": null,
       "top": null,
       "visibility": null,
       "width": null
      }
     },
     "c1734f2c964c46f783b4ea7975a2c234": {
      "model_module": "@jupyter-widgets/controls",
      "model_module_version": "2.0.0",
      "model_name": "FloatProgressModel",
      "state": {
       "_dom_classes": [],
       "_model_module": "@jupyter-widgets/controls",
       "_model_module_version": "2.0.0",
       "_model_name": "FloatProgressModel",
       "_view_count": null,
       "_view_module": "@jupyter-widgets/controls",
       "_view_module_version": "2.0.0",
       "_view_name": "ProgressView",
       "bar_style": "success",
       "description": "",
       "description_allow_html": false,
       "layout": "IPY_MODEL_fefd9289c7fc447d94651ab6e2382aab",
       "max": 1.0,
       "min": 0.0,
       "orientation": "horizontal",
       "style": "IPY_MODEL_ece096060b0541f184f7103984c999aa",
       "tabbable": null,
       "tooltip": null,
       "value": 1.0
      }
     },
     "e27844d13e2c4189b18585224d36e776": {
      "model_module": "@jupyter-widgets/controls",
      "model_module_version": "2.0.0",
      "model_name": "HBoxModel",
      "state": {
       "_dom_classes": [],
       "_model_module": "@jupyter-widgets/controls",
       "_model_module_version": "2.0.0",
       "_model_name": "HBoxModel",
       "_view_count": null,
       "_view_module": "@jupyter-widgets/controls",
       "_view_module_version": "2.0.0",
       "_view_name": "HBoxView",
       "box_style": "",
       "children": [
        "IPY_MODEL_51792dbb370b4fc4933e3c501c05ee46",
        "IPY_MODEL_c1734f2c964c46f783b4ea7975a2c234",
        "IPY_MODEL_7c006db8137941a58173302074b02601"
       ],
       "layout": "IPY_MODEL_93c3c77c411644078ed6bdde1b661134",
       "tabbable": null,
       "tooltip": null
      }
     },
     "e6e0e41103764662a858c5f625144c31": {
      "model_module": "@jupyter-widgets/base",
      "model_module_version": "2.0.0",
      "model_name": "LayoutModel",
      "state": {
       "_model_module": "@jupyter-widgets/base",
       "_model_module_version": "2.0.0",
       "_model_name": "LayoutModel",
       "_view_count": null,
       "_view_module": "@jupyter-widgets/base",
       "_view_module_version": "2.0.0",
       "_view_name": "LayoutView",
       "align_content": null,
       "align_items": null,
       "align_self": null,
       "border_bottom": null,
       "border_left": null,
       "border_right": null,
       "border_top": null,
       "bottom": null,
       "display": null,
       "flex": null,
       "flex_flow": null,
       "grid_area": null,
       "grid_auto_columns": null,
       "grid_auto_flow": null,
       "grid_auto_rows": null,
       "grid_column": null,
       "grid_gap": null,
       "grid_row": null,
       "grid_template_areas": null,
       "grid_template_columns": null,
       "grid_template_rows": null,
       "height": null,
       "justify_content": null,
       "justify_items": null,
       "left": null,
       "margin": null,
       "max_height": null,
       "max_width": null,
       "min_height": null,
       "min_width": null,
       "object_fit": null,
       "object_position": null,
       "order": null,
       "overflow": null,
       "padding": null,
       "right": null,
       "top": null,
       "visibility": null,
       "width": null
      }
     },
     "ec5de34ebc494fa591527b5e8caccaa5": {
      "model_module": "@jupyter-widgets/base",
      "model_module_version": "2.0.0",
      "model_name": "LayoutModel",
      "state": {
       "_model_module": "@jupyter-widgets/base",
       "_model_module_version": "2.0.0",
       "_model_name": "LayoutModel",
       "_view_count": null,
       "_view_module": "@jupyter-widgets/base",
       "_view_module_version": "2.0.0",
       "_view_name": "LayoutView",
       "align_content": null,
       "align_items": null,
       "align_self": null,
       "border_bottom": null,
       "border_left": null,
       "border_right": null,
       "border_top": null,
       "bottom": null,
       "display": null,
       "flex": null,
       "flex_flow": null,
       "grid_area": null,
       "grid_auto_columns": null,
       "grid_auto_flow": null,
       "grid_auto_rows": null,
       "grid_column": null,
       "grid_gap": null,
       "grid_row": null,
       "grid_template_areas": null,
       "grid_template_columns": null,
       "grid_template_rows": null,
       "height": null,
       "justify_content": null,
       "justify_items": null,
       "left": null,
       "margin": null,
       "max_height": null,
       "max_width": null,
       "min_height": null,
       "min_width": null,
       "object_fit": null,
       "object_position": null,
       "order": null,
       "overflow": null,
       "padding": null,
       "right": null,
       "top": null,
       "visibility": null,
       "width": null
      }
     },
     "ece096060b0541f184f7103984c999aa": {
      "model_module": "@jupyter-widgets/controls",
      "model_module_version": "2.0.0",
      "model_name": "ProgressStyleModel",
      "state": {
       "_model_module": "@jupyter-widgets/controls",
       "_model_module_version": "2.0.0",
       "_model_name": "ProgressStyleModel",
       "_view_count": null,
       "_view_module": "@jupyter-widgets/base",
       "_view_module_version": "2.0.0",
       "_view_name": "StyleView",
       "bar_color": null,
       "description_width": ""
      }
     },
     "f5552a0a78b44616b6d2dbf0bff81b98": {
      "model_module": "@jupyter-widgets/controls",
      "model_module_version": "2.0.0",
      "model_name": "HTMLStyleModel",
      "state": {
       "_model_module": "@jupyter-widgets/controls",
       "_model_module_version": "2.0.0",
       "_model_name": "HTMLStyleModel",
       "_view_count": null,
       "_view_module": "@jupyter-widgets/base",
       "_view_module_version": "2.0.0",
       "_view_name": "StyleView",
       "background": null,
       "description_width": "",
       "font_size": null,
       "text_color": null
      }
     },
     "fefd9289c7fc447d94651ab6e2382aab": {
      "model_module": "@jupyter-widgets/base",
      "model_module_version": "2.0.0",
      "model_name": "LayoutModel",
      "state": {
       "_model_module": "@jupyter-widgets/base",
       "_model_module_version": "2.0.0",
       "_model_name": "LayoutModel",
       "_view_count": null,
       "_view_module": "@jupyter-widgets/base",
       "_view_module_version": "2.0.0",
       "_view_name": "LayoutView",
       "align_content": null,
       "align_items": null,
       "align_self": null,
       "border_bottom": null,
       "border_left": null,
       "border_right": null,
       "border_top": null,
       "bottom": null,
       "display": null,
       "flex": null,
       "flex_flow": null,
       "grid_area": null,
       "grid_auto_columns": null,
       "grid_auto_flow": null,
       "grid_auto_rows": null,
       "grid_column": null,
       "grid_gap": null,
       "grid_row": null,
       "grid_template_areas": null,
       "grid_template_columns": null,
       "grid_template_rows": null,
       "height": null,
       "justify_content": null,
       "justify_items": null,
       "left": null,
       "margin": null,
       "max_height": null,
       "max_width": null,
       "min_height": null,
       "min_width": null,
       "object_fit": null,
       "object_position": null,
       "order": null,
       "overflow": null,
       "padding": null,
       "right": null,
       "top": null,
       "visibility": null,
       "width": null
      }
     }
    },
    "version_major": 2,
    "version_minor": 0
   }
  }
 },
 "nbformat": 4,
 "nbformat_minor": 5
}
