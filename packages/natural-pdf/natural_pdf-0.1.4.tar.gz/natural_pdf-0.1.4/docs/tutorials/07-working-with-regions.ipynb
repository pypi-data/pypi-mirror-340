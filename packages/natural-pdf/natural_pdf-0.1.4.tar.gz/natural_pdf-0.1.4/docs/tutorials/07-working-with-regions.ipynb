{
 "cells": [
  {
   "cell_type": "markdown",
   "id": "72a39b33",
   "metadata": {},
   "source": [
    "# Working with Regions\n",
    "\n",
    "Regions are rectangular areas on a page that let you focus on specific parts of a document. They're perfect for extracting text from defined areas, finding elements within certain boundaries, and working with document sections."
   ]
  },
  {
   "cell_type": "code",
   "execution_count": 1,
   "id": "48b62384",
   "metadata": {
    "execution": {
     "iopub.execute_input": "2025-04-13T11:46:19.789391Z",
     "iopub.status.busy": "2025-04-13T11:46:19.788964Z",
     "iopub.status.idle": "2025-04-13T11:46:19.793891Z",
     "shell.execute_reply": "2025-04-13T11:46:19.793252Z"
    }
   },
   "outputs": [],
   "source": [
    "#%pip install \"natural-pdf[all]\""
   ]
  },
  {
   "cell_type": "code",
   "execution_count": 2,
   "id": "d4e7d0ac",
   "metadata": {
    "execution": {
     "iopub.execute_input": "2025-04-13T11:46:19.796867Z",
     "iopub.status.busy": "2025-04-13T11:46:19.796481Z",
     "iopub.status.idle": "2025-04-13T11:46:27.556873Z",
     "shell.execute_reply": "2025-04-13T11:46:27.556505Z"
    }
   },
   "outputs": [
    {
     "data": {
      "text/plain": [
       "'Site:  Durham’s Meatpacking Chicago, Ill. Date:  February 3, 1905 Violation Count:  7 Summary:  Worst of any, however, were the fertilizer men, and those who served in the cooking rooms. These people could not be shown to the visitor - for the odor of a fertilizer man would scare any ordinary  visitor at a hundred yards, and as for the other men, who worked in tank rooms full of steam, and in  some of which there were open vats near the level of the floor, their peculiar trouble was that they fell'"
      ]
     },
     "execution_count": 2,
     "metadata": {},
     "output_type": "execute_result"
    }
   ],
   "source": [
    "from natural_pdf import PDF\n",
    "\n",
    "# Load a PDF\n",
    "pdf = PDF(\"https://github.com/jsoma/natural-pdf/raw/refs/heads/main/pdfs/01-practice.pdf\")\n",
    "page = pdf.pages[0]\n",
    "\n",
    "# Create a region in the top portion of the page\n",
    "top_region = page.create_region(\n",
    "    50,          # x0 (left)\n",
    "    50,          # y0 (top)\n",
    "    page.width - 50,  # x1 (right)\n",
    "    200          # y1 (bottom)\n",
    ")\n",
    "\n",
    "# Visualize the region\n",
    "top_region.show(color=\"blue\", label=\"Top Region\")\n",
    "\n",
    "# Extract text from this region\n",
    "top_region.extract_text()"
   ]
  },
  {
   "cell_type": "markdown",
   "id": "14eb9f74",
   "metadata": {},
   "source": [
    "## Creating Regions from Elements"
   ]
  },
  {
   "cell_type": "code",
   "execution_count": 3,
   "id": "8583ac26",
   "metadata": {
    "execution": {
     "iopub.execute_input": "2025-04-13T11:46:27.558562Z",
     "iopub.status.busy": "2025-04-13T11:46:27.558206Z",
     "iopub.status.idle": "2025-04-13T11:46:27.618252Z",
     "shell.execute_reply": "2025-04-13T11:46:27.617961Z"
    }
   },
   "outputs": [
    {
     "data": {
      "text/plain": [
       "'INS-UP70N51NCL41R Site:  Durham’s Meatpacking Chicago, Ill. Date:  February 3, 1905 Violation Count:  7'"
      ]
     },
     "execution_count": 3,
     "metadata": {},
     "output_type": "execute_result"
    }
   ],
   "source": [
    "# Find an element to create regions around\n",
    "title = page.find('text:contains(\"Jungle Health\")')\n",
    "\n",
    "# Create regions relative to this element\n",
    "below_title = title.below(height=100)\n",
    "right_of_title = title.right(width=200) \n",
    "above_title = title.above(height=50)\n",
    "\n",
    "# Visualize these regions\n",
    "below_title.show(color=\"green\", label=\"Below\")\n",
    "right_of_title.show(color=\"red\", label=\"Right\")\n",
    "above_title.show(color=\"orange\", label=\"Above\")\n",
    "\n",
    "# Extract text from the region below the title\n",
    "below_title.extract_text()"
   ]
  },
  {
   "cell_type": "markdown",
   "id": "c87ff34e",
   "metadata": {},
   "source": [
    "## Finding Elements Within Regions"
   ]
  },
  {
   "cell_type": "code",
   "execution_count": 4,
   "id": "6243baca",
   "metadata": {
    "execution": {
     "iopub.execute_input": "2025-04-13T11:46:27.619657Z",
     "iopub.status.busy": "2025-04-13T11:46:27.619534Z",
     "iopub.status.idle": "2025-04-13T11:46:27.663453Z",
     "shell.execute_reply": "2025-04-13T11:46:27.663105Z"
    }
   },
   "outputs": [
    {
     "data": {
      "text/plain": [
       "3"
      ]
     },
     "execution_count": 4,
     "metadata": {},
     "output_type": "execute_result"
    }
   ],
   "source": [
    "# Create a region for a specific document section\n",
    "form_region = page.create_region(50, 100, page.width - 50, 300)\n",
    "\n",
    "# Find elements only within this region\n",
    "labels = form_region.find_all('text:contains(\":\")') \n",
    "\n",
    "# Visualize the region and the elements found\n",
    "form_region.show(color=(0, 0, 1, 0.2), label=\"Form Region\")\n",
    "labels.show(color=\"purple\", label=\"Labels\")\n",
    "\n",
    "# Count the elements found\n",
    "len(labels)"
   ]
  },
  {
   "cell_type": "markdown",
   "id": "24b35e68",
   "metadata": {},
   "source": [
    "## Expanding and Adjusting Regions"
   ]
  },
  {
   "cell_type": "code",
   "execution_count": 5,
   "id": "aabbe9ce",
   "metadata": {
    "execution": {
     "iopub.execute_input": "2025-04-13T11:46:27.664819Z",
     "iopub.status.busy": "2025-04-13T11:46:27.664705Z",
     "iopub.status.idle": "2025-04-13T11:46:27.702061Z",
     "shell.execute_reply": "2025-04-13T11:46:27.701770Z"
    }
   },
   "outputs": [
    {
     "data": {
      "text/plain": [
       "'Summary:  These people could not be shown to the visitor - for the odor of a fertilizer man would scare any ordinary  visitor at a hundred yards, and as for the other men, who worked in tank rooms full of steam, and in  some of which there were open vats near the level of the floor, their peculiar trouble was that they fell into the vats; and when they were fished out, there was never enough of them left to be worth  exhibiting - sometimes they would be overlooked for days, till all but the bones of them had gone out to the world as Durham’s Pure Leaf Lard!'"
      ]
     },
     "execution_count": 5,
     "metadata": {},
     "output_type": "execute_result"
    }
   ],
   "source": [
    "# Find an element to work with\n",
    "element = page.find('text:contains(\"Summary:\")')\n",
    "\n",
    "# Create a tight region around the element\n",
    "tight_region = page.create_region(\n",
    "    element.x0, element.top, \n",
    "    element.x1, element.bottom\n",
    ")\n",
    "\n",
    "# Expand it to include surrounding content\n",
    "expanded_region = tight_region.expand(\n",
    "    left=10,       # Expand 10 points to the left\n",
    "    right=200,     # Expand 200 points to the right\n",
    "    top_expand=5,  # Expand 5 points above\n",
    "    bottom_expand=100  # Expand 100 points below\n",
    ")\n",
    "\n",
    "# Visualize both regions\n",
    "tight_region.show(color=\"red\", label=\"Original\")\n",
    "expanded_region.show(color=\"blue\", label=\"Expanded\")\n",
    "\n",
    "# Extract the content from the expanded region\n",
    "expanded_region.extract_text()"
   ]
  },
  {
   "cell_type": "markdown",
   "id": "788a438a",
   "metadata": {},
   "source": [
    "## Creating Bounded Regions"
   ]
  },
  {
   "cell_type": "code",
   "execution_count": 6,
   "id": "8b1f8f38",
   "metadata": {
    "execution": {
     "iopub.execute_input": "2025-04-13T11:46:27.703441Z",
     "iopub.status.busy": "2025-04-13T11:46:27.703342Z",
     "iopub.status.idle": "2025-04-13T11:46:27.725667Z",
     "shell.execute_reply": "2025-04-13T11:46:27.725374Z"
    }
   },
   "outputs": [
    {
     "data": {
      "text/plain": [
       "'Jungle Health and Safety Inspection Service INS-UP70N51NCL41R Site:  Durham’s Meatpacking Chicago, Ill. Date:  February 3, 1905 Violation Count:  7 Summary:  Worst of any, however, were the fertilizer...'"
      ]
     },
     "execution_count": 6,
     "metadata": {},
     "output_type": "execute_result"
    }
   ],
   "source": [
    "# Find two elements to serve as boundaries\n",
    "start_elem = page.find('text:contains(\"Summary:\")')\n",
    "end_elem = page.find('text:contains(\"Statute\")')\n",
    "\n",
    "# Create a region from start to end element\n",
    "bounded_region = start_elem.until(end_elem)\n",
    "\n",
    "# Visualize the bounded region\n",
    "bounded_region.show(color=\"green\", label=\"Bounded Region\")\n",
    "\n",
    "# Extract text from this bounded region\n",
    "bounded_region.extract_text()[:200] + \"...\" if len(bounded_region.extract_text()) > 200 else bounded_region.extract_text()"
   ]
  },
  {
   "cell_type": "markdown",
   "id": "6061b22b",
   "metadata": {},
   "source": [
    "## Working with Multiple Regions"
   ]
  },
  {
   "cell_type": "code",
   "execution_count": 7,
   "id": "b057a8ec",
   "metadata": {
    "execution": {
     "iopub.execute_input": "2025-04-13T11:46:27.727000Z",
     "iopub.status.busy": "2025-04-13T11:46:27.726908Z",
     "iopub.status.idle": "2025-04-13T11:46:27.790250Z",
     "shell.execute_reply": "2025-04-13T11:46:27.789878Z"
    }
   },
   "outputs": [
    {
     "data": {
      "text/plain": [
       "{'header': 'Jungle Health and Safety Inspection Service INS-UP70N51NCL41R Site:  Durham’s Meatpacking Chicago, Ill.',\n",
       " 'main': 'February 3, 1905 7 Worst of any, however, were the fertilizer men, and those who served in the cooki...',\n",
       " 'footer': 'Jungle Health and Safety Inspection Service'}"
      ]
     },
     "execution_count": 7,
     "metadata": {},
     "output_type": "execute_result"
    }
   ],
   "source": [
    "# Define multiple regions to extract different parts of the document\n",
    "header_region = page.create_region(0, 0, page.width, 100)\n",
    "main_region = page.create_region(100, 100, page.width - 100, page.height - 150)\n",
    "footer_region = page.create_region(0, page.height - 50, page.width, page.height)\n",
    "\n",
    "# Visualize all regions\n",
    "header_region.show(color=\"blue\", label=\"Header\")\n",
    "main_region.show(color=\"green\", label=\"Main Content\")\n",
    "footer_region.show(color=\"red\", label=\"Footer\")\n",
    "\n",
    "# Extract content from each region\n",
    "document_parts = {\n",
    "    \"header\": header_region.extract_text(),\n",
    "    \"main\": main_region.extract_text()[:100] + \"...\",\n",
    "    \"footer\": footer_region.extract_text()\n",
    "}\n",
    "\n",
    "# Show what we extracted\n",
    "document_parts"
   ]
  },
  {
   "cell_type": "markdown",
   "id": "a83078e6",
   "metadata": {},
   "source": [
    "## Creating an Image of a Region"
   ]
  },
  {
   "cell_type": "code",
   "execution_count": 8,
   "id": "25e1a3c1",
   "metadata": {
    "execution": {
     "iopub.execute_input": "2025-04-13T11:46:27.791726Z",
     "iopub.status.busy": "2025-04-13T11:46:27.791600Z",
     "iopub.status.idle": "2025-04-13T11:46:27.834797Z",
     "shell.execute_reply": "2025-04-13T11:46:27.834492Z"
    }
   },
   "outputs": [
    {
     "data": {
      "image/png": "[encoded data removed]",
      "text/plain": [
       "<PIL.Image.Image image mode=RGBA size=1224x198>"
      ]
     },
     "execution_count": 8,
     "metadata": {},
     "output_type": "execute_result"
    }
   ],
   "source": [
    "# Find a region of interest\n",
    "table_header = page.find('text:contains(\"Statute\")')\n",
    "table_region = table_header.below(height=100)\n",
    "\n",
    "# Visualize the region\n",
    "table_region.show(color=\"purple\", label=\"Table Region\")\n",
    "\n",
    "# Create an image of just this region\n",
    "table_region.to_image(resolution=150)"
   ]
  },
  {
   "cell_type": "markdown",
   "id": "98e473f2",
   "metadata": {},
   "source": [
    "Regions allow you to precisely target specific parts of a document for extraction and analysis. They're essential for handling complex document layouts and isolating the exact content you need. "
   ]
  }
 ],
 "metadata": {
  "jupytext": {
   "cell_metadata_filter": "-all",
   "main_language": "python",
   "notebook_metadata_filter": "-all"
  },
  "language_info": {
   "codemirror_mode": {
    "name": "ipython",
    "version": 3
   },
   "file_extension": ".py",
   "mimetype": "text/x-python",
   "name": "python",
   "nbconvert_exporter": "python",
   "pygments_lexer": "ipython3",
   "version": "3.10.13"
  }
 },
 "nbformat": 4,
 "nbformat_minor": 5
}
