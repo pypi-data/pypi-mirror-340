{
 "cells": [
  {
   "cell_type": "markdown",
   "id": "a6e80a28",
   "metadata": {},
   "source": [
    "# OCR Integration for Scanned Documents\n",
    "\n",
    "Optical Character Recognition (OCR) allows you to extract text from scanned documents where the text isn't embedded in the PDF. This tutorial demonstrates how to work with scanned documents."
   ]
  },
  {
   "cell_type": "code",
   "execution_count": 1,
   "id": "13b84f8a",
   "metadata": {
    "execution": {
     "iopub.execute_input": "2025-04-13T11:48:30.111342Z",
     "iopub.status.busy": "2025-04-13T11:48:30.111026Z",
     "iopub.status.idle": "2025-04-13T11:48:30.117840Z",
     "shell.execute_reply": "2025-04-13T11:48:30.117292Z"
    }
   },
   "outputs": [],
   "source": [
    "#%pip install \"natural-pdf[all]\""
   ]
  },
  {
   "cell_type": "code",
   "execution_count": 2,
   "id": "244d1ce4",
   "metadata": {
    "execution": {
     "iopub.execute_input": "2025-04-13T11:48:30.120290Z",
     "iopub.status.busy": "2025-04-13T11:48:30.120076Z",
     "iopub.status.idle": "2025-04-13T11:48:37.212527Z",
     "shell.execute_reply": "2025-04-13T11:48:37.211703Z"
    }
   },
   "outputs": [
    {
     "data": {
      "text/plain": [
       "'Without OCR: 0 characters extracted'"
      ]
     },
     "execution_count": 2,
     "metadata": {},
     "output_type": "execute_result"
    }
   ],
   "source": [
    "from natural_pdf import PDF\n",
    "\n",
    "# Load a PDF\n",
    "pdf = PDF(\"https://github.com/jsoma/natural-pdf/raw/refs/heads/main/pdfs/needs-ocr.pdf\")\n",
    "page = pdf.pages[0]\n",
    "\n",
    "# Try extracting text without OCR\n",
    "text_without_ocr = page.extract_text()\n",
    "f\"Without OCR: {len(text_without_ocr)} characters extracted\""
   ]
  },
  {
   "cell_type": "markdown",
   "id": "14277fb5",
   "metadata": {},
   "source": [
    "## Enabling OCR"
   ]
  },
  {
   "cell_type": "code",
   "execution_count": 3,
   "id": "44149012",
   "metadata": {
    "execution": {
     "iopub.execute_input": "2025-04-13T11:48:37.215855Z",
     "iopub.status.busy": "2025-04-13T11:48:37.215085Z",
     "iopub.status.idle": "2025-04-13T11:48:37.219733Z",
     "shell.execute_reply": "2025-04-13T11:48:37.219306Z"
    }
   },
   "outputs": [
    {
     "data": {
      "text/plain": [
       "''"
      ]
     },
     "execution_count": 3,
     "metadata": {},
     "output_type": "execute_result"
    }
   ],
   "source": [
    "# Enable OCR for text extraction\n",
    "page.use_ocr = True\n",
    "\n",
    "# Extract text with OCR enabled\n",
    "text_with_ocr = page.extract_text()\n",
    "\n",
    "# Preview the extracted text\n",
    "text_with_ocr[:200] + \"...\" if len(text_with_ocr) > 200 else text_with_ocr"
   ]
  },
  {
   "cell_type": "markdown",
   "id": "394653b2",
   "metadata": {},
   "source": [
    "## Finding Text Elements with OCR"
   ]
  },
  {
   "cell_type": "code",
   "execution_count": 4,
   "id": "d27e8be3",
   "metadata": {
    "execution": {
     "iopub.execute_input": "2025-04-13T11:48:37.221712Z",
     "iopub.status.busy": "2025-04-13T11:48:37.221552Z",
     "iopub.status.idle": "2025-04-13T11:48:46.811230Z",
     "shell.execute_reply": "2025-04-13T11:48:46.810922Z"
    }
   },
   "outputs": [
    {
     "name": "stderr",
     "output_type": "stream",
     "text": [
      "\u001b[2m2025-04-13T11:48:37.271539Z\u001b[0m [\u001b[33m\u001b[1mwarning  \u001b[0m] \u001b[1mUsing CPU. Note: This module is much faster with a GPU.\u001b[0m \u001b[36mlineno\u001b[0m=\u001b[35m71\u001b[0m \u001b[36mmodule\u001b[0m=\u001b[35measyocr.easyocr\u001b[0m\n"
     ]
    },
    {
     "name": "stderr",
     "output_type": "stream",
     "text": [
      "[2025-04-13 13:48:37,271] [ WARNING] easyocr.py:71 - Using CPU. Note: This module is much faster with a GPU.\n"
     ]
    },
    {
     "data": {
      "text/plain": [
       "<ElementCollection[Mixed](count=0)>"
      ]
     },
     "execution_count": 4,
     "metadata": {},
     "output_type": "execute_result"
    }
   ],
   "source": [
    "# Convert text-as-image to text elements\n",
    "page.apply_ocr()\n",
    "\n",
    "# Select all text pieces on the page\n",
    "text_elements = page.find_all('text')\n",
    "f\"Found {len(text_elements)} text elements\"\n",
    "\n",
    "# Visualize the elements\n",
    "text_elements.highlight()"
   ]
  },
  {
   "cell_type": "markdown",
   "id": "dbbfa444",
   "metadata": {},
   "source": [
    "## OCR Configuration Options"
   ]
  },
  {
   "cell_type": "code",
   "execution_count": 5,
   "id": "70ee0019",
   "metadata": {
    "execution": {
     "iopub.execute_input": "2025-04-13T11:48:46.812585Z",
     "iopub.status.busy": "2025-04-13T11:48:46.812490Z",
     "iopub.status.idle": "2025-04-13T11:48:46.815291Z",
     "shell.execute_reply": "2025-04-13T11:48:46.814884Z"
    }
   },
   "outputs": [
    {
     "data": {
      "text/plain": [
       "''"
      ]
     },
     "execution_count": 5,
     "metadata": {},
     "output_type": "execute_result"
    }
   ],
   "source": [
    "# Set OCR configuration for better results\n",
    "page.ocr_config = {\n",
    "    'language': 'eng',  # English\n",
    "    'dpi': 300,         # Higher resolution\n",
    "}\n",
    "\n",
    "# Extract text with the improved configuration\n",
    "improved_text = page.extract_text()\n",
    "\n",
    "# Preview the text\n",
    "improved_text[:200] + \"...\" if len(improved_text) > 200 else improved_text"
   ]
  },
  {
   "cell_type": "markdown",
   "id": "1de28a2c",
   "metadata": {},
   "source": [
    "## Working with Multi-language Documents"
   ]
  },
  {
   "cell_type": "code",
   "execution_count": 6,
   "id": "c8f04a79",
   "metadata": {
    "execution": {
     "iopub.execute_input": "2025-04-13T11:48:46.816662Z",
     "iopub.status.busy": "2025-04-13T11:48:46.816541Z",
     "iopub.status.idle": "2025-04-13T11:48:46.819237Z",
     "shell.execute_reply": "2025-04-13T11:48:46.818931Z"
    }
   },
   "outputs": [
    {
     "data": {
      "text/plain": [
       "''"
      ]
     },
     "execution_count": 6,
     "metadata": {},
     "output_type": "execute_result"
    }
   ],
   "source": [
    "# Configure for multiple languages\n",
    "page.ocr_config = {\n",
    "    'language': 'eng+fra+deu',  # English, French, German\n",
    "    'dpi': 300\n",
    "}\n",
    "\n",
    "# Extract text with multi-language support\n",
    "multilang_text = page.extract_text()\n",
    "multilang_text[:200]"
   ]
  },
  {
   "cell_type": "markdown",
   "id": "466d1901",
   "metadata": {},
   "source": [
    "## Extracting Tables from Scanned Documents"
   ]
  },
  {
   "cell_type": "code",
   "execution_count": 7,
   "id": "44975135",
   "metadata": {
    "execution": {
     "iopub.execute_input": "2025-04-13T11:48:46.820686Z",
     "iopub.status.busy": "2025-04-13T11:48:46.820559Z",
     "iopub.status.idle": "2025-04-13T11:48:49.274051Z",
     "shell.execute_reply": "2025-04-13T11:48:49.273694Z"
    }
   },
   "outputs": [
    {
     "name": "stdout",
     "output_type": "stream",
     "text": [
      "\n"
     ]
    },
    {
     "name": "stdout",
     "output_type": "stream",
     "text": [
      "image 1/1 /var/folders/25/h3prywj14qb0mlkl2s8bxq5m0000gn/T/tmpdtf16bnu/temp_layout_image.png: 1024x800 2 titles, 2 plain texts, 3 abandons, 1 table, 1675.0ms\n"
     ]
    },
    {
     "name": "stdout",
     "output_type": "stream",
     "text": [
      "Speed: 5.2ms preprocess, 1675.0ms inference, 0.8ms postprocess per image at shape (1, 3, 1024, 800)\n"
     ]
    }
   ],
   "source": [
    "# Enable OCR and analyze the document layout\n",
    "page.use_ocr = True\n",
    "page.analyze_layout()\n",
    "\n",
    "# Find table regions\n",
    "table_regions = page.find_all('region[type=table]')\n",
    "\n",
    "# Visualize any detected tables\n",
    "table_regions.highlight()\n",
    "\n",
    "# Extract the first table if found\n",
    "if table_regions:\n",
    "    table_data = table_regions[0].extract_table()\n",
    "    table_data\n",
    "else:\n",
    "    \"No tables found in the document\""
   ]
  },
  {
   "cell_type": "markdown",
   "id": "5a7027b4",
   "metadata": {},
   "source": [
    "## Finding Form Fields in Scanned Documents"
   ]
  },
  {
   "cell_type": "code",
   "execution_count": 8,
   "id": "98b095f1",
   "metadata": {
    "execution": {
     "iopub.execute_input": "2025-04-13T11:48:49.275542Z",
     "iopub.status.busy": "2025-04-13T11:48:49.275431Z",
     "iopub.status.idle": "2025-04-13T11:48:49.278757Z",
     "shell.execute_reply": "2025-04-13T11:48:49.278469Z"
    }
   },
   "outputs": [
    {
     "data": {
      "text/plain": [
       "{}"
      ]
     },
     "execution_count": 8,
     "metadata": {},
     "output_type": "execute_result"
    }
   ],
   "source": [
    "# Look for potential form labels (containing a colon)\n",
    "labels = page.find_all('text:contains(\":\")') \n",
    "\n",
    "# Visualize the labels\n",
    "labels.highlight()\n",
    "\n",
    "# Extract form data by looking to the right of each label\n",
    "form_data = {}\n",
    "for label in labels:\n",
    "    # Clean the label text\n",
    "    field_name = label.text.strip().rstrip(':')\n",
    "    \n",
    "    # Find the value to the right\n",
    "    value_element = label.right(width=200)\n",
    "    value = value_element.extract_text().strip()\n",
    "    \n",
    "    # Add to our dictionary\n",
    "    form_data[field_name] = value\n",
    "\n",
    "# Display the extracted data\n",
    "form_data"
   ]
  },
  {
   "cell_type": "markdown",
   "id": "c118a5de",
   "metadata": {},
   "source": [
    "## Combining OCR with Layout Analysis"
   ]
  },
  {
   "cell_type": "code",
   "execution_count": 9,
   "id": "e04ac551",
   "metadata": {
    "execution": {
     "iopub.execute_input": "2025-04-13T11:48:49.280064Z",
     "iopub.status.busy": "2025-04-13T11:48:49.279962Z",
     "iopub.status.idle": "2025-04-13T11:48:50.967273Z",
     "shell.execute_reply": "2025-04-13T11:48:50.966975Z"
    }
   },
   "outputs": [
    {
     "name": "stdout",
     "output_type": "stream",
     "text": [
      "\n"
     ]
    },
    {
     "name": "stdout",
     "output_type": "stream",
     "text": [
      "image 1/1 /var/folders/25/h3prywj14qb0mlkl2s8bxq5m0000gn/T/tmpvn6u02y_/temp_layout_image.png: 1024x800 2 titles, 2 plain texts, 3 abandons, 1 table, 1609.8ms\n"
     ]
    },
    {
     "name": "stdout",
     "output_type": "stream",
     "text": [
      "Speed: 4.5ms preprocess, 1609.8ms inference, 0.8ms postprocess per image at shape (1, 3, 1024, 800)\n"
     ]
    },
    {
     "data": {
      "text/plain": [
       "[]"
      ]
     },
     "execution_count": 9,
     "metadata": {},
     "output_type": "execute_result"
    }
   ],
   "source": [
    "# Apply OCR and analyze layout\n",
    "page.use_ocr = True\n",
    "page.analyze_layout()\n",
    "\n",
    "# Find document structure elements\n",
    "headings = page.find_all('region[type=heading]')\n",
    "paragraphs = page.find_all('region[type=paragraph]')\n",
    "\n",
    "# Visualize the structure\n",
    "headings.highlight(color=\"red\", label=\"Headings\")\n",
    "paragraphs.highlight(color=\"blue\", label=\"Paragraphs\")\n",
    "\n",
    "# Create a simple document outline\n",
    "document_outline = []\n",
    "for heading in headings:\n",
    "    heading_text = heading.extract_text()\n",
    "    document_outline.append(heading_text)\n",
    "\n",
    "document_outline"
   ]
  },
  {
   "cell_type": "markdown",
   "id": "1de0e30f",
   "metadata": {},
   "source": [
    "## Working with Multiple Pages"
   ]
  },
  {
   "cell_type": "code",
   "execution_count": 10,
   "id": "5122adca",
   "metadata": {
    "execution": {
     "iopub.execute_input": "2025-04-13T11:48:50.968612Z",
     "iopub.status.busy": "2025-04-13T11:48:50.968521Z",
     "iopub.status.idle": "2025-04-13T11:48:50.971479Z",
     "shell.execute_reply": "2025-04-13T11:48:50.971196Z"
    }
   },
   "outputs": [
    {
     "data": {
      "text/plain": [
       "['Page 1: ...']"
      ]
     },
     "execution_count": 10,
     "metadata": {},
     "output_type": "execute_result"
    }
   ],
   "source": [
    "# Process all pages in the document\n",
    "all_text = []\n",
    "\n",
    "for i, page in enumerate(pdf.pages):\n",
    "    # Enable OCR for each page\n",
    "    page.use_ocr = True\n",
    "    \n",
    "    # Extract text\n",
    "    page_text = page.extract_text()\n",
    "    \n",
    "    # Add to our collection with page number\n",
    "    all_text.append(f\"Page {i+1}: {page_text[:100]}...\")\n",
    "\n",
    "# Show the first few pages\n",
    "all_text"
   ]
  },
  {
   "cell_type": "markdown",
   "id": "6bbbe135",
   "metadata": {},
   "source": [
    "## Saving PDFs with Searchable Text\n",
    "\n",
    "After applying OCR to a PDF, you can save a new version of the PDF where the recognized text is embedded as an invisible layer. This makes the text searchable and copyable in standard PDF viewers.\n",
    "\n",
    "Use the `save_searchable()` method on the `PDF` object:"
   ]
  },
  {
   "cell_type": "code",
   "execution_count": 11,
   "id": "39053275",
   "metadata": {
    "execution": {
     "iopub.execute_input": "2025-04-13T11:48:50.972675Z",
     "iopub.status.busy": "2025-04-13T11:48:50.972586Z",
     "iopub.status.idle": "2025-04-13T11:49:02.388940Z",
     "shell.execute_reply": "2025-04-13T11:49:02.388630Z"
    }
   },
   "outputs": [
    {
     "name": "stderr",
     "output_type": "stream",
     "text": [
      "\u001b[2m2025-04-13T11:48:51.998243Z\u001b[0m [\u001b[33m\u001b[1mwarning  \u001b[0m] \u001b[1mUsing CPU. Note: This module is much faster with a GPU.\u001b[0m \u001b[36mlineno\u001b[0m=\u001b[35m71\u001b[0m \u001b[36mmodule\u001b[0m=\u001b[35measyocr.easyocr\u001b[0m\n"
     ]
    },
    {
     "name": "stderr",
     "output_type": "stream",
     "text": [
      "[2025-04-13 13:48:51,998] [ WARNING] easyocr.py:71 - Using CPU. Note: This module is much faster with a GPU.\n"
     ]
    },
    {
     "name": "stderr",
     "output_type": "stream",
     "text": [
      "\u001b[2m2025-04-13T11:49:02.131991Z\u001b[0m [\u001b[33m\u001b[1mwarning  \u001b[0m] \u001b[1mPage 1 has no OCR elements (text[source=ocr]) to generate hOCR from.\u001b[0m \u001b[36mlineno\u001b[0m=\u001b[35m86\u001b[0m \u001b[36mmodule\u001b[0m=\u001b[35mnatural_pdf.exporters.searchable_pdf\u001b[0m \u001b[36mpageno\u001b[0m=\u001b[35mNone\u001b[0m\n"
     ]
    },
    {
     "name": "stderr",
     "output_type": "stream",
     "text": [
      "[2025-04-13 13:49:02,131] [ WARNING] searchable_pdf.py:86 - Page 1 has no OCR elements (text[source=ocr]) to generate hOCR from.\n"
     ]
    }
   ],
   "source": [
    "from natural_pdf import PDF\n",
    "\n",
    "input_pdf_path = \"https://github.com/jsoma/natural-pdf/raw/refs/heads/main/pdfs/needs-ocr.pdf\"\n",
    "\n",
    "pdf = PDF(input_pdf_path)\n",
    "pdf.apply_ocr() \n",
    "\n",
    "pdf.save_searchable(\"needs-ocr-searchable.pdf\")"
   ]
  },
  {
   "cell_type": "markdown",
   "id": "8d9e1c9d",
   "metadata": {},
   "source": [
    "This creates `needs-ocr-searchable.pdf`, which looks identical to the original but now has a text layer corresponding to the OCR results. You can adjust the rendering resolution used during saving with the `dpi` parameter (default is 300).\n",
    "\n",
    "OCR integration enables you to work with scanned documents, historical archives, and image-based PDFs that don't have embedded text. By combining OCR with natural-pdf's layout analysis capabilities, you can turn any document into structured, searchable data. "
   ]
  }
 ],
 "metadata": {
  "jupytext": {
   "cell_metadata_filter": "-all",
   "main_language": "python",
   "notebook_metadata_filter": "-all",
   "text_representation": {
    "extension": ".md",
    "format_name": "markdown"
   }
  },
  "language_info": {
   "codemirror_mode": {
    "name": "ipython",
    "version": 3
   },
   "file_extension": ".py",
   "mimetype": "text/x-python",
   "name": "python",
   "nbconvert_exporter": "python",
   "pygments_lexer": "ipython3",
   "version": "3.10.13"
  }
 },
 "nbformat": 4,
 "nbformat_minor": 5
}
