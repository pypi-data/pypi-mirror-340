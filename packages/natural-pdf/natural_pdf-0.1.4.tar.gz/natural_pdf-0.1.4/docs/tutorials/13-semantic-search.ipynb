{
 "cells": [
  {
   "cell_type": "markdown",
   "id": "d01d1927",
   "metadata": {},
   "source": [
    "# Semantic Search Across Multiple Documents\n",
    "\n",
    "When working with a collection of PDFs, you might need to find information relevant to a specific query across all documents, not just within a single one. This tutorial demonstrates how to perform semantic search over a `PDFCollection`."
   ]
  },
  {
   "cell_type": "code",
   "execution_count": 1,
   "id": "aa865b3c",
   "metadata": {
    "execution": {
     "iopub.execute_input": "2025-04-13T11:47:43.568363Z",
     "iopub.status.busy": "2025-04-13T11:47:43.568242Z",
     "iopub.status.idle": "2025-04-13T11:47:43.571099Z",
     "shell.execute_reply": "2025-04-13T11:47:43.570739Z"
    }
   },
   "outputs": [],
   "source": [
    "#%pip install \"natural-pdf[all]\"\n",
    "#%pip install \"natural-pdf[search]\"  # Ensure search dependencies are installed"
   ]
  },
  {
   "cell_type": "code",
   "execution_count": 2,
   "id": "d9617df7",
   "metadata": {
    "execution": {
     "iopub.execute_input": "2025-04-13T11:47:43.572490Z",
     "iopub.status.busy": "2025-04-13T11:47:43.572357Z",
     "iopub.status.idle": "2025-04-13T11:47:50.271823Z",
     "shell.execute_reply": "2025-04-13T11:47:50.271313Z"
    }
   },
   "outputs": [
    {
     "name": "stderr",
     "output_type": "stream",
     "text": [
      "natural_pdf.collections.pdf_collection - INFO - Initializing 2 PDF objects...\n"
     ]
    },
    {
     "name": "stderr",
     "output_type": "stream",
     "text": [
      "\u001b[2m2025-04-13T11:47:49.658337Z\u001b[0m [\u001b[32m\u001b[1minfo     \u001b[0m] \u001b[1mInitializing 2 PDF objects... \u001b[0m \u001b[36mlineno\u001b[0m=\u001b[35m145\u001b[0m \u001b[36mmessage\u001b[0m=\u001b[35mInitializing 2 PDF objects...\u001b[0m \u001b[36mmodule\u001b[0m=\u001b[35mnatural_pdf.collections.pdf_collection\u001b[0m\n"
     ]
    },
    {
     "name": "stderr",
     "output_type": "stream",
     "text": [
      "[2025-04-13 13:47:49,657] [    INFO] pdf_collection.py:145 - Initializing 2 PDF objects...\n"
     ]
    },
    {
     "name": "stderr",
     "output_type": "stream",
     "text": [
      "\r",
      "Loading PDFs:   0%|                                              | 0/2 [00:00<?, ?it/s]"
     ]
    },
    {
     "name": "stderr",
     "output_type": "stream",
     "text": [
      "natural_pdf.core.pdf - INFO - Downloading PDF from URL: https://github.com/jsoma/natural-pdf/raw/refs/heads/main/pdfs/01-practice.pdf\n"
     ]
    },
    {
     "name": "stderr",
     "output_type": "stream",
     "text": [
      "\u001b[2m2025-04-13T11:47:49.675516Z\u001b[0m [\u001b[32m\u001b[1minfo     \u001b[0m] \u001b[1mDownloading PDF from URL: https://github.com/jsoma/natural-pdf/raw/refs/heads/main/pdfs/01-practice.pdf\u001b[0m \u001b[36mlineno\u001b[0m=\u001b[35m80\u001b[0m \u001b[36mmessage\u001b[0m=\u001b[35mDownloading PDF from URL: https://github.com/jsoma/natural-pdf/raw/refs/heads/main/pdfs/01-practice.pdf\u001b[0m \u001b[36mmodule\u001b[0m=\u001b[35mnatural_pdf.core.pdf\u001b[0m\n"
     ]
    },
    {
     "name": "stderr",
     "output_type": "stream",
     "text": [
      "[2025-04-13 13:47:49,675] [    INFO] pdf.py:80 - Downloading PDF from URL: https://github.com/jsoma/natural-pdf/raw/refs/heads/main/pdfs/01-practice.pdf\n"
     ]
    },
    {
     "name": "stderr",
     "output_type": "stream",
     "text": [
      "natural_pdf.core.pdf - INFO - PDF downloaded to temporary file: /var/folders/25/h3prywj14qb0mlkl2s8bxq5m0000gn/T/tmplduy73q3.pdf\n"
     ]
    },
    {
     "name": "stderr",
     "output_type": "stream",
     "text": [
      "\u001b[2m2025-04-13T11:47:49.909076Z\u001b[0m [\u001b[32m\u001b[1minfo     \u001b[0m] \u001b[1mPDF downloaded to temporary file: /var/folders/25/h3prywj14qb0mlkl2s8bxq5m0000gn/T/tmplduy73q3.pdf\u001b[0m \u001b[36mlineno\u001b[0m=\u001b[35m93\u001b[0m \u001b[36mmessage\u001b[0m=\u001b[35mPDF downloaded to temporary file: /var/folders/25/h3prywj14qb0mlkl2s8bxq5m0000gn/T/tmplduy73q3.pdf\u001b[0m \u001b[36mmodule\u001b[0m=\u001b[35mnatural_pdf.core.pdf\u001b[0m\n"
     ]
    },
    {
     "name": "stderr",
     "output_type": "stream",
     "text": [
      "[2025-04-13 13:47:49,908] [    INFO] pdf.py:93 - PDF downloaded to temporary file: /var/folders/25/h3prywj14qb0mlkl2s8bxq5m0000gn/T/tmplduy73q3.pdf\n"
     ]
    },
    {
     "name": "stderr",
     "output_type": "stream",
     "text": [
      "natural_pdf.core.pdf - INFO - Initializing PDF from /var/folders/25/h3prywj14qb0mlkl2s8bxq5m0000gn/T/tmplduy73q3.pdf\n"
     ]
    },
    {
     "name": "stderr",
     "output_type": "stream",
     "text": [
      "\u001b[2m2025-04-13T11:47:49.909730Z\u001b[0m [\u001b[32m\u001b[1minfo     \u001b[0m] \u001b[1mInitializing PDF from /var/folders/25/h3prywj14qb0mlkl2s8bxq5m0000gn/T/tmplduy73q3.pdf\u001b[0m \u001b[36mlineno\u001b[0m=\u001b[35m106\u001b[0m \u001b[36mmessage\u001b[0m=\u001b[35mInitializing PDF from /var/folders/25/h3prywj14qb0mlkl2s8bxq5m0000gn/T/tmplduy73q3.pdf\u001b[0m \u001b[36mmodule\u001b[0m=\u001b[35mnatural_pdf.core.pdf\u001b[0m\n"
     ]
    },
    {
     "name": "stderr",
     "output_type": "stream",
     "text": [
      "[2025-04-13 13:47:49,909] [    INFO] pdf.py:106 - Initializing PDF from /var/folders/25/h3prywj14qb0mlkl2s8bxq5m0000gn/T/tmplduy73q3.pdf\n"
     ]
    },
    {
     "name": "stderr",
     "output_type": "stream",
     "text": [
      "natural_pdf.ocr.ocr_manager - INFO - OCRManager initialized.\n"
     ]
    },
    {
     "name": "stderr",
     "output_type": "stream",
     "text": [
      "\u001b[2m2025-04-13T11:47:49.911378Z\u001b[0m [\u001b[32m\u001b[1minfo     \u001b[0m] \u001b[1mOCRManager initialized.       \u001b[0m \u001b[36mlineno\u001b[0m=\u001b[35m38\u001b[0m \u001b[36mmessage\u001b[0m=\u001b[35mOCRManager initialized.\u001b[0m \u001b[36mmodule\u001b[0m=\u001b[35mnatural_pdf.ocr.ocr_manager\u001b[0m\n"
     ]
    },
    {
     "name": "stderr",
     "output_type": "stream",
     "text": [
      "[2025-04-13 13:47:49,911] [    INFO] ocr_manager.py:38 - OCRManager initialized.\n"
     ]
    },
    {
     "name": "stderr",
     "output_type": "stream",
     "text": [
      "natural_pdf.analyzers.layout.layout_manager - INFO - LayoutManager initialized. Available engines: ['yolo', 'tatr', 'paddle', 'surya', 'docling']\n"
     ]
    },
    {
     "name": "stderr",
     "output_type": "stream",
     "text": [
      "\u001b[2m2025-04-13T11:47:49.912104Z\u001b[0m [\u001b[32m\u001b[1minfo     \u001b[0m] \u001b[1mLayoutManager initialized. Available engines: ['yolo', 'tatr', 'paddle', 'surya', 'docling']\u001b[0m \u001b[36mlineno\u001b[0m=\u001b[35m68\u001b[0m \u001b[36mmessage\u001b[0m=\u001b[35mLayoutManager initialized. Available engines: ['yolo', 'tatr', 'paddle', 'surya', 'docling']\u001b[0m \u001b[36mmodule\u001b[0m=\u001b[35mnatural_pdf.analyzers.layout.layout_manager\u001b[0m\n"
     ]
    },
    {
     "name": "stderr",
     "output_type": "stream",
     "text": [
      "[2025-04-13 13:47:49,911] [    INFO] layout_manager.py:68 - LayoutManager initialized. Available engines: ['yolo', 'tatr', 'paddle', 'surya', 'docling']\n"
     ]
    },
    {
     "name": "stderr",
     "output_type": "stream",
     "text": [
      "natural_pdf.core.highlighting_service - INFO - HighlightingService initialized with ColorManager.\n"
     ]
    },
    {
     "name": "stderr",
     "output_type": "stream",
     "text": [
      "\u001b[2m2025-04-13T11:47:49.912762Z\u001b[0m [\u001b[32m\u001b[1minfo     \u001b[0m] \u001b[1mHighlightingService initialized with ColorManager.\u001b[0m \u001b[36mlineno\u001b[0m=\u001b[35m286\u001b[0m \u001b[36mmessage\u001b[0m=\u001b[35mHighlightingService initialized with ColorManager.\u001b[0m \u001b[36mmodule\u001b[0m=\u001b[35mnatural_pdf.core.highlighting_service\u001b[0m\n"
     ]
    },
    {
     "name": "stderr",
     "output_type": "stream",
     "text": [
      "[2025-04-13 13:47:49,912] [    INFO] highlighting_service.py:286 - HighlightingService initialized with ColorManager.\n"
     ]
    },
    {
     "name": "stderr",
     "output_type": "stream",
     "text": [
      "natural_pdf.core.pdf - INFO - Initialized HighlightingService.\n"
     ]
    },
    {
     "name": "stderr",
     "output_type": "stream",
     "text": [
      "\u001b[2m2025-04-13T11:47:49.914736Z\u001b[0m [\u001b[32m\u001b[1minfo     \u001b[0m] \u001b[1mInitialized HighlightingService.\u001b[0m \u001b[36mlineno\u001b[0m=\u001b[35m141\u001b[0m \u001b[36mmessage\u001b[0m=\u001b[35mInitialized HighlightingService.\u001b[0m \u001b[36mmodule\u001b[0m=\u001b[35mnatural_pdf.core.pdf\u001b[0m\n"
     ]
    },
    {
     "name": "stderr",
     "output_type": "stream",
     "text": [
      "[2025-04-13 13:47:49,914] [    INFO] pdf.py:141 - Initialized HighlightingService.\n"
     ]
    },
    {
     "name": "stderr",
     "output_type": "stream",
     "text": [
      "natural_pdf.core.pdf - INFO - PDF 'https://github.com/jsoma/natural-pdf/raw/refs/heads/main/pdfs/01-practice.pdf' initialized with 1 pages.\n"
     ]
    },
    {
     "name": "stderr",
     "output_type": "stream",
     "text": [
      "\u001b[2m2025-04-13T11:47:49.915592Z\u001b[0m [\u001b[32m\u001b[1minfo     \u001b[0m] \u001b[1mPDF 'https://github.com/jsoma/natural-pdf/raw/refs/heads/main/pdfs/01-practice.pdf' initialized with 1 pages.\u001b[0m \u001b[36mlineno\u001b[0m=\u001b[35m142\u001b[0m \u001b[36mmessage\u001b[0m=\u001b[35mPDF 'https://github.com/jsoma/natural-pdf/raw/refs/heads/main/pdfs/01-practice.pdf' initialized with 1 pages.\u001b[0m \u001b[36mmodule\u001b[0m=\u001b[35mnatural_pdf.core.pdf\u001b[0m\n"
     ]
    },
    {
     "name": "stderr",
     "output_type": "stream",
     "text": [
      "[2025-04-13 13:47:49,915] [    INFO] pdf.py:142 - PDF 'https://github.com/jsoma/natural-pdf/raw/refs/heads/main/pdfs/01-practice.pdf' initialized with 1 pages.\n"
     ]
    },
    {
     "name": "stderr",
     "output_type": "stream",
     "text": [
      "\r",
      "Loading PDFs:  50%|███████████████████                   | 1/2 [00:00<00:00,  4.15it/s]"
     ]
    },
    {
     "name": "stderr",
     "output_type": "stream",
     "text": [
      "natural_pdf.core.pdf - INFO - Downloading PDF from URL: https://github.com/jsoma/natural-pdf/raw/refs/heads/main/pdfs/Atlanta_Public_Schools_GA_sample.pdf\n"
     ]
    },
    {
     "name": "stderr",
     "output_type": "stream",
     "text": [
      "\u001b[2m2025-04-13T11:47:49.916368Z\u001b[0m [\u001b[32m\u001b[1minfo     \u001b[0m] \u001b[1mDownloading PDF from URL: https://github.com/jsoma/natural-pdf/raw/refs/heads/main/pdfs/Atlanta_Public_Schools_GA_sample.pdf\u001b[0m \u001b[36mlineno\u001b[0m=\u001b[35m80\u001b[0m \u001b[36mmessage\u001b[0m=\u001b[35mDownloading PDF from URL: https://github.com/jsoma/natural-pdf/raw/refs/heads/main/pdfs/Atlanta_Public_Schools_GA_sample.pdf\u001b[0m \u001b[36mmodule\u001b[0m=\u001b[35mnatural_pdf.core.pdf\u001b[0m\n"
     ]
    },
    {
     "name": "stderr",
     "output_type": "stream",
     "text": [
      "[2025-04-13 13:47:49,916] [    INFO] pdf.py:80 - Downloading PDF from URL: https://github.com/jsoma/natural-pdf/raw/refs/heads/main/pdfs/Atlanta_Public_Schools_GA_sample.pdf\n"
     ]
    },
    {
     "name": "stderr",
     "output_type": "stream",
     "text": [
      "natural_pdf.core.pdf - INFO - PDF downloaded to temporary file: /var/folders/25/h3prywj14qb0mlkl2s8bxq5m0000gn/T/tmp__h0cd9h.pdf\n"
     ]
    },
    {
     "name": "stderr",
     "output_type": "stream",
     "text": [
      "\u001b[2m2025-04-13T11:47:50.258874Z\u001b[0m [\u001b[32m\u001b[1minfo     \u001b[0m] \u001b[1mPDF downloaded to temporary file: /var/folders/25/h3prywj14qb0mlkl2s8bxq5m0000gn/T/tmp__h0cd9h.pdf\u001b[0m \u001b[36mlineno\u001b[0m=\u001b[35m93\u001b[0m \u001b[36mmessage\u001b[0m=\u001b[35mPDF downloaded to temporary file: /var/folders/25/h3prywj14qb0mlkl2s8bxq5m0000gn/T/tmp__h0cd9h.pdf\u001b[0m \u001b[36mmodule\u001b[0m=\u001b[35mnatural_pdf.core.pdf\u001b[0m\n"
     ]
    },
    {
     "name": "stderr",
     "output_type": "stream",
     "text": [
      "[2025-04-13 13:47:50,258] [    INFO] pdf.py:93 - PDF downloaded to temporary file: /var/folders/25/h3prywj14qb0mlkl2s8bxq5m0000gn/T/tmp__h0cd9h.pdf\n"
     ]
    },
    {
     "name": "stderr",
     "output_type": "stream",
     "text": [
      "natural_pdf.core.pdf - INFO - Initializing PDF from /var/folders/25/h3prywj14qb0mlkl2s8bxq5m0000gn/T/tmp__h0cd9h.pdf\n"
     ]
    },
    {
     "name": "stderr",
     "output_type": "stream",
     "text": [
      "\u001b[2m2025-04-13T11:47:50.260105Z\u001b[0m [\u001b[32m\u001b[1minfo     \u001b[0m] \u001b[1mInitializing PDF from /var/folders/25/h3prywj14qb0mlkl2s8bxq5m0000gn/T/tmp__h0cd9h.pdf\u001b[0m \u001b[36mlineno\u001b[0m=\u001b[35m106\u001b[0m \u001b[36mmessage\u001b[0m=\u001b[35mInitializing PDF from /var/folders/25/h3prywj14qb0mlkl2s8bxq5m0000gn/T/tmp__h0cd9h.pdf\u001b[0m \u001b[36mmodule\u001b[0m=\u001b[35mnatural_pdf.core.pdf\u001b[0m\n"
     ]
    },
    {
     "name": "stderr",
     "output_type": "stream",
     "text": [
      "[2025-04-13 13:47:50,259] [    INFO] pdf.py:106 - Initializing PDF from /var/folders/25/h3prywj14qb0mlkl2s8bxq5m0000gn/T/tmp__h0cd9h.pdf\n"
     ]
    },
    {
     "name": "stderr",
     "output_type": "stream",
     "text": [
      "natural_pdf.ocr.ocr_manager - INFO - OCRManager initialized.\n"
     ]
    },
    {
     "name": "stderr",
     "output_type": "stream",
     "text": [
      "\u001b[2m2025-04-13T11:47:50.261983Z\u001b[0m [\u001b[32m\u001b[1minfo     \u001b[0m] \u001b[1mOCRManager initialized.       \u001b[0m \u001b[36mlineno\u001b[0m=\u001b[35m38\u001b[0m \u001b[36mmessage\u001b[0m=\u001b[35mOCRManager initialized.\u001b[0m \u001b[36mmodule\u001b[0m=\u001b[35mnatural_pdf.ocr.ocr_manager\u001b[0m\n"
     ]
    },
    {
     "name": "stderr",
     "output_type": "stream",
     "text": [
      "[2025-04-13 13:47:50,261] [    INFO] ocr_manager.py:38 - OCRManager initialized.\n"
     ]
    },
    {
     "name": "stderr",
     "output_type": "stream",
     "text": [
      "natural_pdf.analyzers.layout.layout_manager - INFO - LayoutManager initialized. Available engines: ['yolo', 'tatr', 'paddle', 'surya', 'docling']\n"
     ]
    },
    {
     "name": "stderr",
     "output_type": "stream",
     "text": [
      "\u001b[2m2025-04-13T11:47:50.262781Z\u001b[0m [\u001b[32m\u001b[1minfo     \u001b[0m] \u001b[1mLayoutManager initialized. Available engines: ['yolo', 'tatr', 'paddle', 'surya', 'docling']\u001b[0m \u001b[36mlineno\u001b[0m=\u001b[35m68\u001b[0m \u001b[36mmessage\u001b[0m=\u001b[35mLayoutManager initialized. Available engines: ['yolo', 'tatr', 'paddle', 'surya', 'docling']\u001b[0m \u001b[36mmodule\u001b[0m=\u001b[35mnatural_pdf.analyzers.layout.layout_manager\u001b[0m\n"
     ]
    },
    {
     "name": "stderr",
     "output_type": "stream",
     "text": [
      "[2025-04-13 13:47:50,262] [    INFO] layout_manager.py:68 - LayoutManager initialized. Available engines: ['yolo', 'tatr', 'paddle', 'surya', 'docling']\n"
     ]
    },
    {
     "name": "stderr",
     "output_type": "stream",
     "text": [
      "natural_pdf.core.highlighting_service - INFO - HighlightingService initialized with ColorManager.\n"
     ]
    },
    {
     "name": "stderr",
     "output_type": "stream",
     "text": [
      "\u001b[2m2025-04-13T11:47:50.263666Z\u001b[0m [\u001b[32m\u001b[1minfo     \u001b[0m] \u001b[1mHighlightingService initialized with ColorManager.\u001b[0m \u001b[36mlineno\u001b[0m=\u001b[35m286\u001b[0m \u001b[36mmessage\u001b[0m=\u001b[35mHighlightingService initialized with ColorManager.\u001b[0m \u001b[36mmodule\u001b[0m=\u001b[35mnatural_pdf.core.highlighting_service\u001b[0m\n"
     ]
    },
    {
     "name": "stderr",
     "output_type": "stream",
     "text": [
      "[2025-04-13 13:47:50,263] [    INFO] highlighting_service.py:286 - HighlightingService initialized with ColorManager.\n"
     ]
    },
    {
     "name": "stderr",
     "output_type": "stream",
     "text": [
      "natural_pdf.core.pdf - INFO - Initialized HighlightingService.\n"
     ]
    },
    {
     "name": "stderr",
     "output_type": "stream",
     "text": [
      "\u001b[2m2025-04-13T11:47:50.267510Z\u001b[0m [\u001b[32m\u001b[1minfo     \u001b[0m] \u001b[1mInitialized HighlightingService.\u001b[0m \u001b[36mlineno\u001b[0m=\u001b[35m141\u001b[0m \u001b[36mmessage\u001b[0m=\u001b[35mInitialized HighlightingService.\u001b[0m \u001b[36mmodule\u001b[0m=\u001b[35mnatural_pdf.core.pdf\u001b[0m\n"
     ]
    },
    {
     "name": "stderr",
     "output_type": "stream",
     "text": [
      "[2025-04-13 13:47:50,267] [    INFO] pdf.py:141 - Initialized HighlightingService.\n"
     ]
    },
    {
     "name": "stderr",
     "output_type": "stream",
     "text": [
      "natural_pdf.core.pdf - INFO - PDF 'https://github.com/jsoma/natural-pdf/raw/refs/heads/main/pdfs/Atlanta_Public_Schools_GA_sample.pdf' initialized with 5 pages.\n"
     ]
    },
    {
     "name": "stderr",
     "output_type": "stream",
     "text": [
      "\u001b[2m2025-04-13T11:47:50.268089Z\u001b[0m [\u001b[32m\u001b[1minfo     \u001b[0m] \u001b[1mPDF 'https://github.com/jsoma/natural-pdf/raw/refs/heads/main/pdfs/Atlanta_Public_Schools_GA_sample.pdf' initialized with 5 pages.\u001b[0m \u001b[36mlineno\u001b[0m=\u001b[35m142\u001b[0m \u001b[36mmessage\u001b[0m=\u001b[35mPDF 'https://github.com/jsoma/natural-pdf/raw/refs/heads/main/pdfs/Atlanta_Public_Schools_GA_sample.pdf' initialized with 5 pages.\u001b[0m \u001b[36mmodule\u001b[0m=\u001b[35mnatural_pdf.core.pdf\u001b[0m\n"
     ]
    },
    {
     "name": "stderr",
     "output_type": "stream",
     "text": [
      "[2025-04-13 13:47:50,267] [    INFO] pdf.py:142 - PDF 'https://github.com/jsoma/natural-pdf/raw/refs/heads/main/pdfs/Atlanta_Public_Schools_GA_sample.pdf' initialized with 5 pages.\n"
     ]
    },
    {
     "name": "stderr",
     "output_type": "stream",
     "text": [
      "\r",
      "Loading PDFs: 100%|██████████████████████████████████████| 2/2 [00:00<00:00,  3.26it/s]"
     ]
    },
    {
     "name": "stderr",
     "output_type": "stream",
     "text": [
      "\r",
      "Loading PDFs: 100%|██████████████████████████████████████| 2/2 [00:00<00:00,  3.37it/s]"
     ]
    },
    {
     "name": "stderr",
     "output_type": "stream",
     "text": [
      "\n",
      "natural_pdf.collections.pdf_collection - INFO - Successfully initialized 2 PDFs. Failed: 0\n"
     ]
    },
    {
     "name": "stderr",
     "output_type": "stream",
     "text": [
      "\u001b[2m2025-04-13T11:47:50.269456Z\u001b[0m [\u001b[32m\u001b[1minfo     \u001b[0m] \u001b[1mSuccessfully initialized 2 PDFs. Failed: 0\u001b[0m \u001b[36mlineno\u001b[0m=\u001b[35m154\u001b[0m \u001b[36mmessage\u001b[0m=\u001b[35mSuccessfully initialized 2 PDFs. Failed: 0\u001b[0m \u001b[36mmodule\u001b[0m=\u001b[35mnatural_pdf.collections.pdf_collection\u001b[0m\n"
     ]
    },
    {
     "name": "stderr",
     "output_type": "stream",
     "text": [
      "[2025-04-13 13:47:50,269] [    INFO] pdf_collection.py:154 - Successfully initialized 2 PDFs. Failed: 0\n"
     ]
    },
    {
     "name": "stdout",
     "output_type": "stream",
     "text": [
      "Created collection with 2 PDFs.\n"
     ]
    }
   ],
   "source": [
    "import logging\n",
    "import natural_pdf\n",
    "\n",
    "# Optional: Configure logging to see progress\n",
    "natural_pdf.configure_logging(level=logging.INFO)\n",
    "\n",
    "# Define the paths to your PDF files\n",
    "pdf_paths = [\n",
    "    \"https://github.com/jsoma/natural-pdf/raw/refs/heads/main/pdfs/01-practice.pdf\",\n",
    "    \"https://github.com/jsoma/natural-pdf/raw/refs/heads/main/pdfs/Atlanta_Public_Schools_GA_sample.pdf\"\n",
    "    # Add more PDF paths as needed\n",
    "]\n",
    "\n",
    "# Create a PDFCollection\n",
    "collection = natural_pdf.PDFCollection(pdf_paths)\n",
    "print(f\"Created collection with {len(collection.pdfs)} PDFs.\")"
   ]
  },
  {
   "cell_type": "markdown",
   "id": "6f3793a5",
   "metadata": {},
   "source": [
    "## Initializing the Search Index\n",
    "\n",
    "Before performing a search, you need to initialize the search capabilities for the collection. This involves processing the documents and building an index."
   ]
  },
  {
   "cell_type": "code",
   "execution_count": 3,
   "id": "94e4f921",
   "metadata": {
    "execution": {
     "iopub.execute_input": "2025-04-13T11:47:50.275580Z",
     "iopub.status.busy": "2025-04-13T11:47:50.274235Z",
     "iopub.status.idle": "2025-04-13T11:47:54.593479Z",
     "shell.execute_reply": "2025-04-13T11:47:54.593156Z"
    }
   },
   "outputs": [
    {
     "name": "stderr",
     "output_type": "stream",
     "text": [
      "natural_pdf.search.searchable_mixin - INFO - Using default collection name 'default_collection' for in-memory service.\n"
     ]
    },
    {
     "name": "stderr",
     "output_type": "stream",
     "text": [
      "\u001b[2m2025-04-13T11:47:50.276848Z\u001b[0m [\u001b[32m\u001b[1minfo     \u001b[0m] \u001b[1mUsing default collection name 'default_collection' for in-memory service.\u001b[0m \u001b[36mlineno\u001b[0m=\u001b[35m104\u001b[0m \u001b[36mmessage\u001b[0m=\u001b[35mUsing default collection name 'default_collection' for in-memory service.\u001b[0m \u001b[36mmodule\u001b[0m=\u001b[35mnatural_pdf.search.searchable_mixin\u001b[0m\n"
     ]
    },
    {
     "name": "stderr",
     "output_type": "stream",
     "text": [
      "[2025-04-13 13:47:50,276] [    INFO] searchable_mixin.py:104 - Using default collection name 'default_collection' for in-memory service.\n"
     ]
    },
    {
     "name": "stderr",
     "output_type": "stream",
     "text": [
      "natural_pdf.search.searchable_mixin - INFO - Creating new SearchService: name='default_collection', persist=False, model=default\n"
     ]
    },
    {
     "name": "stderr",
     "output_type": "stream",
     "text": [
      "\u001b[2m2025-04-13T11:47:50.277734Z\u001b[0m [\u001b[32m\u001b[1minfo     \u001b[0m] \u001b[1mCreating new SearchService: name='default_collection', persist=False, model=default\u001b[0m \u001b[36mlineno\u001b[0m=\u001b[35m106\u001b[0m \u001b[36mmessage\u001b[0m=\u001b[35mCreating new SearchService: name='default_collection', persist=False, model=default\u001b[0m \u001b[36mmodule\u001b[0m=\u001b[35mnatural_pdf.search.searchable_mixin\u001b[0m\n"
     ]
    },
    {
     "name": "stderr",
     "output_type": "stream",
     "text": [
      "[2025-04-13 13:47:50,277] [    INFO] searchable_mixin.py:106 - Creating new SearchService: name='default_collection', persist=False, model=default\n"
     ]
    },
    {
     "name": "stderr",
     "output_type": "stream",
     "text": [
      "natural_pdf.search.haystack_search_service - INFO - HaystackSearchService initialized for collection='default_collection' (persist=False, model='sentence-transformers/all-MiniLM-L6-v2'). Default path: './natural_pdf_index'\n"
     ]
    },
    {
     "name": "stderr",
     "output_type": "stream",
     "text": [
      "\u001b[2m2025-04-13T11:47:50.278641Z\u001b[0m [\u001b[32m\u001b[1minfo     \u001b[0m] \u001b[1mHaystackSearchService initialized for collection='default_collection' (persist=False, model='sentence-transformers/all-MiniLM-L6-v2'). Default path: './natural_pdf_index'\u001b[0m \u001b[36mlineno\u001b[0m=\u001b[35m106\u001b[0m \u001b[36mmessage\u001b[0m=\u001b[35mHaystackSearchService initialized for collection='default_collection' (persist=False, model='sentence-transformers/all-MiniLM-L6-v2'). Default path: './natural_pdf_index'\u001b[0m \u001b[36mmodule\u001b[0m=\u001b[35mnatural_pdf.search.haystack_search_service\u001b[0m\n"
     ]
    },
    {
     "name": "stderr",
     "output_type": "stream",
     "text": [
      "[2025-04-13 13:47:50,278] [    INFO] haystack_search_service.py:106 - HaystackSearchService initialized for collection='default_collection' (persist=False, model='sentence-transformers/all-MiniLM-L6-v2'). Default path: './natural_pdf_index'\n"
     ]
    },
    {
     "name": "stderr",
     "output_type": "stream",
     "text": [
      "natural_pdf.search - INFO - Created new HaystackSearchService instance for collection 'default_collection'.\n"
     ]
    },
    {
     "name": "stderr",
     "output_type": "stream",
     "text": [
      "\u001b[2m2025-04-13T11:47:50.279470Z\u001b[0m [\u001b[32m\u001b[1minfo     \u001b[0m] \u001b[1mCreated new HaystackSearchService instance for collection 'default_collection'.\u001b[0m \u001b[36mlineno\u001b[0m=\u001b[35m80\u001b[0m \u001b[36mmessage\u001b[0m=\u001b[35mCreated new HaystackSearchService instance for collection 'default_collection'.\u001b[0m \u001b[36mmodule\u001b[0m=\u001b[35mnatural_pdf.search\u001b[0m\n"
     ]
    },
    {
     "name": "stderr",
     "output_type": "stream",
     "text": [
      "[2025-04-13 13:47:50,279] [    INFO] __init__.py:80 - Created new HaystackSearchService instance for collection 'default_collection'.\n"
     ]
    },
    {
     "name": "stderr",
     "output_type": "stream",
     "text": [
      "natural_pdf.search.searchable_mixin - INFO - index=True: Proceeding to index collection immediately after search initialization.\n"
     ]
    },
    {
     "name": "stderr",
     "output_type": "stream",
     "text": [
      "\u001b[2m2025-04-13T11:47:50.280210Z\u001b[0m [\u001b[32m\u001b[1minfo     \u001b[0m] \u001b[1mindex=True: Proceeding to index collection immediately after search initialization.\u001b[0m \u001b[36mlineno\u001b[0m=\u001b[35m141\u001b[0m \u001b[36mmessage\u001b[0m=\u001b[35mindex=True: Proceeding to index collection immediately after search initialization.\u001b[0m \u001b[36mmodule\u001b[0m=\u001b[35mnatural_pdf.search.searchable_mixin\u001b[0m\n"
     ]
    },
    {
     "name": "stderr",
     "output_type": "stream",
     "text": [
      "[2025-04-13 13:47:50,279] [    INFO] searchable_mixin.py:141 - index=True: Proceeding to index collection immediately after search initialization.\n"
     ]
    },
    {
     "name": "stderr",
     "output_type": "stream",
     "text": [
      "natural_pdf.search.searchable_mixin - INFO - Starting internal indexing process into SearchService collection 'default_collection'...\n"
     ]
    },
    {
     "name": "stderr",
     "output_type": "stream",
     "text": [
      "\u001b[2m2025-04-13T11:47:50.280887Z\u001b[0m [\u001b[32m\u001b[1minfo     \u001b[0m] \u001b[1mStarting internal indexing process into SearchService collection 'default_collection'...\u001b[0m \u001b[36mlineno\u001b[0m=\u001b[35m152\u001b[0m \u001b[36mmessage\u001b[0m=\u001b[35mStarting internal indexing process into SearchService collection 'default_collection'...\u001b[0m \u001b[36mmodule\u001b[0m=\u001b[35mnatural_pdf.search.searchable_mixin\u001b[0m\n"
     ]
    },
    {
     "name": "stderr",
     "output_type": "stream",
     "text": [
      "[2025-04-13 13:47:50,280] [    INFO] searchable_mixin.py:152 - Starting internal indexing process into SearchService collection 'default_collection'...\n"
     ]
    },
    {
     "name": "stderr",
     "output_type": "stream",
     "text": [
      "natural_pdf.search.searchable_mixin - INFO - Prepared 6 indexable items for indexing.\n"
     ]
    },
    {
     "name": "stderr",
     "output_type": "stream",
     "text": [
      "\u001b[2m2025-04-13T11:47:50.281489Z\u001b[0m [\u001b[32m\u001b[1minfo     \u001b[0m] \u001b[1mPrepared 6 indexable items for indexing.\u001b[0m \u001b[36mlineno\u001b[0m=\u001b[35m165\u001b[0m \u001b[36mmessage\u001b[0m=\u001b[35mPrepared 6 indexable items for indexing.\u001b[0m \u001b[36mmodule\u001b[0m=\u001b[35mnatural_pdf.search.searchable_mixin\u001b[0m\n"
     ]
    },
    {
     "name": "stderr",
     "output_type": "stream",
     "text": [
      "[2025-04-13 13:47:50,281] [    INFO] searchable_mixin.py:165 - Prepared 6 indexable items for indexing.\n"
     ]
    },
    {
     "name": "stderr",
     "output_type": "stream",
     "text": [
      "natural_pdf.search.haystack_search_service - INFO - Index request for collection='default_collection', docs=6, model='sentence-transformers/all-MiniLM-L6-v2', force=False, persist=False\n"
     ]
    },
    {
     "name": "stderr",
     "output_type": "stream",
     "text": [
      "\u001b[2m2025-04-13T11:47:50.282015Z\u001b[0m [\u001b[32m\u001b[1minfo     \u001b[0m] \u001b[1mIndex request for collection='default_collection', docs=6, model='sentence-transformers/all-MiniLM-L6-v2', force=False, persist=False\u001b[0m \u001b[36mlineno\u001b[0m=\u001b[35m210\u001b[0m \u001b[36mmessage\u001b[0m=\u001b[35mIndex request for collection='default_collection', docs=6, model='sentence-transformers/all-MiniLM-L6-v2', force=False, persist=False\u001b[0m \u001b[36mmodule\u001b[0m=\u001b[35mnatural_pdf.search.haystack_search_service\u001b[0m\n"
     ]
    },
    {
     "name": "stderr",
     "output_type": "stream",
     "text": [
      "[2025-04-13 13:47:50,281] [    INFO] haystack_search_service.py:210 - Index request for collection='default_collection', docs=6, model='sentence-transformers/all-MiniLM-L6-v2', force=False, persist=False\n"
     ]
    },
    {
     "name": "stderr",
     "output_type": "stream",
     "text": [
      "natural_pdf.search.haystack_search_service - INFO - Created SentenceTransformersDocumentEmbedder. Model: sentence-transformers/all-MiniLM-L6-v2, Device: ComponentDevice(_single_device=Device(type=<DeviceType.MPS: 'mps'>, id=None), _multiple_devices=None)\n"
     ]
    },
    {
     "name": "stderr",
     "output_type": "stream",
     "text": [
      "\u001b[2m2025-04-13T11:47:53.718673Z\u001b[0m [\u001b[32m\u001b[1minfo     \u001b[0m] \u001b[1mCreated SentenceTransformersDocumentEmbedder. Model: sentence-transformers/all-MiniLM-L6-v2, Device: ComponentDevice(_single_device=Device(type=<DeviceType.MPS: 'mps'>, id=None), _multiple_devices=None)\u001b[0m \u001b[36mlineno\u001b[0m=\u001b[35m146\u001b[0m \u001b[36mmessage\u001b[0m=\u001b[35mCreated SentenceTransformersDocumentEmbedder. Model: sentence-transformers/all-MiniLM-L6-v2, Device: ComponentDevice(_single_device=Device(type=<DeviceType.MPS: 'mps'>, id=None), _multiple_devices=None)\u001b[0m \u001b[36mmodule\u001b[0m=\u001b[35mnatural_pdf.search.haystack_search_service\u001b[0m\n"
     ]
    },
    {
     "name": "stderr",
     "output_type": "stream",
     "text": [
      "[2025-04-13 13:47:53,718] [    INFO] haystack_search_service.py:146 - Created SentenceTransformersDocumentEmbedder. Model: sentence-transformers/all-MiniLM-L6-v2, Device: ComponentDevice(_single_device=Device(type=<DeviceType.MPS: 'mps'>, id=None), _multiple_devices=None)\n"
     ]
    },
    {
     "name": "stderr",
     "output_type": "stream",
     "text": [
      "natural_pdf.search.haystack_search_service - INFO - Preparing Haystack Documents from 6 indexable items...\n"
     ]
    },
    {
     "name": "stderr",
     "output_type": "stream",
     "text": [
      "\u001b[2m2025-04-13T11:47:53.719838Z\u001b[0m [\u001b[32m\u001b[1minfo     \u001b[0m] \u001b[1mPreparing Haystack Documents from 6 indexable items...\u001b[0m \u001b[36mlineno\u001b[0m=\u001b[35m241\u001b[0m \u001b[36mmessage\u001b[0m=\u001b[35mPreparing Haystack Documents from 6 indexable items...\u001b[0m \u001b[36mmodule\u001b[0m=\u001b[35mnatural_pdf.search.haystack_search_service\u001b[0m\n"
     ]
    },
    {
     "name": "stderr",
     "output_type": "stream",
     "text": [
      "[2025-04-13 13:47:53,719] [    INFO] haystack_search_service.py:241 - Preparing Haystack Documents from 6 indexable items...\n"
     ]
    },
    {
     "name": "stderr",
     "output_type": "stream",
     "text": [
      "natural_pdf.search.haystack_search_service - INFO - Embedding 6 documents using 'sentence-transformers/all-MiniLM-L6-v2'...\n"
     ]
    },
    {
     "name": "stderr",
     "output_type": "stream",
     "text": [
      "\u001b[2m2025-04-13T11:47:54.243363Z\u001b[0m [\u001b[32m\u001b[1minfo     \u001b[0m] \u001b[1mEmbedding 6 documents using 'sentence-transformers/all-MiniLM-L6-v2'...\u001b[0m \u001b[36mlineno\u001b[0m=\u001b[35m281\u001b[0m \u001b[36mmessage\u001b[0m=\u001b[35mEmbedding 6 documents using 'sentence-transformers/all-MiniLM-L6-v2'...\u001b[0m \u001b[36mmodule\u001b[0m=\u001b[35mnatural_pdf.search.haystack_search_service\u001b[0m\n"
     ]
    },
    {
     "name": "stderr",
     "output_type": "stream",
     "text": [
      "[2025-04-13 13:47:54,242] [    INFO] haystack_search_service.py:281 - Embedding 6 documents using 'sentence-transformers/all-MiniLM-L6-v2'...\n"
     ]
    },
    {
     "data": {
      "application/vnd.jupyter.widget-view+json": {
       "model_id": "c6fecfbdc44f41389a1d06811159e29f",
       "version_major": 2,
       "version_minor": 0
      },
      "text/plain": [
       "Batches:   0%|          | 0/1 [00:00<?, ?it/s]"
      ]
     },
     "metadata": {},
     "output_type": "display_data"
    },
    {
     "name": "stderr",
     "output_type": "stream",
     "text": [
      "natural_pdf.search.haystack_search_service - INFO - Successfully embedded 6 documents.\n"
     ]
    },
    {
     "name": "stderr",
     "output_type": "stream",
     "text": [
      "\u001b[2m2025-04-13T11:47:54.587734Z\u001b[0m [\u001b[32m\u001b[1minfo     \u001b[0m] \u001b[1mSuccessfully embedded 6 documents.\u001b[0m \u001b[36mlineno\u001b[0m=\u001b[35m286\u001b[0m \u001b[36mmessage\u001b[0m=\u001b[35mSuccessfully embedded 6 documents.\u001b[0m \u001b[36mmodule\u001b[0m=\u001b[35mnatural_pdf.search.haystack_search_service\u001b[0m\n"
     ]
    },
    {
     "name": "stderr",
     "output_type": "stream",
     "text": [
      "[2025-04-13 13:47:54,587] [    INFO] haystack_search_service.py:286 - Successfully embedded 6 documents.\n"
     ]
    },
    {
     "name": "stderr",
     "output_type": "stream",
     "text": [
      "natural_pdf.search.haystack_search_service - INFO - Writing 6 embedded documents to store 'default_collection'...\n"
     ]
    },
    {
     "name": "stderr",
     "output_type": "stream",
     "text": [
      "\u001b[2m2025-04-13T11:47:54.588580Z\u001b[0m [\u001b[32m\u001b[1minfo     \u001b[0m] \u001b[1mWriting 6 embedded documents to store 'default_collection'...\u001b[0m \u001b[36mlineno\u001b[0m=\u001b[35m302\u001b[0m \u001b[36mmessage\u001b[0m=\u001b[35mWriting 6 embedded documents to store 'default_collection'...\u001b[0m \u001b[36mmodule\u001b[0m=\u001b[35mnatural_pdf.search.haystack_search_service\u001b[0m\n"
     ]
    },
    {
     "name": "stderr",
     "output_type": "stream",
     "text": [
      "[2025-04-13 13:47:54,588] [    INFO] haystack_search_service.py:302 - Writing 6 embedded documents to store 'default_collection'...\n"
     ]
    },
    {
     "name": "stderr",
     "output_type": "stream",
     "text": [
      "natural_pdf.search.haystack_search_service - INFO - Successfully wrote 6 documents to store 'default_collection'.\n"
     ]
    },
    {
     "name": "stderr",
     "output_type": "stream",
     "text": [
      "\u001b[2m2025-04-13T11:47:54.590136Z\u001b[0m [\u001b[32m\u001b[1minfo     \u001b[0m] \u001b[1mSuccessfully wrote 6 documents to store 'default_collection'.\u001b[0m \u001b[36mlineno\u001b[0m=\u001b[35m308\u001b[0m \u001b[36mmessage\u001b[0m=\u001b[35mSuccessfully wrote 6 documents to store 'default_collection'.\u001b[0m \u001b[36mmodule\u001b[0m=\u001b[35mnatural_pdf.search.haystack_search_service\u001b[0m\n"
     ]
    },
    {
     "name": "stderr",
     "output_type": "stream",
     "text": [
      "[2025-04-13 13:47:54,589] [    INFO] haystack_search_service.py:308 - Successfully wrote 6 documents to store 'default_collection'.\n"
     ]
    },
    {
     "name": "stderr",
     "output_type": "stream",
     "text": [
      "natural_pdf.search.haystack_search_service - INFO - Store 'default_collection' document count after write: 6\n"
     ]
    },
    {
     "name": "stderr",
     "output_type": "stream",
     "text": [
      "\u001b[2m2025-04-13T11:47:54.590961Z\u001b[0m [\u001b[32m\u001b[1minfo     \u001b[0m] \u001b[1mStore 'default_collection' document count after write: 6\u001b[0m \u001b[36mlineno\u001b[0m=\u001b[35m310\u001b[0m \u001b[36mmessage\u001b[0m=\u001b[35mStore 'default_collection' document count after write: 6\u001b[0m \u001b[36mmodule\u001b[0m=\u001b[35mnatural_pdf.search.haystack_search_service\u001b[0m\n"
     ]
    },
    {
     "name": "stderr",
     "output_type": "stream",
     "text": [
      "[2025-04-13 13:47:54,590] [    INFO] haystack_search_service.py:310 - Store 'default_collection' document count after write: 6\n"
     ]
    },
    {
     "name": "stderr",
     "output_type": "stream",
     "text": [
      "natural_pdf.search.searchable_mixin - INFO - Successfully completed indexing into SearchService collection 'default_collection'.\n"
     ]
    },
    {
     "name": "stderr",
     "output_type": "stream",
     "text": [
      "\u001b[2m2025-04-13T11:47:54.591611Z\u001b[0m [\u001b[32m\u001b[1minfo     \u001b[0m] \u001b[1mSuccessfully completed indexing into SearchService collection 'default_collection'.\u001b[0m \u001b[36mlineno\u001b[0m=\u001b[35m173\u001b[0m \u001b[36mmessage\u001b[0m=\u001b[35mSuccessfully completed indexing into SearchService collection 'default_collection'.\u001b[0m \u001b[36mmodule\u001b[0m=\u001b[35mnatural_pdf.search.searchable_mixin\u001b[0m\n"
     ]
    },
    {
     "name": "stderr",
     "output_type": "stream",
     "text": [
      "[2025-04-13 13:47:54,591] [    INFO] searchable_mixin.py:173 - Successfully completed indexing into SearchService collection 'default_collection'.\n"
     ]
    },
    {
     "name": "stdout",
     "output_type": "stream",
     "text": [
      "Search index initialized.\n"
     ]
    }
   ],
   "source": [
    "# Initialize search. 'index=True' builds the index immediately.\n",
    "# This might take some time depending on the number and size of PDFs.\n",
    "collection.init_search(index=True) \n",
    "print(\"Search index initialized.\")"
   ]
  },
  {
   "cell_type": "markdown",
   "id": "f4e6e808",
   "metadata": {},
   "source": [
    "## Performing a Semantic Search\n",
    "\n",
    "Once the index is ready, you can use the `find_relevant()` method to search for content semantically related to your query."
   ]
  },
  {
   "cell_type": "code",
   "execution_count": 4,
   "id": "954e3260",
   "metadata": {
    "execution": {
     "iopub.execute_input": "2025-04-13T11:47:54.596111Z",
     "iopub.status.busy": "2025-04-13T11:47:54.596010Z",
     "iopub.status.idle": "2025-04-13T11:47:54.733527Z",
     "shell.execute_reply": "2025-04-13T11:47:54.733263Z"
    }
   },
   "outputs": [
    {
     "name": "stderr",
     "output_type": "stream",
     "text": [
      "natural_pdf.search.searchable_mixin - INFO - Searching collection 'default_collection' via HaystackSearchService...\n"
     ]
    },
    {
     "name": "stderr",
     "output_type": "stream",
     "text": [
      "\u001b[2m2025-04-13T11:47:54.597061Z\u001b[0m [\u001b[32m\u001b[1minfo     \u001b[0m] \u001b[1mSearching collection 'default_collection' via HaystackSearchService...\u001b[0m \u001b[36mlineno\u001b[0m=\u001b[35m244\u001b[0m \u001b[36mmessage\u001b[0m=\u001b[35mSearching collection 'default_collection' via HaystackSearchService...\u001b[0m \u001b[36mmodule\u001b[0m=\u001b[35mnatural_pdf.search.searchable_mixin\u001b[0m\n"
     ]
    },
    {
     "name": "stderr",
     "output_type": "stream",
     "text": [
      "[2025-04-13 13:47:54,596] [    INFO] searchable_mixin.py:244 - Searching collection 'default_collection' via HaystackSearchService...\n"
     ]
    },
    {
     "name": "stderr",
     "output_type": "stream",
     "text": [
      "natural_pdf.search.haystack_search_service - INFO - Search request for collection='default_collection', query_type=str, options=TextSearchOptions(top_k=10, retriever_top_k=20, filters=None, use_reranker=True, reranker_instance=None, reranker_model=None, reranker_api_key=None)\n"
     ]
    },
    {
     "name": "stderr",
     "output_type": "stream",
     "text": [
      "\u001b[2m2025-04-13T11:47:54.597645Z\u001b[0m [\u001b[32m\u001b[1minfo     \u001b[0m] \u001b[1mSearch request for collection='default_collection', query_type=str, options=TextSearchOptions(top_k=10, retriever_top_k=20, filters=None, use_reranker=True, reranker_instance=None, reranker_model=None, reranker_api_key=None)\u001b[0m \u001b[36mlineno\u001b[0m=\u001b[35m318\u001b[0m \u001b[36mmessage\u001b[0m=\u001b[35mSearch request for collection='default_collection', query_type=str, options=TextSearchOptions(top_k=10, retriever_top_k=20, filters=None, use_reranker=True, reranker_instance=None, reranker_model=None, reranker_api_key=None)\u001b[0m \u001b[36mmodule\u001b[0m=\u001b[35mnatural_pdf.search.haystack_search_service\u001b[0m\n"
     ]
    },
    {
     "name": "stderr",
     "output_type": "stream",
     "text": [
      "[2025-04-13 13:47:54,597] [    INFO] haystack_search_service.py:318 - Search request for collection='default_collection', query_type=str, options=TextSearchOptions(top_k=10, retriever_top_k=20, filters=None, use_reranker=True, reranker_instance=None, reranker_model=None, reranker_api_key=None)\n"
     ]
    },
    {
     "name": "stderr",
     "output_type": "stream",
     "text": [
      "natural_pdf.search.haystack_search_service - INFO - Created SentenceTransformersTextEmbedder. Model: sentence-transformers/all-MiniLM-L6-v2, Device: ComponentDevice(_single_device=Device(type=<DeviceType.MPS: 'mps'>, id=None), _multiple_devices=None)\n"
     ]
    },
    {
     "name": "stderr",
     "output_type": "stream",
     "text": [
      "\u001b[2m2025-04-13T11:47:54.598345Z\u001b[0m [\u001b[32m\u001b[1minfo     \u001b[0m] \u001b[1mCreated SentenceTransformersTextEmbedder. Model: sentence-transformers/all-MiniLM-L6-v2, Device: ComponentDevice(_single_device=Device(type=<DeviceType.MPS: 'mps'>, id=None), _multiple_devices=None)\u001b[0m \u001b[36mlineno\u001b[0m=\u001b[35m164\u001b[0m \u001b[36mmessage\u001b[0m=\u001b[35mCreated SentenceTransformersTextEmbedder. Model: sentence-transformers/all-MiniLM-L6-v2, Device: ComponentDevice(_single_device=Device(type=<DeviceType.MPS: 'mps'>, id=None), _multiple_devices=None)\u001b[0m \u001b[36mmodule\u001b[0m=\u001b[35mnatural_pdf.search.haystack_search_service\u001b[0m\n"
     ]
    },
    {
     "name": "stderr",
     "output_type": "stream",
     "text": [
      "[2025-04-13 13:47:54,598] [    INFO] haystack_search_service.py:164 - Created SentenceTransformersTextEmbedder. Model: sentence-transformers/all-MiniLM-L6-v2, Device: ComponentDevice(_single_device=Device(type=<DeviceType.MPS: 'mps'>, id=None), _multiple_devices=None)\n"
     ]
    },
    {
     "data": {
      "application/vnd.jupyter.widget-view+json": {
       "model_id": "52604ab853294e6dbf9e64d7075d614e",
       "version_major": 2,
       "version_minor": 0
      },
      "text/plain": [
       "Batches:   0%|          | 0/1 [00:00<?, ?it/s]"
      ]
     },
     "metadata": {},
     "output_type": "display_data"
    },
    {
     "name": "stderr",
     "output_type": "stream",
     "text": [
      "natural_pdf.search.haystack_search_service - INFO - Running retrieval pipeline for collection 'default_collection'...\n"
     ]
    },
    {
     "name": "stderr",
     "output_type": "stream",
     "text": [
      "\u001b[2m2025-04-13T11:47:54.727173Z\u001b[0m [\u001b[32m\u001b[1minfo     \u001b[0m] \u001b[1mRunning retrieval pipeline for collection 'default_collection'...\u001b[0m \u001b[36mlineno\u001b[0m=\u001b[35m401\u001b[0m \u001b[36mmessage\u001b[0m=\u001b[35mRunning retrieval pipeline for collection 'default_collection'...\u001b[0m \u001b[36mmodule\u001b[0m=\u001b[35mnatural_pdf.search.haystack_search_service\u001b[0m\n"
     ]
    },
    {
     "name": "stderr",
     "output_type": "stream",
     "text": [
      "[2025-04-13 13:47:54,726] [    INFO] haystack_search_service.py:401 - Running retrieval pipeline for collection 'default_collection'...\n"
     ]
    },
    {
     "name": "stderr",
     "output_type": "stream",
     "text": [
      "natural_pdf.search.haystack_search_service - INFO - Retrieved 6 documents.\n"
     ]
    },
    {
     "name": "stderr",
     "output_type": "stream",
     "text": [
      "\u001b[2m2025-04-13T11:47:54.731304Z\u001b[0m [\u001b[32m\u001b[1minfo     \u001b[0m] \u001b[1mRetrieved 6 documents.        \u001b[0m \u001b[36mlineno\u001b[0m=\u001b[35m410\u001b[0m \u001b[36mmessage\u001b[0m=\u001b[35mRetrieved 6 documents.\u001b[0m \u001b[36mmodule\u001b[0m=\u001b[35mnatural_pdf.search.haystack_search_service\u001b[0m\n"
     ]
    },
    {
     "name": "stderr",
     "output_type": "stream",
     "text": [
      "[2025-04-13 13:47:54,730] [    INFO] haystack_search_service.py:410 - Retrieved 6 documents.\n"
     ]
    },
    {
     "name": "stderr",
     "output_type": "stream",
     "text": [
      "natural_pdf.search.searchable_mixin - INFO - SearchService returned 6 results from collection 'default_collection'.\n"
     ]
    },
    {
     "name": "stderr",
     "output_type": "stream",
     "text": [
      "\u001b[2m2025-04-13T11:47:54.731883Z\u001b[0m [\u001b[32m\u001b[1minfo     \u001b[0m] \u001b[1mSearchService returned 6 results from collection 'default_collection'.\u001b[0m \u001b[36mlineno\u001b[0m=\u001b[35m266\u001b[0m \u001b[36mmessage\u001b[0m=\u001b[35mSearchService returned 6 results from collection 'default_collection'.\u001b[0m \u001b[36mmodule\u001b[0m=\u001b[35mnatural_pdf.search.searchable_mixin\u001b[0m\n"
     ]
    },
    {
     "name": "stderr",
     "output_type": "stream",
     "text": [
      "[2025-04-13 13:47:54,731] [    INFO] searchable_mixin.py:266 - SearchService returned 6 results from collection 'default_collection'.\n"
     ]
    },
    {
     "name": "stdout",
     "output_type": "stream",
     "text": [
      "Found 6 results for 'american president':\n"
     ]
    }
   ],
   "source": [
    "# Perform a search query\n",
    "query = \"american president\"\n",
    "results = collection.find_relevant(query)\n",
    "\n",
    "print(f\"Found {len(results)} results for '{query}':\")"
   ]
  },
  {
   "cell_type": "markdown",
   "id": "ce897b89",
   "metadata": {},
   "source": [
    "## Understanding Search Results\n",
    "\n",
    "The `find_relevant()` method returns a list of dictionaries, each representing a relevant text chunk found in one of the PDFs. Each result includes:\n",
    "\n",
    "*   `pdf_path`: The path to the PDF document where the result was found.\n",
    "*   `page_number`: The page number within the PDF.\n",
    "*   `score`: A relevance score (higher means more relevant).\n",
    "*   `content_snippet`: A snippet of the text chunk that matched the query."
   ]
  },
  {
   "cell_type": "code",
   "execution_count": 5,
   "id": "d172f20a",
   "metadata": {
    "execution": {
     "iopub.execute_input": "2025-04-13T11:47:54.735208Z",
     "iopub.status.busy": "2025-04-13T11:47:54.735081Z",
     "iopub.status.idle": "2025-04-13T11:47:54.737469Z",
     "shell.execute_reply": "2025-04-13T11:47:54.737227Z"
    }
   },
   "outputs": [
    {
     "name": "stdout",
     "output_type": "stream",
     "text": [
      "  1. PDF: /var/folders/25/h3prywj14qb0mlkl2s8bxq5m0000gn/T/tmp__h0cd9h.pdf\n",
      "     Page: 2 (Score: 0.0708)\n",
      "     Snippet: Library Weeding Log Atlanta Public Schools\n",
      "From: 8/1/2017 To: 6/30/2023\n",
      "6/6/2023 - Copies Removed: 130\n",
      "The Anasazi (Removed: 1)\n",
      "Author: Petersen, David. ISBN: 0-516-01121-9 (trade) Published: 1991\n",
      "Sit...\n",
      "  2. PDF: /var/folders/25/h3prywj14qb0mlkl2s8bxq5m0000gn/T/tmp__h0cd9h.pdf\n",
      "     Page: 5 (Score: 0.0669)\n",
      "     Snippet: Library Weeding Log Atlanta Public Schools\n",
      "From: 8/1/2017 To: 6/30/2023\n",
      "6/6/2023 - Copies Removed: 130\n",
      "Centennial Place 33170000562167 $13.10 11/5/1999 33554-43170\n",
      "Academy (Charter)\n",
      "Was Available -- W...\n",
      "  3. PDF: /var/folders/25/h3prywj14qb0mlkl2s8bxq5m0000gn/T/tmplduy73q3.pdf\n",
      "     Page: 1 (Score: -0.0040)\n",
      "     Snippet: Jungle Health and Safety Inspection Service\n",
      "INS-UP70N51NCL41R\n",
      "Site: Durham’s Meatpacking  Chicago, Ill.\n",
      "Date:  February 3, 1905\n",
      "Violation Count: 7\n",
      "Summary: Worst of any, however, were the fertilizer m...\n",
      "  4. PDF: /var/folders/25/h3prywj14qb0mlkl2s8bxq5m0000gn/T/tmp__h0cd9h.pdf\n",
      "     Page: 4 (Score: -0.0245)\n",
      "     Snippet: Library Weeding Log Atlanta Public Schools\n",
      "From: 8/1/2017 To: 6/30/2023\n",
      "6/6/2023 - Copies Removed: 130\n",
      "Children of the Philippines (Removed: 1)\n",
      "Author: Kinkade, Sheila, 1962- ISBN: 0-87614-993-X Publi...\n",
      "  5. PDF: /var/folders/25/h3prywj14qb0mlkl2s8bxq5m0000gn/T/tmp__h0cd9h.pdf\n",
      "     Page: 3 (Score: -0.0445)\n",
      "     Snippet: Library Weeding Log Atlanta Public Schools\n",
      "From: 8/1/2017 To: 6/30/2023\n",
      "6/6/2023 - Copies Removed: 130\n",
      "Centennial Place 33170000507600 $19.45 2/21/2000 33554-43170\n",
      "Academy (Charter)\n",
      "Was Available -- W...\n",
      "  6. PDF: /var/folders/25/h3prywj14qb0mlkl2s8bxq5m0000gn/T/tmp__h0cd9h.pdf\n",
      "     Page: 1 (Score: -0.0473)\n",
      "     Snippet: Library Weeding Log Atlanta Public Schools\n",
      "From: 8/1/2017 To: 6/30/2023\n",
      "6/12/2023 - Copies Removed: 2\n",
      "Tristan Strong punches a hole in the sky (Removed: 1)\n",
      "Author: Mbalia, Kwame. ISBN: 978-1-36803993-...\n"
     ]
    }
   ],
   "source": [
    "# Process and display the results\n",
    "if results:\n",
    "    for i, result in enumerate(results):\n",
    "        print(f\"  {i+1}. PDF: {result['pdf_path']}\")\n",
    "        print(f\"     Page: {result['page_number']} (Score: {result['score']:.4f})\")\n",
    "        # Display a snippet of the content\n",
    "        snippet = result.get('content_snippet', '')\n",
    "        print(f\"     Snippet: {snippet}...\") \n",
    "else:\n",
    "    print(\"  No relevant results found.\")\n",
    "\n",
    "# You can access the full content if needed via the result object, \n",
    "# though 'content_snippet' is usually sufficient for display."
   ]
  },
  {
   "cell_type": "markdown",
   "id": "f7735747",
   "metadata": {},
   "source": [
    "Semantic search allows you to efficiently query large sets of documents to find the most relevant information without needing exact keyword matches, leveraging the meaning and context of your query. "
   ]
  }
 ],
 "metadata": {
  "jupytext": {
   "cell_metadata_filter": "-all",
   "main_language": "python",
   "notebook_metadata_filter": "-all"
  },
  "language_info": {
   "codemirror_mode": {
    "name": "ipython",
    "version": 3
   },
   "file_extension": ".py",
   "mimetype": "text/x-python",
   "name": "python",
   "nbconvert_exporter": "python",
   "pygments_lexer": "ipython3",
   "version": "3.10.13"
  },
  "widgets": {
   "application/vnd.jupyter.widget-state+json": {
    "state": {
     "1c079acdb9624f8f95e6f214c78aaee1": {
      "model_module": "@jupyter-widgets/controls",
      "model_module_version": "2.0.0",
      "model_name": "HTMLStyleModel",
      "state": {
       "_model_module": "@jupyter-widgets/controls",
       "_model_module_version": "2.0.0",
       "_model_name": "HTMLStyleModel",
       "_view_count": null,
       "_view_module": "@jupyter-widgets/base",
       "_view_module_version": "2.0.0",
       "_view_name": "StyleView",
       "background": null,
       "description_width": "",
       "font_size": null,
       "text_color": null
      }
     },
     "25491a8dea654221a80016a8e9708be5": {
      "model_module": "@jupyter-widgets/controls",
      "model_module_version": "2.0.0",
      "model_name": "HTMLStyleModel",
      "state": {
       "_model_module": "@jupyter-widgets/controls",
       "_model_module_version": "2.0.0",
       "_model_name": "HTMLStyleModel",
       "_view_count": null,
       "_view_module": "@jupyter-widgets/base",
       "_view_module_version": "2.0.0",
       "_view_name": "StyleView",
       "background": null,
       "description_width": "",
       "font_size": null,
       "text_color": null
      }
     },
     "2ef6b3e49737470c80442181d928e1bd": {
      "model_module": "@jupyter-widgets/controls",
      "model_module_version": "2.0.0",
      "model_name": "FloatProgressModel",
      "state": {
       "_dom_classes": [],
       "_model_module": "@jupyter-widgets/controls",
       "_model_module_version": "2.0.0",
       "_model_name": "FloatProgressModel",
       "_view_count": null,
       "_view_module": "@jupyter-widgets/controls",
       "_view_module_version": "2.0.0",
       "_view_name": "ProgressView",
       "bar_style": "success",
       "description": "",
       "description_allow_html": false,
       "layout": "IPY_MODEL_f5eda93f9c314b59997b1d26522b6ccc",
       "max": 1.0,
       "min": 0.0,
       "orientation": "horizontal",
       "style": "IPY_MODEL_c2c7040c05fc4cdd8b65b0dad5f350d7",
       "tabbable": null,
       "tooltip": null,
       "value": 1.0
      }
     },
     "4419c29ec8bf4a38a2cce570bc0abf62": {
      "model_module": "@jupyter-widgets/base",
      "model_module_version": "2.0.0",
      "model_name": "LayoutModel",
      "state": {
       "_model_module": "@jupyter-widgets/base",
       "_model_module_version": "2.0.0",
       "_model_name": "LayoutModel",
       "_view_count": null,
       "_view_module": "@jupyter-widgets/base",
       "_view_module_version": "2.0.0",
       "_view_name": "LayoutView",
       "align_content": null,
       "align_items": null,
       "align_self": null,
       "border_bottom": null,
       "border_left": null,
       "border_right": null,
       "border_top": null,
       "bottom": null,
       "display": null,
       "flex": null,
       "flex_flow": null,
       "grid_area": null,
       "grid_auto_columns": null,
       "grid_auto_flow": null,
       "grid_auto_rows": null,
       "grid_column": null,
       "grid_gap": null,
       "grid_row": null,
       "grid_template_areas": null,
       "grid_template_columns": null,
       "grid_template_rows": null,
       "height": null,
       "justify_content": null,
       "justify_items": null,
       "left": null,
       "margin": null,
       "max_height": null,
       "max_width": null,
       "min_height": null,
       "min_width": null,
       "object_fit": null,
       "object_position": null,
       "order": null,
       "overflow": null,
       "padding": null,
       "right": null,
       "top": null,
       "visibility": null,
       "width": null
      }
     },
     "52604ab853294e6dbf9e64d7075d614e": {
      "model_module": "@jupyter-widgets/controls",
      "model_module_version": "2.0.0",
      "model_name": "HBoxModel",
      "state": {
       "_dom_classes": [],
       "_model_module": "@jupyter-widgets/controls",
       "_model_module_version": "2.0.0",
       "_model_name": "HBoxModel",
       "_view_count": null,
       "_view_module": "@jupyter-widgets/controls",
       "_view_module_version": "2.0.0",
       "_view_name": "HBoxView",
       "box_style": "",
       "children": [
        "IPY_MODEL_5c4aa2c2a3b140b695af11737e972cc7",
        "IPY_MODEL_57eee8468de644918705f8d4f11aecd7",
        "IPY_MODEL_a51b9b15100648ea8c271fe240da9849"
       ],
       "layout": "IPY_MODEL_4419c29ec8bf4a38a2cce570bc0abf62",
       "tabbable": null,
       "tooltip": null
      }
     },
     "57eee8468de644918705f8d4f11aecd7": {
      "model_module": "@jupyter-widgets/controls",
      "model_module_version": "2.0.0",
      "model_name": "FloatProgressModel",
      "state": {
       "_dom_classes": [],
       "_model_module": "@jupyter-widgets/controls",
       "_model_module_version": "2.0.0",
       "_model_name": "FloatProgressModel",
       "_view_count": null,
       "_view_module": "@jupyter-widgets/controls",
       "_view_module_version": "2.0.0",
       "_view_name": "ProgressView",
       "bar_style": "success",
       "description": "",
       "description_allow_html": false,
       "layout": "IPY_MODEL_8035169f07ae462ca211f3282984209f",
       "max": 1.0,
       "min": 0.0,
       "orientation": "horizontal",
       "style": "IPY_MODEL_c41f5a89c25d483baa5374c3dc636ed9",
       "tabbable": null,
       "tooltip": null,
       "value": 1.0
      }
     },
     "5c4aa2c2a3b140b695af11737e972cc7": {
      "model_module": "@jupyter-widgets/controls",
      "model_module_version": "2.0.0",
      "model_name": "HTMLModel",
      "state": {
       "_dom_classes": [],
       "_model_module": "@jupyter-widgets/controls",
       "_model_module_version": "2.0.0",
       "_model_name": "HTMLModel",
       "_view_count": null,
       "_view_module": "@jupyter-widgets/controls",
       "_view_module_version": "2.0.0",
       "_view_name": "HTMLView",
       "description": "",
       "description_allow_html": false,
       "layout": "IPY_MODEL_c9473b7291824fc8837b6b17a2d7dfed",
       "placeholder": "​",
       "style": "IPY_MODEL_1c079acdb9624f8f95e6f214c78aaee1",
       "tabbable": null,
       "tooltip": null,
       "value": "Batches: 100%"
      }
     },
     "79ab1f936b3d4bb381d39b731ee36aa2": {
      "model_module": "@jupyter-widgets/base",
      "model_module_version": "2.0.0",
      "model_name": "LayoutModel",
      "state": {
       "_model_module": "@jupyter-widgets/base",
       "_model_module_version": "2.0.0",
       "_model_name": "LayoutModel",
       "_view_count": null,
       "_view_module": "@jupyter-widgets/base",
       "_view_module_version": "2.0.0",
       "_view_name": "LayoutView",
       "align_content": null,
       "align_items": null,
       "align_self": null,
       "border_bottom": null,
       "border_left": null,
       "border_right": null,
       "border_top": null,
       "bottom": null,
       "display": null,
       "flex": null,
       "flex_flow": null,
       "grid_area": null,
       "grid_auto_columns": null,
       "grid_auto_flow": null,
       "grid_auto_rows": null,
       "grid_column": null,
       "grid_gap": null,
       "grid_row": null,
       "grid_template_areas": null,
       "grid_template_columns": null,
       "grid_template_rows": null,
       "height": null,
       "justify_content": null,
       "justify_items": null,
       "left": null,
       "margin": null,
       "max_height": null,
       "max_width": null,
       "min_height": null,
       "min_width": null,
       "object_fit": null,
       "object_position": null,
       "order": null,
       "overflow": null,
       "padding": null,
       "right": null,
       "top": null,
       "visibility": null,
       "width": null
      }
     },
     "8035169f07ae462ca211f3282984209f": {
      "model_module": "@jupyter-widgets/base",
      "model_module_version": "2.0.0",
      "model_name": "LayoutModel",
      "state": {
       "_model_module": "@jupyter-widgets/base",
       "_model_module_version": "2.0.0",
       "_model_name": "LayoutModel",
       "_view_count": null,
       "_view_module": "@jupyter-widgets/base",
       "_view_module_version": "2.0.0",
       "_view_name": "LayoutView",
       "align_content": null,
       "align_items": null,
       "align_self": null,
       "border_bottom": null,
       "border_left": null,
       "border_right": null,
       "border_top": null,
       "bottom": null,
       "display": null,
       "flex": null,
       "flex_flow": null,
       "grid_area": null,
       "grid_auto_columns": null,
       "grid_auto_flow": null,
       "grid_auto_rows": null,
       "grid_column": null,
       "grid_gap": null,
       "grid_row": null,
       "grid_template_areas": null,
       "grid_template_columns": null,
       "grid_template_rows": null,
       "height": null,
       "justify_content": null,
       "justify_items": null,
       "left": null,
       "margin": null,
       "max_height": null,
       "max_width": null,
       "min_height": null,
       "min_width": null,
       "object_fit": null,
       "object_position": null,
       "order": null,
       "overflow": null,
       "padding": null,
       "right": null,
       "top": null,
       "visibility": null,
       "width": null
      }
     },
     "810907ed0fa347f88398860f53f8f592": {
      "model_module": "@jupyter-widgets/base",
      "model_module_version": "2.0.0",
      "model_name": "LayoutModel",
      "state": {
       "_model_module": "@jupyter-widgets/base",
       "_model_module_version": "2.0.0",
       "_model_name": "LayoutModel",
       "_view_count": null,
       "_view_module": "@jupyter-widgets/base",
       "_view_module_version": "2.0.0",
       "_view_name": "LayoutView",
       "align_content": null,
       "align_items": null,
       "align_self": null,
       "border_bottom": null,
       "border_left": null,
       "border_right": null,
       "border_top": null,
       "bottom": null,
       "display": null,
       "flex": null,
       "flex_flow": null,
       "grid_area": null,
       "grid_auto_columns": null,
       "grid_auto_flow": null,
       "grid_auto_rows": null,
       "grid_column": null,
       "grid_gap": null,
       "grid_row": null,
       "grid_template_areas": null,
       "grid_template_columns": null,
       "grid_template_rows": null,
       "height": null,
       "justify_content": null,
       "justify_items": null,
       "left": null,
       "margin": null,
       "max_height": null,
       "max_width": null,
       "min_height": null,
       "min_width": null,
       "object_fit": null,
       "object_position": null,
       "order": null,
       "overflow": null,
       "padding": null,
       "right": null,
       "top": null,
       "visibility": null,
       "width": null
      }
     },
     "8363d4b6b892456580320630590ff0bd": {
      "model_module": "@jupyter-widgets/base",
      "model_module_version": "2.0.0",
      "model_name": "LayoutModel",
      "state": {
       "_model_module": "@jupyter-widgets/base",
       "_model_module_version": "2.0.0",
       "_model_name": "LayoutModel",
       "_view_count": null,
       "_view_module": "@jupyter-widgets/base",
       "_view_module_version": "2.0.0",
       "_view_name": "LayoutView",
       "align_content": null,
       "align_items": null,
       "align_self": null,
       "border_bottom": null,
       "border_left": null,
       "border_right": null,
       "border_top": null,
       "bottom": null,
       "display": null,
       "flex": null,
       "flex_flow": null,
       "grid_area": null,
       "grid_auto_columns": null,
       "grid_auto_flow": null,
       "grid_auto_rows": null,
       "grid_column": null,
       "grid_gap": null,
       "grid_row": null,
       "grid_template_areas": null,
       "grid_template_columns": null,
       "grid_template_rows": null,
       "height": null,
       "justify_content": null,
       "justify_items": null,
       "left": null,
       "margin": null,
       "max_height": null,
       "max_width": null,
       "min_height": null,
       "min_width": null,
       "object_fit": null,
       "object_position": null,
       "order": null,
       "overflow": null,
       "padding": null,
       "right": null,
       "top": null,
       "visibility": null,
       "width": null
      }
     },
     "8aa5c27320714ac2956b51d10a7f4a60": {
      "model_module": "@jupyter-widgets/base",
      "model_module_version": "2.0.0",
      "model_name": "LayoutModel",
      "state": {
       "_model_module": "@jupyter-widgets/base",
       "_model_module_version": "2.0.0",
       "_model_name": "LayoutModel",
       "_view_count": null,
       "_view_module": "@jupyter-widgets/base",
       "_view_module_version": "2.0.0",
       "_view_name": "LayoutView",
       "align_content": null,
       "align_items": null,
       "align_self": null,
       "border_bottom": null,
       "border_left": null,
       "border_right": null,
       "border_top": null,
       "bottom": null,
       "display": null,
       "flex": null,
       "flex_flow": null,
       "grid_area": null,
       "grid_auto_columns": null,
       "grid_auto_flow": null,
       "grid_auto_rows": null,
       "grid_column": null,
       "grid_gap": null,
       "grid_row": null,
       "grid_template_areas": null,
       "grid_template_columns": null,
       "grid_template_rows": null,
       "height": null,
       "justify_content": null,
       "justify_items": null,
       "left": null,
       "margin": null,
       "max_height": null,
       "max_width": null,
       "min_height": null,
       "min_width": null,
       "object_fit": null,
       "object_position": null,
       "order": null,
       "overflow": null,
       "padding": null,
       "right": null,
       "top": null,
       "visibility": null,
       "width": null
      }
     },
     "9e9098099ea9430eab7bd83ebbc7104d": {
      "model_module": "@jupyter-widgets/controls",
      "model_module_version": "2.0.0",
      "model_name": "HTMLModel",
      "state": {
       "_dom_classes": [],
       "_model_module": "@jupyter-widgets/controls",
       "_model_module_version": "2.0.0",
       "_model_name": "HTMLModel",
       "_view_count": null,
       "_view_module": "@jupyter-widgets/controls",
       "_view_module_version": "2.0.0",
       "_view_name": "HTMLView",
       "description": "",
       "description_allow_html": false,
       "layout": "IPY_MODEL_8aa5c27320714ac2956b51d10a7f4a60",
       "placeholder": "​",
       "style": "IPY_MODEL_b956517e747943baa2b329e60df15a6e",
       "tabbable": null,
       "tooltip": null,
       "value": "Batches: 100%"
      }
     },
     "a51b9b15100648ea8c271fe240da9849": {
      "model_module": "@jupyter-widgets/controls",
      "model_module_version": "2.0.0",
      "model_name": "HTMLModel",
      "state": {
       "_dom_classes": [],
       "_model_module": "@jupyter-widgets/controls",
       "_model_module_version": "2.0.0",
       "_model_name": "HTMLModel",
       "_view_count": null,
       "_view_module": "@jupyter-widgets/controls",
       "_view_module_version": "2.0.0",
       "_view_name": "HTMLView",
       "description": "",
       "description_allow_html": false,
       "layout": "IPY_MODEL_8363d4b6b892456580320630590ff0bd",
       "placeholder": "​",
       "style": "IPY_MODEL_25491a8dea654221a80016a8e9708be5",
       "tabbable": null,
       "tooltip": null,
       "value": " 1/1 [00:00&lt;00:00,  7.98it/s]"
      }
     },
     "b956517e747943baa2b329e60df15a6e": {
      "model_module": "@jupyter-widgets/controls",
      "model_module_version": "2.0.0",
      "model_name": "HTMLStyleModel",
      "state": {
       "_model_module": "@jupyter-widgets/controls",
       "_model_module_version": "2.0.0",
       "_model_name": "HTMLStyleModel",
       "_view_count": null,
       "_view_module": "@jupyter-widgets/base",
       "_view_module_version": "2.0.0",
       "_view_name": "StyleView",
       "background": null,
       "description_width": "",
       "font_size": null,
       "text_color": null
      }
     },
     "c2c7040c05fc4cdd8b65b0dad5f350d7": {
      "model_module": "@jupyter-widgets/controls",
      "model_module_version": "2.0.0",
      "model_name": "ProgressStyleModel",
      "state": {
       "_model_module": "@jupyter-widgets/controls",
       "_model_module_version": "2.0.0",
       "_model_name": "ProgressStyleModel",
       "_view_count": null,
       "_view_module": "@jupyter-widgets/base",
       "_view_module_version": "2.0.0",
       "_view_name": "StyleView",
       "bar_color": null,
       "description_width": ""
      }
     },
     "c41f5a89c25d483baa5374c3dc636ed9": {
      "model_module": "@jupyter-widgets/controls",
      "model_module_version": "2.0.0",
      "model_name": "ProgressStyleModel",
      "state": {
       "_model_module": "@jupyter-widgets/controls",
       "_model_module_version": "2.0.0",
       "_model_name": "ProgressStyleModel",
       "_view_count": null,
       "_view_module": "@jupyter-widgets/base",
       "_view_module_version": "2.0.0",
       "_view_name": "StyleView",
       "bar_color": null,
       "description_width": ""
      }
     },
     "c6fecfbdc44f41389a1d06811159e29f": {
      "model_module": "@jupyter-widgets/controls",
      "model_module_version": "2.0.0",
      "model_name": "HBoxModel",
      "state": {
       "_dom_classes": [],
       "_model_module": "@jupyter-widgets/controls",
       "_model_module_version": "2.0.0",
       "_model_name": "HBoxModel",
       "_view_count": null,
       "_view_module": "@jupyter-widgets/controls",
       "_view_module_version": "2.0.0",
       "_view_name": "HBoxView",
       "box_style": "",
       "children": [
        "IPY_MODEL_9e9098099ea9430eab7bd83ebbc7104d",
        "IPY_MODEL_2ef6b3e49737470c80442181d928e1bd",
        "IPY_MODEL_fdded109146d49c68d99935bdb6870c4"
       ],
       "layout": "IPY_MODEL_810907ed0fa347f88398860f53f8f592",
       "tabbable": null,
       "tooltip": null
      }
     },
     "c9473b7291824fc8837b6b17a2d7dfed": {
      "model_module": "@jupyter-widgets/base",
      "model_module_version": "2.0.0",
      "model_name": "LayoutModel",
      "state": {
       "_model_module": "@jupyter-widgets/base",
       "_model_module_version": "2.0.0",
       "_model_name": "LayoutModel",
       "_view_count": null,
       "_view_module": "@jupyter-widgets/base",
       "_view_module_version": "2.0.0",
       "_view_name": "LayoutView",
       "align_content": null,
       "align_items": null,
       "align_self": null,
       "border_bottom": null,
       "border_left": null,
       "border_right": null,
       "border_top": null,
       "bottom": null,
       "display": null,
       "flex": null,
       "flex_flow": null,
       "grid_area": null,
       "grid_auto_columns": null,
       "grid_auto_flow": null,
       "grid_auto_rows": null,
       "grid_column": null,
       "grid_gap": null,
       "grid_row": null,
       "grid_template_areas": null,
       "grid_template_columns": null,
       "grid_template_rows": null,
       "height": null,
       "justify_content": null,
       "justify_items": null,
       "left": null,
       "margin": null,
       "max_height": null,
       "max_width": null,
       "min_height": null,
       "min_width": null,
       "object_fit": null,
       "object_position": null,
       "order": null,
       "overflow": null,
       "padding": null,
       "right": null,
       "top": null,
       "visibility": null,
       "width": null
      }
     },
     "d18374addbef4596aad70294a345c415": {
      "model_module": "@jupyter-widgets/controls",
      "model_module_version": "2.0.0",
      "model_name": "HTMLStyleModel",
      "state": {
       "_model_module": "@jupyter-widgets/controls",
       "_model_module_version": "2.0.0",
       "_model_name": "HTMLStyleModel",
       "_view_count": null,
       "_view_module": "@jupyter-widgets/base",
       "_view_module_version": "2.0.0",
       "_view_name": "StyleView",
       "background": null,
       "description_width": "",
       "font_size": null,
       "text_color": null
      }
     },
     "f5eda93f9c314b59997b1d26522b6ccc": {
      "model_module": "@jupyter-widgets/base",
      "model_module_version": "2.0.0",
      "model_name": "LayoutModel",
      "state": {
       "_model_module": "@jupyter-widgets/base",
       "_model_module_version": "2.0.0",
       "_model_name": "LayoutModel",
       "_view_count": null,
       "_view_module": "@jupyter-widgets/base",
       "_view_module_version": "2.0.0",
       "_view_name": "LayoutView",
       "align_content": null,
       "align_items": null,
       "align_self": null,
       "border_bottom": null,
       "border_left": null,
       "border_right": null,
       "border_top": null,
       "bottom": null,
       "display": null,
       "flex": null,
       "flex_flow": null,
       "grid_area": null,
       "grid_auto_columns": null,
       "grid_auto_flow": null,
       "grid_auto_rows": null,
       "grid_column": null,
       "grid_gap": null,
       "grid_row": null,
       "grid_template_areas": null,
       "grid_template_columns": null,
       "grid_template_rows": null,
       "height": null,
       "justify_content": null,
       "justify_items": null,
       "left": null,
       "margin": null,
       "max_height": null,
       "max_width": null,
       "min_height": null,
       "min_width": null,
       "object_fit": null,
       "object_position": null,
       "order": null,
       "overflow": null,
       "padding": null,
       "right": null,
       "top": null,
       "visibility": null,
       "width": null
      }
     },
     "fdded109146d49c68d99935bdb6870c4": {
      "model_module": "@jupyter-widgets/controls",
      "model_module_version": "2.0.0",
      "model_name": "HTMLModel",
      "state": {
       "_dom_classes": [],
       "_model_module": "@jupyter-widgets/controls",
       "_model_module_version": "2.0.0",
       "_model_name": "HTMLModel",
       "_view_count": null,
       "_view_module": "@jupyter-widgets/controls",
       "_view_module_version": "2.0.0",
       "_view_name": "HTMLView",
       "description": "",
       "description_allow_html": false,
       "layout": "IPY_MODEL_79ab1f936b3d4bb381d39b731ee36aa2",
       "placeholder": "​",
       "style": "IPY_MODEL_d18374addbef4596aad70294a345c415",
       "tabbable": null,
       "tooltip": null,
       "value": " 1/1 [00:00&lt;00:00,  2.93it/s]"
      }
     }
    },
    "version_major": 2,
    "version_minor": 0
   }
  }
 },
 "nbformat": 4,
 "nbformat_minor": 5
}
