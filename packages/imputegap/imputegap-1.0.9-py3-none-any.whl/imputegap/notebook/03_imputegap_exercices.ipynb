{
 "cells": [
  {
   "metadata": {},
   "cell_type": "markdown",
   "source": [
    "\n",
    "<div style=\"text-align: center;\">\n",
    "  <img width=\"420\" height=\"420\" src=\"https://www.naterscreations.com/imputegap/logo_imputegab.png\" />\n",
    "</div>\n",
    "\n",
    "<h1>ImputeGAP: Exercices</h1>"
   ],
   "id": "a26b1437e35a1e75"
  },
  {
   "metadata": {},
   "cell_type": "markdown",
   "source": [
    "ImputeGAP is an end-to-end imputation library that implements the full imputation pipeline\n",
    "from data collection to explaining the imputation results and their impact. It encompasses\n",
    "two interleaving units: repair and explore. The two units can be accessed via a standardized\n",
    "pipeline defined by configuration files or independent instantiation. Please, install the library and the jupyter requirements:"
   ],
   "id": "e06f4771d0cd218c"
  },
  {
   "metadata": {},
   "cell_type": "code",
   "source": "%pip install imputegap==1.0.8",
   "id": "dd7cd1576dc2feec",
   "outputs": [],
   "execution_count": null
  },
  {
   "metadata": {},
   "cell_type": "code",
   "source": [
    "%pip install -U ipywidgets\n",
    "%matplotlib inline"
   ],
   "id": "93e8d7d9df00a2d9",
   "outputs": [],
   "execution_count": null
  },
  {
   "metadata": {},
   "cell_type": "markdown",
   "source": "<br>\n",
   "id": "be822a34f57a3860"
  },
  {
   "metadata": {},
   "cell_type": "markdown",
   "source": "<h1>Help",
   "id": "3f81aadc455edcc4"
  },
  {
   "metadata": {},
   "cell_type": "markdown",
   "source": "You can find all information about the library on the official document : https://imputegap.readthedocs.io/",
   "id": "8077e4ac1e2c2e1d"
  },
  {
   "metadata": {},
   "cell_type": "markdown",
   "source": "*All the assignment can be answered by using the ImputeGAP library.*",
   "id": "5c61d946b0bc59ff"
  },
  {
   "metadata": {},
   "cell_type": "markdown",
   "source": "<h1>Exercice 1: Load</h1>",
   "id": "3f317b360cf75694"
  },
  {
   "metadata": {},
   "cell_type": "markdown",
   "source": "1) Load the in-lib \"chlorine\" dataset, which contains data from chlorine residual management efforts to safeguard water distribution system security.",
   "id": "bf31e80d93c50219"
  },
  {
   "metadata": {},
   "cell_type": "code",
   "source": [
    "from imputegap.recovery.manager import TimeSeries\n",
    "from imputegap.tools import utils\n",
    "\n",
    "# initialize the time series object\n",
    "\n",
    "\n",
    "# load and normalize the dataset\n",
    "\n",
    "\n",
    "ts.data"
   ],
   "id": "7141533621611db5",
   "outputs": [],
   "execution_count": null
  },
  {
   "metadata": {},
   "cell_type": "markdown",
   "source": "<br>",
   "id": "6d6c9bd74a40a011"
  },
  {
   "metadata": {},
   "cell_type": "markdown",
   "source": " Display the first 10 time series, each containing only 10 values in the print.",
   "id": "56036c4640901867"
  },
  {
   "metadata": {},
   "cell_type": "code",
   "source": "",
   "id": "cfc669a39cb3b6eb",
   "outputs": [],
   "execution_count": null
  },
  {
   "metadata": {},
   "cell_type": "markdown",
   "source": "<br>",
   "id": "d206338561b4f030"
  },
  {
   "metadata": {},
   "cell_type": "markdown",
   "source": "3) Plot the first 5 time series in their entirety.",
   "id": "bfe18690542da6f4"
  },
  {
   "metadata": {},
   "cell_type": "markdown",
   "source": "**ALL PLOTS ARE STORED IN \"./imputegap_assets/*\". To show the plot in the jupyter, add the following command:**",
   "id": "9e83715feb2092e5"
  },
  {
   "metadata": {},
   "cell_type": "code",
   "source": [
    "%matplotlib inline\n",
    "ts.plots.show()"
   ],
   "id": "76077bd234d65888",
   "outputs": [],
   "execution_count": null
  },
  {
   "metadata": {},
   "cell_type": "code",
   "source": [
    "# plot\n",
    "\n",
    "\n",
    "%matplotlib inline\n",
    "ts.plots.show()"
   ],
   "id": "e9a1001c10a304e5",
   "outputs": [],
   "execution_count": null
  },
  {
   "metadata": {},
   "cell_type": "markdown",
   "source": "<br>",
   "id": "660445a74ff2fe5d"
  },
  {
   "metadata": {},
   "cell_type": "markdown",
   "source": "4) Although the report is insightful, we want to focus the analysis on the first 4 seasonal patterns. Create a new object named **chlorine_ts** containing only the relevant values of the time series. Then, normalize the data using the min-max scaling method. Finally, plot the first 9 time series from this new dataset. <hint: the seasonal patterns are the curve shape of the data (see the plot).>",
   "id": "687a1b1a376eae57"
  },
  {
   "metadata": {},
   "cell_type": "code",
   "source": [
    "# load and normalize the dataset\n",
    "\n"
   ],
   "id": "259104ccaec6e2b0",
   "outputs": [],
   "execution_count": null
  },
  {
   "metadata": {},
   "cell_type": "markdown",
   "source": "<br>",
   "id": "d9e594558fc54fc7"
  },
  {
   "metadata": {},
   "cell_type": "markdown",
   "source": "5) What is the shape of the time series.",
   "id": "92445bd46dfdb3ec"
  },
  {
   "metadata": {},
   "cell_type": "markdown",
   "source": "*your answer*\n",
   "id": "873b53a68c7d938b"
  },
  {
   "metadata": {},
   "cell_type": "markdown",
   "source": "<br>",
   "id": "916698aedad25783"
  },
  {
   "metadata": {},
   "cell_type": "markdown",
   "source": "<h1>Exercice 2: Contamination</h1>",
   "id": "393bf900e35a9d3d"
  },
  {
   "metadata": {},
   "cell_type": "markdown",
   "source": "1) Use again the **chlorine_ts** object and simulate sensor dysfunction by contaminating its values. Specifically, simulate a scenario where all sensors located in Zurich < representing the top 10% of the series in the matrix > are disconnected between hours 300 and 410 < time series values >. Store the resulting matrix in a new variable named **chlorine_m**.",
   "id": "9561709b1107a8e7"
  },
  {
   "metadata": {},
   "cell_type": "markdown",
   "source": "**hint : the offset must be equal to 0.5456 (54,56%), the contamination is set by default in the top of the matrix**",
   "id": "75676f136c87cca5"
  },
  {
   "metadata": {},
   "cell_type": "code",
   "source": "#contaminate",
   "id": "7e6398fbc14a0226",
   "outputs": [],
   "execution_count": null
  },
  {
   "metadata": {},
   "cell_type": "markdown",
   "source": "<br>",
   "id": "8b0f5b51ebab055a"
  },
  {
   "metadata": {},
   "cell_type": "markdown",
   "source": "2.  Plot the result, ensuring that the missing values are visibly represented. Use subplots to display the 5 time series.",
   "id": "500d9f4de383e21a"
  },
  {
   "metadata": {},
   "cell_type": "code",
   "source": "# plot",
   "id": "cb56671180859a14",
   "outputs": [],
   "execution_count": null
  },
  {
   "metadata": {},
   "cell_type": "markdown",
   "source": "<br>",
   "id": "a49e3617d4bdd031"
  },
  {
   "metadata": {},
   "cell_type": "markdown",
   "source": "<h1>Exercice 3: Imputation</h1>",
   "id": "28b912eebae84c0d"
  },
  {
   "metadata": {},
   "cell_type": "markdown",
   "source": "1) In this section, we aim to repair the values affected during the contamination. First, initialize an imputation object from the MatrixCompletion family, `IterativeSVD` and assign it to a variable named `chlorine_imputer`. Then, perform the imputation to repair the dataset.",
   "id": "99e2405924a27f53"
  },
  {
   "metadata": {},
   "cell_type": "code",
   "source": "# impute",
   "id": "ee24ac79961894af",
   "outputs": [],
   "execution_count": null
  },
  {
   "metadata": {},
   "cell_type": "markdown",
   "source": "<br>",
   "id": "36af7855d49baf5b"
  },
  {
   "metadata": {},
   "cell_type": "markdown",
   "source": "2) Evaluate the quality of the imputation by computing the score between the original `chlorine_ts` dataset and the imputed dataset. Display the RMSE (Root Mean Squared Error) value below.",
   "id": "6837b1f83e375d2"
  },
  {
   "metadata": {},
   "cell_type": "code",
   "source": [
    "#score\n",
    "\n",
    "#print\n"
   ],
   "id": "ce30e120949200ed",
   "outputs": [],
   "execution_count": null
  },
  {
   "metadata": {},
   "cell_type": "markdown",
   "source": "*your answer*",
   "id": "9fb11fab34816367"
  },
  {
   "metadata": {},
   "cell_type": "markdown",
   "source": "<br>",
   "id": "bba745f9f6aaa69f"
  },
  {
   "metadata": {},
   "cell_type": "markdown",
   "source": "3) Plot the results of the imputation using subplots. Each plot should display the imputed series, the contaminated series, and the original ground truth for comparison.",
   "id": "9c72ea78df19a3d4"
  },
  {
   "metadata": {},
   "cell_type": "code",
   "source": [
    "# plot\n",
    "\n",
    "# .show()"
   ],
   "id": "f33383345ea320c2",
   "outputs": [],
   "execution_count": null
  },
  {
   "metadata": {},
   "cell_type": "markdown",
   "source": "<br>",
   "id": "b0e7cdebc7064ed8"
  },
  {
   "metadata": {},
   "cell_type": "markdown",
   "source": "4) Improve the imputation by applying automatic hyperparameter tuning using the `ray_tune` optimizer to find the optimal parameters for `IterativeSVD`. Report the new RMSE after optimization. Then, replot the results with the optimized imputation, showing the contaminated data, the imputed values, and the original ground truth for comparison. <hint: you need a create dictionary to set the optimizer>",
   "id": "96712c62670c4578"
  },
  {
   "metadata": {},
   "cell_type": "code",
   "source": [
    "# impute with optimizer\n",
    "\n",
    "\n",
    "# print\n",
    "\n",
    "\n",
    "# plot\n"
   ],
   "id": "b62e2d248867c688",
   "outputs": [],
   "execution_count": null
  },
  {
   "metadata": {},
   "cell_type": "markdown",
   "source": "<br>",
   "id": "627078c1349c9420"
  },
  {
   "metadata": {},
   "cell_type": "markdown",
   "source": "New RMSE : *your answer*",
   "id": "bdc40252c61cd95a"
  },
  {
   "metadata": {},
   "cell_type": "markdown",
   "source": "<br>",
   "id": "8a2168f81459ad9c"
  },
  {
   "metadata": {},
   "cell_type": "markdown",
   "source": "<h1>Exercice 4: Benchmark</h1>",
   "id": "539e94216a01cf3e"
  },
  {
   "metadata": {},
   "cell_type": "raw",
   "source": [
    "Use the Benchmark Object to compare some algorithms with some datasets. Launch a deep analysis with\n",
    "\n",
    "    a) Algorithms : \"CDRec\", \"KNNImputer\"\n",
    "\n",
    "    b) Dataset : \"chlorine\", \"drift\"\n",
    "\n",
    "    c) Pattern : missing completely at random\n",
    "\n",
    "    d) Rates : 0.05, 0.1, 0.2, 0.4, 0.6, 0.8\n",
    "\n",
    "    e) Metrics : \"RMSE\", \"MAE\", \"MI\"\n",
    "\n",
    "    f) Optimizer = Default\n"
   ],
   "id": "e07b6f03d9e09ef7"
  },
  {
   "metadata": {},
   "cell_type": "code",
   "source": [
    "from imputegap.recovery.benchmark import Benchmark\n",
    "\n",
    "# set the analysis"
   ],
   "id": "40c5ecbeb8926076",
   "outputs": [],
   "execution_count": null
  },
  {
   "metadata": {},
   "cell_type": "markdown",
   "source": "<br>",
   "id": "2ecfa6cbf08ba0b8"
  },
  {
   "metadata": {},
   "cell_type": "markdown",
   "source": "2) What is the best algorithm and why ?",
   "id": "5113256dae6a04a"
  },
  {
   "metadata": {},
   "cell_type": "markdown",
   "source": "*your answer*",
   "id": "e50518ab36a9f761"
  },
  {
   "metadata": {},
   "cell_type": "markdown",
   "source": "3) Which dataset is best suited for the `SoftImpute` algorithm, and why?\n",
   "id": "e4c78d41999676a5"
  },
  {
   "metadata": {},
   "cell_type": "code",
   "outputs": [],
   "execution_count": null,
   "source": "# set analysis",
   "id": "4040f4c54dc7f107"
  },
  {
   "metadata": {},
   "cell_type": "markdown",
   "source": "*your answer*",
   "id": "56d804886b585ee3"
  },
  {
   "metadata": {},
   "cell_type": "markdown",
   "source": "<br>",
   "id": "d7358bc661b14b64"
  },
  {
   "metadata": {},
   "cell_type": "markdown",
   "source": "<h1>Exercice 5: Explainer</h1>",
   "id": "c0cd138b482bb763"
  },
  {
   "metadata": {},
   "cell_type": "markdown",
   "source": "We will launch an explainer analysis to understand the influence of dataset features on the imputation process. This will help identify which features contribute most to the repair quality.",
   "id": "92e93499f154bc71"
  },
  {
   "metadata": {},
   "cell_type": "markdown",
   "source": "1)  Launch an explainer analysis using the `Explainer` object (assigned to the variable `exp_chlorine`) on the previously used dataset (`chlorine_ts.data`). Use the `pycatch-22` feature extractor, the `mcar` missing data pattern, and the `IterativeSVD` imputation method to understand the relationship between features and imputation quality.",
   "id": "786c34609d3b0edd"
  },
  {
   "metadata": {},
   "cell_type": "code",
   "source": [
    "from imputegap.recovery.explainer import Explainer\n",
    "\n",
    "# set object\n",
    "\n",
    "\n",
    "# configure the explanation"
   ],
   "id": "61ee37eaa7f1c84b",
   "outputs": [],
   "execution_count": null
  },
  {
   "metadata": {},
   "cell_type": "markdown",
   "source": "2) print the result with the function of the Explainer Object. What is the top feature, can you explain why ?",
   "id": "3f2e566f4138aa1"
  },
  {
   "metadata": {},
   "cell_type": "code",
   "source": "# print the impact of each feature",
   "id": "c2e2afb569dd2556",
   "outputs": [],
   "execution_count": null
  },
  {
   "metadata": {},
   "cell_type": "markdown",
   "source": "*your answer*",
   "id": "9ce24fc33f956071"
  },
  {
   "metadata": {},
   "cell_type": "markdown",
   "source": "<br>",
   "id": "2a5fb5e7d25f6b81"
  },
  {
   "metadata": {},
   "cell_type": "markdown",
   "source": "<h1>Exercice 6: Downstream</h1>",
   "id": "6d006ac223b433f7"
  },
  {
   "metadata": {},
   "cell_type": "markdown",
   "source": "We will now analyze the impact of the imputation on downstream prediction tasks. The goal is to determine whether the repair process enhances the overall analytics and predictive performance of the dataset.",
   "id": "72f6089d3fe3d8b6"
  },
  {
   "metadata": {},
   "cell_type": "markdown",
   "source": [
    "A) Launch a downstream analysis on the `forecast-economy` dataset using the `CDRec` algorithm (from the MatrixCompletion family), and compare its performance with the `ZeroImpute` strategy (which fills missing values with zero).\n",
    "\n",
    "1) Create a time series object named `ts_downstream` and load the full `forecast-economy` dataset, applying `Z-Score` normalization.\n",
    "\n",
    "2) Contaminate the data using the `aligned` missingness pattern, with `80%` missing rate per time series.\n",
    "\n",
    "3) Initialize an imputation object named `imputer_downstream` using the `KNNImputer` method.\n",
    "\n",
    "4) Define a dictionary specifying the downstream task as `\"forecast\"`, the model as `\"hw-add\"`, and include the necessary comparators (`CDRec`, `ZeroImpute`).\n",
    "\n",
    "5) Print the evaluation results using `imputer_downstream.downstream_metrics`.\n"
   ],
   "id": "d177c28d67153cf"
  },
  {
   "metadata": {},
   "cell_type": "code",
   "source": [
    "from imputegap.recovery.imputation import Imputation\n",
    "from imputegap.recovery.manager import TimeSeries\n",
    "from imputegap.tools import utils\n",
    "\n",
    "# initialize the time series object\n",
    "\n",
    "# load and normalize the dataset\n",
    "\n",
    "# contaminate the time series\n",
    "\n",
    "# define and impute the contaminated series\n",
    "\n",
    "# compute and print the downstream results\n"
   ],
   "id": "b5fa020a07b825c2",
   "outputs": [],
   "execution_count": null
  },
  {
   "metadata": {},
   "cell_type": "markdown",
   "source": "What is the meaning of the result ?",
   "id": "f8afc2fa9ce58624"
  },
  {
   "metadata": {},
   "cell_type": "markdown",
   "source": "*your anwser*",
   "id": "3fc4f5b67293f8f5"
  },
  {
   "metadata": {},
   "cell_type": "markdown",
   "source": "<br>",
   "id": "1f779fcc27dcc0d2"
  },
  {
   "metadata": {},
   "cell_type": "markdown",
   "source": "<h1>Exercice Bonus: GIT</h1>",
   "id": "34f5daf20a0c6440"
  },
  {
   "metadata": {},
   "cell_type": "markdown",
   "source": [
    "If you like the library, please add a ⭐ in our GitHub repository.\n",
    "\n"
   ],
   "id": "2a1c9704477ab75a"
  }
 ],
 "metadata": {
  "kernelspec": {
   "display_name": "Python 3",
   "language": "python",
   "name": "python3"
  },
  "language_info": {
   "codemirror_mode": {
    "name": "ipython",
    "version": 2
   },
   "file_extension": ".py",
   "mimetype": "text/x-python",
   "name": "python",
   "nbconvert_exporter": "python",
   "pygments_lexer": "ipython2",
   "version": "2.7.6"
  }
 },
 "nbformat": 4,
 "nbformat_minor": 5
}
